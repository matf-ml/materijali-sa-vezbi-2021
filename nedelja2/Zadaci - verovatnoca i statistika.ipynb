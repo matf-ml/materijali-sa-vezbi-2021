{
 "cells": [
  {
   "cell_type": "code",
   "execution_count": 1,
   "metadata": {},
   "outputs": [],
   "source": [
    "import numpy as np"
   ]
  },
  {
   "cell_type": "markdown",
   "metadata": {},
   "source": [
    "1) U kutiji se nalazi 5 crvenih i 2 zelene loptice. Dve loptice su izvucene jedna za drugom. Koja je verovatnoca da je druga loptica crvena?"
   ]
  },
  {
   "cell_type": "code",
   "execution_count": null,
   "metadata": {},
   "outputs": [],
   "source": [
    "# {C, C, C, C, C, Z, Z}\n",
    "# \n",
    "# _, _"
   ]
  },
  {
   "cell_type": "code",
   "execution_count": null,
   "metadata": {},
   "outputs": [],
   "source": [
    "# Z, Z, C, C, C, C, C\n",
    "# Z, C, Z, C, C, C, C\n",
    "# _, _, _, _, _, _, _\n",
    "# (1,2), (1,3), (1,4), (1,5), (1,6), (1,7)\n",
    "#        (2,3), (2,4), (2,5), (2,6), (2,7)\n",
    "#               (3,4), (3,5), (3,6), (3,6)\n",
    "#                      (4,5), (4,6), (4,7)\n",
    "#                             (5,6), (5,7)\n",
    "#                                    (6,7)\n",
    "# 21 jednako verov ras\n",
    "# 1-6/21"
   ]
  },
  {
   "cell_type": "code",
   "execution_count": 2,
   "metadata": {},
   "outputs": [
    {
     "data": {
      "text/plain": [
       "0.7142857142857143"
      ]
     },
     "execution_count": 2,
     "metadata": {},
     "output_type": "execute_result"
    }
   ],
   "source": [
    "1 - 6/21"
   ]
  },
  {
   "cell_type": "code",
   "execution_count": 3,
   "metadata": {},
   "outputs": [],
   "source": [
    "import random"
   ]
  },
  {
   "cell_type": "code",
   "execution_count": 23,
   "metadata": {},
   "outputs": [
    {
     "name": "stdout",
     "output_type": "stream",
     "text": [
      "0.71446\n"
     ]
    }
   ],
   "source": [
    "n_total = 100000\n",
    "n_valid = 0\n",
    "\n",
    "for _ in range(n_total):\n",
    "    first = random.choice('ZZCCCCC')\n",
    "    if first == 'Z':\n",
    "        second = random.choice('ZCCCCC')\n",
    "    else:\n",
    "        second = random.choice('ZZCCCC')\n",
    "    \n",
    "    if second == 'C':\n",
    "        n_valid += 1\n",
    "        \n",
    "print(n_valid/n_total)"
   ]
  },
  {
   "cell_type": "code",
   "execution_count": 16,
   "metadata": {},
   "outputs": [
    {
     "name": "stdout",
     "output_type": "stream",
     "text": [
      "0.497\n"
     ]
    }
   ],
   "source": [
    "n_total = 1000\n",
    "n_valid = 0\n",
    "\n",
    "for _ in range(n_total):\n",
    "    if random.choice([1, 2]) == 1:\n",
    "        n_valid += 1\n",
    "        \n",
    "print(n_valid/n_total)"
   ]
  },
  {
   "cell_type": "markdown",
   "metadata": {},
   "source": [
    "2) Zamislimo da bacamo dve kockice. Ukoliko je suma dobijenih vrednosti 2, dobijamo 1000 dinara, u suprotnom gubimo 100 dinara. Koliku dobit ocekujemo u proseku?"
   ]
  },
  {
   "cell_type": "code",
   "execution_count": null,
   "metadata": {},
   "outputs": [],
   "source": [
    "# E = 1/36*1000 + 35/36*100"
   ]
  },
  {
   "cell_type": "code",
   "execution_count": null,
   "metadata": {},
   "outputs": [],
   "source": []
  },
  {
   "cell_type": "markdown",
   "metadata": {},
   "source": [
    "3) Neka je slučajna veličina $Y$ definisana za bacanje dveju kockica sa $Y(i, j)= max(i,j)$. Odrediti matematičko očekivanje i varijansu slučajne veličine $Y$."
   ]
  },
  {
   "cell_type": "code",
   "execution_count": null,
   "metadata": {},
   "outputs": [],
   "source": []
  },
  {
   "cell_type": "code",
   "execution_count": null,
   "metadata": {},
   "outputs": [],
   "source": []
  },
  {
   "cell_type": "markdown",
   "metadata": {},
   "source": [
    "4) Neka su $X$ i $Y$ dve nezavisne slucajne velicine za koje vazi $Var(X) = 3$ i $Var(Y) = 5$. Izracunati $Var(3X+4)$ i $Var(X+3Y)$. "
   ]
  },
  {
   "cell_type": "code",
   "execution_count": null,
   "metadata": {},
   "outputs": [],
   "source": []
  },
  {
   "cell_type": "code",
   "execution_count": null,
   "metadata": {},
   "outputs": [],
   "source": []
  },
  {
   "cell_type": "code",
   "execution_count": null,
   "metadata": {},
   "outputs": [],
   "source": []
  }
 ],
 "metadata": {
  "kernelspec": {
   "display_name": "Python 3",
   "language": "python",
   "name": "python3"
  },
  "language_info": {
   "codemirror_mode": {
    "name": "ipython",
    "version": 3
   },
   "file_extension": ".py",
   "mimetype": "text/x-python",
   "name": "python",
   "nbconvert_exporter": "python",
   "pygments_lexer": "ipython3",
   "version": "3.8.2"
  }
 },
 "nbformat": 4,
 "nbformat_minor": 4
}
