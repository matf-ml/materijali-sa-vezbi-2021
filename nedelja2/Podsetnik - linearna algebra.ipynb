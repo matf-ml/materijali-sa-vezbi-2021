{
 "cells": [
  {
   "cell_type": "markdown",
   "metadata": {},
   "source": [
    "# Podsetnik: Linearna algebra "
   ]
  },
  {
   "cell_type": "markdown",
   "metadata": {},
   "source": [
    "### Vektorski prostor"
   ]
  },
  {
   "cell_type": "markdown",
   "metadata": {},
   "source": [
    "Vektorski prostor $(V, +, \\cdot)$ je algebarska struktura sa jednom binarnom operacijom, u oznaci $+$, i jednom spoljnom $K$-operacijom, u oznaci $\\cdot$, nad skupom skalara $K$ za koju vazi:\n",
    "- zatvorenost u odnosu na sabiranje tj. ako $u,v \\in V \\text{tada je i } u+v \\in V$\n",
    "- zatvorenost u odnosu na mnozenje skalarom tj. ako $u \\in V$ i $\\alpha \\in K$, tada $\\alpha \\cdot v \\in V$"
   ]
  },
  {
   "cell_type": "markdown",
   "metadata": {},
   "source": [
    "Neki primeri vektorskih prostora su: \n",
    "* prostor geometrijskih vektora\n",
    "* prostor polinoma u odnosu na sabiranje i mnozenje skalarom\n",
    "* prostor svih kvadratnih matrica u odnosu na sabiranje i mnozenje skalarom\n",
    "* prostor svih uredjenih parova $(x_1, x_2, \\ldots, x_n)$ u odnosu na sabiranje i mnozenje skalarom. "
   ]
  },
  {
   "cell_type": "markdown",
   "metadata": {},
   "source": [
    "Vektori $v_1,v_2,v_3,\\ldots,v_n$ su **linearno zavisni** ako postoje skalari $\\alpha_1, \\alpha_2, \\alpha_2, ..., \\alpha_k$ od kojih je bar jedan razlicit od nule takvi da je $\\alpha_1v_1 + \\alpha_2v_2 + \\ldots + \\alpha_kv_k = 0$. "
   ]
  },
  {
   "cell_type": "markdown",
   "metadata": {},
   "source": [
    "Vektori $v_1, v_2, v_3, \\ldots , v_n$ su **linearno nezavisni** ako iz $\\alpha_1v_1 + \\alpha_2v_2 + \\ldots + \\alpha_kv_k = 0$ sledi $\\alpha_1 = \\alpha_2 = \\alpha_2 = \\ldots = \\alpha_k = 0$."
   ]
  },
  {
   "cell_type": "code",
   "execution_count": null,
   "metadata": {},
   "outputs": [],
   "source": []
  },
  {
   "cell_type": "markdown",
   "metadata": {},
   "source": [
    "### Sopstveni vektori"
   ]
  },
  {
   "cell_type": "markdown",
   "metadata": {},
   "source": [
    "Za matricu $A \\in R^{n \\times n}$, vektor $x \\in R^{n}, x \\neq 0$ je (desni) **sopstveni vektor** ukoliko vazi $Ax=\\lambda x$ za neko $\\lambda \\in R$. Vrednost $\\lambda$ se naziva **sopstvena vrednost** matrice $A$ koja odgovara sopstvenom vektoru $x$.\n",
    "\n",
    "Smisao sopstvenih vektora mozemo objasniti graficki: to su vektori koji u transformaciji odredjenoj matricom $A$ ne menjaju svoj pravac; mogu se izduziti, skratiti ili promeniti smer, ali uvek zadrzavaju pravac. Na slici ispod, ljubicasti i plavi vektor predstavljaju sopstvene vektore. <img src='./assets/eigenvectors.gif'> "
   ]
  },
  {
   "cell_type": "markdown",
   "metadata": {},
   "source": [
    "Sopstvene vrednosti i njima odgovarajuci sopstveni vektori se mogu odrediti pomocu nula karakteristicnog polinoma matrice $A$ tj. resavanjem matricne jednacine $det(A-\\lambda I)=0$"
   ]
  },
  {
   "cell_type": "markdown",
   "metadata": {},
   "source": [
    "#### Primer. \n",
    "\n",
    "Za datu matricu\n",
    "$A =\\begin{bmatrix} \n",
    "2 & 1 \\\\\n",
    "1 & 2\n",
    "\\end{bmatrix}$ sopstvene vektore mozemo odrediti resavajuci jednacinu:\n",
    "<br> \n",
    "\n",
    "$ det (A-\\lambda I) = \\begin{vmatrix}\n",
    "2-\\lambda  & 1 \\\\\n",
    "1 & 2-\\lambda\n",
    "\\end{vmatrix} = (2-\\lambda)^2 -1 = \\lambda^2 - 4\\lambda +3$ \n",
    "\n",
    "Resenja ove jednacine su $\\lambda_1 = 1$ i $\\lambda_2 = 3$.\n",
    "\n",
    "Sopstvenoj vrednosti $\\lambda_1 = 1$ odgovara sopstveni vektor $x_1 = \\begin{bmatrix} 1 \\\\ -1 \\end{bmatrix}$ dobijen resavanjem sistema $\\begin{bmatrix} \n",
    "1 & 1 \\\\\n",
    "1 & 1\n",
    "\\end{bmatrix} \\cdot \\begin{bmatrix} v_1 \\\\ v_2 \\end{bmatrix} = \\begin{bmatrix} 0 \\\\ 0 \\end{bmatrix} $.\n",
    "\n",
    "Sopstvenoj vrednost $\\lambda_2 = 3$ odgovara sopstveni vektor $x_2 = \\begin{bmatrix} 1 \\\\ 1 \\end{bmatrix}$ dobijen resavanjem sistema $\\begin{bmatrix} \n",
    "-1 & 1 \\\\\n",
    "1 & -1\n",
    "\\end{bmatrix} \\cdot \\begin{bmatrix} v_1 \\\\ v_2 \\end{bmatrix} = \\begin{bmatrix} 0 \\\\ 0 \\end{bmatrix} $.\n",
    "\n"
   ]
  },
  {
   "cell_type": "markdown",
   "metadata": {},
   "source": [
    "U programskom jeziku Python sopstvene vrednosti i odgovarajuce (normirane) sopstvene vektore mozemo dobiti koriscenjem funkcije `eig` paketa `linalg` biblioteke `numpy`. "
   ]
  },
  {
   "cell_type": "code",
   "execution_count": 6,
   "metadata": {},
   "outputs": [],
   "source": [
    "import numpy as np"
   ]
  },
  {
   "cell_type": "code",
   "execution_count": 7,
   "metadata": {},
   "outputs": [],
   "source": [
    "A = np.array([[2, 1], [1, 2]])"
   ]
  },
  {
   "cell_type": "code",
   "execution_count": 8,
   "metadata": {},
   "outputs": [],
   "source": [
    "values, vectors = np.linalg.eig(A, )"
   ]
  },
  {
   "cell_type": "code",
   "execution_count": 9,
   "metadata": {},
   "outputs": [
    {
     "name": "stdout",
     "output_type": "stream",
     "text": [
      "Sopstvene vrednosti matrice A su:  [3. 1.]\n"
     ]
    }
   ],
   "source": [
    "print('Sopstvene vrednosti matrice A su: ', values)"
   ]
  },
  {
   "cell_type": "code",
   "execution_count": 10,
   "metadata": {},
   "outputs": [
    {
     "name": "stdout",
     "output_type": "stream",
     "text": [
      "Normirani sopstveni vektori matrice A su kolone rezultujuce matrice:  [0.70710678 0.70710678] [-0.70710678  0.70710678]\n"
     ]
    }
   ],
   "source": [
    "print('Normirani sopstveni vektori matrice A su kolone rezultujuce matrice: ', vectors[:, 0], vectors[:, 1])"
   ]
  },
  {
   "cell_type": "code",
   "execution_count": null,
   "metadata": {},
   "outputs": [],
   "source": []
  },
  {
   "cell_type": "markdown",
   "metadata": {},
   "source": [
    "Sopstveni vektori imaju mnoga zanimljiva matematicka svojstva."
   ]
  },
  {
   "cell_type": "markdown",
   "metadata": {},
   "source": [
    "**Teorema.**  "
   ]
  },
  {
   "cell_type": "markdown",
   "metadata": {},
   "source": [
    "Sopstveni vektori koji odgovaraju razlicitim sopstvenim vrednostima su linearno nezavisni. "
   ]
  },
  {
   "cell_type": "code",
   "execution_count": null,
   "metadata": {},
   "outputs": [],
   "source": []
  },
  {
   "cell_type": "markdown",
   "metadata": {},
   "source": [
    "**Teorema.** "
   ]
  },
  {
   "cell_type": "markdown",
   "metadata": {},
   "source": [
    "Neka je $V_i$ skup svih sopstvenih vektora $x$ koji odgovaraju sopstvenoj vrednosti $\\lambda_i$ tj. za koje vazi $Ax=\\lambda_ix$. Ovakav skup obrazuje sopstveni podprostor."
   ]
  },
  {
   "cell_type": "code",
   "execution_count": null,
   "metadata": {},
   "outputs": [],
   "source": []
  },
  {
   "cell_type": "markdown",
   "metadata": {},
   "source": [
    "**Teorema.** "
   ]
  },
  {
   "cell_type": "markdown",
   "metadata": {},
   "source": [
    "Ako je zbir dimenzija podprostora koji odgovaraju sopstvenim vrednostima matrice $A$ jednak dimenziji matrice $A$, tada se $A$ moze svesti na dijagonalnu matricu oblika \n",
    "$ D = \\begin{bmatrix} \n",
    "\\lambda_1 & & & & \\\\\n",
    "& ... & & & \\\\\n",
    "& & \\lambda_2 & & \\\\\n",
    "& & & ... &  \\\\\n",
    "& & & & \\lambda_n \\\\\n",
    "\\end{bmatrix}$ tj. vazi $AX = DX$ gde je $X$ matrica svih sopstvenih vektora matrice $A$ (po kolonama).  "
   ]
  },
  {
   "cell_type": "code",
   "execution_count": null,
   "metadata": {},
   "outputs": [],
   "source": []
  },
  {
   "cell_type": "markdown",
   "metadata": {},
   "source": [
    "Iz prethodnog sledi da je $D = X^{-1}AX$ tj. da je $X$ matrica transformacija. "
   ]
  },
  {
   "cell_type": "code",
   "execution_count": null,
   "metadata": {},
   "outputs": [],
   "source": []
  },
  {
   "cell_type": "code",
   "execution_count": null,
   "metadata": {},
   "outputs": [],
   "source": []
  },
  {
   "cell_type": "markdown",
   "metadata": {},
   "source": [
    "Matrica $A$ je **ortogonalna** ako vazi $AA^T = I$ tj. $A^{-1} = A^T$."
   ]
  },
  {
   "cell_type": "markdown",
   "metadata": {},
   "source": [
    "**Teorema.** "
   ]
  },
  {
   "cell_type": "markdown",
   "metadata": {},
   "source": [
    "Ako je $A$ realna simetricna matrica, matrica njenih sopstvenih vektora je ortogonalna. "
   ]
  },
  {
   "cell_type": "code",
   "execution_count": null,
   "metadata": {},
   "outputs": [],
   "source": []
  },
  {
   "cell_type": "markdown",
   "metadata": {},
   "source": [
    "### Definitnost matrica"
   ]
  },
  {
   "cell_type": "markdown",
   "metadata": {},
   "source": [
    "Za kvadratnu matricu $A \\in R^{n \\times n}$ kazemo da je **pozitivno semidefinitna** ako vazi $x^TAx\\geq0$ za sve $x \\in R^n$."
   ]
  },
  {
   "cell_type": "markdown",
   "metadata": {},
   "source": [
    "#### Primer. \n",
    "\n",
    "Matrica $A =\\begin{bmatrix} \n",
    "1 & 1 \\\\\n",
    "1 & 1\n",
    "\\end{bmatrix}$ je pozitivno semidefinitna jer za proizvoljno $\\begin{bmatrix} x_1 \\\\ x_2 \\end{bmatrix}$ vazi: \n",
    "$ \\begin{bmatrix} x_1 x_2 \\end{bmatrix} \\cdot \\begin{bmatrix} \n",
    "1 & 1 \\\\\n",
    "1 & 1\n",
    "\\end{bmatrix} \\cdot \\begin{bmatrix} x_1 \\\\ x_2 \\end{bmatrix} = (x_1 + x_2)^2 \\geq 0$. "
   ]
  },
  {
   "cell_type": "code",
   "execution_count": null,
   "metadata": {},
   "outputs": [],
   "source": []
  },
  {
   "cell_type": "code",
   "execution_count": null,
   "metadata": {},
   "outputs": [],
   "source": []
  },
  {
   "cell_type": "markdown",
   "metadata": {},
   "source": [
    "Za kvadratnu matricu $A \\in R^{n \\times n}$ kazemo da je **pozitivno definitna** ako vazi $x^TAx > 0$ za sve $x \\in R^n$ tj. ako je $x^TAx=0$ tada je $x=0$."
   ]
  },
  {
   "cell_type": "markdown",
   "metadata": {},
   "source": [
    "#### Primer. \n",
    "\n",
    "Matrica $A =\\begin{bmatrix} \n",
    "1 & 2 \\\\\n",
    "-2 & 1\n",
    "\\end{bmatrix}$ je pozitivno definitna jer za proizvoljno $\\begin{bmatrix} x_1 \\\\ x_2 \\end{bmatrix}$ vazi: \n",
    "$ \\begin{bmatrix} x_1 x_2 \\end{bmatrix} \\cdot \\begin{bmatrix} \n",
    "1 & 2 \\\\\n",
    "-2 & 1\n",
    "\\end{bmatrix} \\cdot \\begin{bmatrix} x_1 \\\\ x_2 \\end{bmatrix} = x_1^2 + x_2^2 \\geq 0$.\n",
    "\n",
    "Vazi $x_1^2 + x_2^2 = 0$ samo ako je $x_1$=$x_2$=0 tj. ako je $x$ nula vektor. "
   ]
  },
  {
   "cell_type": "code",
   "execution_count": null,
   "metadata": {},
   "outputs": [],
   "source": []
  },
  {
   "cell_type": "markdown",
   "metadata": {},
   "source": [
    "Definitnost matrice se može proveriti na par načina."
   ]
  },
  {
   "cell_type": "markdown",
   "metadata": {},
   "source": [
    "**Teorema (Silvestrov kriterijum).** "
   ]
  },
  {
   "cell_type": "markdown",
   "metadata": {},
   "source": [
    "Matrica $Q$ je pozitivno definitna akko je determinanta svih kvadratnih podmatrica koje ukljucuju element $q_{11}$ pozitivna.  <img src='assets/sylvester_criterion.jpg' style='width: 300px'>"
   ]
  },
  {
   "cell_type": "code",
   "execution_count": null,
   "metadata": {},
   "outputs": [],
   "source": []
  },
  {
   "cell_type": "markdown",
   "metadata": {},
   "source": [
    "Matrica A je **dijagonalno dominantna** ako vazi $|a_{ii}| \\geq \\sum_{i \\neq j}{|a_{ij}|}$ za sve $i$ tj. ako je apsolutna vrednost svakog elementa na glavnoj dijagonali veca od zbira preostalih elemenata vrste kojoj pripada.  "
   ]
  },
  {
   "cell_type": "code",
   "execution_count": null,
   "metadata": {},
   "outputs": [],
   "source": []
  },
  {
   "cell_type": "markdown",
   "metadata": {},
   "source": [
    "**Teorema.** "
   ]
  },
  {
   "cell_type": "markdown",
   "metadata": {},
   "source": [
    "Ako je matrica $A$ dijagonalno dominantna i ako su dijagonalni elementi nenegativni, onda je $A$ pozitivno semidefinitna. "
   ]
  },
  {
   "cell_type": "code",
   "execution_count": null,
   "metadata": {},
   "outputs": [],
   "source": []
  },
  {
   "cell_type": "markdown",
   "metadata": {},
   "source": [
    "**Teorema.** "
   ]
  },
  {
   "cell_type": "markdown",
   "metadata": {},
   "source": [
    "Kvadratna simetricna matrica je pozitivno definitna akko ima pozitivne sopstvene vrednosti. "
   ]
  },
  {
   "cell_type": "code",
   "execution_count": null,
   "metadata": {},
   "outputs": [],
   "source": []
  },
  {
   "cell_type": "markdown",
   "metadata": {},
   "source": [
    "**Teorema (Coleski dekompozicija).** "
   ]
  },
  {
   "cell_type": "markdown",
   "metadata": {},
   "source": [
    "Kvadratna matrica je pozitivno definitna akko postoji gornje trougaona matrica L takva da je $A=LL^T$."
   ]
  },
  {
   "cell_type": "code",
   "execution_count": null,
   "metadata": {},
   "outputs": [],
   "source": []
  },
  {
   "cell_type": "markdown",
   "metadata": {},
   "source": [
    "Smisao definitnosti, takodje, mozemo objasniti geometrijski: ako je matrica $M$ koja definise preslikavanje pozitivno semidefinitna, novi smer polaznog vektora ce se promeniti za najvise $\\frac{\\pi}{2}$.  \n",
    "<img src='assets/positive_semidefinitness.png' style='width: 400px'>"
   ]
  },
  {
   "cell_type": "code",
   "execution_count": null,
   "metadata": {},
   "outputs": [],
   "source": []
  },
  {
   "cell_type": "code",
   "execution_count": null,
   "metadata": {},
   "outputs": [],
   "source": []
  },
  {
   "cell_type": "markdown",
   "metadata": {},
   "source": [
    "### Norma"
   ]
  },
  {
   "cell_type": "markdown",
   "metadata": {},
   "source": [
    "Neka je $X \\subset R^n$. **Norma** je svako preslikavanje $||\\cdot||: X \\to R^+$ za koje vazi: \n",
    "\n",
    "1) $||x|| = 0$ akko $x=0$\n",
    "\n",
    "2) $||\\lambda x|| = |\\lambda|||x||$, $\\lambda \\in R$\n",
    "\n",
    "3) $||x+y|| \\leq ||x||+||y||$\n"
   ]
  },
  {
   "cell_type": "code",
   "execution_count": null,
   "metadata": {},
   "outputs": [],
   "source": []
  },
  {
   "cell_type": "markdown",
   "metadata": {},
   "source": [
    "Intuitivno, normu povezujemo sa intenzitetom tj. dužinom vektora."
   ]
  },
  {
   "cell_type": "code",
   "execution_count": null,
   "metadata": {},
   "outputs": [],
   "source": []
  },
  {
   "cell_type": "markdown",
   "metadata": {},
   "source": [
    "#### Primer: $l_p$ norme  \n",
    "\n",
    "$||x||_p = \\sqrt[p]{\\sum_{i=1}^{n}{|x_i|^p}}$, $1\\leq p < +\\infty$\n",
    "\n",
    "$||x||_{\\infty} = max(|x_1|, ..., |x_n|)$\n",
    "\n",
    "\n",
    "$l_1$ norma (taxicab, Menhetn norma): $||x||_1 = \\sum_{i=1}^{n}{|x_i|}$\n",
    "\n",
    "$l_2$ norma: $||x||_2 = \\sqrt{\\sum_{i=1}^{n}{x_i^2}}$"
   ]
  },
  {
   "cell_type": "code",
   "execution_count": null,
   "metadata": {},
   "outputs": [],
   "source": []
  },
  {
   "cell_type": "markdown",
   "metadata": {},
   "source": [
    "**Teorema o ekvivalentnosti p-normi:** "
   ]
  },
  {
   "cell_type": "markdown",
   "metadata": {},
   "source": [
    "Za svake dve p-norme $||\\cdot||_a$ i $||\\cdot||_b$ postoje konstante $0<c_1<c_2$ takve da vazi $c_1||x||_a \\leq ||x||_b \\leq c_2||x||_a$."
   ]
  },
  {
   "cell_type": "markdown",
   "metadata": {},
   "source": [
    "Ova teorema ukazuje da ako ostvarimo konvergenciju u jednoj p-normi, onda imamo konvergenciju i u drigim p-normama. "
   ]
  },
  {
   "cell_type": "code",
   "execution_count": null,
   "metadata": {},
   "outputs": [],
   "source": []
  },
  {
   "cell_type": "markdown",
   "metadata": {},
   "source": [
    "Vektor $ x \\in X$ je **normiran** ako vazi $||x||=1$. "
   ]
  },
  {
   "cell_type": "markdown",
   "metadata": {},
   "source": [
    "Normiranjem nazivamo korak $\\frac{x}{||x||}$ kojim se dobija normirani vektor."
   ]
  },
  {
   "cell_type": "code",
   "execution_count": null,
   "metadata": {},
   "outputs": [],
   "source": []
  },
  {
   "cell_type": "markdown",
   "metadata": {},
   "source": [
    "**Primer.**  Skupovi vektora jedinicne norme iz $R^2$ . \n",
    "\n",
    "<img src='./assets/vector_norms.svg'>"
   ]
  },
  {
   "cell_type": "code",
   "execution_count": null,
   "metadata": {},
   "outputs": [],
   "source": []
  },
  {
   "cell_type": "markdown",
   "metadata": {},
   "source": [
    "Norme pronalaze primene u zadacima regularizacije. Regularizacija je vid popravljanja uslovljenosti problema."
   ]
  },
  {
   "cell_type": "markdown",
   "metadata": {},
   "source": [
    "### Skalarni proizvod "
   ]
  },
  {
   "cell_type": "markdown",
   "metadata": {},
   "source": [
    "Neka je: \n",
    "* $X \\subset R^n$\n",
    "* $<>: X \\times X \\rightarrow R^{+}$\n",
    "* $\\alpha \\in R$ \n",
    "* $+$ operacija sabiranja\n",
    "* $\\cdot$ operacija mnozenja skalarom\n"
   ]
  },
  {
   "cell_type": "markdown",
   "metadata": {},
   "source": [
    "Ako vazi: \n",
    "* $<a, b> = <b, a>$\n",
    "* $<a, b+c> = <a, b> + <a, c> $\n",
    "* $<a, \\alpha b> = \\alpha <a, b>$\n",
    "* $<a, a> \\ge 0$\n",
    "* $<a, a> = 0$ akko $a=0$\n",
    "preslikavanje $<>$ nazivamo **skalarni proizvod**."
   ]
  },
  {
   "cell_type": "code",
   "execution_count": null,
   "metadata": {},
   "outputs": [],
   "source": []
  },
  {
   "cell_type": "markdown",
   "metadata": {},
   "source": [
    "Ugao $\\gamma$ izmedju vektora $a$ i $b$ je u vezi sa skalarnim proizvodom: $<a, b> = ||a||\\cdot||b||\\cdot cos(\\gamma)$"
   ]
  },
  {
   "cell_type": "markdown",
   "metadata": {},
   "source": [
    "Ako je $||a||=||b||=1$ tada je $<a, b> = cos(\\gamma)$"
   ]
  },
  {
   "cell_type": "markdown",
   "metadata": {},
   "source": [
    "### Kerneli "
   ]
  },
  {
   "cell_type": "markdown",
   "metadata": {},
   "source": [
    "Neka su dati podskup $X \\subset R^n$ i preslikavanje $K: X \\times X \\rightarrow R$. Ako je matrica ciji su elementi vrednosti $K(x_i, x_j)$ pozitivno semidefinitna za sve izbore $x_1, ..., x_n \\in X$ i prozvoljnu dimenziju $n \\in R^{+}$, preslikavanje $K$ zovemo **pozitivno semidefinitni kernel**.  "
   ]
  },
  {
   "cell_type": "code",
   "execution_count": null,
   "metadata": {},
   "outputs": [],
   "source": []
  },
  {
   "cell_type": "markdown",
   "metadata": {},
   "source": [
    "#### Primeri kernela: \n",
    "    \n",
    "* linearni kernel: $K(x, y) = x^Ty +c$\n",
    "* polinomijalni kernel: $K(x, y) = (\\alpha x^T y + c)^d$\n",
    "* Gausov kernel: $K(x, y) = e ^{-\\frac{||x-y||^2}{2\\sigma^2}}$\n"
   ]
  },
  {
   "cell_type": "markdown",
   "metadata": {},
   "source": [
    "<img src = 'assets/kernel_example.png'>"
   ]
  },
  {
   "cell_type": "markdown",
   "metadata": {},
   "source": [
    "Intuitivno, kerneli predstavljaju meru slicnosti izmedju elemenata."
   ]
  },
  {
   "cell_type": "code",
   "execution_count": null,
   "metadata": {},
   "outputs": [],
   "source": []
  }
 ],
 "metadata": {
  "kernelspec": {
   "display_name": "Python 3",
   "language": "python",
   "name": "python3"
  },
  "language_info": {
   "codemirror_mode": {
    "name": "ipython",
    "version": 3
   },
   "file_extension": ".py",
   "mimetype": "text/x-python",
   "name": "python",
   "nbconvert_exporter": "python",
   "pygments_lexer": "ipython3",
   "version": "3.7.6"
  }
 },
 "nbformat": 4,
 "nbformat_minor": 2
}
