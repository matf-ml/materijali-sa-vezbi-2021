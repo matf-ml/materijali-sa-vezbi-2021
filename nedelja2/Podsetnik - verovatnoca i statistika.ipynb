{
 "cells": [
  {
   "cell_type": "markdown",
   "metadata": {},
   "source": [
    "# Verovatnoca i statistika"
   ]
  },
  {
   "cell_type": "markdown",
   "metadata": {},
   "source": [
    "U literaturi koja obradjuje verovatnocu susrecemo se sa pojmovima eksperimenta, prostora ishoda, dogadja i funkcije verovatnoce. Eksperimentom mozemo smatrati proceduru koja se moze ponavljati (u istim uslovima) i koja ima dobro definisane ishode. Skup svih ishoda nazivamo **prostorom ishoda**. Podskup prostora ishoda nazivamo **dogadjaj**. Funkciju kojom svakom ishodu pridruzujemo verovatnocu nazivamo **funkcijom verovatnoce**.  "
   ]
  },
  {
   "cell_type": "markdown",
   "metadata": {},
   "source": [
    "Na primer, bacanje fer novcica mozemo smatrati eksperimentom sa mogucim ishodima pismo (P) ili glava (G). Ako novcic bacamo tri puta, prostor ishoda je skup $\\Omega = \\{PPP, PPG, PGP, PGG, GPP, GPG, GGP, GGG\\}$. Svaki ishod je jednako verovatan, sa verovatnocom 1/8. Dogadjaj bi mogao biti skup ishoda $E = \\{GGP, GPG, PGG\\}$ u kojima se glava pojavljuje tacno dva puta. Verovatnoca ovog dogadjaja je 3/8. "
   ]
  },
  {
   "cell_type": "code",
   "execution_count": null,
   "metadata": {},
   "outputs": [],
   "source": []
  },
  {
   "cell_type": "markdown",
   "metadata": {},
   "source": [
    "U opstem slucaju prostor ishoda moze biti *diskretan* ili *kontinualan*. "
   ]
  },
  {
   "cell_type": "markdown",
   "metadata": {},
   "source": [
    "Formalno, za diskretan prostor ishoda $\\Omega$, funkcija $P: \\Omega \\rightarrow R$ je **funkcija verovatnoće** ukoliko zadovoljava uslove: \n",
    "- $0 \\le P(w) \\le 1$ \n",
    "- $\\sum_{w \\in \\Omega} P(w) = 1 $"
   ]
  },
  {
   "cell_type": "markdown",
   "metadata": {},
   "source": [
    "Za dogadjaje A, L i R koji pripadaju istom prostoru ishoda $\\Omega$ i funkciju verovatnoce $P$ definisanu na njemu vaze:\n",
    "- princip komplementarnosti: $P(A^c)= 1-P(A)$\n",
    "- princip ukljucivanja i iskljucivanja: $ P(L\\cup R) = P(L) + P (R) - P (L \\cap R)$"
   ]
  },
  {
   "cell_type": "code",
   "execution_count": null,
   "metadata": {},
   "outputs": [],
   "source": []
  },
  {
   "cell_type": "markdown",
   "metadata": {},
   "source": [
    "### Uslovna verovatnoca"
   ]
  },
  {
   "cell_type": "markdown",
   "metadata": {},
   "source": [
    "Neka su $A$ i $B$ dogadjaji koji pripadaju istom prostoru ishoda $\\Omega$. Uslovna verovatnoca dogadjaja $A$ pri uslovu $B$ se definise kao $ P(A|B) = \\frac{P(A\\cap B)}{P(B)}$, uz ogranicenje $P(B) \\ne 0$."
   ]
  },
  {
   "cell_type": "code",
   "execution_count": null,
   "metadata": {},
   "outputs": [],
   "source": []
  },
  {
   "cell_type": "markdown",
   "metadata": {},
   "source": [
    "Posmatrajmo bacanje novcica tri puta. Neka je $A$ dogadjaj koji predstavlja dobitak tri glave $\\{GGG\\}$, a $B$ dogadjaj koji predstavlja da je pri prvom bacanju dobijena glava $\\{GGG, GGP, GPG, GPP\\}$. Kako je $P(A)= \\frac{1}{8}$, $P(B)=\\frac{1}{2}$ i $A \\cap B=A$, mozemo izracunati da je $P(A|B) = \\frac{1}{4}$. "
   ]
  },
  {
   "cell_type": "markdown",
   "metadata": {},
   "source": [
    "### Bajesova formula"
   ]
  },
  {
   "cell_type": "markdown",
   "metadata": {},
   "source": [
    "Neka su $A$ i $B$ dogadjaji koji pripadaju istom prostoru ishoda $\\Omega$. Tada vazi: $$P(A|B) = \\frac{P(B|A) P(A)}{P(B)}$$ "
   ]
  },
  {
   "cell_type": "code",
   "execution_count": null,
   "metadata": {},
   "outputs": [],
   "source": [
    "# P(B)*P(A|B) = P(A)*P(B|A) = P(A^B)"
   ]
  },
  {
   "cell_type": "markdown",
   "metadata": {},
   "source": [
    "Ova formula nam prakticno pomaze da izracunamo verovatnoce P(B|A) i P(A|B) ukoliko je jedna od njih poznata."
   ]
  },
  {
   "cell_type": "code",
   "execution_count": null,
   "metadata": {},
   "outputs": [],
   "source": []
  },
  {
   "cell_type": "markdown",
   "metadata": {},
   "source": [
    "### Nezavnisnost dogadjaja"
   ]
  },
  {
   "cell_type": "markdown",
   "metadata": {},
   "source": [
    "Neka su $A$ i $B$ dogadjaji koji pripadaju istom prostoru ishoda $\\Omega$. Za njih kazemo da su nezavnisni ako vazi $P(A\\cap B) = P(A) P(B)$."
   ]
  },
  {
   "cell_type": "code",
   "execution_count": null,
   "metadata": {},
   "outputs": [],
   "source": []
  },
  {
   "cell_type": "markdown",
   "metadata": {},
   "source": [
    "Posmatrajmo bacanje novcica dva puta. Neka je $A$ dogadjaj koji oznacava da je pri prvom bacanju dobijena glava, a $B$ dogadjaj koji oznacava da je pri drugom bacanju dobijena glava. Kako je presek dogadjaja $A$ i $B$ dogadjaj u kojem su glave dobijene oba puta i kako vazi $P(A\\cap B) = \\frac{1}{4} = P(A) P(B)$, mozemo zakljuciti da su dogadjaji $A$ i $B$ nezavisni. "
   ]
  },
  {
   "cell_type": "code",
   "execution_count": null,
   "metadata": {},
   "outputs": [],
   "source": []
  },
  {
   "cell_type": "markdown",
   "metadata": {},
   "source": [
    "Posmatrajmo bacacanje novcica 3 puta. Neka je $A$ dogadjaj u koji oznacava da je prilikom prvog bacanja dobijena glava, a $B$ dogadjaj koji oznacava da su ukupno pale dve glave. Kako dogadjaj $A$ objedinjuje ishode $\\{GPP, GPG, GGP, GGG\\}$, a dogadjaj $B$ ishode $\\{GGP, GPG, PGG\\}$, to je $A\\cap B$ skup ishoda $\\{GPG, GGP\\}$ i mozemo zakljuciti da ne vazi $P(A\\cap B) = P(A) P(B)$ i da dogadjaji $A$ i $B$ nisu nezavisni.  "
   ]
  },
  {
   "cell_type": "markdown",
   "metadata": {},
   "source": [
    "### Slucajna promenljiva (slucajna velicina)"
   ]
  },
  {
   "cell_type": "markdown",
   "metadata": {},
   "source": [
    "Neka je $\\Omega$ prostor ishoda. Diskretna slucajna promenljiva $X$ je funkcija $X: \\Omega \\rightarrow R$."
   ]
  },
  {
   "cell_type": "code",
   "execution_count": null,
   "metadata": {},
   "outputs": [],
   "source": []
  },
  {
   "cell_type": "markdown",
   "metadata": {},
   "source": [
    "Posmatrajmo bacanje dveju kockica. Neka $i$ oznavaca vrednost dobijenu na prvoj kockici, a $j$ vrednost dobijenu na drugoj kockici. Funkcija $$X(i, j) = \n",
    "\\begin{cases}\n",
    "    500, & \\text{ako je } i+j=7\\\\\n",
    "    -100, & \\text{inace}\n",
    "\\end{cases}$$ je primer jedne slucajne promenljive. "
   ]
  },
  {
   "cell_type": "code",
   "execution_count": null,
   "metadata": {},
   "outputs": [],
   "source": []
  },
  {
   "cell_type": "markdown",
   "metadata": {},
   "source": [
    "###  Matematicko ocekivanje"
   ]
  },
  {
   "cell_type": "markdown",
   "metadata": {},
   "source": [
    "Neka je $X$ diskretna slucajna velicina koja uzima vrednosti $x_1$, $x_2$, ..., $x_n$ redom sa verovatnocama $p_1$, $p_2$, ..., $p_n$. Matematicko ocekivanje $E(X)$ slucajne velicine $X$ se definise kao $$E(X) = \\sum_{i=1}^{n} p_i\\cdot x_i = p_1x_1 + p_2x_2 + \\ldots + p_nx_n$$. "
   ]
  },
  {
   "cell_type": "markdown",
   "metadata": {},
   "source": [
    "Posmatrajmo slucajnu velicinu $X$ koja predstavlja zbir vrednosti prilikom bacanja dveju kockica. Vrednosti koje ova slucajna velicina uzima i njima pripadajuce verovatnoce mozemo zapisati tablicno: \n",
    "\n",
    "| 2 | 3 | 4 | 5 | 6 | 7 | 8 | 9 | 10 | 11 | 12 |\n",
    "|:---:|:---:|:---:|:---:|:---:|:---:|:---:|:---:|:----:|:----:|:----:|\n",
    "|1/36 | 2/36 | 3/36 | 4/36 | 5/36 | 6/36 | 5/36 | 4/36 | 3/36 | 2/36 | 1/36 | "
   ]
  },
  {
   "cell_type": "markdown",
   "metadata": {},
   "source": [
    "Njeno matematicko ocekivanje je $E(X) = \n",
    "2\\cdot \\frac{1}{36} + \n",
    "3\\cdot \\frac{2}{36} +\n",
    "4\\cdot \\frac{3}{36} +\n",
    "5\\cdot \\frac{4}{36} +\n",
    "6\\cdot \\frac{5}{36} + \n",
    "7\\cdot \\frac{6}{36} +\n",
    "8\\cdot \\frac{5}{36} +\n",
    "9\\cdot \\frac{4}{36} +\n",
    "10\\cdot \\frac{3}{36} +\n",
    "11\\cdot \\frac{2}{36} +\n",
    "12\\cdot \\frac{1}{36} = 7\n",
    "$. "
   ]
  },
  {
   "cell_type": "code",
   "execution_count": null,
   "metadata": {},
   "outputs": [],
   "source": []
  },
  {
   "cell_type": "markdown",
   "metadata": {},
   "source": [
    "Neka su $X$ i $Y$ dve slucajne velicine definisane na istom prostoru ishoda i $a$ i $b$ konstante. Tada vaze osobine:\n",
    "- $E(X+Y) = E(X) + E(Y)$\n",
    "- $E(aX+b) = aE(x) + b$ \n",
    "- Ako je funkcija $h$ definisanu za vrednosti $x_1$, $x_2$, ..., $x_n$ koje uzima slucajna velicina $X$, tada je i $h(X)$ slucajna velicina sa matematickim ocekivanjem $E(h(X)) = \\sum_{i=1}^{n} p_i\\cdot h(x_i)$. "
   ]
  },
  {
   "cell_type": "markdown",
   "metadata": {},
   "source": [
    "Posmatrajmo isti problem bacanja dveju kockica. Neka je $X_1$ slucajna velicina koja predstavlja vrednost dobijenu na prvoj kockici, a $X_2$ slucajna velicina koja predstavlja vrednost dobijenu na drugoj kockici. Za slucajnu velicinu $X$ iz prethodnog primera vazi $X = X_1 + X_2$ pa se trazeno matematicko ocekivanje moze dobiti i malo jednostavnije $E(X) = E(X_1) + E(X_2)$. Kako je $E(X_1) = E(X_2) = 3.5$ (proveriti!), dobijamo $E(X)=7$."
   ]
  },
  {
   "cell_type": "code",
   "execution_count": null,
   "metadata": {},
   "outputs": [],
   "source": []
  },
  {
   "cell_type": "markdown",
   "metadata": {},
   "source": [
    "### Varijansa i standardna devijacija diskretne slučajne promenljive"
   ]
  },
  {
   "cell_type": "markdown",
   "metadata": {},
   "source": [
    "Varijansa je mera koja ukazuje na to koliko su vrednosti diskretne slučajne promenljive raspršene (engl. spread) oko srednje vrednosti tj. ocekivanja."
   ]
  },
  {
   "cell_type": "markdown",
   "metadata": {},
   "source": [
    "Neka je X slučajna veličina sa očekivanjem $E(X)=\\mu$, `varijansa slučajne veličine` $Var(X)$ se definiše kao $$Var(X)=E((X-\\mu)^2)= \\sum{p(x_i) (x_i-\\mu)^2}$$."
   ]
  },
  {
   "cell_type": "markdown",
   "metadata": {},
   "source": [
    "`Standardna devijacija` $\\sigma$ slučajne veličine X se definiše kao koren varijanse $\\sqrt{Var(X)}$. Ona se izračunava u istim merama kao i slučajna veličina X."
   ]
  },
  {
   "cell_type": "markdown",
   "metadata": {},
   "source": [
    "Varijansa se često obeležava sa $\\sigma^2$."
   ]
  },
  {
   "cell_type": "markdown",
   "metadata": {},
   "source": [
    "Svojstva varijanse:\n",
    "- Ako su $X$ i $Y$ nezavisne slučajne veličine, tada je $Var(X+Y)=Var(X)+Var(Y)$.\n",
    "- Za konstante $a$ i $b$ važi $Var(aX+b) = a^2Var(X)$.\n",
    "- $Var(X) = E(X^2) - E(X)^2$"
   ]
  },
  {
   "cell_type": "code",
   "execution_count": null,
   "metadata": {},
   "outputs": [],
   "source": []
  },
  {
   "cell_type": "markdown",
   "metadata": {},
   "source": [
    "Pretpostavimo da treba izračunati srednju vrednost, varijansu i standardnu devijaciju slučajne veličine $X$ koja uzima vrednosti $1$, $3$ i $5$ redom sa verovatnoćama $1/4$, $1/4$ i $1/2$."
   ]
  },
  {
   "cell_type": "markdown",
   "metadata": {},
   "source": [
    "Kako je $E(X)= 1\\cdot 0.25 + 3 \\cdot 0.25 + 5 \\cdot 0.5 = 3.5$, veličina $X-E(X)$ uzima vrednosti $-2.5$, $0.5$, i $1.5$, a veličina $(X-E(X))^2$ vrednosti $6.25$, $0.25$ i $2.25$. Stoga je varijansa $0.25 \\cdot 6.25 + 0.25 \\cdot 0.25+0.5\\cdot 2.25 = 2.75$, a standardna devijacija $1.65$."
   ]
  },
  {
   "cell_type": "code",
   "execution_count": null,
   "metadata": {},
   "outputs": [],
   "source": []
  }
 ],
 "metadata": {
  "kernelspec": {
   "display_name": "Python 3",
   "language": "python",
   "name": "python3"
  },
  "language_info": {
   "codemirror_mode": {
    "name": "ipython",
    "version": 3
   },
   "file_extension": ".py",
   "mimetype": "text/x-python",
   "name": "python",
   "nbconvert_exporter": "python",
   "pygments_lexer": "ipython3",
   "version": "3.8.2"
  }
 },
 "nbformat": 4,
 "nbformat_minor": 4
}
