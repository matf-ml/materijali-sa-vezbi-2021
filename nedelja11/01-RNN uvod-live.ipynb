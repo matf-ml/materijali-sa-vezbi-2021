{
 "cells": [
  {
   "cell_type": "markdown",
   "metadata": {},
   "source": [
    "# Rekurentne neuronske mreže"
   ]
  },
  {
   "cell_type": "markdown",
   "metadata": {},
   "source": [
    "U ovoj svesci sumirani su osnovni koncepti vezani za rekturentne neuronske mreže i podrška Keras biblioteke u radu sa njima."
   ]
  },
  {
   "cell_type": "markdown",
   "metadata": {},
   "source": [
    "<img src='assets/RNN.png'>\n",
    "<p style='text-align: right; color: gray; font-size: 10px;'> Slika je pozajmljena iz prezentacije Recurrent Neural Networks Momčila Vasiljevića, MDCS </p>"
   ]
  },
  {
   "cell_type": "markdown",
   "metadata": {},
   "source": [
    "Ono što je zajedničko za sve rekurentne neuronske mreže je da obrađuju sekvence podataka element po element. Na primer, mogu se obrađivati reči teksta sa ciljem da se predvidi naredna reč ili blok reči (engl. text completition), cene akcija na berzi sa ciljem da se predvidi naredna vrednost i slično. Zato se o rekurentnim neuronskim mrežama obično priča sa aspekta vremenske dimenzije: u obradi u trenutku $t$ uzima se u obzir ulaz mreže $x_t$ i stanje mreže $s_{t-1}$ kojim se sumira ono što je mreža do tog trenutka obradila kako bi se generisao izlaz $o_t$. "
   ]
  },
  {
   "cell_type": "code",
   "execution_count": null,
   "metadata": {},
   "outputs": [],
   "source": []
  },
  {
   "cell_type": "code",
   "execution_count": 1,
   "metadata": {},
   "outputs": [],
   "source": [
    "import tensorflow as tf\n",
    "from tensorflow import keras"
   ]
  },
  {
   "cell_type": "code",
   "execution_count": 2,
   "metadata": {},
   "outputs": [],
   "source": [
    "import numpy as np\n",
    "np.random.seed(7)"
   ]
  },
  {
   "cell_type": "markdown",
   "metadata": {},
   "source": [
    "## Jednostavna rekurentna neuronska mreža"
   ]
  },
  {
   "cell_type": "markdown",
   "metadata": {},
   "source": [
    "Jednostavna rekurentna neuronska mreža je obična potpuno povezana mreža koja u trenutku $t$ na osnovu ulaza $x_t$ i prethodnog izlaza $o_{t-1}$ odlučuje o novom izlazu $o_t$. <img src='assets/simple_RNN.png'>"
   ]
  },
  {
   "cell_type": "markdown",
   "metadata": {},
   "source": [
    "Sledećim kodom opisan je jedan prolaz kroz ovako definisanu rekurentnu neuronsku mrežu."
   ]
  },
  {
   "cell_type": "markdown",
   "metadata": {},
   "source": [
    "Dužinu sekvence ćemo zadati promenljivom `timestamps`."
   ]
  },
  {
   "cell_type": "code",
   "execution_count": 3,
   "metadata": {},
   "outputs": [],
   "source": [
    "timestamps = 100"
   ]
  },
  {
   "cell_type": "markdown",
   "metadata": {},
   "source": [
    "Ulazi u mrežu će nam biti vektori dužine `inuput_size`.  Dužina ovog vektora odgovara broju atributa (engl. features)  koje imamo na nivou pojedinačnih instanci. "
   ]
  },
  {
   "cell_type": "code",
   "execution_count": 4,
   "metadata": {},
   "outputs": [],
   "source": [
    "input_size = 32 "
   ]
  },
  {
   "cell_type": "markdown",
   "metadata": {},
   "source": [
    "Matrica svih ulaza će biti dimenzija `timestamps` x `input_size`. Inicijalizovaćemo je nasumičnim vrednostima.\n",
    "<img src='assets/sequence_data.png'>"
   ]
  },
  {
   "cell_type": "code",
   "execution_count": 5,
   "metadata": {},
   "outputs": [],
   "source": [
    "inputs = np.random.random((timestamps, input_size))"
   ]
  },
  {
   "cell_type": "markdown",
   "metadata": {},
   "source": [
    "Izlazi mreže će biti vektori dužine `output_size`. Sa `output_t_prev` ćemo obeležavati vrednost izlaza za trenutak `t-1`, a sa `output_t` vrednost izlaza za trenutak `t`. Na početku će vektor prethodnih izlaza biti vektor nula."
   ]
  },
  {
   "cell_type": "code",
   "execution_count": 6,
   "metadata": {},
   "outputs": [],
   "source": [
    "output_size = 64 "
   ]
  },
  {
   "cell_type": "code",
   "execution_count": 7,
   "metadata": {},
   "outputs": [],
   "source": [
    "output_t_prev = np.zeros(output_size)"
   ]
  },
  {
   "cell_type": "code",
   "execution_count": null,
   "metadata": {},
   "outputs": [],
   "source": []
  },
  {
   "cell_type": "markdown",
   "metadata": {},
   "source": [
    "Ovu rekurentnu neuronsku mrežu karakteriše matrica `U` koji povezuje trenutni ulaz `x_t` sa trenutnim izlazom `o_t` i matrica `V` koja povezuje trenutni izlaz `o_t` sa prethodnim izlazom `o_t_prev`. Ove matrice ćemo nasumično generisati. Generisaćemo i nasumični vektor slobodnih članova."
   ]
  },
  {
   "cell_type": "code",
   "execution_count": 8,
   "metadata": {},
   "outputs": [],
   "source": [
    "U = np.random.random((output_size, input_size))\n",
    "V = np.random.random((output_size, output_size))\n",
    "\n",
    "b = np.random.random(output_size)"
   ]
  },
  {
   "cell_type": "markdown",
   "metadata": {},
   "source": [
    "<img src='assets/simple_RNN_unrolled.png'>"
   ]
  },
  {
   "cell_type": "markdown",
   "metadata": {},
   "source": [
    "Jedan prolaz kroz mrežu u obradi sekvence `inputs` je opisan kodom ispod. "
   ]
  },
  {
   "cell_type": "code",
   "execution_count": 9,
   "metadata": {},
   "outputs": [],
   "source": [
    "# izlazi mreze\n",
    "successive_outputs = []\n",
    "\n",
    "# za svaki ulaz u sekvenci\n",
    "for input_t in inputs:\n",
    "    \n",
    "    # kombinuje se tekuci ulaz input_t  (= x_t) i prethodni izlaz output_t_prev i izračunava se novi izlaz\n",
    "    output_t = np.tanh(np.dot(U, input_t) + np.dot(V, output_t_prev) + b)\n",
    "    \n",
    "    # trenutni izlaz mreze treba uzeti u obzir prilikom obrade sledeceg ulaza \n",
    "    output_t_prev = output_t.copy()    \n",
    "    \n",
    "    # cuvamo izlaz mreze\n",
    "    successive_outputs.append(output_t)\n"
   ]
  },
  {
   "cell_type": "markdown",
   "metadata": {},
   "source": [
    "Niz svih izlaza je dužine koja odgovara dužini sekvence, preciznije oblika `input_size` x `output_size`."
   ]
  },
  {
   "cell_type": "code",
   "execution_count": 10,
   "metadata": {},
   "outputs": [
    {
     "data": {
      "text/plain": [
       "100"
      ]
     },
     "execution_count": 10,
     "metadata": {},
     "output_type": "execute_result"
    }
   ],
   "source": [
    "len(successive_outputs)"
   ]
  },
  {
   "cell_type": "code",
   "execution_count": 11,
   "metadata": {},
   "outputs": [
    {
     "data": {
      "text/plain": [
       "(100, 64)"
      ]
     },
     "execution_count": 11,
     "metadata": {},
     "output_type": "execute_result"
    }
   ],
   "source": [
    "np.array(successive_outputs).shape"
   ]
  },
  {
   "cell_type": "markdown",
   "metadata": {},
   "source": [
    "### Odgovarajuća Keras podrška"
   ]
  },
  {
   "cell_type": "markdown",
   "metadata": {},
   "source": [
    "Rad sa rekurentnim neuronskim mrežama ovog tipa je moguć kroz `SimpleRNN` sloj. Ulaz u mrežu je oblika `(batch_size, timestamps, input_size)` gde `batch_size` predstavlja veličinu paketića tj. broj sekvenci koje mreža očekuje na ulazu, a izlaz može da bude ili u formi `(batch_size, timestamps, output_size)` ili u formi `(batch_size, output_size)`. Ovo ponašanje se kontroliše kroz `return_sequences` argument sloja i u prvom slučaju naglašava da treba sačuvati i vratiti izlaz za svaki ulaz svake sekvence, dok u drugom slučaju naglašava da treba vratiti izlaz samo poslednjeg ulaza sekvence."
   ]
  },
  {
   "cell_type": "code",
   "execution_count": 12,
   "metadata": {},
   "outputs": [],
   "source": [
    "from tensorflow.keras.models import Sequential\n",
    "from tensorflow.keras.layers import SimpleRNN"
   ]
  },
  {
   "cell_type": "code",
   "execution_count": null,
   "metadata": {},
   "outputs": [],
   "source": []
  },
  {
   "cell_type": "markdown",
   "metadata": {},
   "source": [
    "Ovde ćemo prvo redeklarisati vrednosti koje ćemo koristiti kako se ne bi preklapale sa prethodno generisanim rezultatima."
   ]
  },
  {
   "cell_type": "code",
   "execution_count": 13,
   "metadata": {},
   "outputs": [],
   "source": [
    "# velicina paketica\n",
    "batch_size = 8"
   ]
  },
  {
   "cell_type": "code",
   "execution_count": 14,
   "metadata": {},
   "outputs": [],
   "source": [
    "timestamps = 100\n",
    "input_size = 32 \n",
    "output_size = 64 \n",
    "inputs = np.random.random((batch_size, timestamps, input_size))"
   ]
  },
  {
   "cell_type": "code",
   "execution_count": null,
   "metadata": {},
   "outputs": [],
   "source": []
  },
  {
   "cell_type": "markdown",
   "metadata": {},
   "source": [
    "`Varijanta 1`:  vraćaju se izlazi svih ulaza sekvenci"
   ]
  },
  {
   "cell_type": "code",
   "execution_count": 15,
   "metadata": {},
   "outputs": [],
   "source": [
    "model = Sequential()\n",
    "model.add(SimpleRNN(output_size, input_shape=(timestamps, input_size), return_sequences=True))"
   ]
  },
  {
   "cell_type": "code",
   "execution_count": 16,
   "metadata": {},
   "outputs": [
    {
     "name": "stdout",
     "output_type": "stream",
     "text": [
      "Model: \"sequential\"\n",
      "_________________________________________________________________\n",
      "Layer (type)                 Output Shape              Param #   \n",
      "=================================================================\n",
      "simple_rnn (SimpleRNN)       (None, 100, 64)           6208      \n",
      "=================================================================\n",
      "Total params: 6,208\n",
      "Trainable params: 6,208\n",
      "Non-trainable params: 0\n",
      "_________________________________________________________________\n"
     ]
    }
   ],
   "source": [
    "model.summary()"
   ]
  },
  {
   "cell_type": "markdown",
   "metadata": {},
   "source": [
    "`Varijanta 2`: vraća se izlaz samo poslednjeg ulaza sekvenci\n",
    "\n",
    "Vrednost parametra `return_sequences` je podrazumevano postavljena na `False`. "
   ]
  },
  {
   "cell_type": "code",
   "execution_count": 17,
   "metadata": {},
   "outputs": [],
   "source": [
    "model = Sequential()\n",
    "model.add(SimpleRNN(output_size, input_shape = (timestamps, input_size)))"
   ]
  },
  {
   "cell_type": "code",
   "execution_count": 18,
   "metadata": {},
   "outputs": [
    {
     "name": "stdout",
     "output_type": "stream",
     "text": [
      "Model: \"sequential_1\"\n",
      "_________________________________________________________________\n",
      "Layer (type)                 Output Shape              Param #   \n",
      "=================================================================\n",
      "simple_rnn_1 (SimpleRNN)     (None, 64)                6208      \n",
      "=================================================================\n",
      "Total params: 6,208\n",
      "Trainable params: 6,208\n",
      "Non-trainable params: 0\n",
      "_________________________________________________________________\n"
     ]
    }
   ],
   "source": [
    "model.summary()"
   ]
  },
  {
   "cell_type": "code",
   "execution_count": null,
   "metadata": {},
   "outputs": [],
   "source": []
  },
  {
   "cell_type": "markdown",
   "metadata": {},
   "source": [
    "Možemo primetiti da je broj parametara za oba pokretanja isti, a da se razlikuju samo veličine izlaza: u prvom slučaju to je `(None, 100, 64) ` a u drugom `(None, 64)`. Vrednost `None` će prilikom treniranja mreže biti zamenjena veličinom paketića za treniranje."
   ]
  },
  {
   "cell_type": "code",
   "execution_count": null,
   "metadata": {},
   "outputs": [],
   "source": []
  },
  {
   "cell_type": "code",
   "execution_count": null,
   "metadata": {},
   "outputs": [],
   "source": []
  },
  {
   "cell_type": "markdown",
   "metadata": {},
   "source": [
    "## Rekurentna neuronska mreža sa prenosom skrivenog stanja"
   ]
  },
  {
   "cell_type": "markdown",
   "metadata": {},
   "source": [
    "Kada se govori o rekurentnim neuronskim mrežama ponajčešće se misli na mreže koje imaju arhitekturu koja je prikazana na slici. "
   ]
  },
  {
   "cell_type": "markdown",
   "metadata": {},
   "source": [
    "<img src='assets/RNN_unfolded.png'>"
   ]
  },
  {
   "cell_type": "markdown",
   "metadata": {},
   "source": [
    "Njome se u trenutku $t$ na osnovu ulaza $x_t$ i prethodnog stanja skrivenog sloja $h_{t-1}$ odlučuje o novom izlazu $o_t$."
   ]
  },
  {
   "cell_type": "code",
   "execution_count": null,
   "metadata": {},
   "outputs": [],
   "source": []
  },
  {
   "cell_type": "markdown",
   "metadata": {},
   "source": [
    "Prvo ćemo ponoviti deklaracije promenljivih. Njihovo značenje je i u kontekstu ove arhitetkure identično prethodnim."
   ]
  },
  {
   "cell_type": "code",
   "execution_count": 19,
   "metadata": {},
   "outputs": [],
   "source": [
    "timestamps = 100\n",
    "input_size = 32 \n",
    "inputs = np.random.random((timestamps, input_size))\n",
    "output_size = 64 "
   ]
  },
  {
   "cell_type": "code",
   "execution_count": null,
   "metadata": {},
   "outputs": [],
   "source": []
  },
  {
   "cell_type": "markdown",
   "metadata": {},
   "source": [
    "Veličinu skrivenog sloja mreže ćemo zadati dimenzijom `hidden_size`. Sa `h_t_prev` ćemo obeležavati vrednost skrivenog sloja za trenutak `t-1`, a sa `h_t` vrednost skrivenog sloja za trenutak `t`. Na početku treniranja to će biti vektor nula."
   ]
  },
  {
   "cell_type": "code",
   "execution_count": 20,
   "metadata": {},
   "outputs": [],
   "source": [
    "hidden_size = 32"
   ]
  },
  {
   "cell_type": "code",
   "execution_count": 21,
   "metadata": {},
   "outputs": [],
   "source": [
    "h_t_prev = np.zeros(hidden_size)"
   ]
  },
  {
   "cell_type": "code",
   "execution_count": null,
   "metadata": {},
   "outputs": [],
   "source": []
  },
  {
   "cell_type": "markdown",
   "metadata": {},
   "source": [
    "Ovu rekurentnu neuronsku mrežu karakteriše matrica `U` sloja koji povezuje trenutni ulaz `x_t` sa trenutnom vrednošću skrivenog sloja `h_t`, matrica `V` koja povezuje stanje skrivenog sloja iz prethodnog trenutka `h_t_prev` i tekuće stanje `h_t`, i matrica `W` sloja kojom se povezuje skriveno stanje `h_t` sa izlazom `o_t`. "
   ]
  },
  {
   "cell_type": "code",
   "execution_count": 22,
   "metadata": {},
   "outputs": [],
   "source": [
    "U = np.random.random((hidden_size, input_size))\n",
    "V = np.random.random((hidden_size, hidden_size))\n",
    "W = np.random.random((output_size, hidden_size))\n",
    "\n",
    "# vektori slobodnih clanova \n",
    "b1 = np.random.random(hidden_size)\n",
    "b2 = np.random.random(output_size)"
   ]
  },
  {
   "cell_type": "code",
   "execution_count": null,
   "metadata": {},
   "outputs": [],
   "source": []
  },
  {
   "cell_type": "markdown",
   "metadata": {},
   "source": [
    "Jedan prolaz kroz mrežu u obradi sekvence `inputs` je opisan kodom ispod. "
   ]
  },
  {
   "cell_type": "code",
   "execution_count": 23,
   "metadata": {},
   "outputs": [],
   "source": [
    "# izlazi mreze\n",
    "successive_outputs = []\n",
    "\n",
    "# za svaki ulaz u sekvenci\n",
    "for input_t in inputs:\n",
    "    \n",
    "    # kombinuje se tekuci ulaz input_t  (= x_t) i stanje skrivenog sloja mreze iz prethodnog koraka h_t_prev \n",
    "    # i izračunava se novo stanje skrivenog sloja \n",
    "    h_t = np.tanh(np.dot(U, input_t) + np.dot(V, h_t_prev) + b1)\n",
    "    \n",
    "    # izracuna se izlaz mreze\n",
    "    output_t= np.tanh(np.dot(W, h_t) + b2)\n",
    "\n",
    "    # trenutne vrednosti skrivenog sloja mreze traba uzeti u obzir prilikom obrade sledeceg ulaza \n",
    "    h_t_prev = h_t.copy()    \n",
    "    \n",
    "    # cuvamo izlaz mreze\n",
    "    successive_outputs.append(output_t)\n"
   ]
  },
  {
   "cell_type": "code",
   "execution_count": null,
   "metadata": {},
   "outputs": [],
   "source": []
  },
  {
   "cell_type": "markdown",
   "metadata": {},
   "source": [
    "Niz svih izlaza je dužine koja odgovara dužini sekvence, preciznije oblika `timestamps` x `output_size`."
   ]
  },
  {
   "cell_type": "code",
   "execution_count": 24,
   "metadata": {},
   "outputs": [
    {
     "data": {
      "text/plain": [
       "100"
      ]
     },
     "execution_count": 24,
     "metadata": {},
     "output_type": "execute_result"
    }
   ],
   "source": [
    "len(successive_outputs)"
   ]
  },
  {
   "cell_type": "code",
   "execution_count": 25,
   "metadata": {},
   "outputs": [
    {
     "data": {
      "text/plain": [
       "(100, 64)"
      ]
     },
     "execution_count": 25,
     "metadata": {},
     "output_type": "execute_result"
    }
   ],
   "source": [
    "np.array(successive_outputs).shape"
   ]
  },
  {
   "cell_type": "code",
   "execution_count": null,
   "metadata": {},
   "outputs": [],
   "source": []
  },
  {
   "cell_type": "markdown",
   "metadata": {},
   "source": [
    "Keras biblioteka nudi mogućnost korišćenja ovog tipa mreža kroz nadgrađene `LSTM` i `GRU` slojeve. Ovi slojevi koriste nešto kompleksnije ćelije (neurone) kao što su `LSTM` ćelije i `GRU` ćelije. Njihovo ponašanje ćemo prvo opisati, a potom i prikazati kroz Keras API."
   ]
  },
  {
   "cell_type": "code",
   "execution_count": null,
   "metadata": {},
   "outputs": [],
   "source": []
  },
  {
   "cell_type": "markdown",
   "metadata": {},
   "source": [
    "## LSTM ćelije"
   ]
  },
  {
   "cell_type": "markdown",
   "metadata": {},
   "source": [
    "Svojom specifičnom strukturom, LSTM (engl. Long-Short Term Memory) ćelije nude rešenje za praćenje dugoročnih zavisnosti na nivou sekvenci koje zbog problema isčezavajućih gradijenata (praktično) nije bilo moguće sa stanradnim RNN ćelijama. \n",
    "\n",
    "Uz vrednosti skrivenog sloja ove ćelije imaju svoje interno stanje, ulaznu kapiju (engl. input gate), kapiju za zaboravljanje (engl. forget gate) i izlaznu kapiju (engl. output gate) kojima, redom, mogu da kontrolišu prisutnost informacija iz prethodnog stanja, njihovu selekciju i generisanje vrednosti koje će dalje propagirati. "
   ]
  },
  {
   "cell_type": "markdown",
   "metadata": {},
   "source": [
    "<img src='assets/LSTM_cell_2.png'>"
   ]
  },
  {
   "cell_type": "markdown",
   "metadata": {},
   "source": [
    "U trenutku $t$ na osnovu ulaza $x_t$, vrednosti skrivenog sloja $h_{t-1}$ i stanja $c_{t-1}$ prethodnog koraka obrade, treba odlučiti o novoj vrednosti skrivenog sloja $h_t$ i stanja $c_t$. \n",
    "\n",
    "Kapijom za zaboravljanje $f_t$ se kontroliše koliko informacija iz prethodnog stanja treba dalje propustiti. Na osnovu vrednosti matrica $W_f$ i $U_f$ i vektora slobodnih članova $b_f$ koje je karakterišu, izračunavaju se vrednosti vektora $f_t$ koje su u opsegu [0, 1]. Pokoordinatnim množenjem sa vrednošću $c_{t-1}$ dobijaju se filtrirane informacije stanja. Dalje se, na sličan način, izračunavaju vrednosti ulazne kapije $i_t$ i vrednosti izlazne kapije $o_t$. Ulaznom kapijom se filtrijaju informacije međustanja ćelije $\\tilde{c_t}$ koje treba dodati informacijama koje se filtrijaju kapijom zaboravljanja kako bi se dobilo novo stanje $c_t$. Nova vrednost skrivenog stanja se dobija na osnovu vrednosti izlazne kapije $o_t$ i novog stanja ćelije $c_t$. "
   ]
  },
  {
   "cell_type": "markdown",
   "metadata": {},
   "source": [
    "<img src='assets/LSTM_math.png'>"
   ]
  },
  {
   "cell_type": "code",
   "execution_count": null,
   "metadata": {},
   "outputs": [],
   "source": []
  },
  {
   "cell_type": "markdown",
   "metadata": {},
   "source": [
    "Keras biblioteka podržava rad sa LSTM mrežama kroz LSTM sloj. "
   ]
  },
  {
   "cell_type": "code",
   "execution_count": 26,
   "metadata": {},
   "outputs": [],
   "source": [
    "from tensorflow.keras.layers import LSTM"
   ]
  },
  {
   "cell_type": "code",
   "execution_count": 27,
   "metadata": {},
   "outputs": [],
   "source": [
    "timestamps = 100\n",
    "input_size = 32 \n",
    "inputs = np.random.random((timestamps, input_size))\n",
    "output_size = 64 "
   ]
  },
  {
   "cell_type": "code",
   "execution_count": null,
   "metadata": {},
   "outputs": [],
   "source": []
  },
  {
   "cell_type": "code",
   "execution_count": 28,
   "metadata": {},
   "outputs": [
    {
     "name": "stdout",
     "output_type": "stream",
     "text": [
      "Model: \"sequential_2\"\n",
      "_________________________________________________________________\n",
      "Layer (type)                 Output Shape              Param #   \n",
      "=================================================================\n",
      "lstm (LSTM)                  (None, 64)                24832     \n",
      "=================================================================\n",
      "Total params: 24,832\n",
      "Trainable params: 24,832\n",
      "Non-trainable params: 0\n",
      "_________________________________________________________________\n"
     ]
    }
   ],
   "source": [
    "model = Sequential()\n",
    "model.add(LSTM(units=output_size, input_shape=(timestamps, input_size)))\n",
    "\n",
    "model.summary()"
   ]
  },
  {
   "cell_type": "markdown",
   "metadata": {},
   "source": [
    "Prvi argument LSTM sloja se zove `units` i predstavlja zapravo dimenzionalnost unutrašnjih slojeva LSTM ćelije, tj. dimenziju skrivenog sloja, dimenziju stanja i dimenziju izlaza. "
   ]
  },
  {
   "cell_type": "markdown",
   "metadata": {},
   "source": [
    "Kako su u formulama koje smo zapisali matrice $W_f$, $W_i$, $W_o$, $W_c$ istih dimenzija tj. `output_size` x `input_size`, matrice $U_f$, $U_i$, $U_o$, $U_c$ istih dimenzija tj. `output_size` x `output_size` i vektori slobodnih članova $b_f$, $b_i$, $b_o$, $b_c$  istih dimenzija tj. `output_size` x `1` ukupan broj parametara koje mreža treba da nauči je  4 x `output_size` x `input_size` + 4 x `output_size` x `output_size` + 4 x `output_size` x `1`."
   ]
  },
  {
   "cell_type": "code",
   "execution_count": 29,
   "metadata": {},
   "outputs": [],
   "source": [
    "number_of_parameters = 4*output_size*input_size + 4*output_size*output_size + 4*output_size*1"
   ]
  },
  {
   "cell_type": "code",
   "execution_count": 30,
   "metadata": {},
   "outputs": [
    {
     "data": {
      "text/plain": [
       "24832"
      ]
     },
     "execution_count": 30,
     "metadata": {},
     "output_type": "execute_result"
    }
   ],
   "source": [
    "number_of_parameters"
   ]
  },
  {
   "cell_type": "markdown",
   "metadata": {},
   "source": [
    "Izlaz LSTM sloja je poslednja vrednost skrivenog sloja. Ova vrednost agregira sve što je mreža videla i naučila i predstavlja apraktnu reprezentaciju cele sekvence. "
   ]
  },
  {
   "cell_type": "code",
   "execution_count": null,
   "metadata": {},
   "outputs": [],
   "source": []
  },
  {
   "cell_type": "markdown",
   "metadata": {},
   "source": [
    "Opciono, sloju `LSTM` se mogu dodati parametri `return_sequences` i `return_state`. "
   ]
  },
  {
   "cell_type": "markdown",
   "metadata": {},
   "source": [
    "Parametrom `return_sequences`se utiče na vraćanje izlaza tj. skrivenih stanja $h_t$ nakon obrade svakog ulaza sekvence $x_t$."
   ]
  },
  {
   "cell_type": "code",
   "execution_count": 31,
   "metadata": {},
   "outputs": [
    {
     "name": "stdout",
     "output_type": "stream",
     "text": [
      "Model: \"sequential_3\"\n",
      "_________________________________________________________________\n",
      "Layer (type)                 Output Shape              Param #   \n",
      "=================================================================\n",
      "lstm_1 (LSTM)                (None, 100, 64)           24832     \n",
      "=================================================================\n",
      "Total params: 24,832\n",
      "Trainable params: 24,832\n",
      "Non-trainable params: 0\n",
      "_________________________________________________________________\n"
     ]
    }
   ],
   "source": [
    "model = Sequential()\n",
    "model.add(LSTM(units=output_size, return_sequences=True, input_shape=(timestamps, input_size)))\n",
    "\n",
    "model.summary()"
   ]
  },
  {
   "cell_type": "markdown",
   "metadata": {},
   "source": [
    "Kao što primećujemo, sada je izlaz dimenzije `(None, 100, 64)`. "
   ]
  },
  {
   "cell_type": "markdown",
   "metadata": {},
   "source": [
    "Ovaj parametar je zgodno koristiti kada se radi sa više, nasloženih jedni na druge (engl. stacked), LSTM slojeva kako bi ulazi i u naredne slojeve mogli da budu sekvence ili kada je potrebna obrada za svaki ulaz sekvence npr. takvi zadaci su obrada govora."
   ]
  },
  {
   "cell_type": "code",
   "execution_count": null,
   "metadata": {},
   "outputs": [],
   "source": []
  },
  {
   "cell_type": "markdown",
   "metadata": {},
   "source": [
    "Parametrom `return_state` utiče na vraćanje stanja $c_t$ nakon obrade svakog ulaza sekvence $x_t$. Korišćenje ovog parametra zahteva i prebacivanje na funkcionalni API zbog većeg broja izlaza."
   ]
  },
  {
   "cell_type": "code",
   "execution_count": 32,
   "metadata": {},
   "outputs": [],
   "source": [
    "from tensorflow.keras import Model\n",
    "from tensorflow.keras.layers import Input"
   ]
  },
  {
   "cell_type": "code",
   "execution_count": 33,
   "metadata": {},
   "outputs": [],
   "source": [
    "inputs = Input(shape=(timestamps, input_size))\n",
    "lstm = LSTM(units=output_size, return_state=True)(inputs)\n",
    "\n",
    "model = Model(inputs=inputs, outputs=lstm)"
   ]
  },
  {
   "cell_type": "markdown",
   "metadata": {},
   "source": [
    "Možemo pogledati kako sada izgledaju sumarne informacije o mreži."
   ]
  },
  {
   "cell_type": "code",
   "execution_count": 34,
   "metadata": {},
   "outputs": [
    {
     "name": "stdout",
     "output_type": "stream",
     "text": [
      "Model: \"functional_1\"\n",
      "______________________________________________________________________________________________________________\n",
      "Layer (type)                                     Output Shape                                Param #          \n",
      "==============================================================================================================\n",
      "input_1 (InputLayer)                             [(None, 100, 32)]                           0                \n",
      "______________________________________________________________________________________________________________\n",
      "lstm_2 (LSTM)                                    [(None, 64), (None, 64), (None, 64)]        24832            \n",
      "==============================================================================================================\n",
      "Total params: 24,832\n",
      "Trainable params: 24,832\n",
      "Non-trainable params: 0\n",
      "______________________________________________________________________________________________________________\n"
     ]
    }
   ],
   "source": [
    "model.summary(line_length=110)"
   ]
  },
  {
   "cell_type": "markdown",
   "metadata": {},
   "source": [
    "Možemo videti da je sada izlaz iz mreže lista čiji elementi, redom, predstavljaju izlaz mreže (poslednju vrednost skrivenog sloja), poslednju vrednost skrivenog sloja i poslednju vrednost stanja. "
   ]
  },
  {
   "cell_type": "markdown",
   "metadata": {},
   "source": [
    "Informacija o stanju ćelije nam može biti od koristi kada radimo sa modelima koji dele parametre kao kod, npr. enkoder-dekoder arhitektura."
   ]
  },
  {
   "cell_type": "code",
   "execution_count": null,
   "metadata": {},
   "outputs": [],
   "source": []
  },
  {
   "cell_type": "markdown",
   "metadata": {},
   "source": [
    "Možemo proveriti i kako izgledaju izlazi mreže kada se kombinuju parametri `return_state` i `return_sequences`."
   ]
  },
  {
   "cell_type": "code",
   "execution_count": 35,
   "metadata": {},
   "outputs": [],
   "source": [
    "inputs = Input(shape=(timestamps, input_size))\n",
    "lstm = LSTM(units=output_size, return_state=True, return_sequences=True)(inputs)\n",
    "\n",
    "model = Model(inputs=inputs, outputs=lstm)"
   ]
  },
  {
   "cell_type": "code",
   "execution_count": 36,
   "metadata": {},
   "outputs": [
    {
     "name": "stdout",
     "output_type": "stream",
     "text": [
      "Model: \"functional_3\"\n",
      "______________________________________________________________________________________________________________\n",
      "Layer (type)                                     Output Shape                                Param #          \n",
      "==============================================================================================================\n",
      "input_2 (InputLayer)                             [(None, 100, 32)]                           0                \n",
      "______________________________________________________________________________________________________________\n",
      "lstm_3 (LSTM)                                    [(None, 100, 64), (None, 64), (None, 64)]   24832            \n",
      "==============================================================================================================\n",
      "Total params: 24,832\n",
      "Trainable params: 24,832\n",
      "Non-trainable params: 0\n",
      "______________________________________________________________________________________________________________\n"
     ]
    }
   ],
   "source": [
    "model.summary(line_length=110)"
   ]
  },
  {
   "cell_type": "markdown",
   "metadata": {},
   "source": [
    "Sada je izlaz lista čiji su elementi, redom, niz svih skrivenih stanja dobijen prilikom obrade sekvence, poslednja vrednost skrivenog stanja i poslednja vrednost stanja. "
   ]
  },
  {
   "cell_type": "code",
   "execution_count": null,
   "metadata": {},
   "outputs": [],
   "source": []
  },
  {
   "cell_type": "markdown",
   "metadata": {},
   "source": [
    "## GRU ćelije"
   ]
  },
  {
   "cell_type": "markdown",
   "metadata": {},
   "source": [
    "<img src='assets/GRU_cell.png'>"
   ]
  },
  {
   "cell_type": "markdown",
   "metadata": {},
   "source": [
    "GRU (engl. Gated-Recurent Units) ćelije predstavljaju modifikaciju LSTM ćelija objedinjavanjem kapije ulaza i kapije zaboravljanja u jednu kapiju ažuriranja."
   ]
  },
  {
   "cell_type": "markdown",
   "metadata": {},
   "source": [
    "Keras biblioteka nudi podršku u radu sa GRU ćelijama kroz `GRU` sloj. Podešavanja ovog sloja su istovetna sa podešavanjima sloja `LSTM`."
   ]
  },
  {
   "cell_type": "code",
   "execution_count": 37,
   "metadata": {},
   "outputs": [],
   "source": [
    "from tensorflow.keras.layers import GRU"
   ]
  },
  {
   "cell_type": "code",
   "execution_count": 38,
   "metadata": {},
   "outputs": [],
   "source": [
    "timestamps = 100\n",
    "input_size = 32 \n",
    "inputs = np.random.random((timestamps, input_size))\n",
    "output_size = 64 "
   ]
  },
  {
   "cell_type": "code",
   "execution_count": 39,
   "metadata": {},
   "outputs": [
    {
     "name": "stdout",
     "output_type": "stream",
     "text": [
      "Model: \"sequential_4\"\n",
      "_________________________________________________________________\n",
      "Layer (type)                 Output Shape              Param #   \n",
      "=================================================================\n",
      "gru (GRU)                    (None, 100, 64)           18816     \n",
      "=================================================================\n",
      "Total params: 18,816\n",
      "Trainable params: 18,816\n",
      "Non-trainable params: 0\n",
      "_________________________________________________________________\n"
     ]
    }
   ],
   "source": [
    "model = Sequential()\n",
    "model.add(GRU(units=output_size, return_sequences=True, input_shape=(timestamps, input_size)))\n",
    "\n",
    "model.summary()"
   ]
  },
  {
   "cell_type": "markdown",
   "metadata": {},
   "source": [
    "U praksi rad sa GRU ćelijama vodi do bržeg treniranja. "
   ]
  },
  {
   "cell_type": "code",
   "execution_count": null,
   "metadata": {},
   "outputs": [],
   "source": []
  },
  {
   "cell_type": "markdown",
   "metadata": {},
   "source": [
    "### Za dalje istraživanje:\n",
    "- Ilustrovana pojašnjenja LSTM i GRU ćelija: https://colah.github.io/posts/2015-08-Understanding-LSTMs/\n",
    "- Originalni rad u kojem su uvdene LSTM ćelije: [Long Short-Term Memory](http://www.bioinf.jku.at/publications/older/2604.pdf).\n",
    "- Originalni red u kojem su uvedene GRU ćelije: [Learning Phrase Representations using RNN Encoder–Decoder\n",
    "for Statistical Machine Translation](https://arxiv.org/pdf/1406.1078v3.pdf)\n",
    "- [Coursera, Deep Learning Specialization - Sequence Modeling (part 5)](https://www.coursera.org/specializations/deep-learning)"
   ]
  },
  {
   "cell_type": "code",
   "execution_count": null,
   "metadata": {},
   "outputs": [],
   "source": []
  }
 ],
 "metadata": {
  "kernelspec": {
   "display_name": "Python 3",
   "language": "python",
   "name": "python3"
  },
  "language_info": {
   "codemirror_mode": {
    "name": "ipython",
    "version": 3
   },
   "file_extension": ".py",
   "mimetype": "text/x-python",
   "name": "python",
   "nbconvert_exporter": "python",
   "pygments_lexer": "ipython3",
   "version": "3.8.3"
  }
 },
 "nbformat": 4,
 "nbformat_minor": 2
}
