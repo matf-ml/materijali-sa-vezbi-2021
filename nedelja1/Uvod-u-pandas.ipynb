{
  "nbformat": 4,
  "nbformat_minor": 0,
  "metadata": {
    "colab": {
      "name": "Pandas_Tutorial_MasinskoUcenje.ipynb",
      "provenance": [],
      "collapsed_sections": [],
      "toc_visible": true
    },
    "kernelspec": {
      "name": "python3",
      "display_name": "Python 3"
    }
  },
  "cells": [
    {
      "cell_type": "markdown",
      "metadata": {
        "id": "gOCdNSF3to-w"
      },
      "source": [
        "# Pandas biblioteka\n",
        "\n",
        "**Pandas** je Python biblioteka namenjena radu sa podacima. Na [ovom](https://pandas.pydata.org/) linku se nalazi zvanicna stranica, a [ovde](http://pandas.pydata.org/pandas-docs/stable/getting_started/10min.html) se moze pronaci koristan tutorijal."
      ]
    },
    {
      "cell_type": "code",
      "metadata": {
        "id": "U9yH5Sxvtevj"
      },
      "source": [
        "import numpy as np\n",
        "import pandas as pd"
      ],
      "execution_count": 2,
      "outputs": []
    },
    {
      "cell_type": "markdown",
      "metadata": {
        "id": "Nn1L-mVxuGrO"
      },
      "source": [
        "## Series\n",
        "\n",
        "**Series** su strukture podataka koje odgovaraju vektorima (jednodimenzionim nizovima), sa pridruzenim obelezjima (indeksima)."
      ]
    },
    {
      "cell_type": "code",
      "metadata": {
        "colab": {
          "base_uri": "https://localhost:8080/"
        },
        "id": "xq35JPUduFeG",
        "outputId": "1264f3e2-8572-4c8b-9349-61a0e4a449c1"
      },
      "source": [
        "s = pd.Series([2, 3, 4, 53, -3, 12])\n",
        "print(s)"
      ],
      "execution_count": 3,
      "outputs": [
        {
          "output_type": "stream",
          "text": [
            "0     2\n",
            "1     3\n",
            "2     4\n",
            "3    53\n",
            "4    -3\n",
            "5    12\n",
            "dtype: int64\n"
          ],
          "name": "stdout"
        }
      ]
    },
    {
      "cell_type": "code",
      "metadata": {
        "colab": {
          "base_uri": "https://localhost:8080/"
        },
        "id": "ruJBAqM6uXQj",
        "outputId": "8f3047ca-5bdd-4dc8-fa6d-83839e03477d"
      },
      "source": [
        "print('Elementi: {}'.format(s.values))\n",
        "print('Indeksi: {}'.format(s.index))"
      ],
      "execution_count": 5,
      "outputs": [
        {
          "output_type": "stream",
          "text": [
            "Elementi: [ 2  3  4 53 -3 12]\n",
            "Indeksi: RangeIndex(start=0, stop=6, step=1)\n"
          ],
          "name": "stdout"
        }
      ]
    },
    {
      "cell_type": "code",
      "metadata": {
        "colab": {
          "base_uri": "https://localhost:8080/"
        },
        "id": "SQqxEKMfucrk",
        "outputId": "a3d21ec6-8005-4064-ec3f-77f6469468a2"
      },
      "source": [
        "# Prilikom kreiranja serije, indeks se moze eksplicitno zadati\n",
        "s = pd.Series([2, 3, 5, 7, 12], index = ['a','b','c', 'd', 'e'])\n",
        "print(s)"
      ],
      "execution_count": 6,
      "outputs": [
        {
          "output_type": "stream",
          "text": [
            "a     2\n",
            "b     3\n",
            "c     5\n",
            "d     7\n",
            "e    12\n",
            "dtype: int64\n"
          ],
          "name": "stdout"
        }
      ]
    },
    {
      "cell_type": "code",
      "metadata": {
        "colab": {
          "base_uri": "https://localhost:8080/"
        },
        "id": "bPMro3JhwXo3",
        "outputId": "fd8785f1-3b4a-4acc-88ab-037e1fe829d8"
      },
      "source": [
        "# Prilikom kreiranja serije moguce je koristiti recnik\n",
        "data = {'a' : 0., 'b' : 1., 'c' : 2.}\n",
        "s = pd.Series(data)\n",
        "print(s)"
      ],
      "execution_count": 9,
      "outputs": [
        {
          "output_type": "stream",
          "text": [
            "a    0.0\n",
            "b    1.0\n",
            "c    2.0\n",
            "dtype: float64\n"
          ],
          "name": "stdout"
        }
      ]
    },
    {
      "cell_type": "code",
      "metadata": {
        "colab": {
          "base_uri": "https://localhost:8080/"
        },
        "id": "vRi7H-dnwup_",
        "outputId": "fe17c98d-ca96-4cec-e8cb-c452ca246776"
      },
      "source": [
        "# Prilikom kreiranja serije, moguce je i eksplicitno navodjenje nedostajucih vrednosti\n",
        "s = pd.Series([1, 2, np.nan, np.nan, 45, -4, np.nan, -9])\n",
        "print(s)"
      ],
      "execution_count": 13,
      "outputs": [
        {
          "output_type": "stream",
          "text": [
            "0     1.0\n",
            "1     2.0\n",
            "2     NaN\n",
            "3     NaN\n",
            "4    45.0\n",
            "5    -4.0\n",
            "6     NaN\n",
            "7    -9.0\n",
            "dtype: float64\n"
          ],
          "name": "stdout"
        }
      ]
    },
    {
      "cell_type": "code",
      "metadata": {
        "colab": {
          "base_uri": "https://localhost:8080/"
        },
        "id": "8y5gxMKTw8wG",
        "outputId": "985e57bc-9357-4ded-962a-3aca0ad1b31f"
      },
      "source": [
        "# Moguce je kreirati seriju na osnovu skalara\n",
        "s = pd.Series(5, index=[0, 1, 2, 3])\n",
        "print(s)"
      ],
      "execution_count": 15,
      "outputs": [
        {
          "output_type": "stream",
          "text": [
            "0    5\n",
            "1    5\n",
            "2    5\n",
            "3    5\n",
            "dtype: int64\n"
          ],
          "name": "stdout"
        }
      ]
    },
    {
      "cell_type": "code",
      "metadata": {
        "colab": {
          "base_uri": "https://localhost:8080/"
        },
        "id": "NFu7pCl3wfS0",
        "outputId": "b098def9-c396-47be-a965-14c209e68955"
      },
      "source": [
        "# Prilikom kreiranja serije moguce je eksplcitno baratati indeksima\n",
        "data = {'a' : 0., 'b' : 1., 'c' : 2.}\n",
        "s = pd.Series(data,index=['b','c','d','a'])\n",
        "print(s)"
      ],
      "execution_count": 16,
      "outputs": [
        {
          "output_type": "stream",
          "text": [
            "b    1.0\n",
            "c    2.0\n",
            "d    NaN\n",
            "a    0.0\n",
            "dtype: float64\n"
          ],
          "name": "stdout"
        }
      ]
    },
    {
      "cell_type": "code",
      "metadata": {
        "colab": {
          "base_uri": "https://localhost:8080/"
        },
        "id": "aTCz7VBexDev",
        "outputId": "f46acac3-87cd-4399-e965-510e3c01e160"
      },
      "source": [
        "# Pristup elementima serije je moguc na osnovu pridruzenih indeksa\n",
        "print('Element sa indeksom \"b\":', s['b'])\n",
        "print('Element sa indeksom \"c\":', s['c'])"
      ],
      "execution_count": 17,
      "outputs": [
        {
          "output_type": "stream",
          "text": [
            "Element sa indeksom \"b\": 1.0\n",
            "Element sa indeksom \"c\": 2.0\n"
          ],
          "name": "stdout"
        }
      ]
    },
    {
      "cell_type": "code",
      "metadata": {
        "colab": {
          "base_uri": "https://localhost:8080/"
        },
        "id": "IP22xzePxS0X",
        "outputId": "4298ae36-b2d9-483e-fd8d-53ad595a5e8d"
      },
      "source": [
        "# Pristup elementima - vise elemenata\n",
        "s = pd.Series([1,2,3,4,5],index = ['a','b','c','d','e'])\n",
        "print(s[['a','c','d']])"
      ],
      "execution_count": 18,
      "outputs": [
        {
          "output_type": "stream",
          "text": [
            "a    1\n",
            "c    3\n",
            "d    4\n",
            "dtype: int64\n"
          ],
          "name": "stdout"
        }
      ]
    },
    {
      "cell_type": "code",
      "metadata": {
        "colab": {
          "base_uri": "https://localhost:8080/",
          "height": 562
        },
        "id": "I1htkrzAxifj",
        "outputId": "c7539257-9666-4680-ceda-ad81450e2799"
      },
      "source": [
        "# Pristup elementima - indeks koji nije validan (Exception is raised)\n",
        "s = pd.Series([1,2,3,4,5],index = ['a','b','c','d','e'])\n",
        "print(s['f'])"
      ],
      "execution_count": 19,
      "outputs": [
        {
          "output_type": "error",
          "ename": "KeyError",
          "evalue": "ignored",
          "traceback": [
            "\u001b[0;31m---------------------------------------------------------------------------\u001b[0m",
            "\u001b[0;31mKeyError\u001b[0m                                  Traceback (most recent call last)",
            "\u001b[0;32m/usr/local/lib/python3.6/dist-packages/pandas/core/indexes/base.py\u001b[0m in \u001b[0;36mget_loc\u001b[0;34m(self, key, method, tolerance)\u001b[0m\n\u001b[1;32m   2897\u001b[0m             \u001b[0;32mtry\u001b[0m\u001b[0;34m:\u001b[0m\u001b[0;34m\u001b[0m\u001b[0;34m\u001b[0m\u001b[0m\n\u001b[0;32m-> 2898\u001b[0;31m                 \u001b[0;32mreturn\u001b[0m \u001b[0mself\u001b[0m\u001b[0;34m.\u001b[0m\u001b[0m_engine\u001b[0m\u001b[0;34m.\u001b[0m\u001b[0mget_loc\u001b[0m\u001b[0;34m(\u001b[0m\u001b[0mcasted_key\u001b[0m\u001b[0;34m)\u001b[0m\u001b[0;34m\u001b[0m\u001b[0;34m\u001b[0m\u001b[0m\n\u001b[0m\u001b[1;32m   2899\u001b[0m             \u001b[0;32mexcept\u001b[0m \u001b[0mKeyError\u001b[0m \u001b[0;32mas\u001b[0m \u001b[0merr\u001b[0m\u001b[0;34m:\u001b[0m\u001b[0;34m\u001b[0m\u001b[0;34m\u001b[0m\u001b[0m\n",
            "\u001b[0;32mpandas/_libs/index.pyx\u001b[0m in \u001b[0;36mpandas._libs.index.IndexEngine.get_loc\u001b[0;34m()\u001b[0m\n",
            "\u001b[0;32mpandas/_libs/index.pyx\u001b[0m in \u001b[0;36mpandas._libs.index.IndexEngine.get_loc\u001b[0;34m()\u001b[0m\n",
            "\u001b[0;32mpandas/_libs/hashtable_class_helper.pxi\u001b[0m in \u001b[0;36mpandas._libs.hashtable.PyObjectHashTable.get_item\u001b[0;34m()\u001b[0m\n",
            "\u001b[0;32mpandas/_libs/hashtable_class_helper.pxi\u001b[0m in \u001b[0;36mpandas._libs.hashtable.PyObjectHashTable.get_item\u001b[0;34m()\u001b[0m\n",
            "\u001b[0;31mKeyError\u001b[0m: 'f'",
            "\nThe above exception was the direct cause of the following exception:\n",
            "\u001b[0;31mKeyError\u001b[0m                                  Traceback (most recent call last)",
            "\u001b[0;32m<ipython-input-19-0cbe0be3207e>\u001b[0m in \u001b[0;36m<module>\u001b[0;34m()\u001b[0m\n\u001b[1;32m      1\u001b[0m \u001b[0;31m# Pristup elementima - indeks koji nije validan\u001b[0m\u001b[0;34m\u001b[0m\u001b[0;34m\u001b[0m\u001b[0;34m\u001b[0m\u001b[0m\n\u001b[1;32m      2\u001b[0m \u001b[0ms\u001b[0m \u001b[0;34m=\u001b[0m \u001b[0mpd\u001b[0m\u001b[0;34m.\u001b[0m\u001b[0mSeries\u001b[0m\u001b[0;34m(\u001b[0m\u001b[0;34m[\u001b[0m\u001b[0;36m1\u001b[0m\u001b[0;34m,\u001b[0m\u001b[0;36m2\u001b[0m\u001b[0;34m,\u001b[0m\u001b[0;36m3\u001b[0m\u001b[0;34m,\u001b[0m\u001b[0;36m4\u001b[0m\u001b[0;34m,\u001b[0m\u001b[0;36m5\u001b[0m\u001b[0;34m]\u001b[0m\u001b[0;34m,\u001b[0m\u001b[0mindex\u001b[0m \u001b[0;34m=\u001b[0m \u001b[0;34m[\u001b[0m\u001b[0;34m'a'\u001b[0m\u001b[0;34m,\u001b[0m\u001b[0;34m'b'\u001b[0m\u001b[0;34m,\u001b[0m\u001b[0;34m'c'\u001b[0m\u001b[0;34m,\u001b[0m\u001b[0;34m'd'\u001b[0m\u001b[0;34m,\u001b[0m\u001b[0;34m'e'\u001b[0m\u001b[0;34m]\u001b[0m\u001b[0;34m)\u001b[0m\u001b[0;34m\u001b[0m\u001b[0;34m\u001b[0m\u001b[0m\n\u001b[0;32m----> 3\u001b[0;31m \u001b[0mprint\u001b[0m\u001b[0;34m(\u001b[0m\u001b[0ms\u001b[0m\u001b[0;34m[\u001b[0m\u001b[0;34m'f'\u001b[0m\u001b[0;34m]\u001b[0m\u001b[0;34m)\u001b[0m\u001b[0;34m\u001b[0m\u001b[0;34m\u001b[0m\u001b[0m\n\u001b[0m",
            "\u001b[0;32m/usr/local/lib/python3.6/dist-packages/pandas/core/series.py\u001b[0m in \u001b[0;36m__getitem__\u001b[0;34m(self, key)\u001b[0m\n\u001b[1;32m    880\u001b[0m \u001b[0;34m\u001b[0m\u001b[0m\n\u001b[1;32m    881\u001b[0m         \u001b[0;32melif\u001b[0m \u001b[0mkey_is_scalar\u001b[0m\u001b[0;34m:\u001b[0m\u001b[0;34m\u001b[0m\u001b[0;34m\u001b[0m\u001b[0m\n\u001b[0;32m--> 882\u001b[0;31m             \u001b[0;32mreturn\u001b[0m \u001b[0mself\u001b[0m\u001b[0;34m.\u001b[0m\u001b[0m_get_value\u001b[0m\u001b[0;34m(\u001b[0m\u001b[0mkey\u001b[0m\u001b[0;34m)\u001b[0m\u001b[0;34m\u001b[0m\u001b[0;34m\u001b[0m\u001b[0m\n\u001b[0m\u001b[1;32m    883\u001b[0m \u001b[0;34m\u001b[0m\u001b[0m\n\u001b[1;32m    884\u001b[0m         \u001b[0;32mif\u001b[0m \u001b[0mis_hashable\u001b[0m\u001b[0;34m(\u001b[0m\u001b[0mkey\u001b[0m\u001b[0;34m)\u001b[0m\u001b[0;34m:\u001b[0m\u001b[0;34m\u001b[0m\u001b[0;34m\u001b[0m\u001b[0m\n",
            "\u001b[0;32m/usr/local/lib/python3.6/dist-packages/pandas/core/series.py\u001b[0m in \u001b[0;36m_get_value\u001b[0;34m(self, label, takeable)\u001b[0m\n\u001b[1;32m    988\u001b[0m \u001b[0;34m\u001b[0m\u001b[0m\n\u001b[1;32m    989\u001b[0m         \u001b[0;31m# Similar to Index.get_value, but we do not fall back to positional\u001b[0m\u001b[0;34m\u001b[0m\u001b[0;34m\u001b[0m\u001b[0;34m\u001b[0m\u001b[0m\n\u001b[0;32m--> 990\u001b[0;31m         \u001b[0mloc\u001b[0m \u001b[0;34m=\u001b[0m \u001b[0mself\u001b[0m\u001b[0;34m.\u001b[0m\u001b[0mindex\u001b[0m\u001b[0;34m.\u001b[0m\u001b[0mget_loc\u001b[0m\u001b[0;34m(\u001b[0m\u001b[0mlabel\u001b[0m\u001b[0;34m)\u001b[0m\u001b[0;34m\u001b[0m\u001b[0;34m\u001b[0m\u001b[0m\n\u001b[0m\u001b[1;32m    991\u001b[0m         \u001b[0;32mreturn\u001b[0m \u001b[0mself\u001b[0m\u001b[0;34m.\u001b[0m\u001b[0mindex\u001b[0m\u001b[0;34m.\u001b[0m\u001b[0m_get_values_for_loc\u001b[0m\u001b[0;34m(\u001b[0m\u001b[0mself\u001b[0m\u001b[0;34m,\u001b[0m \u001b[0mloc\u001b[0m\u001b[0;34m,\u001b[0m \u001b[0mlabel\u001b[0m\u001b[0;34m)\u001b[0m\u001b[0;34m\u001b[0m\u001b[0;34m\u001b[0m\u001b[0m\n\u001b[1;32m    992\u001b[0m \u001b[0;34m\u001b[0m\u001b[0m\n",
            "\u001b[0;32m/usr/local/lib/python3.6/dist-packages/pandas/core/indexes/base.py\u001b[0m in \u001b[0;36mget_loc\u001b[0;34m(self, key, method, tolerance)\u001b[0m\n\u001b[1;32m   2898\u001b[0m                 \u001b[0;32mreturn\u001b[0m \u001b[0mself\u001b[0m\u001b[0;34m.\u001b[0m\u001b[0m_engine\u001b[0m\u001b[0;34m.\u001b[0m\u001b[0mget_loc\u001b[0m\u001b[0;34m(\u001b[0m\u001b[0mcasted_key\u001b[0m\u001b[0;34m)\u001b[0m\u001b[0;34m\u001b[0m\u001b[0;34m\u001b[0m\u001b[0m\n\u001b[1;32m   2899\u001b[0m             \u001b[0;32mexcept\u001b[0m \u001b[0mKeyError\u001b[0m \u001b[0;32mas\u001b[0m \u001b[0merr\u001b[0m\u001b[0;34m:\u001b[0m\u001b[0;34m\u001b[0m\u001b[0;34m\u001b[0m\u001b[0m\n\u001b[0;32m-> 2900\u001b[0;31m                 \u001b[0;32mraise\u001b[0m \u001b[0mKeyError\u001b[0m\u001b[0;34m(\u001b[0m\u001b[0mkey\u001b[0m\u001b[0;34m)\u001b[0m \u001b[0;32mfrom\u001b[0m \u001b[0merr\u001b[0m\u001b[0;34m\u001b[0m\u001b[0;34m\u001b[0m\u001b[0m\n\u001b[0m\u001b[1;32m   2901\u001b[0m \u001b[0;34m\u001b[0m\u001b[0m\n\u001b[1;32m   2902\u001b[0m         \u001b[0;32mif\u001b[0m \u001b[0mtolerance\u001b[0m \u001b[0;32mis\u001b[0m \u001b[0;32mnot\u001b[0m \u001b[0;32mNone\u001b[0m\u001b[0;34m:\u001b[0m\u001b[0;34m\u001b[0m\u001b[0;34m\u001b[0m\u001b[0m\n",
            "\u001b[0;31mKeyError\u001b[0m: 'f'"
          ]
        }
      ]
    },
    {
      "cell_type": "code",
      "metadata": {
        "colab": {
          "base_uri": "https://localhost:8080/"
        },
        "id": "w-s_jj9Wxrfk",
        "outputId": "79473cd3-22f9-4e82-e462-9aa46ab38615"
      },
      "source": [
        "# Pristup elementima pomocu indeksa\n",
        "s = pd.Series([1,2,3,4,5],index = ['a','b','c','d','e'])\n",
        "print(s[0])"
      ],
      "execution_count": 20,
      "outputs": [
        {
          "output_type": "stream",
          "text": [
            "1\n"
          ],
          "name": "stdout"
        }
      ]
    },
    {
      "cell_type": "code",
      "metadata": {
        "colab": {
          "base_uri": "https://localhost:8080/"
        },
        "id": "kQPsNUyix342",
        "outputId": "7cd64868-1150-486b-c8cc-04ab913f5e9a"
      },
      "source": [
        "# Pristup elementima pomocu indeksa - vise elemenata\n",
        "s = pd.Series([1,2,3,4,5],index = ['a','b','c','d','e'])\n",
        "print(s[3:])"
      ],
      "execution_count": 21,
      "outputs": [
        {
          "output_type": "stream",
          "text": [
            "d    4\n",
            "e    5\n",
            "dtype: int64\n"
          ],
          "name": "stdout"
        }
      ]
    },
    {
      "cell_type": "code",
      "metadata": {
        "colab": {
          "base_uri": "https://localhost:8080/"
        },
        "id": "gfiZLwasx7Y9",
        "outputId": "9a68bfff-302c-4f2d-9dd1-07ea3497e105"
      },
      "source": [
        "# Pristup elementima pomocu indeksa - vise elemenata\n",
        "s = pd.Series([1,2,3,4,5],index = ['a','b','c','d','e'])\n",
        "print(s[:-3])"
      ],
      "execution_count": 22,
      "outputs": [
        {
          "output_type": "stream",
          "text": [
            "a    1\n",
            "b    2\n",
            "dtype: int64\n"
          ],
          "name": "stdout"
        }
      ]
    },
    {
      "cell_type": "markdown",
      "metadata": {
        "id": "6hbnbZhkyJh3"
      },
      "source": [
        "## DataFrame\n",
        "\n",
        "**DataFrame** su strukture podataka koji odgovaraju tabelarnim podacima sa pridruženim obeležjima (indeksima). Sastoje se od Series struktura."
      ]
    },
    {
      "cell_type": "code",
      "metadata": {
        "colab": {
          "base_uri": "https://localhost:8080/"
        },
        "id": "JmQlVBT2x-sm",
        "outputId": "2f70bdb2-27b3-410f-b47b-52d68e8d18ab"
      },
      "source": [
        "df = pd.DataFrame({\n",
        "    'ime': ['Ana', 'Laza', 'Maja', 'Goran'],\n",
        "    'godine': [20, 22, 30, 27],\n",
        "    'grad': ['BG', 'NS', 'NS', 'NI']\n",
        "})\n",
        "print(df)\n",
        "print(df.shape)"
      ],
      "execution_count": 27,
      "outputs": [
        {
          "output_type": "stream",
          "text": [
            "     ime  godine grad\n",
            "0    Ana      20   BG\n",
            "1   Laza      22   NS\n",
            "2   Maja      30   NS\n",
            "3  Goran      27   NI\n",
            "(4, 3)\n"
          ],
          "name": "stdout"
        }
      ]
    },
    {
      "cell_type": "code",
      "metadata": {
        "colab": {
          "base_uri": "https://localhost:8080/",
          "height": 173
        },
        "id": "56W2SFljyV1v",
        "outputId": "b81c29e0-b9ef-470d-f59c-dddde7e7b35f"
      },
      "source": [
        "# Formatiran ispis u cellu\n",
        "df"
      ],
      "execution_count": 28,
      "outputs": [
        {
          "output_type": "execute_result",
          "data": {
            "text/html": [
              "<div>\n",
              "<style scoped>\n",
              "    .dataframe tbody tr th:only-of-type {\n",
              "        vertical-align: middle;\n",
              "    }\n",
              "\n",
              "    .dataframe tbody tr th {\n",
              "        vertical-align: top;\n",
              "    }\n",
              "\n",
              "    .dataframe thead th {\n",
              "        text-align: right;\n",
              "    }\n",
              "</style>\n",
              "<table border=\"1\" class=\"dataframe\">\n",
              "  <thead>\n",
              "    <tr style=\"text-align: right;\">\n",
              "      <th></th>\n",
              "      <th>ime</th>\n",
              "      <th>godine</th>\n",
              "      <th>grad</th>\n",
              "    </tr>\n",
              "  </thead>\n",
              "  <tbody>\n",
              "    <tr>\n",
              "      <th>0</th>\n",
              "      <td>Ana</td>\n",
              "      <td>20</td>\n",
              "      <td>BG</td>\n",
              "    </tr>\n",
              "    <tr>\n",
              "      <th>1</th>\n",
              "      <td>Laza</td>\n",
              "      <td>22</td>\n",
              "      <td>NS</td>\n",
              "    </tr>\n",
              "    <tr>\n",
              "      <th>2</th>\n",
              "      <td>Maja</td>\n",
              "      <td>30</td>\n",
              "      <td>NS</td>\n",
              "    </tr>\n",
              "    <tr>\n",
              "      <th>3</th>\n",
              "      <td>Goran</td>\n",
              "      <td>27</td>\n",
              "      <td>NI</td>\n",
              "    </tr>\n",
              "  </tbody>\n",
              "</table>\n",
              "</div>"
            ],
            "text/plain": [
              "     ime  godine grad\n",
              "0    Ana      20   BG\n",
              "1   Laza      22   NS\n",
              "2   Maja      30   NS\n",
              "3  Goran      27   NI"
            ]
          },
          "metadata": {
            "tags": []
          },
          "execution_count": 28
        }
      ]
    },
    {
      "cell_type": "code",
      "metadata": {
        "colab": {
          "base_uri": "https://localhost:8080/",
          "height": 111
        },
        "id": "4BhcxiPRyW21",
        "outputId": "376b8ce2-5c1d-4e91-ddf6-6b20f1deebbe"
      },
      "source": [
        "# U praksi su skupovi podataka nesto vecih velicina pa se cesto ispisuje svega nekoliko prvih vrsta\n",
        "df.head(2)"
      ],
      "execution_count": 29,
      "outputs": [
        {
          "output_type": "execute_result",
          "data": {
            "text/html": [
              "<div>\n",
              "<style scoped>\n",
              "    .dataframe tbody tr th:only-of-type {\n",
              "        vertical-align: middle;\n",
              "    }\n",
              "\n",
              "    .dataframe tbody tr th {\n",
              "        vertical-align: top;\n",
              "    }\n",
              "\n",
              "    .dataframe thead th {\n",
              "        text-align: right;\n",
              "    }\n",
              "</style>\n",
              "<table border=\"1\" class=\"dataframe\">\n",
              "  <thead>\n",
              "    <tr style=\"text-align: right;\">\n",
              "      <th></th>\n",
              "      <th>ime</th>\n",
              "      <th>godine</th>\n",
              "      <th>grad</th>\n",
              "    </tr>\n",
              "  </thead>\n",
              "  <tbody>\n",
              "    <tr>\n",
              "      <th>0</th>\n",
              "      <td>Ana</td>\n",
              "      <td>20</td>\n",
              "      <td>BG</td>\n",
              "    </tr>\n",
              "    <tr>\n",
              "      <th>1</th>\n",
              "      <td>Laza</td>\n",
              "      <td>22</td>\n",
              "      <td>NS</td>\n",
              "    </tr>\n",
              "  </tbody>\n",
              "</table>\n",
              "</div>"
            ],
            "text/plain": [
              "    ime  godine grad\n",
              "0   Ana      20   BG\n",
              "1  Laza      22   NS"
            ]
          },
          "metadata": {
            "tags": []
          },
          "execution_count": 29
        }
      ]
    },
    {
      "cell_type": "code",
      "metadata": {
        "colab": {
          "base_uri": "https://localhost:8080/"
        },
        "id": "WGALTNx_ydqd",
        "outputId": "e30ea3a1-4509-4afc-e843-54f499d086d3"
      },
      "source": [
        "# Pristup indeksima\n",
        "print('Indeksi vrsta:', df.index)\n",
        "print('Indeksi kolona:', df.columns)"
      ],
      "execution_count": 31,
      "outputs": [
        {
          "output_type": "stream",
          "text": [
            "Indeksi vrsta: RangeIndex(start=0, stop=4, step=1)\n",
            "Indeksi kolona: Index(['ime', 'godine', 'grad'], dtype='object')\n"
          ],
          "name": "stdout"
        }
      ]
    },
    {
      "cell_type": "code",
      "metadata": {
        "colab": {
          "base_uri": "https://localhost:8080/"
        },
        "id": "1bT7G2xgyqQH",
        "outputId": "4d95135d-9a51-4f24-e42b-8900a97a0275"
      },
      "source": [
        "# Citanje serije (kolone)\n",
        "print('Imena:')\n",
        "df.ime"
      ],
      "execution_count": 32,
      "outputs": [
        {
          "output_type": "stream",
          "text": [
            "Imena:\n"
          ],
          "name": "stdout"
        },
        {
          "output_type": "execute_result",
          "data": {
            "text/plain": [
              "0      Ana\n",
              "1     Laza\n",
              "2     Maja\n",
              "3    Goran\n",
              "Name: ime, dtype: object"
            ]
          },
          "metadata": {
            "tags": []
          },
          "execution_count": 32
        }
      ]
    },
    {
      "cell_type": "code",
      "metadata": {
        "colab": {
          "base_uri": "https://localhost:8080/"
        },
        "id": "3gxhUYfny9Uj",
        "outputId": "a8ca3820-b447-441e-e11b-cd0d68d23d31"
      },
      "source": [
        "# Citanje serije (kolone)\n",
        "print('Imena:')\n",
        "df['ime']"
      ],
      "execution_count": 33,
      "outputs": [
        {
          "output_type": "stream",
          "text": [
            "Imena:\n"
          ],
          "name": "stdout"
        },
        {
          "output_type": "execute_result",
          "data": {
            "text/plain": [
              "0      Ana\n",
              "1     Laza\n",
              "2     Maja\n",
              "3    Goran\n",
              "Name: ime, dtype: object"
            ]
          },
          "metadata": {
            "tags": []
          },
          "execution_count": 33
        }
      ]
    },
    {
      "cell_type": "code",
      "metadata": {
        "colab": {
          "base_uri": "https://localhost:8080/",
          "height": 173
        },
        "id": "ifuI4ZwFzDcQ",
        "outputId": "d662b7f2-54ed-4f3f-b85c-f530a304c75e"
      },
      "source": [
        "# Citanje serija (kolona)\n",
        "df[['ime', 'godine']]"
      ],
      "execution_count": 34,
      "outputs": [
        {
          "output_type": "execute_result",
          "data": {
            "text/html": [
              "<div>\n",
              "<style scoped>\n",
              "    .dataframe tbody tr th:only-of-type {\n",
              "        vertical-align: middle;\n",
              "    }\n",
              "\n",
              "    .dataframe tbody tr th {\n",
              "        vertical-align: top;\n",
              "    }\n",
              "\n",
              "    .dataframe thead th {\n",
              "        text-align: right;\n",
              "    }\n",
              "</style>\n",
              "<table border=\"1\" class=\"dataframe\">\n",
              "  <thead>\n",
              "    <tr style=\"text-align: right;\">\n",
              "      <th></th>\n",
              "      <th>ime</th>\n",
              "      <th>godine</th>\n",
              "    </tr>\n",
              "  </thead>\n",
              "  <tbody>\n",
              "    <tr>\n",
              "      <th>0</th>\n",
              "      <td>Ana</td>\n",
              "      <td>20</td>\n",
              "    </tr>\n",
              "    <tr>\n",
              "      <th>1</th>\n",
              "      <td>Laza</td>\n",
              "      <td>22</td>\n",
              "    </tr>\n",
              "    <tr>\n",
              "      <th>2</th>\n",
              "      <td>Maja</td>\n",
              "      <td>30</td>\n",
              "    </tr>\n",
              "    <tr>\n",
              "      <th>3</th>\n",
              "      <td>Goran</td>\n",
              "      <td>27</td>\n",
              "    </tr>\n",
              "  </tbody>\n",
              "</table>\n",
              "</div>"
            ],
            "text/plain": [
              "     ime  godine\n",
              "0    Ana      20\n",
              "1   Laza      22\n",
              "2   Maja      30\n",
              "3  Goran      27"
            ]
          },
          "metadata": {
            "tags": []
          },
          "execution_count": 34
        }
      ]
    },
    {
      "cell_type": "code",
      "metadata": {
        "colab": {
          "base_uri": "https://localhost:8080/"
        },
        "id": "Obeyd5s9zGEq",
        "outputId": "5b80f570-0828-481e-cb29-9dc11a80d732"
      },
      "source": [
        "# Citanje vrste\n",
        "df.loc[2]"
      ],
      "execution_count": 35,
      "outputs": [
        {
          "output_type": "execute_result",
          "data": {
            "text/plain": [
              "ime       Maja\n",
              "godine      30\n",
              "grad        NS\n",
              "Name: 2, dtype: object"
            ]
          },
          "metadata": {
            "tags": []
          },
          "execution_count": 35
        }
      ]
    },
    {
      "cell_type": "code",
      "metadata": {
        "colab": {
          "base_uri": "https://localhost:8080/",
          "height": 111
        },
        "id": "lqbmDPArzN-n",
        "outputId": "def48262-1b74-44cb-e264-dbe8449625e2"
      },
      "source": [
        "# Citanje vrsta\n",
        "df.loc[1:2]"
      ],
      "execution_count": 37,
      "outputs": [
        {
          "output_type": "execute_result",
          "data": {
            "text/html": [
              "<div>\n",
              "<style scoped>\n",
              "    .dataframe tbody tr th:only-of-type {\n",
              "        vertical-align: middle;\n",
              "    }\n",
              "\n",
              "    .dataframe tbody tr th {\n",
              "        vertical-align: top;\n",
              "    }\n",
              "\n",
              "    .dataframe thead th {\n",
              "        text-align: right;\n",
              "    }\n",
              "</style>\n",
              "<table border=\"1\" class=\"dataframe\">\n",
              "  <thead>\n",
              "    <tr style=\"text-align: right;\">\n",
              "      <th></th>\n",
              "      <th>ime</th>\n",
              "      <th>godine</th>\n",
              "      <th>grad</th>\n",
              "    </tr>\n",
              "  </thead>\n",
              "  <tbody>\n",
              "    <tr>\n",
              "      <th>1</th>\n",
              "      <td>Laza</td>\n",
              "      <td>22</td>\n",
              "      <td>NS</td>\n",
              "    </tr>\n",
              "    <tr>\n",
              "      <th>2</th>\n",
              "      <td>Maja</td>\n",
              "      <td>30</td>\n",
              "      <td>NS</td>\n",
              "    </tr>\n",
              "  </tbody>\n",
              "</table>\n",
              "</div>"
            ],
            "text/plain": [
              "    ime  godine grad\n",
              "1  Laza      22   NS\n",
              "2  Maja      30   NS"
            ]
          },
          "metadata": {
            "tags": []
          },
          "execution_count": 37
        }
      ]
    },
    {
      "cell_type": "code",
      "metadata": {
        "colab": {
          "base_uri": "https://localhost:8080/",
          "height": 35
        },
        "id": "m8xzUE-4zRbg",
        "outputId": "63a776dc-5a02-4808-9c1c-2c7756ab3b79"
      },
      "source": [
        "# Citanje polja\n",
        "df.loc[2]['ime']"
      ],
      "execution_count": 38,
      "outputs": [
        {
          "output_type": "execute_result",
          "data": {
            "application/vnd.google.colaboratory.intrinsic+json": {
              "type": "string"
            },
            "text/plain": [
              "'Maja'"
            ]
          },
          "metadata": {
            "tags": []
          },
          "execution_count": 38
        }
      ]
    },
    {
      "cell_type": "markdown",
      "metadata": {
        "id": "ZgNyRDJ40Pus"
      },
      "source": [
        "## Data Frame - Dive in"
      ]
    },
    {
      "cell_type": "code",
      "metadata": {
        "colab": {
          "base_uri": "https://localhost:8080/"
        },
        "id": "Oc1HaUTK0gHx",
        "outputId": "904e1443-3770-499e-fe64-2433305bd827"
      },
      "source": [
        "# Kreiranje serije datuma\n",
        "datumi = pd.date_range(\"20130101\", periods=6)\n",
        "datumi"
      ],
      "execution_count": 40,
      "outputs": [
        {
          "output_type": "execute_result",
          "data": {
            "text/plain": [
              "DatetimeIndex(['2013-01-01', '2013-01-02', '2013-01-03', '2013-01-04',\n",
              "               '2013-01-05', '2013-01-06'],\n",
              "              dtype='datetime64[ns]', freq='D')"
            ]
          },
          "metadata": {
            "tags": []
          },
          "execution_count": 40
        }
      ]
    },
    {
      "cell_type": "code",
      "metadata": {
        "colab": {
          "base_uri": "https://localhost:8080/",
          "height": 235
        },
        "id": "yuz5skN4zXS-",
        "outputId": "32959cb1-5723-4170-f099-476ea24d3178"
      },
      "source": [
        "# Data Frame indeksiran prema datumima\n",
        "df = pd.DataFrame(np.random.randn(6, 4), index=datumi, columns=list(\"ABCD\"))\n",
        "df"
      ],
      "execution_count": 42,
      "outputs": [
        {
          "output_type": "execute_result",
          "data": {
            "text/html": [
              "<div>\n",
              "<style scoped>\n",
              "    .dataframe tbody tr th:only-of-type {\n",
              "        vertical-align: middle;\n",
              "    }\n",
              "\n",
              "    .dataframe tbody tr th {\n",
              "        vertical-align: top;\n",
              "    }\n",
              "\n",
              "    .dataframe thead th {\n",
              "        text-align: right;\n",
              "    }\n",
              "</style>\n",
              "<table border=\"1\" class=\"dataframe\">\n",
              "  <thead>\n",
              "    <tr style=\"text-align: right;\">\n",
              "      <th></th>\n",
              "      <th>A</th>\n",
              "      <th>B</th>\n",
              "      <th>C</th>\n",
              "      <th>D</th>\n",
              "    </tr>\n",
              "  </thead>\n",
              "  <tbody>\n",
              "    <tr>\n",
              "      <th>2013-01-01</th>\n",
              "      <td>-0.564489</td>\n",
              "      <td>-0.097617</td>\n",
              "      <td>-1.652880</td>\n",
              "      <td>0.223085</td>\n",
              "    </tr>\n",
              "    <tr>\n",
              "      <th>2013-01-02</th>\n",
              "      <td>0.325612</td>\n",
              "      <td>-1.851627</td>\n",
              "      <td>-1.903947</td>\n",
              "      <td>0.400959</td>\n",
              "    </tr>\n",
              "    <tr>\n",
              "      <th>2013-01-03</th>\n",
              "      <td>0.510580</td>\n",
              "      <td>1.558028</td>\n",
              "      <td>0.037500</td>\n",
              "      <td>-0.779482</td>\n",
              "    </tr>\n",
              "    <tr>\n",
              "      <th>2013-01-04</th>\n",
              "      <td>-1.201652</td>\n",
              "      <td>1.943643</td>\n",
              "      <td>1.321976</td>\n",
              "      <td>0.053565</td>\n",
              "    </tr>\n",
              "    <tr>\n",
              "      <th>2013-01-05</th>\n",
              "      <td>0.386650</td>\n",
              "      <td>-1.947773</td>\n",
              "      <td>-1.917859</td>\n",
              "      <td>-1.238103</td>\n",
              "    </tr>\n",
              "    <tr>\n",
              "      <th>2013-01-06</th>\n",
              "      <td>-0.187726</td>\n",
              "      <td>-0.481389</td>\n",
              "      <td>-0.746262</td>\n",
              "      <td>1.054448</td>\n",
              "    </tr>\n",
              "  </tbody>\n",
              "</table>\n",
              "</div>"
            ],
            "text/plain": [
              "                   A         B         C         D\n",
              "2013-01-01 -0.564489 -0.097617 -1.652880  0.223085\n",
              "2013-01-02  0.325612 -1.851627 -1.903947  0.400959\n",
              "2013-01-03  0.510580  1.558028  0.037500 -0.779482\n",
              "2013-01-04 -1.201652  1.943643  1.321976  0.053565\n",
              "2013-01-05  0.386650 -1.947773 -1.917859 -1.238103\n",
              "2013-01-06 -0.187726 -0.481389 -0.746262  1.054448"
            ]
          },
          "metadata": {
            "tags": []
          },
          "execution_count": 42
        }
      ]
    },
    {
      "cell_type": "code",
      "metadata": {
        "colab": {
          "base_uri": "https://localhost:8080/",
          "height": 173
        },
        "id": "2rFLwTlB0bJK",
        "outputId": "210c5dac-c423-4f38-9154-3fcfec35bfb9"
      },
      "source": [
        "# Data Frame implicitno kastovanje recnika\n",
        "df2 = pd.DataFrame(\n",
        "  {\n",
        "  \"A\": 1.0,\n",
        "  \"B\": pd.Timestamp(\"20130102\"),\n",
        "  \"C\": pd.Series(1, index=list(range(4)), dtype=\"float32\"),\n",
        "  \"D\": np.array([3] * 4, dtype=\"int32\"),\n",
        "  \"E\": pd.Categorical([\"test\", \"train\", \"test\", \"train\"]),\n",
        "  \"F\": \"foo\",\n",
        "  })\n",
        "df2"
      ],
      "execution_count": 44,
      "outputs": [
        {
          "output_type": "execute_result",
          "data": {
            "text/html": [
              "<div>\n",
              "<style scoped>\n",
              "    .dataframe tbody tr th:only-of-type {\n",
              "        vertical-align: middle;\n",
              "    }\n",
              "\n",
              "    .dataframe tbody tr th {\n",
              "        vertical-align: top;\n",
              "    }\n",
              "\n",
              "    .dataframe thead th {\n",
              "        text-align: right;\n",
              "    }\n",
              "</style>\n",
              "<table border=\"1\" class=\"dataframe\">\n",
              "  <thead>\n",
              "    <tr style=\"text-align: right;\">\n",
              "      <th></th>\n",
              "      <th>A</th>\n",
              "      <th>B</th>\n",
              "      <th>C</th>\n",
              "      <th>D</th>\n",
              "      <th>E</th>\n",
              "      <th>F</th>\n",
              "    </tr>\n",
              "  </thead>\n",
              "  <tbody>\n",
              "    <tr>\n",
              "      <th>0</th>\n",
              "      <td>1.0</td>\n",
              "      <td>2013-01-02</td>\n",
              "      <td>1.0</td>\n",
              "      <td>3</td>\n",
              "      <td>test</td>\n",
              "      <td>foo</td>\n",
              "    </tr>\n",
              "    <tr>\n",
              "      <th>1</th>\n",
              "      <td>1.0</td>\n",
              "      <td>2013-01-02</td>\n",
              "      <td>1.0</td>\n",
              "      <td>3</td>\n",
              "      <td>train</td>\n",
              "      <td>foo</td>\n",
              "    </tr>\n",
              "    <tr>\n",
              "      <th>2</th>\n",
              "      <td>1.0</td>\n",
              "      <td>2013-01-02</td>\n",
              "      <td>1.0</td>\n",
              "      <td>3</td>\n",
              "      <td>test</td>\n",
              "      <td>foo</td>\n",
              "    </tr>\n",
              "    <tr>\n",
              "      <th>3</th>\n",
              "      <td>1.0</td>\n",
              "      <td>2013-01-02</td>\n",
              "      <td>1.0</td>\n",
              "      <td>3</td>\n",
              "      <td>train</td>\n",
              "      <td>foo</td>\n",
              "    </tr>\n",
              "  </tbody>\n",
              "</table>\n",
              "</div>"
            ],
            "text/plain": [
              "     A          B    C  D      E    F\n",
              "0  1.0 2013-01-02  1.0  3   test  foo\n",
              "1  1.0 2013-01-02  1.0  3  train  foo\n",
              "2  1.0 2013-01-02  1.0  3   test  foo\n",
              "3  1.0 2013-01-02  1.0  3  train  foo"
            ]
          },
          "metadata": {
            "tags": []
          },
          "execution_count": 44
        }
      ]
    },
    {
      "cell_type": "code",
      "metadata": {
        "colab": {
          "base_uri": "https://localhost:8080/"
        },
        "id": "XWllK6YQ04xH",
        "outputId": "d1ae1bed-a19b-4530-b8b2-61c38b946b76"
      },
      "source": [
        "# Tipovi atributa\n",
        "df2.dtypes"
      ],
      "execution_count": 46,
      "outputs": [
        {
          "output_type": "execute_result",
          "data": {
            "text/plain": [
              "A           float64\n",
              "B    datetime64[ns]\n",
              "C           float32\n",
              "D             int32\n",
              "E          category\n",
              "F            object\n",
              "dtype: object"
            ]
          },
          "metadata": {
            "tags": []
          },
          "execution_count": 46
        }
      ]
    },
    {
      "cell_type": "code",
      "metadata": {
        "colab": {
          "base_uri": "https://localhost:8080/",
          "height": 204
        },
        "id": "DzgX1tAf1DkM",
        "outputId": "1502a4cd-463f-4467-f7eb-0f13ab7fbff0"
      },
      "source": [
        "# Head\n",
        "df.head()"
      ],
      "execution_count": 47,
      "outputs": [
        {
          "output_type": "execute_result",
          "data": {
            "text/html": [
              "<div>\n",
              "<style scoped>\n",
              "    .dataframe tbody tr th:only-of-type {\n",
              "        vertical-align: middle;\n",
              "    }\n",
              "\n",
              "    .dataframe tbody tr th {\n",
              "        vertical-align: top;\n",
              "    }\n",
              "\n",
              "    .dataframe thead th {\n",
              "        text-align: right;\n",
              "    }\n",
              "</style>\n",
              "<table border=\"1\" class=\"dataframe\">\n",
              "  <thead>\n",
              "    <tr style=\"text-align: right;\">\n",
              "      <th></th>\n",
              "      <th>A</th>\n",
              "      <th>B</th>\n",
              "      <th>C</th>\n",
              "      <th>D</th>\n",
              "    </tr>\n",
              "  </thead>\n",
              "  <tbody>\n",
              "    <tr>\n",
              "      <th>2013-01-01</th>\n",
              "      <td>-0.564489</td>\n",
              "      <td>-0.097617</td>\n",
              "      <td>-1.652880</td>\n",
              "      <td>0.223085</td>\n",
              "    </tr>\n",
              "    <tr>\n",
              "      <th>2013-01-02</th>\n",
              "      <td>0.325612</td>\n",
              "      <td>-1.851627</td>\n",
              "      <td>-1.903947</td>\n",
              "      <td>0.400959</td>\n",
              "    </tr>\n",
              "    <tr>\n",
              "      <th>2013-01-03</th>\n",
              "      <td>0.510580</td>\n",
              "      <td>1.558028</td>\n",
              "      <td>0.037500</td>\n",
              "      <td>-0.779482</td>\n",
              "    </tr>\n",
              "    <tr>\n",
              "      <th>2013-01-04</th>\n",
              "      <td>-1.201652</td>\n",
              "      <td>1.943643</td>\n",
              "      <td>1.321976</td>\n",
              "      <td>0.053565</td>\n",
              "    </tr>\n",
              "    <tr>\n",
              "      <th>2013-01-05</th>\n",
              "      <td>0.386650</td>\n",
              "      <td>-1.947773</td>\n",
              "      <td>-1.917859</td>\n",
              "      <td>-1.238103</td>\n",
              "    </tr>\n",
              "  </tbody>\n",
              "</table>\n",
              "</div>"
            ],
            "text/plain": [
              "                   A         B         C         D\n",
              "2013-01-01 -0.564489 -0.097617 -1.652880  0.223085\n",
              "2013-01-02  0.325612 -1.851627 -1.903947  0.400959\n",
              "2013-01-03  0.510580  1.558028  0.037500 -0.779482\n",
              "2013-01-04 -1.201652  1.943643  1.321976  0.053565\n",
              "2013-01-05  0.386650 -1.947773 -1.917859 -1.238103"
            ]
          },
          "metadata": {
            "tags": []
          },
          "execution_count": 47
        }
      ]
    },
    {
      "cell_type": "code",
      "metadata": {
        "colab": {
          "base_uri": "https://localhost:8080/",
          "height": 204
        },
        "id": "AISipjas1K_K",
        "outputId": "2b431706-cb20-479a-b13c-ae2e99c2dc3f"
      },
      "source": [
        "# Tail\n",
        "df.tail()"
      ],
      "execution_count": 48,
      "outputs": [
        {
          "output_type": "execute_result",
          "data": {
            "text/html": [
              "<div>\n",
              "<style scoped>\n",
              "    .dataframe tbody tr th:only-of-type {\n",
              "        vertical-align: middle;\n",
              "    }\n",
              "\n",
              "    .dataframe tbody tr th {\n",
              "        vertical-align: top;\n",
              "    }\n",
              "\n",
              "    .dataframe thead th {\n",
              "        text-align: right;\n",
              "    }\n",
              "</style>\n",
              "<table border=\"1\" class=\"dataframe\">\n",
              "  <thead>\n",
              "    <tr style=\"text-align: right;\">\n",
              "      <th></th>\n",
              "      <th>A</th>\n",
              "      <th>B</th>\n",
              "      <th>C</th>\n",
              "      <th>D</th>\n",
              "    </tr>\n",
              "  </thead>\n",
              "  <tbody>\n",
              "    <tr>\n",
              "      <th>2013-01-02</th>\n",
              "      <td>0.325612</td>\n",
              "      <td>-1.851627</td>\n",
              "      <td>-1.903947</td>\n",
              "      <td>0.400959</td>\n",
              "    </tr>\n",
              "    <tr>\n",
              "      <th>2013-01-03</th>\n",
              "      <td>0.510580</td>\n",
              "      <td>1.558028</td>\n",
              "      <td>0.037500</td>\n",
              "      <td>-0.779482</td>\n",
              "    </tr>\n",
              "    <tr>\n",
              "      <th>2013-01-04</th>\n",
              "      <td>-1.201652</td>\n",
              "      <td>1.943643</td>\n",
              "      <td>1.321976</td>\n",
              "      <td>0.053565</td>\n",
              "    </tr>\n",
              "    <tr>\n",
              "      <th>2013-01-05</th>\n",
              "      <td>0.386650</td>\n",
              "      <td>-1.947773</td>\n",
              "      <td>-1.917859</td>\n",
              "      <td>-1.238103</td>\n",
              "    </tr>\n",
              "    <tr>\n",
              "      <th>2013-01-06</th>\n",
              "      <td>-0.187726</td>\n",
              "      <td>-0.481389</td>\n",
              "      <td>-0.746262</td>\n",
              "      <td>1.054448</td>\n",
              "    </tr>\n",
              "  </tbody>\n",
              "</table>\n",
              "</div>"
            ],
            "text/plain": [
              "                   A         B         C         D\n",
              "2013-01-02  0.325612 -1.851627 -1.903947  0.400959\n",
              "2013-01-03  0.510580  1.558028  0.037500 -0.779482\n",
              "2013-01-04 -1.201652  1.943643  1.321976  0.053565\n",
              "2013-01-05  0.386650 -1.947773 -1.917859 -1.238103\n",
              "2013-01-06 -0.187726 -0.481389 -0.746262  1.054448"
            ]
          },
          "metadata": {
            "tags": []
          },
          "execution_count": 48
        }
      ]
    },
    {
      "cell_type": "code",
      "metadata": {
        "colab": {
          "base_uri": "https://localhost:8080/"
        },
        "id": "LorTq2Sq1N9I",
        "outputId": "fbd7e176-11a9-4212-d5f7-4995703d1df8"
      },
      "source": [
        "# Indeksi\n",
        "df.index"
      ],
      "execution_count": 49,
      "outputs": [
        {
          "output_type": "execute_result",
          "data": {
            "text/plain": [
              "DatetimeIndex(['2013-01-01', '2013-01-02', '2013-01-03', '2013-01-04',\n",
              "               '2013-01-05', '2013-01-06'],\n",
              "              dtype='datetime64[ns]', freq='D')"
            ]
          },
          "metadata": {
            "tags": []
          },
          "execution_count": 49
        }
      ]
    },
    {
      "cell_type": "code",
      "metadata": {
        "colab": {
          "base_uri": "https://localhost:8080/"
        },
        "id": "dGyu1bcF1RVt",
        "outputId": "ec521fc8-16a1-4803-9904-f804a1dd5400"
      },
      "source": [
        "# Kolone\n",
        "df.columns"
      ],
      "execution_count": 50,
      "outputs": [
        {
          "output_type": "execute_result",
          "data": {
            "text/plain": [
              "Index(['A', 'B', 'C', 'D'], dtype='object')"
            ]
          },
          "metadata": {
            "tags": []
          },
          "execution_count": 50
        }
      ]
    },
    {
      "cell_type": "markdown",
      "metadata": {
        "id": "ZZUdryoB9r1l"
      },
      "source": [
        "### Transformacije"
      ]
    },
    {
      "cell_type": "code",
      "metadata": {
        "colab": {
          "base_uri": "https://localhost:8080/"
        },
        "id": "xEPn2Jxn1TuR",
        "outputId": "3ef0a68c-bd37-4a9e-883f-dc1b1cd932d7"
      },
      "source": [
        "# Cast u numpy (1 tip)\n",
        "df.to_numpy()"
      ],
      "execution_count": 52,
      "outputs": [
        {
          "output_type": "execute_result",
          "data": {
            "text/plain": [
              "array([[-0.56448884, -0.09761737, -1.65287974,  0.22308466],\n",
              "       [ 0.32561162, -1.85162683, -1.9039465 ,  0.40095914],\n",
              "       [ 0.51057953,  1.55802787,  0.03749972, -0.77948239],\n",
              "       [-1.20165179,  1.94364251,  1.32197641,  0.05356453],\n",
              "       [ 0.38665021, -1.94777329, -1.91785872, -1.23810293],\n",
              "       [-0.18772648, -0.48138907, -0.74626156,  1.05444772]])"
            ]
          },
          "metadata": {
            "tags": []
          },
          "execution_count": 52
        }
      ]
    },
    {
      "cell_type": "code",
      "metadata": {
        "colab": {
          "base_uri": "https://localhost:8080/"
        },
        "id": "XZF-dhDz1WPo",
        "outputId": "5fcf7739-de90-45ce-8077-62bb11ff911c"
      },
      "source": [
        "# Object tip\n",
        "df2.to_numpy()"
      ],
      "execution_count": 53,
      "outputs": [
        {
          "output_type": "execute_result",
          "data": {
            "text/plain": [
              "array([[1.0, Timestamp('2013-01-02 00:00:00'), 1.0, 3, 'test', 'foo'],\n",
              "       [1.0, Timestamp('2013-01-02 00:00:00'), 1.0, 3, 'train', 'foo'],\n",
              "       [1.0, Timestamp('2013-01-02 00:00:00'), 1.0, 3, 'test', 'foo'],\n",
              "       [1.0, Timestamp('2013-01-02 00:00:00'), 1.0, 3, 'train', 'foo']],\n",
              "      dtype=object)"
            ]
          },
          "metadata": {
            "tags": []
          },
          "execution_count": 53
        }
      ]
    },
    {
      "cell_type": "code",
      "metadata": {
        "colab": {
          "base_uri": "https://localhost:8080/",
          "height": 297
        },
        "id": "5VpOheLv1jJ8",
        "outputId": "9e9b587d-905f-4f6d-983e-89e53d2367a0"
      },
      "source": [
        "# Elementarne statistike atributa\n",
        "df.describe()"
      ],
      "execution_count": 54,
      "outputs": [
        {
          "output_type": "execute_result",
          "data": {
            "text/html": [
              "<div>\n",
              "<style scoped>\n",
              "    .dataframe tbody tr th:only-of-type {\n",
              "        vertical-align: middle;\n",
              "    }\n",
              "\n",
              "    .dataframe tbody tr th {\n",
              "        vertical-align: top;\n",
              "    }\n",
              "\n",
              "    .dataframe thead th {\n",
              "        text-align: right;\n",
              "    }\n",
              "</style>\n",
              "<table border=\"1\" class=\"dataframe\">\n",
              "  <thead>\n",
              "    <tr style=\"text-align: right;\">\n",
              "      <th></th>\n",
              "      <th>A</th>\n",
              "      <th>B</th>\n",
              "      <th>C</th>\n",
              "      <th>D</th>\n",
              "    </tr>\n",
              "  </thead>\n",
              "  <tbody>\n",
              "    <tr>\n",
              "      <th>count</th>\n",
              "      <td>6.000000</td>\n",
              "      <td>6.000000</td>\n",
              "      <td>6.000000</td>\n",
              "      <td>6.000000</td>\n",
              "    </tr>\n",
              "    <tr>\n",
              "      <th>mean</th>\n",
              "      <td>-0.121838</td>\n",
              "      <td>-0.146123</td>\n",
              "      <td>-0.810245</td>\n",
              "      <td>-0.047588</td>\n",
              "    </tr>\n",
              "    <tr>\n",
              "      <th>std</th>\n",
              "      <td>0.667084</td>\n",
              "      <td>1.645642</td>\n",
              "      <td>1.296315</td>\n",
              "      <td>0.830923</td>\n",
              "    </tr>\n",
              "    <tr>\n",
              "      <th>min</th>\n",
              "      <td>-1.201652</td>\n",
              "      <td>-1.947773</td>\n",
              "      <td>-1.917859</td>\n",
              "      <td>-1.238103</td>\n",
              "    </tr>\n",
              "    <tr>\n",
              "      <th>25%</th>\n",
              "      <td>-0.470298</td>\n",
              "      <td>-1.509067</td>\n",
              "      <td>-1.841180</td>\n",
              "      <td>-0.571221</td>\n",
              "    </tr>\n",
              "    <tr>\n",
              "      <th>50%</th>\n",
              "      <td>0.068943</td>\n",
              "      <td>-0.289503</td>\n",
              "      <td>-1.199571</td>\n",
              "      <td>0.138325</td>\n",
              "    </tr>\n",
              "    <tr>\n",
              "      <th>75%</th>\n",
              "      <td>0.371391</td>\n",
              "      <td>1.144117</td>\n",
              "      <td>-0.158441</td>\n",
              "      <td>0.356491</td>\n",
              "    </tr>\n",
              "    <tr>\n",
              "      <th>max</th>\n",
              "      <td>0.510580</td>\n",
              "      <td>1.943643</td>\n",
              "      <td>1.321976</td>\n",
              "      <td>1.054448</td>\n",
              "    </tr>\n",
              "  </tbody>\n",
              "</table>\n",
              "</div>"
            ],
            "text/plain": [
              "              A         B         C         D\n",
              "count  6.000000  6.000000  6.000000  6.000000\n",
              "mean  -0.121838 -0.146123 -0.810245 -0.047588\n",
              "std    0.667084  1.645642  1.296315  0.830923\n",
              "min   -1.201652 -1.947773 -1.917859 -1.238103\n",
              "25%   -0.470298 -1.509067 -1.841180 -0.571221\n",
              "50%    0.068943 -0.289503 -1.199571  0.138325\n",
              "75%    0.371391  1.144117 -0.158441  0.356491\n",
              "max    0.510580  1.943643  1.321976  1.054448"
            ]
          },
          "metadata": {
            "tags": []
          },
          "execution_count": 54
        }
      ]
    },
    {
      "cell_type": "code",
      "metadata": {
        "colab": {
          "base_uri": "https://localhost:8080/",
          "height": 173
        },
        "id": "G5IJGJRX1nhm",
        "outputId": "228d6ada-e44f-4b55-afa0-606c020fe0a6"
      },
      "source": [
        "# Transponovanje\n",
        "df.T"
      ],
      "execution_count": 56,
      "outputs": [
        {
          "output_type": "execute_result",
          "data": {
            "text/html": [
              "<div>\n",
              "<style scoped>\n",
              "    .dataframe tbody tr th:only-of-type {\n",
              "        vertical-align: middle;\n",
              "    }\n",
              "\n",
              "    .dataframe tbody tr th {\n",
              "        vertical-align: top;\n",
              "    }\n",
              "\n",
              "    .dataframe thead th {\n",
              "        text-align: right;\n",
              "    }\n",
              "</style>\n",
              "<table border=\"1\" class=\"dataframe\">\n",
              "  <thead>\n",
              "    <tr style=\"text-align: right;\">\n",
              "      <th></th>\n",
              "      <th>2013-01-01</th>\n",
              "      <th>2013-01-02</th>\n",
              "      <th>2013-01-03</th>\n",
              "      <th>2013-01-04</th>\n",
              "      <th>2013-01-05</th>\n",
              "      <th>2013-01-06</th>\n",
              "    </tr>\n",
              "  </thead>\n",
              "  <tbody>\n",
              "    <tr>\n",
              "      <th>A</th>\n",
              "      <td>-0.564489</td>\n",
              "      <td>0.325612</td>\n",
              "      <td>0.510580</td>\n",
              "      <td>-1.201652</td>\n",
              "      <td>0.386650</td>\n",
              "      <td>-0.187726</td>\n",
              "    </tr>\n",
              "    <tr>\n",
              "      <th>B</th>\n",
              "      <td>-0.097617</td>\n",
              "      <td>-1.851627</td>\n",
              "      <td>1.558028</td>\n",
              "      <td>1.943643</td>\n",
              "      <td>-1.947773</td>\n",
              "      <td>-0.481389</td>\n",
              "    </tr>\n",
              "    <tr>\n",
              "      <th>C</th>\n",
              "      <td>-1.652880</td>\n",
              "      <td>-1.903947</td>\n",
              "      <td>0.037500</td>\n",
              "      <td>1.321976</td>\n",
              "      <td>-1.917859</td>\n",
              "      <td>-0.746262</td>\n",
              "    </tr>\n",
              "    <tr>\n",
              "      <th>D</th>\n",
              "      <td>0.223085</td>\n",
              "      <td>0.400959</td>\n",
              "      <td>-0.779482</td>\n",
              "      <td>0.053565</td>\n",
              "      <td>-1.238103</td>\n",
              "      <td>1.054448</td>\n",
              "    </tr>\n",
              "  </tbody>\n",
              "</table>\n",
              "</div>"
            ],
            "text/plain": [
              "   2013-01-01  2013-01-02  2013-01-03  2013-01-04  2013-01-05  2013-01-06\n",
              "A   -0.564489    0.325612    0.510580   -1.201652    0.386650   -0.187726\n",
              "B   -0.097617   -1.851627    1.558028    1.943643   -1.947773   -0.481389\n",
              "C   -1.652880   -1.903947    0.037500    1.321976   -1.917859   -0.746262\n",
              "D    0.223085    0.400959   -0.779482    0.053565   -1.238103    1.054448"
            ]
          },
          "metadata": {
            "tags": []
          },
          "execution_count": 56
        }
      ]
    },
    {
      "cell_type": "code",
      "metadata": {
        "colab": {
          "base_uri": "https://localhost:8080/",
          "height": 235
        },
        "id": "nGaXoMoH1ow9",
        "outputId": "a643f68b-7acf-4cec-af75-85a6289fbcbc"
      },
      "source": [
        "# Sortiranje po atributima\n",
        "df.sort_index(axis=1, ascending=False)"
      ],
      "execution_count": 59,
      "outputs": [
        {
          "output_type": "execute_result",
          "data": {
            "text/html": [
              "<div>\n",
              "<style scoped>\n",
              "    .dataframe tbody tr th:only-of-type {\n",
              "        vertical-align: middle;\n",
              "    }\n",
              "\n",
              "    .dataframe tbody tr th {\n",
              "        vertical-align: top;\n",
              "    }\n",
              "\n",
              "    .dataframe thead th {\n",
              "        text-align: right;\n",
              "    }\n",
              "</style>\n",
              "<table border=\"1\" class=\"dataframe\">\n",
              "  <thead>\n",
              "    <tr style=\"text-align: right;\">\n",
              "      <th></th>\n",
              "      <th>D</th>\n",
              "      <th>C</th>\n",
              "      <th>B</th>\n",
              "      <th>A</th>\n",
              "    </tr>\n",
              "  </thead>\n",
              "  <tbody>\n",
              "    <tr>\n",
              "      <th>2013-01-01</th>\n",
              "      <td>0.223085</td>\n",
              "      <td>-1.652880</td>\n",
              "      <td>-0.097617</td>\n",
              "      <td>-0.564489</td>\n",
              "    </tr>\n",
              "    <tr>\n",
              "      <th>2013-01-02</th>\n",
              "      <td>0.400959</td>\n",
              "      <td>-1.903947</td>\n",
              "      <td>-1.851627</td>\n",
              "      <td>0.325612</td>\n",
              "    </tr>\n",
              "    <tr>\n",
              "      <th>2013-01-03</th>\n",
              "      <td>-0.779482</td>\n",
              "      <td>0.037500</td>\n",
              "      <td>1.558028</td>\n",
              "      <td>0.510580</td>\n",
              "    </tr>\n",
              "    <tr>\n",
              "      <th>2013-01-04</th>\n",
              "      <td>0.053565</td>\n",
              "      <td>1.321976</td>\n",
              "      <td>1.943643</td>\n",
              "      <td>-1.201652</td>\n",
              "    </tr>\n",
              "    <tr>\n",
              "      <th>2013-01-05</th>\n",
              "      <td>-1.238103</td>\n",
              "      <td>-1.917859</td>\n",
              "      <td>-1.947773</td>\n",
              "      <td>0.386650</td>\n",
              "    </tr>\n",
              "    <tr>\n",
              "      <th>2013-01-06</th>\n",
              "      <td>1.054448</td>\n",
              "      <td>-0.746262</td>\n",
              "      <td>-0.481389</td>\n",
              "      <td>-0.187726</td>\n",
              "    </tr>\n",
              "  </tbody>\n",
              "</table>\n",
              "</div>"
            ],
            "text/plain": [
              "                   D         C         B         A\n",
              "2013-01-01  0.223085 -1.652880 -0.097617 -0.564489\n",
              "2013-01-02  0.400959 -1.903947 -1.851627  0.325612\n",
              "2013-01-03 -0.779482  0.037500  1.558028  0.510580\n",
              "2013-01-04  0.053565  1.321976  1.943643 -1.201652\n",
              "2013-01-05 -1.238103 -1.917859 -1.947773  0.386650\n",
              "2013-01-06  1.054448 -0.746262 -0.481389 -0.187726"
            ]
          },
          "metadata": {
            "tags": []
          },
          "execution_count": 59
        }
      ]
    },
    {
      "cell_type": "code",
      "metadata": {
        "colab": {
          "base_uri": "https://localhost:8080/",
          "height": 235
        },
        "id": "pgzLhVZk2F-w",
        "outputId": "7a6ac557-03ac-447f-d9c8-d330ef72a995"
      },
      "source": [
        "# Sortiranje po atributima\n",
        "df.sort_index(axis=1, ascending=True)"
      ],
      "execution_count": 60,
      "outputs": [
        {
          "output_type": "execute_result",
          "data": {
            "text/html": [
              "<div>\n",
              "<style scoped>\n",
              "    .dataframe tbody tr th:only-of-type {\n",
              "        vertical-align: middle;\n",
              "    }\n",
              "\n",
              "    .dataframe tbody tr th {\n",
              "        vertical-align: top;\n",
              "    }\n",
              "\n",
              "    .dataframe thead th {\n",
              "        text-align: right;\n",
              "    }\n",
              "</style>\n",
              "<table border=\"1\" class=\"dataframe\">\n",
              "  <thead>\n",
              "    <tr style=\"text-align: right;\">\n",
              "      <th></th>\n",
              "      <th>A</th>\n",
              "      <th>B</th>\n",
              "      <th>C</th>\n",
              "      <th>D</th>\n",
              "    </tr>\n",
              "  </thead>\n",
              "  <tbody>\n",
              "    <tr>\n",
              "      <th>2013-01-01</th>\n",
              "      <td>-0.564489</td>\n",
              "      <td>-0.097617</td>\n",
              "      <td>-1.652880</td>\n",
              "      <td>0.223085</td>\n",
              "    </tr>\n",
              "    <tr>\n",
              "      <th>2013-01-02</th>\n",
              "      <td>0.325612</td>\n",
              "      <td>-1.851627</td>\n",
              "      <td>-1.903947</td>\n",
              "      <td>0.400959</td>\n",
              "    </tr>\n",
              "    <tr>\n",
              "      <th>2013-01-03</th>\n",
              "      <td>0.510580</td>\n",
              "      <td>1.558028</td>\n",
              "      <td>0.037500</td>\n",
              "      <td>-0.779482</td>\n",
              "    </tr>\n",
              "    <tr>\n",
              "      <th>2013-01-04</th>\n",
              "      <td>-1.201652</td>\n",
              "      <td>1.943643</td>\n",
              "      <td>1.321976</td>\n",
              "      <td>0.053565</td>\n",
              "    </tr>\n",
              "    <tr>\n",
              "      <th>2013-01-05</th>\n",
              "      <td>0.386650</td>\n",
              "      <td>-1.947773</td>\n",
              "      <td>-1.917859</td>\n",
              "      <td>-1.238103</td>\n",
              "    </tr>\n",
              "    <tr>\n",
              "      <th>2013-01-06</th>\n",
              "      <td>-0.187726</td>\n",
              "      <td>-0.481389</td>\n",
              "      <td>-0.746262</td>\n",
              "      <td>1.054448</td>\n",
              "    </tr>\n",
              "  </tbody>\n",
              "</table>\n",
              "</div>"
            ],
            "text/plain": [
              "                   A         B         C         D\n",
              "2013-01-01 -0.564489 -0.097617 -1.652880  0.223085\n",
              "2013-01-02  0.325612 -1.851627 -1.903947  0.400959\n",
              "2013-01-03  0.510580  1.558028  0.037500 -0.779482\n",
              "2013-01-04 -1.201652  1.943643  1.321976  0.053565\n",
              "2013-01-05  0.386650 -1.947773 -1.917859 -1.238103\n",
              "2013-01-06 -0.187726 -0.481389 -0.746262  1.054448"
            ]
          },
          "metadata": {
            "tags": []
          },
          "execution_count": 60
        }
      ]
    },
    {
      "cell_type": "code",
      "metadata": {
        "colab": {
          "base_uri": "https://localhost:8080/",
          "height": 235
        },
        "id": "TjkgEvVk2NBr",
        "outputId": "7a810b93-a236-4e05-9913-ce447aa1cf76"
      },
      "source": [
        "# Sortiranje po koloni\n",
        "df.sort_values(by=\"B\")"
      ],
      "execution_count": 61,
      "outputs": [
        {
          "output_type": "execute_result",
          "data": {
            "text/html": [
              "<div>\n",
              "<style scoped>\n",
              "    .dataframe tbody tr th:only-of-type {\n",
              "        vertical-align: middle;\n",
              "    }\n",
              "\n",
              "    .dataframe tbody tr th {\n",
              "        vertical-align: top;\n",
              "    }\n",
              "\n",
              "    .dataframe thead th {\n",
              "        text-align: right;\n",
              "    }\n",
              "</style>\n",
              "<table border=\"1\" class=\"dataframe\">\n",
              "  <thead>\n",
              "    <tr style=\"text-align: right;\">\n",
              "      <th></th>\n",
              "      <th>A</th>\n",
              "      <th>B</th>\n",
              "      <th>C</th>\n",
              "      <th>D</th>\n",
              "    </tr>\n",
              "  </thead>\n",
              "  <tbody>\n",
              "    <tr>\n",
              "      <th>2013-01-05</th>\n",
              "      <td>0.386650</td>\n",
              "      <td>-1.947773</td>\n",
              "      <td>-1.917859</td>\n",
              "      <td>-1.238103</td>\n",
              "    </tr>\n",
              "    <tr>\n",
              "      <th>2013-01-02</th>\n",
              "      <td>0.325612</td>\n",
              "      <td>-1.851627</td>\n",
              "      <td>-1.903947</td>\n",
              "      <td>0.400959</td>\n",
              "    </tr>\n",
              "    <tr>\n",
              "      <th>2013-01-06</th>\n",
              "      <td>-0.187726</td>\n",
              "      <td>-0.481389</td>\n",
              "      <td>-0.746262</td>\n",
              "      <td>1.054448</td>\n",
              "    </tr>\n",
              "    <tr>\n",
              "      <th>2013-01-01</th>\n",
              "      <td>-0.564489</td>\n",
              "      <td>-0.097617</td>\n",
              "      <td>-1.652880</td>\n",
              "      <td>0.223085</td>\n",
              "    </tr>\n",
              "    <tr>\n",
              "      <th>2013-01-03</th>\n",
              "      <td>0.510580</td>\n",
              "      <td>1.558028</td>\n",
              "      <td>0.037500</td>\n",
              "      <td>-0.779482</td>\n",
              "    </tr>\n",
              "    <tr>\n",
              "      <th>2013-01-04</th>\n",
              "      <td>-1.201652</td>\n",
              "      <td>1.943643</td>\n",
              "      <td>1.321976</td>\n",
              "      <td>0.053565</td>\n",
              "    </tr>\n",
              "  </tbody>\n",
              "</table>\n",
              "</div>"
            ],
            "text/plain": [
              "                   A         B         C         D\n",
              "2013-01-05  0.386650 -1.947773 -1.917859 -1.238103\n",
              "2013-01-02  0.325612 -1.851627 -1.903947  0.400959\n",
              "2013-01-06 -0.187726 -0.481389 -0.746262  1.054448\n",
              "2013-01-01 -0.564489 -0.097617 -1.652880  0.223085\n",
              "2013-01-03  0.510580  1.558028  0.037500 -0.779482\n",
              "2013-01-04 -1.201652  1.943643  1.321976  0.053565"
            ]
          },
          "metadata": {
            "tags": []
          },
          "execution_count": 61
        }
      ]
    },
    {
      "cell_type": "code",
      "metadata": {
        "colab": {
          "base_uri": "https://localhost:8080/",
          "height": 142
        },
        "id": "snk-TXRG2Q5u",
        "outputId": "560585c5-27a0-412e-a34a-0689603ea2a1"
      },
      "source": [
        "# Filtriranje boolean indeksima\n",
        "df[df[\"A\"] > 0]"
      ],
      "execution_count": 62,
      "outputs": [
        {
          "output_type": "execute_result",
          "data": {
            "text/html": [
              "<div>\n",
              "<style scoped>\n",
              "    .dataframe tbody tr th:only-of-type {\n",
              "        vertical-align: middle;\n",
              "    }\n",
              "\n",
              "    .dataframe tbody tr th {\n",
              "        vertical-align: top;\n",
              "    }\n",
              "\n",
              "    .dataframe thead th {\n",
              "        text-align: right;\n",
              "    }\n",
              "</style>\n",
              "<table border=\"1\" class=\"dataframe\">\n",
              "  <thead>\n",
              "    <tr style=\"text-align: right;\">\n",
              "      <th></th>\n",
              "      <th>A</th>\n",
              "      <th>B</th>\n",
              "      <th>C</th>\n",
              "      <th>D</th>\n",
              "    </tr>\n",
              "  </thead>\n",
              "  <tbody>\n",
              "    <tr>\n",
              "      <th>2013-01-02</th>\n",
              "      <td>0.325612</td>\n",
              "      <td>-1.851627</td>\n",
              "      <td>-1.903947</td>\n",
              "      <td>0.400959</td>\n",
              "    </tr>\n",
              "    <tr>\n",
              "      <th>2013-01-03</th>\n",
              "      <td>0.510580</td>\n",
              "      <td>1.558028</td>\n",
              "      <td>0.037500</td>\n",
              "      <td>-0.779482</td>\n",
              "    </tr>\n",
              "    <tr>\n",
              "      <th>2013-01-05</th>\n",
              "      <td>0.386650</td>\n",
              "      <td>-1.947773</td>\n",
              "      <td>-1.917859</td>\n",
              "      <td>-1.238103</td>\n",
              "    </tr>\n",
              "  </tbody>\n",
              "</table>\n",
              "</div>"
            ],
            "text/plain": [
              "                   A         B         C         D\n",
              "2013-01-02  0.325612 -1.851627 -1.903947  0.400959\n",
              "2013-01-03  0.510580  1.558028  0.037500 -0.779482\n",
              "2013-01-05  0.386650 -1.947773 -1.917859 -1.238103"
            ]
          },
          "metadata": {
            "tags": []
          },
          "execution_count": 62
        }
      ]
    },
    {
      "cell_type": "code",
      "metadata": {
        "colab": {
          "base_uri": "https://localhost:8080/"
        },
        "id": "VkFgio2Q3gQJ",
        "outputId": "ee2f03d0-f362-4444-f615-27e1ade3a6f0"
      },
      "source": [
        "df[\"A\"] > 0"
      ],
      "execution_count": 65,
      "outputs": [
        {
          "output_type": "execute_result",
          "data": {
            "text/plain": [
              "2013-01-01    False\n",
              "2013-01-02     True\n",
              "2013-01-03     True\n",
              "2013-01-04    False\n",
              "2013-01-05     True\n",
              "2013-01-06    False\n",
              "Freq: D, Name: A, dtype: bool"
            ]
          },
          "metadata": {
            "tags": []
          },
          "execution_count": 65
        }
      ]
    },
    {
      "cell_type": "code",
      "metadata": {
        "colab": {
          "base_uri": "https://localhost:8080/",
          "height": 235
        },
        "id": "O-GYML9x3U_L",
        "outputId": "e85c310f-80e2-4624-9652-7f8acdd65587"
      },
      "source": [
        "# Fltriranje boolean indeksima\n",
        "df[df > 0]"
      ],
      "execution_count": 63,
      "outputs": [
        {
          "output_type": "execute_result",
          "data": {
            "text/html": [
              "<div>\n",
              "<style scoped>\n",
              "    .dataframe tbody tr th:only-of-type {\n",
              "        vertical-align: middle;\n",
              "    }\n",
              "\n",
              "    .dataframe tbody tr th {\n",
              "        vertical-align: top;\n",
              "    }\n",
              "\n",
              "    .dataframe thead th {\n",
              "        text-align: right;\n",
              "    }\n",
              "</style>\n",
              "<table border=\"1\" class=\"dataframe\">\n",
              "  <thead>\n",
              "    <tr style=\"text-align: right;\">\n",
              "      <th></th>\n",
              "      <th>A</th>\n",
              "      <th>B</th>\n",
              "      <th>C</th>\n",
              "      <th>D</th>\n",
              "    </tr>\n",
              "  </thead>\n",
              "  <tbody>\n",
              "    <tr>\n",
              "      <th>2013-01-01</th>\n",
              "      <td>NaN</td>\n",
              "      <td>NaN</td>\n",
              "      <td>NaN</td>\n",
              "      <td>0.223085</td>\n",
              "    </tr>\n",
              "    <tr>\n",
              "      <th>2013-01-02</th>\n",
              "      <td>0.325612</td>\n",
              "      <td>NaN</td>\n",
              "      <td>NaN</td>\n",
              "      <td>0.400959</td>\n",
              "    </tr>\n",
              "    <tr>\n",
              "      <th>2013-01-03</th>\n",
              "      <td>0.510580</td>\n",
              "      <td>1.558028</td>\n",
              "      <td>0.037500</td>\n",
              "      <td>NaN</td>\n",
              "    </tr>\n",
              "    <tr>\n",
              "      <th>2013-01-04</th>\n",
              "      <td>NaN</td>\n",
              "      <td>1.943643</td>\n",
              "      <td>1.321976</td>\n",
              "      <td>0.053565</td>\n",
              "    </tr>\n",
              "    <tr>\n",
              "      <th>2013-01-05</th>\n",
              "      <td>0.386650</td>\n",
              "      <td>NaN</td>\n",
              "      <td>NaN</td>\n",
              "      <td>NaN</td>\n",
              "    </tr>\n",
              "    <tr>\n",
              "      <th>2013-01-06</th>\n",
              "      <td>NaN</td>\n",
              "      <td>NaN</td>\n",
              "      <td>NaN</td>\n",
              "      <td>1.054448</td>\n",
              "    </tr>\n",
              "  </tbody>\n",
              "</table>\n",
              "</div>"
            ],
            "text/plain": [
              "                   A         B         C         D\n",
              "2013-01-01       NaN       NaN       NaN  0.223085\n",
              "2013-01-02  0.325612       NaN       NaN  0.400959\n",
              "2013-01-03  0.510580  1.558028  0.037500       NaN\n",
              "2013-01-04       NaN  1.943643  1.321976  0.053565\n",
              "2013-01-05  0.386650       NaN       NaN       NaN\n",
              "2013-01-06       NaN       NaN       NaN  1.054448"
            ]
          },
          "metadata": {
            "tags": []
          },
          "execution_count": 63
        }
      ]
    },
    {
      "cell_type": "code",
      "metadata": {
        "colab": {
          "base_uri": "https://localhost:8080/",
          "height": 235
        },
        "id": "3ZNqo6c73c3y",
        "outputId": "2b006b1e-aed0-4a87-b5b5-b7b7ea335ac4"
      },
      "source": [
        "df > 0"
      ],
      "execution_count": 64,
      "outputs": [
        {
          "output_type": "execute_result",
          "data": {
            "text/html": [
              "<div>\n",
              "<style scoped>\n",
              "    .dataframe tbody tr th:only-of-type {\n",
              "        vertical-align: middle;\n",
              "    }\n",
              "\n",
              "    .dataframe tbody tr th {\n",
              "        vertical-align: top;\n",
              "    }\n",
              "\n",
              "    .dataframe thead th {\n",
              "        text-align: right;\n",
              "    }\n",
              "</style>\n",
              "<table border=\"1\" class=\"dataframe\">\n",
              "  <thead>\n",
              "    <tr style=\"text-align: right;\">\n",
              "      <th></th>\n",
              "      <th>A</th>\n",
              "      <th>B</th>\n",
              "      <th>C</th>\n",
              "      <th>D</th>\n",
              "    </tr>\n",
              "  </thead>\n",
              "  <tbody>\n",
              "    <tr>\n",
              "      <th>2013-01-01</th>\n",
              "      <td>False</td>\n",
              "      <td>False</td>\n",
              "      <td>False</td>\n",
              "      <td>True</td>\n",
              "    </tr>\n",
              "    <tr>\n",
              "      <th>2013-01-02</th>\n",
              "      <td>True</td>\n",
              "      <td>False</td>\n",
              "      <td>False</td>\n",
              "      <td>True</td>\n",
              "    </tr>\n",
              "    <tr>\n",
              "      <th>2013-01-03</th>\n",
              "      <td>True</td>\n",
              "      <td>True</td>\n",
              "      <td>True</td>\n",
              "      <td>False</td>\n",
              "    </tr>\n",
              "    <tr>\n",
              "      <th>2013-01-04</th>\n",
              "      <td>False</td>\n",
              "      <td>True</td>\n",
              "      <td>True</td>\n",
              "      <td>True</td>\n",
              "    </tr>\n",
              "    <tr>\n",
              "      <th>2013-01-05</th>\n",
              "      <td>True</td>\n",
              "      <td>False</td>\n",
              "      <td>False</td>\n",
              "      <td>False</td>\n",
              "    </tr>\n",
              "    <tr>\n",
              "      <th>2013-01-06</th>\n",
              "      <td>False</td>\n",
              "      <td>False</td>\n",
              "      <td>False</td>\n",
              "      <td>True</td>\n",
              "    </tr>\n",
              "  </tbody>\n",
              "</table>\n",
              "</div>"
            ],
            "text/plain": [
              "                A      B      C      D\n",
              "2013-01-01  False  False  False   True\n",
              "2013-01-02   True  False  False   True\n",
              "2013-01-03   True   True   True  False\n",
              "2013-01-04  False   True   True   True\n",
              "2013-01-05   True  False  False  False\n",
              "2013-01-06  False  False  False   True"
            ]
          },
          "metadata": {
            "tags": []
          },
          "execution_count": 64
        }
      ]
    },
    {
      "cell_type": "markdown",
      "metadata": {
        "id": "DHaZNkkt9j8r"
      },
      "source": [
        "### Nedostajuce vrednosti"
      ]
    },
    {
      "cell_type": "code",
      "metadata": {
        "colab": {
          "base_uri": "https://localhost:8080/",
          "height": 235
        },
        "id": "xuXrKYrS3eMx",
        "outputId": "00228e63-3e1c-4d10-9d86-e340c50b9467"
      },
      "source": [
        "# Kopiranje Data Frame-a\n",
        "df2 = df.copy()\n",
        "df2"
      ],
      "execution_count": 67,
      "outputs": [
        {
          "output_type": "execute_result",
          "data": {
            "text/html": [
              "<div>\n",
              "<style scoped>\n",
              "    .dataframe tbody tr th:only-of-type {\n",
              "        vertical-align: middle;\n",
              "    }\n",
              "\n",
              "    .dataframe tbody tr th {\n",
              "        vertical-align: top;\n",
              "    }\n",
              "\n",
              "    .dataframe thead th {\n",
              "        text-align: right;\n",
              "    }\n",
              "</style>\n",
              "<table border=\"1\" class=\"dataframe\">\n",
              "  <thead>\n",
              "    <tr style=\"text-align: right;\">\n",
              "      <th></th>\n",
              "      <th>A</th>\n",
              "      <th>B</th>\n",
              "      <th>C</th>\n",
              "      <th>D</th>\n",
              "    </tr>\n",
              "  </thead>\n",
              "  <tbody>\n",
              "    <tr>\n",
              "      <th>2013-01-01</th>\n",
              "      <td>-0.564489</td>\n",
              "      <td>-0.097617</td>\n",
              "      <td>-1.652880</td>\n",
              "      <td>0.223085</td>\n",
              "    </tr>\n",
              "    <tr>\n",
              "      <th>2013-01-02</th>\n",
              "      <td>0.325612</td>\n",
              "      <td>-1.851627</td>\n",
              "      <td>-1.903947</td>\n",
              "      <td>0.400959</td>\n",
              "    </tr>\n",
              "    <tr>\n",
              "      <th>2013-01-03</th>\n",
              "      <td>0.510580</td>\n",
              "      <td>1.558028</td>\n",
              "      <td>0.037500</td>\n",
              "      <td>-0.779482</td>\n",
              "    </tr>\n",
              "    <tr>\n",
              "      <th>2013-01-04</th>\n",
              "      <td>-1.201652</td>\n",
              "      <td>1.943643</td>\n",
              "      <td>1.321976</td>\n",
              "      <td>0.053565</td>\n",
              "    </tr>\n",
              "    <tr>\n",
              "      <th>2013-01-05</th>\n",
              "      <td>0.386650</td>\n",
              "      <td>-1.947773</td>\n",
              "      <td>-1.917859</td>\n",
              "      <td>-1.238103</td>\n",
              "    </tr>\n",
              "    <tr>\n",
              "      <th>2013-01-06</th>\n",
              "      <td>-0.187726</td>\n",
              "      <td>-0.481389</td>\n",
              "      <td>-0.746262</td>\n",
              "      <td>1.054448</td>\n",
              "    </tr>\n",
              "  </tbody>\n",
              "</table>\n",
              "</div>"
            ],
            "text/plain": [
              "                   A         B         C         D\n",
              "2013-01-01 -0.564489 -0.097617 -1.652880  0.223085\n",
              "2013-01-02  0.325612 -1.851627 -1.903947  0.400959\n",
              "2013-01-03  0.510580  1.558028  0.037500 -0.779482\n",
              "2013-01-04 -1.201652  1.943643  1.321976  0.053565\n",
              "2013-01-05  0.386650 -1.947773 -1.917859 -1.238103\n",
              "2013-01-06 -0.187726 -0.481389 -0.746262  1.054448"
            ]
          },
          "metadata": {
            "tags": []
          },
          "execution_count": 67
        }
      ]
    },
    {
      "cell_type": "code",
      "metadata": {
        "colab": {
          "base_uri": "https://localhost:8080/",
          "height": 235
        },
        "id": "kKnuS3LL4FQR",
        "outputId": "abb64110-9618-469f-f3bc-aa578150a5c4"
      },
      "source": [
        "# Dodavanje atributa\n",
        "df2[\"E\"] = [\"one\", \"one\", \"two\", \"three\", \"four\", \"three\"]\n",
        "df2"
      ],
      "execution_count": 69,
      "outputs": [
        {
          "output_type": "execute_result",
          "data": {
            "text/html": [
              "<div>\n",
              "<style scoped>\n",
              "    .dataframe tbody tr th:only-of-type {\n",
              "        vertical-align: middle;\n",
              "    }\n",
              "\n",
              "    .dataframe tbody tr th {\n",
              "        vertical-align: top;\n",
              "    }\n",
              "\n",
              "    .dataframe thead th {\n",
              "        text-align: right;\n",
              "    }\n",
              "</style>\n",
              "<table border=\"1\" class=\"dataframe\">\n",
              "  <thead>\n",
              "    <tr style=\"text-align: right;\">\n",
              "      <th></th>\n",
              "      <th>A</th>\n",
              "      <th>B</th>\n",
              "      <th>C</th>\n",
              "      <th>D</th>\n",
              "      <th>E</th>\n",
              "    </tr>\n",
              "  </thead>\n",
              "  <tbody>\n",
              "    <tr>\n",
              "      <th>2013-01-01</th>\n",
              "      <td>-0.564489</td>\n",
              "      <td>-0.097617</td>\n",
              "      <td>-1.652880</td>\n",
              "      <td>0.223085</td>\n",
              "      <td>one</td>\n",
              "    </tr>\n",
              "    <tr>\n",
              "      <th>2013-01-02</th>\n",
              "      <td>0.325612</td>\n",
              "      <td>-1.851627</td>\n",
              "      <td>-1.903947</td>\n",
              "      <td>0.400959</td>\n",
              "      <td>one</td>\n",
              "    </tr>\n",
              "    <tr>\n",
              "      <th>2013-01-03</th>\n",
              "      <td>0.510580</td>\n",
              "      <td>1.558028</td>\n",
              "      <td>0.037500</td>\n",
              "      <td>-0.779482</td>\n",
              "      <td>two</td>\n",
              "    </tr>\n",
              "    <tr>\n",
              "      <th>2013-01-04</th>\n",
              "      <td>-1.201652</td>\n",
              "      <td>1.943643</td>\n",
              "      <td>1.321976</td>\n",
              "      <td>0.053565</td>\n",
              "      <td>three</td>\n",
              "    </tr>\n",
              "    <tr>\n",
              "      <th>2013-01-05</th>\n",
              "      <td>0.386650</td>\n",
              "      <td>-1.947773</td>\n",
              "      <td>-1.917859</td>\n",
              "      <td>-1.238103</td>\n",
              "      <td>four</td>\n",
              "    </tr>\n",
              "    <tr>\n",
              "      <th>2013-01-06</th>\n",
              "      <td>-0.187726</td>\n",
              "      <td>-0.481389</td>\n",
              "      <td>-0.746262</td>\n",
              "      <td>1.054448</td>\n",
              "      <td>three</td>\n",
              "    </tr>\n",
              "  </tbody>\n",
              "</table>\n",
              "</div>"
            ],
            "text/plain": [
              "                   A         B         C         D      E\n",
              "2013-01-01 -0.564489 -0.097617 -1.652880  0.223085    one\n",
              "2013-01-02  0.325612 -1.851627 -1.903947  0.400959    one\n",
              "2013-01-03  0.510580  1.558028  0.037500 -0.779482    two\n",
              "2013-01-04 -1.201652  1.943643  1.321976  0.053565  three\n",
              "2013-01-05  0.386650 -1.947773 -1.917859 -1.238103   four\n",
              "2013-01-06 -0.187726 -0.481389 -0.746262  1.054448  three"
            ]
          },
          "metadata": {
            "tags": []
          },
          "execution_count": 69
        }
      ]
    },
    {
      "cell_type": "code",
      "metadata": {
        "colab": {
          "base_uri": "https://localhost:8080/",
          "height": 111
        },
        "id": "1QnFDiYq4M2V",
        "outputId": "b3f1eeb2-5bf1-4c27-bd24-192b286504f3"
      },
      "source": [
        "# Filtriranje operatorom isin\n",
        "df2[df2[\"E\"].isin([\"two\", \"four\"])]"
      ],
      "execution_count": 70,
      "outputs": [
        {
          "output_type": "execute_result",
          "data": {
            "text/html": [
              "<div>\n",
              "<style scoped>\n",
              "    .dataframe tbody tr th:only-of-type {\n",
              "        vertical-align: middle;\n",
              "    }\n",
              "\n",
              "    .dataframe tbody tr th {\n",
              "        vertical-align: top;\n",
              "    }\n",
              "\n",
              "    .dataframe thead th {\n",
              "        text-align: right;\n",
              "    }\n",
              "</style>\n",
              "<table border=\"1\" class=\"dataframe\">\n",
              "  <thead>\n",
              "    <tr style=\"text-align: right;\">\n",
              "      <th></th>\n",
              "      <th>A</th>\n",
              "      <th>B</th>\n",
              "      <th>C</th>\n",
              "      <th>D</th>\n",
              "      <th>E</th>\n",
              "    </tr>\n",
              "  </thead>\n",
              "  <tbody>\n",
              "    <tr>\n",
              "      <th>2013-01-03</th>\n",
              "      <td>0.51058</td>\n",
              "      <td>1.558028</td>\n",
              "      <td>0.037500</td>\n",
              "      <td>-0.779482</td>\n",
              "      <td>two</td>\n",
              "    </tr>\n",
              "    <tr>\n",
              "      <th>2013-01-05</th>\n",
              "      <td>0.38665</td>\n",
              "      <td>-1.947773</td>\n",
              "      <td>-1.917859</td>\n",
              "      <td>-1.238103</td>\n",
              "      <td>four</td>\n",
              "    </tr>\n",
              "  </tbody>\n",
              "</table>\n",
              "</div>"
            ],
            "text/plain": [
              "                  A         B         C         D     E\n",
              "2013-01-03  0.51058  1.558028  0.037500 -0.779482   two\n",
              "2013-01-05  0.38665 -1.947773 -1.917859 -1.238103  four"
            ]
          },
          "metadata": {
            "tags": []
          },
          "execution_count": 70
        }
      ]
    },
    {
      "cell_type": "code",
      "metadata": {
        "colab": {
          "base_uri": "https://localhost:8080/",
          "height": 173
        },
        "id": "oU-4ksnL4Q-o",
        "outputId": "3aa49c2a-4a22-4a5f-ede0-415780816725"
      },
      "source": [
        "# Reindeksiranje + Nedostajuca kolona\n",
        "df1 = df.reindex(index=datumi[0:4], columns=list(df.columns) + [\"E\"])\n",
        "df1"
      ],
      "execution_count": 74,
      "outputs": [
        {
          "output_type": "execute_result",
          "data": {
            "text/html": [
              "<div>\n",
              "<style scoped>\n",
              "    .dataframe tbody tr th:only-of-type {\n",
              "        vertical-align: middle;\n",
              "    }\n",
              "\n",
              "    .dataframe tbody tr th {\n",
              "        vertical-align: top;\n",
              "    }\n",
              "\n",
              "    .dataframe thead th {\n",
              "        text-align: right;\n",
              "    }\n",
              "</style>\n",
              "<table border=\"1\" class=\"dataframe\">\n",
              "  <thead>\n",
              "    <tr style=\"text-align: right;\">\n",
              "      <th></th>\n",
              "      <th>A</th>\n",
              "      <th>B</th>\n",
              "      <th>C</th>\n",
              "      <th>D</th>\n",
              "      <th>E</th>\n",
              "    </tr>\n",
              "  </thead>\n",
              "  <tbody>\n",
              "    <tr>\n",
              "      <th>2013-01-01</th>\n",
              "      <td>-0.564489</td>\n",
              "      <td>-0.097617</td>\n",
              "      <td>-1.652880</td>\n",
              "      <td>0.223085</td>\n",
              "      <td>NaN</td>\n",
              "    </tr>\n",
              "    <tr>\n",
              "      <th>2013-01-02</th>\n",
              "      <td>0.325612</td>\n",
              "      <td>-1.851627</td>\n",
              "      <td>-1.903947</td>\n",
              "      <td>0.400959</td>\n",
              "      <td>NaN</td>\n",
              "    </tr>\n",
              "    <tr>\n",
              "      <th>2013-01-03</th>\n",
              "      <td>0.510580</td>\n",
              "      <td>1.558028</td>\n",
              "      <td>0.037500</td>\n",
              "      <td>-0.779482</td>\n",
              "      <td>NaN</td>\n",
              "    </tr>\n",
              "    <tr>\n",
              "      <th>2013-01-04</th>\n",
              "      <td>-1.201652</td>\n",
              "      <td>1.943643</td>\n",
              "      <td>1.321976</td>\n",
              "      <td>0.053565</td>\n",
              "      <td>NaN</td>\n",
              "    </tr>\n",
              "  </tbody>\n",
              "</table>\n",
              "</div>"
            ],
            "text/plain": [
              "                   A         B         C         D   E\n",
              "2013-01-01 -0.564489 -0.097617 -1.652880  0.223085 NaN\n",
              "2013-01-02  0.325612 -1.851627 -1.903947  0.400959 NaN\n",
              "2013-01-03  0.510580  1.558028  0.037500 -0.779482 NaN\n",
              "2013-01-04 -1.201652  1.943643  1.321976  0.053565 NaN"
            ]
          },
          "metadata": {
            "tags": []
          },
          "execution_count": 74
        }
      ]
    },
    {
      "cell_type": "code",
      "metadata": {
        "colab": {
          "base_uri": "https://localhost:8080/",
          "height": 173
        },
        "id": "t4NJg8EN405r",
        "outputId": "e192ecba-4cea-4831-a357-66a19d83a419"
      },
      "source": [
        "# Odbacivanje nedostajucih vrednosti\n",
        "df1.loc[datumi[0] : datumi[1], \"E\"] = 1\n",
        "df1"
      ],
      "execution_count": 76,
      "outputs": [
        {
          "output_type": "execute_result",
          "data": {
            "text/html": [
              "<div>\n",
              "<style scoped>\n",
              "    .dataframe tbody tr th:only-of-type {\n",
              "        vertical-align: middle;\n",
              "    }\n",
              "\n",
              "    .dataframe tbody tr th {\n",
              "        vertical-align: top;\n",
              "    }\n",
              "\n",
              "    .dataframe thead th {\n",
              "        text-align: right;\n",
              "    }\n",
              "</style>\n",
              "<table border=\"1\" class=\"dataframe\">\n",
              "  <thead>\n",
              "    <tr style=\"text-align: right;\">\n",
              "      <th></th>\n",
              "      <th>A</th>\n",
              "      <th>B</th>\n",
              "      <th>C</th>\n",
              "      <th>D</th>\n",
              "      <th>E</th>\n",
              "    </tr>\n",
              "  </thead>\n",
              "  <tbody>\n",
              "    <tr>\n",
              "      <th>2013-01-01</th>\n",
              "      <td>-0.564489</td>\n",
              "      <td>-0.097617</td>\n",
              "      <td>-1.652880</td>\n",
              "      <td>0.223085</td>\n",
              "      <td>1.0</td>\n",
              "    </tr>\n",
              "    <tr>\n",
              "      <th>2013-01-02</th>\n",
              "      <td>0.325612</td>\n",
              "      <td>-1.851627</td>\n",
              "      <td>-1.903947</td>\n",
              "      <td>0.400959</td>\n",
              "      <td>1.0</td>\n",
              "    </tr>\n",
              "    <tr>\n",
              "      <th>2013-01-03</th>\n",
              "      <td>0.510580</td>\n",
              "      <td>1.558028</td>\n",
              "      <td>0.037500</td>\n",
              "      <td>-0.779482</td>\n",
              "      <td>NaN</td>\n",
              "    </tr>\n",
              "    <tr>\n",
              "      <th>2013-01-04</th>\n",
              "      <td>-1.201652</td>\n",
              "      <td>1.943643</td>\n",
              "      <td>1.321976</td>\n",
              "      <td>0.053565</td>\n",
              "      <td>NaN</td>\n",
              "    </tr>\n",
              "  </tbody>\n",
              "</table>\n",
              "</div>"
            ],
            "text/plain": [
              "                   A         B         C         D    E\n",
              "2013-01-01 -0.564489 -0.097617 -1.652880  0.223085  1.0\n",
              "2013-01-02  0.325612 -1.851627 -1.903947  0.400959  1.0\n",
              "2013-01-03  0.510580  1.558028  0.037500 -0.779482  NaN\n",
              "2013-01-04 -1.201652  1.943643  1.321976  0.053565  NaN"
            ]
          },
          "metadata": {
            "tags": []
          },
          "execution_count": 76
        }
      ]
    },
    {
      "cell_type": "code",
      "metadata": {
        "colab": {
          "base_uri": "https://localhost:8080/",
          "height": 111
        },
        "id": "XUxuVIt95BK1",
        "outputId": "3533df0d-ec30-4698-98b3-73c3b9e0dfe2"
      },
      "source": [
        "df1.dropna(how=\"any\")"
      ],
      "execution_count": 77,
      "outputs": [
        {
          "output_type": "execute_result",
          "data": {
            "text/html": [
              "<div>\n",
              "<style scoped>\n",
              "    .dataframe tbody tr th:only-of-type {\n",
              "        vertical-align: middle;\n",
              "    }\n",
              "\n",
              "    .dataframe tbody tr th {\n",
              "        vertical-align: top;\n",
              "    }\n",
              "\n",
              "    .dataframe thead th {\n",
              "        text-align: right;\n",
              "    }\n",
              "</style>\n",
              "<table border=\"1\" class=\"dataframe\">\n",
              "  <thead>\n",
              "    <tr style=\"text-align: right;\">\n",
              "      <th></th>\n",
              "      <th>A</th>\n",
              "      <th>B</th>\n",
              "      <th>C</th>\n",
              "      <th>D</th>\n",
              "      <th>E</th>\n",
              "    </tr>\n",
              "  </thead>\n",
              "  <tbody>\n",
              "    <tr>\n",
              "      <th>2013-01-01</th>\n",
              "      <td>-0.564489</td>\n",
              "      <td>-0.097617</td>\n",
              "      <td>-1.652880</td>\n",
              "      <td>0.223085</td>\n",
              "      <td>1.0</td>\n",
              "    </tr>\n",
              "    <tr>\n",
              "      <th>2013-01-02</th>\n",
              "      <td>0.325612</td>\n",
              "      <td>-1.851627</td>\n",
              "      <td>-1.903947</td>\n",
              "      <td>0.400959</td>\n",
              "      <td>1.0</td>\n",
              "    </tr>\n",
              "  </tbody>\n",
              "</table>\n",
              "</div>"
            ],
            "text/plain": [
              "                   A         B         C         D    E\n",
              "2013-01-01 -0.564489 -0.097617 -1.652880  0.223085  1.0\n",
              "2013-01-02  0.325612 -1.851627 -1.903947  0.400959  1.0"
            ]
          },
          "metadata": {
            "tags": []
          },
          "execution_count": 77
        }
      ]
    },
    {
      "cell_type": "code",
      "metadata": {
        "colab": {
          "base_uri": "https://localhost:8080/",
          "height": 173
        },
        "id": "y00yxByB5FN0",
        "outputId": "7b7b35ef-e125-4fa4-d46b-fde39f8cd2fe"
      },
      "source": [
        "# Popunjavanje nedostajucih vrednosti\n",
        "df1.fillna(value=5)"
      ],
      "execution_count": 78,
      "outputs": [
        {
          "output_type": "execute_result",
          "data": {
            "text/html": [
              "<div>\n",
              "<style scoped>\n",
              "    .dataframe tbody tr th:only-of-type {\n",
              "        vertical-align: middle;\n",
              "    }\n",
              "\n",
              "    .dataframe tbody tr th {\n",
              "        vertical-align: top;\n",
              "    }\n",
              "\n",
              "    .dataframe thead th {\n",
              "        text-align: right;\n",
              "    }\n",
              "</style>\n",
              "<table border=\"1\" class=\"dataframe\">\n",
              "  <thead>\n",
              "    <tr style=\"text-align: right;\">\n",
              "      <th></th>\n",
              "      <th>A</th>\n",
              "      <th>B</th>\n",
              "      <th>C</th>\n",
              "      <th>D</th>\n",
              "      <th>E</th>\n",
              "    </tr>\n",
              "  </thead>\n",
              "  <tbody>\n",
              "    <tr>\n",
              "      <th>2013-01-01</th>\n",
              "      <td>-0.564489</td>\n",
              "      <td>-0.097617</td>\n",
              "      <td>-1.652880</td>\n",
              "      <td>0.223085</td>\n",
              "      <td>1.0</td>\n",
              "    </tr>\n",
              "    <tr>\n",
              "      <th>2013-01-02</th>\n",
              "      <td>0.325612</td>\n",
              "      <td>-1.851627</td>\n",
              "      <td>-1.903947</td>\n",
              "      <td>0.400959</td>\n",
              "      <td>1.0</td>\n",
              "    </tr>\n",
              "    <tr>\n",
              "      <th>2013-01-03</th>\n",
              "      <td>0.510580</td>\n",
              "      <td>1.558028</td>\n",
              "      <td>0.037500</td>\n",
              "      <td>-0.779482</td>\n",
              "      <td>5.0</td>\n",
              "    </tr>\n",
              "    <tr>\n",
              "      <th>2013-01-04</th>\n",
              "      <td>-1.201652</td>\n",
              "      <td>1.943643</td>\n",
              "      <td>1.321976</td>\n",
              "      <td>0.053565</td>\n",
              "      <td>5.0</td>\n",
              "    </tr>\n",
              "  </tbody>\n",
              "</table>\n",
              "</div>"
            ],
            "text/plain": [
              "                   A         B         C         D    E\n",
              "2013-01-01 -0.564489 -0.097617 -1.652880  0.223085  1.0\n",
              "2013-01-02  0.325612 -1.851627 -1.903947  0.400959  1.0\n",
              "2013-01-03  0.510580  1.558028  0.037500 -0.779482  5.0\n",
              "2013-01-04 -1.201652  1.943643  1.321976  0.053565  5.0"
            ]
          },
          "metadata": {
            "tags": []
          },
          "execution_count": 78
        }
      ]
    },
    {
      "cell_type": "code",
      "metadata": {
        "colab": {
          "base_uri": "https://localhost:8080/",
          "height": 173
        },
        "id": "a5AcdXFD5LC3",
        "outputId": "b1b6e118-33a9-49d9-cb8b-c85e7eccae44"
      },
      "source": [
        "# Pronalazak nedostajucih vrednosti\n",
        "pd.isna(df1)"
      ],
      "execution_count": 79,
      "outputs": [
        {
          "output_type": "execute_result",
          "data": {
            "text/html": [
              "<div>\n",
              "<style scoped>\n",
              "    .dataframe tbody tr th:only-of-type {\n",
              "        vertical-align: middle;\n",
              "    }\n",
              "\n",
              "    .dataframe tbody tr th {\n",
              "        vertical-align: top;\n",
              "    }\n",
              "\n",
              "    .dataframe thead th {\n",
              "        text-align: right;\n",
              "    }\n",
              "</style>\n",
              "<table border=\"1\" class=\"dataframe\">\n",
              "  <thead>\n",
              "    <tr style=\"text-align: right;\">\n",
              "      <th></th>\n",
              "      <th>A</th>\n",
              "      <th>B</th>\n",
              "      <th>C</th>\n",
              "      <th>D</th>\n",
              "      <th>E</th>\n",
              "    </tr>\n",
              "  </thead>\n",
              "  <tbody>\n",
              "    <tr>\n",
              "      <th>2013-01-01</th>\n",
              "      <td>False</td>\n",
              "      <td>False</td>\n",
              "      <td>False</td>\n",
              "      <td>False</td>\n",
              "      <td>False</td>\n",
              "    </tr>\n",
              "    <tr>\n",
              "      <th>2013-01-02</th>\n",
              "      <td>False</td>\n",
              "      <td>False</td>\n",
              "      <td>False</td>\n",
              "      <td>False</td>\n",
              "      <td>False</td>\n",
              "    </tr>\n",
              "    <tr>\n",
              "      <th>2013-01-03</th>\n",
              "      <td>False</td>\n",
              "      <td>False</td>\n",
              "      <td>False</td>\n",
              "      <td>False</td>\n",
              "      <td>True</td>\n",
              "    </tr>\n",
              "    <tr>\n",
              "      <th>2013-01-04</th>\n",
              "      <td>False</td>\n",
              "      <td>False</td>\n",
              "      <td>False</td>\n",
              "      <td>False</td>\n",
              "      <td>True</td>\n",
              "    </tr>\n",
              "  </tbody>\n",
              "</table>\n",
              "</div>"
            ],
            "text/plain": [
              "                A      B      C      D      E\n",
              "2013-01-01  False  False  False  False  False\n",
              "2013-01-02  False  False  False  False  False\n",
              "2013-01-03  False  False  False  False   True\n",
              "2013-01-04  False  False  False  False   True"
            ]
          },
          "metadata": {
            "tags": []
          },
          "execution_count": 79
        }
      ]
    },
    {
      "cell_type": "markdown",
      "metadata": {
        "id": "p2DI-LTq9gGW"
      },
      "source": [
        "### Statistike"
      ]
    },
    {
      "cell_type": "code",
      "metadata": {
        "colab": {
          "base_uri": "https://localhost:8080/",
          "height": 235
        },
        "id": "_3dEOPH857TX",
        "outputId": "e3f9e14a-0f0f-4722-dd76-4c4368ae29ee"
      },
      "source": [
        "# Statistike\n",
        "df"
      ],
      "execution_count": 82,
      "outputs": [
        {
          "output_type": "execute_result",
          "data": {
            "text/html": [
              "<div>\n",
              "<style scoped>\n",
              "    .dataframe tbody tr th:only-of-type {\n",
              "        vertical-align: middle;\n",
              "    }\n",
              "\n",
              "    .dataframe tbody tr th {\n",
              "        vertical-align: top;\n",
              "    }\n",
              "\n",
              "    .dataframe thead th {\n",
              "        text-align: right;\n",
              "    }\n",
              "</style>\n",
              "<table border=\"1\" class=\"dataframe\">\n",
              "  <thead>\n",
              "    <tr style=\"text-align: right;\">\n",
              "      <th></th>\n",
              "      <th>A</th>\n",
              "      <th>B</th>\n",
              "      <th>C</th>\n",
              "      <th>D</th>\n",
              "    </tr>\n",
              "  </thead>\n",
              "  <tbody>\n",
              "    <tr>\n",
              "      <th>2013-01-01</th>\n",
              "      <td>-0.564489</td>\n",
              "      <td>-0.097617</td>\n",
              "      <td>-1.652880</td>\n",
              "      <td>0.223085</td>\n",
              "    </tr>\n",
              "    <tr>\n",
              "      <th>2013-01-02</th>\n",
              "      <td>0.325612</td>\n",
              "      <td>-1.851627</td>\n",
              "      <td>-1.903947</td>\n",
              "      <td>0.400959</td>\n",
              "    </tr>\n",
              "    <tr>\n",
              "      <th>2013-01-03</th>\n",
              "      <td>0.510580</td>\n",
              "      <td>1.558028</td>\n",
              "      <td>0.037500</td>\n",
              "      <td>-0.779482</td>\n",
              "    </tr>\n",
              "    <tr>\n",
              "      <th>2013-01-04</th>\n",
              "      <td>-1.201652</td>\n",
              "      <td>1.943643</td>\n",
              "      <td>1.321976</td>\n",
              "      <td>0.053565</td>\n",
              "    </tr>\n",
              "    <tr>\n",
              "      <th>2013-01-05</th>\n",
              "      <td>0.386650</td>\n",
              "      <td>-1.947773</td>\n",
              "      <td>-1.917859</td>\n",
              "      <td>-1.238103</td>\n",
              "    </tr>\n",
              "    <tr>\n",
              "      <th>2013-01-06</th>\n",
              "      <td>-0.187726</td>\n",
              "      <td>-0.481389</td>\n",
              "      <td>-0.746262</td>\n",
              "      <td>1.054448</td>\n",
              "    </tr>\n",
              "  </tbody>\n",
              "</table>\n",
              "</div>"
            ],
            "text/plain": [
              "                   A         B         C         D\n",
              "2013-01-01 -0.564489 -0.097617 -1.652880  0.223085\n",
              "2013-01-02  0.325612 -1.851627 -1.903947  0.400959\n",
              "2013-01-03  0.510580  1.558028  0.037500 -0.779482\n",
              "2013-01-04 -1.201652  1.943643  1.321976  0.053565\n",
              "2013-01-05  0.386650 -1.947773 -1.917859 -1.238103\n",
              "2013-01-06 -0.187726 -0.481389 -0.746262  1.054448"
            ]
          },
          "metadata": {
            "tags": []
          },
          "execution_count": 82
        }
      ]
    },
    {
      "cell_type": "code",
      "metadata": {
        "colab": {
          "base_uri": "https://localhost:8080/"
        },
        "id": "c5NsqPL55UKP",
        "outputId": "c68b1b94-2987-4f8e-c3b2-bb69f8e979c1"
      },
      "source": [
        "# Statistike\n",
        "df.mean()"
      ],
      "execution_count": 83,
      "outputs": [
        {
          "output_type": "execute_result",
          "data": {
            "text/plain": [
              "A   -0.121838\n",
              "B   -0.146123\n",
              "C   -0.810245\n",
              "D   -0.047588\n",
              "dtype: float64"
            ]
          },
          "metadata": {
            "tags": []
          },
          "execution_count": 83
        }
      ]
    },
    {
      "cell_type": "code",
      "metadata": {
        "colab": {
          "base_uri": "https://localhost:8080/"
        },
        "id": "WHNYKf3451oQ",
        "outputId": "53128e59-dc08-41a2-df7e-fe9c4c5fa11f"
      },
      "source": [
        "# Statistike\n",
        "df.mean(1)"
      ],
      "execution_count": 84,
      "outputs": [
        {
          "output_type": "execute_result",
          "data": {
            "text/plain": [
              "2013-01-01   -0.522975\n",
              "2013-01-02   -0.757251\n",
              "2013-01-03    0.331656\n",
              "2013-01-04    0.529383\n",
              "2013-01-05   -1.179271\n",
              "2013-01-06   -0.090232\n",
              "Freq: D, dtype: float64"
            ]
          },
          "metadata": {
            "tags": []
          },
          "execution_count": 84
        }
      ]
    },
    {
      "cell_type": "code",
      "metadata": {
        "colab": {
          "base_uri": "https://localhost:8080/",
          "height": 235
        },
        "id": "Qdllw9aX54rX",
        "outputId": "71f58899-44c5-496e-8d3c-f0725ebc9cda"
      },
      "source": [
        "# Primena funkcija\n",
        "df"
      ],
      "execution_count": 88,
      "outputs": [
        {
          "output_type": "execute_result",
          "data": {
            "text/html": [
              "<div>\n",
              "<style scoped>\n",
              "    .dataframe tbody tr th:only-of-type {\n",
              "        vertical-align: middle;\n",
              "    }\n",
              "\n",
              "    .dataframe tbody tr th {\n",
              "        vertical-align: top;\n",
              "    }\n",
              "\n",
              "    .dataframe thead th {\n",
              "        text-align: right;\n",
              "    }\n",
              "</style>\n",
              "<table border=\"1\" class=\"dataframe\">\n",
              "  <thead>\n",
              "    <tr style=\"text-align: right;\">\n",
              "      <th></th>\n",
              "      <th>A</th>\n",
              "      <th>B</th>\n",
              "      <th>C</th>\n",
              "      <th>D</th>\n",
              "    </tr>\n",
              "  </thead>\n",
              "  <tbody>\n",
              "    <tr>\n",
              "      <th>2013-01-01</th>\n",
              "      <td>-0.564489</td>\n",
              "      <td>-0.097617</td>\n",
              "      <td>-1.652880</td>\n",
              "      <td>0.223085</td>\n",
              "    </tr>\n",
              "    <tr>\n",
              "      <th>2013-01-02</th>\n",
              "      <td>0.325612</td>\n",
              "      <td>-1.851627</td>\n",
              "      <td>-1.903947</td>\n",
              "      <td>0.400959</td>\n",
              "    </tr>\n",
              "    <tr>\n",
              "      <th>2013-01-03</th>\n",
              "      <td>0.510580</td>\n",
              "      <td>1.558028</td>\n",
              "      <td>0.037500</td>\n",
              "      <td>-0.779482</td>\n",
              "    </tr>\n",
              "    <tr>\n",
              "      <th>2013-01-04</th>\n",
              "      <td>-1.201652</td>\n",
              "      <td>1.943643</td>\n",
              "      <td>1.321976</td>\n",
              "      <td>0.053565</td>\n",
              "    </tr>\n",
              "    <tr>\n",
              "      <th>2013-01-05</th>\n",
              "      <td>0.386650</td>\n",
              "      <td>-1.947773</td>\n",
              "      <td>-1.917859</td>\n",
              "      <td>-1.238103</td>\n",
              "    </tr>\n",
              "    <tr>\n",
              "      <th>2013-01-06</th>\n",
              "      <td>-0.187726</td>\n",
              "      <td>-0.481389</td>\n",
              "      <td>-0.746262</td>\n",
              "      <td>1.054448</td>\n",
              "    </tr>\n",
              "  </tbody>\n",
              "</table>\n",
              "</div>"
            ],
            "text/plain": [
              "                   A         B         C         D\n",
              "2013-01-01 -0.564489 -0.097617 -1.652880  0.223085\n",
              "2013-01-02  0.325612 -1.851627 -1.903947  0.400959\n",
              "2013-01-03  0.510580  1.558028  0.037500 -0.779482\n",
              "2013-01-04 -1.201652  1.943643  1.321976  0.053565\n",
              "2013-01-05  0.386650 -1.947773 -1.917859 -1.238103\n",
              "2013-01-06 -0.187726 -0.481389 -0.746262  1.054448"
            ]
          },
          "metadata": {
            "tags": []
          },
          "execution_count": 88
        }
      ]
    },
    {
      "cell_type": "code",
      "metadata": {
        "colab": {
          "base_uri": "https://localhost:8080/"
        },
        "id": "YLh5BxDc6Izw",
        "outputId": "a18101ed-b4dd-4db0-b576-511371204541"
      },
      "source": [
        "df.apply(lambda x: x.max() - x.min())"
      ],
      "execution_count": 89,
      "outputs": [
        {
          "output_type": "execute_result",
          "data": {
            "text/plain": [
              "A    1.712231\n",
              "B    3.891416\n",
              "C    3.239835\n",
              "D    2.292551\n",
              "dtype: float64"
            ]
          },
          "metadata": {
            "tags": []
          },
          "execution_count": 89
        }
      ]
    },
    {
      "cell_type": "code",
      "metadata": {
        "colab": {
          "base_uri": "https://localhost:8080/"
        },
        "id": "G0tBMW9n6Krq",
        "outputId": "ccafe9c0-98f5-436a-bf2b-0e5c9de73141"
      },
      "source": [
        "# Histogram\n",
        "s = pd.Series(np.random.randint(0, 7, size=10))\n",
        "print(s)\n",
        "print(s.value_counts())"
      ],
      "execution_count": 92,
      "outputs": [
        {
          "output_type": "stream",
          "text": [
            "0    1\n",
            "1    4\n",
            "2    2\n",
            "3    0\n",
            "4    3\n",
            "5    3\n",
            "6    0\n",
            "7    5\n",
            "8    5\n",
            "9    0\n",
            "dtype: int64\n",
            "0    3\n",
            "5    2\n",
            "3    2\n",
            "4    1\n",
            "2    1\n",
            "1    1\n",
            "dtype: int64\n"
          ],
          "name": "stdout"
        }
      ]
    },
    {
      "cell_type": "markdown",
      "metadata": {
        "id": "L-KXRU0d9dUD"
      },
      "source": [
        "### Spanjanje"
      ]
    },
    {
      "cell_type": "code",
      "metadata": {
        "colab": {
          "base_uri": "https://localhost:8080/",
          "height": 359
        },
        "id": "PP_wiHo86ezF",
        "outputId": "73512423-5c8c-431b-f9f4-d90aead9ee52"
      },
      "source": [
        "# Kombinovanje Data Frame-ova\n",
        "df = pd.DataFrame(np.random.randn(10, 4))\n",
        "df"
      ],
      "execution_count": 93,
      "outputs": [
        {
          "output_type": "execute_result",
          "data": {
            "text/html": [
              "<div>\n",
              "<style scoped>\n",
              "    .dataframe tbody tr th:only-of-type {\n",
              "        vertical-align: middle;\n",
              "    }\n",
              "\n",
              "    .dataframe tbody tr th {\n",
              "        vertical-align: top;\n",
              "    }\n",
              "\n",
              "    .dataframe thead th {\n",
              "        text-align: right;\n",
              "    }\n",
              "</style>\n",
              "<table border=\"1\" class=\"dataframe\">\n",
              "  <thead>\n",
              "    <tr style=\"text-align: right;\">\n",
              "      <th></th>\n",
              "      <th>0</th>\n",
              "      <th>1</th>\n",
              "      <th>2</th>\n",
              "      <th>3</th>\n",
              "    </tr>\n",
              "  </thead>\n",
              "  <tbody>\n",
              "    <tr>\n",
              "      <th>0</th>\n",
              "      <td>-1.045232</td>\n",
              "      <td>0.287612</td>\n",
              "      <td>-0.904331</td>\n",
              "      <td>0.405558</td>\n",
              "    </tr>\n",
              "    <tr>\n",
              "      <th>1</th>\n",
              "      <td>-0.242635</td>\n",
              "      <td>-0.324860</td>\n",
              "      <td>0.460515</td>\n",
              "      <td>0.350966</td>\n",
              "    </tr>\n",
              "    <tr>\n",
              "      <th>2</th>\n",
              "      <td>-0.376605</td>\n",
              "      <td>-0.751708</td>\n",
              "      <td>0.465616</td>\n",
              "      <td>0.063693</td>\n",
              "    </tr>\n",
              "    <tr>\n",
              "      <th>3</th>\n",
              "      <td>0.694351</td>\n",
              "      <td>0.724318</td>\n",
              "      <td>-0.098517</td>\n",
              "      <td>1.564493</td>\n",
              "    </tr>\n",
              "    <tr>\n",
              "      <th>4</th>\n",
              "      <td>0.221986</td>\n",
              "      <td>-0.923676</td>\n",
              "      <td>0.350954</td>\n",
              "      <td>1.000294</td>\n",
              "    </tr>\n",
              "    <tr>\n",
              "      <th>5</th>\n",
              "      <td>-1.228178</td>\n",
              "      <td>0.765895</td>\n",
              "      <td>-0.450114</td>\n",
              "      <td>-0.853949</td>\n",
              "    </tr>\n",
              "    <tr>\n",
              "      <th>6</th>\n",
              "      <td>-1.589714</td>\n",
              "      <td>-0.462711</td>\n",
              "      <td>-0.912827</td>\n",
              "      <td>0.037392</td>\n",
              "    </tr>\n",
              "    <tr>\n",
              "      <th>7</th>\n",
              "      <td>1.254924</td>\n",
              "      <td>-0.415157</td>\n",
              "      <td>0.229757</td>\n",
              "      <td>0.833480</td>\n",
              "    </tr>\n",
              "    <tr>\n",
              "      <th>8</th>\n",
              "      <td>1.487459</td>\n",
              "      <td>-0.887380</td>\n",
              "      <td>-0.978325</td>\n",
              "      <td>0.224723</td>\n",
              "    </tr>\n",
              "    <tr>\n",
              "      <th>9</th>\n",
              "      <td>2.010906</td>\n",
              "      <td>-0.619798</td>\n",
              "      <td>-2.415971</td>\n",
              "      <td>-0.942009</td>\n",
              "    </tr>\n",
              "  </tbody>\n",
              "</table>\n",
              "</div>"
            ],
            "text/plain": [
              "          0         1         2         3\n",
              "0 -1.045232  0.287612 -0.904331  0.405558\n",
              "1 -0.242635 -0.324860  0.460515  0.350966\n",
              "2 -0.376605 -0.751708  0.465616  0.063693\n",
              "3  0.694351  0.724318 -0.098517  1.564493\n",
              "4  0.221986 -0.923676  0.350954  1.000294\n",
              "5 -1.228178  0.765895 -0.450114 -0.853949\n",
              "6 -1.589714 -0.462711 -0.912827  0.037392\n",
              "7  1.254924 -0.415157  0.229757  0.833480\n",
              "8  1.487459 -0.887380 -0.978325  0.224723\n",
              "9  2.010906 -0.619798 -2.415971 -0.942009"
            ]
          },
          "metadata": {
            "tags": []
          },
          "execution_count": 93
        }
      ]
    },
    {
      "cell_type": "code",
      "metadata": {
        "colab": {
          "base_uri": "https://localhost:8080/"
        },
        "id": "9gvNJSfg66Sj",
        "outputId": "f6808df7-297e-429a-b0a1-30439b0392ad"
      },
      "source": [
        "pieces = [df[:3], df[3:7], df[7:]]\n",
        "pieces"
      ],
      "execution_count": 94,
      "outputs": [
        {
          "output_type": "execute_result",
          "data": {
            "text/plain": [
              "[          0         1         2         3\n",
              " 0 -1.045232  0.287612 -0.904331  0.405558\n",
              " 1 -0.242635 -0.324860  0.460515  0.350966\n",
              " 2 -0.376605 -0.751708  0.465616  0.063693,\n",
              "           0         1         2         3\n",
              " 3  0.694351  0.724318 -0.098517  1.564493\n",
              " 4  0.221986 -0.923676  0.350954  1.000294\n",
              " 5 -1.228178  0.765895 -0.450114 -0.853949\n",
              " 6 -1.589714 -0.462711 -0.912827  0.037392,\n",
              "           0         1         2         3\n",
              " 7  1.254924 -0.415157  0.229757  0.833480\n",
              " 8  1.487459 -0.887380 -0.978325  0.224723\n",
              " 9  2.010906 -0.619798 -2.415971 -0.942009]"
            ]
          },
          "metadata": {
            "tags": []
          },
          "execution_count": 94
        }
      ]
    },
    {
      "cell_type": "code",
      "metadata": {
        "colab": {
          "base_uri": "https://localhost:8080/",
          "height": 359
        },
        "id": "lD4Ia2cC68yy",
        "outputId": "33cc075a-d565-454c-c366-542c2d7a7f49"
      },
      "source": [
        "pd.concat(pieces)"
      ],
      "execution_count": 96,
      "outputs": [
        {
          "output_type": "execute_result",
          "data": {
            "text/html": [
              "<div>\n",
              "<style scoped>\n",
              "    .dataframe tbody tr th:only-of-type {\n",
              "        vertical-align: middle;\n",
              "    }\n",
              "\n",
              "    .dataframe tbody tr th {\n",
              "        vertical-align: top;\n",
              "    }\n",
              "\n",
              "    .dataframe thead th {\n",
              "        text-align: right;\n",
              "    }\n",
              "</style>\n",
              "<table border=\"1\" class=\"dataframe\">\n",
              "  <thead>\n",
              "    <tr style=\"text-align: right;\">\n",
              "      <th></th>\n",
              "      <th>0</th>\n",
              "      <th>1</th>\n",
              "      <th>2</th>\n",
              "      <th>3</th>\n",
              "    </tr>\n",
              "  </thead>\n",
              "  <tbody>\n",
              "    <tr>\n",
              "      <th>0</th>\n",
              "      <td>-1.045232</td>\n",
              "      <td>0.287612</td>\n",
              "      <td>-0.904331</td>\n",
              "      <td>0.405558</td>\n",
              "    </tr>\n",
              "    <tr>\n",
              "      <th>1</th>\n",
              "      <td>-0.242635</td>\n",
              "      <td>-0.324860</td>\n",
              "      <td>0.460515</td>\n",
              "      <td>0.350966</td>\n",
              "    </tr>\n",
              "    <tr>\n",
              "      <th>2</th>\n",
              "      <td>-0.376605</td>\n",
              "      <td>-0.751708</td>\n",
              "      <td>0.465616</td>\n",
              "      <td>0.063693</td>\n",
              "    </tr>\n",
              "    <tr>\n",
              "      <th>3</th>\n",
              "      <td>0.694351</td>\n",
              "      <td>0.724318</td>\n",
              "      <td>-0.098517</td>\n",
              "      <td>1.564493</td>\n",
              "    </tr>\n",
              "    <tr>\n",
              "      <th>4</th>\n",
              "      <td>0.221986</td>\n",
              "      <td>-0.923676</td>\n",
              "      <td>0.350954</td>\n",
              "      <td>1.000294</td>\n",
              "    </tr>\n",
              "    <tr>\n",
              "      <th>5</th>\n",
              "      <td>-1.228178</td>\n",
              "      <td>0.765895</td>\n",
              "      <td>-0.450114</td>\n",
              "      <td>-0.853949</td>\n",
              "    </tr>\n",
              "    <tr>\n",
              "      <th>6</th>\n",
              "      <td>-1.589714</td>\n",
              "      <td>-0.462711</td>\n",
              "      <td>-0.912827</td>\n",
              "      <td>0.037392</td>\n",
              "    </tr>\n",
              "    <tr>\n",
              "      <th>7</th>\n",
              "      <td>1.254924</td>\n",
              "      <td>-0.415157</td>\n",
              "      <td>0.229757</td>\n",
              "      <td>0.833480</td>\n",
              "    </tr>\n",
              "    <tr>\n",
              "      <th>8</th>\n",
              "      <td>1.487459</td>\n",
              "      <td>-0.887380</td>\n",
              "      <td>-0.978325</td>\n",
              "      <td>0.224723</td>\n",
              "    </tr>\n",
              "    <tr>\n",
              "      <th>9</th>\n",
              "      <td>2.010906</td>\n",
              "      <td>-0.619798</td>\n",
              "      <td>-2.415971</td>\n",
              "      <td>-0.942009</td>\n",
              "    </tr>\n",
              "  </tbody>\n",
              "</table>\n",
              "</div>"
            ],
            "text/plain": [
              "          0         1         2         3\n",
              "0 -1.045232  0.287612 -0.904331  0.405558\n",
              "1 -0.242635 -0.324860  0.460515  0.350966\n",
              "2 -0.376605 -0.751708  0.465616  0.063693\n",
              "3  0.694351  0.724318 -0.098517  1.564493\n",
              "4  0.221986 -0.923676  0.350954  1.000294\n",
              "5 -1.228178  0.765895 -0.450114 -0.853949\n",
              "6 -1.589714 -0.462711 -0.912827  0.037392\n",
              "7  1.254924 -0.415157  0.229757  0.833480\n",
              "8  1.487459 -0.887380 -0.978325  0.224723\n",
              "9  2.010906 -0.619798 -2.415971 -0.942009"
            ]
          },
          "metadata": {
            "tags": []
          },
          "execution_count": 96
        }
      ]
    },
    {
      "cell_type": "code",
      "metadata": {
        "colab": {
          "base_uri": "https://localhost:8080/",
          "height": 111
        },
        "id": "pznCsVVj7F6E",
        "outputId": "0db9ede1-9dcd-46d4-cded-e2f6a44393fc"
      },
      "source": [
        "# SQL Stil - join\n",
        "left = pd.DataFrame({\"key\": [\"foo\", \"foo\"], \"lval\": [1, 2]})\n",
        "left"
      ],
      "execution_count": 98,
      "outputs": [
        {
          "output_type": "execute_result",
          "data": {
            "text/html": [
              "<div>\n",
              "<style scoped>\n",
              "    .dataframe tbody tr th:only-of-type {\n",
              "        vertical-align: middle;\n",
              "    }\n",
              "\n",
              "    .dataframe tbody tr th {\n",
              "        vertical-align: top;\n",
              "    }\n",
              "\n",
              "    .dataframe thead th {\n",
              "        text-align: right;\n",
              "    }\n",
              "</style>\n",
              "<table border=\"1\" class=\"dataframe\">\n",
              "  <thead>\n",
              "    <tr style=\"text-align: right;\">\n",
              "      <th></th>\n",
              "      <th>key</th>\n",
              "      <th>lval</th>\n",
              "    </tr>\n",
              "  </thead>\n",
              "  <tbody>\n",
              "    <tr>\n",
              "      <th>0</th>\n",
              "      <td>foo</td>\n",
              "      <td>1</td>\n",
              "    </tr>\n",
              "    <tr>\n",
              "      <th>1</th>\n",
              "      <td>foo</td>\n",
              "      <td>2</td>\n",
              "    </tr>\n",
              "  </tbody>\n",
              "</table>\n",
              "</div>"
            ],
            "text/plain": [
              "   key  lval\n",
              "0  foo     1\n",
              "1  foo     2"
            ]
          },
          "metadata": {
            "tags": []
          },
          "execution_count": 98
        }
      ]
    },
    {
      "cell_type": "code",
      "metadata": {
        "colab": {
          "base_uri": "https://localhost:8080/",
          "height": 111
        },
        "id": "LXgRKYYm7LAL",
        "outputId": "a1451715-2178-42c6-f47d-194bfd1d5fb2"
      },
      "source": [
        "right = pd.DataFrame({\"key\": [\"foo\", \"foo\"], \"rval\": [4, 5]})\n",
        "right"
      ],
      "execution_count": 99,
      "outputs": [
        {
          "output_type": "execute_result",
          "data": {
            "text/html": [
              "<div>\n",
              "<style scoped>\n",
              "    .dataframe tbody tr th:only-of-type {\n",
              "        vertical-align: middle;\n",
              "    }\n",
              "\n",
              "    .dataframe tbody tr th {\n",
              "        vertical-align: top;\n",
              "    }\n",
              "\n",
              "    .dataframe thead th {\n",
              "        text-align: right;\n",
              "    }\n",
              "</style>\n",
              "<table border=\"1\" class=\"dataframe\">\n",
              "  <thead>\n",
              "    <tr style=\"text-align: right;\">\n",
              "      <th></th>\n",
              "      <th>key</th>\n",
              "      <th>rval</th>\n",
              "    </tr>\n",
              "  </thead>\n",
              "  <tbody>\n",
              "    <tr>\n",
              "      <th>0</th>\n",
              "      <td>foo</td>\n",
              "      <td>4</td>\n",
              "    </tr>\n",
              "    <tr>\n",
              "      <th>1</th>\n",
              "      <td>foo</td>\n",
              "      <td>5</td>\n",
              "    </tr>\n",
              "  </tbody>\n",
              "</table>\n",
              "</div>"
            ],
            "text/plain": [
              "   key  rval\n",
              "0  foo     4\n",
              "1  foo     5"
            ]
          },
          "metadata": {
            "tags": []
          },
          "execution_count": 99
        }
      ]
    },
    {
      "cell_type": "code",
      "metadata": {
        "colab": {
          "base_uri": "https://localhost:8080/",
          "height": 173
        },
        "id": "WgAxdTKK7PZW",
        "outputId": "b7024d2c-08a9-4bde-be3e-6b42b12473ae"
      },
      "source": [
        "pd.merge(left, right, on=\"key\")"
      ],
      "execution_count": 100,
      "outputs": [
        {
          "output_type": "execute_result",
          "data": {
            "text/html": [
              "<div>\n",
              "<style scoped>\n",
              "    .dataframe tbody tr th:only-of-type {\n",
              "        vertical-align: middle;\n",
              "    }\n",
              "\n",
              "    .dataframe tbody tr th {\n",
              "        vertical-align: top;\n",
              "    }\n",
              "\n",
              "    .dataframe thead th {\n",
              "        text-align: right;\n",
              "    }\n",
              "</style>\n",
              "<table border=\"1\" class=\"dataframe\">\n",
              "  <thead>\n",
              "    <tr style=\"text-align: right;\">\n",
              "      <th></th>\n",
              "      <th>key</th>\n",
              "      <th>lval</th>\n",
              "      <th>rval</th>\n",
              "    </tr>\n",
              "  </thead>\n",
              "  <tbody>\n",
              "    <tr>\n",
              "      <th>0</th>\n",
              "      <td>foo</td>\n",
              "      <td>1</td>\n",
              "      <td>4</td>\n",
              "    </tr>\n",
              "    <tr>\n",
              "      <th>1</th>\n",
              "      <td>foo</td>\n",
              "      <td>1</td>\n",
              "      <td>5</td>\n",
              "    </tr>\n",
              "    <tr>\n",
              "      <th>2</th>\n",
              "      <td>foo</td>\n",
              "      <td>2</td>\n",
              "      <td>4</td>\n",
              "    </tr>\n",
              "    <tr>\n",
              "      <th>3</th>\n",
              "      <td>foo</td>\n",
              "      <td>2</td>\n",
              "      <td>5</td>\n",
              "    </tr>\n",
              "  </tbody>\n",
              "</table>\n",
              "</div>"
            ],
            "text/plain": [
              "   key  lval  rval\n",
              "0  foo     1     4\n",
              "1  foo     1     5\n",
              "2  foo     2     4\n",
              "3  foo     2     5"
            ]
          },
          "metadata": {
            "tags": []
          },
          "execution_count": 100
        }
      ]
    },
    {
      "cell_type": "code",
      "metadata": {
        "colab": {
          "base_uri": "https://localhost:8080/",
          "height": 111
        },
        "id": "DGHavDBC7ROe",
        "outputId": "626c3caa-0744-4001-ddbb-11d48755a769"
      },
      "source": [
        "left = pd.DataFrame({\"key\": [\"foo\", \"bar\"], \"lval\": [1, 2]})\n",
        "left"
      ],
      "execution_count": 101,
      "outputs": [
        {
          "output_type": "execute_result",
          "data": {
            "text/html": [
              "<div>\n",
              "<style scoped>\n",
              "    .dataframe tbody tr th:only-of-type {\n",
              "        vertical-align: middle;\n",
              "    }\n",
              "\n",
              "    .dataframe tbody tr th {\n",
              "        vertical-align: top;\n",
              "    }\n",
              "\n",
              "    .dataframe thead th {\n",
              "        text-align: right;\n",
              "    }\n",
              "</style>\n",
              "<table border=\"1\" class=\"dataframe\">\n",
              "  <thead>\n",
              "    <tr style=\"text-align: right;\">\n",
              "      <th></th>\n",
              "      <th>key</th>\n",
              "      <th>lval</th>\n",
              "    </tr>\n",
              "  </thead>\n",
              "  <tbody>\n",
              "    <tr>\n",
              "      <th>0</th>\n",
              "      <td>foo</td>\n",
              "      <td>1</td>\n",
              "    </tr>\n",
              "    <tr>\n",
              "      <th>1</th>\n",
              "      <td>bar</td>\n",
              "      <td>2</td>\n",
              "    </tr>\n",
              "  </tbody>\n",
              "</table>\n",
              "</div>"
            ],
            "text/plain": [
              "   key  lval\n",
              "0  foo     1\n",
              "1  bar     2"
            ]
          },
          "metadata": {
            "tags": []
          },
          "execution_count": 101
        }
      ]
    },
    {
      "cell_type": "code",
      "metadata": {
        "colab": {
          "base_uri": "https://localhost:8080/",
          "height": 111
        },
        "id": "cMIER3Jl8VBj",
        "outputId": "9908ef21-5f19-43ab-b48c-08d0495f2e3a"
      },
      "source": [
        "right = pd.DataFrame({\"key\": [\"foo\", \"bar\"], \"rval\": [4, 5]})\n",
        "right"
      ],
      "execution_count": 102,
      "outputs": [
        {
          "output_type": "execute_result",
          "data": {
            "text/html": [
              "<div>\n",
              "<style scoped>\n",
              "    .dataframe tbody tr th:only-of-type {\n",
              "        vertical-align: middle;\n",
              "    }\n",
              "\n",
              "    .dataframe tbody tr th {\n",
              "        vertical-align: top;\n",
              "    }\n",
              "\n",
              "    .dataframe thead th {\n",
              "        text-align: right;\n",
              "    }\n",
              "</style>\n",
              "<table border=\"1\" class=\"dataframe\">\n",
              "  <thead>\n",
              "    <tr style=\"text-align: right;\">\n",
              "      <th></th>\n",
              "      <th>key</th>\n",
              "      <th>rval</th>\n",
              "    </tr>\n",
              "  </thead>\n",
              "  <tbody>\n",
              "    <tr>\n",
              "      <th>0</th>\n",
              "      <td>foo</td>\n",
              "      <td>4</td>\n",
              "    </tr>\n",
              "    <tr>\n",
              "      <th>1</th>\n",
              "      <td>bar</td>\n",
              "      <td>5</td>\n",
              "    </tr>\n",
              "  </tbody>\n",
              "</table>\n",
              "</div>"
            ],
            "text/plain": [
              "   key  rval\n",
              "0  foo     4\n",
              "1  bar     5"
            ]
          },
          "metadata": {
            "tags": []
          },
          "execution_count": 102
        }
      ]
    },
    {
      "cell_type": "code",
      "metadata": {
        "colab": {
          "base_uri": "https://localhost:8080/",
          "height": 111
        },
        "id": "2-P8tYWL8W_U",
        "outputId": "40bfdb85-13ee-4e7c-d923-5a66896730d7"
      },
      "source": [
        "pd.merge(left, right, on=\"key\")"
      ],
      "execution_count": 103,
      "outputs": [
        {
          "output_type": "execute_result",
          "data": {
            "text/html": [
              "<div>\n",
              "<style scoped>\n",
              "    .dataframe tbody tr th:only-of-type {\n",
              "        vertical-align: middle;\n",
              "    }\n",
              "\n",
              "    .dataframe tbody tr th {\n",
              "        vertical-align: top;\n",
              "    }\n",
              "\n",
              "    .dataframe thead th {\n",
              "        text-align: right;\n",
              "    }\n",
              "</style>\n",
              "<table border=\"1\" class=\"dataframe\">\n",
              "  <thead>\n",
              "    <tr style=\"text-align: right;\">\n",
              "      <th></th>\n",
              "      <th>key</th>\n",
              "      <th>lval</th>\n",
              "      <th>rval</th>\n",
              "    </tr>\n",
              "  </thead>\n",
              "  <tbody>\n",
              "    <tr>\n",
              "      <th>0</th>\n",
              "      <td>foo</td>\n",
              "      <td>1</td>\n",
              "      <td>4</td>\n",
              "    </tr>\n",
              "    <tr>\n",
              "      <th>1</th>\n",
              "      <td>bar</td>\n",
              "      <td>2</td>\n",
              "      <td>5</td>\n",
              "    </tr>\n",
              "  </tbody>\n",
              "</table>\n",
              "</div>"
            ],
            "text/plain": [
              "   key  lval  rval\n",
              "0  foo     1     4\n",
              "1  bar     2     5"
            ]
          },
          "metadata": {
            "tags": []
          },
          "execution_count": 103
        }
      ]
    },
    {
      "cell_type": "markdown",
      "metadata": {
        "id": "eOeqeZHv9ZfP"
      },
      "source": [
        "### Grupisanje"
      ]
    },
    {
      "cell_type": "code",
      "metadata": {
        "colab": {
          "base_uri": "https://localhost:8080/",
          "height": 297
        },
        "id": "6OXjbM1s8ZLV",
        "outputId": "70de9e8a-3f14-4eab-9302-e0f6fddf67b1"
      },
      "source": [
        "# Grupisanje\n",
        "df = pd.DataFrame(\n",
        "   {\n",
        "   \"A\": [\"foo\", \"bar\", \"foo\", \"bar\", \"foo\", \"bar\", \"foo\", \"foo\"],\n",
        "   \"B\": [\"one\", \"one\", \"two\", \"three\", \"two\", \"two\", \"one\", \"three\"],\n",
        "   \"C\": np.random.randn(8),\n",
        "   \"D\": np.random.randn(8),\n",
        "   }\n",
        ")\n",
        "df"
      ],
      "execution_count": 104,
      "outputs": [
        {
          "output_type": "execute_result",
          "data": {
            "text/html": [
              "<div>\n",
              "<style scoped>\n",
              "    .dataframe tbody tr th:only-of-type {\n",
              "        vertical-align: middle;\n",
              "    }\n",
              "\n",
              "    .dataframe tbody tr th {\n",
              "        vertical-align: top;\n",
              "    }\n",
              "\n",
              "    .dataframe thead th {\n",
              "        text-align: right;\n",
              "    }\n",
              "</style>\n",
              "<table border=\"1\" class=\"dataframe\">\n",
              "  <thead>\n",
              "    <tr style=\"text-align: right;\">\n",
              "      <th></th>\n",
              "      <th>A</th>\n",
              "      <th>B</th>\n",
              "      <th>C</th>\n",
              "      <th>D</th>\n",
              "    </tr>\n",
              "  </thead>\n",
              "  <tbody>\n",
              "    <tr>\n",
              "      <th>0</th>\n",
              "      <td>foo</td>\n",
              "      <td>one</td>\n",
              "      <td>-1.008587</td>\n",
              "      <td>-1.216747</td>\n",
              "    </tr>\n",
              "    <tr>\n",
              "      <th>1</th>\n",
              "      <td>bar</td>\n",
              "      <td>one</td>\n",
              "      <td>-0.036498</td>\n",
              "      <td>0.275484</td>\n",
              "    </tr>\n",
              "    <tr>\n",
              "      <th>2</th>\n",
              "      <td>foo</td>\n",
              "      <td>two</td>\n",
              "      <td>0.719302</td>\n",
              "      <td>2.158189</td>\n",
              "    </tr>\n",
              "    <tr>\n",
              "      <th>3</th>\n",
              "      <td>bar</td>\n",
              "      <td>three</td>\n",
              "      <td>1.189394</td>\n",
              "      <td>0.726714</td>\n",
              "    </tr>\n",
              "    <tr>\n",
              "      <th>4</th>\n",
              "      <td>foo</td>\n",
              "      <td>two</td>\n",
              "      <td>0.349546</td>\n",
              "      <td>0.514100</td>\n",
              "    </tr>\n",
              "    <tr>\n",
              "      <th>5</th>\n",
              "      <td>bar</td>\n",
              "      <td>two</td>\n",
              "      <td>1.543219</td>\n",
              "      <td>-1.047994</td>\n",
              "    </tr>\n",
              "    <tr>\n",
              "      <th>6</th>\n",
              "      <td>foo</td>\n",
              "      <td>one</td>\n",
              "      <td>-0.698672</td>\n",
              "      <td>-0.316959</td>\n",
              "    </tr>\n",
              "    <tr>\n",
              "      <th>7</th>\n",
              "      <td>foo</td>\n",
              "      <td>three</td>\n",
              "      <td>0.734451</td>\n",
              "      <td>-0.005926</td>\n",
              "    </tr>\n",
              "  </tbody>\n",
              "</table>\n",
              "</div>"
            ],
            "text/plain": [
              "     A      B         C         D\n",
              "0  foo    one -1.008587 -1.216747\n",
              "1  bar    one -0.036498  0.275484\n",
              "2  foo    two  0.719302  2.158189\n",
              "3  bar  three  1.189394  0.726714\n",
              "4  foo    two  0.349546  0.514100\n",
              "5  bar    two  1.543219 -1.047994\n",
              "6  foo    one -0.698672 -0.316959\n",
              "7  foo  three  0.734451 -0.005926"
            ]
          },
          "metadata": {
            "tags": []
          },
          "execution_count": 104
        }
      ]
    },
    {
      "cell_type": "code",
      "metadata": {
        "colab": {
          "base_uri": "https://localhost:8080/"
        },
        "id": "jDDP5G5l8qsq",
        "outputId": "8f242c52-0329-4fec-e744-b69cfd26e259"
      },
      "source": [
        "df.groupby(\"A\")"
      ],
      "execution_count": 105,
      "outputs": [
        {
          "output_type": "execute_result",
          "data": {
            "text/plain": [
              "<pandas.core.groupby.generic.DataFrameGroupBy object at 0x7f11ec609198>"
            ]
          },
          "metadata": {
            "tags": []
          },
          "execution_count": 105
        }
      ]
    },
    {
      "cell_type": "code",
      "metadata": {
        "colab": {
          "base_uri": "https://localhost:8080/",
          "height": 142
        },
        "id": "kc2QFMn98tmt",
        "outputId": "753c5826-c467-446f-efae-1476cc8906be"
      },
      "source": [
        "df.groupby(\"A\").sum()"
      ],
      "execution_count": 106,
      "outputs": [
        {
          "output_type": "execute_result",
          "data": {
            "text/html": [
              "<div>\n",
              "<style scoped>\n",
              "    .dataframe tbody tr th:only-of-type {\n",
              "        vertical-align: middle;\n",
              "    }\n",
              "\n",
              "    .dataframe tbody tr th {\n",
              "        vertical-align: top;\n",
              "    }\n",
              "\n",
              "    .dataframe thead th {\n",
              "        text-align: right;\n",
              "    }\n",
              "</style>\n",
              "<table border=\"1\" class=\"dataframe\">\n",
              "  <thead>\n",
              "    <tr style=\"text-align: right;\">\n",
              "      <th></th>\n",
              "      <th>C</th>\n",
              "      <th>D</th>\n",
              "    </tr>\n",
              "    <tr>\n",
              "      <th>A</th>\n",
              "      <th></th>\n",
              "      <th></th>\n",
              "    </tr>\n",
              "  </thead>\n",
              "  <tbody>\n",
              "    <tr>\n",
              "      <th>bar</th>\n",
              "      <td>2.696115</td>\n",
              "      <td>-0.045796</td>\n",
              "    </tr>\n",
              "    <tr>\n",
              "      <th>foo</th>\n",
              "      <td>0.096040</td>\n",
              "      <td>1.132656</td>\n",
              "    </tr>\n",
              "  </tbody>\n",
              "</table>\n",
              "</div>"
            ],
            "text/plain": [
              "            C         D\n",
              "A                      \n",
              "bar  2.696115 -0.045796\n",
              "foo  0.096040  1.132656"
            ]
          },
          "metadata": {
            "tags": []
          },
          "execution_count": 106
        }
      ]
    },
    {
      "cell_type": "markdown",
      "metadata": {
        "id": "Le49nEHA9Wp7"
      },
      "source": [
        "### Vremenske serije"
      ]
    },
    {
      "cell_type": "code",
      "metadata": {
        "colab": {
          "base_uri": "https://localhost:8080/"
        },
        "id": "RuuusAbh8u6B",
        "outputId": "c67f3ba3-ea27-41e3-b857-0095c9d6acba"
      },
      "source": [
        "rng = pd.date_range(\"1/1/2012\", periods=100, freq=\"S\")\n",
        "rng"
      ],
      "execution_count": 109,
      "outputs": [
        {
          "output_type": "execute_result",
          "data": {
            "text/plain": [
              "DatetimeIndex(['2012-01-01 00:00:00', '2012-01-01 00:00:01',\n",
              "               '2012-01-01 00:00:02', '2012-01-01 00:00:03',\n",
              "               '2012-01-01 00:00:04', '2012-01-01 00:00:05',\n",
              "               '2012-01-01 00:00:06', '2012-01-01 00:00:07',\n",
              "               '2012-01-01 00:00:08', '2012-01-01 00:00:09',\n",
              "               '2012-01-01 00:00:10', '2012-01-01 00:00:11',\n",
              "               '2012-01-01 00:00:12', '2012-01-01 00:00:13',\n",
              "               '2012-01-01 00:00:14', '2012-01-01 00:00:15',\n",
              "               '2012-01-01 00:00:16', '2012-01-01 00:00:17',\n",
              "               '2012-01-01 00:00:18', '2012-01-01 00:00:19',\n",
              "               '2012-01-01 00:00:20', '2012-01-01 00:00:21',\n",
              "               '2012-01-01 00:00:22', '2012-01-01 00:00:23',\n",
              "               '2012-01-01 00:00:24', '2012-01-01 00:00:25',\n",
              "               '2012-01-01 00:00:26', '2012-01-01 00:00:27',\n",
              "               '2012-01-01 00:00:28', '2012-01-01 00:00:29',\n",
              "               '2012-01-01 00:00:30', '2012-01-01 00:00:31',\n",
              "               '2012-01-01 00:00:32', '2012-01-01 00:00:33',\n",
              "               '2012-01-01 00:00:34', '2012-01-01 00:00:35',\n",
              "               '2012-01-01 00:00:36', '2012-01-01 00:00:37',\n",
              "               '2012-01-01 00:00:38', '2012-01-01 00:00:39',\n",
              "               '2012-01-01 00:00:40', '2012-01-01 00:00:41',\n",
              "               '2012-01-01 00:00:42', '2012-01-01 00:00:43',\n",
              "               '2012-01-01 00:00:44', '2012-01-01 00:00:45',\n",
              "               '2012-01-01 00:00:46', '2012-01-01 00:00:47',\n",
              "               '2012-01-01 00:00:48', '2012-01-01 00:00:49',\n",
              "               '2012-01-01 00:00:50', '2012-01-01 00:00:51',\n",
              "               '2012-01-01 00:00:52', '2012-01-01 00:00:53',\n",
              "               '2012-01-01 00:00:54', '2012-01-01 00:00:55',\n",
              "               '2012-01-01 00:00:56', '2012-01-01 00:00:57',\n",
              "               '2012-01-01 00:00:58', '2012-01-01 00:00:59',\n",
              "               '2012-01-01 00:01:00', '2012-01-01 00:01:01',\n",
              "               '2012-01-01 00:01:02', '2012-01-01 00:01:03',\n",
              "               '2012-01-01 00:01:04', '2012-01-01 00:01:05',\n",
              "               '2012-01-01 00:01:06', '2012-01-01 00:01:07',\n",
              "               '2012-01-01 00:01:08', '2012-01-01 00:01:09',\n",
              "               '2012-01-01 00:01:10', '2012-01-01 00:01:11',\n",
              "               '2012-01-01 00:01:12', '2012-01-01 00:01:13',\n",
              "               '2012-01-01 00:01:14', '2012-01-01 00:01:15',\n",
              "               '2012-01-01 00:01:16', '2012-01-01 00:01:17',\n",
              "               '2012-01-01 00:01:18', '2012-01-01 00:01:19',\n",
              "               '2012-01-01 00:01:20', '2012-01-01 00:01:21',\n",
              "               '2012-01-01 00:01:22', '2012-01-01 00:01:23',\n",
              "               '2012-01-01 00:01:24', '2012-01-01 00:01:25',\n",
              "               '2012-01-01 00:01:26', '2012-01-01 00:01:27',\n",
              "               '2012-01-01 00:01:28', '2012-01-01 00:01:29',\n",
              "               '2012-01-01 00:01:30', '2012-01-01 00:01:31',\n",
              "               '2012-01-01 00:01:32', '2012-01-01 00:01:33',\n",
              "               '2012-01-01 00:01:34', '2012-01-01 00:01:35',\n",
              "               '2012-01-01 00:01:36', '2012-01-01 00:01:37',\n",
              "               '2012-01-01 00:01:38', '2012-01-01 00:01:39'],\n",
              "              dtype='datetime64[ns]', freq='S')"
            ]
          },
          "metadata": {
            "tags": []
          },
          "execution_count": 109
        }
      ]
    },
    {
      "cell_type": "code",
      "metadata": {
        "colab": {
          "base_uri": "https://localhost:8080/"
        },
        "id": "0jpECr5v90Wi",
        "outputId": "7e29d824-e8c3-4345-e3f0-8658ddb9a816"
      },
      "source": [
        "ts = pd.Series(np.random.randint(0, 500, len(rng)), index=rng)\n",
        "ts"
      ],
      "execution_count": 110,
      "outputs": [
        {
          "output_type": "execute_result",
          "data": {
            "text/plain": [
              "2012-01-01 00:00:00    172\n",
              "2012-01-01 00:00:01      2\n",
              "2012-01-01 00:00:02    485\n",
              "2012-01-01 00:00:03    314\n",
              "2012-01-01 00:00:04      1\n",
              "                      ... \n",
              "2012-01-01 00:01:35     34\n",
              "2012-01-01 00:01:36    217\n",
              "2012-01-01 00:01:37    400\n",
              "2012-01-01 00:01:38    191\n",
              "2012-01-01 00:01:39    304\n",
              "Freq: S, Length: 100, dtype: int64"
            ]
          },
          "metadata": {
            "tags": []
          },
          "execution_count": 110
        }
      ]
    },
    {
      "cell_type": "code",
      "metadata": {
        "colab": {
          "base_uri": "https://localhost:8080/"
        },
        "id": "GvFgb9N-96ez",
        "outputId": "630b8a2a-2201-4b7b-bb67-f12b3ded1de6"
      },
      "source": [
        "ts.resample(\"5Min\").sum()"
      ],
      "execution_count": 112,
      "outputs": [
        {
          "output_type": "execute_result",
          "data": {
            "text/plain": [
              "2012-01-01    24672\n",
              "Freq: 5T, dtype: int64"
            ]
          },
          "metadata": {
            "tags": []
          },
          "execution_count": 112
        }
      ]
    },
    {
      "cell_type": "code",
      "metadata": {
        "colab": {
          "base_uri": "https://localhost:8080/"
        },
        "id": "xIOIeqQX99tE",
        "outputId": "47a994c8-aa36-4bde-f0ae-3e1b69f398df"
      },
      "source": [
        "ts.resample(\"1Min\").sum()"
      ],
      "execution_count": 113,
      "outputs": [
        {
          "output_type": "execute_result",
          "data": {
            "text/plain": [
              "2012-01-01 00:00:00    14144\n",
              "2012-01-01 00:01:00    10528\n",
              "Freq: T, dtype: int64"
            ]
          },
          "metadata": {
            "tags": []
          },
          "execution_count": 113
        }
      ]
    },
    {
      "cell_type": "code",
      "metadata": {
        "colab": {
          "base_uri": "https://localhost:8080/"
        },
        "id": "rRwrfRQ1-LYi",
        "outputId": "e7232279-616d-4933-b62b-c9aeef75366d"
      },
      "source": [
        "ts.resample(\"0.5Min\").sum()"
      ],
      "execution_count": 114,
      "outputs": [
        {
          "output_type": "execute_result",
          "data": {
            "text/plain": [
              "2012-01-01 00:00:00    6725\n",
              "2012-01-01 00:00:30    7419\n",
              "2012-01-01 00:01:00    7670\n",
              "2012-01-01 00:01:30    2858\n",
              "Freq: 30S, dtype: int64"
            ]
          },
          "metadata": {
            "tags": []
          },
          "execution_count": 114
        }
      ]
    },
    {
      "cell_type": "code",
      "metadata": {
        "colab": {
          "base_uri": "https://localhost:8080/"
        },
        "id": "b_LoRLnH-NHZ",
        "outputId": "86d2c307-bdb5-4833-84e8-b3e255f3a2f2"
      },
      "source": [
        "# Time zone\n",
        "rng = pd.date_range(\"3/6/2012 00:00\", periods=5, freq=\"D\")\n",
        "rng"
      ],
      "execution_count": 115,
      "outputs": [
        {
          "output_type": "execute_result",
          "data": {
            "text/plain": [
              "DatetimeIndex(['2012-03-06', '2012-03-07', '2012-03-08', '2012-03-09',\n",
              "               '2012-03-10'],\n",
              "              dtype='datetime64[ns]', freq='D')"
            ]
          },
          "metadata": {
            "tags": []
          },
          "execution_count": 115
        }
      ]
    },
    {
      "cell_type": "code",
      "metadata": {
        "colab": {
          "base_uri": "https://localhost:8080/"
        },
        "id": "_sD1reVN-S4L",
        "outputId": "31b3b0b4-293b-4682-90c3-f2fea8a64f28"
      },
      "source": [
        "ts = pd.Series(np.random.randn(len(rng)), rng)\n",
        "ts"
      ],
      "execution_count": 116,
      "outputs": [
        {
          "output_type": "execute_result",
          "data": {
            "text/plain": [
              "2012-03-06   -1.660455\n",
              "2012-03-07   -0.831176\n",
              "2012-03-08    0.236409\n",
              "2012-03-09   -1.087350\n",
              "2012-03-10   -0.260312\n",
              "Freq: D, dtype: float64"
            ]
          },
          "metadata": {
            "tags": []
          },
          "execution_count": 116
        }
      ]
    },
    {
      "cell_type": "code",
      "metadata": {
        "colab": {
          "base_uri": "https://localhost:8080/"
        },
        "id": "OeBHZ3OS-VYi",
        "outputId": "781aaa4a-2f88-4d92-d305-c2db7969fea6"
      },
      "source": [
        "ts_utc = ts.tz_localize(\"UTC\")\n",
        "ts_utc"
      ],
      "execution_count": 117,
      "outputs": [
        {
          "output_type": "execute_result",
          "data": {
            "text/plain": [
              "2012-03-06 00:00:00+00:00   -1.660455\n",
              "2012-03-07 00:00:00+00:00   -0.831176\n",
              "2012-03-08 00:00:00+00:00    0.236409\n",
              "2012-03-09 00:00:00+00:00   -1.087350\n",
              "2012-03-10 00:00:00+00:00   -0.260312\n",
              "Freq: D, dtype: float64"
            ]
          },
          "metadata": {
            "tags": []
          },
          "execution_count": 117
        }
      ]
    },
    {
      "cell_type": "code",
      "metadata": {
        "colab": {
          "base_uri": "https://localhost:8080/"
        },
        "id": "7GXgnaLl-X0-",
        "outputId": "0da71d20-b985-4388-dbeb-e0f0df3c7617"
      },
      "source": [
        "ts_utc.tz_convert(\"US/Eastern\")"
      ],
      "execution_count": 118,
      "outputs": [
        {
          "output_type": "execute_result",
          "data": {
            "text/plain": [
              "2012-03-05 19:00:00-05:00   -1.660455\n",
              "2012-03-06 19:00:00-05:00   -0.831176\n",
              "2012-03-07 19:00:00-05:00    0.236409\n",
              "2012-03-08 19:00:00-05:00   -1.087350\n",
              "2012-03-09 19:00:00-05:00   -0.260312\n",
              "Freq: D, dtype: float64"
            ]
          },
          "metadata": {
            "tags": []
          },
          "execution_count": 118
        }
      ]
    },
    {
      "cell_type": "code",
      "metadata": {
        "colab": {
          "base_uri": "https://localhost:8080/"
        },
        "id": "RHN_x1Vk-a9b",
        "outputId": "1a7dddc2-00d0-4ca3-852d-4978421dfacd"
      },
      "source": [
        "# To period\n",
        "rng = pd.date_range(\"1/1/2012\", periods=5, freq=\"M\")\n",
        "rng"
      ],
      "execution_count": 119,
      "outputs": [
        {
          "output_type": "execute_result",
          "data": {
            "text/plain": [
              "DatetimeIndex(['2012-01-31', '2012-02-29', '2012-03-31', '2012-04-30',\n",
              "               '2012-05-31'],\n",
              "              dtype='datetime64[ns]', freq='M')"
            ]
          },
          "metadata": {
            "tags": []
          },
          "execution_count": 119
        }
      ]
    },
    {
      "cell_type": "code",
      "metadata": {
        "colab": {
          "base_uri": "https://localhost:8080/"
        },
        "id": "cMlVwUSl-lQV",
        "outputId": "01434461-1361-43e8-9d19-770c37a78566"
      },
      "source": [
        "ts = pd.Series(np.random.randn(len(rng)), index=rng)\n",
        "ts"
      ],
      "execution_count": 120,
      "outputs": [
        {
          "output_type": "execute_result",
          "data": {
            "text/plain": [
              "2012-01-31    0.274986\n",
              "2012-02-29    1.837558\n",
              "2012-03-31    0.512559\n",
              "2012-04-30   -0.275706\n",
              "2012-05-31    2.032661\n",
              "Freq: M, dtype: float64"
            ]
          },
          "metadata": {
            "tags": []
          },
          "execution_count": 120
        }
      ]
    },
    {
      "cell_type": "code",
      "metadata": {
        "colab": {
          "base_uri": "https://localhost:8080/"
        },
        "id": "NlHLcBiZ-nAT",
        "outputId": "6260742f-392f-4f79-bf8b-dd67713a6531"
      },
      "source": [
        "ps = ts.to_period()\n",
        "ps"
      ],
      "execution_count": 121,
      "outputs": [
        {
          "output_type": "execute_result",
          "data": {
            "text/plain": [
              "2012-01    0.274986\n",
              "2012-02    1.837558\n",
              "2012-03    0.512559\n",
              "2012-04   -0.275706\n",
              "2012-05    2.032661\n",
              "Freq: M, dtype: float64"
            ]
          },
          "metadata": {
            "tags": []
          },
          "execution_count": 121
        }
      ]
    },
    {
      "cell_type": "code",
      "metadata": {
        "colab": {
          "base_uri": "https://localhost:8080/"
        },
        "id": "aHw-11J3-pHi",
        "outputId": "3c7e36fb-9fa2-43c3-a52d-6bae0c8158ad"
      },
      "source": [
        "ps.to_timestamp()"
      ],
      "execution_count": 122,
      "outputs": [
        {
          "output_type": "execute_result",
          "data": {
            "text/plain": [
              "2012-01-01    0.274986\n",
              "2012-02-01    1.837558\n",
              "2012-03-01    0.512559\n",
              "2012-04-01   -0.275706\n",
              "2012-05-01    2.032661\n",
              "Freq: MS, dtype: float64"
            ]
          },
          "metadata": {
            "tags": []
          },
          "execution_count": 122
        }
      ]
    },
    {
      "cell_type": "markdown",
      "metadata": {
        "id": "NaXqrMRf-yYc"
      },
      "source": [
        "### Kategoricke vrednosti"
      ]
    },
    {
      "cell_type": "code",
      "metadata": {
        "colab": {
          "base_uri": "https://localhost:8080/",
          "height": 235
        },
        "id": "jIS_iATM-qjf",
        "outputId": "365e035a-9a87-4539-b988-215d2d557b93"
      },
      "source": [
        "df = pd.DataFrame({\"id\": [1, 2, 3, 4, 5, 6], \"raw_grade\": [\"a\", \"b\", \"b\", \"a\", \"a\", \"e\"]})\n",
        "df"
      ],
      "execution_count": 134,
      "outputs": [
        {
          "output_type": "execute_result",
          "data": {
            "text/html": [
              "<div>\n",
              "<style scoped>\n",
              "    .dataframe tbody tr th:only-of-type {\n",
              "        vertical-align: middle;\n",
              "    }\n",
              "\n",
              "    .dataframe tbody tr th {\n",
              "        vertical-align: top;\n",
              "    }\n",
              "\n",
              "    .dataframe thead th {\n",
              "        text-align: right;\n",
              "    }\n",
              "</style>\n",
              "<table border=\"1\" class=\"dataframe\">\n",
              "  <thead>\n",
              "    <tr style=\"text-align: right;\">\n",
              "      <th></th>\n",
              "      <th>id</th>\n",
              "      <th>raw_grade</th>\n",
              "    </tr>\n",
              "  </thead>\n",
              "  <tbody>\n",
              "    <tr>\n",
              "      <th>0</th>\n",
              "      <td>1</td>\n",
              "      <td>a</td>\n",
              "    </tr>\n",
              "    <tr>\n",
              "      <th>1</th>\n",
              "      <td>2</td>\n",
              "      <td>b</td>\n",
              "    </tr>\n",
              "    <tr>\n",
              "      <th>2</th>\n",
              "      <td>3</td>\n",
              "      <td>b</td>\n",
              "    </tr>\n",
              "    <tr>\n",
              "      <th>3</th>\n",
              "      <td>4</td>\n",
              "      <td>a</td>\n",
              "    </tr>\n",
              "    <tr>\n",
              "      <th>4</th>\n",
              "      <td>5</td>\n",
              "      <td>a</td>\n",
              "    </tr>\n",
              "    <tr>\n",
              "      <th>5</th>\n",
              "      <td>6</td>\n",
              "      <td>e</td>\n",
              "    </tr>\n",
              "  </tbody>\n",
              "</table>\n",
              "</div>"
            ],
            "text/plain": [
              "   id raw_grade\n",
              "0   1         a\n",
              "1   2         b\n",
              "2   3         b\n",
              "3   4         a\n",
              "4   5         a\n",
              "5   6         e"
            ]
          },
          "metadata": {
            "tags": []
          },
          "execution_count": 134
        }
      ]
    },
    {
      "cell_type": "code",
      "metadata": {
        "colab": {
          "base_uri": "https://localhost:8080/",
          "height": 235
        },
        "id": "CXtSn8lg-3Jv",
        "outputId": "803df5a5-f9c7-4293-8c50-7ce37fa79c2e"
      },
      "source": [
        "df[\"grade\"] = df[\"raw_grade\"].astype(\"category\")\n",
        "df"
      ],
      "execution_count": 135,
      "outputs": [
        {
          "output_type": "execute_result",
          "data": {
            "text/html": [
              "<div>\n",
              "<style scoped>\n",
              "    .dataframe tbody tr th:only-of-type {\n",
              "        vertical-align: middle;\n",
              "    }\n",
              "\n",
              "    .dataframe tbody tr th {\n",
              "        vertical-align: top;\n",
              "    }\n",
              "\n",
              "    .dataframe thead th {\n",
              "        text-align: right;\n",
              "    }\n",
              "</style>\n",
              "<table border=\"1\" class=\"dataframe\">\n",
              "  <thead>\n",
              "    <tr style=\"text-align: right;\">\n",
              "      <th></th>\n",
              "      <th>id</th>\n",
              "      <th>raw_grade</th>\n",
              "      <th>grade</th>\n",
              "    </tr>\n",
              "  </thead>\n",
              "  <tbody>\n",
              "    <tr>\n",
              "      <th>0</th>\n",
              "      <td>1</td>\n",
              "      <td>a</td>\n",
              "      <td>a</td>\n",
              "    </tr>\n",
              "    <tr>\n",
              "      <th>1</th>\n",
              "      <td>2</td>\n",
              "      <td>b</td>\n",
              "      <td>b</td>\n",
              "    </tr>\n",
              "    <tr>\n",
              "      <th>2</th>\n",
              "      <td>3</td>\n",
              "      <td>b</td>\n",
              "      <td>b</td>\n",
              "    </tr>\n",
              "    <tr>\n",
              "      <th>3</th>\n",
              "      <td>4</td>\n",
              "      <td>a</td>\n",
              "      <td>a</td>\n",
              "    </tr>\n",
              "    <tr>\n",
              "      <th>4</th>\n",
              "      <td>5</td>\n",
              "      <td>a</td>\n",
              "      <td>a</td>\n",
              "    </tr>\n",
              "    <tr>\n",
              "      <th>5</th>\n",
              "      <td>6</td>\n",
              "      <td>e</td>\n",
              "      <td>e</td>\n",
              "    </tr>\n",
              "  </tbody>\n",
              "</table>\n",
              "</div>"
            ],
            "text/plain": [
              "   id raw_grade grade\n",
              "0   1         a     a\n",
              "1   2         b     b\n",
              "2   3         b     b\n",
              "3   4         a     a\n",
              "4   5         a     a\n",
              "5   6         e     e"
            ]
          },
          "metadata": {
            "tags": []
          },
          "execution_count": 135
        }
      ]
    },
    {
      "cell_type": "code",
      "metadata": {
        "colab": {
          "base_uri": "https://localhost:8080/",
          "height": 235
        },
        "id": "EYez5tzp-7hr",
        "outputId": "5d502c2a-1303-4b8d-d5e2-5037bd8af4e5"
      },
      "source": [
        "# Preimenovanje kategorija\n",
        "df[\"grade\"].cat.categories = [\"very good\", \"good\", \"very bad\"]\n",
        "df"
      ],
      "execution_count": 136,
      "outputs": [
        {
          "output_type": "execute_result",
          "data": {
            "text/html": [
              "<div>\n",
              "<style scoped>\n",
              "    .dataframe tbody tr th:only-of-type {\n",
              "        vertical-align: middle;\n",
              "    }\n",
              "\n",
              "    .dataframe tbody tr th {\n",
              "        vertical-align: top;\n",
              "    }\n",
              "\n",
              "    .dataframe thead th {\n",
              "        text-align: right;\n",
              "    }\n",
              "</style>\n",
              "<table border=\"1\" class=\"dataframe\">\n",
              "  <thead>\n",
              "    <tr style=\"text-align: right;\">\n",
              "      <th></th>\n",
              "      <th>id</th>\n",
              "      <th>raw_grade</th>\n",
              "      <th>grade</th>\n",
              "    </tr>\n",
              "  </thead>\n",
              "  <tbody>\n",
              "    <tr>\n",
              "      <th>0</th>\n",
              "      <td>1</td>\n",
              "      <td>a</td>\n",
              "      <td>very good</td>\n",
              "    </tr>\n",
              "    <tr>\n",
              "      <th>1</th>\n",
              "      <td>2</td>\n",
              "      <td>b</td>\n",
              "      <td>good</td>\n",
              "    </tr>\n",
              "    <tr>\n",
              "      <th>2</th>\n",
              "      <td>3</td>\n",
              "      <td>b</td>\n",
              "      <td>good</td>\n",
              "    </tr>\n",
              "    <tr>\n",
              "      <th>3</th>\n",
              "      <td>4</td>\n",
              "      <td>a</td>\n",
              "      <td>very good</td>\n",
              "    </tr>\n",
              "    <tr>\n",
              "      <th>4</th>\n",
              "      <td>5</td>\n",
              "      <td>a</td>\n",
              "      <td>very good</td>\n",
              "    </tr>\n",
              "    <tr>\n",
              "      <th>5</th>\n",
              "      <td>6</td>\n",
              "      <td>e</td>\n",
              "      <td>very bad</td>\n",
              "    </tr>\n",
              "  </tbody>\n",
              "</table>\n",
              "</div>"
            ],
            "text/plain": [
              "   id raw_grade      grade\n",
              "0   1         a  very good\n",
              "1   2         b       good\n",
              "2   3         b       good\n",
              "3   4         a  very good\n",
              "4   5         a  very good\n",
              "5   6         e   very bad"
            ]
          },
          "metadata": {
            "tags": []
          },
          "execution_count": 136
        }
      ]
    },
    {
      "cell_type": "code",
      "metadata": {
        "id": "VO7JyP09AzEW"
      },
      "source": [
        "# Setovanje kategroije\n",
        "df[\"grade\"] = df[\"grade\"].cat.set_categories([\"very bad\", \"bad\", \"medium\", \"good\", \"very good\"])"
      ],
      "execution_count": 137,
      "outputs": []
    },
    {
      "cell_type": "code",
      "metadata": {
        "colab": {
          "base_uri": "https://localhost:8080/",
          "height": 235
        },
        "id": "cP_p12BK-9Ec",
        "outputId": "61d7fd03-c363-4f33-8ccc-3cc9c920a64d"
      },
      "source": [
        "# Sortiranje po kategorji\n",
        "df.sort_values(by=\"grade\")"
      ],
      "execution_count": 138,
      "outputs": [
        {
          "output_type": "execute_result",
          "data": {
            "text/html": [
              "<div>\n",
              "<style scoped>\n",
              "    .dataframe tbody tr th:only-of-type {\n",
              "        vertical-align: middle;\n",
              "    }\n",
              "\n",
              "    .dataframe tbody tr th {\n",
              "        vertical-align: top;\n",
              "    }\n",
              "\n",
              "    .dataframe thead th {\n",
              "        text-align: right;\n",
              "    }\n",
              "</style>\n",
              "<table border=\"1\" class=\"dataframe\">\n",
              "  <thead>\n",
              "    <tr style=\"text-align: right;\">\n",
              "      <th></th>\n",
              "      <th>id</th>\n",
              "      <th>raw_grade</th>\n",
              "      <th>grade</th>\n",
              "    </tr>\n",
              "  </thead>\n",
              "  <tbody>\n",
              "    <tr>\n",
              "      <th>5</th>\n",
              "      <td>6</td>\n",
              "      <td>e</td>\n",
              "      <td>very bad</td>\n",
              "    </tr>\n",
              "    <tr>\n",
              "      <th>1</th>\n",
              "      <td>2</td>\n",
              "      <td>b</td>\n",
              "      <td>good</td>\n",
              "    </tr>\n",
              "    <tr>\n",
              "      <th>2</th>\n",
              "      <td>3</td>\n",
              "      <td>b</td>\n",
              "      <td>good</td>\n",
              "    </tr>\n",
              "    <tr>\n",
              "      <th>0</th>\n",
              "      <td>1</td>\n",
              "      <td>a</td>\n",
              "      <td>very good</td>\n",
              "    </tr>\n",
              "    <tr>\n",
              "      <th>3</th>\n",
              "      <td>4</td>\n",
              "      <td>a</td>\n",
              "      <td>very good</td>\n",
              "    </tr>\n",
              "    <tr>\n",
              "      <th>4</th>\n",
              "      <td>5</td>\n",
              "      <td>a</td>\n",
              "      <td>very good</td>\n",
              "    </tr>\n",
              "  </tbody>\n",
              "</table>\n",
              "</div>"
            ],
            "text/plain": [
              "   id raw_grade      grade\n",
              "5   6         e   very bad\n",
              "1   2         b       good\n",
              "2   3         b       good\n",
              "0   1         a  very good\n",
              "3   4         a  very good\n",
              "4   5         a  very good"
            ]
          },
          "metadata": {
            "tags": []
          },
          "execution_count": 138
        }
      ]
    },
    {
      "cell_type": "code",
      "metadata": {
        "colab": {
          "base_uri": "https://localhost:8080/"
        },
        "id": "iH-uaoZR_Q0E",
        "outputId": "08d8420d-1a24-4559-95a1-9f7b40eba5ea"
      },
      "source": [
        "df.groupby(\"grade\").size()"
      ],
      "execution_count": 139,
      "outputs": [
        {
          "output_type": "execute_result",
          "data": {
            "text/plain": [
              "grade\n",
              "very bad     1\n",
              "bad          0\n",
              "medium       0\n",
              "good         2\n",
              "very good    3\n",
              "dtype: int64"
            ]
          },
          "metadata": {
            "tags": []
          },
          "execution_count": 139
        }
      ]
    },
    {
      "cell_type": "markdown",
      "metadata": {
        "id": "7a3dlctXA67t"
      },
      "source": [
        "### Plotovanje"
      ]
    },
    {
      "cell_type": "code",
      "metadata": {
        "id": "HrnhPJRr_Y-p"
      },
      "source": [
        "import matplotlib.pyplot as plt"
      ],
      "execution_count": 140,
      "outputs": []
    },
    {
      "cell_type": "code",
      "metadata": {
        "colab": {
          "base_uri": "https://localhost:8080/"
        },
        "id": "MsCwGqTABCHA",
        "outputId": "c2018cc8-fe9d-4b92-f7f1-a8fc2d532f09"
      },
      "source": [
        "ts = pd.Series(np.random.randn(1000), index=pd.date_range(\"1/1/2000\", periods=1000))\n",
        "ts"
      ],
      "execution_count": 141,
      "outputs": [
        {
          "output_type": "execute_result",
          "data": {
            "text/plain": [
              "2000-01-01   -0.252620\n",
              "2000-01-02   -0.123157\n",
              "2000-01-03    1.425591\n",
              "2000-01-04    1.313587\n",
              "2000-01-05    1.966303\n",
              "                ...   \n",
              "2002-09-22   -0.062227\n",
              "2002-09-23    0.980308\n",
              "2002-09-24    0.137106\n",
              "2002-09-25    0.740858\n",
              "2002-09-26    0.996346\n",
              "Freq: D, Length: 1000, dtype: float64"
            ]
          },
          "metadata": {
            "tags": []
          },
          "execution_count": 141
        }
      ]
    },
    {
      "cell_type": "code",
      "metadata": {
        "colab": {
          "base_uri": "https://localhost:8080/",
          "height": 294
        },
        "id": "AlW5lTL9BD3S",
        "outputId": "f4471fce-d4ec-49ef-f274-b40cc46d85da"
      },
      "source": [
        "ts.plot()"
      ],
      "execution_count": 143,
      "outputs": [
        {
          "output_type": "execute_result",
          "data": {
            "text/plain": [
              "<matplotlib.axes._subplots.AxesSubplot at 0x7f11eb2aaf28>"
            ]
          },
          "metadata": {
            "tags": []
          },
          "execution_count": 143
        },
        {
          "output_type": "display_data",
          "data": {
            "image/png": "[encoded data removed]",
            "text/plain": [
              "<Figure size 432x288 with 1 Axes>"
            ]
          },
          "metadata": {
            "tags": [],
            "needs_background": "light"
          }
        }
      ]
    },
    {
      "cell_type": "code",
      "metadata": {
        "colab": {
          "base_uri": "https://localhost:8080/",
          "height": 419
        },
        "id": "V2Ageq8YBGmo",
        "outputId": "82dc5675-e2da-4a39-c55f-b2a632619bf3"
      },
      "source": [
        "df = pd.DataFrame(np.random.randn(1000, 4), index=ts.index, columns=[\"A\", \"B\", \"C\", \"D\"])\n",
        "df"
      ],
      "execution_count": 144,
      "outputs": [
        {
          "output_type": "execute_result",
          "data": {
            "text/html": [
              "<div>\n",
              "<style scoped>\n",
              "    .dataframe tbody tr th:only-of-type {\n",
              "        vertical-align: middle;\n",
              "    }\n",
              "\n",
              "    .dataframe tbody tr th {\n",
              "        vertical-align: top;\n",
              "    }\n",
              "\n",
              "    .dataframe thead th {\n",
              "        text-align: right;\n",
              "    }\n",
              "</style>\n",
              "<table border=\"1\" class=\"dataframe\">\n",
              "  <thead>\n",
              "    <tr style=\"text-align: right;\">\n",
              "      <th></th>\n",
              "      <th>A</th>\n",
              "      <th>B</th>\n",
              "      <th>C</th>\n",
              "      <th>D</th>\n",
              "    </tr>\n",
              "  </thead>\n",
              "  <tbody>\n",
              "    <tr>\n",
              "      <th>2000-01-01</th>\n",
              "      <td>1.438142</td>\n",
              "      <td>-0.089420</td>\n",
              "      <td>-1.020183</td>\n",
              "      <td>-0.007038</td>\n",
              "    </tr>\n",
              "    <tr>\n",
              "      <th>2000-01-02</th>\n",
              "      <td>-2.270442</td>\n",
              "      <td>1.002814</td>\n",
              "      <td>-0.999175</td>\n",
              "      <td>1.519309</td>\n",
              "    </tr>\n",
              "    <tr>\n",
              "      <th>2000-01-03</th>\n",
              "      <td>-0.054453</td>\n",
              "      <td>0.643559</td>\n",
              "      <td>-0.907047</td>\n",
              "      <td>0.141454</td>\n",
              "    </tr>\n",
              "    <tr>\n",
              "      <th>2000-01-04</th>\n",
              "      <td>-0.176312</td>\n",
              "      <td>2.084545</td>\n",
              "      <td>-0.195578</td>\n",
              "      <td>-0.567493</td>\n",
              "    </tr>\n",
              "    <tr>\n",
              "      <th>2000-01-05</th>\n",
              "      <td>-0.101233</td>\n",
              "      <td>1.061379</td>\n",
              "      <td>0.483363</td>\n",
              "      <td>0.634495</td>\n",
              "    </tr>\n",
              "    <tr>\n",
              "      <th>...</th>\n",
              "      <td>...</td>\n",
              "      <td>...</td>\n",
              "      <td>...</td>\n",
              "      <td>...</td>\n",
              "    </tr>\n",
              "    <tr>\n",
              "      <th>2002-09-22</th>\n",
              "      <td>-0.993037</td>\n",
              "      <td>0.009378</td>\n",
              "      <td>-0.048969</td>\n",
              "      <td>2.860721</td>\n",
              "    </tr>\n",
              "    <tr>\n",
              "      <th>2002-09-23</th>\n",
              "      <td>0.515662</td>\n",
              "      <td>-1.364733</td>\n",
              "      <td>-0.332596</td>\n",
              "      <td>-0.237564</td>\n",
              "    </tr>\n",
              "    <tr>\n",
              "      <th>2002-09-24</th>\n",
              "      <td>1.211500</td>\n",
              "      <td>0.265415</td>\n",
              "      <td>-0.747182</td>\n",
              "      <td>1.261192</td>\n",
              "    </tr>\n",
              "    <tr>\n",
              "      <th>2002-09-25</th>\n",
              "      <td>0.117850</td>\n",
              "      <td>-1.332368</td>\n",
              "      <td>2.697691</td>\n",
              "      <td>0.298752</td>\n",
              "    </tr>\n",
              "    <tr>\n",
              "      <th>2002-09-26</th>\n",
              "      <td>-0.703660</td>\n",
              "      <td>-0.194443</td>\n",
              "      <td>0.054965</td>\n",
              "      <td>-0.724604</td>\n",
              "    </tr>\n",
              "  </tbody>\n",
              "</table>\n",
              "<p>1000 rows × 4 columns</p>\n",
              "</div>"
            ],
            "text/plain": [
              "                   A         B         C         D\n",
              "2000-01-01  1.438142 -0.089420 -1.020183 -0.007038\n",
              "2000-01-02 -2.270442  1.002814 -0.999175  1.519309\n",
              "2000-01-03 -0.054453  0.643559 -0.907047  0.141454\n",
              "2000-01-04 -0.176312  2.084545 -0.195578 -0.567493\n",
              "2000-01-05 -0.101233  1.061379  0.483363  0.634495\n",
              "...              ...       ...       ...       ...\n",
              "2002-09-22 -0.993037  0.009378 -0.048969  2.860721\n",
              "2002-09-23  0.515662 -1.364733 -0.332596 -0.237564\n",
              "2002-09-24  1.211500  0.265415 -0.747182  1.261192\n",
              "2002-09-25  0.117850 -1.332368  2.697691  0.298752\n",
              "2002-09-26 -0.703660 -0.194443  0.054965 -0.724604\n",
              "\n",
              "[1000 rows x 4 columns]"
            ]
          },
          "metadata": {
            "tags": []
          },
          "execution_count": 144
        }
      ]
    },
    {
      "cell_type": "code",
      "metadata": {
        "colab": {
          "base_uri": "https://localhost:8080/",
          "height": 419
        },
        "id": "hTIqRO5dBPMq",
        "outputId": "4ce516e4-eb8c-4ed1-8cc8-6f964ce5fdb9"
      },
      "source": [
        "df = df.cumsum()\n",
        "df"
      ],
      "execution_count": 146,
      "outputs": [
        {
          "output_type": "execute_result",
          "data": {
            "text/html": [
              "<div>\n",
              "<style scoped>\n",
              "    .dataframe tbody tr th:only-of-type {\n",
              "        vertical-align: middle;\n",
              "    }\n",
              "\n",
              "    .dataframe tbody tr th {\n",
              "        vertical-align: top;\n",
              "    }\n",
              "\n",
              "    .dataframe thead th {\n",
              "        text-align: right;\n",
              "    }\n",
              "</style>\n",
              "<table border=\"1\" class=\"dataframe\">\n",
              "  <thead>\n",
              "    <tr style=\"text-align: right;\">\n",
              "      <th></th>\n",
              "      <th>A</th>\n",
              "      <th>B</th>\n",
              "      <th>C</th>\n",
              "      <th>D</th>\n",
              "    </tr>\n",
              "  </thead>\n",
              "  <tbody>\n",
              "    <tr>\n",
              "      <th>2000-01-01</th>\n",
              "      <td>1.438142</td>\n",
              "      <td>-0.089420</td>\n",
              "      <td>-1.020183</td>\n",
              "      <td>-0.007038</td>\n",
              "    </tr>\n",
              "    <tr>\n",
              "      <th>2000-01-02</th>\n",
              "      <td>-0.832300</td>\n",
              "      <td>0.913393</td>\n",
              "      <td>-2.019357</td>\n",
              "      <td>1.512272</td>\n",
              "    </tr>\n",
              "    <tr>\n",
              "      <th>2000-01-03</th>\n",
              "      <td>-0.886753</td>\n",
              "      <td>1.556952</td>\n",
              "      <td>-2.926404</td>\n",
              "      <td>1.653726</td>\n",
              "    </tr>\n",
              "    <tr>\n",
              "      <th>2000-01-04</th>\n",
              "      <td>-1.063064</td>\n",
              "      <td>3.641497</td>\n",
              "      <td>-3.121982</td>\n",
              "      <td>1.086233</td>\n",
              "    </tr>\n",
              "    <tr>\n",
              "      <th>2000-01-05</th>\n",
              "      <td>-1.164297</td>\n",
              "      <td>4.702876</td>\n",
              "      <td>-2.638620</td>\n",
              "      <td>1.720728</td>\n",
              "    </tr>\n",
              "    <tr>\n",
              "      <th>...</th>\n",
              "      <td>...</td>\n",
              "      <td>...</td>\n",
              "      <td>...</td>\n",
              "      <td>...</td>\n",
              "    </tr>\n",
              "    <tr>\n",
              "      <th>2002-09-22</th>\n",
              "      <td>26.338264</td>\n",
              "      <td>-15.757895</td>\n",
              "      <td>8.528707</td>\n",
              "      <td>68.383255</td>\n",
              "    </tr>\n",
              "    <tr>\n",
              "      <th>2002-09-23</th>\n",
              "      <td>26.853926</td>\n",
              "      <td>-17.122629</td>\n",
              "      <td>8.196111</td>\n",
              "      <td>68.145691</td>\n",
              "    </tr>\n",
              "    <tr>\n",
              "      <th>2002-09-24</th>\n",
              "      <td>28.065426</td>\n",
              "      <td>-16.857214</td>\n",
              "      <td>7.448929</td>\n",
              "      <td>69.406883</td>\n",
              "    </tr>\n",
              "    <tr>\n",
              "      <th>2002-09-25</th>\n",
              "      <td>28.183277</td>\n",
              "      <td>-18.189582</td>\n",
              "      <td>10.146620</td>\n",
              "      <td>69.705635</td>\n",
              "    </tr>\n",
              "    <tr>\n",
              "      <th>2002-09-26</th>\n",
              "      <td>27.479616</td>\n",
              "      <td>-18.384025</td>\n",
              "      <td>10.201585</td>\n",
              "      <td>68.981031</td>\n",
              "    </tr>\n",
              "  </tbody>\n",
              "</table>\n",
              "<p>1000 rows × 4 columns</p>\n",
              "</div>"
            ],
            "text/plain": [
              "                    A          B          C          D\n",
              "2000-01-01   1.438142  -0.089420  -1.020183  -0.007038\n",
              "2000-01-02  -0.832300   0.913393  -2.019357   1.512272\n",
              "2000-01-03  -0.886753   1.556952  -2.926404   1.653726\n",
              "2000-01-04  -1.063064   3.641497  -3.121982   1.086233\n",
              "2000-01-05  -1.164297   4.702876  -2.638620   1.720728\n",
              "...               ...        ...        ...        ...\n",
              "2002-09-22  26.338264 -15.757895   8.528707  68.383255\n",
              "2002-09-23  26.853926 -17.122629   8.196111  68.145691\n",
              "2002-09-24  28.065426 -16.857214   7.448929  69.406883\n",
              "2002-09-25  28.183277 -18.189582  10.146620  69.705635\n",
              "2002-09-26  27.479616 -18.384025  10.201585  68.981031\n",
              "\n",
              "[1000 rows x 4 columns]"
            ]
          },
          "metadata": {
            "tags": []
          },
          "execution_count": 146
        }
      ]
    },
    {
      "cell_type": "code",
      "metadata": {
        "colab": {
          "base_uri": "https://localhost:8080/",
          "height": 294
        },
        "id": "fhMvQPGzBQi0",
        "outputId": "42f5f807-6b61-49ee-891e-2a516f73d73d"
      },
      "source": [
        "df.plot()"
      ],
      "execution_count": 147,
      "outputs": [
        {
          "output_type": "execute_result",
          "data": {
            "text/plain": [
              "<matplotlib.axes._subplots.AxesSubplot at 0x7f11ead14f98>"
            ]
          },
          "metadata": {
            "tags": []
          },
          "execution_count": 147
        },
        {
          "output_type": "display_data",
          "data": {
            "image/png": "[encoded data removed]",
            "text/plain": [
              "<Figure size 432x288 with 1 Axes>"
            ]
          },
          "metadata": {
            "tags": [],
            "needs_background": "light"
          }
        }
      ]
    },
    {
      "cell_type": "markdown",
      "metadata": {
        "id": "tj9kOQJyBwkT"
      },
      "source": [
        "#### Cumsum"
      ]
    },
    {
      "cell_type": "code",
      "metadata": {
        "colab": {
          "base_uri": "https://localhost:8080/",
          "height": 173
        },
        "id": "QsbQcGDNBWKZ",
        "outputId": "dc895af4-b59a-4b51-ef66-d9ba759f90ed"
      },
      "source": [
        "# Objasnjenje cumsuma-a\n",
        "df = pd.DataFrame({\"A\":[5, 3, 6, 4], \n",
        "                   \"B\":[11, 2, 4, 3], \n",
        "                   \"C\":[4, 3, 8, 5], \n",
        "                   \"D\":[5, 4, 2, 8]}) \n",
        "df "
      ],
      "execution_count": 148,
      "outputs": [
        {
          "output_type": "execute_result",
          "data": {
            "text/html": [
              "<div>\n",
              "<style scoped>\n",
              "    .dataframe tbody tr th:only-of-type {\n",
              "        vertical-align: middle;\n",
              "    }\n",
              "\n",
              "    .dataframe tbody tr th {\n",
              "        vertical-align: top;\n",
              "    }\n",
              "\n",
              "    .dataframe thead th {\n",
              "        text-align: right;\n",
              "    }\n",
              "</style>\n",
              "<table border=\"1\" class=\"dataframe\">\n",
              "  <thead>\n",
              "    <tr style=\"text-align: right;\">\n",
              "      <th></th>\n",
              "      <th>A</th>\n",
              "      <th>B</th>\n",
              "      <th>C</th>\n",
              "      <th>D</th>\n",
              "    </tr>\n",
              "  </thead>\n",
              "  <tbody>\n",
              "    <tr>\n",
              "      <th>0</th>\n",
              "      <td>5</td>\n",
              "      <td>11</td>\n",
              "      <td>4</td>\n",
              "      <td>5</td>\n",
              "    </tr>\n",
              "    <tr>\n",
              "      <th>1</th>\n",
              "      <td>3</td>\n",
              "      <td>2</td>\n",
              "      <td>3</td>\n",
              "      <td>4</td>\n",
              "    </tr>\n",
              "    <tr>\n",
              "      <th>2</th>\n",
              "      <td>6</td>\n",
              "      <td>4</td>\n",
              "      <td>8</td>\n",
              "      <td>2</td>\n",
              "    </tr>\n",
              "    <tr>\n",
              "      <th>3</th>\n",
              "      <td>4</td>\n",
              "      <td>3</td>\n",
              "      <td>5</td>\n",
              "      <td>8</td>\n",
              "    </tr>\n",
              "  </tbody>\n",
              "</table>\n",
              "</div>"
            ],
            "text/plain": [
              "   A   B  C  D\n",
              "0  5  11  4  5\n",
              "1  3   2  3  4\n",
              "2  6   4  8  2\n",
              "3  4   3  5  8"
            ]
          },
          "metadata": {
            "tags": []
          },
          "execution_count": 148
        }
      ]
    },
    {
      "cell_type": "code",
      "metadata": {
        "colab": {
          "base_uri": "https://localhost:8080/",
          "height": 173
        },
        "id": "b28XXNRPBx-b",
        "outputId": "3206a158-67a4-4b2a-c0dc-35150174582d"
      },
      "source": [
        "df = df.cumsum(axis = 0) \n",
        "df"
      ],
      "execution_count": 150,
      "outputs": [
        {
          "output_type": "execute_result",
          "data": {
            "text/html": [
              "<div>\n",
              "<style scoped>\n",
              "    .dataframe tbody tr th:only-of-type {\n",
              "        vertical-align: middle;\n",
              "    }\n",
              "\n",
              "    .dataframe tbody tr th {\n",
              "        vertical-align: top;\n",
              "    }\n",
              "\n",
              "    .dataframe thead th {\n",
              "        text-align: right;\n",
              "    }\n",
              "</style>\n",
              "<table border=\"1\" class=\"dataframe\">\n",
              "  <thead>\n",
              "    <tr style=\"text-align: right;\">\n",
              "      <th></th>\n",
              "      <th>A</th>\n",
              "      <th>B</th>\n",
              "      <th>C</th>\n",
              "      <th>D</th>\n",
              "    </tr>\n",
              "  </thead>\n",
              "  <tbody>\n",
              "    <tr>\n",
              "      <th>0</th>\n",
              "      <td>5</td>\n",
              "      <td>11</td>\n",
              "      <td>4</td>\n",
              "      <td>5</td>\n",
              "    </tr>\n",
              "    <tr>\n",
              "      <th>1</th>\n",
              "      <td>8</td>\n",
              "      <td>13</td>\n",
              "      <td>7</td>\n",
              "      <td>9</td>\n",
              "    </tr>\n",
              "    <tr>\n",
              "      <th>2</th>\n",
              "      <td>14</td>\n",
              "      <td>17</td>\n",
              "      <td>15</td>\n",
              "      <td>11</td>\n",
              "    </tr>\n",
              "    <tr>\n",
              "      <th>3</th>\n",
              "      <td>18</td>\n",
              "      <td>20</td>\n",
              "      <td>20</td>\n",
              "      <td>19</td>\n",
              "    </tr>\n",
              "  </tbody>\n",
              "</table>\n",
              "</div>"
            ],
            "text/plain": [
              "    A   B   C   D\n",
              "0   5  11   4   5\n",
              "1   8  13   7   9\n",
              "2  14  17  15  11\n",
              "3  18  20  20  19"
            ]
          },
          "metadata": {
            "tags": []
          },
          "execution_count": 150
        }
      ]
    },
    {
      "cell_type": "code",
      "metadata": {
        "colab": {
          "base_uri": "https://localhost:8080/",
          "height": 173
        },
        "id": "tHIWQlOCB1U5",
        "outputId": "18c5647d-3272-4a54-d934-cef3138a04b3"
      },
      "source": [
        "df = pd.DataFrame({\"A\":[5, 3, 6, 4], \n",
        "                   \"B\":[11, 2, 4, 3], \n",
        "                   \"C\":[4, 3, 8, 5], \n",
        "                   \"D\":[5, 4, 2, 8]}) \n",
        "df "
      ],
      "execution_count": 151,
      "outputs": [
        {
          "output_type": "execute_result",
          "data": {
            "text/html": [
              "<div>\n",
              "<style scoped>\n",
              "    .dataframe tbody tr th:only-of-type {\n",
              "        vertical-align: middle;\n",
              "    }\n",
              "\n",
              "    .dataframe tbody tr th {\n",
              "        vertical-align: top;\n",
              "    }\n",
              "\n",
              "    .dataframe thead th {\n",
              "        text-align: right;\n",
              "    }\n",
              "</style>\n",
              "<table border=\"1\" class=\"dataframe\">\n",
              "  <thead>\n",
              "    <tr style=\"text-align: right;\">\n",
              "      <th></th>\n",
              "      <th>A</th>\n",
              "      <th>B</th>\n",
              "      <th>C</th>\n",
              "      <th>D</th>\n",
              "    </tr>\n",
              "  </thead>\n",
              "  <tbody>\n",
              "    <tr>\n",
              "      <th>0</th>\n",
              "      <td>5</td>\n",
              "      <td>11</td>\n",
              "      <td>4</td>\n",
              "      <td>5</td>\n",
              "    </tr>\n",
              "    <tr>\n",
              "      <th>1</th>\n",
              "      <td>3</td>\n",
              "      <td>2</td>\n",
              "      <td>3</td>\n",
              "      <td>4</td>\n",
              "    </tr>\n",
              "    <tr>\n",
              "      <th>2</th>\n",
              "      <td>6</td>\n",
              "      <td>4</td>\n",
              "      <td>8</td>\n",
              "      <td>2</td>\n",
              "    </tr>\n",
              "    <tr>\n",
              "      <th>3</th>\n",
              "      <td>4</td>\n",
              "      <td>3</td>\n",
              "      <td>5</td>\n",
              "      <td>8</td>\n",
              "    </tr>\n",
              "  </tbody>\n",
              "</table>\n",
              "</div>"
            ],
            "text/plain": [
              "   A   B  C  D\n",
              "0  5  11  4  5\n",
              "1  3   2  3  4\n",
              "2  6   4  8  2\n",
              "3  4   3  5  8"
            ]
          },
          "metadata": {
            "tags": []
          },
          "execution_count": 151
        }
      ]
    },
    {
      "cell_type": "code",
      "metadata": {
        "colab": {
          "base_uri": "https://localhost:8080/",
          "height": 173
        },
        "id": "HnK3XDVxB6IS",
        "outputId": "b5d20f92-a4bd-45e8-c61e-be800eec4a94"
      },
      "source": [
        "df = df.cumsum(axis = 1) \n",
        "df"
      ],
      "execution_count": 152,
      "outputs": [
        {
          "output_type": "execute_result",
          "data": {
            "text/html": [
              "<div>\n",
              "<style scoped>\n",
              "    .dataframe tbody tr th:only-of-type {\n",
              "        vertical-align: middle;\n",
              "    }\n",
              "\n",
              "    .dataframe tbody tr th {\n",
              "        vertical-align: top;\n",
              "    }\n",
              "\n",
              "    .dataframe thead th {\n",
              "        text-align: right;\n",
              "    }\n",
              "</style>\n",
              "<table border=\"1\" class=\"dataframe\">\n",
              "  <thead>\n",
              "    <tr style=\"text-align: right;\">\n",
              "      <th></th>\n",
              "      <th>A</th>\n",
              "      <th>B</th>\n",
              "      <th>C</th>\n",
              "      <th>D</th>\n",
              "    </tr>\n",
              "  </thead>\n",
              "  <tbody>\n",
              "    <tr>\n",
              "      <th>0</th>\n",
              "      <td>5</td>\n",
              "      <td>16</td>\n",
              "      <td>20</td>\n",
              "      <td>25</td>\n",
              "    </tr>\n",
              "    <tr>\n",
              "      <th>1</th>\n",
              "      <td>3</td>\n",
              "      <td>5</td>\n",
              "      <td>8</td>\n",
              "      <td>12</td>\n",
              "    </tr>\n",
              "    <tr>\n",
              "      <th>2</th>\n",
              "      <td>6</td>\n",
              "      <td>10</td>\n",
              "      <td>18</td>\n",
              "      <td>20</td>\n",
              "    </tr>\n",
              "    <tr>\n",
              "      <th>3</th>\n",
              "      <td>4</td>\n",
              "      <td>7</td>\n",
              "      <td>12</td>\n",
              "      <td>20</td>\n",
              "    </tr>\n",
              "  </tbody>\n",
              "</table>\n",
              "</div>"
            ],
            "text/plain": [
              "   A   B   C   D\n",
              "0  5  16  20  25\n",
              "1  3   5   8  12\n",
              "2  6  10  18  20\n",
              "3  4   7  12  20"
            ]
          },
          "metadata": {
            "tags": []
          },
          "execution_count": 152
        }
      ]
    },
    {
      "cell_type": "markdown",
      "metadata": {
        "id": "v9k6nsKAFhgl"
      },
      "source": [
        "#### Napredne tehnike"
      ]
    },
    {
      "cell_type": "code",
      "metadata": {
        "colab": {
          "base_uri": "https://localhost:8080/",
          "height": 294
        },
        "id": "ij60vJEBFlfW",
        "outputId": "417f4f47-5d69-4fb5-d1f2-431c3bda447e"
      },
      "source": [
        "ts = pd.Series(np.random.randn(1000), index=pd.date_range(\"1/1/2000\", periods=1000))\n",
        "ts = ts.cumsum()\n",
        "ts.plot()"
      ],
      "execution_count": 171,
      "outputs": [
        {
          "output_type": "execute_result",
          "data": {
            "text/plain": [
              "<matplotlib.axes._subplots.AxesSubplot at 0x7f11eaabe128>"
            ]
          },
          "metadata": {
            "tags": []
          },
          "execution_count": 171
        },
        {
          "output_type": "display_data",
          "data": {
            "image/png": "[encoded data removed]",
            "text/plain": [
              "<Figure size 432x288 with 1 Axes>"
            ]
          },
          "metadata": {
            "tags": [],
            "needs_background": "light"
          }
        }
      ]
    },
    {
      "cell_type": "code",
      "metadata": {
        "colab": {
          "base_uri": "https://localhost:8080/",
          "height": 419
        },
        "id": "O67e2cIZFrvS",
        "outputId": "f7e31c96-eb42-4afa-fb6d-8d031724d9d2"
      },
      "source": [
        "df = pd.DataFrame(np.random.randn(1000, 4), index=ts.index, columns=list(\"ABCD\"))\n",
        "df = df.cumsum()\n",
        "df"
      ],
      "execution_count": 175,
      "outputs": [
        {
          "output_type": "execute_result",
          "data": {
            "text/html": [
              "<div>\n",
              "<style scoped>\n",
              "    .dataframe tbody tr th:only-of-type {\n",
              "        vertical-align: middle;\n",
              "    }\n",
              "\n",
              "    .dataframe tbody tr th {\n",
              "        vertical-align: top;\n",
              "    }\n",
              "\n",
              "    .dataframe thead th {\n",
              "        text-align: right;\n",
              "    }\n",
              "</style>\n",
              "<table border=\"1\" class=\"dataframe\">\n",
              "  <thead>\n",
              "    <tr style=\"text-align: right;\">\n",
              "      <th></th>\n",
              "      <th>A</th>\n",
              "      <th>B</th>\n",
              "      <th>C</th>\n",
              "      <th>D</th>\n",
              "    </tr>\n",
              "  </thead>\n",
              "  <tbody>\n",
              "    <tr>\n",
              "      <th>2000-01-01</th>\n",
              "      <td>1.361208</td>\n",
              "      <td>0.595348</td>\n",
              "      <td>0.176790</td>\n",
              "      <td>-1.973129</td>\n",
              "    </tr>\n",
              "    <tr>\n",
              "      <th>2000-01-02</th>\n",
              "      <td>1.658610</td>\n",
              "      <td>0.341650</td>\n",
              "      <td>0.200541</td>\n",
              "      <td>-3.925799</td>\n",
              "    </tr>\n",
              "    <tr>\n",
              "      <th>2000-01-03</th>\n",
              "      <td>0.042367</td>\n",
              "      <td>2.748878</td>\n",
              "      <td>-1.385532</td>\n",
              "      <td>-2.973371</td>\n",
              "    </tr>\n",
              "    <tr>\n",
              "      <th>2000-01-04</th>\n",
              "      <td>2.470624</td>\n",
              "      <td>2.292476</td>\n",
              "      <td>-1.154948</td>\n",
              "      <td>-3.705385</td>\n",
              "    </tr>\n",
              "    <tr>\n",
              "      <th>2000-01-05</th>\n",
              "      <td>3.464605</td>\n",
              "      <td>2.379267</td>\n",
              "      <td>0.482317</td>\n",
              "      <td>-4.052499</td>\n",
              "    </tr>\n",
              "    <tr>\n",
              "      <th>...</th>\n",
              "      <td>...</td>\n",
              "      <td>...</td>\n",
              "      <td>...</td>\n",
              "      <td>...</td>\n",
              "    </tr>\n",
              "    <tr>\n",
              "      <th>2002-09-22</th>\n",
              "      <td>-17.471297</td>\n",
              "      <td>3.631613</td>\n",
              "      <td>-41.713847</td>\n",
              "      <td>-43.014218</td>\n",
              "    </tr>\n",
              "    <tr>\n",
              "      <th>2002-09-23</th>\n",
              "      <td>-19.508699</td>\n",
              "      <td>2.527269</td>\n",
              "      <td>-40.663910</td>\n",
              "      <td>-44.236162</td>\n",
              "    </tr>\n",
              "    <tr>\n",
              "      <th>2002-09-24</th>\n",
              "      <td>-20.337213</td>\n",
              "      <td>3.087942</td>\n",
              "      <td>-41.475737</td>\n",
              "      <td>-46.132393</td>\n",
              "    </tr>\n",
              "    <tr>\n",
              "      <th>2002-09-25</th>\n",
              "      <td>-20.092355</td>\n",
              "      <td>3.358975</td>\n",
              "      <td>-40.155184</td>\n",
              "      <td>-46.749691</td>\n",
              "    </tr>\n",
              "    <tr>\n",
              "      <th>2002-09-26</th>\n",
              "      <td>-19.216498</td>\n",
              "      <td>2.769687</td>\n",
              "      <td>-39.521440</td>\n",
              "      <td>-46.500852</td>\n",
              "    </tr>\n",
              "  </tbody>\n",
              "</table>\n",
              "<p>1000 rows × 4 columns</p>\n",
              "</div>"
            ],
            "text/plain": [
              "                    A         B          C          D\n",
              "2000-01-01   1.361208  0.595348   0.176790  -1.973129\n",
              "2000-01-02   1.658610  0.341650   0.200541  -3.925799\n",
              "2000-01-03   0.042367  2.748878  -1.385532  -2.973371\n",
              "2000-01-04   2.470624  2.292476  -1.154948  -3.705385\n",
              "2000-01-05   3.464605  2.379267   0.482317  -4.052499\n",
              "...               ...       ...        ...        ...\n",
              "2002-09-22 -17.471297  3.631613 -41.713847 -43.014218\n",
              "2002-09-23 -19.508699  2.527269 -40.663910 -44.236162\n",
              "2002-09-24 -20.337213  3.087942 -41.475737 -46.132393\n",
              "2002-09-25 -20.092355  3.358975 -40.155184 -46.749691\n",
              "2002-09-26 -19.216498  2.769687 -39.521440 -46.500852\n",
              "\n",
              "[1000 rows x 4 columns]"
            ]
          },
          "metadata": {
            "tags": []
          },
          "execution_count": 175
        }
      ]
    },
    {
      "cell_type": "code",
      "metadata": {
        "colab": {
          "base_uri": "https://localhost:8080/",
          "height": 294
        },
        "id": "3IqhoKd8F7rh",
        "outputId": "302f2343-b271-4845-d7c5-dca38841803b"
      },
      "source": [
        "df.plot()"
      ],
      "execution_count": 176,
      "outputs": [
        {
          "output_type": "execute_result",
          "data": {
            "text/plain": [
              "<matplotlib.axes._subplots.AxesSubplot at 0x7f11ea9ba4e0>"
            ]
          },
          "metadata": {
            "tags": []
          },
          "execution_count": 176
        },
        {
          "output_type": "display_data",
          "data": {
            "image/png": "[encoded data removed]",
            "text/plain": [
              "<Figure size 432x288 with 1 Axes>"
            ]
          },
          "metadata": {
            "tags": [],
            "needs_background": "light"
          }
        }
      ]
    },
    {
      "cell_type": "code",
      "metadata": {
        "colab": {
          "base_uri": "https://localhost:8080/",
          "height": 419
        },
        "id": "XW-WL9SAFxOS",
        "outputId": "65a67cdb-b8ac-4917-858c-9be072869f1b"
      },
      "source": [
        "df3 = pd.DataFrame(np.random.randn(1000, 2), columns=[\"B\", \"C\"]).cumsum()\n",
        "df3[\"A\"] = pd.Series(list(range(len(df))))\n",
        "df3"
      ],
      "execution_count": 173,
      "outputs": [
        {
          "output_type": "execute_result",
          "data": {
            "text/html": [
              "<div>\n",
              "<style scoped>\n",
              "    .dataframe tbody tr th:only-of-type {\n",
              "        vertical-align: middle;\n",
              "    }\n",
              "\n",
              "    .dataframe tbody tr th {\n",
              "        vertical-align: top;\n",
              "    }\n",
              "\n",
              "    .dataframe thead th {\n",
              "        text-align: right;\n",
              "    }\n",
              "</style>\n",
              "<table border=\"1\" class=\"dataframe\">\n",
              "  <thead>\n",
              "    <tr style=\"text-align: right;\">\n",
              "      <th></th>\n",
              "      <th>B</th>\n",
              "      <th>C</th>\n",
              "      <th>A</th>\n",
              "    </tr>\n",
              "  </thead>\n",
              "  <tbody>\n",
              "    <tr>\n",
              "      <th>0</th>\n",
              "      <td>-0.421193</td>\n",
              "      <td>-1.682206</td>\n",
              "      <td>0</td>\n",
              "    </tr>\n",
              "    <tr>\n",
              "      <th>1</th>\n",
              "      <td>0.019323</td>\n",
              "      <td>-1.150195</td>\n",
              "      <td>1</td>\n",
              "    </tr>\n",
              "    <tr>\n",
              "      <th>2</th>\n",
              "      <td>0.096470</td>\n",
              "      <td>0.852069</td>\n",
              "      <td>2</td>\n",
              "    </tr>\n",
              "    <tr>\n",
              "      <th>3</th>\n",
              "      <td>0.918540</td>\n",
              "      <td>1.399681</td>\n",
              "      <td>3</td>\n",
              "    </tr>\n",
              "    <tr>\n",
              "      <th>4</th>\n",
              "      <td>2.174964</td>\n",
              "      <td>2.199061</td>\n",
              "      <td>4</td>\n",
              "    </tr>\n",
              "    <tr>\n",
              "      <th>...</th>\n",
              "      <td>...</td>\n",
              "      <td>...</td>\n",
              "      <td>...</td>\n",
              "    </tr>\n",
              "    <tr>\n",
              "      <th>995</th>\n",
              "      <td>12.951591</td>\n",
              "      <td>-23.884869</td>\n",
              "      <td>995</td>\n",
              "    </tr>\n",
              "    <tr>\n",
              "      <th>996</th>\n",
              "      <td>13.698924</td>\n",
              "      <td>-22.407118</td>\n",
              "      <td>996</td>\n",
              "    </tr>\n",
              "    <tr>\n",
              "      <th>997</th>\n",
              "      <td>14.049624</td>\n",
              "      <td>-21.843486</td>\n",
              "      <td>997</td>\n",
              "    </tr>\n",
              "    <tr>\n",
              "      <th>998</th>\n",
              "      <td>14.266976</td>\n",
              "      <td>-22.064130</td>\n",
              "      <td>998</td>\n",
              "    </tr>\n",
              "    <tr>\n",
              "      <th>999</th>\n",
              "      <td>14.769611</td>\n",
              "      <td>-22.272707</td>\n",
              "      <td>999</td>\n",
              "    </tr>\n",
              "  </tbody>\n",
              "</table>\n",
              "<p>1000 rows × 3 columns</p>\n",
              "</div>"
            ],
            "text/plain": [
              "             B          C    A\n",
              "0    -0.421193  -1.682206    0\n",
              "1     0.019323  -1.150195    1\n",
              "2     0.096470   0.852069    2\n",
              "3     0.918540   1.399681    3\n",
              "4     2.174964   2.199061    4\n",
              "..         ...        ...  ...\n",
              "995  12.951591 -23.884869  995\n",
              "996  13.698924 -22.407118  996\n",
              "997  14.049624 -21.843486  997\n",
              "998  14.266976 -22.064130  998\n",
              "999  14.769611 -22.272707  999\n",
              "\n",
              "[1000 rows x 3 columns]"
            ]
          },
          "metadata": {
            "tags": []
          },
          "execution_count": 173
        }
      ]
    },
    {
      "cell_type": "code",
      "metadata": {
        "colab": {
          "base_uri": "https://localhost:8080/",
          "height": 279
        },
        "id": "CMVz-TbtF2ZO",
        "outputId": "0731d145-d7be-4c6f-9677-29f5a6f50523"
      },
      "source": [
        "df3.plot(x=\"A\", y=\"B\");"
      ],
      "execution_count": 174,
      "outputs": [
        {
          "output_type": "display_data",
          "data": {
            "image/png": "[encoded data removed]",
            "text/plain": [
              "<Figure size 432x288 with 1 Axes>"
            ]
          },
          "metadata": {
            "tags": [],
            "needs_background": "light"
          }
        }
      ]
    },
    {
      "cell_type": "code",
      "metadata": {
        "colab": {
          "base_uri": "https://localhost:8080/",
          "height": 263
        },
        "id": "wX5OWlMYF89S",
        "outputId": "82f8aa41-24c6-4972-a413-99b56981e476"
      },
      "source": [
        "df.iloc[5].plot(kind=\"bar\");"
      ],
      "execution_count": 177,
      "outputs": [
        {
          "output_type": "display_data",
          "data": {
            "image/png": "[encoded data removed]",
            "text/plain": [
              "<Figure size 432x288 with 1 Axes>"
            ]
          },
          "metadata": {
            "tags": [],
            "needs_background": "light"
          }
        }
      ]
    },
    {
      "cell_type": "code",
      "metadata": {
        "colab": {
          "base_uri": "https://localhost:8080/",
          "height": 359
        },
        "id": "9P_jhd6sGIQu",
        "outputId": "5172b4d3-788e-402c-a4d8-55413de1b0e5"
      },
      "source": [
        "df2 = pd.DataFrame(np.random.rand(10, 4), columns=[\"a\", \"b\", \"c\", \"d\"])\n",
        "df2"
      ],
      "execution_count": 178,
      "outputs": [
        {
          "output_type": "execute_result",
          "data": {
            "text/html": [
              "<div>\n",
              "<style scoped>\n",
              "    .dataframe tbody tr th:only-of-type {\n",
              "        vertical-align: middle;\n",
              "    }\n",
              "\n",
              "    .dataframe tbody tr th {\n",
              "        vertical-align: top;\n",
              "    }\n",
              "\n",
              "    .dataframe thead th {\n",
              "        text-align: right;\n",
              "    }\n",
              "</style>\n",
              "<table border=\"1\" class=\"dataframe\">\n",
              "  <thead>\n",
              "    <tr style=\"text-align: right;\">\n",
              "      <th></th>\n",
              "      <th>a</th>\n",
              "      <th>b</th>\n",
              "      <th>c</th>\n",
              "      <th>d</th>\n",
              "    </tr>\n",
              "  </thead>\n",
              "  <tbody>\n",
              "    <tr>\n",
              "      <th>0</th>\n",
              "      <td>0.726518</td>\n",
              "      <td>0.082874</td>\n",
              "      <td>0.054747</td>\n",
              "      <td>0.473059</td>\n",
              "    </tr>\n",
              "    <tr>\n",
              "      <th>1</th>\n",
              "      <td>0.492044</td>\n",
              "      <td>0.299136</td>\n",
              "      <td>0.334306</td>\n",
              "      <td>0.477468</td>\n",
              "    </tr>\n",
              "    <tr>\n",
              "      <th>2</th>\n",
              "      <td>0.285897</td>\n",
              "      <td>0.564590</td>\n",
              "      <td>0.346930</td>\n",
              "      <td>0.185945</td>\n",
              "    </tr>\n",
              "    <tr>\n",
              "      <th>3</th>\n",
              "      <td>0.117446</td>\n",
              "      <td>0.806028</td>\n",
              "      <td>0.205210</td>\n",
              "      <td>0.624447</td>\n",
              "    </tr>\n",
              "    <tr>\n",
              "      <th>4</th>\n",
              "      <td>0.660599</td>\n",
              "      <td>0.604849</td>\n",
              "      <td>0.719533</td>\n",
              "      <td>0.314686</td>\n",
              "    </tr>\n",
              "    <tr>\n",
              "      <th>5</th>\n",
              "      <td>0.051210</td>\n",
              "      <td>0.703408</td>\n",
              "      <td>0.496329</td>\n",
              "      <td>0.705205</td>\n",
              "    </tr>\n",
              "    <tr>\n",
              "      <th>6</th>\n",
              "      <td>0.416478</td>\n",
              "      <td>0.214890</td>\n",
              "      <td>0.325560</td>\n",
              "      <td>0.829222</td>\n",
              "    </tr>\n",
              "    <tr>\n",
              "      <th>7</th>\n",
              "      <td>0.958029</td>\n",
              "      <td>0.228296</td>\n",
              "      <td>0.978484</td>\n",
              "      <td>0.746046</td>\n",
              "    </tr>\n",
              "    <tr>\n",
              "      <th>8</th>\n",
              "      <td>0.472261</td>\n",
              "      <td>0.876318</td>\n",
              "      <td>0.924209</td>\n",
              "      <td>0.299763</td>\n",
              "    </tr>\n",
              "    <tr>\n",
              "      <th>9</th>\n",
              "      <td>0.986149</td>\n",
              "      <td>0.717604</td>\n",
              "      <td>0.996984</td>\n",
              "      <td>0.413163</td>\n",
              "    </tr>\n",
              "  </tbody>\n",
              "</table>\n",
              "</div>"
            ],
            "text/plain": [
              "          a         b         c         d\n",
              "0  0.726518  0.082874  0.054747  0.473059\n",
              "1  0.492044  0.299136  0.334306  0.477468\n",
              "2  0.285897  0.564590  0.346930  0.185945\n",
              "3  0.117446  0.806028  0.205210  0.624447\n",
              "4  0.660599  0.604849  0.719533  0.314686\n",
              "5  0.051210  0.703408  0.496329  0.705205\n",
              "6  0.416478  0.214890  0.325560  0.829222\n",
              "7  0.958029  0.228296  0.978484  0.746046\n",
              "8  0.472261  0.876318  0.924209  0.299763\n",
              "9  0.986149  0.717604  0.996984  0.413163"
            ]
          },
          "metadata": {
            "tags": []
          },
          "execution_count": 178
        }
      ]
    },
    {
      "cell_type": "code",
      "metadata": {
        "colab": {
          "base_uri": "https://localhost:8080/",
          "height": 279
        },
        "id": "GSJKlABkGKIz",
        "outputId": "af398370-e6b3-42a8-de42-d089de2ba2aa"
      },
      "source": [
        "df2.plot.bar()"
      ],
      "execution_count": 179,
      "outputs": [
        {
          "output_type": "execute_result",
          "data": {
            "text/plain": [
              "<matplotlib.axes._subplots.AxesSubplot at 0x7f11ea73bac8>"
            ]
          },
          "metadata": {
            "tags": []
          },
          "execution_count": 179
        },
        {
          "output_type": "display_data",
          "data": {
            "image/png": "[encoded data removed]",
            "text/plain": [
              "<Figure size 432x288 with 1 Axes>"
            ]
          },
          "metadata": {
            "tags": [],
            "needs_background": "light"
          }
        }
      ]
    },
    {
      "cell_type": "code",
      "metadata": {
        "colab": {
          "base_uri": "https://localhost:8080/",
          "height": 262
        },
        "id": "5iSyyjrFGNhM",
        "outputId": "362535a2-1074-4ee7-d79f-43f873241e07"
      },
      "source": [
        "df2.plot.bar(stacked=True);"
      ],
      "execution_count": 180,
      "outputs": [
        {
          "output_type": "display_data",
          "data": {
            "image/png": "[encoded data removed]",
            "text/plain": [
              "<Figure size 432x288 with 1 Axes>"
            ]
          },
          "metadata": {
            "tags": [],
            "needs_background": "light"
          }
        }
      ]
    },
    {
      "cell_type": "code",
      "metadata": {
        "colab": {
          "base_uri": "https://localhost:8080/",
          "height": 265
        },
        "id": "ebr2tDQlGP3E",
        "outputId": "30e534bf-e3a4-4c11-cfcd-f2bc0b0acbcd"
      },
      "source": [
        "df2.plot.barh(stacked=True);"
      ],
      "execution_count": 181,
      "outputs": [
        {
          "output_type": "display_data",
          "data": {
            "image/png": "[encoded data removed]",
            "text/plain": [
              "<Figure size 432x288 with 1 Axes>"
            ]
          },
          "metadata": {
            "tags": [],
            "needs_background": "light"
          }
        }
      ]
    },
    {
      "cell_type": "code",
      "metadata": {
        "colab": {
          "base_uri": "https://localhost:8080/",
          "height": 419
        },
        "id": "0xDjwrl7GTbk",
        "outputId": "759b7ad8-1260-487e-a7ba-43c91c1038d9"
      },
      "source": [
        "df4 = pd.DataFrame(\n",
        "   {\n",
        "   \"a\": np.random.randn(1000) + 1,\n",
        "   \"b\": np.random.randn(1000),\n",
        "   \"c\": np.random.randn(1000) - 1,\n",
        "   },\n",
        "   columns=[\"a\", \"b\", \"c\"],)\n",
        "df4"
      ],
      "execution_count": 182,
      "outputs": [
        {
          "output_type": "execute_result",
          "data": {
            "text/html": [
              "<div>\n",
              "<style scoped>\n",
              "    .dataframe tbody tr th:only-of-type {\n",
              "        vertical-align: middle;\n",
              "    }\n",
              "\n",
              "    .dataframe tbody tr th {\n",
              "        vertical-align: top;\n",
              "    }\n",
              "\n",
              "    .dataframe thead th {\n",
              "        text-align: right;\n",
              "    }\n",
              "</style>\n",
              "<table border=\"1\" class=\"dataframe\">\n",
              "  <thead>\n",
              "    <tr style=\"text-align: right;\">\n",
              "      <th></th>\n",
              "      <th>a</th>\n",
              "      <th>b</th>\n",
              "      <th>c</th>\n",
              "    </tr>\n",
              "  </thead>\n",
              "  <tbody>\n",
              "    <tr>\n",
              "      <th>0</th>\n",
              "      <td>2.882712</td>\n",
              "      <td>-0.470240</td>\n",
              "      <td>-1.288734</td>\n",
              "    </tr>\n",
              "    <tr>\n",
              "      <th>1</th>\n",
              "      <td>1.348016</td>\n",
              "      <td>0.622482</td>\n",
              "      <td>-0.604124</td>\n",
              "    </tr>\n",
              "    <tr>\n",
              "      <th>2</th>\n",
              "      <td>0.317715</td>\n",
              "      <td>-0.688676</td>\n",
              "      <td>-0.572682</td>\n",
              "    </tr>\n",
              "    <tr>\n",
              "      <th>3</th>\n",
              "      <td>2.408610</td>\n",
              "      <td>-0.496384</td>\n",
              "      <td>-1.203841</td>\n",
              "    </tr>\n",
              "    <tr>\n",
              "      <th>4</th>\n",
              "      <td>1.067341</td>\n",
              "      <td>-2.451086</td>\n",
              "      <td>-1.853668</td>\n",
              "    </tr>\n",
              "    <tr>\n",
              "      <th>...</th>\n",
              "      <td>...</td>\n",
              "      <td>...</td>\n",
              "      <td>...</td>\n",
              "    </tr>\n",
              "    <tr>\n",
              "      <th>995</th>\n",
              "      <td>0.425079</td>\n",
              "      <td>0.298646</td>\n",
              "      <td>-0.095826</td>\n",
              "    </tr>\n",
              "    <tr>\n",
              "      <th>996</th>\n",
              "      <td>1.225802</td>\n",
              "      <td>-0.746661</td>\n",
              "      <td>-0.359882</td>\n",
              "    </tr>\n",
              "    <tr>\n",
              "      <th>997</th>\n",
              "      <td>-0.652893</td>\n",
              "      <td>-1.979844</td>\n",
              "      <td>1.641448</td>\n",
              "    </tr>\n",
              "    <tr>\n",
              "      <th>998</th>\n",
              "      <td>0.387607</td>\n",
              "      <td>-0.801017</td>\n",
              "      <td>0.239869</td>\n",
              "    </tr>\n",
              "    <tr>\n",
              "      <th>999</th>\n",
              "      <td>1.283886</td>\n",
              "      <td>0.531746</td>\n",
              "      <td>-0.141457</td>\n",
              "    </tr>\n",
              "  </tbody>\n",
              "</table>\n",
              "<p>1000 rows × 3 columns</p>\n",
              "</div>"
            ],
            "text/plain": [
              "            a         b         c\n",
              "0    2.882712 -0.470240 -1.288734\n",
              "1    1.348016  0.622482 -0.604124\n",
              "2    0.317715 -0.688676 -0.572682\n",
              "3    2.408610 -0.496384 -1.203841\n",
              "4    1.067341 -2.451086 -1.853668\n",
              "..        ...       ...       ...\n",
              "995  0.425079  0.298646 -0.095826\n",
              "996  1.225802 -0.746661 -0.359882\n",
              "997 -0.652893 -1.979844  1.641448\n",
              "998  0.387607 -0.801017  0.239869\n",
              "999  1.283886  0.531746 -0.141457\n",
              "\n",
              "[1000 rows x 3 columns]"
            ]
          },
          "metadata": {
            "tags": []
          },
          "execution_count": 182
        }
      ]
    },
    {
      "cell_type": "code",
      "metadata": {
        "colab": {
          "base_uri": "https://localhost:8080/",
          "height": 265
        },
        "id": "Ua_qkghsGZ4V",
        "outputId": "abea6cf1-89a9-496d-c154-0799c0b709b8"
      },
      "source": [
        "df4.plot.hist(alpha=0.5);"
      ],
      "execution_count": 183,
      "outputs": [
        {
          "output_type": "display_data",
          "data": {
            "image/png": "[encoded data removed]",
            "text/plain": [
              "<Figure size 432x288 with 1 Axes>"
            ]
          },
          "metadata": {
            "tags": [],
            "needs_background": "light"
          }
        }
      ]
    },
    {
      "cell_type": "code",
      "metadata": {
        "colab": {
          "base_uri": "https://localhost:8080/",
          "height": 265
        },
        "id": "-MRVbfv2GcwD",
        "outputId": "5b023544-14f5-4d58-c36e-197231abec31"
      },
      "source": [
        "df4.plot.hist(stacked=True, bins=20);"
      ],
      "execution_count": 184,
      "outputs": [
        {
          "output_type": "display_data",
          "data": {
            "image/png": "[encoded data removed]",
            "text/plain": [
              "<Figure size 432x288 with 1 Axes>"
            ]
          },
          "metadata": {
            "tags": [],
            "needs_background": "light"
          }
        }
      ]
    },
    {
      "cell_type": "code",
      "metadata": {
        "colab": {
          "base_uri": "https://localhost:8080/",
          "height": 279
        },
        "id": "ZQYDOXSGGfZO",
        "outputId": "874dd651-7bbc-4f8f-a605-478bacae6cfb"
      },
      "source": [
        "df4[\"a\"].plot.hist(orientation=\"horizontal\", cumulative=True);"
      ],
      "execution_count": 185,
      "outputs": [
        {
          "output_type": "display_data",
          "data": {
            "image/png": "[encoded data removed]",
            "text/plain": [
              "<Figure size 432x288 with 1 Axes>"
            ]
          },
          "metadata": {
            "tags": [],
            "needs_background": "light"
          }
        }
      ]
    },
    {
      "cell_type": "code",
      "metadata": {
        "colab": {
          "base_uri": "https://localhost:8080/",
          "height": 265
        },
        "id": "ZMKZ3JyoGh0H",
        "outputId": "068864f6-4d5e-438f-d60c-06f8b2c3fa0c"
      },
      "source": [
        "df[\"A\"].diff().hist();"
      ],
      "execution_count": 186,
      "outputs": [
        {
          "output_type": "display_data",
          "data": {
            "image/png": "[encoded data removed]",
            "text/plain": [
              "<Figure size 432x288 with 1 Axes>"
            ]
          },
          "metadata": {
            "tags": [],
            "needs_background": "light"
          }
        }
      ]
    },
    {
      "cell_type": "code",
      "metadata": {
        "colab": {
          "base_uri": "https://localhost:8080/",
          "height": 281
        },
        "id": "nK497bVPGmGm",
        "outputId": "a6b8c95f-0e71-4725-da07-1aaa5d749b02"
      },
      "source": [
        "df.diff().hist(color=\"k\", alpha=0.5, bins=50);"
      ],
      "execution_count": 187,
      "outputs": [
        {
          "output_type": "display_data",
          "data": {
            "image/png": "[encoded data removed]",
            "text/plain": [
              "<Figure size 432x288 with 4 Axes>"
            ]
          },
          "metadata": {
            "tags": [],
            "needs_background": "light"
          }
        }
      ]
    },
    {
      "cell_type": "code",
      "metadata": {
        "colab": {
          "base_uri": "https://localhost:8080/"
        },
        "id": "gPBzHMUhGtTq",
        "outputId": "82a550f8-dbbf-4a91-d26d-e922ef48ec7a"
      },
      "source": [
        "data = pd.Series(np.random.randn(1000))\n",
        "data"
      ],
      "execution_count": 188,
      "outputs": [
        {
          "output_type": "execute_result",
          "data": {
            "text/plain": [
              "0     -0.827978\n",
              "1     -0.728595\n",
              "2      1.043541\n",
              "3     -0.525646\n",
              "4      0.937877\n",
              "         ...   \n",
              "995    0.273091\n",
              "996    0.415973\n",
              "997    1.499957\n",
              "998    0.228135\n",
              "999    0.460454\n",
              "Length: 1000, dtype: float64"
            ]
          },
          "metadata": {
            "tags": []
          },
          "execution_count": 188
        }
      ]
    },
    {
      "cell_type": "code",
      "metadata": {
        "colab": {
          "base_uri": "https://localhost:8080/",
          "height": 265
        },
        "id": "2o0NZpQvGxsr",
        "outputId": "d9483c84-e08b-474b-9179-d3a735b44a48"
      },
      "source": [
        "data.hist(figsize=(6, 4));"
      ],
      "execution_count": 189,
      "outputs": [
        {
          "output_type": "display_data",
          "data": {
            "image/png": "[encoded data removed]",
            "text/plain": [
              "<Figure size 432x288 with 1 Axes>"
            ]
          },
          "metadata": {
            "tags": [],
            "needs_background": "light"
          }
        }
      ]
    },
    {
      "cell_type": "code",
      "metadata": {
        "colab": {
          "base_uri": "https://localhost:8080/",
          "height": 285
        },
        "id": "3xkR0Eb0G18M",
        "outputId": "9d43e8f7-80f5-42ff-b6ee-c6e5d53dcd3b"
      },
      "source": [
        "data.hist(by=np.random.randint(0, 4, 1000), figsize=(6, 4));"
      ],
      "execution_count": 190,
      "outputs": [
        {
          "output_type": "display_data",
          "data": {
            "image/png": "[encoded data removed]",
            "text/plain": [
              "<Figure size 432x288 with 4 Axes>"
            ]
          },
          "metadata": {
            "tags": [],
            "needs_background": "light"
          }
        }
      ]
    },
    {
      "cell_type": "code",
      "metadata": {
        "colab": {
          "base_uri": "https://localhost:8080/"
        },
        "id": "yMFazQMzG44J",
        "outputId": "46da394c-4c64-4574-c4f7-431b1edcf981"
      },
      "source": [
        "np.random.randint(0, 4, 1000)"
      ],
      "execution_count": 191,
      "outputs": [
        {
          "output_type": "execute_result",
          "data": {
            "text/plain": [
              "array([3, 1, 0, 3, 3, 2, 0, 2, 2, 2, 1, 2, 3, 0, 0, 0, 0, 1, 3, 1, 3, 2,\n",
              "       2, 1, 1, 3, 0, 3, 2, 3, 0, 1, 3, 1, 2, 0, 0, 1, 0, 3, 1, 2, 1, 1,\n",
              "       1, 2, 1, 3, 1, 3, 0, 2, 1, 3, 0, 2, 2, 1, 3, 0, 3, 0, 0, 2, 0, 3,\n",
              "       0, 2, 3, 2, 1, 2, 3, 2, 1, 3, 1, 2, 0, 0, 3, 0, 0, 2, 2, 2, 2, 2,\n",
              "       0, 3, 0, 1, 2, 3, 2, 3, 1, 2, 2, 0, 3, 2, 2, 2, 1, 0, 3, 2, 2, 1,\n",
              "       1, 3, 1, 2, 1, 2, 1, 2, 0, 0, 2, 1, 2, 0, 2, 2, 0, 1, 1, 0, 3, 1,\n",
              "       2, 0, 1, 2, 3, 0, 0, 0, 2, 2, 2, 2, 2, 2, 0, 1, 2, 2, 2, 1, 0, 2,\n",
              "       1, 1, 2, 0, 2, 2, 0, 1, 3, 1, 2, 0, 0, 1, 3, 0, 0, 1, 3, 0, 1, 2,\n",
              "       0, 1, 1, 3, 1, 2, 1, 1, 0, 0, 2, 0, 3, 3, 1, 1, 2, 1, 2, 3, 0, 2,\n",
              "       2, 3, 0, 1, 1, 1, 0, 0, 2, 2, 0, 2, 1, 2, 1, 0, 2, 2, 2, 1, 0, 1,\n",
              "       1, 2, 1, 2, 2, 1, 2, 2, 3, 3, 0, 1, 2, 3, 1, 0, 1, 1, 0, 1, 0, 1,\n",
              "       0, 3, 2, 1, 3, 0, 1, 1, 3, 3, 1, 1, 0, 2, 0, 1, 2, 3, 3, 3, 2, 1,\n",
              "       1, 3, 0, 2, 3, 3, 3, 1, 3, 0, 3, 3, 2, 1, 0, 0, 2, 0, 2, 0, 3, 3,\n",
              "       3, 2, 3, 2, 1, 1, 2, 3, 0, 0, 2, 3, 2, 0, 0, 3, 0, 1, 2, 0, 0, 3,\n",
              "       2, 0, 0, 2, 2, 1, 3, 1, 0, 1, 3, 0, 2, 0, 1, 1, 3, 2, 2, 1, 2, 2,\n",
              "       3, 1, 3, 1, 1, 1, 1, 0, 1, 0, 3, 0, 0, 1, 0, 0, 0, 1, 3, 0, 2, 2,\n",
              "       2, 1, 1, 2, 3, 0, 0, 1, 1, 1, 0, 3, 0, 1, 2, 0, 1, 1, 3, 3, 3, 1,\n",
              "       1, 1, 2, 3, 0, 2, 3, 0, 2, 0, 1, 0, 1, 3, 1, 0, 0, 1, 0, 3, 3, 2,\n",
              "       0, 1, 1, 2, 2, 0, 3, 3, 3, 1, 1, 2, 0, 2, 2, 0, 1, 2, 2, 0, 0, 0,\n",
              "       0, 3, 2, 0, 0, 0, 2, 3, 2, 3, 3, 2, 2, 2, 0, 3, 0, 2, 1, 2, 3, 3,\n",
              "       1, 1, 2, 3, 0, 3, 3, 3, 0, 3, 1, 3, 1, 3, 1, 1, 0, 2, 1, 2, 2, 2,\n",
              "       0, 1, 2, 0, 2, 0, 3, 2, 0, 0, 2, 1, 1, 1, 0, 1, 0, 0, 1, 2, 1, 2,\n",
              "       0, 2, 2, 2, 1, 1, 3, 2, 2, 0, 3, 2, 0, 1, 0, 1, 2, 1, 3, 3, 3, 3,\n",
              "       1, 2, 1, 0, 2, 1, 0, 1, 0, 2, 0, 2, 2, 2, 1, 1, 3, 3, 0, 1, 2, 3,\n",
              "       2, 1, 3, 3, 0, 2, 0, 3, 2, 3, 1, 3, 2, 1, 2, 3, 0, 3, 3, 3, 2, 1,\n",
              "       0, 1, 2, 3, 2, 1, 2, 2, 2, 1, 2, 1, 1, 0, 1, 2, 2, 1, 2, 2, 1, 1,\n",
              "       3, 0, 3, 1, 2, 1, 2, 1, 0, 2, 0, 3, 2, 2, 0, 0, 3, 2, 2, 0, 0, 3,\n",
              "       1, 0, 2, 2, 1, 0, 2, 0, 1, 2, 0, 0, 0, 1, 3, 1, 3, 3, 2, 1, 3, 1,\n",
              "       1, 0, 2, 2, 0, 3, 3, 2, 1, 1, 1, 1, 2, 1, 1, 2, 2, 0, 0, 0, 1, 2,\n",
              "       1, 0, 2, 3, 1, 3, 3, 0, 2, 3, 2, 0, 0, 3, 2, 3, 1, 2, 3, 2, 0, 0,\n",
              "       2, 2, 1, 3, 0, 1, 3, 0, 2, 3, 0, 3, 2, 0, 1, 2, 2, 1, 0, 2, 2, 0,\n",
              "       0, 1, 0, 0, 3, 1, 3, 3, 1, 0, 0, 1, 0, 1, 0, 3, 3, 3, 2, 3, 3, 2,\n",
              "       2, 1, 1, 1, 0, 1, 1, 2, 0, 1, 0, 1, 0, 1, 3, 0, 2, 1, 1, 0, 1, 3,\n",
              "       3, 2, 3, 3, 2, 0, 3, 0, 0, 3, 2, 0, 2, 3, 3, 3, 1, 3, 3, 3, 0, 1,\n",
              "       0, 2, 0, 3, 3, 3, 0, 1, 1, 3, 0, 1, 1, 1, 0, 0, 0, 0, 0, 1, 0, 1,\n",
              "       0, 2, 3, 1, 0, 2, 1, 1, 1, 0, 2, 2, 3, 3, 1, 2, 1, 1, 3, 0, 2, 2,\n",
              "       0, 3, 2, 2, 0, 3, 1, 3, 2, 2, 3, 0, 2, 3, 3, 0, 1, 1, 2, 3, 1, 3,\n",
              "       0, 1, 0, 2, 2, 1, 0, 3, 0, 0, 0, 1, 3, 1, 3, 3, 2, 1, 2, 1, 0, 2,\n",
              "       1, 1, 0, 0, 0, 0, 1, 3, 2, 0, 0, 0, 0, 0, 0, 3, 2, 0, 1, 0, 0, 1,\n",
              "       2, 1, 3, 3, 0, 3, 1, 3, 2, 1, 0, 3, 0, 1, 0, 3, 0, 0, 1, 1, 1, 3,\n",
              "       0, 0, 0, 0, 2, 0, 3, 1, 2, 1, 3, 0, 3, 1, 0, 0, 1, 2, 0, 2, 2, 3,\n",
              "       0, 3, 3, 0, 2, 0, 0, 2, 3, 1, 2, 2, 1, 3, 2, 0, 0, 3, 3, 1, 2, 0,\n",
              "       3, 0, 1, 3, 1, 3, 3, 2, 3, 2, 0, 3, 1, 0, 0, 2, 1, 2, 1, 2, 2, 1,\n",
              "       0, 1, 3, 3, 2, 1, 3, 0, 3, 2, 1, 3, 3, 1, 3, 0, 2, 2, 0, 3, 3, 1,\n",
              "       2, 2, 2, 3, 3, 0, 3, 2, 0, 3, 1, 1, 1, 1, 2, 2, 3, 3, 1, 3, 1, 2,\n",
              "       3, 1, 0, 3, 0, 3, 1, 1, 2, 3])"
            ]
          },
          "metadata": {
            "tags": []
          },
          "execution_count": 191
        }
      ]
    },
    {
      "cell_type": "code",
      "metadata": {
        "colab": {
          "base_uri": "https://localhost:8080/",
          "height": 359
        },
        "id": "pw5Tkv3KG-eo",
        "outputId": "02dda383-ace9-46bf-f140-880549355e42"
      },
      "source": [
        "# Boxplot za vizuelzaciju distribucije\n",
        "df = pd.DataFrame(np.random.rand(10, 5), columns=[\"A\", \"B\", \"C\", \"D\", \"E\"])\n",
        "df"
      ],
      "execution_count": 192,
      "outputs": [
        {
          "output_type": "execute_result",
          "data": {
            "text/html": [
              "<div>\n",
              "<style scoped>\n",
              "    .dataframe tbody tr th:only-of-type {\n",
              "        vertical-align: middle;\n",
              "    }\n",
              "\n",
              "    .dataframe tbody tr th {\n",
              "        vertical-align: top;\n",
              "    }\n",
              "\n",
              "    .dataframe thead th {\n",
              "        text-align: right;\n",
              "    }\n",
              "</style>\n",
              "<table border=\"1\" class=\"dataframe\">\n",
              "  <thead>\n",
              "    <tr style=\"text-align: right;\">\n",
              "      <th></th>\n",
              "      <th>A</th>\n",
              "      <th>B</th>\n",
              "      <th>C</th>\n",
              "      <th>D</th>\n",
              "      <th>E</th>\n",
              "    </tr>\n",
              "  </thead>\n",
              "  <tbody>\n",
              "    <tr>\n",
              "      <th>0</th>\n",
              "      <td>0.980278</td>\n",
              "      <td>0.791074</td>\n",
              "      <td>0.471474</td>\n",
              "      <td>0.387116</td>\n",
              "      <td>0.460234</td>\n",
              "    </tr>\n",
              "    <tr>\n",
              "      <th>1</th>\n",
              "      <td>0.535010</td>\n",
              "      <td>0.756034</td>\n",
              "      <td>0.173571</td>\n",
              "      <td>0.430269</td>\n",
              "      <td>0.987395</td>\n",
              "    </tr>\n",
              "    <tr>\n",
              "      <th>2</th>\n",
              "      <td>0.878945</td>\n",
              "      <td>0.635396</td>\n",
              "      <td>0.392653</td>\n",
              "      <td>0.796647</td>\n",
              "      <td>0.086015</td>\n",
              "    </tr>\n",
              "    <tr>\n",
              "      <th>3</th>\n",
              "      <td>0.236360</td>\n",
              "      <td>0.453184</td>\n",
              "      <td>0.813847</td>\n",
              "      <td>0.272093</td>\n",
              "      <td>0.801904</td>\n",
              "    </tr>\n",
              "    <tr>\n",
              "      <th>4</th>\n",
              "      <td>0.597394</td>\n",
              "      <td>0.030315</td>\n",
              "      <td>0.615457</td>\n",
              "      <td>0.105082</td>\n",
              "      <td>0.450910</td>\n",
              "    </tr>\n",
              "    <tr>\n",
              "      <th>5</th>\n",
              "      <td>0.009373</td>\n",
              "      <td>0.621398</td>\n",
              "      <td>0.881660</td>\n",
              "      <td>0.259515</td>\n",
              "      <td>0.547283</td>\n",
              "    </tr>\n",
              "    <tr>\n",
              "      <th>6</th>\n",
              "      <td>0.822972</td>\n",
              "      <td>0.342152</td>\n",
              "      <td>0.196133</td>\n",
              "      <td>0.784062</td>\n",
              "      <td>0.400998</td>\n",
              "    </tr>\n",
              "    <tr>\n",
              "      <th>7</th>\n",
              "      <td>0.227359</td>\n",
              "      <td>0.680018</td>\n",
              "      <td>0.749508</td>\n",
              "      <td>0.930974</td>\n",
              "      <td>0.554102</td>\n",
              "    </tr>\n",
              "    <tr>\n",
              "      <th>8</th>\n",
              "      <td>0.432555</td>\n",
              "      <td>0.431896</td>\n",
              "      <td>0.941525</td>\n",
              "      <td>0.615682</td>\n",
              "      <td>0.322028</td>\n",
              "    </tr>\n",
              "    <tr>\n",
              "      <th>9</th>\n",
              "      <td>0.963674</td>\n",
              "      <td>0.182899</td>\n",
              "      <td>0.501490</td>\n",
              "      <td>0.443561</td>\n",
              "      <td>0.936643</td>\n",
              "    </tr>\n",
              "  </tbody>\n",
              "</table>\n",
              "</div>"
            ],
            "text/plain": [
              "          A         B         C         D         E\n",
              "0  0.980278  0.791074  0.471474  0.387116  0.460234\n",
              "1  0.535010  0.756034  0.173571  0.430269  0.987395\n",
              "2  0.878945  0.635396  0.392653  0.796647  0.086015\n",
              "3  0.236360  0.453184  0.813847  0.272093  0.801904\n",
              "4  0.597394  0.030315  0.615457  0.105082  0.450910\n",
              "5  0.009373  0.621398  0.881660  0.259515  0.547283\n",
              "6  0.822972  0.342152  0.196133  0.784062  0.400998\n",
              "7  0.227359  0.680018  0.749508  0.930974  0.554102\n",
              "8  0.432555  0.431896  0.941525  0.615682  0.322028\n",
              "9  0.963674  0.182899  0.501490  0.443561  0.936643"
            ]
          },
          "metadata": {
            "tags": []
          },
          "execution_count": 192
        }
      ]
    },
    {
      "cell_type": "code",
      "metadata": {
        "colab": {
          "base_uri": "https://localhost:8080/",
          "height": 265
        },
        "id": "jN-guDXbHDS3",
        "outputId": "cf445f7c-34fc-4fe9-8a28-d471e96efbab"
      },
      "source": [
        "df.plot.box();"
      ],
      "execution_count": 193,
      "outputs": [
        {
          "output_type": "display_data",
          "data": {
            "image/png": "[encoded data removed]",
            "text/plain": [
              "<Figure size 432x288 with 1 Axes>"
            ]
          },
          "metadata": {
            "tags": [],
            "needs_background": "light"
          }
        }
      ]
    },
    {
      "cell_type": "code",
      "metadata": {
        "colab": {
          "base_uri": "https://localhost:8080/",
          "height": 265
        },
        "id": "ULoY88SWHIrs",
        "outputId": "b3a44c62-f17a-453f-8ed1-bce8b2600df5"
      },
      "source": [
        "color = {\n",
        "   \"boxes\": \"DarkGreen\",\n",
        "   \"whiskers\": \"DarkOrange\",\n",
        "   \"medians\": \"DarkBlue\",\n",
        "   \"caps\": \"Gray\",\n",
        "   }\n",
        "df.plot.box(color=color, sym=\"r+\");"
      ],
      "execution_count": 194,
      "outputs": [
        {
          "output_type": "display_data",
          "data": {
            "image/png": "[encoded data removed]",
            "text/plain": [
              "<Figure size 432x288 with 1 Axes>"
            ]
          },
          "metadata": {
            "tags": [],
            "needs_background": "light"
          }
        }
      ]
    },
    {
      "cell_type": "code",
      "metadata": {
        "colab": {
          "base_uri": "https://localhost:8080/",
          "height": 265
        },
        "id": "DWBxJ42THRko",
        "outputId": "3444902a-4f50-4a96-e904-5833b6865a00"
      },
      "source": [
        "df.plot.box(vert=False, positions=[1, 4, 5, 6, 8]);"
      ],
      "execution_count": 195,
      "outputs": [
        {
          "output_type": "display_data",
          "data": {
            "image/png": "[encoded data removed]",
            "text/plain": [
              "<Figure size 432x288 with 1 Axes>"
            ]
          },
          "metadata": {
            "tags": [],
            "needs_background": "light"
          }
        }
      ]
    },
    {
      "cell_type": "code",
      "metadata": {
        "colab": {
          "base_uri": "https://localhost:8080/",
          "height": 1000
        },
        "id": "ZNhiwwa7Ha-N",
        "outputId": "d0f29b57-e0e3-4592-df17-51c15cde3c14"
      },
      "source": [
        "# Scatter plot\n",
        "df = pd.DataFrame(np.random.rand(50, 4), columns=[\"a\", \"b\", \"c\", \"d\"])\n",
        "df"
      ],
      "execution_count": 196,
      "outputs": [
        {
          "output_type": "execute_result",
          "data": {
            "text/html": [
              "<div>\n",
              "<style scoped>\n",
              "    .dataframe tbody tr th:only-of-type {\n",
              "        vertical-align: middle;\n",
              "    }\n",
              "\n",
              "    .dataframe tbody tr th {\n",
              "        vertical-align: top;\n",
              "    }\n",
              "\n",
              "    .dataframe thead th {\n",
              "        text-align: right;\n",
              "    }\n",
              "</style>\n",
              "<table border=\"1\" class=\"dataframe\">\n",
              "  <thead>\n",
              "    <tr style=\"text-align: right;\">\n",
              "      <th></th>\n",
              "      <th>a</th>\n",
              "      <th>b</th>\n",
              "      <th>c</th>\n",
              "      <th>d</th>\n",
              "    </tr>\n",
              "  </thead>\n",
              "  <tbody>\n",
              "    <tr>\n",
              "      <th>0</th>\n",
              "      <td>0.969515</td>\n",
              "      <td>0.199790</td>\n",
              "      <td>0.596697</td>\n",
              "      <td>0.869652</td>\n",
              "    </tr>\n",
              "    <tr>\n",
              "      <th>1</th>\n",
              "      <td>0.824525</td>\n",
              "      <td>0.748182</td>\n",
              "      <td>0.461903</td>\n",
              "      <td>0.715033</td>\n",
              "    </tr>\n",
              "    <tr>\n",
              "      <th>2</th>\n",
              "      <td>0.370420</td>\n",
              "      <td>0.603202</td>\n",
              "      <td>0.715859</td>\n",
              "      <td>0.995080</td>\n",
              "    </tr>\n",
              "    <tr>\n",
              "      <th>3</th>\n",
              "      <td>0.904720</td>\n",
              "      <td>0.565417</td>\n",
              "      <td>0.504465</td>\n",
              "      <td>0.413399</td>\n",
              "    </tr>\n",
              "    <tr>\n",
              "      <th>4</th>\n",
              "      <td>0.140354</td>\n",
              "      <td>0.840835</td>\n",
              "      <td>0.253678</td>\n",
              "      <td>0.997228</td>\n",
              "    </tr>\n",
              "    <tr>\n",
              "      <th>5</th>\n",
              "      <td>0.155607</td>\n",
              "      <td>0.679471</td>\n",
              "      <td>0.093817</td>\n",
              "      <td>0.393661</td>\n",
              "    </tr>\n",
              "    <tr>\n",
              "      <th>6</th>\n",
              "      <td>0.997160</td>\n",
              "      <td>0.797046</td>\n",
              "      <td>0.826210</td>\n",
              "      <td>0.241535</td>\n",
              "    </tr>\n",
              "    <tr>\n",
              "      <th>7</th>\n",
              "      <td>0.224337</td>\n",
              "      <td>0.920129</td>\n",
              "      <td>0.924057</td>\n",
              "      <td>0.368199</td>\n",
              "    </tr>\n",
              "    <tr>\n",
              "      <th>8</th>\n",
              "      <td>0.785468</td>\n",
              "      <td>0.315501</td>\n",
              "      <td>0.302885</td>\n",
              "      <td>0.566035</td>\n",
              "    </tr>\n",
              "    <tr>\n",
              "      <th>9</th>\n",
              "      <td>0.416684</td>\n",
              "      <td>0.741108</td>\n",
              "      <td>0.591784</td>\n",
              "      <td>0.119785</td>\n",
              "    </tr>\n",
              "    <tr>\n",
              "      <th>10</th>\n",
              "      <td>0.062839</td>\n",
              "      <td>0.637211</td>\n",
              "      <td>0.530739</td>\n",
              "      <td>0.504027</td>\n",
              "    </tr>\n",
              "    <tr>\n",
              "      <th>11</th>\n",
              "      <td>0.639749</td>\n",
              "      <td>0.960624</td>\n",
              "      <td>0.851793</td>\n",
              "      <td>0.457342</td>\n",
              "    </tr>\n",
              "    <tr>\n",
              "      <th>12</th>\n",
              "      <td>0.860948</td>\n",
              "      <td>0.712735</td>\n",
              "      <td>0.721661</td>\n",
              "      <td>0.324718</td>\n",
              "    </tr>\n",
              "    <tr>\n",
              "      <th>13</th>\n",
              "      <td>0.874048</td>\n",
              "      <td>0.308813</td>\n",
              "      <td>0.043382</td>\n",
              "      <td>0.255082</td>\n",
              "    </tr>\n",
              "    <tr>\n",
              "      <th>14</th>\n",
              "      <td>0.518289</td>\n",
              "      <td>0.701609</td>\n",
              "      <td>0.007353</td>\n",
              "      <td>0.016400</td>\n",
              "    </tr>\n",
              "    <tr>\n",
              "      <th>15</th>\n",
              "      <td>0.559539</td>\n",
              "      <td>0.476384</td>\n",
              "      <td>0.242771</td>\n",
              "      <td>0.166810</td>\n",
              "    </tr>\n",
              "    <tr>\n",
              "      <th>16</th>\n",
              "      <td>0.422032</td>\n",
              "      <td>0.310995</td>\n",
              "      <td>0.883678</td>\n",
              "      <td>0.106135</td>\n",
              "    </tr>\n",
              "    <tr>\n",
              "      <th>17</th>\n",
              "      <td>0.924837</td>\n",
              "      <td>0.985931</td>\n",
              "      <td>0.671876</td>\n",
              "      <td>0.051948</td>\n",
              "    </tr>\n",
              "    <tr>\n",
              "      <th>18</th>\n",
              "      <td>0.712913</td>\n",
              "      <td>0.746602</td>\n",
              "      <td>0.602866</td>\n",
              "      <td>0.335424</td>\n",
              "    </tr>\n",
              "    <tr>\n",
              "      <th>19</th>\n",
              "      <td>0.084104</td>\n",
              "      <td>0.429532</td>\n",
              "      <td>0.521068</td>\n",
              "      <td>0.562025</td>\n",
              "    </tr>\n",
              "    <tr>\n",
              "      <th>20</th>\n",
              "      <td>0.558738</td>\n",
              "      <td>0.687103</td>\n",
              "      <td>0.534246</td>\n",
              "      <td>0.874971</td>\n",
              "    </tr>\n",
              "    <tr>\n",
              "      <th>21</th>\n",
              "      <td>0.159501</td>\n",
              "      <td>0.274452</td>\n",
              "      <td>0.388669</td>\n",
              "      <td>0.608766</td>\n",
              "    </tr>\n",
              "    <tr>\n",
              "      <th>22</th>\n",
              "      <td>0.522801</td>\n",
              "      <td>0.022994</td>\n",
              "      <td>0.620954</td>\n",
              "      <td>0.262839</td>\n",
              "    </tr>\n",
              "    <tr>\n",
              "      <th>23</th>\n",
              "      <td>0.831615</td>\n",
              "      <td>0.285377</td>\n",
              "      <td>0.929143</td>\n",
              "      <td>0.063493</td>\n",
              "    </tr>\n",
              "    <tr>\n",
              "      <th>24</th>\n",
              "      <td>0.851551</td>\n",
              "      <td>0.730689</td>\n",
              "      <td>0.785414</td>\n",
              "      <td>0.767362</td>\n",
              "    </tr>\n",
              "    <tr>\n",
              "      <th>25</th>\n",
              "      <td>0.984271</td>\n",
              "      <td>0.237565</td>\n",
              "      <td>0.375995</td>\n",
              "      <td>0.097734</td>\n",
              "    </tr>\n",
              "    <tr>\n",
              "      <th>26</th>\n",
              "      <td>0.985667</td>\n",
              "      <td>0.401433</td>\n",
              "      <td>0.968236</td>\n",
              "      <td>0.815355</td>\n",
              "    </tr>\n",
              "    <tr>\n",
              "      <th>27</th>\n",
              "      <td>0.725513</td>\n",
              "      <td>0.061177</td>\n",
              "      <td>0.722589</td>\n",
              "      <td>0.234314</td>\n",
              "    </tr>\n",
              "    <tr>\n",
              "      <th>28</th>\n",
              "      <td>0.083415</td>\n",
              "      <td>0.743823</td>\n",
              "      <td>0.934649</td>\n",
              "      <td>0.256954</td>\n",
              "    </tr>\n",
              "    <tr>\n",
              "      <th>29</th>\n",
              "      <td>0.156915</td>\n",
              "      <td>0.700907</td>\n",
              "      <td>0.968778</td>\n",
              "      <td>0.539611</td>\n",
              "    </tr>\n",
              "    <tr>\n",
              "      <th>30</th>\n",
              "      <td>0.413923</td>\n",
              "      <td>0.467705</td>\n",
              "      <td>0.491534</td>\n",
              "      <td>0.177034</td>\n",
              "    </tr>\n",
              "    <tr>\n",
              "      <th>31</th>\n",
              "      <td>0.482703</td>\n",
              "      <td>0.867210</td>\n",
              "      <td>0.890613</td>\n",
              "      <td>0.911682</td>\n",
              "    </tr>\n",
              "    <tr>\n",
              "      <th>32</th>\n",
              "      <td>0.370109</td>\n",
              "      <td>0.945473</td>\n",
              "      <td>0.208698</td>\n",
              "      <td>0.387860</td>\n",
              "    </tr>\n",
              "    <tr>\n",
              "      <th>33</th>\n",
              "      <td>0.464153</td>\n",
              "      <td>0.089624</td>\n",
              "      <td>0.839594</td>\n",
              "      <td>0.818613</td>\n",
              "    </tr>\n",
              "    <tr>\n",
              "      <th>34</th>\n",
              "      <td>0.428252</td>\n",
              "      <td>0.315752</td>\n",
              "      <td>0.104141</td>\n",
              "      <td>0.280070</td>\n",
              "    </tr>\n",
              "    <tr>\n",
              "      <th>35</th>\n",
              "      <td>0.614783</td>\n",
              "      <td>0.675337</td>\n",
              "      <td>0.260949</td>\n",
              "      <td>0.317291</td>\n",
              "    </tr>\n",
              "    <tr>\n",
              "      <th>36</th>\n",
              "      <td>0.877796</td>\n",
              "      <td>0.830735</td>\n",
              "      <td>0.242379</td>\n",
              "      <td>0.396135</td>\n",
              "    </tr>\n",
              "    <tr>\n",
              "      <th>37</th>\n",
              "      <td>0.547977</td>\n",
              "      <td>0.440127</td>\n",
              "      <td>0.459308</td>\n",
              "      <td>0.163865</td>\n",
              "    </tr>\n",
              "    <tr>\n",
              "      <th>38</th>\n",
              "      <td>0.751932</td>\n",
              "      <td>0.084566</td>\n",
              "      <td>0.629328</td>\n",
              "      <td>0.903484</td>\n",
              "    </tr>\n",
              "    <tr>\n",
              "      <th>39</th>\n",
              "      <td>0.395134</td>\n",
              "      <td>0.389847</td>\n",
              "      <td>0.910738</td>\n",
              "      <td>0.814351</td>\n",
              "    </tr>\n",
              "    <tr>\n",
              "      <th>40</th>\n",
              "      <td>0.285750</td>\n",
              "      <td>0.151646</td>\n",
              "      <td>0.752830</td>\n",
              "      <td>0.455131</td>\n",
              "    </tr>\n",
              "    <tr>\n",
              "      <th>41</th>\n",
              "      <td>0.073090</td>\n",
              "      <td>0.379589</td>\n",
              "      <td>0.168674</td>\n",
              "      <td>0.235811</td>\n",
              "    </tr>\n",
              "    <tr>\n",
              "      <th>42</th>\n",
              "      <td>0.525994</td>\n",
              "      <td>0.687137</td>\n",
              "      <td>0.252714</td>\n",
              "      <td>0.175355</td>\n",
              "    </tr>\n",
              "    <tr>\n",
              "      <th>43</th>\n",
              "      <td>0.017560</td>\n",
              "      <td>0.436639</td>\n",
              "      <td>0.318645</td>\n",
              "      <td>0.263817</td>\n",
              "    </tr>\n",
              "    <tr>\n",
              "      <th>44</th>\n",
              "      <td>0.916148</td>\n",
              "      <td>0.292625</td>\n",
              "      <td>0.291461</td>\n",
              "      <td>0.917912</td>\n",
              "    </tr>\n",
              "    <tr>\n",
              "      <th>45</th>\n",
              "      <td>0.377271</td>\n",
              "      <td>0.617608</td>\n",
              "      <td>0.685155</td>\n",
              "      <td>0.652595</td>\n",
              "    </tr>\n",
              "    <tr>\n",
              "      <th>46</th>\n",
              "      <td>0.207145</td>\n",
              "      <td>0.801662</td>\n",
              "      <td>0.547714</td>\n",
              "      <td>0.855742</td>\n",
              "    </tr>\n",
              "    <tr>\n",
              "      <th>47</th>\n",
              "      <td>0.468374</td>\n",
              "      <td>0.134676</td>\n",
              "      <td>0.188893</td>\n",
              "      <td>0.423866</td>\n",
              "    </tr>\n",
              "    <tr>\n",
              "      <th>48</th>\n",
              "      <td>0.307307</td>\n",
              "      <td>0.307178</td>\n",
              "      <td>0.560467</td>\n",
              "      <td>0.724338</td>\n",
              "    </tr>\n",
              "    <tr>\n",
              "      <th>49</th>\n",
              "      <td>0.160345</td>\n",
              "      <td>0.025742</td>\n",
              "      <td>0.036949</td>\n",
              "      <td>0.042211</td>\n",
              "    </tr>\n",
              "  </tbody>\n",
              "</table>\n",
              "</div>"
            ],
            "text/plain": [
              "           a         b         c         d\n",
              "0   0.969515  0.199790  0.596697  0.869652\n",
              "1   0.824525  0.748182  0.461903  0.715033\n",
              "2   0.370420  0.603202  0.715859  0.995080\n",
              "3   0.904720  0.565417  0.504465  0.413399\n",
              "4   0.140354  0.840835  0.253678  0.997228\n",
              "5   0.155607  0.679471  0.093817  0.393661\n",
              "6   0.997160  0.797046  0.826210  0.241535\n",
              "7   0.224337  0.920129  0.924057  0.368199\n",
              "8   0.785468  0.315501  0.302885  0.566035\n",
              "9   0.416684  0.741108  0.591784  0.119785\n",
              "10  0.062839  0.637211  0.530739  0.504027\n",
              "11  0.639749  0.960624  0.851793  0.457342\n",
              "12  0.860948  0.712735  0.721661  0.324718\n",
              "13  0.874048  0.308813  0.043382  0.255082\n",
              "14  0.518289  0.701609  0.007353  0.016400\n",
              "15  0.559539  0.476384  0.242771  0.166810\n",
              "16  0.422032  0.310995  0.883678  0.106135\n",
              "17  0.924837  0.985931  0.671876  0.051948\n",
              "18  0.712913  0.746602  0.602866  0.335424\n",
              "19  0.084104  0.429532  0.521068  0.562025\n",
              "20  0.558738  0.687103  0.534246  0.874971\n",
              "21  0.159501  0.274452  0.388669  0.608766\n",
              "22  0.522801  0.022994  0.620954  0.262839\n",
              "23  0.831615  0.285377  0.929143  0.063493\n",
              "24  0.851551  0.730689  0.785414  0.767362\n",
              "25  0.984271  0.237565  0.375995  0.097734\n",
              "26  0.985667  0.401433  0.968236  0.815355\n",
              "27  0.725513  0.061177  0.722589  0.234314\n",
              "28  0.083415  0.743823  0.934649  0.256954\n",
              "29  0.156915  0.700907  0.968778  0.539611\n",
              "30  0.413923  0.467705  0.491534  0.177034\n",
              "31  0.482703  0.867210  0.890613  0.911682\n",
              "32  0.370109  0.945473  0.208698  0.387860\n",
              "33  0.464153  0.089624  0.839594  0.818613\n",
              "34  0.428252  0.315752  0.104141  0.280070\n",
              "35  0.614783  0.675337  0.260949  0.317291\n",
              "36  0.877796  0.830735  0.242379  0.396135\n",
              "37  0.547977  0.440127  0.459308  0.163865\n",
              "38  0.751932  0.084566  0.629328  0.903484\n",
              "39  0.395134  0.389847  0.910738  0.814351\n",
              "40  0.285750  0.151646  0.752830  0.455131\n",
              "41  0.073090  0.379589  0.168674  0.235811\n",
              "42  0.525994  0.687137  0.252714  0.175355\n",
              "43  0.017560  0.436639  0.318645  0.263817\n",
              "44  0.916148  0.292625  0.291461  0.917912\n",
              "45  0.377271  0.617608  0.685155  0.652595\n",
              "46  0.207145  0.801662  0.547714  0.855742\n",
              "47  0.468374  0.134676  0.188893  0.423866\n",
              "48  0.307307  0.307178  0.560467  0.724338\n",
              "49  0.160345  0.025742  0.036949  0.042211"
            ]
          },
          "metadata": {
            "tags": []
          },
          "execution_count": 196
        }
      ]
    },
    {
      "cell_type": "code",
      "metadata": {
        "colab": {
          "base_uri": "https://localhost:8080/",
          "height": 279
        },
        "id": "ar7OefLAHdlt",
        "outputId": "975578d4-e192-4858-dcfb-f940db5d07f8"
      },
      "source": [
        "df.plot.scatter(x=\"a\", y=\"b\");"
      ],
      "execution_count": 197,
      "outputs": [
        {
          "output_type": "display_data",
          "data": {
            "image/png": "[encoded data removed]",
            "text/plain": [
              "<Figure size 432x288 with 1 Axes>"
            ]
          },
          "metadata": {
            "tags": [],
            "needs_background": "light"
          }
        }
      ]
    },
    {
      "cell_type": "code",
      "metadata": {
        "colab": {
          "base_uri": "https://localhost:8080/",
          "height": 279
        },
        "id": "gABYZno5HinH",
        "outputId": "29311f03-31b1-488d-dcbe-8d889d662aba"
      },
      "source": [
        "ax = df.plot.scatter(x=\"a\", y=\"b\", color=\"DarkBlue\", label=\"Group 1\")\n",
        "df.plot.scatter(x=\"c\", y=\"d\", color=\"DarkGreen\", label=\"Group 2\", ax=ax);"
      ],
      "execution_count": 198,
      "outputs": [
        {
          "output_type": "display_data",
          "data": {
            "image/png": "[encoded data removed]",
            "text/plain": [
              "<Figure size 432x288 with 1 Axes>"
            ]
          },
          "metadata": {
            "tags": [],
            "needs_background": "light"
          }
        }
      ]
    },
    {
      "cell_type": "code",
      "metadata": {
        "colab": {
          "base_uri": "https://localhost:8080/",
          "height": 252
        },
        "id": "ZHefQSzxHoos",
        "outputId": "4e9fcee9-788d-4df5-a27b-424cd5bb0741"
      },
      "source": [
        "df.plot.scatter(x=\"a\", y=\"b\", c=\"c\", s=50);"
      ],
      "execution_count": 199,
      "outputs": [
        {
          "output_type": "display_data",
          "data": {
            "image/png": "[encoded data removed]",
            "text/plain": [
              "<Figure size 432x288 with 2 Axes>"
            ]
          },
          "metadata": {
            "tags": [],
            "needs_background": "light"
          }
        }
      ]
    },
    {
      "cell_type": "code",
      "metadata": {
        "colab": {
          "base_uri": "https://localhost:8080/",
          "height": 279
        },
        "id": "7pZJ9hw7Hs2j",
        "outputId": "5abde7e1-23e6-49e2-a5fb-3522b535a03a"
      },
      "source": [
        "df.plot.scatter(x=\"a\", y=\"b\", s=df[\"c\"] * 200);"
      ],
      "execution_count": 200,
      "outputs": [
        {
          "output_type": "display_data",
          "data": {
            "image/png": "[encoded data removed]",
            "text/plain": [
              "<Figure size 432x288 with 1 Axes>"
            ]
          },
          "metadata": {
            "tags": [],
            "needs_background": "light"
          }
        }
      ]
    },
    {
      "cell_type": "code",
      "metadata": {
        "colab": {
          "base_uri": "https://localhost:8080/",
          "height": 419
        },
        "id": "nqILG9_YHwp_",
        "outputId": "c61fd9b0-32c3-4286-8f19-705eaddbcfc8"
      },
      "source": [
        "# Scatter plot alternativa kada su podaci gusti - hexagonal bin plot\n",
        "df = pd.DataFrame(np.random.randn(1000, 2), columns=[\"a\", \"b\"])\n",
        "df[\"b\"] = df[\"b\"] + np.arange(1000)\n",
        "df"
      ],
      "execution_count": 201,
      "outputs": [
        {
          "output_type": "execute_result",
          "data": {
            "text/html": [
              "<div>\n",
              "<style scoped>\n",
              "    .dataframe tbody tr th:only-of-type {\n",
              "        vertical-align: middle;\n",
              "    }\n",
              "\n",
              "    .dataframe tbody tr th {\n",
              "        vertical-align: top;\n",
              "    }\n",
              "\n",
              "    .dataframe thead th {\n",
              "        text-align: right;\n",
              "    }\n",
              "</style>\n",
              "<table border=\"1\" class=\"dataframe\">\n",
              "  <thead>\n",
              "    <tr style=\"text-align: right;\">\n",
              "      <th></th>\n",
              "      <th>a</th>\n",
              "      <th>b</th>\n",
              "    </tr>\n",
              "  </thead>\n",
              "  <tbody>\n",
              "    <tr>\n",
              "      <th>0</th>\n",
              "      <td>-1.131007</td>\n",
              "      <td>0.439276</td>\n",
              "    </tr>\n",
              "    <tr>\n",
              "      <th>1</th>\n",
              "      <td>-0.648960</td>\n",
              "      <td>1.282403</td>\n",
              "    </tr>\n",
              "    <tr>\n",
              "      <th>2</th>\n",
              "      <td>0.057836</td>\n",
              "      <td>0.690914</td>\n",
              "    </tr>\n",
              "    <tr>\n",
              "      <th>3</th>\n",
              "      <td>-0.514972</td>\n",
              "      <td>2.349339</td>\n",
              "    </tr>\n",
              "    <tr>\n",
              "      <th>4</th>\n",
              "      <td>0.864850</td>\n",
              "      <td>2.279293</td>\n",
              "    </tr>\n",
              "    <tr>\n",
              "      <th>...</th>\n",
              "      <td>...</td>\n",
              "      <td>...</td>\n",
              "    </tr>\n",
              "    <tr>\n",
              "      <th>995</th>\n",
              "      <td>-0.414389</td>\n",
              "      <td>997.300536</td>\n",
              "    </tr>\n",
              "    <tr>\n",
              "      <th>996</th>\n",
              "      <td>0.637443</td>\n",
              "      <td>994.596844</td>\n",
              "    </tr>\n",
              "    <tr>\n",
              "      <th>997</th>\n",
              "      <td>-0.436858</td>\n",
              "      <td>996.363328</td>\n",
              "    </tr>\n",
              "    <tr>\n",
              "      <th>998</th>\n",
              "      <td>-1.082680</td>\n",
              "      <td>997.657502</td>\n",
              "    </tr>\n",
              "    <tr>\n",
              "      <th>999</th>\n",
              "      <td>-0.277638</td>\n",
              "      <td>996.777155</td>\n",
              "    </tr>\n",
              "  </tbody>\n",
              "</table>\n",
              "<p>1000 rows × 2 columns</p>\n",
              "</div>"
            ],
            "text/plain": [
              "            a           b\n",
              "0   -1.131007    0.439276\n",
              "1   -0.648960    1.282403\n",
              "2    0.057836    0.690914\n",
              "3   -0.514972    2.349339\n",
              "4    0.864850    2.279293\n",
              "..        ...         ...\n",
              "995 -0.414389  997.300536\n",
              "996  0.637443  994.596844\n",
              "997 -0.436858  996.363328\n",
              "998 -1.082680  997.657502\n",
              "999 -0.277638  996.777155\n",
              "\n",
              "[1000 rows x 2 columns]"
            ]
          },
          "metadata": {
            "tags": []
          },
          "execution_count": 201
        }
      ]
    },
    {
      "cell_type": "code",
      "metadata": {
        "colab": {
          "base_uri": "https://localhost:8080/",
          "height": 258
        },
        "id": "12ycAqolH48e",
        "outputId": "fc39f44a-6605-4353-fa69-2f136eb418d6"
      },
      "source": [
        "df.plot.hexbin(x=\"a\", y=\"b\", gridsize=25);"
      ],
      "execution_count": 202,
      "outputs": [
        {
          "output_type": "display_data",
          "data": {
            "image/png": "[encoded data removed]",
            "text/plain": [
              "<Figure size 432x288 with 2 Axes>"
            ]
          },
          "metadata": {
            "tags": [],
            "needs_background": "light"
          }
        }
      ]
    },
    {
      "cell_type": "code",
      "metadata": {
        "colab": {
          "base_uri": "https://localhost:8080/",
          "height": 357
        },
        "id": "W1bZtFv7IEZg",
        "outputId": "62ebc21a-3b66-4126-ac96-8b3b4d08694c"
      },
      "source": [
        "# Pie plot\n",
        "series = pd.Series(3 * np.random.rand(4), index=[\"a\", \"b\", \"c\", \"d\"], name=\"series\")\n",
        "series.plot.pie(figsize=(6, 6));"
      ],
      "execution_count": 203,
      "outputs": [
        {
          "output_type": "display_data",
          "data": {
            "image/png": "[encoded data removed]",
            "text/plain": [
              "<Figure size 432x432 with 1 Axes>"
            ]
          },
          "metadata": {
            "tags": []
          }
        }
      ]
    },
    {
      "cell_type": "code",
      "metadata": {
        "colab": {
          "base_uri": "https://localhost:8080/",
          "height": 234
        },
        "id": "uy5snQZlIJRS",
        "outputId": "f69cc9e2-3d2e-4651-e2cc-ec57c6b9eb90"
      },
      "source": [
        "df = pd.DataFrame(3 * np.random.rand(4, 2), index=[\"a\", \"b\", \"c\", \"d\"], columns=[\"x\", \"y\"])\n",
        "df.plot.pie(subplots=True, figsize=(8, 4));"
      ],
      "execution_count": 204,
      "outputs": [
        {
          "output_type": "display_data",
          "data": {
            "image/png": "[encoded data removed]",
            "text/plain": [
              "<Figure size 576x288 with 2 Axes>"
            ]
          },
          "metadata": {
            "tags": []
          }
        }
      ]
    },
    {
      "cell_type": "code",
      "metadata": {
        "colab": {
          "base_uri": "https://localhost:8080/"
        },
        "id": "rL3DAWL2ITt8",
        "outputId": "cac50132-cc4f-443e-c179-968c0d1cfe4c"
      },
      "source": [
        "series = pd.Series([0.1] * 4, index=[\"a\", \"b\", \"c\", \"d\"], name=\"series2\")\n",
        "series"
      ],
      "execution_count": 205,
      "outputs": [
        {
          "output_type": "execute_result",
          "data": {
            "text/plain": [
              "a    0.1\n",
              "b    0.1\n",
              "c    0.1\n",
              "d    0.1\n",
              "Name: series2, dtype: float64"
            ]
          },
          "metadata": {
            "tags": []
          },
          "execution_count": 205
        }
      ]
    },
    {
      "cell_type": "code",
      "metadata": {
        "colab": {
          "base_uri": "https://localhost:8080/",
          "height": 357
        },
        "id": "iepSGNJ2IVvH",
        "outputId": "2cbaea26-5fcc-4703-c23d-8f18a07a4aa9"
      },
      "source": [
        "series.plot.pie(figsize=(6, 6));"
      ],
      "execution_count": 206,
      "outputs": [
        {
          "output_type": "display_data",
          "data": {
            "image/png": "[encoded data removed]",
            "text/plain": [
              "<Figure size 432x432 with 1 Axes>"
            ]
          },
          "metadata": {
            "tags": []
          }
        }
      ]
    },
    {
      "cell_type": "code",
      "metadata": {
        "colab": {
          "base_uri": "https://localhost:8080/"
        },
        "id": "ivOPiZ4sJCNM",
        "outputId": "cec3874a-6b4e-4275-d030-aceb17b7d22a"
      },
      "source": [
        "# Density plot\n",
        "ser = pd.Series(np.random.randn(1000))\n",
        "ser"
      ],
      "execution_count": 207,
      "outputs": [
        {
          "output_type": "execute_result",
          "data": {
            "text/plain": [
              "0      0.236418\n",
              "1     -0.903261\n",
              "2      0.002485\n",
              "3      0.949083\n",
              "4      1.069675\n",
              "         ...   \n",
              "995    0.365214\n",
              "996    1.817254\n",
              "997   -0.670055\n",
              "998    1.311701\n",
              "999   -0.653923\n",
              "Length: 1000, dtype: float64"
            ]
          },
          "metadata": {
            "tags": []
          },
          "execution_count": 207
        }
      ]
    },
    {
      "cell_type": "code",
      "metadata": {
        "colab": {
          "base_uri": "https://localhost:8080/",
          "height": 265
        },
        "id": "yAOciP9UJGnd",
        "outputId": "9c0d4cbf-6aef-43af-95ee-e26df752f482"
      },
      "source": [
        "ser.plot.kde();"
      ],
      "execution_count": 208,
      "outputs": [
        {
          "output_type": "display_data",
          "data": {
            "image/png": "[encoded data removed]",
            "text/plain": [
              "<Figure size 432x288 with 1 Axes>"
            ]
          },
          "metadata": {
            "tags": [],
            "needs_background": "light"
          }
        }
      ]
    },
    {
      "cell_type": "markdown",
      "metadata": {
        "id": "SWB6CLK7CL_U"
      },
      "source": [
        "## Zadatak 1."
      ]
    },
    {
      "cell_type": "markdown",
      "metadata": {
        "id": "zVwCd_N-CpPQ"
      },
      "source": [
        "Dat je CSV fajl koji sadrži informacije o tačkama: ime (predstavljeno velikim slovom engleske abecede), x i y koordinate (celi brojevi između 0 i 49) i boju tačke. Boja tačke može biti crvena, žuta ili plava, ili može imati nedostajuću vrednost."
      ]
    },
    {
      "cell_type": "markdown",
      "metadata": {
        "id": "ySc-ydV0CsTw"
      },
      "source": [
        "### 1. Učitati CSV fajl i prikazati ga. Koliko tacaka sadrzi?"
      ]
    },
    {
      "cell_type": "code",
      "metadata": {
        "colab": {
          "base_uri": "https://localhost:8080/",
          "height": 855
        },
        "id": "oGXcPWNXB8On",
        "outputId": "88ab557d-664b-4904-e700-197f5f40843b"
      },
      "source": [
        "points = pd.read_csv('./points.csv')\n",
        "points"
      ],
      "execution_count": 153,
      "outputs": [
        {
          "output_type": "execute_result",
          "data": {
            "text/html": [
              "<div>\n",
              "<style scoped>\n",
              "    .dataframe tbody tr th:only-of-type {\n",
              "        vertical-align: middle;\n",
              "    }\n",
              "\n",
              "    .dataframe tbody tr th {\n",
              "        vertical-align: top;\n",
              "    }\n",
              "\n",
              "    .dataframe thead th {\n",
              "        text-align: right;\n",
              "    }\n",
              "</style>\n",
              "<table border=\"1\" class=\"dataframe\">\n",
              "  <thead>\n",
              "    <tr style=\"text-align: right;\">\n",
              "      <th></th>\n",
              "      <th>Point</th>\n",
              "      <th>x</th>\n",
              "      <th>y</th>\n",
              "      <th>Color</th>\n",
              "    </tr>\n",
              "  </thead>\n",
              "  <tbody>\n",
              "    <tr>\n",
              "      <th>0</th>\n",
              "      <td>A</td>\n",
              "      <td>37</td>\n",
              "      <td>34</td>\n",
              "      <td>red</td>\n",
              "    </tr>\n",
              "    <tr>\n",
              "      <th>1</th>\n",
              "      <td>B</td>\n",
              "      <td>1</td>\n",
              "      <td>12</td>\n",
              "      <td>NaN</td>\n",
              "    </tr>\n",
              "    <tr>\n",
              "      <th>2</th>\n",
              "      <td>C</td>\n",
              "      <td>6</td>\n",
              "      <td>37</td>\n",
              "      <td>NaN</td>\n",
              "    </tr>\n",
              "    <tr>\n",
              "      <th>3</th>\n",
              "      <td>D</td>\n",
              "      <td>32</td>\n",
              "      <td>11</td>\n",
              "      <td>yellow</td>\n",
              "    </tr>\n",
              "    <tr>\n",
              "      <th>4</th>\n",
              "      <td>E</td>\n",
              "      <td>8</td>\n",
              "      <td>30</td>\n",
              "      <td>yellow</td>\n",
              "    </tr>\n",
              "    <tr>\n",
              "      <th>5</th>\n",
              "      <td>F</td>\n",
              "      <td>19</td>\n",
              "      <td>10</td>\n",
              "      <td>NaN</td>\n",
              "    </tr>\n",
              "    <tr>\n",
              "      <th>6</th>\n",
              "      <td>G</td>\n",
              "      <td>21</td>\n",
              "      <td>44</td>\n",
              "      <td>yellow</td>\n",
              "    </tr>\n",
              "    <tr>\n",
              "      <th>7</th>\n",
              "      <td>H</td>\n",
              "      <td>21</td>\n",
              "      <td>43</td>\n",
              "      <td>NaN</td>\n",
              "    </tr>\n",
              "    <tr>\n",
              "      <th>8</th>\n",
              "      <td>I</td>\n",
              "      <td>2</td>\n",
              "      <td>5</td>\n",
              "      <td>yellow</td>\n",
              "    </tr>\n",
              "    <tr>\n",
              "      <th>9</th>\n",
              "      <td>J</td>\n",
              "      <td>14</td>\n",
              "      <td>33</td>\n",
              "      <td>red</td>\n",
              "    </tr>\n",
              "    <tr>\n",
              "      <th>10</th>\n",
              "      <td>K</td>\n",
              "      <td>1</td>\n",
              "      <td>31</td>\n",
              "      <td>red</td>\n",
              "    </tr>\n",
              "    <tr>\n",
              "      <th>11</th>\n",
              "      <td>L</td>\n",
              "      <td>13</td>\n",
              "      <td>25</td>\n",
              "      <td>blue</td>\n",
              "    </tr>\n",
              "    <tr>\n",
              "      <th>12</th>\n",
              "      <td>M</td>\n",
              "      <td>0</td>\n",
              "      <td>4</td>\n",
              "      <td>NaN</td>\n",
              "    </tr>\n",
              "    <tr>\n",
              "      <th>13</th>\n",
              "      <td>N</td>\n",
              "      <td>11</td>\n",
              "      <td>16</td>\n",
              "      <td>blue</td>\n",
              "    </tr>\n",
              "    <tr>\n",
              "      <th>14</th>\n",
              "      <td>O</td>\n",
              "      <td>43</td>\n",
              "      <td>28</td>\n",
              "      <td>red</td>\n",
              "    </tr>\n",
              "    <tr>\n",
              "      <th>15</th>\n",
              "      <td>P</td>\n",
              "      <td>5</td>\n",
              "      <td>40</td>\n",
              "      <td>NaN</td>\n",
              "    </tr>\n",
              "    <tr>\n",
              "      <th>16</th>\n",
              "      <td>Q</td>\n",
              "      <td>1</td>\n",
              "      <td>41</td>\n",
              "      <td>red</td>\n",
              "    </tr>\n",
              "    <tr>\n",
              "      <th>17</th>\n",
              "      <td>R</td>\n",
              "      <td>45</td>\n",
              "      <td>49</td>\n",
              "      <td>yellow</td>\n",
              "    </tr>\n",
              "    <tr>\n",
              "      <th>18</th>\n",
              "      <td>S</td>\n",
              "      <td>2</td>\n",
              "      <td>37</td>\n",
              "      <td>red</td>\n",
              "    </tr>\n",
              "    <tr>\n",
              "      <th>19</th>\n",
              "      <td>T</td>\n",
              "      <td>37</td>\n",
              "      <td>45</td>\n",
              "      <td>red</td>\n",
              "    </tr>\n",
              "    <tr>\n",
              "      <th>20</th>\n",
              "      <td>U</td>\n",
              "      <td>18</td>\n",
              "      <td>40</td>\n",
              "      <td>NaN</td>\n",
              "    </tr>\n",
              "    <tr>\n",
              "      <th>21</th>\n",
              "      <td>V</td>\n",
              "      <td>43</td>\n",
              "      <td>24</td>\n",
              "      <td>red</td>\n",
              "    </tr>\n",
              "    <tr>\n",
              "      <th>22</th>\n",
              "      <td>W</td>\n",
              "      <td>0</td>\n",
              "      <td>9</td>\n",
              "      <td>NaN</td>\n",
              "    </tr>\n",
              "    <tr>\n",
              "      <th>23</th>\n",
              "      <td>X</td>\n",
              "      <td>16</td>\n",
              "      <td>2</td>\n",
              "      <td>red</td>\n",
              "    </tr>\n",
              "    <tr>\n",
              "      <th>24</th>\n",
              "      <td>Y</td>\n",
              "      <td>46</td>\n",
              "      <td>25</td>\n",
              "      <td>red</td>\n",
              "    </tr>\n",
              "    <tr>\n",
              "      <th>25</th>\n",
              "      <td>Z</td>\n",
              "      <td>36</td>\n",
              "      <td>9</td>\n",
              "      <td>blue</td>\n",
              "    </tr>\n",
              "  </tbody>\n",
              "</table>\n",
              "</div>"
            ],
            "text/plain": [
              "   Point   x   y   Color\n",
              "0      A  37  34     red\n",
              "1      B   1  12     NaN\n",
              "2      C   6  37     NaN\n",
              "3      D  32  11  yellow\n",
              "4      E   8  30  yellow\n",
              "5      F  19  10     NaN\n",
              "6      G  21  44  yellow\n",
              "7      H  21  43     NaN\n",
              "8      I   2   5  yellow\n",
              "9      J  14  33     red\n",
              "10     K   1  31     red\n",
              "11     L  13  25    blue\n",
              "12     M   0   4     NaN\n",
              "13     N  11  16    blue\n",
              "14     O  43  28     red\n",
              "15     P   5  40     NaN\n",
              "16     Q   1  41     red\n",
              "17     R  45  49  yellow\n",
              "18     S   2  37     red\n",
              "19     T  37  45     red\n",
              "20     U  18  40     NaN\n",
              "21     V  43  24     red\n",
              "22     W   0   9     NaN\n",
              "23     X  16   2     red\n",
              "24     Y  46  25     red\n",
              "25     Z  36   9    blue"
            ]
          },
          "metadata": {
            "tags": []
          },
          "execution_count": 153
        }
      ]
    },
    {
      "cell_type": "code",
      "metadata": {
        "colab": {
          "base_uri": "https://localhost:8080/"
        },
        "id": "-r2hdgdQDOTk",
        "outputId": "6979f190-6f18-44ae-f83a-b30591186755"
      },
      "source": [
        "print('CSV fajl sadrzi', points.shape[0], 'unosa')"
      ],
      "execution_count": 154,
      "outputs": [
        {
          "output_type": "stream",
          "text": [
            "CSV fajl sadrzi 26 unosa\n"
          ],
          "name": "stdout"
        }
      ]
    },
    {
      "cell_type": "code",
      "metadata": {
        "colab": {
          "base_uri": "https://localhost:8080/"
        },
        "id": "Pu6qqbdpDQoz",
        "outputId": "b6ddd8ff-31de-426a-a598-25e3756017c6"
      },
      "source": [
        "points.info()"
      ],
      "execution_count": 155,
      "outputs": [
        {
          "output_type": "stream",
          "text": [
            "<class 'pandas.core.frame.DataFrame'>\n",
            "RangeIndex: 26 entries, 0 to 25\n",
            "Data columns (total 4 columns):\n",
            " #   Column  Non-Null Count  Dtype \n",
            "---  ------  --------------  ----- \n",
            " 0   Point   26 non-null     object\n",
            " 1   x       26 non-null     int64 \n",
            " 2   y       26 non-null     int64 \n",
            " 3   Color   18 non-null     object\n",
            "dtypes: int64(2), object(2)\n",
            "memory usage: 960.0+ bytes\n"
          ],
          "name": "stdout"
        }
      ]
    },
    {
      "cell_type": "markdown",
      "metadata": {
        "id": "FxTQTwvZDUj0"
      },
      "source": [
        "### 2. Obrisati sve nedostajajuce vrednosti."
      ]
    },
    {
      "cell_type": "code",
      "metadata": {
        "id": "R7dVd2nWDShy"
      },
      "source": [
        "# axis = 0 odbacuje redove, a axis = 1 kolone\n",
        "# how = 'any' brise vrstu/kolonu ukoliko ima bar jednu NaN vrednost\n",
        "# how = 'all' brise vrstu/kolonu ukoliko su sve vrednosti jednake NaN\n",
        "# podrazumevane vrednosti su 0 i 'any'\n",
        "points = points.dropna(axis = 0, how = 'any')"
      ],
      "execution_count": 156,
      "outputs": []
    },
    {
      "cell_type": "code",
      "metadata": {
        "colab": {
          "base_uri": "https://localhost:8080/"
        },
        "id": "zrFX9VvPDZdN",
        "outputId": "b1c233fa-424a-4fe4-bca8-fdb5709d2a97"
      },
      "source": [
        "points.shape"
      ],
      "execution_count": 157,
      "outputs": [
        {
          "output_type": "execute_result",
          "data": {
            "text/plain": [
              "(18, 4)"
            ]
          },
          "metadata": {
            "tags": []
          },
          "execution_count": 157
        }
      ]
    },
    {
      "cell_type": "code",
      "metadata": {
        "colab": {
          "base_uri": "https://localhost:8080/",
          "height": 607
        },
        "id": "SYkoBIOiDbFH",
        "outputId": "0d06beb3-d9c9-425b-c47b-64f87a190a71"
      },
      "source": [
        "points"
      ],
      "execution_count": 158,
      "outputs": [
        {
          "output_type": "execute_result",
          "data": {
            "text/html": [
              "<div>\n",
              "<style scoped>\n",
              "    .dataframe tbody tr th:only-of-type {\n",
              "        vertical-align: middle;\n",
              "    }\n",
              "\n",
              "    .dataframe tbody tr th {\n",
              "        vertical-align: top;\n",
              "    }\n",
              "\n",
              "    .dataframe thead th {\n",
              "        text-align: right;\n",
              "    }\n",
              "</style>\n",
              "<table border=\"1\" class=\"dataframe\">\n",
              "  <thead>\n",
              "    <tr style=\"text-align: right;\">\n",
              "      <th></th>\n",
              "      <th>Point</th>\n",
              "      <th>x</th>\n",
              "      <th>y</th>\n",
              "      <th>Color</th>\n",
              "    </tr>\n",
              "  </thead>\n",
              "  <tbody>\n",
              "    <tr>\n",
              "      <th>0</th>\n",
              "      <td>A</td>\n",
              "      <td>37</td>\n",
              "      <td>34</td>\n",
              "      <td>red</td>\n",
              "    </tr>\n",
              "    <tr>\n",
              "      <th>3</th>\n",
              "      <td>D</td>\n",
              "      <td>32</td>\n",
              "      <td>11</td>\n",
              "      <td>yellow</td>\n",
              "    </tr>\n",
              "    <tr>\n",
              "      <th>4</th>\n",
              "      <td>E</td>\n",
              "      <td>8</td>\n",
              "      <td>30</td>\n",
              "      <td>yellow</td>\n",
              "    </tr>\n",
              "    <tr>\n",
              "      <th>6</th>\n",
              "      <td>G</td>\n",
              "      <td>21</td>\n",
              "      <td>44</td>\n",
              "      <td>yellow</td>\n",
              "    </tr>\n",
              "    <tr>\n",
              "      <th>8</th>\n",
              "      <td>I</td>\n",
              "      <td>2</td>\n",
              "      <td>5</td>\n",
              "      <td>yellow</td>\n",
              "    </tr>\n",
              "    <tr>\n",
              "      <th>9</th>\n",
              "      <td>J</td>\n",
              "      <td>14</td>\n",
              "      <td>33</td>\n",
              "      <td>red</td>\n",
              "    </tr>\n",
              "    <tr>\n",
              "      <th>10</th>\n",
              "      <td>K</td>\n",
              "      <td>1</td>\n",
              "      <td>31</td>\n",
              "      <td>red</td>\n",
              "    </tr>\n",
              "    <tr>\n",
              "      <th>11</th>\n",
              "      <td>L</td>\n",
              "      <td>13</td>\n",
              "      <td>25</td>\n",
              "      <td>blue</td>\n",
              "    </tr>\n",
              "    <tr>\n",
              "      <th>13</th>\n",
              "      <td>N</td>\n",
              "      <td>11</td>\n",
              "      <td>16</td>\n",
              "      <td>blue</td>\n",
              "    </tr>\n",
              "    <tr>\n",
              "      <th>14</th>\n",
              "      <td>O</td>\n",
              "      <td>43</td>\n",
              "      <td>28</td>\n",
              "      <td>red</td>\n",
              "    </tr>\n",
              "    <tr>\n",
              "      <th>16</th>\n",
              "      <td>Q</td>\n",
              "      <td>1</td>\n",
              "      <td>41</td>\n",
              "      <td>red</td>\n",
              "    </tr>\n",
              "    <tr>\n",
              "      <th>17</th>\n",
              "      <td>R</td>\n",
              "      <td>45</td>\n",
              "      <td>49</td>\n",
              "      <td>yellow</td>\n",
              "    </tr>\n",
              "    <tr>\n",
              "      <th>18</th>\n",
              "      <td>S</td>\n",
              "      <td>2</td>\n",
              "      <td>37</td>\n",
              "      <td>red</td>\n",
              "    </tr>\n",
              "    <tr>\n",
              "      <th>19</th>\n",
              "      <td>T</td>\n",
              "      <td>37</td>\n",
              "      <td>45</td>\n",
              "      <td>red</td>\n",
              "    </tr>\n",
              "    <tr>\n",
              "      <th>21</th>\n",
              "      <td>V</td>\n",
              "      <td>43</td>\n",
              "      <td>24</td>\n",
              "      <td>red</td>\n",
              "    </tr>\n",
              "    <tr>\n",
              "      <th>23</th>\n",
              "      <td>X</td>\n",
              "      <td>16</td>\n",
              "      <td>2</td>\n",
              "      <td>red</td>\n",
              "    </tr>\n",
              "    <tr>\n",
              "      <th>24</th>\n",
              "      <td>Y</td>\n",
              "      <td>46</td>\n",
              "      <td>25</td>\n",
              "      <td>red</td>\n",
              "    </tr>\n",
              "    <tr>\n",
              "      <th>25</th>\n",
              "      <td>Z</td>\n",
              "      <td>36</td>\n",
              "      <td>9</td>\n",
              "      <td>blue</td>\n",
              "    </tr>\n",
              "  </tbody>\n",
              "</table>\n",
              "</div>"
            ],
            "text/plain": [
              "   Point   x   y   Color\n",
              "0      A  37  34     red\n",
              "3      D  32  11  yellow\n",
              "4      E   8  30  yellow\n",
              "6      G  21  44  yellow\n",
              "8      I   2   5  yellow\n",
              "9      J  14  33     red\n",
              "10     K   1  31     red\n",
              "11     L  13  25    blue\n",
              "13     N  11  16    blue\n",
              "14     O  43  28     red\n",
              "16     Q   1  41     red\n",
              "17     R  45  49  yellow\n",
              "18     S   2  37     red\n",
              "19     T  37  45     red\n",
              "21     V  43  24     red\n",
              "23     X  16   2     red\n",
              "24     Y  46  25     red\n",
              "25     Z  36   9    blue"
            ]
          },
          "metadata": {
            "tags": []
          },
          "execution_count": 158
        }
      ]
    },
    {
      "cell_type": "markdown",
      "metadata": {
        "id": "kT0omW63DdN3"
      },
      "source": [
        "### 3. Izdvojiti tacke kod kojih je x koordinata manja od 30."
      ]
    },
    {
      "cell_type": "code",
      "metadata": {
        "colab": {
          "base_uri": "https://localhost:8080/",
          "height": 359
        },
        "id": "_M4uBznWDbpd",
        "outputId": "33280825-40f3-4d3c-c19a-49a034456b00"
      },
      "source": [
        "points[points['x'] < 30]"
      ],
      "execution_count": 159,
      "outputs": [
        {
          "output_type": "execute_result",
          "data": {
            "text/html": [
              "<div>\n",
              "<style scoped>\n",
              "    .dataframe tbody tr th:only-of-type {\n",
              "        vertical-align: middle;\n",
              "    }\n",
              "\n",
              "    .dataframe tbody tr th {\n",
              "        vertical-align: top;\n",
              "    }\n",
              "\n",
              "    .dataframe thead th {\n",
              "        text-align: right;\n",
              "    }\n",
              "</style>\n",
              "<table border=\"1\" class=\"dataframe\">\n",
              "  <thead>\n",
              "    <tr style=\"text-align: right;\">\n",
              "      <th></th>\n",
              "      <th>Point</th>\n",
              "      <th>x</th>\n",
              "      <th>y</th>\n",
              "      <th>Color</th>\n",
              "    </tr>\n",
              "  </thead>\n",
              "  <tbody>\n",
              "    <tr>\n",
              "      <th>4</th>\n",
              "      <td>E</td>\n",
              "      <td>8</td>\n",
              "      <td>30</td>\n",
              "      <td>yellow</td>\n",
              "    </tr>\n",
              "    <tr>\n",
              "      <th>6</th>\n",
              "      <td>G</td>\n",
              "      <td>21</td>\n",
              "      <td>44</td>\n",
              "      <td>yellow</td>\n",
              "    </tr>\n",
              "    <tr>\n",
              "      <th>8</th>\n",
              "      <td>I</td>\n",
              "      <td>2</td>\n",
              "      <td>5</td>\n",
              "      <td>yellow</td>\n",
              "    </tr>\n",
              "    <tr>\n",
              "      <th>9</th>\n",
              "      <td>J</td>\n",
              "      <td>14</td>\n",
              "      <td>33</td>\n",
              "      <td>red</td>\n",
              "    </tr>\n",
              "    <tr>\n",
              "      <th>10</th>\n",
              "      <td>K</td>\n",
              "      <td>1</td>\n",
              "      <td>31</td>\n",
              "      <td>red</td>\n",
              "    </tr>\n",
              "    <tr>\n",
              "      <th>11</th>\n",
              "      <td>L</td>\n",
              "      <td>13</td>\n",
              "      <td>25</td>\n",
              "      <td>blue</td>\n",
              "    </tr>\n",
              "    <tr>\n",
              "      <th>13</th>\n",
              "      <td>N</td>\n",
              "      <td>11</td>\n",
              "      <td>16</td>\n",
              "      <td>blue</td>\n",
              "    </tr>\n",
              "    <tr>\n",
              "      <th>16</th>\n",
              "      <td>Q</td>\n",
              "      <td>1</td>\n",
              "      <td>41</td>\n",
              "      <td>red</td>\n",
              "    </tr>\n",
              "    <tr>\n",
              "      <th>18</th>\n",
              "      <td>S</td>\n",
              "      <td>2</td>\n",
              "      <td>37</td>\n",
              "      <td>red</td>\n",
              "    </tr>\n",
              "    <tr>\n",
              "      <th>23</th>\n",
              "      <td>X</td>\n",
              "      <td>16</td>\n",
              "      <td>2</td>\n",
              "      <td>red</td>\n",
              "    </tr>\n",
              "  </tbody>\n",
              "</table>\n",
              "</div>"
            ],
            "text/plain": [
              "   Point   x   y   Color\n",
              "4      E   8  30  yellow\n",
              "6      G  21  44  yellow\n",
              "8      I   2   5  yellow\n",
              "9      J  14  33     red\n",
              "10     K   1  31     red\n",
              "11     L  13  25    blue\n",
              "13     N  11  16    blue\n",
              "16     Q   1  41     red\n",
              "18     S   2  37     red\n",
              "23     X  16   2     red"
            ]
          },
          "metadata": {
            "tags": []
          },
          "execution_count": 159
        }
      ]
    },
    {
      "cell_type": "markdown",
      "metadata": {
        "id": "j9AMGwDWDf5X"
      },
      "source": [
        "### 4. Izdvojiti tacke koje su zute boje."
      ]
    },
    {
      "cell_type": "code",
      "metadata": {
        "colab": {
          "base_uri": "https://localhost:8080/",
          "height": 204
        },
        "id": "GAoCFrv6DfMA",
        "outputId": "d19072d4-25e1-422e-8d55-907dd2e8de5b"
      },
      "source": [
        "points[points['Color'] == 'yellow']"
      ],
      "execution_count": 160,
      "outputs": [
        {
          "output_type": "execute_result",
          "data": {
            "text/html": [
              "<div>\n",
              "<style scoped>\n",
              "    .dataframe tbody tr th:only-of-type {\n",
              "        vertical-align: middle;\n",
              "    }\n",
              "\n",
              "    .dataframe tbody tr th {\n",
              "        vertical-align: top;\n",
              "    }\n",
              "\n",
              "    .dataframe thead th {\n",
              "        text-align: right;\n",
              "    }\n",
              "</style>\n",
              "<table border=\"1\" class=\"dataframe\">\n",
              "  <thead>\n",
              "    <tr style=\"text-align: right;\">\n",
              "      <th></th>\n",
              "      <th>Point</th>\n",
              "      <th>x</th>\n",
              "      <th>y</th>\n",
              "      <th>Color</th>\n",
              "    </tr>\n",
              "  </thead>\n",
              "  <tbody>\n",
              "    <tr>\n",
              "      <th>3</th>\n",
              "      <td>D</td>\n",
              "      <td>32</td>\n",
              "      <td>11</td>\n",
              "      <td>yellow</td>\n",
              "    </tr>\n",
              "    <tr>\n",
              "      <th>4</th>\n",
              "      <td>E</td>\n",
              "      <td>8</td>\n",
              "      <td>30</td>\n",
              "      <td>yellow</td>\n",
              "    </tr>\n",
              "    <tr>\n",
              "      <th>6</th>\n",
              "      <td>G</td>\n",
              "      <td>21</td>\n",
              "      <td>44</td>\n",
              "      <td>yellow</td>\n",
              "    </tr>\n",
              "    <tr>\n",
              "      <th>8</th>\n",
              "      <td>I</td>\n",
              "      <td>2</td>\n",
              "      <td>5</td>\n",
              "      <td>yellow</td>\n",
              "    </tr>\n",
              "    <tr>\n",
              "      <th>17</th>\n",
              "      <td>R</td>\n",
              "      <td>45</td>\n",
              "      <td>49</td>\n",
              "      <td>yellow</td>\n",
              "    </tr>\n",
              "  </tbody>\n",
              "</table>\n",
              "</div>"
            ],
            "text/plain": [
              "   Point   x   y   Color\n",
              "3      D  32  11  yellow\n",
              "4      E   8  30  yellow\n",
              "6      G  21  44  yellow\n",
              "8      I   2   5  yellow\n",
              "17     R  45  49  yellow"
            ]
          },
          "metadata": {
            "tags": []
          },
          "execution_count": 160
        }
      ]
    },
    {
      "cell_type": "markdown",
      "metadata": {
        "id": "q5xzuzWIDmix"
      },
      "source": [
        "### 5. Izdvojiti tacke kod kojih je x koordinata manja od 30 i koje su zute boje."
      ]
    },
    {
      "cell_type": "code",
      "metadata": {
        "colab": {
          "base_uri": "https://localhost:8080/",
          "height": 142
        },
        "id": "RB6lMS_ADkx_",
        "outputId": "a3eaaa8d-f9cc-4cc2-f1b7-3116b012b976"
      },
      "source": [
        "points[(points['x'] < 30) & (points['Color'] == 'yellow')]"
      ],
      "execution_count": 161,
      "outputs": [
        {
          "output_type": "execute_result",
          "data": {
            "text/html": [
              "<div>\n",
              "<style scoped>\n",
              "    .dataframe tbody tr th:only-of-type {\n",
              "        vertical-align: middle;\n",
              "    }\n",
              "\n",
              "    .dataframe tbody tr th {\n",
              "        vertical-align: top;\n",
              "    }\n",
              "\n",
              "    .dataframe thead th {\n",
              "        text-align: right;\n",
              "    }\n",
              "</style>\n",
              "<table border=\"1\" class=\"dataframe\">\n",
              "  <thead>\n",
              "    <tr style=\"text-align: right;\">\n",
              "      <th></th>\n",
              "      <th>Point</th>\n",
              "      <th>x</th>\n",
              "      <th>y</th>\n",
              "      <th>Color</th>\n",
              "    </tr>\n",
              "  </thead>\n",
              "  <tbody>\n",
              "    <tr>\n",
              "      <th>4</th>\n",
              "      <td>E</td>\n",
              "      <td>8</td>\n",
              "      <td>30</td>\n",
              "      <td>yellow</td>\n",
              "    </tr>\n",
              "    <tr>\n",
              "      <th>6</th>\n",
              "      <td>G</td>\n",
              "      <td>21</td>\n",
              "      <td>44</td>\n",
              "      <td>yellow</td>\n",
              "    </tr>\n",
              "    <tr>\n",
              "      <th>8</th>\n",
              "      <td>I</td>\n",
              "      <td>2</td>\n",
              "      <td>5</td>\n",
              "      <td>yellow</td>\n",
              "    </tr>\n",
              "  </tbody>\n",
              "</table>\n",
              "</div>"
            ],
            "text/plain": [
              "  Point   x   y   Color\n",
              "4     E   8  30  yellow\n",
              "6     G  21  44  yellow\n",
              "8     I   2   5  yellow"
            ]
          },
          "metadata": {
            "tags": []
          },
          "execution_count": 161
        }
      ]
    },
    {
      "cell_type": "code",
      "metadata": {
        "colab": {
          "base_uri": "https://localhost:8080/",
          "height": 142
        },
        "id": "GuEm8Hg7DoaS",
        "outputId": "91ed968c-6cb9-447c-9983-2d6abb932c56"
      },
      "source": [
        "# Prethodni uslov se moze citkije zapisati sa:\n",
        "x_less_30 = points['x'] < 30\n",
        "collor_yellow = points['Color'] == 'yellow'\n",
        "\n",
        "points[x_less_30 & collor_yellow]"
      ],
      "execution_count": 162,
      "outputs": [
        {
          "output_type": "execute_result",
          "data": {
            "text/html": [
              "<div>\n",
              "<style scoped>\n",
              "    .dataframe tbody tr th:only-of-type {\n",
              "        vertical-align: middle;\n",
              "    }\n",
              "\n",
              "    .dataframe tbody tr th {\n",
              "        vertical-align: top;\n",
              "    }\n",
              "\n",
              "    .dataframe thead th {\n",
              "        text-align: right;\n",
              "    }\n",
              "</style>\n",
              "<table border=\"1\" class=\"dataframe\">\n",
              "  <thead>\n",
              "    <tr style=\"text-align: right;\">\n",
              "      <th></th>\n",
              "      <th>Point</th>\n",
              "      <th>x</th>\n",
              "      <th>y</th>\n",
              "      <th>Color</th>\n",
              "    </tr>\n",
              "  </thead>\n",
              "  <tbody>\n",
              "    <tr>\n",
              "      <th>4</th>\n",
              "      <td>E</td>\n",
              "      <td>8</td>\n",
              "      <td>30</td>\n",
              "      <td>yellow</td>\n",
              "    </tr>\n",
              "    <tr>\n",
              "      <th>6</th>\n",
              "      <td>G</td>\n",
              "      <td>21</td>\n",
              "      <td>44</td>\n",
              "      <td>yellow</td>\n",
              "    </tr>\n",
              "    <tr>\n",
              "      <th>8</th>\n",
              "      <td>I</td>\n",
              "      <td>2</td>\n",
              "      <td>5</td>\n",
              "      <td>yellow</td>\n",
              "    </tr>\n",
              "  </tbody>\n",
              "</table>\n",
              "</div>"
            ],
            "text/plain": [
              "  Point   x   y   Color\n",
              "4     E   8  30  yellow\n",
              "6     G  21  44  yellow\n",
              "8     I   2   5  yellow"
            ]
          },
          "metadata": {
            "tags": []
          },
          "execution_count": 162
        }
      ]
    },
    {
      "cell_type": "markdown",
      "metadata": {
        "id": "i_yO6qZPDsVB"
      },
      "source": [
        "### 6. Izdvojiti tacke kod kojih je x koordinata manja od 30 i koje su nisu zute boje."
      ]
    },
    {
      "cell_type": "code",
      "metadata": {
        "colab": {
          "base_uri": "https://localhost:8080/",
          "height": 266
        },
        "id": "rDBNaPImDp-Y",
        "outputId": "6b79a8f2-fbc7-4136-a0df-3073e2be7219"
      },
      "source": [
        "points[x_less_30 & ~collor_yellow]"
      ],
      "execution_count": 163,
      "outputs": [
        {
          "output_type": "execute_result",
          "data": {
            "text/html": [
              "<div>\n",
              "<style scoped>\n",
              "    .dataframe tbody tr th:only-of-type {\n",
              "        vertical-align: middle;\n",
              "    }\n",
              "\n",
              "    .dataframe tbody tr th {\n",
              "        vertical-align: top;\n",
              "    }\n",
              "\n",
              "    .dataframe thead th {\n",
              "        text-align: right;\n",
              "    }\n",
              "</style>\n",
              "<table border=\"1\" class=\"dataframe\">\n",
              "  <thead>\n",
              "    <tr style=\"text-align: right;\">\n",
              "      <th></th>\n",
              "      <th>Point</th>\n",
              "      <th>x</th>\n",
              "      <th>y</th>\n",
              "      <th>Color</th>\n",
              "    </tr>\n",
              "  </thead>\n",
              "  <tbody>\n",
              "    <tr>\n",
              "      <th>9</th>\n",
              "      <td>J</td>\n",
              "      <td>14</td>\n",
              "      <td>33</td>\n",
              "      <td>red</td>\n",
              "    </tr>\n",
              "    <tr>\n",
              "      <th>10</th>\n",
              "      <td>K</td>\n",
              "      <td>1</td>\n",
              "      <td>31</td>\n",
              "      <td>red</td>\n",
              "    </tr>\n",
              "    <tr>\n",
              "      <th>11</th>\n",
              "      <td>L</td>\n",
              "      <td>13</td>\n",
              "      <td>25</td>\n",
              "      <td>blue</td>\n",
              "    </tr>\n",
              "    <tr>\n",
              "      <th>13</th>\n",
              "      <td>N</td>\n",
              "      <td>11</td>\n",
              "      <td>16</td>\n",
              "      <td>blue</td>\n",
              "    </tr>\n",
              "    <tr>\n",
              "      <th>16</th>\n",
              "      <td>Q</td>\n",
              "      <td>1</td>\n",
              "      <td>41</td>\n",
              "      <td>red</td>\n",
              "    </tr>\n",
              "    <tr>\n",
              "      <th>18</th>\n",
              "      <td>S</td>\n",
              "      <td>2</td>\n",
              "      <td>37</td>\n",
              "      <td>red</td>\n",
              "    </tr>\n",
              "    <tr>\n",
              "      <th>23</th>\n",
              "      <td>X</td>\n",
              "      <td>16</td>\n",
              "      <td>2</td>\n",
              "      <td>red</td>\n",
              "    </tr>\n",
              "  </tbody>\n",
              "</table>\n",
              "</div>"
            ],
            "text/plain": [
              "   Point   x   y Color\n",
              "9      J  14  33   red\n",
              "10     K   1  31   red\n",
              "11     L  13  25  blue\n",
              "13     N  11  16  blue\n",
              "16     Q   1  41   red\n",
              "18     S   2  37   red\n",
              "23     X  16   2   red"
            ]
          },
          "metadata": {
            "tags": []
          },
          "execution_count": 163
        }
      ]
    },
    {
      "cell_type": "markdown",
      "metadata": {
        "id": "CVQJIoBmDwOn"
      },
      "source": [
        "### 7. Odrediti koliko ima tačaka koje su obojene određenom bojom. Rezultat grafički pikazati pomoću pitice."
      ]
    },
    {
      "cell_type": "code",
      "metadata": {
        "id": "ZnddmduyDuPw"
      },
      "source": [
        "import matplotlib.pyplot as plt"
      ],
      "execution_count": 164,
      "outputs": []
    },
    {
      "cell_type": "code",
      "metadata": {
        "colab": {
          "base_uri": "https://localhost:8080/"
        },
        "id": "lf0kU7ghDzs2",
        "outputId": "bb7ccb3a-060e-408a-a8d6-c804aefe6931"
      },
      "source": [
        "p = points['Color'].value_counts()\n",
        "print(p)"
      ],
      "execution_count": 165,
      "outputs": [
        {
          "output_type": "stream",
          "text": [
            "red       10\n",
            "yellow     5\n",
            "blue       3\n",
            "Name: Color, dtype: int64\n"
          ],
          "name": "stdout"
        }
      ]
    },
    {
      "cell_type": "code",
      "metadata": {
        "colab": {
          "base_uri": "https://localhost:8080/",
          "height": 264
        },
        "id": "K7467h1fD1Ce",
        "outputId": "a6fa3848-1f8f-4f08-e7cf-94f9e43a01b0"
      },
      "source": [
        "plt.title('Point colors')\n",
        "plt.pie(p, labels=p.index, colors = p.index)\n",
        "plt.show()"
      ],
      "execution_count": 166,
      "outputs": [
        {
          "output_type": "display_data",
          "data": {
            "image/png": "[encoded data removed]",
            "text/plain": [
              "<Figure size 432x288 with 1 Axes>"
            ]
          },
          "metadata": {
            "tags": []
          }
        }
      ]
    },
    {
      "cell_type": "markdown",
      "metadata": {
        "id": "DJ2BSIgdD5Dk"
      },
      "source": [
        "### 8. Izdvojiti tačke koje su crvene ili čije su obe koordinate manje od 10.italicized text"
      ]
    },
    {
      "cell_type": "code",
      "metadata": {
        "colab": {
          "base_uri": "https://localhost:8080/",
          "height": 390
        },
        "id": "UFfa0EzGD25u",
        "outputId": "7df4ebfa-2b93-4da2-b120-04b455cac4ab"
      },
      "source": [
        "is_red = points['Color'] == 'red'\n",
        "x_less_5 = points['x'] < 10\n",
        "y_less_5 = points['y'] < 10\n",
        "points[is_red | x_less_5 & y_less_5]"
      ],
      "execution_count": 167,
      "outputs": [
        {
          "output_type": "execute_result",
          "data": {
            "text/html": [
              "<div>\n",
              "<style scoped>\n",
              "    .dataframe tbody tr th:only-of-type {\n",
              "        vertical-align: middle;\n",
              "    }\n",
              "\n",
              "    .dataframe tbody tr th {\n",
              "        vertical-align: top;\n",
              "    }\n",
              "\n",
              "    .dataframe thead th {\n",
              "        text-align: right;\n",
              "    }\n",
              "</style>\n",
              "<table border=\"1\" class=\"dataframe\">\n",
              "  <thead>\n",
              "    <tr style=\"text-align: right;\">\n",
              "      <th></th>\n",
              "      <th>Point</th>\n",
              "      <th>x</th>\n",
              "      <th>y</th>\n",
              "      <th>Color</th>\n",
              "    </tr>\n",
              "  </thead>\n",
              "  <tbody>\n",
              "    <tr>\n",
              "      <th>0</th>\n",
              "      <td>A</td>\n",
              "      <td>37</td>\n",
              "      <td>34</td>\n",
              "      <td>red</td>\n",
              "    </tr>\n",
              "    <tr>\n",
              "      <th>8</th>\n",
              "      <td>I</td>\n",
              "      <td>2</td>\n",
              "      <td>5</td>\n",
              "      <td>yellow</td>\n",
              "    </tr>\n",
              "    <tr>\n",
              "      <th>9</th>\n",
              "      <td>J</td>\n",
              "      <td>14</td>\n",
              "      <td>33</td>\n",
              "      <td>red</td>\n",
              "    </tr>\n",
              "    <tr>\n",
              "      <th>10</th>\n",
              "      <td>K</td>\n",
              "      <td>1</td>\n",
              "      <td>31</td>\n",
              "      <td>red</td>\n",
              "    </tr>\n",
              "    <tr>\n",
              "      <th>14</th>\n",
              "      <td>O</td>\n",
              "      <td>43</td>\n",
              "      <td>28</td>\n",
              "      <td>red</td>\n",
              "    </tr>\n",
              "    <tr>\n",
              "      <th>16</th>\n",
              "      <td>Q</td>\n",
              "      <td>1</td>\n",
              "      <td>41</td>\n",
              "      <td>red</td>\n",
              "    </tr>\n",
              "    <tr>\n",
              "      <th>18</th>\n",
              "      <td>S</td>\n",
              "      <td>2</td>\n",
              "      <td>37</td>\n",
              "      <td>red</td>\n",
              "    </tr>\n",
              "    <tr>\n",
              "      <th>19</th>\n",
              "      <td>T</td>\n",
              "      <td>37</td>\n",
              "      <td>45</td>\n",
              "      <td>red</td>\n",
              "    </tr>\n",
              "    <tr>\n",
              "      <th>21</th>\n",
              "      <td>V</td>\n",
              "      <td>43</td>\n",
              "      <td>24</td>\n",
              "      <td>red</td>\n",
              "    </tr>\n",
              "    <tr>\n",
              "      <th>23</th>\n",
              "      <td>X</td>\n",
              "      <td>16</td>\n",
              "      <td>2</td>\n",
              "      <td>red</td>\n",
              "    </tr>\n",
              "    <tr>\n",
              "      <th>24</th>\n",
              "      <td>Y</td>\n",
              "      <td>46</td>\n",
              "      <td>25</td>\n",
              "      <td>red</td>\n",
              "    </tr>\n",
              "  </tbody>\n",
              "</table>\n",
              "</div>"
            ],
            "text/plain": [
              "   Point   x   y   Color\n",
              "0      A  37  34     red\n",
              "8      I   2   5  yellow\n",
              "9      J  14  33     red\n",
              "10     K   1  31     red\n",
              "14     O  43  28     red\n",
              "16     Q   1  41     red\n",
              "18     S   2  37     red\n",
              "19     T  37  45     red\n",
              "21     V  43  24     red\n",
              "23     X  16   2     red\n",
              "24     Y  46  25     red"
            ]
          },
          "metadata": {
            "tags": []
          },
          "execution_count": 167
        }
      ]
    },
    {
      "cell_type": "markdown",
      "metadata": {
        "id": "qFziUNiMD_Ja"
      },
      "source": [
        "### 9. Pomeriti sve tacke za 5 duz x ose."
      ]
    },
    {
      "cell_type": "code",
      "metadata": {
        "colab": {
          "base_uri": "https://localhost:8080/"
        },
        "id": "7g8TJKz8D8fP",
        "outputId": "6e47eadb-c6af-48d5-815e-d6153d29236c"
      },
      "source": [
        "points['x'] = points['x'].apply(lambda v: v + 5)"
      ],
      "execution_count": 168,
      "outputs": [
        {
          "output_type": "stream",
          "text": [
            "/usr/local/lib/python3.6/dist-packages/ipykernel_launcher.py:1: SettingWithCopyWarning: \n",
            "A value is trying to be set on a copy of a slice from a DataFrame.\n",
            "Try using .loc[row_indexer,col_indexer] = value instead\n",
            "\n",
            "See the caveats in the documentation: https://pandas.pydata.org/pandas-docs/stable/user_guide/indexing.html#returning-a-view-versus-a-copy\n",
            "  \"\"\"Entry point for launching an IPython kernel.\n"
          ],
          "name": "stderr"
        }
      ]
    },
    {
      "cell_type": "code",
      "metadata": {
        "colab": {
          "base_uri": "https://localhost:8080/",
          "height": 607
        },
        "id": "XGj5h2xwEC5c",
        "outputId": "832b45c2-c850-4cef-8a8d-476f00dc310e"
      },
      "source": [
        "points"
      ],
      "execution_count": 169,
      "outputs": [
        {
          "output_type": "execute_result",
          "data": {
            "text/html": [
              "<div>\n",
              "<style scoped>\n",
              "    .dataframe tbody tr th:only-of-type {\n",
              "        vertical-align: middle;\n",
              "    }\n",
              "\n",
              "    .dataframe tbody tr th {\n",
              "        vertical-align: top;\n",
              "    }\n",
              "\n",
              "    .dataframe thead th {\n",
              "        text-align: right;\n",
              "    }\n",
              "</style>\n",
              "<table border=\"1\" class=\"dataframe\">\n",
              "  <thead>\n",
              "    <tr style=\"text-align: right;\">\n",
              "      <th></th>\n",
              "      <th>Point</th>\n",
              "      <th>x</th>\n",
              "      <th>y</th>\n",
              "      <th>Color</th>\n",
              "    </tr>\n",
              "  </thead>\n",
              "  <tbody>\n",
              "    <tr>\n",
              "      <th>0</th>\n",
              "      <td>A</td>\n",
              "      <td>42</td>\n",
              "      <td>34</td>\n",
              "      <td>red</td>\n",
              "    </tr>\n",
              "    <tr>\n",
              "      <th>3</th>\n",
              "      <td>D</td>\n",
              "      <td>37</td>\n",
              "      <td>11</td>\n",
              "      <td>yellow</td>\n",
              "    </tr>\n",
              "    <tr>\n",
              "      <th>4</th>\n",
              "      <td>E</td>\n",
              "      <td>13</td>\n",
              "      <td>30</td>\n",
              "      <td>yellow</td>\n",
              "    </tr>\n",
              "    <tr>\n",
              "      <th>6</th>\n",
              "      <td>G</td>\n",
              "      <td>26</td>\n",
              "      <td>44</td>\n",
              "      <td>yellow</td>\n",
              "    </tr>\n",
              "    <tr>\n",
              "      <th>8</th>\n",
              "      <td>I</td>\n",
              "      <td>7</td>\n",
              "      <td>5</td>\n",
              "      <td>yellow</td>\n",
              "    </tr>\n",
              "    <tr>\n",
              "      <th>9</th>\n",
              "      <td>J</td>\n",
              "      <td>19</td>\n",
              "      <td>33</td>\n",
              "      <td>red</td>\n",
              "    </tr>\n",
              "    <tr>\n",
              "      <th>10</th>\n",
              "      <td>K</td>\n",
              "      <td>6</td>\n",
              "      <td>31</td>\n",
              "      <td>red</td>\n",
              "    </tr>\n",
              "    <tr>\n",
              "      <th>11</th>\n",
              "      <td>L</td>\n",
              "      <td>18</td>\n",
              "      <td>25</td>\n",
              "      <td>blue</td>\n",
              "    </tr>\n",
              "    <tr>\n",
              "      <th>13</th>\n",
              "      <td>N</td>\n",
              "      <td>16</td>\n",
              "      <td>16</td>\n",
              "      <td>blue</td>\n",
              "    </tr>\n",
              "    <tr>\n",
              "      <th>14</th>\n",
              "      <td>O</td>\n",
              "      <td>48</td>\n",
              "      <td>28</td>\n",
              "      <td>red</td>\n",
              "    </tr>\n",
              "    <tr>\n",
              "      <th>16</th>\n",
              "      <td>Q</td>\n",
              "      <td>6</td>\n",
              "      <td>41</td>\n",
              "      <td>red</td>\n",
              "    </tr>\n",
              "    <tr>\n",
              "      <th>17</th>\n",
              "      <td>R</td>\n",
              "      <td>50</td>\n",
              "      <td>49</td>\n",
              "      <td>yellow</td>\n",
              "    </tr>\n",
              "    <tr>\n",
              "      <th>18</th>\n",
              "      <td>S</td>\n",
              "      <td>7</td>\n",
              "      <td>37</td>\n",
              "      <td>red</td>\n",
              "    </tr>\n",
              "    <tr>\n",
              "      <th>19</th>\n",
              "      <td>T</td>\n",
              "      <td>42</td>\n",
              "      <td>45</td>\n",
              "      <td>red</td>\n",
              "    </tr>\n",
              "    <tr>\n",
              "      <th>21</th>\n",
              "      <td>V</td>\n",
              "      <td>48</td>\n",
              "      <td>24</td>\n",
              "      <td>red</td>\n",
              "    </tr>\n",
              "    <tr>\n",
              "      <th>23</th>\n",
              "      <td>X</td>\n",
              "      <td>21</td>\n",
              "      <td>2</td>\n",
              "      <td>red</td>\n",
              "    </tr>\n",
              "    <tr>\n",
              "      <th>24</th>\n",
              "      <td>Y</td>\n",
              "      <td>51</td>\n",
              "      <td>25</td>\n",
              "      <td>red</td>\n",
              "    </tr>\n",
              "    <tr>\n",
              "      <th>25</th>\n",
              "      <td>Z</td>\n",
              "      <td>41</td>\n",
              "      <td>9</td>\n",
              "      <td>blue</td>\n",
              "    </tr>\n",
              "  </tbody>\n",
              "</table>\n",
              "</div>"
            ],
            "text/plain": [
              "   Point   x   y   Color\n",
              "0      A  42  34     red\n",
              "3      D  37  11  yellow\n",
              "4      E  13  30  yellow\n",
              "6      G  26  44  yellow\n",
              "8      I   7   5  yellow\n",
              "9      J  19  33     red\n",
              "10     K   6  31     red\n",
              "11     L  18  25    blue\n",
              "13     N  16  16    blue\n",
              "14     O  48  28     red\n",
              "16     Q   6  41     red\n",
              "17     R  50  49  yellow\n",
              "18     S   7  37     red\n",
              "19     T  42  45     red\n",
              "21     V  48  24     red\n",
              "23     X  21   2     red\n",
              "24     Y  51  25     red\n",
              "25     Z  41   9    blue"
            ]
          },
          "metadata": {
            "tags": []
          },
          "execution_count": 169
        }
      ]
    },
    {
      "cell_type": "markdown",
      "metadata": {
        "id": "9xcnYGydEGbU"
      },
      "source": [
        "### 10. Ovako dobijeni skup tačaka sačuvati u posebnom CSV fajlu."
      ]
    },
    {
      "cell_type": "code",
      "metadata": {
        "id": "_wPwwsUwEE3f"
      },
      "source": [
        "points.to_csv('./translated_points.csv')"
      ],
      "execution_count": 170,
      "outputs": []
    },
    {
      "cell_type": "markdown",
      "metadata": {
        "id": "rWVm4DWpFGQy"
      },
      "source": [
        "## Zadatak 2."
      ]
    },
    {
      "cell_type": "markdown",
      "metadata": {
        "id": "RcGHzfS2FSRt"
      },
      "source": [
        "Analizirati [2010-2012 American Community Survey Public Use Microdata Sample Files Now Available](https://www.census.gov/newsroom/press-releases/2014/cb14-tps12.html)"
      ]
    },
    {
      "cell_type": "markdown",
      "metadata": {
        "id": "p4uxBusRJZNj"
      },
      "source": [
        "### 1. Preuzeti podatke"
      ]
    },
    {
      "cell_type": "code",
      "metadata": {
        "colab": {
          "base_uri": "https://localhost:8080/",
          "height": 360
        },
        "id": "siw8xk81EJNa",
        "outputId": "863b5e8e-f8b3-440c-9167-39cb2e43e35b"
      },
      "source": [
        "download_url = (\n",
        "   \"https://raw.githubusercontent.com/fivethirtyeight/\"\n",
        "   \"data/master/college-majors/recent-grads.csv\"\n",
        ")\n",
        "df = pd.read_csv(download_url)\n",
        "df.head()"
      ],
      "execution_count": 210,
      "outputs": [
        {
          "output_type": "execute_result",
          "data": {
            "text/html": [
              "<div>\n",
              "<style scoped>\n",
              "    .dataframe tbody tr th:only-of-type {\n",
              "        vertical-align: middle;\n",
              "    }\n",
              "\n",
              "    .dataframe tbody tr th {\n",
              "        vertical-align: top;\n",
              "    }\n",
              "\n",
              "    .dataframe thead th {\n",
              "        text-align: right;\n",
              "    }\n",
              "</style>\n",
              "<table border=\"1\" class=\"dataframe\">\n",
              "  <thead>\n",
              "    <tr style=\"text-align: right;\">\n",
              "      <th></th>\n",
              "      <th>Rank</th>\n",
              "      <th>Major_code</th>\n",
              "      <th>Major</th>\n",
              "      <th>Total</th>\n",
              "      <th>Men</th>\n",
              "      <th>Women</th>\n",
              "      <th>Major_category</th>\n",
              "      <th>ShareWomen</th>\n",
              "      <th>Sample_size</th>\n",
              "      <th>Employed</th>\n",
              "      <th>Full_time</th>\n",
              "      <th>Part_time</th>\n",
              "      <th>Full_time_year_round</th>\n",
              "      <th>Unemployed</th>\n",
              "      <th>Unemployment_rate</th>\n",
              "      <th>Median</th>\n",
              "      <th>P25th</th>\n",
              "      <th>P75th</th>\n",
              "      <th>College_jobs</th>\n",
              "      <th>Non_college_jobs</th>\n",
              "      <th>Low_wage_jobs</th>\n",
              "    </tr>\n",
              "  </thead>\n",
              "  <tbody>\n",
              "    <tr>\n",
              "      <th>0</th>\n",
              "      <td>1</td>\n",
              "      <td>2419</td>\n",
              "      <td>PETROLEUM ENGINEERING</td>\n",
              "      <td>2339.0</td>\n",
              "      <td>2057.0</td>\n",
              "      <td>282.0</td>\n",
              "      <td>Engineering</td>\n",
              "      <td>0.120564</td>\n",
              "      <td>36</td>\n",
              "      <td>1976</td>\n",
              "      <td>1849</td>\n",
              "      <td>270</td>\n",
              "      <td>1207</td>\n",
              "      <td>37</td>\n",
              "      <td>0.018381</td>\n",
              "      <td>110000</td>\n",
              "      <td>95000</td>\n",
              "      <td>125000</td>\n",
              "      <td>1534</td>\n",
              "      <td>364</td>\n",
              "      <td>193</td>\n",
              "    </tr>\n",
              "    <tr>\n",
              "      <th>1</th>\n",
              "      <td>2</td>\n",
              "      <td>2416</td>\n",
              "      <td>MINING AND MINERAL ENGINEERING</td>\n",
              "      <td>756.0</td>\n",
              "      <td>679.0</td>\n",
              "      <td>77.0</td>\n",
              "      <td>Engineering</td>\n",
              "      <td>0.101852</td>\n",
              "      <td>7</td>\n",
              "      <td>640</td>\n",
              "      <td>556</td>\n",
              "      <td>170</td>\n",
              "      <td>388</td>\n",
              "      <td>85</td>\n",
              "      <td>0.117241</td>\n",
              "      <td>75000</td>\n",
              "      <td>55000</td>\n",
              "      <td>90000</td>\n",
              "      <td>350</td>\n",
              "      <td>257</td>\n",
              "      <td>50</td>\n",
              "    </tr>\n",
              "    <tr>\n",
              "      <th>2</th>\n",
              "      <td>3</td>\n",
              "      <td>2415</td>\n",
              "      <td>METALLURGICAL ENGINEERING</td>\n",
              "      <td>856.0</td>\n",
              "      <td>725.0</td>\n",
              "      <td>131.0</td>\n",
              "      <td>Engineering</td>\n",
              "      <td>0.153037</td>\n",
              "      <td>3</td>\n",
              "      <td>648</td>\n",
              "      <td>558</td>\n",
              "      <td>133</td>\n",
              "      <td>340</td>\n",
              "      <td>16</td>\n",
              "      <td>0.024096</td>\n",
              "      <td>73000</td>\n",
              "      <td>50000</td>\n",
              "      <td>105000</td>\n",
              "      <td>456</td>\n",
              "      <td>176</td>\n",
              "      <td>0</td>\n",
              "    </tr>\n",
              "    <tr>\n",
              "      <th>3</th>\n",
              "      <td>4</td>\n",
              "      <td>2417</td>\n",
              "      <td>NAVAL ARCHITECTURE AND MARINE ENGINEERING</td>\n",
              "      <td>1258.0</td>\n",
              "      <td>1123.0</td>\n",
              "      <td>135.0</td>\n",
              "      <td>Engineering</td>\n",
              "      <td>0.107313</td>\n",
              "      <td>16</td>\n",
              "      <td>758</td>\n",
              "      <td>1069</td>\n",
              "      <td>150</td>\n",
              "      <td>692</td>\n",
              "      <td>40</td>\n",
              "      <td>0.050125</td>\n",
              "      <td>70000</td>\n",
              "      <td>43000</td>\n",
              "      <td>80000</td>\n",
              "      <td>529</td>\n",
              "      <td>102</td>\n",
              "      <td>0</td>\n",
              "    </tr>\n",
              "    <tr>\n",
              "      <th>4</th>\n",
              "      <td>5</td>\n",
              "      <td>2405</td>\n",
              "      <td>CHEMICAL ENGINEERING</td>\n",
              "      <td>32260.0</td>\n",
              "      <td>21239.0</td>\n",
              "      <td>11021.0</td>\n",
              "      <td>Engineering</td>\n",
              "      <td>0.341631</td>\n",
              "      <td>289</td>\n",
              "      <td>25694</td>\n",
              "      <td>23170</td>\n",
              "      <td>5180</td>\n",
              "      <td>16697</td>\n",
              "      <td>1672</td>\n",
              "      <td>0.061098</td>\n",
              "      <td>65000</td>\n",
              "      <td>50000</td>\n",
              "      <td>75000</td>\n",
              "      <td>18314</td>\n",
              "      <td>4440</td>\n",
              "      <td>972</td>\n",
              "    </tr>\n",
              "  </tbody>\n",
              "</table>\n",
              "</div>"
            ],
            "text/plain": [
              "   Rank  Major_code  ... Non_college_jobs  Low_wage_jobs\n",
              "0     1        2419  ...              364            193\n",
              "1     2        2416  ...              257             50\n",
              "2     3        2415  ...              176              0\n",
              "3     4        2417  ...              102              0\n",
              "4     5        2405  ...             4440            972\n",
              "\n",
              "[5 rows x 21 columns]"
            ]
          },
          "metadata": {
            "tags": []
          },
          "execution_count": 210
        }
      ]
    },
    {
      "cell_type": "markdown",
      "metadata": {
        "id": "2F9klyBlKasR"
      },
      "source": [
        "### 2. Prikazati atribute \"P25th\", \"Median\", \"P75th\""
      ]
    },
    {
      "cell_type": "code",
      "metadata": {
        "colab": {
          "base_uri": "https://localhost:8080/",
          "height": 296
        },
        "id": "LvJ1BhyqJfoV",
        "outputId": "45ac51d1-19a8-452f-d6d9-bd5bc1da8ae7"
      },
      "source": [
        "df.plot(x=\"Rank\", y=[\"P25th\", \"Median\", \"P75th\"])"
      ],
      "execution_count": 211,
      "outputs": [
        {
          "output_type": "execute_result",
          "data": {
            "text/plain": [
              "<matplotlib.axes._subplots.AxesSubplot at 0x7f11dc4a36d8>"
            ]
          },
          "metadata": {
            "tags": []
          },
          "execution_count": 211
        },
        {
          "output_type": "display_data",
          "data": {
            "image/png": "[encoded data removed]",
            "text/plain": [
              "<Figure size 432x288 with 1 Axes>"
            ]
          },
          "metadata": {
            "tags": [],
            "needs_background": "light"
          }
        }
      ]
    },
    {
      "cell_type": "markdown",
      "metadata": {
        "id": "Nh1RztIcKjnP"
      },
      "source": [
        "### 3. Prikaati histogram atributa \"Median\""
      ]
    },
    {
      "cell_type": "code",
      "metadata": {
        "colab": {
          "base_uri": "https://localhost:8080/",
          "height": 282
        },
        "id": "HB6RXp8GKXZB",
        "outputId": "83361739-9bc1-4544-923c-15e00c39de18"
      },
      "source": [
        "df[\"Median\"].plot(kind=\"hist\")"
      ],
      "execution_count": 212,
      "outputs": [
        {
          "output_type": "execute_result",
          "data": {
            "text/plain": [
              "<matplotlib.axes._subplots.AxesSubplot at 0x7f11da462c50>"
            ]
          },
          "metadata": {
            "tags": []
          },
          "execution_count": 212
        },
        {
          "output_type": "display_data",
          "data": {
            "image/png": "[encoded data removed]",
            "text/plain": [
              "<Figure size 432x288 with 1 Axes>"
            ]
          },
          "metadata": {
            "tags": [],
            "needs_background": "light"
          }
        }
      ]
    },
    {
      "cell_type": "markdown",
      "metadata": {
        "id": "qEjtU6tAKvOF"
      },
      "source": [
        "### 4. Identifikovati outlajere u odnosu na atribut Median"
      ]
    },
    {
      "cell_type": "code",
      "metadata": {
        "colab": {
          "base_uri": "https://localhost:8080/",
          "height": 360
        },
        "id": "ibl6Dl1vKqS-",
        "outputId": "3b881f8b-39f8-442d-dec4-7e7b40c5f8c6"
      },
      "source": [
        "top_5 = df.sort_values(by=\"Median\", ascending=False).head()\n",
        "top_5"
      ],
      "execution_count": 214,
      "outputs": [
        {
          "output_type": "execute_result",
          "data": {
            "text/html": [
              "<div>\n",
              "<style scoped>\n",
              "    .dataframe tbody tr th:only-of-type {\n",
              "        vertical-align: middle;\n",
              "    }\n",
              "\n",
              "    .dataframe tbody tr th {\n",
              "        vertical-align: top;\n",
              "    }\n",
              "\n",
              "    .dataframe thead th {\n",
              "        text-align: right;\n",
              "    }\n",
              "</style>\n",
              "<table border=\"1\" class=\"dataframe\">\n",
              "  <thead>\n",
              "    <tr style=\"text-align: right;\">\n",
              "      <th></th>\n",
              "      <th>Rank</th>\n",
              "      <th>Major_code</th>\n",
              "      <th>Major</th>\n",
              "      <th>Total</th>\n",
              "      <th>Men</th>\n",
              "      <th>Women</th>\n",
              "      <th>Major_category</th>\n",
              "      <th>ShareWomen</th>\n",
              "      <th>Sample_size</th>\n",
              "      <th>Employed</th>\n",
              "      <th>Full_time</th>\n",
              "      <th>Part_time</th>\n",
              "      <th>Full_time_year_round</th>\n",
              "      <th>Unemployed</th>\n",
              "      <th>Unemployment_rate</th>\n",
              "      <th>Median</th>\n",
              "      <th>P25th</th>\n",
              "      <th>P75th</th>\n",
              "      <th>College_jobs</th>\n",
              "      <th>Non_college_jobs</th>\n",
              "      <th>Low_wage_jobs</th>\n",
              "    </tr>\n",
              "  </thead>\n",
              "  <tbody>\n",
              "    <tr>\n",
              "      <th>0</th>\n",
              "      <td>1</td>\n",
              "      <td>2419</td>\n",
              "      <td>PETROLEUM ENGINEERING</td>\n",
              "      <td>2339.0</td>\n",
              "      <td>2057.0</td>\n",
              "      <td>282.0</td>\n",
              "      <td>Engineering</td>\n",
              "      <td>0.120564</td>\n",
              "      <td>36</td>\n",
              "      <td>1976</td>\n",
              "      <td>1849</td>\n",
              "      <td>270</td>\n",
              "      <td>1207</td>\n",
              "      <td>37</td>\n",
              "      <td>0.018381</td>\n",
              "      <td>110000</td>\n",
              "      <td>95000</td>\n",
              "      <td>125000</td>\n",
              "      <td>1534</td>\n",
              "      <td>364</td>\n",
              "      <td>193</td>\n",
              "    </tr>\n",
              "    <tr>\n",
              "      <th>1</th>\n",
              "      <td>2</td>\n",
              "      <td>2416</td>\n",
              "      <td>MINING AND MINERAL ENGINEERING</td>\n",
              "      <td>756.0</td>\n",
              "      <td>679.0</td>\n",
              "      <td>77.0</td>\n",
              "      <td>Engineering</td>\n",
              "      <td>0.101852</td>\n",
              "      <td>7</td>\n",
              "      <td>640</td>\n",
              "      <td>556</td>\n",
              "      <td>170</td>\n",
              "      <td>388</td>\n",
              "      <td>85</td>\n",
              "      <td>0.117241</td>\n",
              "      <td>75000</td>\n",
              "      <td>55000</td>\n",
              "      <td>90000</td>\n",
              "      <td>350</td>\n",
              "      <td>257</td>\n",
              "      <td>50</td>\n",
              "    </tr>\n",
              "    <tr>\n",
              "      <th>2</th>\n",
              "      <td>3</td>\n",
              "      <td>2415</td>\n",
              "      <td>METALLURGICAL ENGINEERING</td>\n",
              "      <td>856.0</td>\n",
              "      <td>725.0</td>\n",
              "      <td>131.0</td>\n",
              "      <td>Engineering</td>\n",
              "      <td>0.153037</td>\n",
              "      <td>3</td>\n",
              "      <td>648</td>\n",
              "      <td>558</td>\n",
              "      <td>133</td>\n",
              "      <td>340</td>\n",
              "      <td>16</td>\n",
              "      <td>0.024096</td>\n",
              "      <td>73000</td>\n",
              "      <td>50000</td>\n",
              "      <td>105000</td>\n",
              "      <td>456</td>\n",
              "      <td>176</td>\n",
              "      <td>0</td>\n",
              "    </tr>\n",
              "    <tr>\n",
              "      <th>3</th>\n",
              "      <td>4</td>\n",
              "      <td>2417</td>\n",
              "      <td>NAVAL ARCHITECTURE AND MARINE ENGINEERING</td>\n",
              "      <td>1258.0</td>\n",
              "      <td>1123.0</td>\n",
              "      <td>135.0</td>\n",
              "      <td>Engineering</td>\n",
              "      <td>0.107313</td>\n",
              "      <td>16</td>\n",
              "      <td>758</td>\n",
              "      <td>1069</td>\n",
              "      <td>150</td>\n",
              "      <td>692</td>\n",
              "      <td>40</td>\n",
              "      <td>0.050125</td>\n",
              "      <td>70000</td>\n",
              "      <td>43000</td>\n",
              "      <td>80000</td>\n",
              "      <td>529</td>\n",
              "      <td>102</td>\n",
              "      <td>0</td>\n",
              "    </tr>\n",
              "    <tr>\n",
              "      <th>4</th>\n",
              "      <td>5</td>\n",
              "      <td>2405</td>\n",
              "      <td>CHEMICAL ENGINEERING</td>\n",
              "      <td>32260.0</td>\n",
              "      <td>21239.0</td>\n",
              "      <td>11021.0</td>\n",
              "      <td>Engineering</td>\n",
              "      <td>0.341631</td>\n",
              "      <td>289</td>\n",
              "      <td>25694</td>\n",
              "      <td>23170</td>\n",
              "      <td>5180</td>\n",
              "      <td>16697</td>\n",
              "      <td>1672</td>\n",
              "      <td>0.061098</td>\n",
              "      <td>65000</td>\n",
              "      <td>50000</td>\n",
              "      <td>75000</td>\n",
              "      <td>18314</td>\n",
              "      <td>4440</td>\n",
              "      <td>972</td>\n",
              "    </tr>\n",
              "  </tbody>\n",
              "</table>\n",
              "</div>"
            ],
            "text/plain": [
              "   Rank  Major_code  ... Non_college_jobs  Low_wage_jobs\n",
              "0     1        2419  ...              364            193\n",
              "1     2        2416  ...              257             50\n",
              "2     3        2415  ...              176              0\n",
              "3     4        2417  ...              102              0\n",
              "4     5        2405  ...             4440            972\n",
              "\n",
              "[5 rows x 21 columns]"
            ]
          },
          "metadata": {
            "tags": []
          },
          "execution_count": 214
        }
      ]
    },
    {
      "cell_type": "code",
      "metadata": {
        "colab": {
          "base_uri": "https://localhost:8080/",
          "height": 413
        },
        "id": "7p1T3Qe1K19O",
        "outputId": "9b640898-f2f8-4bb6-cd51-c56c412c24ad"
      },
      "source": [
        "top_5.plot(x=\"Major\", y=\"Median\", kind=\"bar\", rot=5, fontsize=6, figsize=(6, 6))"
      ],
      "execution_count": 227,
      "outputs": [
        {
          "output_type": "execute_result",
          "data": {
            "text/plain": [
              "<matplotlib.axes._subplots.AxesSubplot at 0x7f11da435898>"
            ]
          },
          "metadata": {
            "tags": []
          },
          "execution_count": 227
        },
        {
          "output_type": "display_data",
          "data": {
            "image/png": "[encoded data removed]",
            "text/plain": [
              "<Figure size 432x432 with 1 Axes>"
            ]
          },
          "metadata": {
            "tags": [],
            "needs_background": "light"
          }
        }
      ]
    },
    {
      "cell_type": "markdown",
      "metadata": {
        "id": "qjteqUQgLbFZ"
      },
      "source": [
        "### 5. Izdvojiti sve koijma je prosecna plata iznad 60 000$\n"
      ]
    },
    {
      "cell_type": "code",
      "metadata": {
        "id": "gemo1KgiK7KB"
      },
      "source": [
        "top_medians = df[df[\"Median\"] > 60000].sort_values(\"Median\")"
      ],
      "execution_count": 228,
      "outputs": []
    },
    {
      "cell_type": "code",
      "metadata": {
        "colab": {
          "base_uri": "https://localhost:8080/",
          "height": 538
        },
        "id": "jUj8zy0PLftC",
        "outputId": "0ede767d-b497-4880-a07e-3c8d288d2e1f"
      },
      "source": [
        "top_medians.plot(x=\"Major\", y=[\"P25th\", \"Median\", \"P75th\"], kind=\"bar\")"
      ],
      "execution_count": 229,
      "outputs": [
        {
          "output_type": "execute_result",
          "data": {
            "text/plain": [
              "<matplotlib.axes._subplots.AxesSubplot at 0x7f11ea0a5f28>"
            ]
          },
          "metadata": {
            "tags": []
          },
          "execution_count": 229
        },
        {
          "output_type": "display_data",
          "data": {
            "image/png": "[encoded data removed]",
            "text/plain": [
              "<Figure size 432x288 with 1 Axes>"
            ]
          },
          "metadata": {
            "tags": [],
            "needs_background": "light"
          }
        }
      ]
    },
    {
      "cell_type": "markdown",
      "metadata": {
        "id": "OAZeYYT7Ln8Z"
      },
      "source": [
        "### 6. Prikazati korelaciju atributa \"Median\" i \"Unemployment_rate\""
      ]
    },
    {
      "cell_type": "code",
      "metadata": {
        "colab": {
          "base_uri": "https://localhost:8080/",
          "height": 296
        },
        "id": "S3RSmK4BLhWN",
        "outputId": "c062a040-4e04-4476-ed1f-c3cf862bd86f"
      },
      "source": [
        "df.plot(x=\"Median\", y=\"Unemployment_rate\", kind=\"scatter\")"
      ],
      "execution_count": 230,
      "outputs": [
        {
          "output_type": "execute_result",
          "data": {
            "text/plain": [
              "<matplotlib.axes._subplots.AxesSubplot at 0x7f11d992cb38>"
            ]
          },
          "metadata": {
            "tags": []
          },
          "execution_count": 230
        },
        {
          "output_type": "display_data",
          "data": {
            "image/png": "[encoded data removed]",
            "text/plain": [
              "<Figure size 432x288 with 1 Axes>"
            ]
          },
          "metadata": {
            "tags": [],
            "needs_background": "light"
          }
        }
      ]
    },
    {
      "cell_type": "markdown",
      "metadata": {
        "id": "0QiZOLxcM0s6"
      },
      "source": [
        "# Resources\n",
        "\n",
        "* [1] [https://pandas.pydata.org/pandas-docs/stable/user_guide/visualization.html](https://pandas.pydata.org/pandas-docs/stable/user_guide/visualization.html)\n",
        "\n",
        "* [2] [https://pandas.pydata.org/pandas-docs/stable/user_guide/10min.html](https://pandas.pydata.org/pandas-docs/stable/user_guide/10min.html)\n",
        "\n",
        "* [3] [https://realpython.com/pandas-plot-python/](https://realpython.com/pandas-plot-python/)\n",
        "\n"
      ]
    },
    {
      "cell_type": "code",
      "metadata": {
        "id": "gRrsuEm9MvaL"
      },
      "source": [
        ""
      ],
      "execution_count": null,
      "outputs": []
    }
  ]
}