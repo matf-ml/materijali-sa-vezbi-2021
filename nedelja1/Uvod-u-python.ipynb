{
 "cells": [
  {
   "cell_type": "markdown",
   "metadata": {},
   "source": [
    "# Uvod u Python (v3)\n",
    "## Ispis podataka"
   ]
  },
  {
   "cell_type": "code",
   "execution_count": 112,
   "metadata": {},
   "outputs": [
    {
     "name": "stdout",
     "output_type": "stream",
     "text": [
      "10\n"
     ]
    }
   ],
   "source": [
    "print(10)"
   ]
  },
  {
   "cell_type": "code",
   "execution_count": 113,
   "metadata": {},
   "outputs": [
    {
     "name": "stdout",
     "output_type": "stream",
     "text": [
      "NISKA\n"
     ]
    }
   ],
   "source": [
    "print(\"NISKA\")"
   ]
  },
  {
   "cell_type": "code",
   "execution_count": 114,
   "metadata": {},
   "outputs": [
    {
     "name": "stdout",
     "output_type": "stream",
     "text": [
      "10\n"
     ]
    }
   ],
   "source": [
    "a = 10\n",
    "print(10)"
   ]
  },
  {
   "cell_type": "markdown",
   "metadata": {},
   "source": [
    "## Učitavanje podataka sa standardnog ulaza"
   ]
  },
  {
   "cell_type": "code",
   "execution_count": 115,
   "metadata": {},
   "outputs": [
    {
     "name": "stdout",
     "output_type": "stream",
     "text": [
      "\n",
      "\n"
     ]
    }
   ],
   "source": [
    "a = input()\n",
    "print(a)"
   ]
  },
  {
   "cell_type": "code",
   "execution_count": 197,
   "metadata": {},
   "outputs": [
    {
     "name": "stdout",
     "output_type": "stream",
     "text": [
      "Unesite vrednost n: 123\n"
     ]
    }
   ],
   "source": [
    "n = input('Unesite vrednost n: ')"
   ]
  },
  {
   "cell_type": "markdown",
   "metadata": {},
   "source": [
    "### Formatiran ispis"
   ]
  },
  {
   "cell_type": "code",
   "execution_count": 117,
   "metadata": {},
   "outputs": [
    {
     "name": "stdout",
     "output_type": "stream",
     "text": [
      "Vrednost promenljive n je 10\n"
     ]
    }
   ],
   "source": [
    "n = 10\n",
    "print('Vrednost promenljive n je {}'.format(n))"
   ]
  },
  {
   "cell_type": "code",
   "execution_count": 118,
   "metadata": {},
   "outputs": [
    {
     "name": "stdout",
     "output_type": "stream",
     "text": [
      "a = 5, b = 6\n"
     ]
    }
   ],
   "source": [
    "a = 5\n",
    "b = 6\n",
    "print('a = {}, b = {}'.format(a, b))"
   ]
  },
  {
   "cell_type": "markdown",
   "metadata": {},
   "source": [
    "## Obrada izuzetaka"
   ]
  },
  {
   "cell_type": "code",
   "execution_count": 119,
   "metadata": {},
   "outputs": [
    {
     "name": "stdout",
     "output_type": "stream",
     "text": [
      "\n",
      "Neispravna vrednost\n"
     ]
    }
   ],
   "source": [
    "try:\n",
    "    a = int(input())\n",
    "    print(a)\n",
    "except:\n",
    "    print('Neispravna vrednost')"
   ]
  },
  {
   "cell_type": "markdown",
   "metadata": {},
   "source": [
    "## Učitavanje podataka iz datoteke"
   ]
  },
  {
   "cell_type": "code",
   "execution_count": 120,
   "metadata": {},
   "outputs": [
    {
     "name": "stdout",
     "output_type": "stream",
     "text": [
      "Ovo je sadrzaj ulazne datoteke\n"
     ]
    }
   ],
   "source": [
    "ulazni_fajl = open('ulaz.txt', 'r')\n",
    "sadrzaj_datoteke = ulazni_fajl.read()\n",
    "print(sadrzaj_datoteke)"
   ]
  },
  {
   "cell_type": "code",
   "execution_count": 199,
   "metadata": {},
   "outputs": [
    {
     "name": "stdout",
     "output_type": "stream",
     "text": [
      "Greska prilikom ucitavanja datoteke!\n"
     ]
    }
   ],
   "source": [
    "try:\n",
    "    ulazni_fajl = open('nepostojeca_datoteka.txt', 'r')\n",
    "    sadrzaj_datoteke = ulazni_fajl.read()\n",
    "    print(sadrzaj_datoteke)\n",
    "except:\n",
    "    print('Greska prilikom ucitavanja datoteke!')"
   ]
  },
  {
   "cell_type": "markdown",
   "metadata": {},
   "source": [
    "## Ispis podataka u datoteku"
   ]
  },
  {
   "cell_type": "code",
   "execution_count": 122,
   "metadata": {},
   "outputs": [],
   "source": [
    "try:\n",
    "    izlazni_fajl = open('izlaz.txt', 'w')\n",
    "    izlazni_fajl.write('Ovo je sadrzaj izlazne datoteke')\n",
    "except:\n",
    "    print('Doslo je do greske!')"
   ]
  },
  {
   "cell_type": "markdown",
   "metadata": {},
   "source": [
    "## If-else, for, while"
   ]
  },
  {
   "cell_type": "code",
   "execution_count": 212,
   "metadata": {},
   "outputs": [
    {
     "name": "stdout",
     "output_type": "stream",
     "text": [
      "Unesite vrednost celog broja a:11\n",
      "Broj a daje ostatak 2 pri deljenju sa brojem 3\n"
     ]
    }
   ],
   "source": [
    "try:\n",
    "    a = int(input('Unesite vrednost celog broja a:'))\n",
    "    if a % 3 == 0:\n",
    "        print('Broj a je deljiv brojem 3')\n",
    "    elif a % 3 == 1:\n",
    "        print('Broj a daje ostatak 1 pri deljenju sa brojem 3')\n",
    "    else:\n",
    "        print('Broj a daje ostatak 2 pri deljenju sa brojem 3')\n",
    "except:\n",
    "    print('Neispravna vrednost broja a!')"
   ]
  },
  {
   "cell_type": "code",
   "execution_count": 223,
   "metadata": {},
   "outputs": [
    {
     "name": "stdout",
     "output_type": "stream",
     "text": [
      "Godina 2000 je prestupna\n"
     ]
    }
   ],
   "source": [
    "godina = 2000\n",
    "if (godina % 4 == 0 and godina % 100 != 0) or (godina % 400 == 0):\n",
    "    print('Godina {} je prestupna'.format(godina))\n",
    "else:\n",
    "    print('Godina {} je prosta'.format(godina))"
   ]
  },
  {
   "cell_type": "code",
   "execution_count": 214,
   "metadata": {},
   "outputs": [
    {
     "name": "stdout",
     "output_type": "stream",
     "text": [
      "0\n",
      "1\n",
      "2\n",
      "3\n",
      "4\n"
     ]
    }
   ],
   "source": [
    "for i in range(0,5): # C-ovski: for(i = 0; i < 5; i++)\n",
    "    print(i)"
   ]
  },
  {
   "cell_type": "code",
   "execution_count": 219,
   "metadata": {},
   "outputs": [
    {
     "name": "stdout",
     "output_type": "stream",
     "text": [
      "0\n",
      "1\n",
      "2\n",
      "3\n",
      "4\n"
     ]
    }
   ],
   "source": [
    "i = 0\n",
    "while i < 5:\n",
    "    print(i)\n",
    "    i += 1 # operator ++ nije podrzan"
   ]
  },
  {
   "cell_type": "markdown",
   "metadata": {},
   "source": [
    "## Liste"
   ]
  },
  {
   "cell_type": "code",
   "execution_count": 123,
   "metadata": {},
   "outputs": [
    {
     "name": "stdout",
     "output_type": "stream",
     "text": [
      "[1, 2, 3, 4]\n"
     ]
    }
   ],
   "source": [
    "lista = [1, 2, 3, 4]\n",
    "print(lista)"
   ]
  },
  {
   "cell_type": "code",
   "execution_count": 124,
   "metadata": {},
   "outputs": [
    {
     "name": "stdout",
     "output_type": "stream",
     "text": [
      "Duzina liste je: 4\n"
     ]
    }
   ],
   "source": [
    "lista = [1, 2, 3, 4]\n",
    "n = len(lista)\n",
    "print('Duzina liste je: {}'.format(n))"
   ]
  },
  {
   "cell_type": "markdown",
   "metadata": {},
   "source": [
    "### Iteracija kroz listu po indeksima"
   ]
  },
  {
   "cell_type": "code",
   "execution_count": 125,
   "metadata": {},
   "outputs": [
    {
     "name": "stdout",
     "output_type": "stream",
     "text": [
      "1\n",
      "2\n",
      "3\n",
      "4\n"
     ]
    }
   ],
   "source": [
    "lista = [1, 2, 3, 4]\n",
    "n = len(lista)\n",
    "\n",
    "for i in range(0, n): # for i in range(len(lista))   [0,n) -> 0..n-1\n",
    "    print(lista[i])"
   ]
  },
  {
   "cell_type": "markdown",
   "metadata": {},
   "source": [
    "### Iteracija kroz listu po elementima (foreach petlja)"
   ]
  },
  {
   "cell_type": "code",
   "execution_count": 126,
   "metadata": {},
   "outputs": [
    {
     "name": "stdout",
     "output_type": "stream",
     "text": [
      "1\n",
      "2\n",
      "3\n",
      "4\n"
     ]
    }
   ],
   "source": [
    "lista = [1, 2, 3, 4]\n",
    "n = len(lista)\n",
    "\n",
    "for element in lista: # foreach\n",
    "    print(element)"
   ]
  },
  {
   "cell_type": "markdown",
   "metadata": {},
   "source": [
    "### List comprehension"
   ]
  },
  {
   "cell_type": "code",
   "execution_count": 150,
   "metadata": {},
   "outputs": [
    {
     "name": "stdout",
     "output_type": "stream",
     "text": [
      "[1, 25, 4, 16, 9]\n"
     ]
    }
   ],
   "source": [
    "lista = [1, 5, 2, 4, 3]\n",
    "kvadrirana = [x**2 for x in lista] # ** - stepen\n",
    "print(kvadrirana)"
   ]
  },
  {
   "cell_type": "code",
   "execution_count": 207,
   "metadata": {},
   "outputs": [
    {
     "name": "stdout",
     "output_type": "stream",
     "text": [
      "[1, 3, 5]\n"
     ]
    }
   ],
   "source": [
    "lista = [1, 2, 3, 4, 5]\n",
    "neparni = [x for x in lista if x % 2 == 1]\n",
    "print(neparni)"
   ]
  },
  {
   "cell_type": "markdown",
   "metadata": {},
   "source": [
    "### Zipovanje lista"
   ]
  },
  {
   "cell_type": "code",
   "execution_count": 152,
   "metadata": {},
   "outputs": [
    {
     "name": "stdout",
     "output_type": "stream",
     "text": [
      "<zip object at 0x109b71c08>\n",
      "(1, 'a')\n",
      "(2, 'b')\n",
      "(3, 'c')\n",
      "(4, 'd')\n"
     ]
    }
   ],
   "source": [
    "lista1 = [1, 2, 3, 4]\n",
    "lista2 = ['a', 'b', 'c', 'd']\n",
    "zipovana = zip(lista1, lista2)\n",
    "print(zipovana)\n",
    "\n",
    "for el in zipovana:\n",
    "    print(el)"
   ]
  },
  {
   "cell_type": "markdown",
   "metadata": {},
   "source": [
    "### Obrtanje liste"
   ]
  },
  {
   "cell_type": "code",
   "execution_count": 153,
   "metadata": {},
   "outputs": [
    {
     "name": "stdout",
     "output_type": "stream",
     "text": [
      "[5, 4, 3, 2, 1]\n"
     ]
    }
   ],
   "source": [
    "lista = [1, 2, 3, 4, 5]\n",
    "lista.reverse()\n",
    "print(lista)"
   ]
  },
  {
   "cell_type": "markdown",
   "metadata": {},
   "source": [
    "### Sortiranje liste"
   ]
  },
  {
   "cell_type": "code",
   "execution_count": 127,
   "metadata": {},
   "outputs": [
    {
     "name": "stdout",
     "output_type": "stream",
     "text": [
      "[1, 2, 3, 4, 5]\n"
     ]
    }
   ],
   "source": [
    "lista = [1, 5, 2, 4, 3]\n",
    "lista.sort()\n",
    "print(lista)"
   ]
  },
  {
   "cell_type": "code",
   "execution_count": 128,
   "metadata": {},
   "outputs": [
    {
     "name": "stdout",
     "output_type": "stream",
     "text": [
      "[5, 4, 3, 2, 1]\n"
     ]
    }
   ],
   "source": [
    "lista = [1, 5, 2, 4, 3]\n",
    "lista.sort(reverse=True)\n",
    "print(lista)"
   ]
  },
  {
   "cell_type": "markdown",
   "metadata": {},
   "source": [
    "### Izdvajanje podlisti\n",
    "[polazni_indeks:zavrsni_index(n+1):korak]"
   ]
  },
  {
   "cell_type": "code",
   "execution_count": 129,
   "metadata": {},
   "outputs": [
    {
     "name": "stdout",
     "output_type": "stream",
     "text": [
      "[2, 3]\n"
     ]
    }
   ],
   "source": [
    "lista = [1, 2, 3, 4]\n",
    "print(lista[1:3]) # [1:3)"
   ]
  },
  {
   "cell_type": "code",
   "execution_count": 130,
   "metadata": {},
   "outputs": [
    {
     "name": "stdout",
     "output_type": "stream",
     "text": [
      "[2, 4]\n"
     ]
    }
   ],
   "source": [
    "lista = [1, 2, 3, 4]\n",
    "print(lista[1:4:2]) # 2, (3), 4 "
   ]
  },
  {
   "cell_type": "code",
   "execution_count": 131,
   "metadata": {},
   "outputs": [
    {
     "name": "stdout",
     "output_type": "stream",
     "text": [
      "[1, 2, 3]\n"
     ]
    }
   ],
   "source": [
    "lista = [1, 2, 3, 4] #  -4 -3 -2 -1\n",
    "print(lista[-4:-1])  # [1, 2, 3, 4]"
   ]
  },
  {
   "cell_type": "markdown",
   "metadata": {},
   "source": [
    "## Matrice (višedimenzioni nizovi)"
   ]
  },
  {
   "cell_type": "code",
   "execution_count": 246,
   "metadata": {},
   "outputs": [
    {
     "name": "stdout",
     "output_type": "stream",
     "text": [
      "[[1, 2, 3], [4, 5, 6], [7, 8, 9]]\n"
     ]
    }
   ],
   "source": [
    "matrica = [[1, 2, 3],\n",
    "           [4, 5, 6],\n",
    "           [7, 8, 9]]\n",
    "\n",
    "print(matrica)"
   ]
  },
  {
   "cell_type": "code",
   "execution_count": 248,
   "metadata": {},
   "outputs": [
    {
     "name": "stdout",
     "output_type": "stream",
     "text": [
      "9\n"
     ]
    }
   ],
   "source": [
    "matrica = [[1, 2, 3],\n",
    "           [4, 5, 6],\n",
    "           [7, 8, 9]]\n",
    "\n",
    "print(matrica[2][2])"
   ]
  },
  {
   "cell_type": "markdown",
   "metadata": {},
   "source": [
    "### Dodavanje elemenata u listu i konkatenacija listi"
   ]
  },
  {
   "cell_type": "code",
   "execution_count": 132,
   "metadata": {},
   "outputs": [
    {
     "name": "stdout",
     "output_type": "stream",
     "text": [
      "[1, 2, 3, 4, 5]\n"
     ]
    }
   ],
   "source": [
    "lista = [1, 2, 3, 4]\n",
    "lista.append(5) # Dodavanje elementa na kraj liste\n",
    "print(lista)"
   ]
  },
  {
   "cell_type": "code",
   "execution_count": 204,
   "metadata": {},
   "outputs": [
    {
     "name": "stdout",
     "output_type": "stream",
     "text": [
      "[1, 2, 3, 3.4, 4]\n"
     ]
    }
   ],
   "source": [
    "lista = [1, 2, 3, 4]\n",
    "lista.insert(3,3.4) # Dodavanje vrednosti 3.4 na poziciju u listi sa indeksom 3\n",
    "print(lista)"
   ]
  },
  {
   "cell_type": "code",
   "execution_count": 133,
   "metadata": {},
   "outputs": [
    {
     "name": "stdout",
     "output_type": "stream",
     "text": [
      "[1, 2, 3]\n"
     ]
    }
   ],
   "source": [
    "lista = [1, 2, 3, 4]\n",
    "lista.pop() # Uklanjanje elementa sa kraja liste\n",
    "print(lista)"
   ]
  },
  {
   "cell_type": "code",
   "execution_count": 134,
   "metadata": {},
   "outputs": [
    {
     "name": "stdout",
     "output_type": "stream",
     "text": [
      "[1, 2, 3, 4, 5, 6, 7, 8]\n"
     ]
    }
   ],
   "source": [
    "lista1 = [1, 2, 3, 4]\n",
    "lista2 = [5, 6, 7, 8]\n",
    "print(lista1 + lista2) # Konkatenacija listi"
   ]
  },
  {
   "cell_type": "code",
   "execution_count": 135,
   "metadata": {},
   "outputs": [
    {
     "name": "stdout",
     "output_type": "stream",
     "text": [
      "[0, 1, 2, 3, 4]\n"
     ]
    }
   ],
   "source": [
    "element = 0\n",
    "lista = [1, 2, 3, 4]\n",
    "print ([element] + lista) # Dodavanje elementa na pocetak liste pomocu konkatenacije"
   ]
  },
  {
   "cell_type": "code",
   "execution_count": 205,
   "metadata": {},
   "outputs": [
    {
     "name": "stdout",
     "output_type": "stream",
     "text": [
      "[2, 3, 4]\n"
     ]
    }
   ],
   "source": [
    "lista = [1,2,3,4]\n",
    "lista = lista[1:] # Uklanjanje elementa sa pocetka liste izdvajanjem podliste\n",
    "print(lista)"
   ]
  },
  {
   "cell_type": "markdown",
   "metadata": {},
   "source": [
    "## Niske"
   ]
  },
  {
   "cell_type": "code",
   "execution_count": 186,
   "metadata": {},
   "outputs": [
    {
     "name": "stdout",
     "output_type": "stream",
     "text": [
      "ABCD\n"
     ]
    }
   ],
   "source": [
    "niska = 'ABCD' # ili \"ABCD\"\n",
    "print(niska)"
   ]
  },
  {
   "cell_type": "code",
   "execution_count": 187,
   "metadata": {},
   "outputs": [
    {
     "name": "stdout",
     "output_type": "stream",
     "text": [
      "ABCDE\n"
     ]
    }
   ],
   "source": [
    "niska = \"ABCD\"\n",
    "print(niska + 'E') # Konkatenacija niski"
   ]
  },
  {
   "cell_type": "code",
   "execution_count": 188,
   "metadata": {},
   "outputs": [
    {
     "name": "stdout",
     "output_type": "stream",
     "text": [
      "A\n",
      "B\n",
      "C\n",
      "D\n",
      "E\n"
     ]
    }
   ],
   "source": [
    "niska = 'ABCDE'\n",
    "\n",
    "for c in niska:\n",
    "    print(c)"
   ]
  },
  {
   "cell_type": "markdown",
   "metadata": {},
   "source": [
    "Napomena: Liste su imutabilni objekti i njihov sadrzaj se ne moze menjati. Konkatenacija niski stvara novi objekat spojene niske"
   ]
  },
  {
   "cell_type": "code",
   "execution_count": 191,
   "metadata": {},
   "outputs": [
    {
     "name": "stdout",
     "output_type": "stream",
     "text": [
      "XBCDE\n"
     ]
    }
   ],
   "source": [
    "niska = 'ABCDE'\n",
    "''' <- Ovo su oznake viselinijskih komentara\n",
    "Ne radi \n",
    "niska[0] = 'X'\n",
    "print(niska)\n",
    "'''\n",
    "\n",
    "# Trik za izmenu karaktera niske\n",
    "listaKaraktera = list(niska)\n",
    "listaKaraktera[0] = 'X'\n",
    "niska = ''.join(listaKaraktera)\n",
    "print(niska)"
   ]
  },
  {
   "cell_type": "markdown",
   "metadata": {},
   "source": [
    "## Torke"
   ]
  },
  {
   "cell_type": "code",
   "execution_count": 136,
   "metadata": {},
   "outputs": [
    {
     "name": "stdout",
     "output_type": "stream",
     "text": [
      "(1, 2, 3, 4)\n"
     ]
    }
   ],
   "source": [
    "torka = (1, 2, 3, 4)\n",
    "print(torka)"
   ]
  },
  {
   "cell_type": "code",
   "execution_count": 225,
   "metadata": {},
   "outputs": [
    {
     "name": "stdout",
     "output_type": "stream",
     "text": [
      "9\n"
     ]
    }
   ],
   "source": [
    "torka = (7, 3, 9, 2)\n",
    "print(torka[2])"
   ]
  },
  {
   "cell_type": "markdown",
   "metadata": {},
   "source": [
    "## Pseudoslučajni brojevi"
   ]
  },
  {
   "cell_type": "code",
   "execution_count": 137,
   "metadata": {},
   "outputs": [
    {
     "name": "stdout",
     "output_type": "stream",
     "text": [
      "0.44220749995053255\n"
     ]
    }
   ],
   "source": [
    "import random\n",
    "x = random.random()\n",
    "print(x)"
   ]
  },
  {
   "cell_type": "code",
   "execution_count": 156,
   "metadata": {},
   "outputs": [
    {
     "name": "stdout",
     "output_type": "stream",
     "text": [
      "0.5703946386571607\n"
     ]
    }
   ],
   "source": [
    "import random\n",
    "x = random()\n",
    "print(x)"
   ]
  },
  {
   "cell_type": "code",
   "execution_count": 159,
   "metadata": {},
   "outputs": [
    {
     "name": "stdout",
     "output_type": "stream",
     "text": [
      "3\n"
     ]
    }
   ],
   "source": [
    "import random\n",
    "x = random.randrange(0, 10) # [0, 10)\n",
    "print(x)"
   ]
  },
  {
   "cell_type": "code",
   "execution_count": 160,
   "metadata": {},
   "outputs": [
    {
     "name": "stdout",
     "output_type": "stream",
     "text": [
      "10000\n"
     ]
    }
   ],
   "source": [
    "lista = [10, 100, 1000, 10000]\n",
    "izabrani = random.choice(lista)\n",
    "print(izabrani)"
   ]
  },
  {
   "cell_type": "code",
   "execution_count": 161,
   "metadata": {},
   "outputs": [
    {
     "name": "stdout",
     "output_type": "stream",
     "text": [
      "[10, 100, 1000]\n"
     ]
    }
   ],
   "source": [
    "lista = [10, 100, 1000, 10000]\n",
    "podskup = random.sample(lista, 3)\n",
    "print(podskup)"
   ]
  },
  {
   "cell_type": "code",
   "execution_count": 162,
   "metadata": {},
   "outputs": [
    {
     "name": "stdout",
     "output_type": "stream",
     "text": [
      "{1, 2, 3, 4}\n"
     ]
    }
   ],
   "source": [
    "skup = set([1, 2, 3, 4])\n",
    "print(skup)"
   ]
  },
  {
   "cell_type": "markdown",
   "metadata": {},
   "source": [
    "## Mape (Dictionary, Dict)"
   ]
  },
  {
   "cell_type": "code",
   "execution_count": 144,
   "metadata": {},
   "outputs": [
    {
     "name": "stdout",
     "output_type": "stream",
     "text": [
      "{'a': 1, 'b': 2}\n"
     ]
    }
   ],
   "source": [
    "mapa = {\n",
    "    'a': 1,\n",
    "    'b': 2\n",
    "}\n",
    "\n",
    "print(mapa)"
   ]
  },
  {
   "cell_type": "code",
   "execution_count": 145,
   "metadata": {},
   "outputs": [
    {
     "name": "stdout",
     "output_type": "stream",
     "text": [
      "1\n"
     ]
    }
   ],
   "source": [
    "mapa = {\n",
    "    'a': 1,\n",
    "    'b': 2\n",
    "}\n",
    "\n",
    "print(mapa['a'])"
   ]
  },
  {
   "cell_type": "code",
   "execution_count": 146,
   "metadata": {},
   "outputs": [
    {
     "name": "stdout",
     "output_type": "stream",
     "text": [
      "10\n"
     ]
    }
   ],
   "source": [
    "mapa = {}\n",
    "# ili\n",
    "mapa = dict([])\n",
    "\n",
    "# Dodavanje elemenata u mapu\n",
    "mapa['a'] = 10\n",
    "print(mapa['a'])"
   ]
  },
  {
   "cell_type": "code",
   "execution_count": 227,
   "metadata": {},
   "outputs": [
    {
     "name": "stdout",
     "output_type": "stream",
     "text": [
      "{'b': 2}\n"
     ]
    }
   ],
   "source": [
    "mapa = {\n",
    "    'a': 1,\n",
    "    'b': 2\n",
    "}\n",
    "\n",
    "# Uklanjanje elemenata mape\n",
    "del mapa['a']\n",
    "print(mapa)"
   ]
  },
  {
   "cell_type": "code",
   "execution_count": 147,
   "metadata": {},
   "outputs": [
    {
     "name": "stdout",
     "output_type": "stream",
     "text": [
      "{'v': ['a', 'b', 'c']}\n"
     ]
    }
   ],
   "source": [
    "g = {\n",
    "    'v': ['a','b','c']\n",
    "}\n",
    "\n",
    "print(g)"
   ]
  },
  {
   "cell_type": "code",
   "execution_count": 169,
   "metadata": {},
   "outputs": [
    {
     "name": "stdout",
     "output_type": "stream",
     "text": [
      "a: 1\n",
      "b: 2\n",
      "dict_items([('a', 1), ('b', 2)])\n"
     ]
    }
   ],
   "source": [
    "mapa = {\n",
    "    'a': 1,\n",
    "    'b': 2\n",
    "}\n",
    "\n",
    "# Iteracija kroz elemente mape\n",
    "for (kljuc, vrednost) in mapa.items():\n",
    "    print('{}: {}'.format(kljuc, vrednost))\n",
    "    \n",
    "print(mapa.items())"
   ]
  },
  {
   "cell_type": "code",
   "execution_count": 229,
   "metadata": {},
   "outputs": [
    {
     "name": "stdout",
     "output_type": "stream",
     "text": [
      "2.0\n",
      "3\n",
      "5\n"
     ]
    }
   ],
   "source": [
    "import math\n",
    "\n",
    "print(math.sqrt(4))\n",
    "print(math.ceil(2.3))\n",
    "print(math.floor(5.3))\n",
    "# ..."
   ]
  },
  {
   "cell_type": "markdown",
   "metadata": {},
   "source": [
    "## Funkcije"
   ]
  },
  {
   "cell_type": "code",
   "execution_count": 170,
   "metadata": {},
   "outputs": [
    {
     "data": {
      "text/plain": [
       "3"
      ]
     },
     "execution_count": 170,
     "metadata": {},
     "output_type": "execute_result"
    }
   ],
   "source": [
    "def saberi(a, b, c=0):\n",
    "    return a + b + c\n",
    "\n",
    "saberi(1,2)"
   ]
  },
  {
   "cell_type": "code",
   "execution_count": 233,
   "metadata": {},
   "outputs": [
    {
     "name": "stdout",
     "output_type": "stream",
     "text": [
      "6.7 10\n"
     ]
    }
   ],
   "source": [
    "# Funkcija moze vratiti vise argumenata kroz strukturu tuple\n",
    "def minimum_i_maksimum(a, b):\n",
    "    minimum = min(a,b)\n",
    "    maksimum = max(a,b)\n",
    "    return (minimum, maksimum)\n",
    "\n",
    "a = 10\n",
    "b = 6.7\n",
    "\n",
    "(mini, maksi) = minimum_i_maksimum(a, b)\n",
    "print(mini, maksi)"
   ]
  },
  {
   "cell_type": "code",
   "execution_count": 244,
   "metadata": {},
   "outputs": [
    {
     "name": "stdout",
     "output_type": "stream",
     "text": [
      "[1, 3, 5, 7, 9, 11, 13, 15, 17, 19]\n",
      "1 3 5\n"
     ]
    }
   ],
   "source": [
    "# Funkcija moze vratiti niz\n",
    "def niz_neparnih():\n",
    "    return [1, 3, 5, 7, 9, 11, 13, 15, 17, 19]\n",
    "\n",
    "svi_neparni = niz_neparnih()\n",
    "[prvi, drugi, treci] = niz_neparnih()[:3]\n",
    "\n",
    "print(svi_neparni)\n",
    "print(prvi, drugi, treci)"
   ]
  },
  {
   "cell_type": "markdown",
   "metadata": {},
   "source": [
    "## Klase i objekti"
   ]
  },
  {
   "cell_type": "code",
   "execution_count": 245,
   "metadata": {},
   "outputs": [
    {
     "name": "stdout",
     "output_type": "stream",
     "text": [
      "Napravljeno je novo vozilo!\n"
     ]
    }
   ],
   "source": [
    "class Vozilo:\n",
    "    def __init__(self): # Konstruktor. Svi metodi klase za prvi argument imaju \"self\", kao referencu na objekat\n",
    "        print('Napravljeno je novo vozilo!')\n",
    "        \n",
    "# Instanciranje objekta klase Vozilo\n",
    "# \"Self\" se pri pozivu ne navodi ni u konstruktoru ni u drugim metodima\n",
    "vozilo1 = Vozilo() \n"
   ]
  },
  {
   "cell_type": "code",
   "execution_count": 175,
   "metadata": {},
   "outputs": [
    {
     "name": "stdout",
     "output_type": "stream",
     "text": [
      "Napravljeno je novo vozilo sa registarskim brojem BG-123-AB!\n"
     ]
    }
   ],
   "source": [
    "class Vozilo:\n",
    "    def __init__(self, registarski_broj):\n",
    "        print('Napravljeno je novo vozilo sa registarskim brojem {}!'.format(registarski_broj))\n",
    "        self.registarski_broj = registarski_broj # Lokalne promenljive klase se dodeljuju na self\n",
    "        \n",
    "vozilo1 = Vozilo('BG-123-AB')"
   ]
  },
  {
   "cell_type": "code",
   "execution_count": 178,
   "metadata": {},
   "outputs": [
    {
     "name": "stdout",
     "output_type": "stream",
     "text": [
      "Napravljeno je novo vozilo sa registarskim brojem BG-123-AB!\n",
      "Vozilo: BG-123-AB\n"
     ]
    }
   ],
   "source": [
    "class Vozilo:\n",
    "    def __init__(self, registarski_broj):\n",
    "        print('Napravljeno je novo vozilo sa registarskim brojem {}!'.format(registarski_broj))\n",
    "        self.registarski_broj = registarski_broj\n",
    "        \n",
    "    def __str__(self): # Metod vraca nisku koja se ispisuje prilikom ispisa objekta (toString metod u drugim jezicima)\n",
    "        return 'Vozilo: {}'.format(self.registarski_broj)\n",
    "        \n",
    "vozilo1 = Vozilo('BG-123-AB')\n",
    "print(vozilo1)\n",
    "        "
   ]
  },
  {
   "cell_type": "code",
   "execution_count": 179,
   "metadata": {},
   "outputs": [
    {
     "name": "stdout",
     "output_type": "stream",
     "text": [
      "Napravljeno je novo vozilo sa registarskim brojem BG-123-AB!\n",
      "Vozilo: BG-123-AB\n",
      "BG-234-BC\n"
     ]
    }
   ],
   "source": [
    "class Vozilo:\n",
    "    def __init__(self, registarski_broj):\n",
    "        print('Napravljeno je novo vozilo sa registarskim brojem {}!'.format(registarski_broj))\n",
    "        self.registarski_broj = registarski_broj\n",
    "        \n",
    "    def __str__(self):\n",
    "        return 'Vozilo: {}'.format(self.registarski_broj)\n",
    "    \n",
    "    def vrati_registarski_broj(self): # Setter\n",
    "        return self.registarski_broj\n",
    "    \n",
    "    def postavi_registarski_broj(self, novi_registarski_broj): # Getter\n",
    "        self.registarski_broj = novi_registarski_broj\n",
    "        \n",
    "vozilo1 = Vozilo('BG-123-AB')\n",
    "print(vozilo1)\n",
    "vozilo1.postavi_registarski_broj('BG-234-BC') # Pozivanje setter-a\n",
    "print(vozilo1.vrati_registarski_broj()) # Pozivanje getter-a\n"
   ]
  },
  {
   "cell_type": "code",
   "execution_count": 180,
   "metadata": {},
   "outputs": [
    {
     "name": "stdout",
     "output_type": "stream",
     "text": [
      "Napravljeno je novo vozilo sa registarskim brojem BG-123-AB!\n",
      "None\n"
     ]
    }
   ],
   "source": [
    "class Vozilo:\n",
    "    def __init__(self, registarski_broj):\n",
    "        print('Napravljeno je novo vozilo sa registarskim brojem {}!'.format(registarski_broj))\n",
    "        self.registarski_broj = registarski_broj\n",
    "        \n",
    "    def __str__(self):\n",
    "        return 'Vozilo: {}'.format(self.registarski_broj)\n",
    "    \n",
    "    def vrati_registarski_broj(self):\n",
    "        return self.registarski_broj\n",
    "    \n",
    "    def postavi_registarski_broj(self, novi_registarski_broj):\n",
    "        self.registarski_broj = novi_registarski_broj\n",
    "        \n",
    "    # Virtuelni metod\n",
    "    def vrati_tip_vozila(self):\n",
    "        pass\n",
    "        \n",
    "vozilo1 = Vozilo('BG-123-AB')\n",
    "print(vozilo1.vrati_tip_vozila())"
   ]
  },
  {
   "cell_type": "code",
   "execution_count": 182,
   "metadata": {},
   "outputs": [
    {
     "name": "stdout",
     "output_type": "stream",
     "text": [
      "Napravljeno je novo vozilo sa registarskim brojem BG-123-AB!\n",
      "None\n",
      "Napravljeno je novo vozilo sa registarskim brojem BG-234-BC!\n",
      "Automobil\n"
     ]
    }
   ],
   "source": [
    "class Vozilo:\n",
    "    def __init__(self, registarski_broj):\n",
    "        print('Napravljeno je novo vozilo sa registarskim brojem {}!'.format(registarski_broj))\n",
    "        self.registarski_broj = registarski_broj\n",
    "        \n",
    "    def __str__(self):\n",
    "        return 'Vozilo: {}'.format(self.registarski_broj)\n",
    "    \n",
    "    def vrati_registarski_broj(self):\n",
    "        return self.registarski_broj\n",
    "    \n",
    "    def postavi_registarski_broj(self, novi_registarski_broj):\n",
    "        self.registarski_broj = novi_registarski_broj\n",
    "        \n",
    "    # Virt. metod\n",
    "    def vrati_tip_vozila(self):\n",
    "        pass\n",
    "    \n",
    "# Ukoliko klasa nasledjuje drugu klasu, nasledjena klasa se navodi u zagradi pri deklaraciji podklase\n",
    "class Automobil(Vozilo): # Klasa automobil nasledjuje klasu vozilo\n",
    "    def __init__(self, registarski_broj):\n",
    "        super().__init__(registarski_broj)\n",
    "        self.tip_vozila = 'Automobil'\n",
    "        \n",
    "    def vrati_tip_vozila(self):\n",
    "        return self.tip_vozila\n",
    "        \n",
    "vozilo1 = Vozilo('BG-123-AB')\n",
    "print(vozilo1.vrati_tip_vozila())\n",
    "\n",
    "automobil1 = Automobil('BG-234-BC')\n",
    "print(automobil1.vrati_tip_vozila())"
   ]
  },
  {
   "cell_type": "code",
   "execution_count": 185,
   "metadata": {},
   "outputs": [
    {
     "name": "stdout",
     "output_type": "stream",
     "text": [
      "Napravljeno je novo vozilo sa registarskim brojem BG-123-AB!\n",
      "Napravljeno je novo vozilo sa registarskim brojem BG-234-BC!\n",
      "2\n"
     ]
    }
   ],
   "source": [
    "class Vozilo:\n",
    "    brojVozila = 0 # Staticka promenljiva\n",
    "    def __init__(self, registarski_broj):\n",
    "        print('Napravljeno je novo vozilo sa registarskim brojem {}!'.format(registarski_broj))\n",
    "        self.registarski_broj = registarski_broj\n",
    "        Vozilo.brojVozila += 1\n",
    "        \n",
    "    def __str__(self):\n",
    "        return 'Vozilo: {}'.format(self.registarski_broj)\n",
    "    \n",
    "    def vrati_registarski_broj(self):\n",
    "        return self.registarski_broj\n",
    "    \n",
    "    def postavi_registarski_broj(self, novi_registarski_broj):\n",
    "        self.registarski_broj = novi_registarski_broj\n",
    "        \n",
    "    # Virt. metod\n",
    "    def vrati_tip_vozila(self):\n",
    "        pass\n",
    "    \n",
    "class Automobil(Vozilo):\n",
    "    def __init__(self, registarski_broj):\n",
    "        super().__init__(registarski_broj)\n",
    "        self.tip_vozila = 'Automobil'\n",
    "        \n",
    "    def vrati_tip_vozila(self):\n",
    "        return self.tip_vozila\n",
    "        \n",
    "vozilo1 = Vozilo('BG-123-AB')\n",
    "automobil1 = Automobil('BG-234-BC')\n",
    "\n",
    "print(automobil1.brojVozila)"
   ]
  }
 ],
 "metadata": {
  "kernelspec": {
   "display_name": "Python 3",
   "language": "python",
   "name": "python3"
  },
  "language_info": {
   "codemirror_mode": {
    "name": "ipython",
    "version": 3
   },
   "file_extension": ".py",
   "mimetype": "text/x-python",
   "name": "python",
   "nbconvert_exporter": "python",
   "pygments_lexer": "ipython3",
   "version": "3.6.5"
  }
 },
 "nbformat": 4,
 "nbformat_minor": 2
}
