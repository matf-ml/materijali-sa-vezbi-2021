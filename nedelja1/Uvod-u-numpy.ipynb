{
 "cells": [
  {
   "cell_type": "markdown",
   "metadata": {},
   "source": [
    "# NumPy biblioteka"
   ]
  },
  {
   "cell_type": "markdown",
   "metadata": {},
   "source": [
    "**NumPy** je Python biblioteka koja podržava rad sa višedimenzionalnim nizovima, kao i brojnim matematičkim operacijama koje se mogu primeniti nad njima. Na [ovom](http://www.numpy.org/) linku se nalazi zvanična stranica biblioteke, a [ovde](https://docs.scipy.org/doc/numpy/user/quickstart.html) se može pronaći koristan tutorijal."
   ]
  },
  {
   "cell_type": "code",
   "execution_count": 1,
   "metadata": {},
   "outputs": [],
   "source": [
    "import numpy as np"
   ]
  },
  {
   "cell_type": "markdown",
   "metadata": {},
   "source": [
    "Sledeći zadaci ilustruju neke od mogućnosti NumPy bibloteke."
   ]
  },
  {
   "cell_type": "markdown",
   "metadata": {},
   "source": [
    "**1.** Kreirati niz $a$ od 3 elementa i matricu $M$ dimenzija $2 \\times 3$ čiji su elementi tipa `float32`. Ispisati oblik, veličinu, broj dimenzija i tip elemenata niza $a$, odnosno matrice $M$."
   ]
  },
  {
   "cell_type": "code",
   "execution_count": 2,
   "metadata": {},
   "outputs": [
    {
     "name": "stdout",
     "output_type": "stream",
     "text": [
      "Niz a:\n",
      "[1 2 3]\n",
      "shape = (3,)\n",
      "size = 3\n",
      "ndim = 1\n",
      "dtype = int64\n",
      "\n",
      "Matrica M:\n",
      "[[1. 2. 3.]\n",
      " [4. 5. 6.]]\n",
      "shape = (2, 3)\n",
      "size = 6\n",
      "ndim = 2\n",
      "dtype = float32\n"
     ]
    }
   ],
   "source": [
    "a = np.array([1, 2, 3])\n",
    "M = np.array([[1, 2, 3], [4, 5, 6]], dtype='float32')\n",
    "\n",
    "print('Niz a:')\n",
    "print(a)\n",
    "print('shape =', a.shape)\n",
    "print('size =', a.size)\n",
    "print('ndim =', a.ndim)\n",
    "print('dtype =', a.dtype, end='\\n\\n')\n",
    "\n",
    "print('Matrica M:')\n",
    "print(M)\n",
    "print('shape =', M.shape)\n",
    "print('size =', M.size)\n",
    "print('ndim =', M.ndim)\n",
    "print('dtype =', M.dtype)"
   ]
  },
  {
   "cell_type": "markdown",
   "metadata": {},
   "source": [
    "NumPy paket podržava podrazumevane tipove kao što su `int_`, `float_`, `bool_` i `complex_`, ali nudi mogućnost i rada sa tipovima drugačijih opsega i preciznosti poput `int8`, `int16`, `uint8`, `float32`, `float64`, `complex128`, i slično."
   ]
  },
  {
   "cell_type": "code",
   "execution_count": null,
   "metadata": {},
   "outputs": [],
   "source": []
  },
  {
   "cell_type": "markdown",
   "metadata": {},
   "source": [
    "**2.** Generisati nizove i matrice na sledeći način:\n",
    "\n",
    "* Niz $a_1$ tako što se zadaju početna i krajnja tačka sa odgovarajućim korakom.\n",
    "* Niz $a_2$ gde se zadaju početna i krajnja tačka i broj ekvidistantnih elemenata u datom intervalu.\n",
    "* Niz $a_3$ koji se sastoji samo od nula.\n",
    "* Niz $a_4$ koji sadrži brojeve iz uniformne raspodele [0, 1).\n",
    "* Matricu $M_1$ koja se sastoji samo od jedinica.\n",
    "* Jediničnu matricu $M_2$ dimenzije 3.\n",
    "* Dijagonalnu matricu $M_3$ na čijoj se glavnoj dijagonali nalaze redom brojevi 4, 3, 2 i 1.\n",
    "* Matricu $M_4$ čiji su elementi iz standardne normalne raspodele."
   ]
  },
  {
   "cell_type": "code",
   "execution_count": 3,
   "metadata": {},
   "outputs": [
    {
     "name": "stdout",
     "output_type": "stream",
     "text": [
      "a1 = [1 3 5 7 9]\n",
      "a2 = [1.  1.1 1.2 1.3 1.4 1.5 1.6 1.7 1.8 1.9 2.  2.1 2.2 2.3 2.4 2.5 2.6 2.7\n",
      " 2.8 2.9 3. ]\n",
      "a3 = [0. 0. 0. 0. 0. 0.]\n",
      "a4 = [3.00524236 2.9109637  4.30078812 2.81802691 2.81601515]\n",
      "M1 =\n",
      " [[1. 1. 1.]\n",
      " [1. 1. 1.]]\n",
      "M2 =\n",
      " [[1. 0. 0.]\n",
      " [0. 1. 0.]\n",
      " [0. 0. 1.]]\n",
      "M3 =\n",
      " [[4 0 0 0]\n",
      " [0 3 0 0]\n",
      " [0 0 2 0]\n",
      " [0 0 0 1]]\n",
      "M4 =\n",
      " [[-0.1165821  -0.1607829  -0.59030684]\n",
      " [ 0.09299698  1.14606227 -1.13026953]\n",
      " [-0.25682517  2.44852086  0.49175988]\n",
      " [ 0.69238257  0.26537287  0.31595618]]\n"
     ]
    }
   ],
   "source": [
    "a1 = np.arange(1, 10, 2)\n",
    "a2 = np.linspace(1, 3, 21)\n",
    "a3 = np.zeros(6)\n",
    "a4 = np.random.uniform(2, 5, 5)\n",
    "\n",
    "print('a1 =', a1)\n",
    "print('a2 =', a2)\n",
    "print('a3 =', a3)\n",
    "print('a4 =', a4)\n",
    "\n",
    "M1 = np.ones((2, 3))\n",
    "M2 = np.eye(3)\n",
    "M3 = np.diag([4, 3, 2, 1])\n",
    "M4 = np.random.randn(4, 3)\n",
    "\n",
    "print('M1 =\\n', M1)\n",
    "print('M2 =\\n', M2)\n",
    "print('M3 =\\n', M3)\n",
    "print('M4 =\\n', M4)"
   ]
  },
  {
   "cell_type": "markdown",
   "metadata": {},
   "source": [
    "Funkcija `np.random.randn(...)` vraća proizvoljnu vrednost iz standardne normalne raspodele $N(0, 1)$. Za generisanje proizvoljne vrednosti iz normalne raspodele $N(\\mu, \\sigma^2)$ može se koristiti izraz `sigma * np.random.randn(...) + mu` ili funkcija `np.random.normal(...)` sa parametrima $\\mu$ i $\\sigma$."
   ]
  },
  {
   "cell_type": "code",
   "execution_count": null,
   "metadata": {},
   "outputs": [],
   "source": []
  },
  {
   "cell_type": "markdown",
   "metadata": {},
   "source": [
    "**3.** Date su matrice $M_1=\\begin{bmatrix}1&3&5\\\\7&9&11\\\\13&15&17\\end{bmatrix}$ i $M_2=\\begin{bmatrix}2&4&6\\\\8&10&12\\\\14&16&18\\end{bmatrix}$. Odrediti vrednosti sledećih matrica:\n",
    "\n",
    "* $M_1 + M_2$, gde operacija $+$ označava sabiranje po koordinatama;\n",
    "* $M_1 \\cdot M_2$, gde operacija $\\cdot$ označava sabiranje po koordinatama;\n",
    "* $M_1 \\times M_2$, gde operacija $\\times$ označava matrično množenje;\n",
    "* transponovanu matricu $M_1^T$ matrice $M_1$;\n",
    "* $\\sin (M_1)$, gde se vrednost funkcije $\\sin x$ računa po koordinatama;\n",
    "* $\\exp (M_2)$, gde se vrednost funkcije $e^x$ računa po koordinatama."
   ]
  },
  {
   "cell_type": "code",
   "execution_count": 4,
   "metadata": {},
   "outputs": [
    {
     "name": "stdout",
     "output_type": "stream",
     "text": [
      "M1 + M2 =\n",
      " [[ 3  7 11]\n",
      " [15 19 23]\n",
      " [27 31 35]]\n",
      "M1 * M2 =\n",
      " [[  2  12  30]\n",
      " [ 56  90 132]\n",
      " [182 240 306]]\n",
      "M1 x M2 =\n",
      " [[ 96 114 132]\n",
      " [240 294 348]\n",
      " [384 474 564]] =\n",
      " [[ 96 114 132]\n",
      " [240 294 348]\n",
      " [384 474 564]]\n",
      "transpose(M1) =\n",
      " [[ 1  7 13]\n",
      " [ 3  9 15]\n",
      " [ 5 11 17]] =\n",
      " [[ 1  7 13]\n",
      " [ 3  9 15]\n",
      " [ 5 11 17]]\n",
      "sin(M1) =\n",
      " [[ 0.84147098  0.14112001 -0.95892427]\n",
      " [ 0.6569866   0.41211849 -0.99999021]\n",
      " [ 0.42016704  0.65028784 -0.96139749]]\n",
      "exp(M2) =\n",
      " [[7.38905610e+00 5.45981500e+01 4.03428793e+02]\n",
      " [2.98095799e+03 2.20264658e+04 1.62754791e+05]\n",
      " [1.20260428e+06 8.88611052e+06 6.56599691e+07]]\n"
     ]
    }
   ],
   "source": [
    "M1 = np.array([[1, 3, 5], [7, 9, 11], [13, 15, 17]])\n",
    "M2 = np.array([[2, 4, 6], [8, 10, 12], [14, 16, 18]])\n",
    "print('M1 + M2 =\\n', M1 + M2)\n",
    "print('M1 * M2 =\\n', M1 * M2)\n",
    "print('M1 x M2 =\\n', M1.dot(M2), '=\\n', np.dot(M1, M2))\n",
    "print('transpose(M1) =\\n', M1.T, '=\\n', M1.transpose())\n",
    "print('sin(M1) =\\n', np.sin(M1))\n",
    "print('exp(M2) =\\n', np.exp(M2))"
   ]
  },
  {
   "cell_type": "code",
   "execution_count": null,
   "metadata": {},
   "outputs": [],
   "source": []
  },
  {
   "cell_type": "markdown",
   "metadata": {},
   "source": [
    "**4.** Dati su nizovi $x = [1, 2, 3]$ i $y = [5, 6, 7]$. \n",
    "\n",
    "* Nadovezati ih po vertikali i po horizontali.\n",
    "* Odrediti njihov skalarni proizvod.\n",
    "* Odrediti maksimalni element niza *x*.\n",
    "* Odrediti minimalni element niza *y*.\n",
    "* Odrediti sve elemente niza *x* koji su veći od 1.5."
   ]
  },
  {
   "cell_type": "code",
   "execution_count": 5,
   "metadata": {},
   "outputs": [
    {
     "name": "stdout",
     "output_type": "stream",
     "text": [
      "[[1 2 3]\n",
      " [4 5 6]]\n",
      "[1 2 3 4 5 6]\n",
      "32\n",
      "1\n",
      "6\n",
      "[2 3]\n"
     ]
    }
   ],
   "source": [
    "x = np.array([1, 2, 3])\n",
    "y = np.array([4, 5, 6])\n",
    "# vertikalno nadovezivanje\n",
    "print(np.vstack((x, y)))\n",
    "# horiznotalno nadovezivanje\n",
    "print(np.hstack((x, y)))\n",
    "# skalarni proizvod\n",
    "print(np.sum(x * y))\n",
    "# minimalni element niza x\n",
    "print(np.min(x))\n",
    "# maksimalni element niza y\n",
    "print(y.max())\n",
    "#elementi niza x koji su veci od 1.5\n",
    "print(x[x > 1.5])"
   ]
  },
  {
   "cell_type": "code",
   "execution_count": null,
   "metadata": {},
   "outputs": [],
   "source": []
  },
  {
   "cell_type": "markdown",
   "metadata": {},
   "source": [
    "**5.** Date su matrice $A=\\begin{bmatrix}1&2&3\\\\4&5&6\\end{bmatrix}$ i $B=\\begin{bmatrix}1&2&3\\\\4&6&6\\end{bmatrix}$. \n",
    "\n",
    "* Proveriti da li su matrice jednake.\n",
    "* Proveriti da li su matrice jednake po svakoj koordinati.\n",
    "* Izvršiti preraspodelu elemenata matrice *A* tako da se dobije matrica $3 \\times 2$.\n",
    "* Izvršiti sravnjivanje elemenata matrice *A* tj. svodjenje matrice na niz.\n",
    "* Odrediti sumu elemenata matrice *B* koji su jednaki 6."
   ]
  },
  {
   "cell_type": "code",
   "execution_count": 6,
   "metadata": {},
   "outputs": [
    {
     "name": "stdout",
     "output_type": "stream",
     "text": [
      "False\n",
      "[[ True  True  True]\n",
      " [ True False  True]]\n",
      "[[1 2]\n",
      " [3 4]\n",
      " [5 6]]\n",
      "[1 2 3 4 5 6]\n",
      "12\n"
     ]
    }
   ],
   "source": [
    "A = np.array([[1, 2, 3], [4, 5, 6]])\n",
    "B = np.array([[1, 2, 3], [4, 6, 6]])\n",
    "\n",
    "# jendakost dve matrice\n",
    "print(np.array_equal(A, B))\n",
    "\n",
    "# jednakost po koordinatama\n",
    "print(A == B)\n",
    "\n",
    "# matrica 3x2 od matrice 2x3\n",
    "print(A.reshape(3, 2))\n",
    "\n",
    "# sravnjivanje elemenata\n",
    "print(A.flatten())\n",
    "\n",
    "# suma elemenata koji su jednaki 6\n",
    "print(np.sum(B[B == 6]))"
   ]
  },
  {
   "cell_type": "code",
   "execution_count": null,
   "metadata": {},
   "outputs": [],
   "source": []
  },
  {
   "cell_type": "markdown",
   "metadata": {},
   "source": [
    "**6.** Za $M = \\begin{bmatrix}1&2&3\\\\4&5&6\\end{bmatrix}$ i $x = [10, 20, 30]$ izračunati vrednosti $2M$, $x-3$ i $M+x$. "
   ]
  },
  {
   "cell_type": "code",
   "execution_count": 7,
   "metadata": {},
   "outputs": [
    {
     "name": "stdout",
     "output_type": "stream",
     "text": [
      "[[ 2  4  6]\n",
      " [ 8 10 12]]\n",
      "[ 7 17 27]\n",
      "[[11 22 33]\n",
      " [14 25 36]]\n"
     ]
    }
   ],
   "source": [
    "M = np.array([[1, 2, 3], [4, 5, 6]])\n",
    "x = np.array([10, 20, 30])\n",
    "print(2*M)\n",
    "print(x - 3)\n",
    "print(M + x)"
   ]
  },
  {
   "cell_type": "markdown",
   "metadata": {},
   "source": [
    "Prethodni slučajevi ukazuju na izvršavanje računskih operacija između struktura koje su različitih dimenzija. Moguće je sabirati niz ili matricu sa skalarom tako što se izvrši sabiranje po svakoj koordinati ili izvršavati sabiranje matrice dimenzije $p \\times q$ i niza od $q$ elemenata. Ova pojava se u Python jeziku naziva *broadcasting* i može se uopštiti i na slučajeve sa više dimenzija. O njoj treba voditi računa jer se neke greške u pogledu neusaglašenosti dimenzija mogu teže otkriti. "
   ]
  },
  {
   "cell_type": "code",
   "execution_count": null,
   "metadata": {},
   "outputs": [],
   "source": []
  },
  {
   "cell_type": "markdown",
   "metadata": {},
   "source": [
    "**7.** Odrediti sumu onih elemenata matrice koji su veći od njenog prosečnog elementa."
   ]
  },
  {
   "cell_type": "code",
   "execution_count": 8,
   "metadata": {},
   "outputs": [
    {
     "name": "stdout",
     "output_type": "stream",
     "text": [
      "M =\n",
      " [[0 1 2]\n",
      " [3 4 5]\n",
      " [6 7 8]]\n",
      "26\n"
     ]
    }
   ],
   "source": [
    "M = np.arange(9).reshape(3, 3)\n",
    "print('M =\\n', M)\n",
    "average = np.average(M)\n",
    "print(np.sum(M[M > average]))"
   ]
  },
  {
   "cell_type": "markdown",
   "metadata": {},
   "source": [
    "Prosečna vrednost u matrici je 4, pa je $5 + 6 + 7 + 8 = 26$."
   ]
  },
  {
   "cell_type": "code",
   "execution_count": null,
   "metadata": {},
   "outputs": [],
   "source": []
  },
  {
   "cell_type": "markdown",
   "metadata": {},
   "source": [
    "**8.** Konstruisati matricu koja na sporednoj dijagonali ima redom elemente 4, 3, 2 i 1, a na osalim pozicijama nule."
   ]
  },
  {
   "cell_type": "code",
   "execution_count": 9,
   "metadata": {},
   "outputs": [
    {
     "name": "stdout",
     "output_type": "stream",
     "text": [
      "[[0. 0. 0. 4.]\n",
      " [0. 0. 3. 0.]\n",
      " [0. 2. 0. 0.]\n",
      " [1. 0. 0. 0.]]\n"
     ]
    }
   ],
   "source": [
    "n = 4\n",
    "M = np.zeros((n, n))\n",
    "for i in range(n):\n",
    "    M[n-1-i,i] = i + 1\n",
    "print(M)"
   ]
  },
  {
   "cell_type": "code",
   "execution_count": null,
   "metadata": {},
   "outputs": [],
   "source": []
  },
  {
   "cell_type": "markdown",
   "metadata": {},
   "source": [
    "**9.**"
   ]
  },
  {
   "cell_type": "markdown",
   "metadata": {},
   "source": [
    "Neka je $M = \\begin{bmatrix}1&2&3&4\\\\5&6&7&8\\\\9&10&11&12\\end{bmatrix}$. U nastavku su dati neki primeri ispisa elemenata matrice $M$ (enumeracija počinje od 0):"
   ]
  },
  {
   "cell_type": "code",
   "execution_count": 10,
   "metadata": {},
   "outputs": [],
   "source": [
    "M = np.array([[1,2,3,4], [5,6,7,8], [9,10,11,12]])"
   ]
  },
  {
   "cell_type": "code",
   "execution_count": 11,
   "metadata": {},
   "outputs": [
    {
     "name": "stdout",
     "output_type": "stream",
     "text": [
      "Pojedinacni element: 7\n",
      "Prva vrsta: [5 6 7 8]\n",
      "Nulta kolona: [1 5 9]\n",
      "Svaki drugi element poslednje kolone: [ 4 12]\n"
     ]
    }
   ],
   "source": [
    "print('Pojedinacni element:', M[1,2])\n",
    "print('Prva vrsta:', M[1])\n",
    "print('Nulta kolona:', M[:,0])\n",
    "print('Svaki drugi element poslednje kolone:', M[::2, -1])"
   ]
  },
  {
   "cell_type": "code",
   "execution_count": 12,
   "metadata": {},
   "outputs": [
    {
     "name": "stdout",
     "output_type": "stream",
     "text": [
      "Elementi na pozicijama (1,2) i (1,3): [7 8]\n"
     ]
    }
   ],
   "source": [
    "# pozicije se generisu na osnovu prvih i drugih koordinata\n",
    "print('Elementi na pozicijama (1,2) i (1,3):', M[(1,1), (2,3)])"
   ]
  },
  {
   "cell_type": "code",
   "execution_count": null,
   "metadata": {},
   "outputs": [],
   "source": []
  },
  {
   "cell_type": "markdown",
   "metadata": {},
   "source": [
    "Neka je $M = \\begin{bmatrix}1&2&3&4&5\\\\6&7&8&9&10\\\\11&12&13&14&15\\\\16&17&18&19&20\\\\21&22&23&24&25\\end{bmatrix}$. U nastavku su dati neki primeri ispisa elemenata matrice $M$:"
   ]
  },
  {
   "cell_type": "code",
   "execution_count": 13,
   "metadata": {},
   "outputs": [],
   "source": [
    "M = np.arange(25).reshape(5, 5) + 1"
   ]
  },
  {
   "cell_type": "code",
   "execution_count": 14,
   "metadata": {},
   "outputs": [
    {
     "name": "stdout",
     "output_type": "stream",
     "text": [
      "Vrednosti od 3. do 4. elementa u nultom redu: [4 5]\n",
      "Kvadratna podmatrica reda 2 u donjem desnom uglu:\n",
      " [[19 20]\n",
      " [24 25]]\n",
      "Elementi svakog drugog reda pocev od 2. i elementi svake druge kolone:\n",
      " [[11 13 15]\n",
      " [21 23 25]]\n",
      "Elementi sa koordinatama (0,2), (1,3), (2,4): [ 3  9 15]\n"
     ]
    }
   ],
   "source": [
    "print('Vrednosti od 3. do 4. elementa u nultom redu:', M[0,3:5])\n",
    "print('Kvadratna podmatrica reda 2 u donjem desnom uglu:\\n', M[-2:,-2:])\n",
    "print('Elementi svakog drugog reda pocev od 2. i elementi svake druge kolone:\\n', M[2::2,::2])\n",
    "print('Elementi sa koordinatama (0,2), (1,3), (2,4):', M[(0,1,2),(2,3,4)])"
   ]
  },
  {
   "cell_type": "code",
   "execution_count": null,
   "metadata": {},
   "outputs": [],
   "source": []
  }
 ],
 "metadata": {
  "kernelspec": {
   "display_name": "Python 3",
   "language": "python",
   "name": "python3"
  },
  "language_info": {
   "codemirror_mode": {
    "name": "ipython",
    "version": 3
   },
   "file_extension": ".py",
   "mimetype": "text/x-python",
   "name": "python",
   "nbconvert_exporter": "python",
   "pygments_lexer": "ipython3",
   "version": "3.7.4"
  }
 },
 "nbformat": 4,
 "nbformat_minor": 2
}
