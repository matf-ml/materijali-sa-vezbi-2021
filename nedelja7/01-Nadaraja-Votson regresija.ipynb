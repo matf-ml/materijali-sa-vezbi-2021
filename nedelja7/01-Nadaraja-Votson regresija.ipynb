{
 "cells": [
  {
   "cell_type": "markdown",
   "metadata": {},
   "source": [
    "# Nadaraja-Votson regresija"
   ]
  },
  {
   "cell_type": "markdown",
   "metadata": {},
   "source": [
    "**Nadaraja-Votson** regresija je regresija koja omogućava modelovanje nelinearnih zavisnosti između ulaznih i izlaznih veličina. Osnovna ideja ovog tipa regresije je da se novoj instanci pridruži vrednost koja je \"slična\" vrednostima njenih \"okolnih\" instanci. U opštem slučaju, sve instance se mogu smatrati okolnim instancama. One instance koje su bliže polaznoj instanci imaju veći uticaj na vrednost njene ciljne promenljive, dok one koje su dalje od nje imaju manji uticaj. Stoga je vrednost ciljne promenljive za novu instancu neka vrsta težinskog proseka $y = \\frac{1}{N}\\sum_{i=1}^{i=N}{\\omega_i  y_i}$ gde vrednosti koeficijenata $\\omega_i$ zavise od korišćene funkcije rastojanja tj. sličnosti između instanci. "
   ]
  },
  {
   "cell_type": "code",
   "execution_count": 1,
   "metadata": {},
   "outputs": [],
   "source": [
    "import numpy as np\n",
    "import matplotlib.pyplot as plt"
   ]
  },
  {
   "cell_type": "code",
   "execution_count": 2,
   "metadata": {},
   "outputs": [],
   "source": [
    "np.random.seed(10)"
   ]
  },
  {
   "cell_type": "markdown",
   "metadata": {},
   "source": [
    "Gausov kernel aproksimira rastojanje imeđu instanci $x_1$ i $x_2$ funkcijom $$K_{\\sigma}(x_1, x_2) = \\frac{1}{\\sqrt{2\\pi\\sigma^2}} e ^{-\\frac{(x_1-x_2)^2}{2\\sigma^2}}$$\n",
    "\n",
    "Parametar $\\sigma^2$ se zove širina (engl. bandwidth) kernela. \n"
   ]
  },
  {
   "cell_type": "markdown",
   "metadata": {},
   "source": [
    "Dešinišimo funkciju koja računa vrednost Gausovog kernela."
   ]
  },
  {
   "cell_type": "code",
   "execution_count": 3,
   "metadata": {},
   "outputs": [],
   "source": [
    "def kernel(x1, x2, bandwidth):\n",
    "    e = np.exp(-0.5*((x1-x2)**2) / bandwidth**2)\n",
    "    return e / np.sqrt(2*np.pi*bandwidth**2)"
   ]
  },
  {
   "cell_type": "code",
   "execution_count": null,
   "metadata": {},
   "outputs": [],
   "source": []
  },
  {
   "cell_type": "markdown",
   "metadata": {},
   "source": [
    "Generišimo skup 100 tačaka sa vrednostima iz uniformne raspodele [-1, 1)."
   ]
  },
  {
   "cell_type": "code",
   "execution_count": 4,
   "metadata": {},
   "outputs": [],
   "source": [
    "N = 100\n",
    "x = np.random.uniform(-1, 1, N)"
   ]
  },
  {
   "cell_type": "code",
   "execution_count": null,
   "metadata": {},
   "outputs": [],
   "source": []
  },
  {
   "cell_type": "markdown",
   "metadata": {},
   "source": [
    "Slika ilustruje kako se kernel koristi za merenje sličnosti između instanci. Kako se porede instance (u opštem slučaju vektori) $x$ i $z$, kernel ima veće vrednosti oko $0$ sa obzirom da tu vrednost vektora $x$ biva vrlo slična vrednostima vektora $z$ (koji je svuda nula)."
   ]
  },
  {
   "cell_type": "code",
   "execution_count": 5,
   "metadata": {},
   "outputs": [
    {
     "data": {
      "text/plain": [
       "<matplotlib.collections.PathCollection at 0x11dded850>"
      ]
     },
     "execution_count": 5,
     "metadata": {},
     "output_type": "execute_result"
    },
    {
     "data": {
      "image/png": "[encoded data removed]",
      "text/plain": [
       "<Figure size 720x360 with 1 Axes>"
      ]
     },
     "metadata": {
      "needs_background": "light"
     },
     "output_type": "display_data"
    }
   ],
   "source": [
    "z = np.zeros(N)\n",
    "plt.figure(figsize=(10,5))\n",
    "plt.scatter(x, kernel(z, x, 0.1), color='aqua')"
   ]
  },
  {
   "cell_type": "code",
   "execution_count": null,
   "metadata": {},
   "outputs": [],
   "source": []
  },
  {
   "cell_type": "markdown",
   "metadata": {},
   "source": [
    "Generišimo i skup vrednosti $y$ tako da između $x$ i $y$ važi nelinearna veza."
   ]
  },
  {
   "cell_type": "code",
   "execution_count": 6,
   "metadata": {},
   "outputs": [],
   "source": [
    "y = (x+1)**2 + np.random.randn(N)"
   ]
  },
  {
   "cell_type": "code",
   "execution_count": 7,
   "metadata": {},
   "outputs": [
    {
     "data": {
      "text/plain": [
       "<matplotlib.collections.PathCollection at 0x11dded750>"
      ]
     },
     "execution_count": 7,
     "metadata": {},
     "output_type": "execute_result"
    },
    {
     "data": {
      "image/png": "[encoded data removed]",
      "text/plain": [
       "<Figure size 432x288 with 1 Axes>"
      ]
     },
     "metadata": {
      "needs_background": "light"
     },
     "output_type": "display_data"
    }
   ],
   "source": [
    "plt.scatter(x, y)"
   ]
  },
  {
   "cell_type": "markdown",
   "metadata": {},
   "source": [
    "Dalje želimo da aproksimiramo modelom Nadaraja-Votoson regresije polaznu zavisnost."
   ]
  },
  {
   "cell_type": "code",
   "execution_count": null,
   "metadata": {},
   "outputs": [],
   "source": []
  },
  {
   "cell_type": "markdown",
   "metadata": {},
   "source": [
    "Model Nadaraja-Votson regresije određen je jednačinom\n",
    "$$\n",
    "y_{new}=\\frac{\\sum_{i=1}^{N} K_\\sigma (x_{new}, x_i) \\cdot y_i}{\\sum_{j=1}^{N} K_\\sigma(x_{new},  x_j)}\n",
    "$$"
   ]
  },
  {
   "cell_type": "code",
   "execution_count": null,
   "metadata": {},
   "outputs": [],
   "source": []
  },
  {
   "cell_type": "markdown",
   "metadata": {},
   "source": [
    "Funkcija `estimator` izračunava vrednost ciljne promenljive za novu instancu $n_{new}$."
   ]
  },
  {
   "cell_type": "code",
   "execution_count": 8,
   "metadata": {},
   "outputs": [],
   "source": [
    "def estimator(x_new, x, y, bandwidth):\n",
    "    kernel_value = kernel(x, x_new, bandwidth)\n",
    "    return np.sum(kernel_value * y) / np.sum(kernel_value)"
   ]
  },
  {
   "cell_type": "code",
   "execution_count": null,
   "metadata": {},
   "outputs": [],
   "source": []
  },
  {
   "cell_type": "markdown",
   "metadata": {},
   "source": [
    "U ovom primeru ćemo peške implementirati i funkcije za podelu podataka na skup za treniranje i skup za testiranje."
   ]
  },
  {
   "cell_type": "markdown",
   "metadata": {},
   "source": [
    "Funkcija `randomize` nasumično meša elemente skupova `x` i `y` ali tako da vrednosti ostanu uparene. "
   ]
  },
  {
   "cell_type": "code",
   "execution_count": 9,
   "metadata": {},
   "outputs": [],
   "source": [
    "def randomize(x, y):\n",
    "    indexes = np.arange(x.size)\n",
    "    np.random.shuffle(indexes)\n",
    "    return x[indexes], y[indexes]"
   ]
  },
  {
   "cell_type": "code",
   "execution_count": null,
   "metadata": {},
   "outputs": [],
   "source": []
  },
  {
   "cell_type": "markdown",
   "metadata": {},
   "source": [
    "Funkcija `split_datasets` deli skupove `x` i `y` u zadatoj razmeri. Redosled skupova koji se vraćaju je nešto drugačije od korišćene `train_test_split` metode biblioteke `scikit-learn`."
   ]
  },
  {
   "cell_type": "code",
   "execution_count": 10,
   "metadata": {},
   "outputs": [],
   "source": [
    "def split_datasets(x, y, ratio=2/3):\n",
    "    \n",
    "    x, y = randomize(x, y)\n",
    "    \n",
    "    N = x.size\n",
    "    \n",
    "    # prvi deo skupa cemo zvati train_validation skup\n",
    "    x_train_validation = x[:int(N*ratio)]\n",
    "    y_train_validation = y[:int(N*ratio)]\n",
    "    \n",
    "    # drugi deo skupa cemo zvati test skup\n",
    "    x_test = x[int(N*ratio):]\n",
    "    y_test = y[int(N*ratio):]\n",
    "    \n",
    "    return x_train_validation, y_train_validation, x_test, y_test"
   ]
  },
  {
   "cell_type": "code",
   "execution_count": null,
   "metadata": {},
   "outputs": [],
   "source": []
  },
  {
   "cell_type": "markdown",
   "metadata": {},
   "source": [
    "Funkcija `mse` računa srednjekvadratnu grešku na osnovu prosleđenih reziduala."
   ]
  },
  {
   "cell_type": "code",
   "execution_count": 11,
   "metadata": {},
   "outputs": [],
   "source": [
    "def mse(residuals):\n",
    "    residuals = np.array(residuals)\n",
    "    return np.mean(residuals**2)"
   ]
  },
  {
   "cell_type": "code",
   "execution_count": null,
   "metadata": {},
   "outputs": [],
   "source": []
  },
  {
   "cell_type": "markdown",
   "metadata": {},
   "source": [
    "Delimo podatke napisanom funkcijom na skup za treniranje i validaciju i skup za testiranje. "
   ]
  },
  {
   "cell_type": "code",
   "execution_count": 12,
   "metadata": {},
   "outputs": [],
   "source": [
    "x_train_validation, y_train_validation, x_test, y_test = split_datasets(x, y)"
   ]
  },
  {
   "cell_type": "code",
   "execution_count": 13,
   "metadata": {},
   "outputs": [
    {
     "name": "stdout",
     "output_type": "stream",
     "text": [
      "Broj instanci skupa za treniranje i validaciju:  66\n",
      "Broj instanci skupa za testiranje:  34\n"
     ]
    }
   ],
   "source": [
    "print('Broj instanci skupa za treniranje i validaciju: ', x_train_validation.size)\n",
    "print('Broj instanci skupa za testiranje: ', x_test.size)"
   ]
  },
  {
   "cell_type": "code",
   "execution_count": null,
   "metadata": {},
   "outputs": [],
   "source": []
  },
  {
   "cell_type": "markdown",
   "metadata": {},
   "source": [
    "Dalje želimo da odredimo optimalnu vrednost širine Gausovog kernela. Ovaj postupak ćemo izvesti korišćenjem takozvane `live-one-out` ocene koja je podesna za manje skupove instanci. \n",
    "<img src='assets/leave_one_out_cross-validation.png'>\n",
    "\n",
    "Naime, iz skupa za treniranje i validaciju biraćemo jednu po jednu instancu za validacioni skup, a na preostalim instancama ćemo trenirati model. To bi značilo da ćemo, ako imamo 66 instanci u skupu za treniranje i validaciju, postupak ponovi 66 puta. U prvoj koraku ćemo iskoristiti prvu instancu za validaciju, a preostale za treniranje modela, u drugom koraku ćemo iskoristiti drugu instancu za validaciju, a preostale za treniranje, i tako redom. \n",
    "\n",
    "Ovaj pristup nam je zgodan kada raspolažemo malim skupom podataka jer možemo da iskoristimo maksimalan broj instanci za treniranje i propisno obavimo ocenu na skupu za validaciju. "
   ]
  },
  {
   "cell_type": "markdown",
   "metadata": {},
   "source": [
    "Niz mogućih vrednosti širine kernela:"
   ]
  },
  {
   "cell_type": "code",
   "execution_count": 14,
   "metadata": {},
   "outputs": [],
   "source": [
    "bandwidths = np.array([0.01, 0.1, 0.5, 1, 5, 10, 100])"
   ]
  },
  {
   "cell_type": "code",
   "execution_count": 15,
   "metadata": {},
   "outputs": [],
   "source": [
    "# niz sa greškama modela za različite izbore širine kernela\n",
    "errors = []\n",
    "\n",
    "# za svaku vrednost sirine kernela\n",
    "for bandwidth in bandwidths:\n",
    "    \n",
    "    # postavljamo niz gresaka leave-one-out validacije na nula\n",
    "    # duzina ovog niza odgovara broju instanci u skup\n",
    "    leave_one_out_errors = np.zeros(x_train_validation.size)\n",
    "    \n",
    "    # svaku instancu x_train_validation[i] \n",
    "    for i in range(0, x_train_validation.size):\n",
    "        \n",
    "        # prvo izbacujemo iz skupa podataka kako bismo dobili trening skupove\n",
    "        # x_fit i y_fit su skupovi instanci BEZ i-te instance\n",
    "        x_fit = np.delete(x_train_validation, i)\n",
    "        y_fit = np.delete(y_train_validation, i)\n",
    "        \n",
    "        # zatim, predvidjamo njenu vrednost na osnovu skupova x_fit, y_fit\n",
    "        y_predicted = estimator(x_train_validation[i], x_fit, y_fit, bandwidth)\n",
    "        \n",
    "        # zatim odredjujemo gresku koju smo napravili i upisujemo je u vektor reziduala\n",
    "        error = y_train_validation[i] - y_predicted\n",
    "        leave_one_out_errors[i] = error\n",
    "        \n",
    "    # kada zavrsimo sa leave-one-out ocenom, racunamo srednjekvadratnu gresku i upisujemo je u listu sa greskama    \n",
    "    error = mse(leave_one_out_errors)\n",
    "    \n",
    "    errors.append(error)"
   ]
  },
  {
   "cell_type": "code",
   "execution_count": 16,
   "metadata": {},
   "outputs": [
    {
     "data": {
      "text/plain": [
       "[1.6110351716883593,\n",
       " 1.030223469532878,\n",
       " 1.1550712143330568,\n",
       " 1.6107074891400457,\n",
       " 2.059605746381693,\n",
       " 2.078721917304861,\n",
       " 2.0851095594623366]"
      ]
     },
     "execution_count": 16,
     "metadata": {},
     "output_type": "execute_result"
    }
   ],
   "source": [
    "errors"
   ]
  },
  {
   "cell_type": "code",
   "execution_count": 17,
   "metadata": {},
   "outputs": [
    {
     "data": {
      "text/plain": [
       "0.1"
      ]
     },
     "execution_count": 17,
     "metadata": {},
     "output_type": "execute_result"
    }
   ],
   "source": [
    "# Biramo širinu kernela za koju smo dobili najmanju grešku\n",
    "best_bandwidth = bandwidths[np.argmin(errors)]\n",
    "best_bandwidth"
   ]
  },
  {
   "cell_type": "code",
   "execution_count": null,
   "metadata": {},
   "outputs": [],
   "source": []
  },
  {
   "cell_type": "markdown",
   "metadata": {},
   "source": [
    "Vršimo testiranje na test skupu za odabranu širinu kernela. Ovaj postupak ćemo, takođe, proći peške. "
   ]
  },
  {
   "cell_type": "code",
   "execution_count": 18,
   "metadata": {},
   "outputs": [],
   "source": [
    "y_predictions = []\n",
    "test_errors = []\n",
    "\n",
    "# Prolazimo kroz test skup instancu po instancu\n",
    "for x_new, y_new in zip(x_test, y_test):\n",
    "    # vrsimo predikciju za instancu x_new\n",
    "    y_predicted = estimator(x_new, x_train_validation, y_train_validation, best_bandwidth)\n",
    "    \n",
    "    # upisujemo predikciju u niz sa predikcijama\n",
    "    y_predictions.append(y_predicted)\n",
    "    \n",
    "    # i belezimo gresku, odnosno, pamtimo reziduale\n",
    "    error = y_predicted - y_new\n",
    "    \n",
    "    test_errors.append(error)"
   ]
  },
  {
   "cell_type": "code",
   "execution_count": 19,
   "metadata": {},
   "outputs": [
    {
     "data": {
      "text/plain": [
       "1.094407857301028"
      ]
     },
     "execution_count": 19,
     "metadata": {},
     "output_type": "execute_result"
    }
   ],
   "source": [
    "# računamo srednjekvadratnu grešku na test skupu\n",
    "test_error = mse(test_errors)\n",
    "test_error"
   ]
  },
  {
   "cell_type": "code",
   "execution_count": null,
   "metadata": {},
   "outputs": [],
   "source": []
  },
  {
   "cell_type": "code",
   "execution_count": 20,
   "metadata": {},
   "outputs": [
    {
     "data": {
      "text/plain": [
       "<matplotlib.collections.PathCollection at 0x11e1b6dd0>"
      ]
     },
     "execution_count": 20,
     "metadata": {},
     "output_type": "execute_result"
    },
    {
     "data": {
      "image/png": "[encoded data removed]",
      "text/plain": [
       "<Figure size 432x288 with 1 Axes>"
      ]
     },
     "metadata": {
      "needs_background": "light"
     },
     "output_type": "display_data"
    }
   ],
   "source": [
    "# Iscrtavamo instance iz skupa za testiranje\n",
    "plt.scatter(x_test, y_test, color='blue')\n",
    "\n",
    "# Iscrtavamo tacke ciljne funkcije\n",
    "plt.scatter(x_test, (x_test + 1)**2, color='red')\n",
    "\n",
    "# Iscrtavamo predikcije za instance iz skupa za testiranje\n",
    "plt.scatter(x_test, y_predictions, color='orange')"
   ]
  },
  {
   "cell_type": "code",
   "execution_count": null,
   "metadata": {},
   "outputs": [],
   "source": []
  }
 ],
 "metadata": {
  "kernelspec": {
   "display_name": "Python 3",
   "language": "python",
   "name": "python3"
  },
  "language_info": {
   "codemirror_mode": {
    "name": "ipython",
    "version": 3
   },
   "file_extension": ".py",
   "mimetype": "text/x-python",
   "name": "python",
   "nbconvert_exporter": "python",
   "pygments_lexer": "ipython3",
   "version": "3.7.6"
  }
 },
 "nbformat": 4,
 "nbformat_minor": 2
}
