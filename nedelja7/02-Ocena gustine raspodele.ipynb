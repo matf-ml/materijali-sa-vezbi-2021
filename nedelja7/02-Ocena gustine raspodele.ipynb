{
 "cells": [
  {
   "cell_type": "markdown",
   "metadata": {},
   "source": [
    "# Ocena gustine respodele"
   ]
  },
  {
   "cell_type": "markdown",
   "metadata": {},
   "source": [
    "Ocena gustine raspodela pomoću kernela (engl. Kernel Density Estimation) je zadatak u kojem se pokušava sa ocenom gustine raspodele neke slučajne veličine korišćenjem kernela. Na [adresi](https://mathisonian.github.io/kde/) se nalazi sjajan animirani tutorial koji približava ovu temu pa je predlog prvo njega detaljno izučiti. \n",
    "\n",
    "Nadalje sledi primer korišćenja bibliotečke `KernelDensity` metode u oceni gustine geografske raspodele dveju vrsta, šumskog miša i lenjivca.   "
   ]
  },
  {
   "cell_type": "markdown",
   "metadata": {},
   "source": [
    "Akteri priče u slikama: \n",
    "<img src='assets/forest_rat.jpg'> <img src='assets/sloth.jpg'>"
   ]
  },
  {
   "cell_type": "code",
   "execution_count": null,
   "metadata": {},
   "outputs": [],
   "source": []
  },
  {
   "cell_type": "code",
   "execution_count": 1,
   "metadata": {},
   "outputs": [],
   "source": [
    "import numpy as np\n",
    "from matplotlib import pyplot as plt"
   ]
  },
  {
   "cell_type": "code",
   "execution_count": 2,
   "metadata": {},
   "outputs": [],
   "source": [
    "from sklearn import datasets\n",
    "from sklearn import linear_model\n",
    "from sklearn import neighbors\n",
    "from sklearn import model_selection"
   ]
  },
  {
   "cell_type": "code",
   "execution_count": null,
   "metadata": {},
   "outputs": [],
   "source": []
  },
  {
   "cell_type": "markdown",
   "metadata": {},
   "source": [
    "Pošto želimo da damo prostornu ocenu gustine raspodele, za iscrtavanje podataka na 2D mapi biće nam potrebna Python biblioteka Basemap. \n",
    "\n",
    "Više o samoj biblioteci se može pročitati na [zvaničnom sajtu](https://matplotlib.org/basemap/)."
   ]
  },
  {
   "cell_type": "markdown",
   "metadata": {},
   "source": [
    "<div class='alert alert-danger'>\n",
    "    U skladu sa smernicama dostupnim na <a href='https://anaconda.org/anaconda/basemap'>zvaničnom Anaconda sajtu</a> biblioteka Basemap se može intalirati komandom <i>conda install -c anaconda  basemap</i>. Nažalost, novija verzija biblioteke, u zavisnosti od sistema koji koristite, može imati bag koji se tiče postavljanja odgovarajuće sistemske promenljive PROJ_LIB. Ukoliko se prilikom učitavanja Basemap paketa prikaže ovo obaveštenje, kod koji se nalazi u sledećoj ćeliji može pomoći da se ova greška prevaziđe.\n",
    "</div>"
   ]
  },
  {
   "cell_type": "code",
   "execution_count": 3,
   "metadata": {},
   "outputs": [
    {
     "name": "stdout",
     "output_type": "stream",
     "text": [
      "env: PROJ_LIB=/opt/anaconda3/share/proj\n"
     ]
    }
   ],
   "source": [
    "# conda_prefix = %env CONDA_PREFIX\n",
    "# %env PROJ_LIB = $conda_prefix/share/proj"
   ]
  },
  {
   "cell_type": "code",
   "execution_count": 4,
   "metadata": {},
   "outputs": [],
   "source": [
    "from mpl_toolkits.basemap import Basemap"
   ]
  },
  {
   "cell_type": "code",
   "execution_count": null,
   "metadata": {},
   "outputs": [],
   "source": []
  },
  {
   "cell_type": "markdown",
   "metadata": {},
   "source": [
    "Učitavamo [skup podataka](http://scikit-learn.org/stable/modules/generated/sklearn.datasets.fetch_species_distributions.html)  u kojem se nalaze informacije o staništima šumskog miša i lenjivca za 6 različitih lokaliteta. U njegovom `train` delu se nalaze podaci za treniranje, a u `test` delu podaci za testiranje modela. Pošto se mi nećemo baviti podešavanjem hiperparametara modela i evaluacijom, koristićemo ceo skup podataka. Navođenje informacija o skupu za treniranje i testiranje će biti u svrhe upoznavanja sa podacima koji se u njima nalaze. Učitani podaci sadrže još neka zanimljiva svojstva i metode koje ćemo iskoristiti za vizuelizaciju."
   ]
  },
  {
   "cell_type": "code",
   "execution_count": 5,
   "metadata": {},
   "outputs": [],
   "source": [
    "data = datasets.fetch_species_distributions()"
   ]
  },
  {
   "cell_type": "code",
   "execution_count": 6,
   "metadata": {},
   "outputs": [
    {
     "data": {
      "text/plain": [
       "(1624,)"
      ]
     },
     "execution_count": 6,
     "metadata": {},
     "output_type": "execute_result"
    }
   ],
   "source": [
    "data.train.shape"
   ]
  },
  {
   "cell_type": "code",
   "execution_count": 7,
   "metadata": {},
   "outputs": [
    {
     "data": {
      "text/plain": [
       "(620,)"
      ]
     },
     "execution_count": 7,
     "metadata": {},
     "output_type": "execute_result"
    }
   ],
   "source": [
    "data.test.shape"
   ]
  },
  {
   "cell_type": "markdown",
   "metadata": {},
   "source": [
    "Pojedinačni elementi ovih nizova su trojke sa imenom vrste, geografskom dužinom i geografskom širinom na kojoj se vrsta nastanjuje. *microryzomys minutus* je latinski naziv za šumskog miša, a *bradypus variegatus* za lenjivca. "
   ]
  },
  {
   "cell_type": "code",
   "execution_count": 8,
   "metadata": {},
   "outputs": [
    {
     "data": {
      "text/plain": [
       "array([(b'bradypus_variegatus_0', -77.95  , -1.4833),\n",
       "       (b'bradypus_variegatus_0', -79.15  , -0.25  ),\n",
       "       (b'bradypus_variegatus_0', -83.7   , 10.9333),\n",
       "       (b'bradypus_variegatus_0', -84.5333, 13.95  ),\n",
       "       (b'bradypus_variegatus_0', -84.4333, 12.15  ),\n",
       "       (b'bradypus_variegatus_0', -83.7667, 12.15  ),\n",
       "       (b'bradypus_variegatus_0', -82.4   ,  9.3   ),\n",
       "       (b'bradypus_variegatus_0', -82.5167,  9.45  ),\n",
       "       (b'bradypus_variegatus_0', -82.7833,  9.6   ),\n",
       "       (b'bradypus_variegatus_0', -79.9833,  9.25  )],\n",
       "      dtype=[('species', 'S22'), ('dd long', '<f4'), ('dd lat', '<f4')])"
      ]
     },
     "execution_count": 8,
     "metadata": {},
     "output_type": "execute_result"
    }
   ],
   "source": [
    "data.train[250:260]"
   ]
  },
  {
   "cell_type": "code",
   "execution_count": null,
   "metadata": {},
   "outputs": [],
   "source": []
  },
  {
   "cell_type": "markdown",
   "metadata": {},
   "source": [
    "Izdvajamo informacije o geografskoj dužini i širini staništa u zaseban niz."
   ]
  },
  {
   "cell_type": "code",
   "execution_count": 10,
   "metadata": {},
   "outputs": [],
   "source": [
    "latlong = np.vstack([data.train['dd lat'], data.train['dd long']]).transpose()"
   ]
  },
  {
   "cell_type": "markdown",
   "metadata": {},
   "source": [
    "Kodiramo vrste vrednostima `0` i `1`: *microryzomys minutus* će dobiti vrednost `1`, a *bradypus variegatus* vrednost `0`."
   ]
  },
  {
   "cell_type": "code",
   "execution_count": 11,
   "metadata": {},
   "outputs": [],
   "source": [
    "species = np.array([d.decode('ascii').startswith('micro') for d in data.train['species']], dtype=np.int16)"
   ]
  },
  {
   "cell_type": "code",
   "execution_count": null,
   "metadata": {},
   "outputs": [],
   "source": []
  },
  {
   "cell_type": "markdown",
   "metadata": {},
   "source": [
    "Ovo je funkcija koja na osnovu geografskih podataka koji se nalaze u datom skupu može da kreira odgovarajuću podelu u formi mreže po geografskim dužinama i širinama. Na primer, razmak između čvorova ove mreže će biti `data.grid_size` tj. `0.05`, broj podela geografske dužine je `Nx`, a broj podela po geografskoj širini `Ny`."
   ]
  },
  {
   "cell_type": "markdown",
   "metadata": {},
   "source": [
    "<span class='text-muted'> Ranije je ova funkcija bila sastavni deo biblioteke, ali je sada iz nekog razloga predvđena za samostalnu implementaciju. </span> "
   ]
  },
  {
   "cell_type": "code",
   "execution_count": 12,
   "metadata": {},
   "outputs": [],
   "source": [
    "def construct_grids(batch):\n",
    "    \"\"\"Construct the map grid from the batch object\n",
    "\n",
    "    Parameters\n",
    "    ----------\n",
    "    batch : Batch object\n",
    "        The object returned by :func:`fetch_species_distributions`\n",
    "\n",
    "    Returns\n",
    "    -------\n",
    "    (xgrid, ygrid) : 1-D arrays\n",
    "        The grid corresponding to the values in batch.coverages\n",
    "    \"\"\"\n",
    "    # x,y coordinates for corner cells\n",
    "    xmin = batch.x_left_lower_corner + batch.grid_size\n",
    "    xmax = xmin + (batch.Nx * batch.grid_size)\n",
    "    ymin = batch.y_left_lower_corner + batch.grid_size\n",
    "    ymax = ymin + (batch.Ny * batch.grid_size)\n",
    "\n",
    "    # x coordinates of the grid cells\n",
    "    xgrid = np.arange(xmin, xmax, batch.grid_size)\n",
    "    # y coordinates of the grid cells\n",
    "    ygrid = np.arange(ymin, ymax, batch.grid_size)\n",
    "\n",
    "    return (xgrid, ygrid)"
   ]
  },
  {
   "cell_type": "code",
   "execution_count": 13,
   "metadata": {},
   "outputs": [],
   "source": [
    "xgrid, ygrid = construct_grids(data)"
   ]
  },
  {
   "cell_type": "code",
   "execution_count": null,
   "metadata": {},
   "outputs": [],
   "source": []
  },
  {
   "cell_type": "markdown",
   "metadata": {},
   "source": [
    "Za svaku tačku ovako kreirane podele u nizu `data.coverage` se nalazi 14 različitih merenja. Njih ćemo koristiti za ocenu vrednosti. "
   ]
  },
  {
   "cell_type": "code",
   "execution_count": null,
   "metadata": {},
   "outputs": [],
   "source": []
  },
  {
   "cell_type": "markdown",
   "metadata": {},
   "source": [
    "Da bismo mogli da prikažemo podatke na 2D mapi, biće nam potrebna i neka od projekcija 3d prostora na 2d prostor. Jedna takva je cilindrična projekcija. \n",
    "\n",
    "<img src='assets/cylindrical_projection.jpeg' style='height: 200px;'>\n",
    "\n",
    "Koordinate $x$ i $y$ ovako dobijenih tačaka su: \n",
    "\n",
    "\n",
    "$x= R(\\lambda - \\lambda_0)$\n",
    "\n",
    "$y= Rtan(\\phi)$\n",
    "\n",
    "gde je $R$ označava poluprečnik kugle koja se generiše, $\\phi$ geografsku širinu, $\\lambda$ geografsku dužinu, a $\\lambda_0$ geografsku dužinu centralnog meridijana. "
   ]
  },
  {
   "cell_type": "markdown",
   "metadata": {},
   "source": [
    "Mapa sa podacima kojima raspolažemo se može kreirati postupno: \n",
    "- prvo se može nacrtati okvir određen najmanjom i najvećom geografskom širinom i dužinom kojom raspolažemo (llcrnr označava donji levi, a urcrnr gornji desni ugao)\n",
    "- zatim se mogu obojiti i uokviriti kontineti\n",
    "- zatim se mogu iscrtati granice između zemalja\n",
    "- zatim se može obojiti površina mimo nacrtanih kontinenata\n",
    "- na kraju, mogu se ucrtati lokacije na kojima se nalaze posmatrane vrste, lenjivac narandžastom, a miš ljubičastom bojom"
   ]
  },
  {
   "cell_type": "code",
   "execution_count": 14,
   "metadata": {},
   "outputs": [
    {
     "data": {
      "text/plain": [
       "<matplotlib.collections.PathCollection at 0x1a15e88c10>"
      ]
     },
     "execution_count": 14,
     "metadata": {},
     "output_type": "execute_result"
    },
    {
     "data": {
      "image/png": "[encoded data removed]",
      "text/plain": [
       "<Figure size 432x288 with 1 Axes>"
      ]
     },
     "metadata": {},
     "output_type": "display_data"
    }
   ],
   "source": [
    "m = Basemap(projection='cyl', resolution='c',\n",
    "            llcrnrlat=ygrid.min(), urcrnrlat=ygrid.max(),\n",
    "            llcrnrlon=xgrid.min(), urcrnrlon=xgrid.max())\n",
    "\n",
    "m.fillcontinents(color='#FFEEDD')\n",
    "m.drawcoastlines(color='gray', zorder=2)\n",
    "m.drawcountries(color='gray', zorder=2)\n",
    "m.drawmapboundary(fill_color='#DDEEFF')\n",
    "\n",
    "\n",
    "m.scatter(latlong[:, 1], latlong[:, 0], zorder=2, c=species, latlon=True)"
   ]
  },
  {
   "cell_type": "markdown",
   "metadata": {},
   "source": [
    "Dalje, hoćemo da na osnovu informacija o tome gde se nalaze vrste koje posmatramo i u kom broju izmodelujemo njihovu sfernu gustinu raspodele. Biblioteka `scikit-learn` stavlja na rasolaganje metodu `KernelDensity` koja ovo računa. Za računanje rastojanja između tačaka na sferi, koristićemo [Heversine rastojanje](https://en.wikipedia.org/wiki/Haversine_formula) koja predstavlja dužinu velikog luka koji spaja dve tačke određene svojim geografskim dužinama i širinama.  \n",
    "\n",
    "<img src='assets/harversine_distance.png'>"
   ]
  },
  {
   "cell_type": "code",
   "execution_count": null,
   "metadata": {},
   "outputs": [],
   "source": []
  },
  {
   "cell_type": "code",
   "execution_count": 15,
   "metadata": {},
   "outputs": [
    {
     "data": {
      "text/plain": [
       "KernelDensity(algorithm='auto', atol=0, bandwidth=0.03, breadth_first=True,\n",
       "              kernel='gaussian', leaf_size=40, metric='haversine',\n",
       "              metric_params=None, rtol=0)"
      ]
     },
     "execution_count": 15,
     "metadata": {},
     "output_type": "execute_result"
    }
   ],
   "source": [
    "# sfericni ocenjivac gustine za Bradypus Variegatus tj. lenjivca\n",
    "kde_bradypus_variegatus = neighbors.KernelDensity(kernel='gaussian', bandwidth=0.03, metric='haversine')\n",
    "kde_bradypus_variegatus.fit(np.radians(latlong[species == 0]))"
   ]
  },
  {
   "cell_type": "code",
   "execution_count": 16,
   "metadata": {},
   "outputs": [
    {
     "data": {
      "text/plain": [
       "KernelDensity(algorithm='auto', atol=0, bandwidth=0.03, breadth_first=True,\n",
       "              kernel='gaussian', leaf_size=40, metric='haversine',\n",
       "              metric_params=None, rtol=0)"
      ]
     },
     "execution_count": 16,
     "metadata": {},
     "output_type": "execute_result"
    }
   ],
   "source": [
    "# sfericni ocenjivac gustine za Microryzomys Minutus tj. sumskog misa\n",
    "kde_microryzomys_minutus = neighbors.KernelDensity(kernel='gaussian', bandwidth=0.03, metric='haversine')\n",
    "kde_microryzomys_minutus.fit(np.radians(latlong[species == 1]))"
   ]
  },
  {
   "cell_type": "code",
   "execution_count": 17,
   "metadata": {},
   "outputs": [],
   "source": [
    "kdes = [kde_bradypus_variegatus, kde_microryzomys_minutus]"
   ]
  },
  {
   "cell_type": "code",
   "execution_count": null,
   "metadata": {},
   "outputs": [],
   "source": []
  },
  {
   "cell_type": "markdown",
   "metadata": {},
   "source": [
    "Dalje, želimo da na mapi prikažemo gustinu raspodele verovatnoća."
   ]
  },
  {
   "cell_type": "code",
   "execution_count": 19,
   "metadata": {},
   "outputs": [],
   "source": [
    "# zbog vizuelizacije proredicemo sa faktorom 5 koriscene podele\n",
    "X, Y = np.meshgrid(xgrid[::5], ygrid[::5][::-1])\n",
    "\n",
    "# informaciju o brojnosti vrste nalaze se u nizu data.coverages na poziciji 6 \n",
    "land_reference = data.coverages[6][::5, ::5]\n",
    "\n",
    "# vrednosti koje nedostaju su obelezene sa -9999 i odnose se na vodene povrsine \n",
    "# sve druge vrednosti vece od ove predstavljaju regularne vrednosti\n",
    "# zato ce se ova maska iskoristiti za filtriranje vrednosti\n",
    "land_mask = (land_reference > -9999).ravel()\n",
    "\n",
    "xy = np.vstack([Y.ravel(), X.ravel()]).T\n",
    "xy = np.radians(xy[land_mask])"
   ]
  },
  {
   "cell_type": "code",
   "execution_count": null,
   "metadata": {},
   "outputs": [],
   "source": []
  },
  {
   "cell_type": "markdown",
   "metadata": {},
   "source": [
    "Slike sa gustinama raspodele prikazaćemo na dva susedna grafika. "
   ]
  },
  {
   "cell_type": "code",
   "execution_count": 21,
   "metadata": {},
   "outputs": [
    {
     "data": {
      "image/png": "[encoded data removed]",
      "text/plain": [
       "<Figure size 432x288 with 2 Axes>"
      ]
     },
     "metadata": {},
     "output_type": "display_data"
    }
   ],
   "source": [
    "fig, ax = plt.subplots(1, 2)\n",
    "fig.subplots_adjust(left=0.05, right=0.95, wspace=0.05)\n",
    "\n",
    "species_names = ['Bradypus Variegatus', 'Microryzomys Minutus']\n",
    "cmaps = ['Oranges', 'Purples']\n",
    "\n",
    "# za svaku vrstu pojedinacno\n",
    "for i, axi in enumerate(ax):\n",
    "    \n",
    "    # postavljamo naslov grafika sa imenom vrste\n",
    "    axi.set_title(species_names[i])\n",
    "    \n",
    "    # iscrtavamo mapu, postupno, na isti nacin kao i u prethodnom primeru\n",
    "    m = Basemap(projection='cyl', llcrnrlat=Y.min(),\n",
    "                urcrnrlat=Y.max(), llcrnrlon=X.min(),\n",
    "                urcrnrlon=X.max(), resolution='c', ax=axi)\n",
    "    \n",
    "    m.drawmapboundary(fill_color='#DDEEFF')\n",
    "    m.drawcoastlines()\n",
    "    m.drawcountries()\n",
    "    \n",
    "    # ocitavamo estimator prostorne gustine raspodele za tekucu vrstu\n",
    "    kde = kdes[i]\n",
    "\n",
    "    # i izracunavamo ocene koje estimator daje za tekucu x, y koordinatu \n",
    "    Z = np.full(land_mask.shape[0], -9999.0)\n",
    "    Z[land_mask] = np.exp(kde.score_samples(xy))\n",
    "    Z = Z.reshape(X.shape)\n",
    "\n",
    "    # funkcija contourf iscrtava i boji konture zadatim bojama u nijansama koje su izracunate estimatorom\n",
    "    levels = np.linspace(0, Z.max())\n",
    "    axi.contourf(X, Y, Z, levels=levels, cmap=cmaps[i])"
   ]
  },
  {
   "cell_type": "code",
   "execution_count": null,
   "metadata": {},
   "outputs": [],
   "source": []
  },
  {
   "cell_type": "markdown",
   "metadata": {},
   "source": [
    "Primer je pozajmljen iz knjige [Python Data Science Handbook](https://jakevdp.github.io/PythonDataScienceHandbook/05.13-kernel-density-estimation.html) koju toplo preporučujemo za prelistavanje."
   ]
  }
 ],
 "metadata": {
  "kernelspec": {
   "display_name": "Python 3",
   "language": "python",
   "name": "python3"
  },
  "language_info": {
   "codemirror_mode": {
    "name": "ipython",
    "version": 3
   },
   "file_extension": ".py",
   "mimetype": "text/x-python",
   "name": "python",
   "nbconvert_exporter": "python",
   "pygments_lexer": "ipython3",
   "version": "3.7.6"
  }
 },
 "nbformat": 4,
 "nbformat_minor": 2
}
