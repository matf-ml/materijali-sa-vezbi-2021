{
 "cells": [
  {
   "cell_type": "markdown",
   "metadata": {},
   "source": [
    "# Regularizacija "
   ]
  },
  {
   "cell_type": "markdown",
   "metadata": {},
   "source": [
    "Regularizacija je tehnika koja ima za cilj popravku modela koji se razvija. Neki od motiva za popravke su kontrola preprilagođavanje (engl. overfitting) modela, loša uslovljenost sistema koji prate modele ili multikolinearnost atributa. Dodatno, neke vrste regularizacija omogućavaju i da se dobijeni sistemi lakše interpretiraju."
   ]
  },
  {
   "cell_type": "markdown",
   "metadata": {},
   "source": [
    "Sledeći primeri ilustruju standardne regularizacije koje prate regresione modele. U drugim bibliotečkim funkcijama treba obratiti pažnju na postojanje parametra `penalty` koji omogućava zadavanje neke regularizacione tehnike. "
   ]
  },
  {
   "cell_type": "code",
   "execution_count": null,
   "metadata": {},
   "outputs": [],
   "source": []
  },
  {
   "cell_type": "code",
   "execution_count": 1,
   "metadata": {},
   "outputs": [],
   "source": [
    "import numpy as np\n",
    "import pandas as pd\n",
    "from matplotlib import pyplot as plt"
   ]
  },
  {
   "cell_type": "code",
   "execution_count": 2,
   "metadata": {},
   "outputs": [],
   "source": [
    "from sklearn import preprocessing\n",
    "from sklearn import model_selection\n",
    "from sklearn import linear_model\n",
    "from sklearn import metrics\n",
    "from sklearn import datasets"
   ]
  },
  {
   "cell_type": "code",
   "execution_count": 3,
   "metadata": {},
   "outputs": [],
   "source": [
    "np.random.seed(7)"
   ]
  },
  {
   "cell_type": "code",
   "execution_count": null,
   "metadata": {},
   "outputs": [],
   "source": []
  },
  {
   "cell_type": "markdown",
   "metadata": {},
   "source": [
    "U radu ćemo koristiti skup podataka za predviđanje cena nekretnina. "
   ]
  },
  {
   "cell_type": "code",
   "execution_count": 4,
   "metadata": {},
   "outputs": [],
   "source": [
    "data = datasets.load_boston()"
   ]
  },
  {
   "cell_type": "code",
   "execution_count": 5,
   "metadata": {},
   "outputs": [],
   "source": [
    "X = data.data\n",
    "y = data.target"
   ]
  },
  {
   "cell_type": "markdown",
   "metadata": {},
   "source": [
    "Podsetimo se da ovaj skup ima 30 atributa. "
   ]
  },
  {
   "cell_type": "code",
   "execution_count": 6,
   "metadata": {},
   "outputs": [
    {
     "data": {
      "text/plain": [
       "array(['CRIM', 'ZN', 'INDUS', 'CHAS', 'NOX', 'RM', 'AGE', 'DIS', 'RAD',\n",
       "       'TAX', 'PTRATIO', 'B', 'LSTAT'], dtype='<U7')"
      ]
     },
     "execution_count": 6,
     "metadata": {},
     "output_type": "execute_result"
    }
   ],
   "source": [
    "data.feature_names"
   ]
  },
  {
   "cell_type": "code",
   "execution_count": 7,
   "metadata": {},
   "outputs": [],
   "source": [
    "number_of_features = len(data.feature_names)"
   ]
  },
  {
   "cell_type": "markdown",
   "metadata": {},
   "source": [
    "Podelićemo podatke na skup za treniranje i skup za testiranje i standardizovati dobijene skupove vrednosti. "
   ]
  },
  {
   "cell_type": "code",
   "execution_count": 8,
   "metadata": {},
   "outputs": [],
   "source": [
    "X_train, X_test, y_train, y_test = model_selection.train_test_split(X, y, test_size=0.33, random_state = 42)"
   ]
  },
  {
   "cell_type": "code",
   "execution_count": 9,
   "metadata": {},
   "outputs": [],
   "source": [
    "scaler = preprocessing.StandardScaler()\n",
    "scaler.fit(X_train)\n",
    "X_train = scaler.transform(X_train)\n",
    "X_test = scaler.transform(X_test)"
   ]
  },
  {
   "cell_type": "markdown",
   "metadata": {},
   "source": [
    "### 1. Linearna regresija"
   ]
  },
  {
   "cell_type": "markdown",
   "metadata": {},
   "source": [
    "Kao bazni model iskoristićemo model proste linearne regresije. "
   ]
  },
  {
   "cell_type": "code",
   "execution_count": 10,
   "metadata": {},
   "outputs": [],
   "source": [
    "linear = linear_model.LinearRegression()"
   ]
  },
  {
   "cell_type": "code",
   "execution_count": 11,
   "metadata": {},
   "outputs": [
    {
     "data": {
      "text/plain": [
       "LinearRegression(copy_X=True, fit_intercept=True, n_jobs=None, normalize=False)"
      ]
     },
     "execution_count": 11,
     "metadata": {},
     "output_type": "execute_result"
    }
   ],
   "source": [
    "linear.fit(X_train, y_train)"
   ]
  },
  {
   "cell_type": "markdown",
   "metadata": {},
   "source": [
    "Koeficijenti modela se mogu dobiti preko `coef_` svojstva."
   ]
  },
  {
   "cell_type": "code",
   "execution_count": 12,
   "metadata": {},
   "outputs": [
    {
     "data": {
      "text/plain": [
       "array([-0.98858032,  0.86793276,  0.40502822,  0.86183791, -1.90009974,\n",
       "        2.80813518, -0.35866856, -3.04553498,  2.03276074, -1.36400909,\n",
       "       -2.0825356 ,  1.04125684, -3.92628626])"
      ]
     },
     "execution_count": 12,
     "metadata": {},
     "output_type": "execute_result"
    }
   ],
   "source": [
    "linear.coef_"
   ]
  },
  {
   "cell_type": "markdown",
   "metadata": {},
   "source": [
    "Pratićemo performanse modela na skupu za treniranje i skupu za testiranje. Kao metriku ćemo koristićemo koeficijent determinacije."
   ]
  },
  {
   "cell_type": "code",
   "execution_count": 13,
   "metadata": {},
   "outputs": [],
   "source": [
    "linear_train_score = linear.score(X_train, y_train) "
   ]
  },
  {
   "cell_type": "code",
   "execution_count": 14,
   "metadata": {},
   "outputs": [],
   "source": [
    "linear_test_score = linear.score(X_test, y_test) "
   ]
  },
  {
   "cell_type": "code",
   "execution_count": 15,
   "metadata": {},
   "outputs": [
    {
     "name": "stdout",
     "output_type": "stream",
     "text": [
      "Ocena na skupu za treniranje:  0.7392344370995025\n",
      "Ocena na skupu za testiranje:  0.7261570836552476\n"
     ]
    }
   ],
   "source": [
    "print('Ocena na skupu za treniranje: ', linear_train_score)\n",
    "print('Ocena na skupu za testiranje: ', linear_test_score)"
   ]
  },
  {
   "cell_type": "code",
   "execution_count": null,
   "metadata": {},
   "outputs": [],
   "source": []
  },
  {
   "cell_type": "markdown",
   "metadata": {},
   "source": [
    "### 2. Grebena linearna regresija (linearna regresija sa l2 regularizacijom)"
   ]
  },
  {
   "cell_type": "markdown",
   "metadata": {},
   "source": [
    "Grebenom linearnom regresijom se minimizaciji srednjekvadratne greške regresionog modela dodaje faktor $\\lambda\\sum_{i=1}^{i=N}{\\beta_{i}^2}$ koji uzima u obzir kvadrate vrednosti koeficijenata. Faktor ne uključuje slobodni član modela tj. koeficijent $\\beta_0$. Parametar $\\lambda$ je metaparametar kojim se utiče na jačinu regularizacije. Za velike vrednosti parametra $\\lambda$ favorizuju se modeli koji imaju male koeficijente. Ovako dobijeni koeficijenti mogu biti mali i bliski nuli, ali gotovo nikada nisu baš nula jer se minimizuje suma koeficijenata, a ne pojedinačne vrednosti. "
   ]
  },
  {
   "cell_type": "markdown",
   "metadata": {},
   "source": [
    "Rad sa linearnim regresionim modelima sa l2 regularizacijom je podržan `scikit-learn` bibliotekom preko klase `Ridge`. Ulogu regularizacionog hiperparametra $\\lambda$ ima parametar `alpha`. Njegove vrednosti moraju biti pozitivni brojevi."
   ]
  },
  {
   "cell_type": "code",
   "execution_count": 16,
   "metadata": {},
   "outputs": [],
   "source": [
    "ridge = linear_model.Ridge(alpha = 10)"
   ]
  },
  {
   "cell_type": "code",
   "execution_count": 17,
   "metadata": {},
   "outputs": [
    {
     "data": {
      "text/plain": [
       "Ridge(alpha=10, copy_X=True, fit_intercept=True, max_iter=None, normalize=False,\n",
       "      random_state=None, solver='auto', tol=0.001)"
      ]
     },
     "execution_count": 17,
     "metadata": {},
     "output_type": "execute_result"
    }
   ],
   "source": [
    "ridge.fit(X_train, y_train)"
   ]
  },
  {
   "cell_type": "code",
   "execution_count": 18,
   "metadata": {},
   "outputs": [
    {
     "data": {
      "text/plain": [
       "array([-0.88466741,  0.70071771,  0.18928518,  0.90292075, -1.57412014,\n",
       "        2.8568254 , -0.37126694, -2.6663202 ,  1.43088568, -0.8871434 ,\n",
       "       -1.9729679 ,  1.01692214, -3.78538927])"
      ]
     },
     "execution_count": 18,
     "metadata": {},
     "output_type": "execute_result"
    }
   ],
   "source": [
    "ridge.coef_"
   ]
  },
  {
   "cell_type": "code",
   "execution_count": 19,
   "metadata": {},
   "outputs": [],
   "source": [
    "ridge_train_score = ridge.score(X_train, y_train) "
   ]
  },
  {
   "cell_type": "code",
   "execution_count": 20,
   "metadata": {},
   "outputs": [],
   "source": [
    "ridge_test_score = ridge.score(X_test, y_test) "
   ]
  },
  {
   "cell_type": "code",
   "execution_count": 21,
   "metadata": {},
   "outputs": [
    {
     "name": "stdout",
     "output_type": "stream",
     "text": [
      "Ocena na skupu za treniranje:  0.7380123081748973\n",
      "Ocena na skupu za testiranje:  0.7224910093346204\n"
     ]
    }
   ],
   "source": [
    "print('Ocena na skupu za treniranje: ', ridge_train_score)\n",
    "print('Ocena na skupu za testiranje: ', ridge_test_score)"
   ]
  },
  {
   "cell_type": "code",
   "execution_count": null,
   "metadata": {},
   "outputs": [],
   "source": []
  },
  {
   "cell_type": "code",
   "execution_count": null,
   "metadata": {},
   "outputs": [],
   "source": []
  },
  {
   "cell_type": "markdown",
   "metadata": {},
   "source": [
    "### 3. Linearna regresija sa LASSO regularizacijom (l1 regularizacijom)"
   ]
  },
  {
   "cell_type": "markdown",
   "metadata": {},
   "source": [
    "LASSO (Least Absolute Shrinkage and Selection Operator) regularizacijom se minimizaciji srednjekvadratne greške regresionog modela dodaje faktor $\\lambda\\sum_{i=1}^{i=N}{|\\beta_{i}|}$. Ni ovaj faktor ne uključuje slobodni član $\\beta_0$ modela.  Parametar $\\lambda$ je metaparametar kojim se utiče na jačinu regularizacije. Za razliku od grebene regresije, ovakvi modeli mogu rezultirati koeficijentima koji su baš jednaki nuli. "
   ]
  },
  {
   "cell_type": "markdown",
   "metadata": {},
   "source": [
    "Rad sa linearnim regresionim modelima sa lasso regularizacijom je podržan `scikit-learn` bibliotekom preko klase `Lasso`. Ulogu regularizacionog hiperparametra $\\lambda$ ima parametar `alpha`. Njegove vrednosti moraju biti pozitivni brojevi."
   ]
  },
  {
   "cell_type": "code",
   "execution_count": 22,
   "metadata": {},
   "outputs": [],
   "source": [
    "lasso = linear_model.Lasso(alpha=0.1)"
   ]
  },
  {
   "cell_type": "code",
   "execution_count": 23,
   "metadata": {},
   "outputs": [
    {
     "data": {
      "text/plain": [
       "Lasso(alpha=0.1, copy_X=True, fit_intercept=True, max_iter=1000,\n",
       "      normalize=False, positive=False, precompute=False, random_state=None,\n",
       "      selection='cyclic', tol=0.0001, warm_start=False)"
      ]
     },
     "execution_count": 23,
     "metadata": {},
     "output_type": "execute_result"
    }
   ],
   "source": [
    "lasso.fit(X_train, y_train)"
   ]
  },
  {
   "cell_type": "code",
   "execution_count": 24,
   "metadata": {},
   "outputs": [
    {
     "data": {
      "text/plain": [
       "array([-0.66991383,  0.43061628, -0.        ,  0.87630476, -1.36149475,\n",
       "        2.89584589, -0.18487001, -2.25812838,  0.46253968, -0.        ,\n",
       "       -1.90039821,  0.9373862 , -3.95913625])"
      ]
     },
     "execution_count": 24,
     "metadata": {},
     "output_type": "execute_result"
    }
   ],
   "source": [
    "lasso.coef_"
   ]
  },
  {
   "cell_type": "code",
   "execution_count": 25,
   "metadata": {},
   "outputs": [],
   "source": [
    "lasso_train_score = lasso.score(X_train, y_train) "
   ]
  },
  {
   "cell_type": "code",
   "execution_count": 26,
   "metadata": {},
   "outputs": [],
   "source": [
    "lasso_test_score = lasso.score(X_test, y_test) "
   ]
  },
  {
   "cell_type": "code",
   "execution_count": 27,
   "metadata": {},
   "outputs": [
    {
     "name": "stdout",
     "output_type": "stream",
     "text": [
      "Ocena na skupu za treniranje:  0.7334144238074706\n",
      "Ocena na skupu za testiranje:  0.7112387502289164\n"
     ]
    }
   ],
   "source": [
    "print('Ocena na skupu za treniranje: ', lasso_train_score)\n",
    "print('Ocena na skupu za testiranje: ', lasso_test_score)"
   ]
  },
  {
   "cell_type": "code",
   "execution_count": null,
   "metadata": {},
   "outputs": [],
   "source": []
  },
  {
   "cell_type": "code",
   "execution_count": null,
   "metadata": {},
   "outputs": [],
   "source": []
  },
  {
   "cell_type": "markdown",
   "metadata": {},
   "source": [
    "### 4. Linearna regresija sa  ElasticNet regularizacijom (kombinacija l1 i l2 regularizacije)"
   ]
  },
  {
   "cell_type": "markdown",
   "metadata": {},
   "source": [
    "`ElasticNet` je vrsta regularizacije koja kombinuje `l1` i `l2` regularizaciju. Regularizacioni izraz koji se dodaje modelu je oblika $a \\cdot l_1 + b \\cdot l_2$. Za $a=0$ izraz odgovara grebenoj regularizaciji, dok za $b=0$ izraz odgovara laso regularizaciji. Ova vrsta regularizacije je na nivou `scikit-learn` biblioteke podržana funkcijom `ElasticNet`. Od parametara se očekuju vrednosti `alpha` i `l1_ratio` za koje važi $alpha = a+b$ i $l1\\_ratio = a / (a + b)$. Zbog stroge restrikcije nad koeficijentima ova regularizacija obično u praksi daje nešto lošije rezultate, ali ima svoje primene u specifičnim domenima."
   ]
  },
  {
   "cell_type": "code",
   "execution_count": 28,
   "metadata": {},
   "outputs": [],
   "source": [
    "elastic = linear_model.ElasticNet(alpha = 0.75 , l1_ratio = 0.5 )"
   ]
  },
  {
   "cell_type": "code",
   "execution_count": 29,
   "metadata": {},
   "outputs": [
    {
     "data": {
      "text/plain": [
       "ElasticNet(alpha=0.75, copy_X=True, fit_intercept=True, l1_ratio=0.5,\n",
       "           max_iter=1000, normalize=False, positive=False, precompute=False,\n",
       "           random_state=None, selection='cyclic', tol=0.0001, warm_start=False)"
      ]
     },
     "execution_count": 29,
     "metadata": {},
     "output_type": "execute_result"
    }
   ],
   "source": [
    "elastic.fit(X_train, y_train)"
   ]
  },
  {
   "cell_type": "code",
   "execution_count": 30,
   "metadata": {},
   "outputs": [
    {
     "data": {
      "text/plain": [
       "array([-0.3969518 ,  0.00394972, -0.10610626,  0.71993058, -0.31140102,\n",
       "        2.52901625, -0.        , -0.1542117 , -0.        , -0.21417625,\n",
       "       -1.35424017,  0.64357181, -2.79521691])"
      ]
     },
     "execution_count": 30,
     "metadata": {},
     "output_type": "execute_result"
    }
   ],
   "source": [
    "elastic.coef_"
   ]
  },
  {
   "cell_type": "code",
   "execution_count": 31,
   "metadata": {},
   "outputs": [],
   "source": [
    "elastic_train_score = elastic.score(X_train, y_train) "
   ]
  },
  {
   "cell_type": "code",
   "execution_count": 32,
   "metadata": {},
   "outputs": [],
   "source": [
    "elastic_test_score = elastic.score(X_test, y_test) "
   ]
  },
  {
   "cell_type": "code",
   "execution_count": 33,
   "metadata": {},
   "outputs": [
    {
     "name": "stdout",
     "output_type": "stream",
     "text": [
      "Ocena na skupu za treniranje:  0.6749956924758037\n",
      "Ocena na skupu za testiranje:  0.6590531432323001\n"
     ]
    }
   ],
   "source": [
    "print('Ocena na skupu za treniranje: ', elastic_train_score)\n",
    "print('Ocena na skupu za testiranje: ', elastic_test_score)"
   ]
  },
  {
   "cell_type": "code",
   "execution_count": null,
   "metadata": {},
   "outputs": [],
   "source": []
  },
  {
   "cell_type": "code",
   "execution_count": null,
   "metadata": {},
   "outputs": [],
   "source": []
  },
  {
   "cell_type": "markdown",
   "metadata": {},
   "source": [
    "### Vizuelizacija koeficijenata modela"
   ]
  },
  {
   "cell_type": "markdown",
   "metadata": {},
   "source": [
    "Sledeći grafik vrednosti koeficijenata ukazuje na njihove različite prirode i mogućnosti. "
   ]
  },
  {
   "cell_type": "code",
   "execution_count": 34,
   "metadata": {},
   "outputs": [
    {
     "data": {
      "image/png": "[encoded data removed]",
      "text/plain": [
       "<Figure size 720x360 with 1 Axes>"
      ]
     },
     "metadata": {
      "needs_background": "light"
     },
     "output_type": "display_data"
    }
   ],
   "source": [
    "plt.figure(figsize=(10, 5))\n",
    "plt.xticks(np.arange(0, number_of_features), data.feature_names, rotation='90')\n",
    "plt.plot(linear.coef_, '^', label='Prosta linearna regresija' )\n",
    "plt.plot(ridge.coef_, 'o', label='Grebena regresija (alpha=10)')\n",
    "plt.plot(lasso.coef_, 'v', label='Lasso regresija (alpha=0.1)')\n",
    "plt.plot(elastic.coef_, 'x', label='ElasticNet regresija')\n",
    "plt.plot(np.arange(0, number_of_features), np.zeros(number_of_features), color='gray', linestyle='--')\n",
    "plt.legend(loc='best')\n",
    "plt.show()"
   ]
  },
  {
   "cell_type": "markdown",
   "metadata": {},
   "source": [
    "Optimalne vrednosti hiperparametara koji se javljaju u regularizovanim modelima se određuju na isti način na koji se određuju i hipermarametri do sada posmatranih modela."
   ]
  },
  {
   "cell_type": "code",
   "execution_count": null,
   "metadata": {},
   "outputs": [],
   "source": []
  }
 ],
 "metadata": {
  "kernelspec": {
   "display_name": "Python 3",
   "language": "python",
   "name": "python3"
  },
  "language_info": {
   "codemirror_mode": {
    "name": "ipython",
    "version": 3
   },
   "file_extension": ".py",
   "mimetype": "text/x-python",
   "name": "python",
   "nbconvert_exporter": "python",
   "pygments_lexer": "ipython3",
   "version": "3.7.6"
  }
 },
 "nbformat": 4,
 "nbformat_minor": 2
}
