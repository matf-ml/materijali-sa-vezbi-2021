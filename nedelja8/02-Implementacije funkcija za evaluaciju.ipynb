{
 "cells": [
  {
   "cell_type": "markdown",
   "metadata": {},
   "source": [
    "# Selekcija i evaluacija modela "
   ]
  },
  {
   "cell_type": "markdown",
   "metadata": {},
   "source": [
    "Ova sveska sadrži reimplementaciju svih bibliotečkih funkcija koje direktno utiču na selekciju i evaluaciju modela. "
   ]
  },
  {
   "cell_type": "code",
   "execution_count": 1,
   "metadata": {},
   "outputs": [],
   "source": [
    "import numpy as np\n",
    "import pandas as pd\n",
    "from matplotlib import pyplot as plt"
   ]
  },
  {
   "cell_type": "code",
   "execution_count": 2,
   "metadata": {},
   "outputs": [],
   "source": [
    "from sklearn import linear_model, svm\n",
    "from sklearn import model_selection \n",
    "from sklearn import metrics\n",
    "from sklearn import datasets"
   ]
  },
  {
   "cell_type": "markdown",
   "metadata": {},
   "source": [
    "U radu ćemo, baš kao i u prethodnom primeru, koristiti Viskonsin skup podataka za klasifikaciju tumora na benigne i maligne. "
   ]
  },
  {
   "cell_type": "code",
   "execution_count": 3,
   "metadata": {},
   "outputs": [],
   "source": [
    "data = datasets.load_breast_cancer()\n",
    "X = data.data\n",
    "y = data.target"
   ]
  },
  {
   "cell_type": "markdown",
   "metadata": {},
   "source": [
    "Koristićemo i kernelizovani metod potpornih vektora. "
   ]
  },
  {
   "cell_type": "markdown",
   "metadata": {},
   "source": [
    "Funkcija `configure_svm_model` je omotač kojim se može konfigurisati kernelizovani model potpornih vektora. Jednostavnosti radi, dozvolićemo samo konfigurisanje vrednost regularizacionog parametra, dok ćemo za vrednost širine kernela uzeti fiksiranu vrednost 0.01."
   ]
  },
  {
   "cell_type": "code",
   "execution_count": 4,
   "metadata": {},
   "outputs": [],
   "source": [
    "def configure_svm_model(c, gamma=0.01):\n",
    "    return svm.SVC(C=c, gamma=gamma)"
   ]
  },
  {
   "cell_type": "code",
   "execution_count": null,
   "metadata": {},
   "outputs": [],
   "source": []
  },
  {
   "cell_type": "markdown",
   "metadata": {},
   "source": [
    "Funkcija `classification_error` se može koristiti za ocenu greške klasifikacije."
   ]
  },
  {
   "cell_type": "code",
   "execution_count": 5,
   "metadata": {},
   "outputs": [],
   "source": [
    "def classification_error(y_true, y_predicted):\n",
    "    return 1 - metrics.accuracy_score(y_true, y_predicted)"
   ]
  },
  {
   "cell_type": "code",
   "execution_count": null,
   "metadata": {},
   "outputs": [],
   "source": []
  },
  {
   "cell_type": "markdown",
   "metadata": {},
   "source": [
    "Funkcija `data_split` deli zadate skupove `X` i `y` na skupove za treniranje i testiranje u razmeri zadatoj parametrom `ratio`. Funkcija vraća skupove `X_train`, `X_test`, `y_train` i `y_test` i oponaša funkcionalnosti bibliotečke `train_test_split` metode."
   ]
  },
  {
   "cell_type": "code",
   "execution_count": 6,
   "metadata": {},
   "outputs": [],
   "source": [
    "def data_split(X, y, ratio):\n",
    "    \n",
    "    # y.size predstavlja ukupan broj instanci skupa podataka\n",
    "    # ratio je broj iz intervala [0, 1] i predstavlja pandan train_size parametra bibliotečke funkcije\n",
    "    # N je ukupan broj instanci skupa za treniranje\n",
    "    N = int(y.size * ratio)\n",
    "    \n",
    "    X_train = X[:N, :]\n",
    "    y_train = y[:N]\n",
    "    \n",
    "    X_test = X[N:, :]\n",
    "    y_test = y[N:]\n",
    "    \n",
    "    return X_train, X_test, y_train, y_test"
   ]
  },
  {
   "cell_type": "code",
   "execution_count": 7,
   "metadata": {},
   "outputs": [],
   "source": [
    "X_train, X_test, y_train, y_test = data_split(X, y, 0.67)"
   ]
  },
  {
   "cell_type": "code",
   "execution_count": 8,
   "metadata": {},
   "outputs": [
    {
     "data": {
      "text/plain": [
       "(381, 30)"
      ]
     },
     "execution_count": 8,
     "metadata": {},
     "output_type": "execute_result"
    }
   ],
   "source": [
    "X_train.shape"
   ]
  },
  {
   "cell_type": "code",
   "execution_count": 9,
   "metadata": {},
   "outputs": [
    {
     "data": {
      "text/plain": [
       "(188, 30)"
      ]
     },
     "execution_count": 9,
     "metadata": {},
     "output_type": "execute_result"
    }
   ],
   "source": [
    "X_test.shape"
   ]
  },
  {
   "cell_type": "code",
   "execution_count": null,
   "metadata": {},
   "outputs": [],
   "source": []
  },
  {
   "cell_type": "markdown",
   "metadata": {},
   "source": [
    "Funkcija `train_test_evala` uči zadati model na skupu za treniranje (X_train, y_train), a potom ga evaluira na skupu za testiranje (X_test, y_test) i vraća vrednost funkcije greške `error_function`. Funkcija objedinjuje funkcionalnosti bibliotečkih `fit`, `predict` i `score` metoda."
   ]
  },
  {
   "cell_type": "code",
   "execution_count": 10,
   "metadata": {},
   "outputs": [],
   "source": [
    "def train_test_eval(model, X_train, y_train, X_test, y_test, error_function):\n",
    "    model.fit(X_train, y_train)\n",
    "    y_predicted = model.predict(X_test)\n",
    "    return error_function(y_test, y_predicted)"
   ]
  },
  {
   "cell_type": "code",
   "execution_count": null,
   "metadata": {},
   "outputs": [],
   "source": []
  },
  {
   "cell_type": "markdown",
   "metadata": {},
   "source": [
    "Funkcija `train_valid_select` nakon podele skupova `X` i  `y` u razmeri zadatoj parametrom `ratio` na skupove za treniranje i validaciju određuje iz skupa zadatih konfiguracija `configs` onu vrednost konfiguracionog parametra za koju model `configure_model` koji je zadat daje najmanju grešku. Funkcija greške se zadaje parametrom `error_function`.\n",
    "\n",
    "Funkcija vraća **najbolji** model."
   ]
  },
  {
   "cell_type": "code",
   "execution_count": 11,
   "metadata": {},
   "outputs": [],
   "source": [
    "def train_valid_select(X, y, ratio, error_function, configure_model, configs):\n",
    "    \n",
    "    X_train, X_validation, y_train, y_validation = data_split(X, y, ratio)\n",
    "    \n",
    "    # Za svaku vrednost konfiguracionog parametra izračunavamo grešku modela\n",
    "    errors = []\n",
    "    for c in configs:\n",
    "        model = configure_model(c)\n",
    "        error = train_test_eval(model, X_train, y_train, X_validation, y_validation, error_function)\n",
    "        errors.append(error)\n",
    "        \n",
    "    errors = np.array(errors)\n",
    "    \n",
    "    # Biramo konfiguraciju modela koja ima najmanju grešku\n",
    "    c_best = configs[np.argmin(errors)]\n",
    "    \n",
    "    # Konfigurisemo model za odabrani parametar\n",
    "    model = configure_model(c_best)\n",
    "    \n",
    "    # Treniramo model nad svim podacima\n",
    "    model.fit(X, y)\n",
    "    \n",
    "    # vraćamo najbolji model\n",
    "    return model"
   ]
  },
  {
   "cell_type": "code",
   "execution_count": null,
   "metadata": {},
   "outputs": [],
   "source": []
  },
  {
   "cell_type": "markdown",
   "metadata": {},
   "source": [
    "Funkcija `train_valid_test_eval` nakon što podeli podatke `X` i `y` na skupove za treniranje, validaciju i testiranje u razmerama zadatim parametrom `r`, određuje najbolji model korišćenjem `train_valid_select` funkcije i vraća ocenu njegove greške korišćenjem `error_function` funkcije."
   ]
  },
  {
   "cell_type": "code",
   "execution_count": 12,
   "metadata": {},
   "outputs": [],
   "source": [
    "def train_valid_test_eval(X, y, ratios, error_function, configure_model, configs):\n",
    "\n",
    "    # ratios je oblika [r1, r2] \n",
    "    # gde r1 predstavlja udeo validacionog skupa, a r2 udeo skupa za testiranje u skupu podataka\n",
    "    \n",
    "    # Delimo podatke na podatke za traniranje+validaciju i testiranje\n",
    "    X_train_validation, X_test, y_train_validation, y_test = data_split(X, y, ratios[0] + ratios[1])\n",
    "\n",
    "    r = ratios[0] / (ratios[0] + ratios[1])\n",
    "    \n",
    "    # Trazimo model sa najboljom konfiguracijom\n",
    "    model = train_valid_select(X_train_validation, y_train_validation, r, error_function, configure_model, configs)\n",
    "    \n",
    "    # Evaluiramo dobijeni model na zasebnom skupu podataka za testiranje\n",
    "    y_predicted = model.predict(X_test)\n",
    "    \n",
    "    # Vracamo model i njegovu gresku\n",
    "    return model, error_function(y_test, y_predicted)"
   ]
  },
  {
   "cell_type": "code",
   "execution_count": null,
   "metadata": {},
   "outputs": [],
   "source": []
  },
  {
   "cell_type": "markdown",
   "metadata": {},
   "source": [
    "Skup vrednosti koji se može koristiti za konfiguraciju modela:"
   ]
  },
  {
   "cell_type": "code",
   "execution_count": 13,
   "metadata": {},
   "outputs": [],
   "source": [
    "configurations = [10**i for i in range(-5, 5)]"
   ]
  },
  {
   "cell_type": "code",
   "execution_count": null,
   "metadata": {},
   "outputs": [],
   "source": []
  },
  {
   "cell_type": "markdown",
   "metadata": {},
   "source": [
    "Nadalje, tražimo najbolju konfiguraciju za model i vraćamo model koji je obučen sa tom najboljom konfiguracijom. Dalji koraci bi ovde bili da se `model` evaluira na skupu podataka koji do sada **nije viđen niti korišćen**."
   ]
  },
  {
   "cell_type": "code",
   "execution_count": 14,
   "metadata": {},
   "outputs": [],
   "source": [
    "model = train_valid_select(X, y, 0.8, classification_error, configure_svm_model, configurations)"
   ]
  },
  {
   "cell_type": "code",
   "execution_count": 15,
   "metadata": {},
   "outputs": [
    {
     "name": "stdout",
     "output_type": "stream",
     "text": [
      "Najbolji model se dobija za parametar:  1e-05\n"
     ]
    }
   ],
   "source": [
    "print('Najbolji model se dobija za parametar: ', model.C)"
   ]
  },
  {
   "cell_type": "markdown",
   "metadata": {},
   "source": [
    "Vršimo podelu na skupove za treniranje, validaciju i testiranje. Rezultat rada funkcije je greška modela kao i model obučen na uniji skupova za treniranje i validaciju."
   ]
  },
  {
   "cell_type": "code",
   "execution_count": 16,
   "metadata": {},
   "outputs": [
    {
     "name": "stdout",
     "output_type": "stream",
     "text": [
      "Greska: 0.2368\n",
      "Tacnost: 0.7632\n"
     ]
    }
   ],
   "source": [
    "model, error = train_valid_test_eval(X, y, [0.6, 0.2, 0.2], classification_error, configure_svm_model, configurations)\n",
    "print('Greska: {:.4}'.format(error))\n",
    "print('Tacnost: {:.4}'.format(1-error))"
   ]
  },
  {
   "cell_type": "code",
   "execution_count": null,
   "metadata": {},
   "outputs": [],
   "source": []
  },
  {
   "cell_type": "markdown",
   "metadata": {},
   "source": [
    "## Unakrsna validacija i ugnežđena unakrsna validacija"
   ]
  },
  {
   "cell_type": "markdown",
   "metadata": {},
   "source": [
    "Funkcija `cross_validation_evaluation` korišćenjem unakrsne validacija evaluira zadati model. Funkcija očekuje model koji se evaluira,  skup podataka, broj slojeva (foldova) na koje se podaci dele i funkciju kojom se računa greška. Funkcija treba da vrati vrednost ukupne greške modela. Funkcija oponaša funkciju `cross_val_score` ali za razliku od nje daje jednu ocenu, a ne više pojedinačnih ocena po slojevima.  "
   ]
  },
  {
   "cell_type": "code",
   "execution_count": 17,
   "metadata": {},
   "outputs": [],
   "source": [
    "def cross_validation_evaluation(model, X, y, number_of_folds, error_function):\n",
    "    \n",
    "    # niz na nivou kojeg ćemo čuvati vrednosti predikcija modela\n",
    "    y_predicted = np.empty(y.size)\n",
    "    \n",
    "    # ix će biti niz skup indeksa koji će se koristiti za generisanje slojeva\n",
    "    ix = np.arange(0, X.shape[0]) % number_of_folds\n",
    "    \n",
    "    # za svaki sloj\n",
    "    for i in range(number_of_folds):\n",
    "        # određujemo skup za treniranje\n",
    "        X_train = X[ix != i, :]\n",
    "        y_train = y[ix != i]\n",
    "        \n",
    "        # oređujemo skup za testiranje\n",
    "        X_test = X[ix == i, :]\n",
    "        y_test = y[ix == i]\n",
    "        \n",
    "        # treniramo model\n",
    "        model.fit(X_train, y_train)\n",
    "        \n",
    "        # predvidjom vrednosti na skupu za testiranje\n",
    "        # i cuvamo ih u nizu svih predikcija na odgovarajucim pozicijama\n",
    "        y_predicted[ix == i] = model.predict(X_test)\n",
    "        \n",
    "    # funkcija vraca gresku dobijenu na celom skupu\n",
    "    return error_function(y, y_predicted)"
   ]
  },
  {
   "cell_type": "code",
   "execution_count": null,
   "metadata": {},
   "outputs": [],
   "source": []
  },
  {
   "cell_type": "code",
   "execution_count": 18,
   "metadata": {},
   "outputs": [],
   "source": [
    "# Pojašnjenje za liniju: ix = np.arange(0, X.shape[0]) % number_of_folds\n",
    "# Npr. ako u skupu imamo 20 instanci, a broj slojeva je 4\n",
    "# naredba ix = np.arange(0, 20) % 4\n",
    "# ce generisati niz array([0, 1, 2, 3, 0, 1, 2, 3, 0, 1, 2, 3, 0, 1, 2, 3, 0, 1, 2, 3])\n",
    "# u prvom sloju ce se naci sve one instance cije pozicije su obelezene sa 0\n",
    "# u drugom sloju ce se naci sve one instance cije pozicije su obelezena sa 1 \n",
    "# i tako redom"
   ]
  },
  {
   "cell_type": "markdown",
   "metadata": {},
   "source": [
    "### Odabir najbolje konfiguracije korišćenjem unakrsne validacije"
   ]
  },
  {
   "cell_type": "markdown",
   "metadata": {},
   "source": [
    "Funkcija `cross_validation_selection` korišćenjem unakrsne validacije bira najbolju konfiguraciju za zadati model. Funkcija vraća najbolji model. "
   ]
  },
  {
   "cell_type": "code",
   "execution_count": 19,
   "metadata": {},
   "outputs": [],
   "source": [
    "def cross_validation_selection(X, y, number_of_folds, error_function, configure_model, configs):\n",
    "    \n",
    "    # niz gresaka modela za razlicite konfiguracije \n",
    "    errors = []\n",
    "    \n",
    "    # za svaku vrednost parametra u skupu konfiguracija\n",
    "    for c in configs:\n",
    "        model = configure_model(c)\n",
    "        # evaluriamo model unakrsnom validacijom\n",
    "        error = cross_validation_evaluation(model, X, y, number_of_folds, error_function)\n",
    "        # i pamtimo gresku u nizu gresaka\n",
    "        errors.append(error)\n",
    "        \n",
    "    # analiziramo za koju vrednost konfiguracionog parametra je dobijena najmanja greska\n",
    "    errors = np.array(errors)\n",
    "    c_best = configs[np.argmin(errors)]\n",
    "    \n",
    "    # konfigurisemo model \n",
    "    model = configure_model(c_best)\n",
    "    \n",
    "    # i treniramo ga na celom skupu\n",
    "    model.fit(X, y)\n",
    "    \n",
    "    # ova funkcija vraća najbolji model\n",
    "    return model"
   ]
  },
  {
   "cell_type": "markdown",
   "metadata": {},
   "source": [
    "Uočite sličnost sa funkcijom `train_valid_select`."
   ]
  },
  {
   "cell_type": "code",
   "execution_count": 20,
   "metadata": {},
   "outputs": [],
   "source": [
    "model = cross_validation_selection(X, y, 10, classification_error, configure_svm_model, configurations)"
   ]
  },
  {
   "cell_type": "code",
   "execution_count": 21,
   "metadata": {},
   "outputs": [
    {
     "name": "stdout",
     "output_type": "stream",
     "text": [
      "Najbolji model se dobija za parametar:  10\n"
     ]
    }
   ],
   "source": [
    "print('Najbolji model se dobija za parametar: ', model.C)"
   ]
  },
  {
   "cell_type": "markdown",
   "metadata": {},
   "source": [
    "### Ugnežđena unakrsna validacija"
   ]
  },
  {
   "cell_type": "markdown",
   "metadata": {},
   "source": [
    "Funkcija `nested_cross_validation_evaluation` korišćenjem ugnježđene unakrsne validacije daje ocenu greške modela."
   ]
  },
  {
   "cell_type": "code",
   "execution_count": 22,
   "metadata": {},
   "outputs": [],
   "source": [
    "def nested_cross_validation_evaluation(X, y, number_of_folds, error_function, configure_model, configs):\n",
    "    \n",
    "    # niz svih predikcija modela na skupu X\n",
    "    y_predicted = np.empty(y.size)\n",
    "    \n",
    "    # odrejujemo indekse instanci po slojevima\n",
    "    ix = np.arange(0, X.shape[0]) % number_of_folds\n",
    "    \n",
    "    # za svaki sloj\n",
    "    for i in range(number_of_folds):\n",
    "        # određujemo trening i validacioni skup\n",
    "        X_train_validation = X[ix != i]\n",
    "        y_train_validation = y[ix != i]\n",
    "        \n",
    "        # određujemo test skup\n",
    "        X_test = X[ix == i]\n",
    "        y_test = y[ix == i]\n",
    "        \n",
    "        # određujemo najbolji model unakrsnom validacijom\n",
    "        model = cross_validation_selection(X_train_validation, y_train_validation,\\\n",
    "                                           number_of_folds, error_function, configure_model, configs)\n",
    "        \n",
    "        # čuvamo vrednosti predikcije modela na skupu za testiranje\n",
    "        y_predicted[ix == i] = model.predict(X_test)\n",
    "        \n",
    "    # funkcija vraća grešku na nivou celog skupa\n",
    "    return error_function(y, y_predicted)"
   ]
  },
  {
   "cell_type": "code",
   "execution_count": 23,
   "metadata": {},
   "outputs": [
    {
     "data": {
      "text/plain": [
       "0.37258347978910367"
      ]
     },
     "execution_count": 23,
     "metadata": {},
     "output_type": "execute_result"
    }
   ],
   "source": [
    "nested_cross_validation_evaluation(X, y, 10, classification_error, configure_svm_model, configurations)"
   ]
  },
  {
   "cell_type": "code",
   "execution_count": null,
   "metadata": {},
   "outputs": [],
   "source": []
  }
 ],
 "metadata": {
  "kernelspec": {
   "display_name": "Python 3",
   "language": "python",
   "name": "python3"
  },
  "language_info": {
   "codemirror_mode": {
    "name": "ipython",
    "version": 3
   },
   "file_extension": ".py",
   "mimetype": "text/x-python",
   "name": "python",
   "nbconvert_exporter": "python",
   "pygments_lexer": "ipython3",
   "version": "3.7.6"
  }
 },
 "nbformat": 4,
 "nbformat_minor": 2
}
