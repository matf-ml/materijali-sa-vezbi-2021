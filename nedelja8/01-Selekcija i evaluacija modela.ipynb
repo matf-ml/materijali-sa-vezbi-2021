{
 "cells": [
  {
   "cell_type": "markdown",
   "metadata": {},
   "source": [
    "# Selekcija i evaluacija modela"
   ]
  },
  {
   "cell_type": "markdown",
   "metadata": {},
   "source": [
    "Selekcija (izbor) optimalnog modela i njegova evaluacija su zadaci koji prate razvoj svakog modela mašinskog učenja. Cilj ove sveske je da približi pojmove i tehnike koje se koriste u praksi. "
   ]
  },
  {
   "cell_type": "code",
   "execution_count": 1,
   "metadata": {},
   "outputs": [],
   "source": [
    "import numpy as np\n",
    "import pandas as pd\n",
    "from matplotlib import pyplot as plt"
   ]
  },
  {
   "cell_type": "code",
   "execution_count": 2,
   "metadata": {},
   "outputs": [],
   "source": [
    "from sklearn import model_selection\n",
    "from sklearn import linear_model\n",
    "from sklearn import svm\n",
    "from sklearn import metrics\n",
    "from sklearn import datasets\n",
    "from sklearn import preprocessing"
   ]
  },
  {
   "cell_type": "markdown",
   "metadata": {},
   "source": [
    "Skup podataka nad kojim ćemo demonstrirati tehnike selekcije i evaluacije modela je Viskonsin skup podataka za klasifikaciju tumora na benigne i maligne."
   ]
  },
  {
   "cell_type": "code",
   "execution_count": 3,
   "metadata": {},
   "outputs": [],
   "source": [
    "data = datasets.load_breast_cancer()"
   ]
  },
  {
   "cell_type": "code",
   "execution_count": 4,
   "metadata": {},
   "outputs": [],
   "source": [
    "X = data.data"
   ]
  },
  {
   "cell_type": "code",
   "execution_count": 5,
   "metadata": {},
   "outputs": [],
   "source": [
    "y = data.target"
   ]
  },
  {
   "cell_type": "markdown",
   "metadata": {},
   "source": [
    "Klasifikator sa kojim ćemo eksperimentisati će biti kernelizovani SVM klasifikator. "
   ]
  },
  {
   "cell_type": "markdown",
   "metadata": {},
   "source": [
    "Pod hiperparametrima ili metaparametrima modela podrazumevamo parametre kojima se modeli konfigurišu. Na primer, to mogu biti vrednosti regularizacionih konstanti, broj najbližih suseda $k$ za $k$-nn algoritam, parametri kernela za kernelizovane metode, i mnogi drugi.  "
   ]
  },
  {
   "cell_type": "markdown",
   "metadata": {},
   "source": [
    "# Selekcija i evaluacija modela koji nemaju parametre"
   ]
  },
  {
   "cell_type": "markdown",
   "metadata": {},
   "source": [
    "## Skupovi za treniranje i testiranje"
   ]
  },
  {
   "cell_type": "markdown",
   "metadata": {},
   "source": [
    "U slučejevima kada modeli nemaju hiperparametre koje treba podešavati ili kada ih nije potrebno podešavati (što je u praksi jako retko), možemo podeliti skup podataka na skup za treniranje i skup za testiranje. Važno je upamtiti da ova dva skupa treba da budu **disjunktna**. \n",
    "\n",
    "<img src='assets/train_test.png'>"
   ]
  },
  {
   "cell_type": "markdown",
   "metadata": {},
   "source": [
    "Ovu podelu smo do sada vršili korišćenjem bibliotečke funkcije `train_test_split` pri čemu smo prilikom podele parametrom `test_size` (ili ekvivalentno parametrom `train_size`) naglašavali dimenzije ovih skupova. Takođe, kako je podela skupova bila nasumična, parametrom `random_state` smo uticali na proces ove podele kako bi omogućili da se eksperimenti po potrebi reprodukuju."
   ]
  },
  {
   "cell_type": "code",
   "execution_count": 6,
   "metadata": {},
   "outputs": [],
   "source": [
    "X_train, X_test, y_train, y_test = model_selection.train_test_split(X, y, test_size = 0.33, stratify = y, random_state = 10)"
   ]
  },
  {
   "cell_type": "markdown",
   "metadata": {},
   "source": [
    "Nakon podele dobijene skupove dodatno obrađujemo tako što ih standardizujemo. Srednju vrednost i standardnu devijaciju računamo na onsovu instanci koje se nalaze **isključivo u skupu za treniranje**, i onda tako dobijene vrednosti koristimo i za standardizaciju skupa za testiranje. Do sada smo ovaj zadatak ispunjavali korišćenjem bibliotečke klase `StandardScaler` i njenih metoda `fit` i `transform`."
   ]
  },
  {
   "cell_type": "code",
   "execution_count": 7,
   "metadata": {},
   "outputs": [],
   "source": [
    "scaler = preprocessing.StandardScaler()\n",
    "scaler.fit(X_train)\n",
    "X_train = scaler.transform(X_train)\n",
    "X_test = scaler.transform(X_test)"
   ]
  },
  {
   "cell_type": "markdown",
   "metadata": {},
   "source": [
    "Model dalje treniramo nad skupom za treniranje i ocenjujemo ga (evaluiramo) na skupu za testiranje birajući neku od metrika relevantnih za zadatak klasifikacije. "
   ]
  },
  {
   "cell_type": "code",
   "execution_count": 8,
   "metadata": {},
   "outputs": [
    {
     "data": {
      "text/plain": [
       "SVC(C=1.0, break_ties=False, cache_size=200, class_weight=None, coef0=0.0,\n",
       "    decision_function_shape='ovr', degree=3, gamma='scale', kernel='rbf',\n",
       "    max_iter=-1, probability=False, random_state=None, shrinking=True,\n",
       "    tol=0.001, verbose=False)"
      ]
     },
     "execution_count": 8,
     "metadata": {},
     "output_type": "execute_result"
    }
   ],
   "source": [
    "model = svm.SVC()\n",
    "model.fit(X_train, y_train)"
   ]
  },
  {
   "cell_type": "code",
   "execution_count": 9,
   "metadata": {},
   "outputs": [],
   "source": [
    "accuracy_score = model.score(X_test, y_test)"
   ]
  },
  {
   "cell_type": "code",
   "execution_count": 10,
   "metadata": {},
   "outputs": [
    {
     "data": {
      "text/plain": [
       "0.9627659574468085"
      ]
     },
     "execution_count": 10,
     "metadata": {},
     "output_type": "execute_result"
    }
   ],
   "source": [
    "accuracy_score"
   ]
  },
  {
   "cell_type": "code",
   "execution_count": null,
   "metadata": {},
   "outputs": [],
   "source": []
  },
  {
   "cell_type": "markdown",
   "metadata": {},
   "source": [
    "## Unakrsna validacija"
   ]
  },
  {
   "cell_type": "markdown",
   "metadata": {},
   "source": [
    "Podela skupa podataka na skup za treniranje i skup za testiranje je nasumična tako da možemo imati podelu koja daje optimistično dobre ili nerealno loše rezultate. Zato je praksa da se, kadgod to skupovi podataka i modeli dozvoljavaju, više puta izvrši podela polaznog skupa na skup za treniranje i testiranje tako da svaka od instanci skupa dobije priliku da se nađe i u jednom i u drugom skupu. Jedan takav postupak predstavlja višeslojna unakrsna validacija (engl. cross validation). <img src='assets/cross_validation.png'>"
   ]
  },
  {
   "cell_type": "markdown",
   "metadata": {},
   "source": [
    "Unakrsna validacija podrazumeva podelu skupa svih podataka na manje grupe, takozvane slojeve (engl. folds), recimo $k$ njih, i treniranje i evaluaciju koji se ponavljaju tačno $k$ puta. U prvom krugu treniranja i evaluacije, prvi sloj se koristi za testiranje, a preostalih $k-1$ slojeva se koristi za treniranje modela. U drugom krugu treniranja i evaluacije, drugi sloj se koristi sa testiranje, a prestalih $k-1$ slojeva za treniranje. U poslednjem krugu treniranja i evaluacije, poslednji sloj se koristi za testiranje, a prvih $k-1$ slojeva za treniranje modela. \n",
    "\n",
    "Na slici je prikazana unakrsna validacija sa 7 slojeva. U praksi se najčešće koriste podele na 3, 5 ili 10 slojeva. Posebno, ukoliko broj slojeva odgovara broju instanci u skupu, možemo govoriti o `leave-one-out` tehnici. Nju smo imali prilike da vidimo u primeru vezanom za Nadaraja-Votson regresiju. "
   ]
  },
  {
   "cell_type": "markdown",
   "metadata": {},
   "source": [
    "Biblioteka `scikit-learn` preko klase `KFold` omogućava particionisanje skupa podataka na opisani način. Nakon što se zada broj slojeva preko parametra `n_splits` metodom `split` se za svaku iteraciju generiše niz skupova indeksa instanci koje treba da se nađu u skupu za treniranje i skupu za testiranje. "
   ]
  },
  {
   "cell_type": "markdown",
   "metadata": {},
   "source": [
    "Sledeći primer ilustruje proces za unakrsnu validaciju sa 10 slojeva."
   ]
  },
  {
   "cell_type": "code",
   "execution_count": 11,
   "metadata": {},
   "outputs": [],
   "source": [
    "kf = model_selection.KFold(n_splits=10)"
   ]
  },
  {
   "cell_type": "code",
   "execution_count": 12,
   "metadata": {},
   "outputs": [],
   "source": [
    "# u niz accuracy_scores ćemo smeštati dobijenu tačnost modela u svakoj od iteracija\n",
    "accuracy_scores = []"
   ]
  },
  {
   "cell_type": "code",
   "execution_count": 13,
   "metadata": {},
   "outputs": [],
   "source": [
    "# za svaku iteraciju\n",
    "for train_indexes, test_indexes in kf.split(X, y):\n",
    "    # izdvajamo instance skupa za treniranje\n",
    "    X_train = X[train_indexes]\n",
    "    y_train = y[train_indexes]\n",
    "    \n",
    "    # izdvajamo instance skupa za testiranje\n",
    "    X_test = X[test_indexes]\n",
    "    y_test = y[test_indexes]\n",
    "    \n",
    "    # pripremamo podatke\n",
    "    scaler = preprocessing.StandardScaler()\n",
    "    scaler.fit(X_train)\n",
    "    X_train_transformed = scaler.transform(X_train)\n",
    "    X_test_transformed = scaler.transform(X_test)\n",
    "    \n",
    "    # obučavamo model na pripremljenom skupu za treniranje\n",
    "    model = svm.SVC()\n",
    "    model.fit(X_train_transformed, y_train)\n",
    "    \n",
    "    # i evaluiramo model na pripremljenom skupu za testiranje\n",
    "    score = model.score(X_test_transformed, y_test)\n",
    "    \n",
    "    # ovako dobijenu ocenu čuvamo u nizu svih ocena\n",
    "    accuracy_scores.append(score)"
   ]
  },
  {
   "cell_type": "markdown",
   "metadata": {},
   "source": [
    "Pošto smo koristitli unakrsnu validaciju sa 10 slojeva, u našem nizu sa ocenama modela se nalazi 10 ocena."
   ]
  },
  {
   "cell_type": "code",
   "execution_count": 14,
   "metadata": {},
   "outputs": [
    {
     "data": {
      "text/plain": [
       "[0.9824561403508771,\n",
       " 0.9473684210526315,\n",
       " 0.9473684210526315,\n",
       " 1.0,\n",
       " 0.9649122807017544,\n",
       " 0.9824561403508771,\n",
       " 1.0,\n",
       " 0.9824561403508771,\n",
       " 1.0,\n",
       " 0.9642857142857143]"
      ]
     },
     "execution_count": 14,
     "metadata": {},
     "output_type": "execute_result"
    }
   ],
   "source": [
    "accuracy_scores"
   ]
  },
  {
   "cell_type": "markdown",
   "metadata": {},
   "source": [
    "Za tačnost našeg modela, možemo proglasiti srednju vrednost dobijenih tačnosti:"
   ]
  },
  {
   "cell_type": "code",
   "execution_count": 15,
   "metadata": {},
   "outputs": [],
   "source": [
    "accuracy = np.array(accuracy_scores).mean()"
   ]
  },
  {
   "cell_type": "code",
   "execution_count": 16,
   "metadata": {},
   "outputs": [
    {
     "name": "stdout",
     "output_type": "stream",
     "text": [
      "Tacnost modela je:  0.9771303258145363\n"
     ]
    }
   ],
   "source": [
    "print('Tacnost modela je: ', accuracy)"
   ]
  },
  {
   "cell_type": "markdown",
   "metadata": {},
   "source": [
    "Treba biti **oprezan** sa uprosečavanjem dobijenih vrednosti. Na primer, koeficijent determinacije koji se koristi za ocenu regresionih modela može biti i pozitivan i negativan pa se uprosečavanjem može dobiti pogrešna ocena. Neki od načina za popravke ovakve evaluacije će biti prikazani u sledećoj svesci."
   ]
  },
  {
   "cell_type": "code",
   "execution_count": null,
   "metadata": {},
   "outputs": [],
   "source": []
  },
  {
   "cell_type": "markdown",
   "metadata": {},
   "source": [
    "### Bibliotečka podrška unakrsnoj validaciji"
   ]
  },
  {
   "cell_type": "markdown",
   "metadata": {},
   "source": [
    "Pošto je zadatak unakrsne validacije čest, biblioteka `scikit-learn` stavlja na raspolaganje funkciju `cross_val_score` koja vrši unakrsnu validaciju. Ova funkcija od parametara očekuje model koji se evaluira, ceo skup podataka, funkciju za ocenu modela i broj slojeva (ili podeone indekse koji se u njima nalaze)."
   ]
  },
  {
   "cell_type": "code",
   "execution_count": 17,
   "metadata": {},
   "outputs": [],
   "source": [
    "X = data.data"
   ]
  },
  {
   "cell_type": "code",
   "execution_count": 18,
   "metadata": {},
   "outputs": [],
   "source": [
    "y = data.target"
   ]
  },
  {
   "cell_type": "code",
   "execution_count": 19,
   "metadata": {},
   "outputs": [],
   "source": [
    "accuracy_scores = model_selection.cross_val_score(svm.SVC(), X, y, scoring='accuracy', cv=kf)"
   ]
  },
  {
   "cell_type": "code",
   "execution_count": 20,
   "metadata": {},
   "outputs": [
    {
     "data": {
      "text/plain": [
       "array([0.70175439, 0.9122807 , 0.9122807 , 0.89473684, 0.96491228,\n",
       "       0.98245614, 0.94736842, 0.94736842, 0.9122807 , 0.98214286])"
      ]
     },
     "execution_count": 20,
     "metadata": {},
     "output_type": "execute_result"
    }
   ],
   "source": [
    "accuracy_scores"
   ]
  },
  {
   "cell_type": "code",
   "execution_count": 21,
   "metadata": {},
   "outputs": [
    {
     "data": {
      "text/plain": [
       "0.9157581453634085"
      ]
     },
     "execution_count": 21,
     "metadata": {},
     "output_type": "execute_result"
    }
   ],
   "source": [
    "accuracy_scores.mean()"
   ]
  },
  {
   "cell_type": "markdown",
   "metadata": {},
   "source": [
    "Možemo primetiti da su vrednosti koje dobijamo nešto drugačije (niže) od vrednosti koje smo dobili prilikom prethodne implementacije. Ovo ponašanje dolazi kao posledica treniranja i testiranja modela na odgovarajućim podelama skupova koje nisu standardizovane. Njega možemo popraviti uvođenjem takozvanih `cevovoda` (engl. pipeline) koji definišu niz koraka koji treba sprovesti. Podrška za rad sa cevovodima dolazi kroz `pipeline` paket `scikit-learn` biblioteke."
   ]
  },
  {
   "cell_type": "code",
   "execution_count": 22,
   "metadata": {},
   "outputs": [],
   "source": [
    "from sklearn import pipeline"
   ]
  },
  {
   "cell_type": "code",
   "execution_count": null,
   "metadata": {},
   "outputs": [],
   "source": []
  },
  {
   "cell_type": "markdown",
   "metadata": {},
   "source": [
    "Mi ćemo definisati cevovod kojim naglašavamo da se prilikom podele prvo primenjuje standardizacija, a zatim i obučavanje modela. Tako ćemo dobiti unakrsnu validaciju ekvivalentnu implementiranoj."
   ]
  },
  {
   "cell_type": "code",
   "execution_count": 23,
   "metadata": {},
   "outputs": [],
   "source": [
    "svc_pipeline =  pipeline.make_pipeline(preprocessing.StandardScaler(), svm.SVC())"
   ]
  },
  {
   "cell_type": "code",
   "execution_count": 24,
   "metadata": {},
   "outputs": [],
   "source": [
    "accuracy_scores_with_pipeline = model_selection.cross_val_score(svc_pipeline, X, y, scoring='accuracy', cv=kf)"
   ]
  },
  {
   "cell_type": "code",
   "execution_count": 25,
   "metadata": {},
   "outputs": [
    {
     "data": {
      "text/plain": [
       "array([0.98245614, 0.94736842, 0.94736842, 1.        , 0.96491228,\n",
       "       0.98245614, 1.        , 0.98245614, 1.        , 0.96428571])"
      ]
     },
     "execution_count": 25,
     "metadata": {},
     "output_type": "execute_result"
    }
   ],
   "source": [
    "accuracy_scores_with_pipeline"
   ]
  },
  {
   "cell_type": "code",
   "execution_count": 26,
   "metadata": {},
   "outputs": [
    {
     "data": {
      "text/plain": [
       "0.9771303258145363"
      ]
     },
     "execution_count": 26,
     "metadata": {},
     "output_type": "execute_result"
    }
   ],
   "source": [
    "accuracy_scores_with_pipeline.mean()"
   ]
  },
  {
   "cell_type": "code",
   "execution_count": null,
   "metadata": {},
   "outputs": [],
   "source": []
  },
  {
   "cell_type": "markdown",
   "metadata": {},
   "source": [
    "Unakrsna validacija sa zadatim brojem slojeva, u našem slučaju 10, se može dobiti na sledeći način:"
   ]
  },
  {
   "cell_type": "code",
   "execution_count": 27,
   "metadata": {},
   "outputs": [],
   "source": [
    "accuracy_scores_with_cv = model_selection.cross_val_score(svc_pipeline, X, y, scoring='accuracy', cv=10)"
   ]
  },
  {
   "cell_type": "code",
   "execution_count": 28,
   "metadata": {},
   "outputs": [
    {
     "data": {
      "text/plain": [
       "array([0.98245614, 0.96491228, 0.94736842, 0.98245614, 1.        ,\n",
       "       1.        , 0.92982456, 1.        , 1.        , 0.94642857])"
      ]
     },
     "execution_count": 28,
     "metadata": {},
     "output_type": "execute_result"
    }
   ],
   "source": [
    "accuracy_scores_with_cv"
   ]
  },
  {
   "cell_type": "code",
   "execution_count": 29,
   "metadata": {},
   "outputs": [
    {
     "data": {
      "text/plain": [
       "0.975344611528822"
      ]
     },
     "execution_count": 29,
     "metadata": {},
     "output_type": "execute_result"
    }
   ],
   "source": [
    "accuracy_scores_with_cv.mean()"
   ]
  },
  {
   "cell_type": "markdown",
   "metadata": {},
   "source": [
    "Pošto je ova podela skupa nešto drugačija od naše polazne, i ocena blago odstupa."
   ]
  },
  {
   "cell_type": "code",
   "execution_count": null,
   "metadata": {},
   "outputs": [],
   "source": []
  },
  {
   "cell_type": "markdown",
   "metadata": {},
   "source": [
    "## Finalni model"
   ]
  },
  {
   "cell_type": "markdown",
   "metadata": {},
   "source": [
    "Finalni model je model koji obučavamo nad celim skupom podataka."
   ]
  },
  {
   "cell_type": "code",
   "execution_count": 30,
   "metadata": {},
   "outputs": [],
   "source": [
    "X = data.data\n",
    "y = data.target"
   ]
  },
  {
   "cell_type": "code",
   "execution_count": 31,
   "metadata": {},
   "outputs": [],
   "source": [
    "final_scaler = preprocessing.StandardScaler()\n",
    "X = final_scaler.fit_transform(X)"
   ]
  },
  {
   "cell_type": "code",
   "execution_count": 32,
   "metadata": {},
   "outputs": [],
   "source": [
    "final_model = svm.SVC(X, y)"
   ]
  },
  {
   "cell_type": "code",
   "execution_count": null,
   "metadata": {},
   "outputs": [],
   "source": []
  },
  {
   "cell_type": "markdown",
   "metadata": {},
   "source": [
    "U praksi ovaj korak često nije realističan, pogotovo kada je reč o kompleksnim modelima čije treniranje dugo traje ili zahteva veliku količinu resursa. Zato je često scenario da se za finalni model uzima model koji je obučen na skupu za treniranje. "
   ]
  },
  {
   "cell_type": "code",
   "execution_count": null,
   "metadata": {},
   "outputs": [],
   "source": []
  },
  {
   "cell_type": "markdown",
   "metadata": {},
   "source": [
    "# Selekcija i evaluacija modela sa parametrima"
   ]
  },
  {
   "cell_type": "markdown",
   "metadata": {},
   "source": [
    "## Skupovi za treniranje, validaciju i testiranje"
   ]
  },
  {
   "cell_type": "markdown",
   "metadata": {},
   "source": [
    "Kako bi se odredile optimalne vrednosti parametara modela, praksa je da se polazni skup podataka podeli na skup za treniranje, skup za validaciju i skup za testiranje. Model se trenira nad skupom za treniranje za različite vrednosti parametara i ocenjuje na skupu za validaciju. Na osnovu ovako dobijenih rezultata se biraju optimalna vrednosti parametara. Dalje se ovaj model evaluira na skupu za testiranje i tako dobijena ocena se smatra ocenom modela. \n",
    "<img src='assets/train_validation_test.png'>"
   ]
  },
  {
   "cell_type": "markdown",
   "metadata": {},
   "source": [
    "Opisanu podelu skupa podataka možemo dobiti bibliotečkom funkcijom `train_test_split`.  "
   ]
  },
  {
   "cell_type": "code",
   "execution_count": 33,
   "metadata": {},
   "outputs": [],
   "source": [
    "X = data.data\n",
    "y = data.target"
   ]
  },
  {
   "cell_type": "code",
   "execution_count": null,
   "metadata": {},
   "outputs": [],
   "source": []
  },
  {
   "cell_type": "code",
   "execution_count": 34,
   "metadata": {},
   "outputs": [],
   "source": [
    "X_train_validation, X_test, y_train_validation, y_test = \\\n",
    "    model_selection.train_test_split(X, y, test_size=0.33, stratify = y, random_state = 7)"
   ]
  },
  {
   "cell_type": "code",
   "execution_count": 35,
   "metadata": {},
   "outputs": [],
   "source": [
    "X_train, X_validation, y_train, y_validation =\\\n",
    "    model_selection.train_test_split(X_train_validation, y_train_validation, test_size = 0.2, stratify = y_train_validation, random_state = 7)"
   ]
  },
  {
   "cell_type": "markdown",
   "metadata": {},
   "source": [
    "Pošto treniramo kernelizovani SVM model, možemo odrediti optimalnu vrednost regularizacionog parametra `C` i širinu  Gausovog kernela `gamma`. "
   ]
  },
  {
   "cell_type": "code",
   "execution_count": 36,
   "metadata": {},
   "outputs": [],
   "source": [
    "Cs = np.array([10**i for i in range(-5, 5)])\n",
    "gammas = np.array([10**i for i in range(-3, 3)])"
   ]
  },
  {
   "cell_type": "code",
   "execution_count": null,
   "metadata": {},
   "outputs": [],
   "source": []
  },
  {
   "cell_type": "markdown",
   "metadata": {},
   "source": [
    "Optimalne vrednosti parametara modela ćemo ocenjivati na validacionom skupu. Pre toga ćemo pripremiti skupove tj. standardizacovaćemo ih."
   ]
  },
  {
   "cell_type": "code",
   "execution_count": 37,
   "metadata": {},
   "outputs": [],
   "source": [
    "scaler_tv = preprocessing.StandardScaler()\n",
    "scaler_tv.fit(X_train)\n",
    "X_train = scaler_tv.transform(X_train)\n",
    "X_validation = scaler_tv.transform(X_validation)"
   ]
  },
  {
   "cell_type": "markdown",
   "metadata": {},
   "source": [
    "Promenljiva `best_score` će čuvati informaciju o najboljem ostvarenom skoru klasifikatora, dok će promenljiva `best_params` čuvati vrednosti parametara za koje je ovaj skor dobijen. "
   ]
  },
  {
   "cell_type": "code",
   "execution_count": 38,
   "metadata": {},
   "outputs": [],
   "source": [
    "best_score = 0 \n",
    "best_params = {'C':0, 'gamma': 0}\n",
    "\n",
    "# za sve kombinacije C i gamma parametara\n",
    "for C in Cs: \n",
    "    for gamma in gammas:\n",
    "        # treniramo model na skupu za treniranje\n",
    "        model = svm.SVC(C = C, gamma = gamma)\n",
    "        model.fit(X_train, y_train)\n",
    "        # ocenjujemo model na skupu za validaciju\n",
    "        y_predicted = model.predict(X_validation)\n",
    "        score = metrics.accuracy_score(y_validation, y_predicted)\n",
    "        # ukoliko je dobijeni skor najbolji, pamtimo njegovu vrednost i vrednosti parametara\n",
    "        if score > best_score: \n",
    "            best_score = score\n",
    "            best_params['C'] = C\n",
    "            best_params['gamma'] = gamma"
   ]
  },
  {
   "cell_type": "code",
   "execution_count": 39,
   "metadata": {},
   "outputs": [
    {
     "data": {
      "text/plain": [
       "0.987012987012987"
      ]
     },
     "execution_count": 39,
     "metadata": {},
     "output_type": "execute_result"
    }
   ],
   "source": [
    "best_score"
   ]
  },
  {
   "cell_type": "code",
   "execution_count": 40,
   "metadata": {},
   "outputs": [
    {
     "data": {
      "text/plain": [
       "{'C': 10.0, 'gamma': 0.01}"
      ]
     },
     "execution_count": 40,
     "metadata": {},
     "output_type": "execute_result"
    }
   ],
   "source": [
    "best_params"
   ]
  },
  {
   "cell_type": "markdown",
   "metadata": {},
   "source": [
    "Za dobijene vrednosti parametara obučavamo model na **uniji** skupa za treniranje i validaciju. Pre toga ćemo pripremiti skup tako što ćemo ga standardizovati. "
   ]
  },
  {
   "cell_type": "code",
   "execution_count": 41,
   "metadata": {},
   "outputs": [],
   "source": [
    "scaler_tt = preprocessing.StandardScaler()\n",
    "scaler_tt.fit(X_train_validation)\n",
    "X_train_validation = scaler_tt.transform(X_train_validation)"
   ]
  },
  {
   "cell_type": "code",
   "execution_count": null,
   "metadata": {},
   "outputs": [],
   "source": []
  },
  {
   "cell_type": "code",
   "execution_count": 42,
   "metadata": {},
   "outputs": [],
   "source": [
    "model = svm.SVC(C=best_params['C'], gamma=best_params['gamma'])"
   ]
  },
  {
   "cell_type": "code",
   "execution_count": 43,
   "metadata": {},
   "outputs": [
    {
     "data": {
      "text/plain": [
       "SVC(C=10.0, break_ties=False, cache_size=200, class_weight=None, coef0=0.0,\n",
       "    decision_function_shape='ovr', degree=3, gamma=0.01, kernel='rbf',\n",
       "    max_iter=-1, probability=False, random_state=None, shrinking=True,\n",
       "    tol=0.001, verbose=False)"
      ]
     },
     "execution_count": 43,
     "metadata": {},
     "output_type": "execute_result"
    }
   ],
   "source": [
    "model.fit(X_train_validation, y_train_validation)"
   ]
  },
  {
   "cell_type": "markdown",
   "metadata": {},
   "source": [
    "Model evaluiramo na skupu za testiranje. Pre toga ćemo pripremiti skup tako što ćemo ga standardizovati koristeći informacije o srednjoj vrednosti i standardnoj devijaciji `X_train_validation` skupa nad kojem je model treniran."
   ]
  },
  {
   "cell_type": "code",
   "execution_count": 44,
   "metadata": {},
   "outputs": [],
   "source": [
    "X_test = scaler_tt.transform(X_test)"
   ]
  },
  {
   "cell_type": "code",
   "execution_count": 45,
   "metadata": {},
   "outputs": [],
   "source": [
    "y_predicted = model.predict(X_test)"
   ]
  },
  {
   "cell_type": "code",
   "execution_count": 46,
   "metadata": {},
   "outputs": [
    {
     "data": {
      "text/plain": [
       "0.9680851063829787"
      ]
     },
     "execution_count": 46,
     "metadata": {},
     "output_type": "execute_result"
    }
   ],
   "source": [
    "metrics.accuracy_score(y_test, y_predicted)"
   ]
  },
  {
   "cell_type": "code",
   "execution_count": null,
   "metadata": {},
   "outputs": [],
   "source": []
  },
  {
   "cell_type": "markdown",
   "metadata": {},
   "source": [
    "### Unakrsna validacija"
   ]
  },
  {
   "cell_type": "markdown",
   "metadata": {},
   "source": [
    "Podela skupa podataka na skup za treniranje, validaciju i testiranje ima iste nedostatke kao i podela opisana u slučaju neparametarskih modela. Stoga se može koristiti unakrsna validacija. "
   ]
  },
  {
   "cell_type": "markdown",
   "metadata": {},
   "source": [
    "### Unakrsna validacija za evaluaciju modela sa parametrima"
   ]
  },
  {
   "cell_type": "markdown",
   "metadata": {},
   "source": [
    "Ukoliko su vrednosti hiperparameta poznate, unakrsna validacija se primenjuje na način koji smo do sada upoznali."
   ]
  },
  {
   "cell_type": "code",
   "execution_count": 47,
   "metadata": {},
   "outputs": [],
   "source": [
    "X = data.data\n",
    "y = data.target"
   ]
  },
  {
   "cell_type": "code",
   "execution_count": 48,
   "metadata": {},
   "outputs": [],
   "source": [
    "model = svm.SVC(C=best_params['C'], gamma=best_params['gamma'])"
   ]
  },
  {
   "cell_type": "code",
   "execution_count": 49,
   "metadata": {},
   "outputs": [],
   "source": [
    "scaler = preprocessing.StandardScaler()"
   ]
  },
  {
   "cell_type": "code",
   "execution_count": 50,
   "metadata": {},
   "outputs": [],
   "source": [
    "svc_pipeline =  pipeline.make_pipeline(scaler, model)"
   ]
  },
  {
   "cell_type": "code",
   "execution_count": 51,
   "metadata": {},
   "outputs": [],
   "source": [
    "scores = model_selection.cross_val_score(svc_pipeline, X, y, scoring='accuracy', cv = 10)"
   ]
  },
  {
   "cell_type": "code",
   "execution_count": 52,
   "metadata": {},
   "outputs": [
    {
     "data": {
      "text/plain": [
       "array([1.        , 0.98245614, 0.96491228, 0.98245614, 0.98245614,\n",
       "       0.98245614, 0.92982456, 1.        , 1.        , 0.96428571])"
      ]
     },
     "execution_count": 52,
     "metadata": {},
     "output_type": "execute_result"
    }
   ],
   "source": [
    "scores"
   ]
  },
  {
   "cell_type": "code",
   "execution_count": 53,
   "metadata": {},
   "outputs": [
    {
     "data": {
      "text/plain": [
       "0.9788847117794484"
      ]
     },
     "execution_count": 53,
     "metadata": {},
     "output_type": "execute_result"
    }
   ],
   "source": [
    "scores.mean()"
   ]
  },
  {
   "cell_type": "code",
   "execution_count": null,
   "metadata": {},
   "outputs": [],
   "source": []
  },
  {
   "cell_type": "markdown",
   "metadata": {},
   "source": [
    "### Određivanje vrednosti hiperparametra unakrsnom validacijom"
   ]
  },
  {
   "cell_type": "markdown",
   "metadata": {},
   "source": [
    "Unakrsna validacija se može koristiti i za određivanje vrednosti hiperparametara modela. Ovde treba obratiti pažnju da se prosleđuje unija trening i validacinog skupa metodi `cross_val_score`."
   ]
  },
  {
   "cell_type": "code",
   "execution_count": 54,
   "metadata": {},
   "outputs": [],
   "source": [
    "Cs = np.array([10**i for i in range(-5, 5)])\n",
    "gammas = np.array([10**i for i in range(-3, 3)])"
   ]
  },
  {
   "cell_type": "code",
   "execution_count": 55,
   "metadata": {},
   "outputs": [],
   "source": [
    "best_score = 0 \n",
    "best_params = {'C':0, 'gamma': 0}\n",
    "\n",
    "scaler = preprocessing.StandardScaler()\n",
    "\n",
    "# za sve kombinacije C i gamma parametara\n",
    "for C in Cs: \n",
    "    for gamma in gammas:\n",
    "        # vrsimo ocenu modela na uniji trening i validacionog skupa koriscenjem 10-struke unakrsne validacije\n",
    "        model = svm.SVC(C=C, gamma=gamma)\n",
    "        svc_pipeline = pipeline.make_pipeline(scaler, model)\n",
    "        scores = model_selection.cross_val_score(svc_pipeline, X_train_validation, y_train_validation, scoring='accuracy', cv=10)\n",
    "        \n",
    "        # za skor (ocenu) modela uzimamo prosek dobijenih vrednosti\n",
    "        score = scores.mean()\n",
    "        \n",
    "        # ukoliko je dobijeni skor najbolji, pamtimo njegovu vrednost i vrednost parametara\n",
    "        if score > best_score: \n",
    "            best_score = score\n",
    "            best_params['C'] = C\n",
    "            best_params['gamma'] = gamma"
   ]
  },
  {
   "cell_type": "code",
   "execution_count": 56,
   "metadata": {},
   "outputs": [
    {
     "data": {
      "text/plain": [
       "0.97638326585695"
      ]
     },
     "execution_count": 56,
     "metadata": {},
     "output_type": "execute_result"
    }
   ],
   "source": [
    "best_score"
   ]
  },
  {
   "cell_type": "code",
   "execution_count": 57,
   "metadata": {},
   "outputs": [
    {
     "data": {
      "text/plain": [
       "{'C': 10.0, 'gamma': 0.01}"
      ]
     },
     "execution_count": 57,
     "metadata": {},
     "output_type": "execute_result"
    }
   ],
   "source": [
    "best_params"
   ]
  },
  {
   "cell_type": "code",
   "execution_count": null,
   "metadata": {},
   "outputs": [],
   "source": []
  },
  {
   "cell_type": "markdown",
   "metadata": {},
   "source": [
    "Biblioteka `scikit-learn` nudi podršku za korišćenje unakrsne validacije za određivanje vrednosti hiperparametara pomoću klase `GridSearchCV`(CV na kraju naziva metode je akronim za `cross-validation`). Konstruktor očekuje model za koji treba odrediti vrednosti parametara, rečnik svih parametara koje treba razmotriti, funkciju za ocenu modela, broj slojeva i, opciono, parametar kojim se naglašava da se svi dobijeni rezultati mogu sačuvati u formi izveštaja. Potom se metodom `fit` vrši pretraga prostora parametara na gore opisani način, takođe nad unijom skupa za treniranje i validaciju."
   ]
  },
  {
   "cell_type": "code",
   "execution_count": 58,
   "metadata": {},
   "outputs": [],
   "source": [
    "grid_model = pipeline.Pipeline(steps=[('scaler', preprocessing.StandardScaler()), ('svm', svm.SVC())])\n",
    "params = {\n",
    "    'svm__C': [10**i for i in range(-5, 5)], \n",
    "    'svm__gamma': [10**i for i in range(-3, 3)]\n",
    "}\n",
    "grid = model_selection.GridSearchCV(grid_model, param_grid=params, scoring='accuracy', cv=10, return_train_score=True)"
   ]
  },
  {
   "cell_type": "code",
   "execution_count": 59,
   "metadata": {},
   "outputs": [
    {
     "data": {
      "text/plain": [
       "GridSearchCV(cv=10, error_score=nan,\n",
       "             estimator=Pipeline(memory=None,\n",
       "                                steps=[('scaler',\n",
       "                                        StandardScaler(copy=True,\n",
       "                                                       with_mean=True,\n",
       "                                                       with_std=True)),\n",
       "                                       ('svm',\n",
       "                                        SVC(C=1.0, break_ties=False,\n",
       "                                            cache_size=200, class_weight=None,\n",
       "                                            coef0=0.0,\n",
       "                                            decision_function_shape='ovr',\n",
       "                                            degree=3, gamma='scale',\n",
       "                                            kernel='rbf', max_iter=-1,\n",
       "                                            probability=False,\n",
       "                                            random_state=None, shrinking=True,\n",
       "                                            tol=0.001, verbose=False))],\n",
       "                                verbose=False),\n",
       "             iid='deprecated', n_jobs=None,\n",
       "             param_grid={'svm__C': [1e-05, 0.0001, 0.001, 0.01, 0.1, 1, 10, 100,\n",
       "                                    1000, 10000],\n",
       "                         'svm__gamma': [0.001, 0.01, 0.1, 1, 10, 100]},\n",
       "             pre_dispatch='2*n_jobs', refit=True, return_train_score=True,\n",
       "             scoring='accuracy', verbose=0)"
      ]
     },
     "execution_count": 59,
     "metadata": {},
     "output_type": "execute_result"
    }
   ],
   "source": [
    "grid.fit(X_train_validation, y_train_validation)"
   ]
  },
  {
   "cell_type": "markdown",
   "metadata": {},
   "source": [
    "Svojstva `best_score_` i `best_params_` omogućavaju očitavanje najboljeg rezultata i njemu pridruženih parametara."
   ]
  },
  {
   "cell_type": "code",
   "execution_count": 60,
   "metadata": {},
   "outputs": [
    {
     "data": {
      "text/plain": [
       "0.97638326585695"
      ]
     },
     "execution_count": 60,
     "metadata": {},
     "output_type": "execute_result"
    }
   ],
   "source": [
    "grid.best_score_"
   ]
  },
  {
   "cell_type": "code",
   "execution_count": 61,
   "metadata": {},
   "outputs": [
    {
     "data": {
      "text/plain": [
       "{'svm__C': 10, 'svm__gamma': 0.01}"
      ]
     },
     "execution_count": 61,
     "metadata": {},
     "output_type": "execute_result"
    }
   ],
   "source": [
    "grid.best_params_"
   ]
  },
  {
   "cell_type": "markdown",
   "metadata": {},
   "source": [
    "Informacije o svakom koraku unakrsne validacije za svaku kombinaciju vrednosti hiperparametara su dostupne kroz izveštaj `cv_results_`. Broj različitih vrednosti parametra `C` je 10, a parametra `gamma` 6. "
   ]
  },
  {
   "cell_type": "code",
   "execution_count": 62,
   "metadata": {},
   "outputs": [],
   "source": [
    "cv_results = pd.DataFrame(grid.cv_results_)"
   ]
  },
  {
   "cell_type": "code",
   "execution_count": 63,
   "metadata": {},
   "outputs": [
    {
     "data": {
      "text/plain": [
       "(60, 32)"
      ]
     },
     "execution_count": 63,
     "metadata": {},
     "output_type": "execute_result"
    }
   ],
   "source": [
    "cv_results.shape"
   ]
  },
  {
   "cell_type": "markdown",
   "metadata": {},
   "source": [
    "Vrednosti koje se čuvaju na nivou izveštaja su:"
   ]
  },
  {
   "cell_type": "code",
   "execution_count": 64,
   "metadata": {},
   "outputs": [
    {
     "data": {
      "text/plain": [
       "Index(['mean_fit_time', 'std_fit_time', 'mean_score_time', 'std_score_time',\n",
       "       'param_svm__C', 'param_svm__gamma', 'params', 'split0_test_score',\n",
       "       'split1_test_score', 'split2_test_score', 'split3_test_score',\n",
       "       'split4_test_score', 'split5_test_score', 'split6_test_score',\n",
       "       'split7_test_score', 'split8_test_score', 'split9_test_score',\n",
       "       'mean_test_score', 'std_test_score', 'rank_test_score',\n",
       "       'split0_train_score', 'split1_train_score', 'split2_train_score',\n",
       "       'split3_train_score', 'split4_train_score', 'split5_train_score',\n",
       "       'split6_train_score', 'split7_train_score', 'split8_train_score',\n",
       "       'split9_train_score', 'mean_train_score', 'std_train_score'],\n",
       "      dtype='object')"
      ]
     },
     "execution_count": 64,
     "metadata": {},
     "output_type": "execute_result"
    }
   ],
   "source": [
    "cv_results.columns"
   ]
  },
  {
   "cell_type": "code",
   "execution_count": null,
   "metadata": {},
   "outputs": [],
   "source": []
  },
  {
   "cell_type": "markdown",
   "metadata": {},
   "source": [
    "Vrednost `mean_test_score` izveštaja sadrži prosečnu vrednost ocene na korišćenim test skupovima ili preciznije, u našem kontekstu određivanja vrednosti hiperparametara, validacionim skupovima. "
   ]
  },
  {
   "cell_type": "code",
   "execution_count": 65,
   "metadata": {},
   "outputs": [
    {
     "data": {
      "text/plain": [
       "0     0.627328\n",
       "1     0.627328\n",
       "2     0.627328\n",
       "3     0.627328\n",
       "4     0.627328\n",
       "5     0.627328\n",
       "6     0.627328\n",
       "7     0.627328\n",
       "8     0.627328\n",
       "9     0.627328\n",
       "10    0.627328\n",
       "11    0.627328\n",
       "12    0.627328\n",
       "13    0.627328\n",
       "14    0.627328\n",
       "15    0.627328\n",
       "16    0.627328\n",
       "17    0.627328\n",
       "18    0.627328\n",
       "19    0.627328\n",
       "20    0.627328\n",
       "21    0.627328\n",
       "22    0.627328\n",
       "23    0.627328\n",
       "24    0.716734\n",
       "25    0.950135\n",
       "26    0.918623\n",
       "27    0.627328\n",
       "28    0.627328\n",
       "29    0.627328\n",
       "30    0.952767\n",
       "31    0.965924\n",
       "32    0.944872\n",
       "33    0.627328\n",
       "34    0.627328\n",
       "35    0.627328\n",
       "36    0.960661\n",
       "37    0.976383\n",
       "38    0.929150\n",
       "39    0.629960\n",
       "40    0.627328\n",
       "41    0.627328\n",
       "42    0.976383\n",
       "43    0.965924\n",
       "44    0.926518\n",
       "45    0.629960\n",
       "46    0.627328\n",
       "47    0.627328\n",
       "48    0.968556\n",
       "49    0.952767\n",
       "50    0.926518\n",
       "51    0.629960\n",
       "52    0.627328\n",
       "53    0.627328\n",
       "54    0.955398\n",
       "55    0.952767\n",
       "56    0.926518\n",
       "57    0.629960\n",
       "58    0.627328\n",
       "59    0.627328\n",
       "Name: mean_test_score, dtype: float64"
      ]
     },
     "execution_count": 65,
     "metadata": {},
     "output_type": "execute_result"
    }
   ],
   "source": [
    "cv_results['mean_test_score']"
   ]
  },
  {
   "cell_type": "code",
   "execution_count": null,
   "metadata": {},
   "outputs": [],
   "source": []
  },
  {
   "cell_type": "markdown",
   "metadata": {},
   "source": [
    "Informacije iz izveštaja se mogu koristiti i za uvid u opsege vrednosti iz kojih su hiperparametri birani. To se obično radi vizuelizacijom u vidu toplotne mape. Ukoliko su opsezi vrednosti dobro birani, optimalne vrednosti su skoncentrisane po sredini."
   ]
  },
  {
   "cell_type": "code",
   "execution_count": 66,
   "metadata": {},
   "outputs": [
    {
     "data": {
      "image/png": "[encoded data removed]",
      "text/plain": [
       "<Figure size 720x576 with 2 Axes>"
      ]
     },
     "metadata": {
      "needs_background": "light"
     },
     "output_type": "display_data"
    }
   ],
   "source": [
    "cv_test_score = cv_results['mean_test_score'].values.reshape(6, 10)\n",
    "\n",
    "Cs = [10**i for i in range(-5, 5)]\n",
    "gammas =[10**i for i in range(-3, 3)]\n",
    "\n",
    "plt.figure(figsize=(10, 8))\n",
    "\n",
    "plt.ylabel('gamma')\n",
    "plt.yticks(np.arange(0, len(gammas)), gammas)\n",
    "\n",
    "plt.xlabel('C')\n",
    "plt.xticks(np.arange(0, len(Cs)), Cs)\n",
    "\n",
    "plt.imshow(cv_test_score, cmap='viridis')\n",
    "plt.colorbar()\n",
    "plt.show()"
   ]
  },
  {
   "cell_type": "markdown",
   "metadata": {},
   "source": [
    "U našem slučaju bi imalo smisla ispitati ponašanje modela i za vrednosti parametra `gamma` koje su nešto veće od 100."
   ]
  },
  {
   "cell_type": "code",
   "execution_count": null,
   "metadata": {},
   "outputs": [],
   "source": []
  },
  {
   "cell_type": "markdown",
   "metadata": {},
   "source": [
    "## Ugnježđena unakrsna validacija"
   ]
  },
  {
   "cell_type": "markdown",
   "metadata": {},
   "source": [
    "Korišćenje unakrsne validacije za određivanje optimalne vrednosti hiperparametara i dalje ostavlja otvorenim podelu skupa podataka na skup za treniranje i validaciju sa jedne strane, i skup za testiranje sa druge strane. I za drugo se može koristiti, baš kao i u slučaju neparametarskih modela, unakrsna validacija. Time dobijamo ugnježđenu unakrsnu validaciju (engl. nested cross-validation). <img src='assets/nested_cross_validation.png'>"
   ]
  },
  {
   "cell_type": "markdown",
   "metadata": {},
   "source": [
    "Ona se na nivou biblioteke jednostavno implementira kombinacijom `GridSearchCV` i `cross_val_score` funkcija."
   ]
  },
  {
   "cell_type": "code",
   "execution_count": 67,
   "metadata": {},
   "outputs": [],
   "source": [
    "grid_model = pipeline.Pipeline(steps=[('scaler', preprocessing.StandardScaler()), ('svm', svm.SVC())])"
   ]
  },
  {
   "cell_type": "code",
   "execution_count": 68,
   "metadata": {},
   "outputs": [],
   "source": [
    "params = {\n",
    "    'svm__C': [10**i for i in range(-5, 5)], \n",
    "    'svm__gamma': [10**i for i in range(-3, 3)]\n",
    "}"
   ]
  },
  {
   "cell_type": "markdown",
   "metadata": {},
   "source": [
    "Napomena: Zbog broja kombinacija, izvršavanje ove naredbe može duže da traje."
   ]
  },
  {
   "cell_type": "code",
   "execution_count": 69,
   "metadata": {},
   "outputs": [],
   "source": [
    "scores = model_selection.cross_val_score(model_selection.GridSearchCV(grid_model, param_grid=params, scoring='accuracy', cv=10),\\\n",
    "                                         X, y, scoring='accuracy', cv=10)"
   ]
  },
  {
   "cell_type": "code",
   "execution_count": 70,
   "metadata": {},
   "outputs": [
    {
     "data": {
      "text/plain": [
       "array([1.        , 0.98245614, 0.96491228, 0.98245614, 0.94736842,\n",
       "       0.96491228, 0.92982456, 1.        , 1.        , 0.96428571])"
      ]
     },
     "execution_count": 70,
     "metadata": {},
     "output_type": "execute_result"
    }
   ],
   "source": [
    "scores"
   ]
  },
  {
   "cell_type": "code",
   "execution_count": 71,
   "metadata": {},
   "outputs": [
    {
     "name": "stdout",
     "output_type": "stream",
     "text": [
      "Minimalna tacnost: 0.929825\n",
      "Maksimalna tacnost: 1.000000\n",
      "srednja vrednost: 0.973622\n"
     ]
    }
   ],
   "source": [
    "print(\"Minimalna tacnost: %f\\nMaksimalna tacnost: %f\\nsrednja vrednost: %f\" % (np.min(scores), np.max(scores), np.mean(scores)))"
   ]
  },
  {
   "cell_type": "markdown",
   "metadata": {},
   "source": [
    "Dobijena prosečna tačnost se može prijaviti kao tačnost našeg modela. "
   ]
  },
  {
   "cell_type": "markdown",
   "metadata": {},
   "source": [
    "<div class='alert alert-info'>\n",
    "    <b> Domaći zadatak: </b> reimplementirati metodu ugnježđene unakrsne validacije. \n",
    "</div>"
   ]
  },
  {
   "cell_type": "markdown",
   "metadata": {},
   "source": [
    "## Finalni model"
   ]
  },
  {
   "cell_type": "markdown",
   "metadata": {},
   "source": [
    "Finalni model dobijamo kada za vrednosti parametara uzmemo optimalne vrednosti dobijene ili korišćenjem validacionog skupa ili korišćenjem unakrsne validacije i istreniramo ga na celom skupu podataka."
   ]
  },
  {
   "cell_type": "code",
   "execution_count": 72,
   "metadata": {},
   "outputs": [],
   "source": [
    "X = data.data\n",
    "y = data.target"
   ]
  },
  {
   "cell_type": "code",
   "execution_count": 73,
   "metadata": {},
   "outputs": [],
   "source": [
    "final_scaler = preprocessing.StandardScaler()\n",
    "X = final_scaler.fit_transform(X)"
   ]
  },
  {
   "cell_type": "code",
   "execution_count": 74,
   "metadata": {},
   "outputs": [],
   "source": [
    "final_model = svm.SVC(C=best_params['C'], gamma=best_params['gamma'])"
   ]
  },
  {
   "cell_type": "code",
   "execution_count": 75,
   "metadata": {},
   "outputs": [
    {
     "data": {
      "text/plain": [
       "SVC(C=10.0, break_ties=False, cache_size=200, class_weight=None, coef0=0.0,\n",
       "    decision_function_shape='ovr', degree=3, gamma=0.01, kernel='rbf',\n",
       "    max_iter=-1, probability=False, random_state=None, shrinking=True,\n",
       "    tol=0.001, verbose=False)"
      ]
     },
     "execution_count": 75,
     "metadata": {},
     "output_type": "execute_result"
    }
   ],
   "source": [
    "final_model.fit(X, y)"
   ]
  },
  {
   "cell_type": "markdown",
   "metadata": {},
   "source": [
    "Baš kao i kod neparametarskih modela u praksi se finalni parametarski modeli koji zahtevaju velike resurse ili čije treniranje dugo traje ne treniraju na celom skupu, već se za finalni model prograšava model dobijen na skupu za treniranje ili skupu za treniranje i validaciju. "
   ]
  },
  {
   "cell_type": "code",
   "execution_count": null,
   "metadata": {},
   "outputs": [],
   "source": []
  }
 ],
 "metadata": {
  "kernelspec": {
   "display_name": "Python 3",
   "language": "python",
   "name": "python3"
  },
  "language_info": {
   "codemirror_mode": {
    "name": "ipython",
    "version": 3
   },
   "file_extension": ".py",
   "mimetype": "text/x-python",
   "name": "python",
   "nbconvert_exporter": "python",
   "pygments_lexer": "ipython3",
   "version": "3.7.6"
  }
 },
 "nbformat": 4,
 "nbformat_minor": 2
}
