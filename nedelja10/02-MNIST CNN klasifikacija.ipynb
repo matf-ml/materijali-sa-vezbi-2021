{
 "cells": [
  {
   "cell_type": "markdown",
   "metadata": {},
   "source": [
    "# MNIST CNN klasifikacija"
   ]
  },
  {
   "cell_type": "markdown",
   "metadata": {},
   "source": [
    "U ovoj svesci bavićemo se, takođe, zadatkom klasifikacije MNIST slika. U pristupu ćemo koristiti konvolutivne neuronske mreže."
   ]
  },
  {
   "cell_type": "markdown",
   "metadata": {},
   "source": [
    "Prvo ćemo učitati sve neophodne biblioteke."
   ]
  },
  {
   "cell_type": "code",
   "execution_count": 1,
   "metadata": {},
   "outputs": [],
   "source": [
    "import numpy as np\n",
    "from matplotlib import pyplot as plt"
   ]
  },
  {
   "cell_type": "code",
   "execution_count": 2,
   "metadata": {},
   "outputs": [],
   "source": [
    "import tensorflow as tf\n",
    "from tensorflow import keras"
   ]
  },
  {
   "cell_type": "code",
   "execution_count": 3,
   "metadata": {},
   "outputs": [],
   "source": [
    "from tensorflow.keras.datasets import mnist"
   ]
  },
  {
   "cell_type": "code",
   "execution_count": 4,
   "metadata": {},
   "outputs": [],
   "source": [
    "from tensorflow.keras.models import Sequential\n",
    "from tensorflow.keras.layers import Input, Dense, Dropout, Flatten, Conv2D, MaxPooling2D\n",
    "from tensorflow.keras.losses import CategoricalCrossentropy\n",
    "from tensorflow.keras.optimizers import Adam"
   ]
  },
  {
   "cell_type": "code",
   "execution_count": 5,
   "metadata": {},
   "outputs": [],
   "source": [
    "from tensorflow.keras import utils\n",
    "from tensorflow.keras import backend as K"
   ]
  },
  {
   "cell_type": "code",
   "execution_count": 6,
   "metadata": {},
   "outputs": [],
   "source": [
    "np.random.seed(7)"
   ]
  },
  {
   "cell_type": "markdown",
   "metadata": {},
   "source": [
    "## Korak 1: Učitavanje skupa podataka"
   ]
  },
  {
   "cell_type": "markdown",
   "metadata": {},
   "source": [
    "Da bismo učitali podatke, iskoristićemo podršku Keras biblioteke."
   ]
  },
  {
   "cell_type": "code",
   "execution_count": 7,
   "metadata": {},
   "outputs": [],
   "source": [
    "(X_train, y_train), (X_test, y_test) = mnist.load_data()"
   ]
  },
  {
   "cell_type": "markdown",
   "metadata": {},
   "source": [
    "Dimenzije slike ćemo sačuvati na nivou `img_rows` i `img_cols` promenljivih."
   ]
  },
  {
   "cell_type": "code",
   "execution_count": 8,
   "metadata": {},
   "outputs": [],
   "source": [
    "img_rows = 28\n",
    "img_cols = 28"
   ]
  },
  {
   "cell_type": "markdown",
   "metadata": {},
   "source": [
    "Prilikom obrade slika ulazi u mrežu treba da budu 4D tenzori. Uzimaju se u obzir širina i visina slike, broj kanala (jedan za monohromatske ili tri za RGB slike) i broj instacni. Stoga je učitane podatke potrebno transformisati na ovaj oblik. "
   ]
  },
  {
   "cell_type": "markdown",
   "metadata": {},
   "source": [
    "<img src='assets/4D_tensor.png'>"
   ]
  },
  {
   "cell_type": "markdown",
   "metadata": {},
   "source": [
    "Postoje dve konvencije zapisa slika. `Channels last` zapis je oblika `(samples, height, width, color_depth)`, a `chanell first` oblika `(samples, color_depth, height, width)`. Keras biblioteka (i TensorFlow) podrazumevano koriste `Channel last` zapis. Tako se, na primer, paketić veličine 128 koji sadrži crno-bele slike dimenzija 256x256 opisuje tenzorom dimenzija (128, 256, 256, 1), a recimo, paketić veličine 128 slika koje su u RGB modu tenzorom dimenzija (128, 256, 256, 3)."
   ]
  },
  {
   "cell_type": "code",
   "execution_count": 9,
   "metadata": {},
   "outputs": [
    {
     "data": {
      "text/plain": [
       "'channels_last'"
      ]
     },
     "execution_count": 9,
     "metadata": {},
     "output_type": "execute_result"
    }
   ],
   "source": [
    "K.image_data_format()"
   ]
  },
  {
   "cell_type": "markdown",
   "metadata": {},
   "source": [
    "Sledeći kod proverava koje od ovih podešavanja važi. U daljem radu se svakako možemo osloniti na podrazumevana podešavanja."
   ]
  },
  {
   "cell_type": "code",
   "execution_count": 10,
   "metadata": {},
   "outputs": [],
   "source": [
    "if K.image_data_format() == 'channels_first':\n",
    "    X_train = X_train.reshape(X_train.shape[0], 1, img_rows, img_cols)\n",
    "    X_test = X_test.reshape(X_test.shape[0], 1, img_rows, img_cols)\n",
    "    input_shape = (1, img_rows, img_cols)\n",
    "else:\n",
    "    X_train = X_train.reshape(X_train.shape[0], img_rows, img_cols, 1)\n",
    "    X_test = X_test.reshape(X_test.shape[0], img_rows, img_cols, 1)\n",
    "    input_shape = (img_rows, img_cols, 1)"
   ]
  },
  {
   "cell_type": "code",
   "execution_count": 11,
   "metadata": {},
   "outputs": [
    {
     "data": {
      "text/plain": [
       "(60000, 28, 28, 1)"
      ]
     },
     "execution_count": 11,
     "metadata": {},
     "output_type": "execute_result"
    }
   ],
   "source": [
    "X_train.shape"
   ]
  },
  {
   "cell_type": "code",
   "execution_count": 12,
   "metadata": {},
   "outputs": [
    {
     "data": {
      "text/plain": [
       "(10000, 28, 28, 1)"
      ]
     },
     "execution_count": 12,
     "metadata": {},
     "output_type": "execute_result"
    }
   ],
   "source": [
    "X_test.shape"
   ]
  },
  {
   "cell_type": "markdown",
   "metadata": {},
   "source": [
    "## Korak 2: Priprema podataka"
   ]
  },
  {
   "cell_type": "markdown",
   "metadata": {},
   "source": [
    "Slike ćemo pripremiti tako što ćemo ih normalizovati, tj. svesti vrednosti pojedinačnih piksela na vrednost iz intervala iz [0, 1]. Prethodno ćemo promeniti tip elemenata matrice sa uint8 na float32 kako bi mogli da sačuvamo realne vrednosti."
   ]
  },
  {
   "cell_type": "code",
   "execution_count": 13,
   "metadata": {},
   "outputs": [],
   "source": [
    "X_train = X_train.astype('float32')\n",
    "X_train /= 255"
   ]
  },
  {
   "cell_type": "code",
   "execution_count": 14,
   "metadata": {},
   "outputs": [],
   "source": [
    "X_test = X_test.astype('float32')\n",
    "X_test /= 255"
   ]
  },
  {
   "cell_type": "code",
   "execution_count": 15,
   "metadata": {},
   "outputs": [
    {
     "data": {
      "text/plain": [
       "(60000, 28, 28, 1)"
      ]
     },
     "execution_count": 15,
     "metadata": {},
     "output_type": "execute_result"
    }
   ],
   "source": [
    "X_train.shape"
   ]
  },
  {
   "cell_type": "code",
   "execution_count": 16,
   "metadata": {},
   "outputs": [
    {
     "data": {
      "text/plain": [
       "(10000, 28, 28, 1)"
      ]
     },
     "execution_count": 16,
     "metadata": {},
     "output_type": "execute_result"
    }
   ],
   "source": [
    "X_test.shape"
   ]
  },
  {
   "cell_type": "code",
   "execution_count": null,
   "metadata": {},
   "outputs": [],
   "source": []
  },
  {
   "cell_type": "markdown",
   "metadata": {},
   "source": [
    "Vrednosti ciljne promenljive ćemo pripremiti tako što ćemo ih transformisati u vektore dužine 10 sa jedinicom na poziciji koja odgovara vrednosti cifre (takozvano *one-hot* kodiranje). Na primer, broj 3 će biti transformisan u vektor \\[0, 0, 0, 1, 0, 0, 0, 0, 0, 0\\] sa jedinicom na poziciji tri. \n",
    "\n",
    "Za ovu transformaciju iskoristićemo funkciju `to_categorical` paketa `keras.utils`."
   ]
  },
  {
   "cell_type": "code",
   "execution_count": 17,
   "metadata": {},
   "outputs": [],
   "source": [
    "number_of_classes = 10\n",
    "\n",
    "y_train = utils.to_categorical(y_train, number_of_classes)\n",
    "y_test = utils.to_categorical(y_test, number_of_classes)"
   ]
  },
  {
   "cell_type": "markdown",
   "metadata": {},
   "source": [
    "## Korak 3: Pravljenje modela"
   ]
  },
  {
   "cell_type": "markdown",
   "metadata": {},
   "source": [
    "Naš model će se sastojati iz više konvolutivnih i agregacionih slojeva. "
   ]
  },
  {
   "cell_type": "markdown",
   "metadata": {},
   "source": [
    "Konvolutivni slojevi se na nivou biblioteke kreiraju korišćenjem funkcije `Conv2D`.  Prvo se navodi broj filtera (parametar `filters`, obično neimenovan), zatim veličine kernela (`kernel_size` parametar), veličina pomeraja (parametar `strides`) i uokvirenje (`padding` parametar). <img src='assets/convolution_operation.gif' style='height: 300px'>"
   ]
  },
  {
   "cell_type": "markdown",
   "metadata": {},
   "source": [
    "Na primer, na slici je prikazan kernel veličine 3x3 (kvadratić sive boje) koji prolazi kroz ulaz (kvadratić plave boje) sa horizontalnim i vertikalnim pomerajem veličine 2. Dodati beli skup kvadrata predstavlja uokvirenje i u zavisnosti od njegovog prisustva veličina izlazne slike (kvadratić zelene boje) može biti istih dimenzija (u Keras biblioteci se ovo naglašava vrednošću `same` parametra `padding`) ili nešto manja (u Keras biblioteci se ovo naglašava vrednošću `valid` parametra `padding`). "
   ]
  },
  {
   "cell_type": "markdown",
   "metadata": {},
   "source": [
    "Agregacioni slojevi (`MaxPooling2D` i `AvgPooling2D`) vrše redukciju slojeva svođenjem blokova zadatih večina na njihove maksimalne ili prosečne vrednosti. Veličina bloka zadaje se parametrom `pool_size`. <img src='assets/pooling.png' style='width: 300px'>"
   ]
  },
  {
   "cell_type": "code",
   "execution_count": null,
   "metadata": {},
   "outputs": [],
   "source": []
  },
  {
   "cell_type": "markdown",
   "metadata": {},
   "source": [
    "Prilikom treniranja koristićemo i `Dropout` tehniku regularizacije. Podsetimo se da na ovaj način isključujemo nasumično odabrane neurone, omogućavamo drugačiji protok podataka kroz mrežu i smanjujemo zavisnosti izlaza od ulaza. <img src='assets/dropout.png'> Da bi se primenila ova tehnika regularizacije, dovoljno je mreži dodati `Dropout` sloj. Njegov parametar je verovatnoća isključivanja pojedinačnih neurona. "
   ]
  },
  {
   "cell_type": "markdown",
   "metadata": {},
   "source": [
    "Sloj ispravljanja, sloj `Flatten`, se korist za transformisanje matrica vrednosti u vektore i obično se koristi kao priprema za prelazak sa konvolutivnog dela na dalji gusti deo mreže. "
   ]
  },
  {
   "cell_type": "markdown",
   "metadata": {},
   "source": [
    "Naša mreža imaće sledeću arhitekturu."
   ]
  },
  {
   "cell_type": "code",
   "execution_count": 18,
   "metadata": {},
   "outputs": [],
   "source": [
    "model = Sequential([\n",
    "    Input(shape=input_shape),\n",
    "    Conv2D(filters=32, kernel_size=(3, 3), strides=(1, 1), padding='same', activation='relu'),\n",
    "    Conv2D(filters=64, kernel_size=(3, 3), strides=(1, 1), padding='same', activation='relu'),\n",
    "    MaxPooling2D(pool_size=(2, 2)),\n",
    "    Dropout(0.25),\n",
    "    Flatten(),\n",
    "    Dense(128, activation='relu'),\n",
    "    Dropout(0.5),\n",
    "    Dense(number_of_classes, activation='softmax')\n",
    "])"
   ]
  },
  {
   "cell_type": "markdown",
   "metadata": {},
   "source": [
    "Prikaz modela i uvid u broj parametara koje mreža treba da nauči možemo da dobijemo pozivom funkcije `summary`."
   ]
  },
  {
   "cell_type": "code",
   "execution_count": 19,
   "metadata": {},
   "outputs": [
    {
     "name": "stdout",
     "output_type": "stream",
     "text": [
      "Model: \"sequential\"\n",
      "_________________________________________________________________\n",
      "Layer (type)                 Output Shape              Param #   \n",
      "=================================================================\n",
      "conv2d (Conv2D)              (None, 28, 28, 32)        320       \n",
      "_________________________________________________________________\n",
      "conv2d_1 (Conv2D)            (None, 28, 28, 64)        18496     \n",
      "_________________________________________________________________\n",
      "max_pooling2d (MaxPooling2D) (None, 14, 14, 64)        0         \n",
      "_________________________________________________________________\n",
      "dropout (Dropout)            (None, 14, 14, 64)        0         \n",
      "_________________________________________________________________\n",
      "flatten (Flatten)            (None, 12544)             0         \n",
      "_________________________________________________________________\n",
      "dense (Dense)                (None, 128)               1605760   \n",
      "_________________________________________________________________\n",
      "dropout_1 (Dropout)          (None, 128)               0         \n",
      "_________________________________________________________________\n",
      "dense_1 (Dense)              (None, 10)                1290      \n",
      "=================================================================\n",
      "Total params: 1,625,866\n",
      "Trainable params: 1,625,866\n",
      "Non-trainable params: 0\n",
      "_________________________________________________________________\n"
     ]
    }
   ],
   "source": [
    "model.summary()"
   ]
  },
  {
   "cell_type": "markdown",
   "metadata": {},
   "source": [
    "Arhitekturu modela mreže možemo prikazati i u formi usmerenog grafa. Za to će nam trebati biblioteke `pydot` i `graphviz`  koji se mogu instalirati, redom, komandama `conda install -c anaconda pydot` i `conda install -c anaconda graphviz`. Ova dva paketa omogućavaju rad sa `DOT` jezikom koji se koristi za opis grafova. "
   ]
  },
  {
   "cell_type": "code",
   "execution_count": 20,
   "metadata": {},
   "outputs": [],
   "source": [
    "import pydot\n",
    "from IPython.display import SVG\n",
    "from tensorflow.keras.utils import model_to_dot"
   ]
  },
  {
   "cell_type": "markdown",
   "metadata": {},
   "source": [
    "Funkcija `model_to_dot` se koristi za transformisanje modela u `DOT` zapis koji se zatim funkcijom `create` transformiše u SVG sličicu. Za prikaz SVG slika koristimo `display` funkcionalnost IPython-a."
   ]
  },
  {
   "cell_type": "code",
   "execution_count": 21,
   "metadata": {},
   "outputs": [
    {
     "data": {
      "image/svg+xml": [
       "<svg xmlns=\"http://www.w3.org/2000/svg\" xmlns:xlink=\"http://www.w3.org/1999/xlink\" width=\"186pt\" height=\"568pt\" viewBox=\"0.00 0.00 206.00 629.00\">\n",
       "<g id=\"graph0\" class=\"graph\" transform=\"scale(.9028 .9028) rotate(0) translate(4 625)\">\n",
       "<title>G</title>\n",
       "<polygon fill=\"#ffffff\" stroke=\"transparent\" points=\"-4,4 -4,-625 202,-625 202,4 -4,4\"/>\n",
       "<!-- 5457039712 -->\n",
       "<g id=\"node1\" class=\"node\">\n",
       "<title>5457039712</title>\n",
       "<polygon fill=\"none\" stroke=\"#000000\" points=\"34.5,-584.5 34.5,-620.5 163.5,-620.5 163.5,-584.5 34.5,-584.5\"/>\n",
       "<text text-anchor=\"middle\" x=\"99\" y=\"-598.8\" font-family=\"Times,serif\" font-size=\"14.00\" fill=\"#000000\">input_1: InputLayer</text>\n",
       "</g>\n",
       "<!-- 5457122256 -->\n",
       "<g id=\"node2\" class=\"node\">\n",
       "<title>5457122256</title>\n",
       "<polygon fill=\"none\" stroke=\"#000000\" points=\"42.5,-511.5 42.5,-547.5 155.5,-547.5 155.5,-511.5 42.5,-511.5\"/>\n",
       "<text text-anchor=\"middle\" x=\"99\" y=\"-525.8\" font-family=\"Times,serif\" font-size=\"14.00\" fill=\"#000000\">conv2d: Conv2D</text>\n",
       "</g>\n",
       "<!-- 5457039712&#45;&gt;5457122256 -->\n",
       "<g id=\"edge1\" class=\"edge\">\n",
       "<title>5457039712-&gt;5457122256</title>\n",
       "<path fill=\"none\" stroke=\"#000000\" d=\"M99,-584.4551C99,-576.3828 99,-566.6764 99,-557.6817\"/>\n",
       "<polygon fill=\"#000000\" stroke=\"#000000\" points=\"102.5001,-557.5903 99,-547.5904 95.5001,-557.5904 102.5001,-557.5903\"/>\n",
       "</g>\n",
       "<!-- 5457123504 -->\n",
       "<g id=\"node3\" class=\"node\">\n",
       "<title>5457123504</title>\n",
       "<polygon fill=\"none\" stroke=\"#000000\" points=\"35.5,-438.5 35.5,-474.5 162.5,-474.5 162.5,-438.5 35.5,-438.5\"/>\n",
       "<text text-anchor=\"middle\" x=\"99\" y=\"-452.8\" font-family=\"Times,serif\" font-size=\"14.00\" fill=\"#000000\">conv2d_1: Conv2D</text>\n",
       "</g>\n",
       "<!-- 5457122256&#45;&gt;5457123504 -->\n",
       "<g id=\"edge2\" class=\"edge\">\n",
       "<title>5457122256-&gt;5457123504</title>\n",
       "<path fill=\"none\" stroke=\"#000000\" d=\"M99,-511.4551C99,-503.3828 99,-493.6764 99,-484.6817\"/>\n",
       "<polygon fill=\"#000000\" stroke=\"#000000\" points=\"102.5001,-484.5903 99,-474.5904 95.5001,-484.5904 102.5001,-484.5903\"/>\n",
       "</g>\n",
       "<!-- 5457124896 -->\n",
       "<g id=\"node4\" class=\"node\">\n",
       "<title>5457124896</title>\n",
       "<polygon fill=\"none\" stroke=\"#000000\" points=\"0,-365.5 0,-401.5 198,-401.5 198,-365.5 0,-365.5\"/>\n",
       "<text text-anchor=\"middle\" x=\"99\" y=\"-379.8\" font-family=\"Times,serif\" font-size=\"14.00\" fill=\"#000000\">max_pooling2d: MaxPooling2D</text>\n",
       "</g>\n",
       "<!-- 5457123504&#45;&gt;5457124896 -->\n",
       "<g id=\"edge3\" class=\"edge\">\n",
       "<title>5457123504-&gt;5457124896</title>\n",
       "<path fill=\"none\" stroke=\"#000000\" d=\"M99,-438.4551C99,-430.3828 99,-420.6764 99,-411.6817\"/>\n",
       "<polygon fill=\"#000000\" stroke=\"#000000\" points=\"102.5001,-411.5903 99,-401.5904 95.5001,-411.5904 102.5001,-411.5903\"/>\n",
       "</g>\n",
       "<!-- 5457125328 -->\n",
       "<g id=\"node5\" class=\"node\">\n",
       "<title>5457125328</title>\n",
       "<polygon fill=\"none\" stroke=\"#000000\" points=\"42,-292.5 42,-328.5 156,-328.5 156,-292.5 42,-292.5\"/>\n",
       "<text text-anchor=\"middle\" x=\"99\" y=\"-306.8\" font-family=\"Times,serif\" font-size=\"14.00\" fill=\"#000000\">dropout: Dropout</text>\n",
       "</g>\n",
       "<!-- 5457124896&#45;&gt;5457125328 -->\n",
       "<g id=\"edge4\" class=\"edge\">\n",
       "<title>5457124896-&gt;5457125328</title>\n",
       "<path fill=\"none\" stroke=\"#000000\" d=\"M99,-365.4551C99,-357.3828 99,-347.6764 99,-338.6817\"/>\n",
       "<polygon fill=\"#000000\" stroke=\"#000000\" points=\"102.5001,-338.5903 99,-328.5904 95.5001,-338.5904 102.5001,-338.5903\"/>\n",
       "</g>\n",
       "<!-- 5457486560 -->\n",
       "<g id=\"node6\" class=\"node\">\n",
       "<title>5457486560</title>\n",
       "<polygon fill=\"none\" stroke=\"#000000\" points=\"50,-219.5 50,-255.5 148,-255.5 148,-219.5 50,-219.5\"/>\n",
       "<text text-anchor=\"middle\" x=\"99\" y=\"-233.8\" font-family=\"Times,serif\" font-size=\"14.00\" fill=\"#000000\">flatten: Flatten</text>\n",
       "</g>\n",
       "<!-- 5457125328&#45;&gt;5457486560 -->\n",
       "<g id=\"edge5\" class=\"edge\">\n",
       "<title>5457125328-&gt;5457486560</title>\n",
       "<path fill=\"none\" stroke=\"#000000\" d=\"M99,-292.4551C99,-284.3828 99,-274.6764 99,-265.6817\"/>\n",
       "<polygon fill=\"#000000\" stroke=\"#000000\" points=\"102.5001,-265.5903 99,-255.5904 95.5001,-265.5904 102.5001,-265.5903\"/>\n",
       "</g>\n",
       "<!-- 5457487040 -->\n",
       "<g id=\"node7\" class=\"node\">\n",
       "<title>5457487040</title>\n",
       "<polygon fill=\"none\" stroke=\"#000000\" points=\"53.5,-146.5 53.5,-182.5 144.5,-182.5 144.5,-146.5 53.5,-146.5\"/>\n",
       "<text text-anchor=\"middle\" x=\"99\" y=\"-160.8\" font-family=\"Times,serif\" font-size=\"14.00\" fill=\"#000000\">dense: Dense</text>\n",
       "</g>\n",
       "<!-- 5457486560&#45;&gt;5457487040 -->\n",
       "<g id=\"edge6\" class=\"edge\">\n",
       "<title>5457486560-&gt;5457487040</title>\n",
       "<path fill=\"none\" stroke=\"#000000\" d=\"M99,-219.4551C99,-211.3828 99,-201.6764 99,-192.6817\"/>\n",
       "<polygon fill=\"#000000\" stroke=\"#000000\" points=\"102.5001,-192.5903 99,-182.5904 95.5001,-192.5904 102.5001,-192.5903\"/>\n",
       "</g>\n",
       "<!-- 5457487904 -->\n",
       "<g id=\"node8\" class=\"node\">\n",
       "<title>5457487904</title>\n",
       "<polygon fill=\"none\" stroke=\"#000000\" points=\"35,-73.5 35,-109.5 163,-109.5 163,-73.5 35,-73.5\"/>\n",
       "<text text-anchor=\"middle\" x=\"99\" y=\"-87.8\" font-family=\"Times,serif\" font-size=\"14.00\" fill=\"#000000\">dropout_1: Dropout</text>\n",
       "</g>\n",
       "<!-- 5457487040&#45;&gt;5457487904 -->\n",
       "<g id=\"edge7\" class=\"edge\">\n",
       "<title>5457487040-&gt;5457487904</title>\n",
       "<path fill=\"none\" stroke=\"#000000\" d=\"M99,-146.4551C99,-138.3828 99,-128.6764 99,-119.6817\"/>\n",
       "<polygon fill=\"#000000\" stroke=\"#000000\" points=\"102.5001,-119.5903 99,-109.5904 95.5001,-119.5904 102.5001,-119.5903\"/>\n",
       "</g>\n",
       "<!-- 5457488336 -->\n",
       "<g id=\"node9\" class=\"node\">\n",
       "<title>5457488336</title>\n",
       "<polygon fill=\"none\" stroke=\"#000000\" points=\"46.5,-.5 46.5,-36.5 151.5,-36.5 151.5,-.5 46.5,-.5\"/>\n",
       "<text text-anchor=\"middle\" x=\"99\" y=\"-14.8\" font-family=\"Times,serif\" font-size=\"14.00\" fill=\"#000000\">dense_1: Dense</text>\n",
       "</g>\n",
       "<!-- 5457487904&#45;&gt;5457488336 -->\n",
       "<g id=\"edge8\" class=\"edge\">\n",
       "<title>5457487904-&gt;5457488336</title>\n",
       "<path fill=\"none\" stroke=\"#000000\" d=\"M99,-73.4551C99,-65.3828 99,-55.6764 99,-46.6817\"/>\n",
       "<polygon fill=\"#000000\" stroke=\"#000000\" points=\"102.5001,-46.5903 99,-36.5904 95.5001,-46.5904 102.5001,-46.5903\"/>\n",
       "</g>\n",
       "</g>\n",
       "</svg>"
      ],
      "text/plain": [
       "<IPython.core.display.SVG object>"
      ]
     },
     "metadata": {},
     "output_type": "display_data"
    }
   ],
   "source": [
    "display(SVG(model_to_dot(model, dpi=65).create(prog='dot', format='svg')))"
   ]
  },
  {
   "cell_type": "markdown",
   "metadata": {},
   "source": [
    "Imena slojeva koje koristimo smo mogli naglasiti korišćenjem `name` parametra na nivou slojeva."
   ]
  },
  {
   "cell_type": "code",
   "execution_count": null,
   "metadata": {},
   "outputs": [],
   "source": []
  },
  {
   "cell_type": "markdown",
   "metadata": {},
   "source": [
    "Funkcija gubitka koju mreža minimizuje će biti `kategorička unakrsna entropija`. Za treniranje mreže ćemo koristiti optimizator `Adam` sa podešenim korakom učenja. "
   ]
  },
  {
   "cell_type": "code",
   "execution_count": 22,
   "metadata": {},
   "outputs": [],
   "source": [
    "model.compile(loss=CategoricalCrossentropy(), optimizer=Adam(learning_rate=0.001), metrics=['accuracy'])"
   ]
  },
  {
   "cell_type": "markdown",
   "metadata": {},
   "source": [
    "Mrežu ćemo trenirati koristeći paketiće veličine 128 u 12 epoha. Treniranje mreže će malo duže trajati."
   ]
  },
  {
   "cell_type": "code",
   "execution_count": 23,
   "metadata": {},
   "outputs": [],
   "source": [
    "batch_size = 128\n",
    "epochs = 12"
   ]
  },
  {
   "cell_type": "code",
   "execution_count": 24,
   "metadata": {},
   "outputs": [
    {
     "name": "stdout",
     "output_type": "stream",
     "text": [
      "Epoch 1/12\n",
      "375/375 [==============================] - 115s 306ms/step - loss: 0.2801 - accuracy: 0.9130 - val_loss: 0.0682 - val_accuracy: 0.9808\n",
      "Epoch 2/12\n",
      "375/375 [==============================] - 114s 303ms/step - loss: 0.0962 - accuracy: 0.9705 - val_loss: 0.0469 - val_accuracy: 0.9852\n",
      "Epoch 3/12\n",
      "375/375 [==============================] - 104s 278ms/step - loss: 0.0687 - accuracy: 0.9795 - val_loss: 0.0419 - val_accuracy: 0.9877\n",
      "Epoch 4/12\n",
      "375/375 [==============================] - 96s 256ms/step - loss: 0.0554 - accuracy: 0.9829 - val_loss: 0.0404 - val_accuracy: 0.9883\n",
      "Epoch 5/12\n",
      "375/375 [==============================] - 96s 255ms/step - loss: 0.0488 - accuracy: 0.9851 - val_loss: 0.0394 - val_accuracy: 0.9898\n",
      "Epoch 6/12\n",
      "375/375 [==============================] - 99s 263ms/step - loss: 0.0433 - accuracy: 0.9862 - val_loss: 0.0365 - val_accuracy: 0.9903\n",
      "Epoch 7/12\n",
      "375/375 [==============================] - 100s 268ms/step - loss: 0.0359 - accuracy: 0.9886 - val_loss: 0.0435 - val_accuracy: 0.9883\n",
      "Epoch 8/12\n",
      "375/375 [==============================] - 96s 256ms/step - loss: 0.0335 - accuracy: 0.9891 - val_loss: 0.0415 - val_accuracy: 0.9887\n",
      "Epoch 9/12\n",
      "375/375 [==============================] - 96s 256ms/step - loss: 0.0283 - accuracy: 0.9906 - val_loss: 0.0407 - val_accuracy: 0.9901\n",
      "Epoch 10/12\n",
      "375/375 [==============================] - 105s 279ms/step - loss: 0.0274 - accuracy: 0.9910 - val_loss: 0.0405 - val_accuracy: 0.9898\n",
      "Epoch 11/12\n",
      "375/375 [==============================] - 101s 268ms/step - loss: 0.0266 - accuracy: 0.9915 - val_loss: 0.0353 - val_accuracy: 0.9914\n",
      "Epoch 12/12\n",
      "375/375 [==============================] - 101s 270ms/step - loss: 0.0219 - accuracy: 0.9925 - val_loss: 0.0387 - val_accuracy: 0.9912\n"
     ]
    }
   ],
   "source": [
    "history = model.fit(X_train, y_train,\n",
    "                    batch_size=batch_size,\n",
    "                    epochs=epochs,\n",
    "                    verbose=1,\n",
    "                    validation_split=0.2)"
   ]
  },
  {
   "cell_type": "code",
   "execution_count": null,
   "metadata": {},
   "outputs": [],
   "source": []
  },
  {
   "cell_type": "markdown",
   "metadata": {},
   "source": [
    "Možemo i nacrtati grafike funkcije gubitka i tačnosti u toku treniranja."
   ]
  },
  {
   "cell_type": "code",
   "execution_count": 25,
   "metadata": {},
   "outputs": [
    {
     "data": {
      "text/plain": [
       "<matplotlib.legend.Legend at 0x151f73b20>"
      ]
     },
     "execution_count": 25,
     "metadata": {},
     "output_type": "execute_result"
    },
    {
     "data": {
      "image/png": "[encoded data removed]",
      "text/plain": [
       "<Figure size 720x288 with 2 Axes>"
      ]
     },
     "metadata": {
      "needs_background": "light"
     },
     "output_type": "display_data"
    }
   ],
   "source": [
    "plt.figure(figsize=(10, 4))\n",
    "\n",
    "plt.subplot(1, 2, 1)\n",
    "plt.title('Loss')\n",
    "plt.plot(np.arange(0, epochs), history.history['loss'], label='train')\n",
    "plt.plot(np.arange(0, epochs), history.history['val_loss'], label='val')\n",
    "plt.legend(loc='best')\n",
    "\n",
    "plt.subplot(1, 2, 2)\n",
    "plt.title('Accuracy')\n",
    "plt.plot(np.arange(0, epochs), history.history['accuracy'], label='train')\n",
    "plt.plot(np.arange(0, epochs), history.history['val_accuracy'], label='val')\n",
    "plt.legend(loc='best')\n",
    "\n",
    "plt.show()"
   ]
  },
  {
   "cell_type": "markdown",
   "metadata": {},
   "source": [
    "Na osnovu ovih grafika možemo primetiti da smo sa učenjem mogli završiti nešto ranije, na primer, već oko šeste epohe."
   ]
  },
  {
   "cell_type": "code",
   "execution_count": null,
   "metadata": {},
   "outputs": [],
   "source": []
  },
  {
   "cell_type": "markdown",
   "metadata": {},
   "source": [
    "## Korak 4: Analiza i evaluacija modela"
   ]
  },
  {
   "cell_type": "markdown",
   "metadata": {},
   "source": [
    "Mrežu ćemo evaluirati na skupu za testiranje. "
   ]
  },
  {
   "cell_type": "code",
   "execution_count": 26,
   "metadata": {},
   "outputs": [
    {
     "name": "stdout",
     "output_type": "stream",
     "text": [
      "Test loss: 0.03238446265459061\n",
      "Test accuracy: 0.9902999997138977\n"
     ]
    }
   ],
   "source": [
    "score = model.evaluate(X_test, y_test, verbose=0)\n",
    "print('Test loss:', score[0])\n",
    "print('Test accuracy:', score[1])"
   ]
  },
  {
   "cell_type": "code",
   "execution_count": null,
   "metadata": {},
   "outputs": [],
   "source": []
  },
  {
   "cell_type": "markdown",
   "metadata": {},
   "source": [
    "Ispisaćemo još matricu konfuzije našeg klasifikatora, kao i klasifikacioni izveštaj."
   ]
  },
  {
   "cell_type": "code",
   "execution_count": 27,
   "metadata": {},
   "outputs": [],
   "source": [
    "from sklearn.metrics import confusion_matrix, classification_report"
   ]
  },
  {
   "cell_type": "code",
   "execution_count": 28,
   "metadata": {},
   "outputs": [],
   "source": [
    "y_predicted = model.predict(X_test)\n",
    "y_predicted_classes = np.argmax(y_predicted, axis = 1) "
   ]
  },
  {
   "cell_type": "code",
   "execution_count": 29,
   "metadata": {},
   "outputs": [
    {
     "data": {
      "text/plain": [
       "(10000,)"
      ]
     },
     "execution_count": 29,
     "metadata": {},
     "output_type": "execute_result"
    }
   ],
   "source": [
    "y_predicted_classes.shape"
   ]
  },
  {
   "cell_type": "code",
   "execution_count": 30,
   "metadata": {},
   "outputs": [],
   "source": [
    "y_test_classes = np.argmax(y_test, axis = 1) "
   ]
  },
  {
   "cell_type": "code",
   "execution_count": 31,
   "metadata": {},
   "outputs": [
    {
     "data": {
      "text/plain": [
       "(10000,)"
      ]
     },
     "execution_count": 31,
     "metadata": {},
     "output_type": "execute_result"
    }
   ],
   "source": [
    "y_test_classes.shape"
   ]
  },
  {
   "cell_type": "code",
   "execution_count": 32,
   "metadata": {},
   "outputs": [],
   "source": [
    "confusion_matrix= confusion_matrix(y_test_classes, y_predicted_classes)"
   ]
  },
  {
   "cell_type": "code",
   "execution_count": 33,
   "metadata": {},
   "outputs": [
    {
     "name": "stdout",
     "output_type": "stream",
     "text": [
      "[[ 975    0    2    1    0    1    1    0    0    0]\n",
      " [   0 1134    1    0    0    0    0    0    0    0]\n",
      " [   1    2 1023    1    0    0    0    5    0    0]\n",
      " [   0    0    3 1004    0    3    0    0    0    0]\n",
      " [   1    0    1    0  971    0    1    0    1    7]\n",
      " [   0    0    0    6    0  884    1    0    0    1]\n",
      " [   4    2    1    0    1    6  942    0    2    0]\n",
      " [   0    1    8    0    0    0    0 1018    1    0]\n",
      " [   1    0    3    4    0    0    0    2  959    5]\n",
      " [   3    1    0    2    3    2    0    3    2  993]]\n"
     ]
    }
   ],
   "source": [
    "print(confusion_matrix)"
   ]
  },
  {
   "cell_type": "markdown",
   "metadata": {},
   "source": [
    "Možemo primetiti da mreža ponekad meša zapise cifara 0 i 6, 2 i 7, 3 i 5, 2 i 8, ... "
   ]
  },
  {
   "cell_type": "code",
   "execution_count": null,
   "metadata": {},
   "outputs": [],
   "source": []
  },
  {
   "cell_type": "code",
   "execution_count": 34,
   "metadata": {},
   "outputs": [],
   "source": [
    "report = classification_report(y_test_classes, y_predicted_classes)"
   ]
  },
  {
   "cell_type": "code",
   "execution_count": 35,
   "metadata": {},
   "outputs": [
    {
     "name": "stdout",
     "output_type": "stream",
     "text": [
      "              precision    recall  f1-score   support\n",
      "\n",
      "           0       0.99      0.99      0.99       980\n",
      "           1       0.99      1.00      1.00      1135\n",
      "           2       0.98      0.99      0.99      1032\n",
      "           3       0.99      0.99      0.99      1010\n",
      "           4       1.00      0.99      0.99       982\n",
      "           5       0.99      0.99      0.99       892\n",
      "           6       1.00      0.98      0.99       958\n",
      "           7       0.99      0.99      0.99      1028\n",
      "           8       0.99      0.98      0.99       974\n",
      "           9       0.99      0.98      0.99      1009\n",
      "\n",
      "    accuracy                           0.99     10000\n",
      "   macro avg       0.99      0.99      0.99     10000\n",
      "weighted avg       0.99      0.99      0.99     10000\n",
      "\n"
     ]
    }
   ],
   "source": [
    "print(report)"
   ]
  },
  {
   "cell_type": "markdown",
   "metadata": {},
   "source": [
    "Vidimo da je ovaj model, po svojim performansama, bolji od prethodnog model na kojem smo radili."
   ]
  },
  {
   "cell_type": "code",
   "execution_count": null,
   "metadata": {},
   "outputs": [],
   "source": []
  },
  {
   "cell_type": "markdown",
   "metadata": {},
   "source": [
    "<div class='alert alert-info'>\n",
    "    Za dalje istraživanje: \n",
    "    <a href='https://cs231n.github.io/convolutional-networks/'> CNN for visual recognition </a>\n",
    "</div>"
   ]
  },
  {
   "cell_type": "code",
   "execution_count": null,
   "metadata": {},
   "outputs": [],
   "source": []
  }
 ],
 "metadata": {
  "kernelspec": {
   "display_name": "Python 3",
   "language": "python",
   "name": "python3"
  },
  "language_info": {
   "codemirror_mode": {
    "name": "ipython",
    "version": 3
   },
   "file_extension": ".py",
   "mimetype": "text/x-python",
   "name": "python",
   "nbconvert_exporter": "python",
   "pygments_lexer": "ipython3",
   "version": "3.8.3"
  }
 },
 "nbformat": 4,
 "nbformat_minor": 4
}
