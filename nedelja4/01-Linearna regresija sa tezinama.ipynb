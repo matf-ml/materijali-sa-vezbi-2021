{
 "cells": [
  {
   "cell_type": "markdown",
   "metadata": {},
   "source": [
    "# Linearna regresija sa težinama"
   ]
  },
  {
   "cell_type": "markdown",
   "metadata": {},
   "source": [
    "U zadatku linearne regresije sa težinama umesto kvadratne sume reziduala minimizuje se njihova težinska suma $$L(\\beta, \\omega) = \\sum_{i=1}^{N}\\omega_i(y_i-x_i\\beta)^2$$ \n",
    "Koeficijenti $w_i$ predstavljaju težine koje se pridružuju rezidualima (instancama), a za vrednosti $\\omega_i=1$ dobija se polazni oblik linearne regresije. \n",
    "<br>\n",
    "\n",
    "Neke od motivacija za razmatranje ovog pristupa su: \n",
    "* visoka tačnost za pojedinjene instance skupa podataka, na primer, one koje su jako česte u skupu ili koje imaju svoj važan značaj \n",
    "* smanjenje nepreciznosti usled narušenih uslova principa maksimalne verodostojnosti"
   ]
  },
  {
   "cell_type": "markdown",
   "metadata": {},
   "source": [
    "Algebarska forma rešenja ovog problema je $\\beta = (X^TWX)^{-1}X^TWy$ u kojem je matrica $W$ matrica težina sa vrednostima $w_1$, ... $w_N$ na glavnoj dijagonali."
   ]
  },
  {
   "cell_type": "code",
   "execution_count": null,
   "metadata": {},
   "outputs": [],
   "source": []
  },
  {
   "cell_type": "code",
   "execution_count": 1,
   "metadata": {},
   "outputs": [],
   "source": [
    "import numpy as np\n",
    "from matplotlib import pyplot as plt\n",
    "import pandas as pd\n",
    "from sklearn import linear_model"
   ]
  },
  {
   "cell_type": "code",
   "execution_count": 2,
   "metadata": {},
   "outputs": [],
   "source": [
    "np.random.seed(1)"
   ]
  },
  {
   "cell_type": "code",
   "execution_count": null,
   "metadata": {},
   "outputs": [],
   "source": []
  },
  {
   "cell_type": "markdown",
   "metadata": {},
   "source": [
    "Da bismo simulirali rad sa ovim tipom regresije, uvešćemo jedan jednodimenzioni sintetički skup podataka oblika $y=3-2x$ uz dodatak šuma. Šum će imati normalnu raspodelu, ali će za razliku od dosadašnjih primera imati standardnu devijaciju koja zavisi od vrednosti ciljne promenljive. Na ovaj način postići ćemo `heteroskedastičnost` u skupu.\n",
    "<img src='assets/heteroscedasticity_2.png'>"
   ]
  },
  {
   "cell_type": "markdown",
   "metadata": {},
   "source": [
    "`Heteroskedastičnost` je pojava koja opisuje porast varijanse ciljne promenljive sa porastom vrednosti atributa. U situacijama kada je varijansa ciljne promenljive mala, sigurni smo da model može naučiti da dobro predviđa vrednosti ciljne promenljive. Međutim, ukoliko je varijansa velika, nije realno očekivati da model može dobro da pokrije ceo mogući opseg vrednosti.  "
   ]
  },
  {
   "cell_type": "markdown",
   "metadata": {},
   "source": [
    "Osnovna pretpostavka u modelovanju linearnom regresijom je da je varijansa ciljne promenljive konstantna tj. da je skup podataka sa kojim se radi `homoskedastičan`.   "
   ]
  },
  {
   "cell_type": "markdown",
   "metadata": {},
   "source": [
    "<img src='assets/homoscedasticity.png'>"
   ]
  },
  {
   "cell_type": "markdown",
   "metadata": {},
   "source": [
    "Ova pretpostavka se može interpretirati i kao osbina da su greške koje model pravi nezavisne slučajne promenljive sa nultom srednjom vrednošću i konstantnom varijansom. Zato se u ispitivanju osobina skupa podataka mogu pratiti i grafici reziduala. "
   ]
  },
  {
   "cell_type": "markdown",
   "metadata": {},
   "source": [
    "<img src='assets/residual_plots.png'> "
   ]
  },
  {
   "cell_type": "code",
   "execution_count": null,
   "metadata": {},
   "outputs": [],
   "source": []
  },
  {
   "cell_type": "code",
   "execution_count": null,
   "metadata": {},
   "outputs": [],
   "source": []
  },
  {
   "cell_type": "markdown",
   "metadata": {},
   "source": [
    "Promenljiva `N` će predstavljati broj instanci skupa."
   ]
  },
  {
   "cell_type": "code",
   "execution_count": 3,
   "metadata": {},
   "outputs": [],
   "source": [
    "N = 100"
   ]
  },
  {
   "cell_type": "markdown",
   "metadata": {},
   "source": [
    "Vrednost atributa biraćemo iz normalne raspodele $N(0, 9)$."
   ]
  },
  {
   "cell_type": "code",
   "execution_count": 4,
   "metadata": {},
   "outputs": [],
   "source": [
    "x = np.random.normal(0, 9, N) "
   ]
  },
  {
   "cell_type": "markdown",
   "metadata": {},
   "source": [
    "Šum koji ćemo dodati će biti oblika $1+\\frac{1}{2}x^2$ tj. imaće veću vrednost za veće vrednosti atributa $x$."
   ]
  },
  {
   "cell_type": "code",
   "execution_count": 5,
   "metadata": {},
   "outputs": [],
   "source": [
    "noise = np.random.normal(0, 1+0.5*x**2, N)"
   ]
  },
  {
   "cell_type": "markdown",
   "metadata": {},
   "source": [
    "Ciljna promenljiva će imati vrednost $y=3-2x$ uz dodatak šuma."
   ]
  },
  {
   "cell_type": "code",
   "execution_count": 6,
   "metadata": {},
   "outputs": [],
   "source": [
    "y = 3 - 2*x + noise"
   ]
  },
  {
   "cell_type": "code",
   "execution_count": null,
   "metadata": {},
   "outputs": [],
   "source": []
  },
  {
   "cell_type": "markdown",
   "metadata": {},
   "source": [
    "Naučićemo model linearne regresije nad ovim skupom podataka korišćenjem `LinearRegression` klase."
   ]
  },
  {
   "cell_type": "code",
   "execution_count": 7,
   "metadata": {},
   "outputs": [
    {
     "data": {
      "text/plain": [
       "LinearRegression(copy_X=True, fit_intercept=True, n_jobs=None, normalize=False)"
      ]
     },
     "execution_count": 7,
     "metadata": {},
     "output_type": "execute_result"
    }
   ],
   "source": [
    "model = linear_model.LinearRegression()\n",
    "model.fit(x.reshape(-1, 1), y)"
   ]
  },
  {
   "cell_type": "code",
   "execution_count": 8,
   "metadata": {},
   "outputs": [],
   "source": [
    "beta0 = model.intercept_\n",
    "beta1 = model.coef_[0]"
   ]
  },
  {
   "cell_type": "code",
   "execution_count": 9,
   "metadata": {},
   "outputs": [
    {
     "data": {
      "text/plain": [
       "(8.036027982523336, 0.03443904911326861)"
      ]
     },
     "execution_count": 9,
     "metadata": {},
     "output_type": "execute_result"
    }
   ],
   "source": [
    "beta0, beta1"
   ]
  },
  {
   "cell_type": "code",
   "execution_count": null,
   "metadata": {},
   "outputs": [],
   "source": []
  },
  {
   "cell_type": "markdown",
   "metadata": {},
   "source": [
    "Zatim ćemo prikazati kako izgleda prava čiji smo oblik naučili."
   ]
  },
  {
   "cell_type": "code",
   "execution_count": 10,
   "metadata": {},
   "outputs": [],
   "source": [
    "y_model = model.predict(x.reshape(-1, 1))"
   ]
  },
  {
   "cell_type": "code",
   "execution_count": 11,
   "metadata": {},
   "outputs": [
    {
     "data": {
      "image/png": "[encoded data removed]",
      "text/plain": [
       "<Figure size 432x288 with 1 Axes>"
      ]
     },
     "metadata": {
      "needs_background": "light"
     },
     "output_type": "display_data"
    }
   ],
   "source": [
    "plt.plot(x, y, 'o', color = 'orange')\n",
    "plt.plot(x, 3-2*x, color = 'green', label='prava zavisnost')\n",
    "plt.plot(x, beta0 + beta1*x, color = 'blue', label='naučeni model')\n",
    "plt.legend(loc='best')\n",
    "plt.show()"
   ]
  },
  {
   "cell_type": "code",
   "execution_count": null,
   "metadata": {},
   "outputs": [],
   "source": []
  },
  {
   "cell_type": "markdown",
   "metadata": {},
   "source": [
    "Prikazaćemo i grafike reziduala. "
   ]
  },
  {
   "cell_type": "code",
   "execution_count": 12,
   "metadata": {},
   "outputs": [],
   "source": [
    "residuals = y-y_model"
   ]
  },
  {
   "cell_type": "code",
   "execution_count": 13,
   "metadata": {},
   "outputs": [
    {
     "data": {
      "image/png": "[encoded data removed]",
      "text/plain": [
       "<Figure size 432x288 with 1 Axes>"
      ]
     },
     "metadata": {
      "needs_background": "light"
     },
     "output_type": "display_data"
    }
   ],
   "source": [
    "plt.scatter(x, residuals)\n",
    "plt.title('Grafik reziduala')\n",
    "plt.show()"
   ]
  },
  {
   "cell_type": "code",
   "execution_count": null,
   "metadata": {},
   "outputs": [],
   "source": []
  },
  {
   "cell_type": "markdown",
   "metadata": {},
   "source": [
    "### Linearni model sa težinama"
   ]
  },
  {
   "cell_type": "markdown",
   "metadata": {},
   "source": [
    "Sada ćemo kreirati model linearne regresije sa težinama. Ideja je da instancama kod kojih je varijansa mala pridružimo veće težine kako bi model bio sigurniji, a da instancama kod kojih je varijansa velika pridružimo manje težine. Zato za vrednosti težina možemo uzeti recipročnu vrednost varijanse: $w_i = \\frac{1}{\\sigma_i^2}$."
   ]
  },
  {
   "cell_type": "code",
   "execution_count": 14,
   "metadata": {},
   "outputs": [],
   "source": [
    "improved_model = linear_model.LinearRegression()"
   ]
  },
  {
   "cell_type": "code",
   "execution_count": 15,
   "metadata": {},
   "outputs": [],
   "source": [
    "weights=1/(1+0.5*x**2)"
   ]
  },
  {
   "cell_type": "markdown",
   "metadata": {},
   "source": [
    "Prilikom poziva metode `fit` moguće je zadati vrednosti težina pojedinačnih instanci parametrom `sample_weight`."
   ]
  },
  {
   "cell_type": "code",
   "execution_count": 16,
   "metadata": {},
   "outputs": [
    {
     "data": {
      "text/plain": [
       "LinearRegression(copy_X=True, fit_intercept=True, n_jobs=None, normalize=False)"
      ]
     },
     "execution_count": 16,
     "metadata": {},
     "output_type": "execute_result"
    }
   ],
   "source": [
    "improved_model.fit(x.reshape(-1,1) , y, sample_weight=weights)"
   ]
  },
  {
   "cell_type": "code",
   "execution_count": 17,
   "metadata": {},
   "outputs": [],
   "source": [
    "beta0_improved = improved_model.intercept_\n",
    "beta1_improved = improved_model.coef_[0]"
   ]
  },
  {
   "cell_type": "code",
   "execution_count": null,
   "metadata": {},
   "outputs": [],
   "source": []
  },
  {
   "cell_type": "markdown",
   "metadata": {},
   "source": [
    "Prikazaćemo i grafik ovako naučenog modela i grafik njegovih kvadrata reziduala."
   ]
  },
  {
   "cell_type": "code",
   "execution_count": 18,
   "metadata": {},
   "outputs": [],
   "source": [
    "y_imporved_model = improved_model.predict(x.reshape(-1, 1))"
   ]
  },
  {
   "cell_type": "code",
   "execution_count": null,
   "metadata": {},
   "outputs": [],
   "source": []
  },
  {
   "cell_type": "code",
   "execution_count": 19,
   "metadata": {},
   "outputs": [
    {
     "data": {
      "image/png": "[encoded data removed]",
      "text/plain": [
       "<Figure size 432x288 with 1 Axes>"
      ]
     },
     "metadata": {
      "needs_background": "light"
     },
     "output_type": "display_data"
    }
   ],
   "source": [
    "plt.plot(x, y, 'o', color = 'orange')\n",
    "plt.plot(x, 3-2*x, color = 'green', label='prava zavisnost')\n",
    "plt.plot(x, beta0 + beta1*x, color = 'blue', label='naučeni model')\n",
    "plt.plot(x, beta0_improved + beta1_improved*x, color = 'red', label='unapređeni model')\n",
    "\n",
    "plt.legend(loc='best')\n",
    "plt.show()"
   ]
  },
  {
   "cell_type": "code",
   "execution_count": null,
   "metadata": {},
   "outputs": [],
   "source": []
  }
 ],
 "metadata": {
  "kernelspec": {
   "display_name": "Python 3",
   "language": "python",
   "name": "python3"
  },
  "language_info": {
   "codemirror_mode": {
    "name": "ipython",
    "version": 3
   },
   "file_extension": ".py",
   "mimetype": "text/x-python",
   "name": "python",
   "nbconvert_exporter": "python",
   "pygments_lexer": "ipython3",
   "version": "3.7.6"
  }
 },
 "nbformat": 4,
 "nbformat_minor": 2
}
