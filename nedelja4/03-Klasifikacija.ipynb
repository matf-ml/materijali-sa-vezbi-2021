{
 "cells": [
  {
   "cell_type": "markdown",
   "metadata": {},
   "source": [
    "# Klasifikacija"
   ]
  },
  {
   "cell_type": "code",
   "execution_count": null,
   "metadata": {},
   "outputs": [],
   "source": []
  },
  {
   "cell_type": "markdown",
   "metadata": {},
   "source": [
    "Zadatak klasifikacije je određivanje modela kojim se predviđaju vrednosti diskretne ciljne promenljive. Na primer, tipični zadaci klasifikacije su određivanje da li je poruka poželjna ili nepoželjna, da li je detektovani tumor benigni ili maligni, da li je obavljena transakcija regularna ili ne, ... Navedeni primeri su primeri **binarne** klasifikacije jer ciljna promenljiva može imati samo dve vrednosti. Ukoliko ciljna promenljiva može imati više mogućih vrednosti (više od dve) reč je o **višeklasnoj klasifikaciji**. Na primer, određivanje da li je novinski članak iz domena politike, sporta ili kulture ili određivanje da li je na slici mačka, slon ili leptir su zadaci višeklasne klasifikacije. Bilo da je reč o binarnoj ili višeklasnoj klasifikaciji, ciljna promenljiva uzima tačno jednu vrednost. U slučaju **višelabelarne klasifikacije**, ciljna promenljiva može uzeti i više vrednosti. Na primer, jedan post na blogu može pripada istovremeno kategorijama *turizam*, *Italija* i *hrana*.   "
   ]
  },
  {
   "cell_type": "code",
   "execution_count": null,
   "metadata": {},
   "outputs": [],
   "source": []
  },
  {
   "cell_type": "markdown",
   "metadata": {},
   "source": [
    "Kada je reč o oceni uspešnosti klasifikacije, neke od standardnih mera su: preciznost (eng. precision), odziv (eng. recall), tačnost (eng. accuracy) i F1 mera. Ove mere se izračunavaju na osnovu vrednosti matrice konfuzije u kojoj se sumiraju rezultati testiranja klasifikatora. <img src='assets/confusion_matrix.png'>"
   ]
  },
  {
   "cell_type": "code",
   "execution_count": null,
   "metadata": {},
   "outputs": [],
   "source": []
  },
  {
   "cell_type": "markdown",
   "metadata": {},
   "source": [
    "`Preciznost` predstavlja ocenu broja pozitivno klasifikovanih instanci i izračunava se po formuli: $$P = \\frac{TP}{TP + FP}$$\n",
    "<br> \n",
    "`Odziv` predstavlja ocenu broja prepoznatih pozitivnih instanci i računa se po formuli: $$R = \\frac{TP}{TP + FN}$$\n",
    "<br>\n",
    "`Tačnost` predstavlja ocenu ukupnog broja uspešno klasifikovanih instanci i izračunava se po formuli: $$Acc = \\frac{TP + TN}{TP + FN + FP + TN}$$\n",
    "<br> \n",
    "`F1` mera predstavlja harmonijsku sredinu prezinosti i odziva i izračunava se po formuli: $$F_1 = 2\\frac{PR}{P+R}$$\n",
    "\n",
    "<img src='assets/metrics.png'>"
   ]
  },
  {
   "cell_type": "code",
   "execution_count": null,
   "metadata": {},
   "outputs": [],
   "source": []
  }
 ],
 "metadata": {
  "kernelspec": {
   "display_name": "Python 3",
   "language": "python",
   "name": "python3"
  },
  "language_info": {
   "codemirror_mode": {
    "name": "ipython",
    "version": 3
   },
   "file_extension": ".py",
   "mimetype": "text/x-python",
   "name": "python",
   "nbconvert_exporter": "python",
   "pygments_lexer": "ipython3",
   "version": "3.7.6"
  }
 },
 "nbformat": 4,
 "nbformat_minor": 2
}
