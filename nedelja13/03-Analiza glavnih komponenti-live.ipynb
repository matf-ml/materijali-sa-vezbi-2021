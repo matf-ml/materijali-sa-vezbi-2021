{
 "cells": [
  {
   "cell_type": "markdown",
   "metadata": {},
   "source": [
    "# Analiza glavnih komponenti"
   ]
  },
  {
   "cell_type": "markdown",
   "metadata": {},
   "source": [
    "Analiza glavnih komponenti (engl. *principal component analysis*, skraćeno *PCA*) je statistička procedura koja se koristi za redukciju dimenzionalnosti. Smanjena dimenzionalnost je od značaja u zadacima interpretacije i vizuelizacije podataka, ali i kod optimalnijeg korišćenja računskih resursa. Sama procedura je nenadgledanog karaktera i ne zahteva poznavanje obeležja posmatranih instanci. "
   ]
  },
  {
   "cell_type": "markdown",
   "metadata": {},
   "source": [
    "PCA preslikava polazni skup atributa u novi skup atributa koristeći informaciju o varijansi atributa. Svaki od atributa novog skupa se naziva `glavnom komponentom`. Prva glavna komponenta se bira tako da ima najveću moguću varijansu tj. bira se tako da duž nje podaci najviše variraju. Svaka naredna glavna komponenta se bira tako da je normalna na sve prethodne komponente i da, takođe, trenutno ima najveću varijansu. "
   ]
  },
  {
   "cell_type": "markdown",
   "metadata": {},
   "source": [
    "<img src='assets/PCA.gif'>\n",
    "Na slici, položaj vektora obeleženog ljubičastim markerima odgovara prvoj glavnoj komponenti."
   ]
  },
  {
   "cell_type": "markdown",
   "metadata": {},
   "source": [
    "U zavisnosti od broja odabranih glavnih komponenti, zavisi i gubitak informacija iz polaznog skupa. "
   ]
  },
  {
   "cell_type": "code",
   "execution_count": null,
   "metadata": {},
   "outputs": [],
   "source": []
  },
  {
   "cell_type": "code",
   "execution_count": 1,
   "metadata": {},
   "outputs": [],
   "source": [
    "import numpy as np\n",
    "from matplotlib import pyplot as plt"
   ]
  },
  {
   "cell_type": "code",
   "execution_count": 2,
   "metadata": {},
   "outputs": [],
   "source": [
    "from sklearn import preprocessing\n",
    "from sklearn import datasets\n",
    "from sklearn import decomposition"
   ]
  },
  {
   "cell_type": "markdown",
   "metadata": {},
   "source": [
    "Prvim primerom ćemo proći kroz manuelnu implementaciju glavnih koraka PCA procedure, a potom ćemo upoznati bibliotečku podršku."
   ]
  },
  {
   "cell_type": "markdown",
   "metadata": {},
   "source": [
    "Skup podataka sa kojim ćemo raditi sadrži podatke o tumorima dojke. Na raspolaganju su vrednosti 30 različitih atributa među kojima su opis teksture tumora, njegove kompaktnosti, površine, glatkosti, simetrije, itd. Informacija je dostupna za 569 pacijenata. Uz opise tumora, prisutna je i informacija o tome da li je tumor benigan ili maligan. "
   ]
  },
  {
   "cell_type": "markdown",
   "metadata": {},
   "source": [
    "Skup podataka se može učitati pozivom `load_breast_cancer()` iz `sklearn.datasets` paketa. "
   ]
  },
  {
   "cell_type": "code",
   "execution_count": 3,
   "metadata": {},
   "outputs": [],
   "source": [
    "data = datasets.load_breast_cancer()"
   ]
  },
  {
   "cell_type": "markdown",
   "metadata": {},
   "source": [
    "Instance sa kojima radimo ćemo čuvati u matrici `X`. Kolone ove matrice predstavljaju vrednosti pojedinačnih atributa."
   ]
  },
  {
   "cell_type": "code",
   "execution_count": 4,
   "metadata": {},
   "outputs": [],
   "source": [
    "X = data.data\n",
    "number_of_features = data.data.shape[1]"
   ]
  },
  {
   "cell_type": "code",
   "execution_count": 5,
   "metadata": {},
   "outputs": [
    {
     "name": "stdout",
     "output_type": "stream",
     "text": [
      "Broj atributa:  30\n"
     ]
    }
   ],
   "source": [
    "print('Broj atributa: ', number_of_features)"
   ]
  },
  {
   "cell_type": "markdown",
   "metadata": {},
   "source": [
    "Obeležja koja su pridružena instancama ćemo čuvati na nivou vektora `y`. Vrednost `0` označava maligni tumor, a vrednost `1` benigni. "
   ]
  },
  {
   "cell_type": "code",
   "execution_count": 6,
   "metadata": {},
   "outputs": [],
   "source": [
    "y = data.target\n",
    "number_of_classes = np.unique(y).shape[0]"
   ]
  },
  {
   "cell_type": "code",
   "execution_count": 7,
   "metadata": {},
   "outputs": [
    {
     "name": "stdout",
     "output_type": "stream",
     "text": [
      "Broj klasa:  2\n"
     ]
    }
   ],
   "source": [
    "print('Broj klasa: ', number_of_classes)"
   ]
  },
  {
   "cell_type": "code",
   "execution_count": null,
   "metadata": {},
   "outputs": [],
   "source": []
  },
  {
   "cell_type": "markdown",
   "metadata": {},
   "source": [
    "Više o atributima skupa možemo pročitati ispisivanjem detaljnog opisa `print(data.DESCR)`."
   ]
  },
  {
   "cell_type": "code",
   "execution_count": 8,
   "metadata": {},
   "outputs": [],
   "source": [
    "# print(data.DESCR)"
   ]
  },
  {
   "cell_type": "code",
   "execution_count": null,
   "metadata": {},
   "outputs": [],
   "source": []
  },
  {
   "cell_type": "markdown",
   "metadata": {},
   "source": [
    "Dalje ćemo proći kroz korake PCA tehnike."
   ]
  },
  {
   "cell_type": "markdown",
   "metadata": {},
   "source": [
    "### Primer redukcije dimenzionalnosti, manuelna implementacija"
   ]
  },
  {
   "cell_type": "markdown",
   "metadata": {},
   "source": [
    "#### 1. korak: standardizacija skupa podataka"
   ]
  },
  {
   "cell_type": "markdown",
   "metadata": {},
   "source": [
    "Kako PCA tehnika posmatra varijansu pojedinačnih atributa, ukoliko atributi imaju različite skale vrednosti ima smisla izvršiti pripremu, tj. standardizaciju njihovih vrednosti.  "
   ]
  },
  {
   "cell_type": "markdown",
   "metadata": {},
   "source": [
    "Prvo možemo dati uvid u srednju vrednost i varijansu atributa originalnog skupa, zatim izvršiti njegovu standardizaciju, a potom prikazati i srednju vrednost i varijansu u modifikovanom skupu."
   ]
  },
  {
   "cell_type": "code",
   "execution_count": 9,
   "metadata": {},
   "outputs": [
    {
     "data": {
      "image/png": "[encoded data removed]",
      "text/plain": [
       "<Figure size 1440x360 with 2 Axes>"
      ]
     },
     "metadata": {
      "needs_background": "light"
     },
     "output_type": "display_data"
    }
   ],
   "source": [
    "fig, (ax1, ax2) = plt.subplots(1, 2, figsize=(20, 5))\n",
    "\n",
    "ax1.set_title('Srednja vrednost atributa')\n",
    "ax1.set_xticks(np.arange(0, number_of_features))\n",
    "ax1.bar(np.arange(0, number_of_features), X.mean(axis=0))\n",
    "\n",
    "ax2.set_title('Varijansa atributa')\n",
    "ax2.set_xticks(np.arange(0, number_of_features))\n",
    "ax2.bar(np.arange(0, number_of_features), X.std(axis=0))\n",
    "\n",
    "plt.show()"
   ]
  },
  {
   "cell_type": "code",
   "execution_count": 10,
   "metadata": {},
   "outputs": [],
   "source": [
    "X_mean = X.mean(axis=0)\n",
    "X_std = X.std(axis=0)\n",
    "X = (X-X_mean)/X_std"
   ]
  },
  {
   "cell_type": "code",
   "execution_count": 12,
   "metadata": {},
   "outputs": [
    {
     "data": {
      "image/png": "[encoded data removed]",
      "text/plain": [
       "<Figure size 1440x360 with 2 Axes>"
      ]
     },
     "metadata": {
      "needs_background": "light"
     },
     "output_type": "display_data"
    }
   ],
   "source": [
    "fig, (ax1, ax2) = plt.subplots(1, 2, figsize=(20, 5))\n",
    "\n",
    "ax1.set_title('Srednja vrednost atributa')\n",
    "ax1.set_xticks(np.arange(0, number_of_features))\n",
    "ax1.bar(np.arange(0, number_of_features), X.mean(axis=0)*100)\n",
    "\n",
    "ax2.set_title('Varijansa atributa')\n",
    "ax2.set_xticks(np.arange(0, number_of_features))\n",
    "ax2.bar(np.arange(0, number_of_features), X.std(axis=0))\n",
    "\n",
    "plt.show()"
   ]
  },
  {
   "cell_type": "code",
   "execution_count": null,
   "metadata": {},
   "outputs": [],
   "source": []
  },
  {
   "cell_type": "markdown",
   "metadata": {},
   "source": [
    "#### 2. korak: kreiranje matrice kovarijanse"
   ]
  },
  {
   "cell_type": "markdown",
   "metadata": {},
   "source": [
    "Kovarijansa je mera koja nam daje uvid u povezanost dveju veličina. Baš kao što varijansa daje informaciju o varijabilnost jedne veličine, tako kovarijansa daje informaciju o uzajamnoj varijabilnosti dveju veličina. "
   ]
  },
  {
   "cell_type": "markdown",
   "metadata": {},
   "source": [
    "Ako su $X_j$ i $X_k$ dve veličine tj. dva atributa koja posmatramo, kovarijansa između njih se računa po formuli $$\\sigma_{jk}=\\frac{1}{N-1}\\sum_{i=1}^{N}(x_{ij}-\\bar{x_{j}})(x_{ik}-\\bar{x_{k}})$$ gde $\\bar{x_{j}}$ i $\\bar{x_{k}}$ predstavljaju srednju vrednost atributa $X_j$ i $X_k$, a $N$ njihovu dimenziju. Vektorski, ova izračunavanja možemo zapisati kao $$\\sigma_{jk}=\\frac{1}{N-1}(X_j - \\bar{x_{j}})^T \\cdot (X_k - \\bar{x_{k}}))$$."
   ]
  },
  {
   "cell_type": "markdown",
   "metadata": {},
   "source": [
    "Za kreiranje matrice kovarijanse možemo iskoristiti podršku `numpy` biblioteke kroz funkciju `cov`. Argument funkcije `cov` je matrica čije vrste sadrže vrednosti pojedinačnih atributa. "
   ]
  },
  {
   "cell_type": "code",
   "execution_count": 13,
   "metadata": {},
   "outputs": [],
   "source": [
    "covariance_matrix = np.cov(X.T)"
   ]
  },
  {
   "cell_type": "code",
   "execution_count": null,
   "metadata": {},
   "outputs": [],
   "source": []
  },
  {
   "cell_type": "markdown",
   "metadata": {},
   "source": [
    "#### 3. korak: određivanje sopstvenih vrednosti i sopstvenih vektora matrice kovarijanse"
   ]
  },
  {
   "cell_type": "markdown",
   "metadata": {},
   "source": [
    "Sopstvene vektore matrice kovarijanse nazivamo `glavnim komponentama`. Glavne komponente određuju pravac novog prostora atributa, dok sopstvene vrednosti određuju njihovu vrednost. Možemo reći i da sopstvene vrednosti objašnjavaju varijansu podataka duž pravaca novih atributa."
   ]
  },
  {
   "cell_type": "markdown",
   "metadata": {},
   "source": [
    "Za određivanje sopstvenih vrednosti i sopstvenih vektora matrice kovarijanse možemo iskoristiti funkciju `eig`. Podsetimo se da izračunati sopstveni vektori predstavljaju kolone rezultujuće matrice."
   ]
  },
  {
   "cell_type": "code",
   "execution_count": 14,
   "metadata": {},
   "outputs": [],
   "source": [
    "eig_values, eig_vectors = np.linalg.eig(covariance_matrix)"
   ]
  },
  {
   "cell_type": "code",
   "execution_count": null,
   "metadata": {},
   "outputs": [],
   "source": []
  },
  {
   "cell_type": "markdown",
   "metadata": {},
   "source": [
    "#### 4. korak: uređivanje skupa sopstvenih vrednosti po veličini, od najveće ka najmanjoj "
   ]
  },
  {
   "cell_type": "markdown",
   "metadata": {},
   "source": [
    "Svi izračunati sopstveni vektori imaju jediničnu normu. Da bismo odredili vektore koje možemo odbaciti bez previše gubitka informacija posmatramo njima pridružene sopstvene vrednosti. Sopstvene vrednosti se mogu interpretirati kao dužine ili magniture odgovarajućih sopstvenih vektora. Sopstveni vektori sa najmanjim sopstvenim vrednostima nose najmanje informacija o distribuciji podataka pa su oni kandidati za eleminaciju. Zato je sledeći korak sortiranje sopstvenih vektora prema vrednostima sopstvenih vrednosti u opadajućem poretku."
   ]
  },
  {
   "cell_type": "code",
   "execution_count": null,
   "metadata": {},
   "outputs": [],
   "source": []
  },
  {
   "cell_type": "code",
   "execution_count": 15,
   "metadata": {},
   "outputs": [],
   "source": [
    "eig_pairs = [(np.abs(eig_values[i]), eig_vectors[:,i]) for i in range(0, len(eig_values))]\n",
    "eig_pairs.sort(reverse=True)"
   ]
  },
  {
   "cell_type": "code",
   "execution_count": null,
   "metadata": {},
   "outputs": [],
   "source": []
  },
  {
   "cell_type": "markdown",
   "metadata": {},
   "source": [
    "#### 5.korak: kreiranje matrice transformacije"
   ]
  },
  {
   "cell_type": "markdown",
   "metadata": {},
   "source": [
    "Matrica transformacije je matrica kojom se polazni skup atributa svodi na nove, glavne, komponente. Nju kreiramo izdvajanjem `k` sopstvenih vektora koji odgovaraju najvećim sopstvenim vrednostima. Izdvojeni vektori treba da predstavljaju kolone matrice transformacije. Izbor parametra `k` određuje dimenziju novog prostora atributa.  "
   ]
  },
  {
   "cell_type": "code",
   "execution_count": 16,
   "metadata": {},
   "outputs": [],
   "source": [
    "k = 2"
   ]
  },
  {
   "cell_type": "code",
   "execution_count": 17,
   "metadata": {},
   "outputs": [],
   "source": [
    "transformation_matrix = np.empty((number_of_features, k))\n",
    "for i in range(0, k):\n",
    "    transformation_matrix[:, i] = eig_pairs[i][1] "
   ]
  },
  {
   "cell_type": "code",
   "execution_count": null,
   "metadata": {},
   "outputs": [],
   "source": []
  },
  {
   "cell_type": "markdown",
   "metadata": {},
   "source": [
    "O izboru vrednosti broja `k` će biti još reči."
   ]
  },
  {
   "cell_type": "markdown",
   "metadata": {},
   "source": [
    "#### 6.korak: transformacija polaznog skupa atributa"
   ]
  },
  {
   "cell_type": "markdown",
   "metadata": {},
   "source": [
    "Poslednji korak PCA tehnike je transformisanje polaznog skupa atributa u novi skup koji je određen glavnim komponentama. Novi skup atributa se dobija množenjem matrice transformacija i polaznog skupa. "
   ]
  },
  {
   "cell_type": "code",
   "execution_count": 18,
   "metadata": {},
   "outputs": [],
   "source": [
    "X_transformed = transformation_matrix.T.dot(X.T).T"
   ]
  },
  {
   "cell_type": "code",
   "execution_count": 19,
   "metadata": {},
   "outputs": [
    {
     "data": {
      "text/plain": [
       "(569, 2)"
      ]
     },
     "execution_count": 19,
     "metadata": {},
     "output_type": "execute_result"
    }
   ],
   "source": [
    "X_transformed.shape"
   ]
  },
  {
   "cell_type": "code",
   "execution_count": null,
   "metadata": {},
   "outputs": [],
   "source": []
  },
  {
   "cell_type": "markdown",
   "metadata": {},
   "source": [
    "Pošto smo koristili svođenje na skup atributa dimenzije dva novodobijene podatke sada lako možemo vizualizovati. "
   ]
  },
  {
   "cell_type": "code",
   "execution_count": 20,
   "metadata": {},
   "outputs": [
    {
     "data": {
      "image/png": "[encoded data removed]",
      "text/plain": [
       "<Figure size 432x288 with 1 Axes>"
      ]
     },
     "metadata": {
      "needs_background": "light"
     },
     "output_type": "display_data"
    }
   ],
   "source": [
    "colors = ['red' if v == 0 else 'blue' for v in y]\n",
    "labels = ['malignant', 'benign']\n",
    "plt.scatter(X_transformed[:,0], X_transformed[:,1], c=colors)\n",
    "plt.title('Podaci u prostoru dimenzionalnosti k=2')\n",
    "plt.xlabel('Prva glavna komponenta')\n",
    "plt.ylabel('Druga glavna komponenta')\n",
    "plt.show()"
   ]
  },
  {
   "cell_type": "code",
   "execution_count": null,
   "metadata": {},
   "outputs": [],
   "source": []
  },
  {
   "cell_type": "markdown",
   "metadata": {},
   "source": [
    "### Primer redukcije dimenzionalnosti, bibliotečka podrška"
   ]
  },
  {
   "cell_type": "markdown",
   "metadata": {},
   "source": [
    "Ponovo ćemo učitati podatke za dalji rad."
   ]
  },
  {
   "cell_type": "code",
   "execution_count": 21,
   "metadata": {},
   "outputs": [],
   "source": [
    "X = data.data\n",
    "number_of_features = data.data.shape[1]"
   ]
  },
  {
   "cell_type": "code",
   "execution_count": null,
   "metadata": {},
   "outputs": [],
   "source": []
  },
  {
   "cell_type": "markdown",
   "metadata": {},
   "source": [
    "Najpre ćemo, kao ulaz u algoritam, izvršiti standardizaciju podataka korišćenjem `StandardScaler` klase paketa `sklearn.preprocessing`."
   ]
  },
  {
   "cell_type": "code",
   "execution_count": null,
   "metadata": {},
   "outputs": [],
   "source": []
  },
  {
   "cell_type": "code",
   "execution_count": null,
   "metadata": {},
   "outputs": [],
   "source": []
  },
  {
   "cell_type": "code",
   "execution_count": null,
   "metadata": {},
   "outputs": [],
   "source": []
  },
  {
   "cell_type": "code",
   "execution_count": null,
   "metadata": {},
   "outputs": [],
   "source": []
  },
  {
   "cell_type": "markdown",
   "metadata": {},
   "source": [
    "Biblioteka stavlja na raspolaganje klasu `PCA` paketa `sklearn.decomposition` kojom se može izvršiti redukcija dimenzionalnosti korišćenjem glavnih komponenti. Očekivani parametar je broj glavnih komponenti `n_components`. Mi ćemo polazni skup podataka transformisati tako da ima dve glavne komponente."
   ]
  },
  {
   "cell_type": "code",
   "execution_count": null,
   "metadata": {},
   "outputs": [],
   "source": []
  },
  {
   "cell_type": "code",
   "execution_count": null,
   "metadata": {},
   "outputs": [],
   "source": []
  },
  {
   "cell_type": "code",
   "execution_count": null,
   "metadata": {},
   "outputs": [],
   "source": []
  },
  {
   "cell_type": "code",
   "execution_count": null,
   "metadata": {},
   "outputs": [],
   "source": []
  },
  {
   "cell_type": "markdown",
   "metadata": {},
   "source": [
    "Kako imamo samo dve glavne komponente, transformisani dvodimenzionalni prostor se može jednostavno predstaviti u ravni. Prva kolona matrice `X_pca` se odnosi na prvu glavnu komponentu i njene vrednosti će biti predstavljene na *x*-osi, a druga kolona se odnosu na drugu glavnu komponentu i njene vrednosti će biti predstavljene na _y_-osi. Kako imamo samo dve ciljne klase, vrednosti ciljne promenljive su 0 ili 1. Tačke za koje je $y = 0$ ćemo obojiti crvenom, a tačke za koje je $y = 1$ plavom bojom. "
   ]
  },
  {
   "cell_type": "code",
   "execution_count": null,
   "metadata": {},
   "outputs": [],
   "source": []
  },
  {
   "cell_type": "code",
   "execution_count": null,
   "metadata": {},
   "outputs": [],
   "source": []
  },
  {
   "cell_type": "code",
   "execution_count": null,
   "metadata": {},
   "outputs": [],
   "source": []
  },
  {
   "cell_type": "code",
   "execution_count": null,
   "metadata": {},
   "outputs": [],
   "source": []
  },
  {
   "cell_type": "markdown",
   "metadata": {},
   "source": [
    "Matrica `pca.components_` sadrži informacije o međusobnom odnosu svakog od polaznih atributa i dobijenih glavnih komponenti. Ovo možemo iskoristiti za prikazivanje zavisnosti u formi toplotne mape. Prvi red će se odnosi na prvu, a drugi na drugu glavnu komponentu. Svaki od atributa je opisan pojedinačnom kolonom."
   ]
  },
  {
   "cell_type": "code",
   "execution_count": null,
   "metadata": {},
   "outputs": [],
   "source": []
  },
  {
   "cell_type": "code",
   "execution_count": null,
   "metadata": {},
   "outputs": [],
   "source": []
  },
  {
   "cell_type": "code",
   "execution_count": null,
   "metadata": {},
   "outputs": [],
   "source": []
  },
  {
   "cell_type": "code",
   "execution_count": null,
   "metadata": {},
   "outputs": [],
   "source": []
  },
  {
   "cell_type": "markdown",
   "metadata": {},
   "source": [
    "Atributom `explained_variance_ratio_` možemo odrediti količinu varijanse podataka koje svaka od glavnih komponenti objašnjava."
   ]
  },
  {
   "cell_type": "code",
   "execution_count": null,
   "metadata": {},
   "outputs": [],
   "source": []
  },
  {
   "cell_type": "code",
   "execution_count": null,
   "metadata": {},
   "outputs": [],
   "source": []
  },
  {
   "cell_type": "code",
   "execution_count": null,
   "metadata": {},
   "outputs": [],
   "source": []
  },
  {
   "cell_type": "code",
   "execution_count": null,
   "metadata": {},
   "outputs": [],
   "source": []
  },
  {
   "cell_type": "markdown",
   "metadata": {},
   "source": [
    "Važno pitanje je kako odrediti polazne atribute ukoliko poznajemo vrednosti atributa u novom prostoru. Funkcija `inverse_transform` omogućava ovu vrstu izračunavanja. Na primer, instanci (5, 2.5) odgovara sledeće vektor polaznog skupa atributa:"
   ]
  },
  {
   "cell_type": "code",
   "execution_count": null,
   "metadata": {},
   "outputs": [],
   "source": []
  },
  {
   "cell_type": "code",
   "execution_count": null,
   "metadata": {},
   "outputs": [],
   "source": []
  },
  {
   "cell_type": "code",
   "execution_count": null,
   "metadata": {},
   "outputs": [],
   "source": []
  },
  {
   "cell_type": "code",
   "execution_count": null,
   "metadata": {},
   "outputs": [],
   "source": []
  },
  {
   "cell_type": "code",
   "execution_count": null,
   "metadata": {},
   "outputs": [],
   "source": []
  }
 ],
 "metadata": {
  "kernelspec": {
   "display_name": "Python 3",
   "language": "python",
   "name": "python3"
  },
  "language_info": {
   "codemirror_mode": {
    "name": "ipython",
    "version": 3
   },
   "file_extension": ".py",
   "mimetype": "text/x-python",
   "name": "python",
   "nbconvert_exporter": "python",
   "pygments_lexer": "ipython3",
   "version": "3.8.3"
  }
 },
 "nbformat": 4,
 "nbformat_minor": 2
}
