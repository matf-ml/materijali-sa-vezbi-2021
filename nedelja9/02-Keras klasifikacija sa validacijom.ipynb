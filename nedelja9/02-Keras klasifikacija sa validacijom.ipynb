{
 "cells": [
  {
   "cell_type": "markdown",
   "metadata": {},
   "source": [
    "Baš kao i prethodni, ovaj primer demonstrira korišćenje Keras biblioteke u zadacima klasifikacije. Sada na osnovu skupa podataka koji sadrži informacije o tumorima, želimo da zaključimo da li je reč o benignim ili malignim tumorima. Naučićemo i kako da koristimo validacione skupove i pratimo uspešnost treniranja mreže. "
   ]
  },
  {
   "cell_type": "markdown",
   "metadata": {},
   "source": [
    "Pre nego li počnemo sa radom, uključićemo sve potrebne biblioteke."
   ]
  },
  {
   "cell_type": "code",
   "execution_count": 1,
   "metadata": {},
   "outputs": [],
   "source": [
    "import tensorflow as tf"
   ]
  },
  {
   "cell_type": "code",
   "execution_count": 2,
   "metadata": {},
   "outputs": [],
   "source": [
    "from tensorflow.keras.models import Sequential\n",
    "from tensorflow.keras.layers import Input, Dense, Activation\n",
    "from tensorflow.keras import losses, optimizers"
   ]
  },
  {
   "cell_type": "code",
   "execution_count": 3,
   "metadata": {},
   "outputs": [],
   "source": [
    "import numpy as np\n",
    "from matplotlib import pyplot as plt"
   ]
  },
  {
   "cell_type": "code",
   "execution_count": 4,
   "metadata": {},
   "outputs": [],
   "source": [
    "from sklearn import preprocessing\n",
    "from sklearn import datasets\n",
    "from sklearn import model_selection"
   ]
  },
  {
   "cell_type": "code",
   "execution_count": 5,
   "metadata": {},
   "outputs": [],
   "source": [
    "np.random.seed(7)"
   ]
  },
  {
   "cell_type": "markdown",
   "metadata": {},
   "source": [
    "### Korak 1: Priprema skupa podataka"
   ]
  },
  {
   "cell_type": "markdown",
   "metadata": {},
   "source": [
    "Prvo ćemo učitati skup podataka i pripremiti ga za rad. Za učitavanje ćemo iskoristiti `datasets` paket `scikit-learn` biblioteke."
   ]
  },
  {
   "cell_type": "code",
   "execution_count": 6,
   "metadata": {},
   "outputs": [],
   "source": [
    "data = datasets.load_breast_cancer()"
   ]
  },
  {
   "cell_type": "markdown",
   "metadata": {},
   "source": [
    "Podatke delimo u razmeri 2:1 pritom vodeći računa o stratifikaciji."
   ]
  },
  {
   "cell_type": "code",
   "execution_count": 7,
   "metadata": {},
   "outputs": [],
   "source": [
    "X_train, X_test, y_train, y_test = model_selection.train_test_split(data.data, data.target, test_size = 0.33, random_state = 7, stratify = data.target)"
   ]
  },
  {
   "cell_type": "code",
   "execution_count": 8,
   "metadata": {},
   "outputs": [
    {
     "data": {
      "text/plain": [
       "(381, 30)"
      ]
     },
     "execution_count": 8,
     "metadata": {},
     "output_type": "execute_result"
    }
   ],
   "source": [
    "X_train.shape"
   ]
  },
  {
   "cell_type": "code",
   "execution_count": 9,
   "metadata": {},
   "outputs": [
    {
     "data": {
      "text/plain": [
       "(188, 30)"
      ]
     },
     "execution_count": 9,
     "metadata": {},
     "output_type": "execute_result"
    }
   ],
   "source": [
    "X_test.shape"
   ]
  },
  {
   "cell_type": "markdown",
   "metadata": {},
   "source": [
    "Na kraju podatke i standardizujemo."
   ]
  },
  {
   "cell_type": "code",
   "execution_count": 10,
   "metadata": {},
   "outputs": [],
   "source": [
    "scaler = preprocessing.StandardScaler()\n",
    "scaler.fit(X_train)\n",
    "X_train = scaler.transform(X_train)\n",
    "X_test = scaler.transform(X_test)"
   ]
  },
  {
   "cell_type": "code",
   "execution_count": null,
   "metadata": {},
   "outputs": [],
   "source": []
  },
  {
   "cell_type": "markdown",
   "metadata": {},
   "source": [
    "### Korak 2: Kreiranje mreže"
   ]
  },
  {
   "cell_type": "markdown",
   "metadata": {},
   "source": [
    "Napravićemo mrežu sa propagacijom unapred. Mreža će imati ulazni sloj, dva skrivena sloja sa, redom, 100 i 40 neurona, i izlazni sloj. Broj neurona ulaznog sloja odgovara broju atributa skupa podataka, a to je 30. Broj neurona izlaznog sloja je 1 pošto je u pitanju binarna klasifikacija. U skrivenim slojevima koristićemo relu aktivaciju, a u poslednjem, sigmoidnu funkciju."
   ]
  },
  {
   "cell_type": "code",
   "execution_count": 11,
   "metadata": {},
   "outputs": [],
   "source": [
    "number_of_features = X_train.shape[1]\n",
    "output_size = 1"
   ]
  },
  {
   "cell_type": "code",
   "execution_count": null,
   "metadata": {},
   "outputs": [],
   "source": []
  },
  {
   "cell_type": "code",
   "execution_count": 12,
   "metadata": {},
   "outputs": [],
   "source": [
    "model = Sequential()\n",
    "model.add(Input(shape=(number_of_features,)))\n",
    "model.add(Dense(units=100, activation='relu'))\n",
    "model.add(Dense(units=40, activation='relu'))\n",
    "model.add(Dense(units=output_size, activation='sigmoid'))"
   ]
  },
  {
   "cell_type": "code",
   "execution_count": null,
   "metadata": {},
   "outputs": [],
   "source": []
  },
  {
   "cell_type": "markdown",
   "metadata": {},
   "source": [
    "Pošto nam je gornja sintaksa sada bliska, možemo prodiskutovati i nešto kompaktniji način zapisa modela u kojem se funkciji `Sequential` eksplicitno kao argumenti navode očekivani slojevi mreže."
   ]
  },
  {
   "cell_type": "code",
   "execution_count": 13,
   "metadata": {},
   "outputs": [],
   "source": [
    "model = Sequential([\n",
    "    Input(shape=(number_of_features,)),\n",
    "    Dense(units=100, activation='relu'),\n",
    "    Dense(units=40, activation='relu'),\n",
    "    Dense(units=output_size, activation='sigmoid')\n",
    "])"
   ]
  },
  {
   "cell_type": "code",
   "execution_count": null,
   "metadata": {},
   "outputs": [],
   "source": []
  },
  {
   "cell_type": "markdown",
   "metadata": {},
   "source": [
    "### Korak 3: Treniranje mreže"
   ]
  },
  {
   "cell_type": "markdown",
   "metadata": {},
   "source": [
    "Slično kao u prethodnom primeru koristićemo optimizator Adam, binarnu unakrsnu entropiju kao funkciju greške, a pošto rešavamo klasifikacioni zadatak, opet ćemo odabrati kao metriku tačnost. Ipak, prilikom zadavanja navedenih vrednosti iskoristićemo nešto malo drugačiju sintaksu."
   ]
  },
  {
   "cell_type": "markdown",
   "metadata": {},
   "source": [
    "Alternativni način zadavanja optimizatora uz finija podešavanja parametara se može postići uključivanjem `optimizer` paketa, a funkcija gubitka uključivanjem `losses` paketa. Zahvaljujući ovim paketima umesto inicijalizacije niskama, potrebne parametre možemo inicijalizovati instancama odgovarajućih klasa."
   ]
  },
  {
   "cell_type": "code",
   "execution_count": 14,
   "metadata": {},
   "outputs": [],
   "source": [
    "from tensorflow.keras import optimizers\n",
    "from tensorflow.keras import losses"
   ]
  },
  {
   "cell_type": "code",
   "execution_count": null,
   "metadata": {},
   "outputs": [],
   "source": []
  },
  {
   "cell_type": "code",
   "execution_count": 15,
   "metadata": {},
   "outputs": [],
   "source": [
    "model.compile(optimizers.Adam(learning_rate = 0.0001), loss=losses.BinaryCrossentropy(), metrics=['accuracy'])"
   ]
  },
  {
   "cell_type": "code",
   "execution_count": 16,
   "metadata": {},
   "outputs": [
    {
     "name": "stdout",
     "output_type": "stream",
     "text": [
      "Model: \"sequential_1\"\n",
      "_________________________________________________________________\n",
      "Layer (type)                 Output Shape              Param #   \n",
      "=================================================================\n",
      "dense_3 (Dense)              (None, 100)               3100      \n",
      "_________________________________________________________________\n",
      "dense_4 (Dense)              (None, 40)                4040      \n",
      "_________________________________________________________________\n",
      "dense_5 (Dense)              (None, 1)                 41        \n",
      "=================================================================\n",
      "Total params: 7,181\n",
      "Trainable params: 7,181\n",
      "Non-trainable params: 0\n",
      "_________________________________________________________________\n"
     ]
    }
   ],
   "source": [
    "model.summary()"
   ]
  },
  {
   "cell_type": "code",
   "execution_count": null,
   "metadata": {},
   "outputs": [],
   "source": []
  },
  {
   "cell_type": "markdown",
   "metadata": {},
   "source": [
    "Sada ćemo prilikom treniranja mreže, jedan deo podataka iskoristiti za validaciju. Parametar `validation_split` omogućava da se u zadatoj srazmeri izdvoji deo skupa za treniranje koji će biti korišćen isključivo za validaciju, tj. za monitoring rada mreže. Na kraju svake epohe nad ovim skupom će biti izračunate i sačuvane metrike zadate na nivou modela. Alternativa ovom pristupu bi bilo zadavanje eksplicitno pripremljenog validacionog skupa u formi `(X_validation, y_validation)` preko parametra `validation_data`."
   ]
  },
  {
   "cell_type": "markdown",
   "metadata": {},
   "source": [
    "Mrežu ćemo trenirati u 50 epoha sa paketićima veličine 32 instance. Ovoga puta ćemo postaviti i `verbose` parametar funkcije na vrednost 1 kako bismo mogli da pratimo ispise u toku izvršavanja funkcije."
   ]
  },
  {
   "cell_type": "code",
   "execution_count": 17,
   "metadata": {},
   "outputs": [
    {
     "name": "stdout",
     "output_type": "stream",
     "text": [
      "Epoch 1/50\n",
      "10/10 [==============================] - 0s 18ms/step - loss: 0.4790 - accuracy: 0.8980 - val_loss: 0.4887 - val_accuracy: 0.8571\n",
      "Epoch 2/50\n",
      "10/10 [==============================] - 0s 5ms/step - loss: 0.4423 - accuracy: 0.9145 - val_loss: 0.4578 - val_accuracy: 0.8831\n",
      "Epoch 3/50\n",
      "10/10 [==============================] - 0s 5ms/step - loss: 0.4112 - accuracy: 0.9276 - val_loss: 0.4300 - val_accuracy: 0.8961\n",
      "Epoch 4/50\n",
      "10/10 [==============================] - 0s 5ms/step - loss: 0.3834 - accuracy: 0.9276 - val_loss: 0.4061 - val_accuracy: 0.9091\n",
      "Epoch 5/50\n",
      "10/10 [==============================] - 0s 5ms/step - loss: 0.3592 - accuracy: 0.9309 - val_loss: 0.3846 - val_accuracy: 0.9091\n",
      "Epoch 6/50\n",
      "10/10 [==============================] - 0s 5ms/step - loss: 0.3377 - accuracy: 0.9342 - val_loss: 0.3649 - val_accuracy: 0.9091\n",
      "Epoch 7/50\n",
      "10/10 [==============================] - 0s 4ms/step - loss: 0.3179 - accuracy: 0.9474 - val_loss: 0.3469 - val_accuracy: 0.9221\n",
      "Epoch 8/50\n",
      "10/10 [==============================] - 0s 5ms/step - loss: 0.3004 - accuracy: 0.9441 - val_loss: 0.3309 - val_accuracy: 0.9221\n",
      "Epoch 9/50\n",
      "10/10 [==============================] - 0s 5ms/step - loss: 0.2845 - accuracy: 0.9441 - val_loss: 0.3161 - val_accuracy: 0.9221\n",
      "Epoch 10/50\n",
      "10/10 [==============================] - 0s 6ms/step - loss: 0.2701 - accuracy: 0.9474 - val_loss: 0.3024 - val_accuracy: 0.9221\n",
      "Epoch 11/50\n",
      "10/10 [==============================] - 0s 4ms/step - loss: 0.2566 - accuracy: 0.9441 - val_loss: 0.2898 - val_accuracy: 0.9221\n",
      "Epoch 12/50\n",
      "10/10 [==============================] - 0s 5ms/step - loss: 0.2446 - accuracy: 0.9441 - val_loss: 0.2784 - val_accuracy: 0.9351\n",
      "Epoch 13/50\n",
      "10/10 [==============================] - 0s 4ms/step - loss: 0.2333 - accuracy: 0.9441 - val_loss: 0.2686 - val_accuracy: 0.9351\n",
      "Epoch 14/50\n",
      "10/10 [==============================] - 0s 5ms/step - loss: 0.2232 - accuracy: 0.9474 - val_loss: 0.2593 - val_accuracy: 0.9351\n",
      "Epoch 15/50\n",
      "10/10 [==============================] - 0s 4ms/step - loss: 0.2136 - accuracy: 0.9474 - val_loss: 0.2510 - val_accuracy: 0.9351\n",
      "Epoch 16/50\n",
      "10/10 [==============================] - 0s 5ms/step - loss: 0.2050 - accuracy: 0.9507 - val_loss: 0.2433 - val_accuracy: 0.9351\n",
      "Epoch 17/50\n",
      "10/10 [==============================] - 0s 4ms/step - loss: 0.1970 - accuracy: 0.9539 - val_loss: 0.2363 - val_accuracy: 0.9351\n",
      "Epoch 18/50\n",
      "10/10 [==============================] - 0s 4ms/step - loss: 0.1898 - accuracy: 0.9572 - val_loss: 0.2301 - val_accuracy: 0.9351\n",
      "Epoch 19/50\n",
      "10/10 [==============================] - 0s 5ms/step - loss: 0.1830 - accuracy: 0.9572 - val_loss: 0.2245 - val_accuracy: 0.9351\n",
      "Epoch 20/50\n",
      "10/10 [==============================] - 0s 6ms/step - loss: 0.1767 - accuracy: 0.9572 - val_loss: 0.2191 - val_accuracy: 0.9481\n",
      "Epoch 21/50\n",
      "10/10 [==============================] - 0s 5ms/step - loss: 0.1708 - accuracy: 0.9605 - val_loss: 0.2144 - val_accuracy: 0.9481\n",
      "Epoch 22/50\n",
      "10/10 [==============================] - 0s 5ms/step - loss: 0.1654 - accuracy: 0.9605 - val_loss: 0.2098 - val_accuracy: 0.9481\n",
      "Epoch 23/50\n",
      "10/10 [==============================] - 0s 4ms/step - loss: 0.1602 - accuracy: 0.9638 - val_loss: 0.2055 - val_accuracy: 0.9481\n",
      "Epoch 24/50\n",
      "10/10 [==============================] - 0s 5ms/step - loss: 0.1552 - accuracy: 0.9638 - val_loss: 0.2017 - val_accuracy: 0.9481\n",
      "Epoch 25/50\n",
      "10/10 [==============================] - 0s 4ms/step - loss: 0.1508 - accuracy: 0.9638 - val_loss: 0.1983 - val_accuracy: 0.9481\n",
      "Epoch 26/50\n",
      "10/10 [==============================] - 0s 5ms/step - loss: 0.1465 - accuracy: 0.9638 - val_loss: 0.1951 - val_accuracy: 0.9481\n",
      "Epoch 27/50\n",
      "10/10 [==============================] - 0s 5ms/step - loss: 0.1425 - accuracy: 0.9638 - val_loss: 0.1919 - val_accuracy: 0.9481\n",
      "Epoch 28/50\n",
      "10/10 [==============================] - 0s 5ms/step - loss: 0.1387 - accuracy: 0.9638 - val_loss: 0.1892 - val_accuracy: 0.9481\n",
      "Epoch 29/50\n",
      "10/10 [==============================] - 0s 4ms/step - loss: 0.1351 - accuracy: 0.9638 - val_loss: 0.1865 - val_accuracy: 0.9481\n",
      "Epoch 30/50\n",
      "10/10 [==============================] - 0s 5ms/step - loss: 0.1316 - accuracy: 0.9638 - val_loss: 0.1840 - val_accuracy: 0.9481\n",
      "Epoch 31/50\n",
      "10/10 [==============================] - 0s 6ms/step - loss: 0.1284 - accuracy: 0.9638 - val_loss: 0.1816 - val_accuracy: 0.9481\n",
      "Epoch 32/50\n",
      "10/10 [==============================] - 0s 6ms/step - loss: 0.1254 - accuracy: 0.9638 - val_loss: 0.1793 - val_accuracy: 0.9481\n",
      "Epoch 33/50\n",
      "10/10 [==============================] - 0s 5ms/step - loss: 0.1224 - accuracy: 0.9638 - val_loss: 0.1770 - val_accuracy: 0.9481\n",
      "Epoch 34/50\n",
      "10/10 [==============================] - 0s 5ms/step - loss: 0.1196 - accuracy: 0.9671 - val_loss: 0.1754 - val_accuracy: 0.9481\n",
      "Epoch 35/50\n",
      "10/10 [==============================] - 0s 5ms/step - loss: 0.1171 - accuracy: 0.9704 - val_loss: 0.1735 - val_accuracy: 0.9481\n",
      "Epoch 36/50\n",
      "10/10 [==============================] - 0s 6ms/step - loss: 0.1144 - accuracy: 0.9704 - val_loss: 0.1719 - val_accuracy: 0.9481\n",
      "Epoch 37/50\n",
      "10/10 [==============================] - 0s 4ms/step - loss: 0.1121 - accuracy: 0.9704 - val_loss: 0.1705 - val_accuracy: 0.9481\n",
      "Epoch 38/50\n",
      "10/10 [==============================] - 0s 6ms/step - loss: 0.1098 - accuracy: 0.9704 - val_loss: 0.1690 - val_accuracy: 0.9481\n",
      "Epoch 39/50\n",
      "10/10 [==============================] - 0s 4ms/step - loss: 0.1076 - accuracy: 0.9704 - val_loss: 0.1678 - val_accuracy: 0.9481\n",
      "Epoch 40/50\n",
      "10/10 [==============================] - 0s 4ms/step - loss: 0.1054 - accuracy: 0.9704 - val_loss: 0.1664 - val_accuracy: 0.9481\n",
      "Epoch 41/50\n",
      "10/10 [==============================] - 0s 4ms/step - loss: 0.1033 - accuracy: 0.9704 - val_loss: 0.1654 - val_accuracy: 0.9481\n",
      "Epoch 42/50\n",
      "10/10 [==============================] - 0s 4ms/step - loss: 0.1014 - accuracy: 0.9704 - val_loss: 0.1643 - val_accuracy: 0.9481\n",
      "Epoch 43/50\n",
      "10/10 [==============================] - 0s 4ms/step - loss: 0.0994 - accuracy: 0.9737 - val_loss: 0.1633 - val_accuracy: 0.9481\n",
      "Epoch 44/50\n",
      "10/10 [==============================] - 0s 5ms/step - loss: 0.0976 - accuracy: 0.9737 - val_loss: 0.1623 - val_accuracy: 0.9481\n",
      "Epoch 45/50\n",
      "10/10 [==============================] - 0s 4ms/step - loss: 0.0958 - accuracy: 0.9770 - val_loss: 0.1615 - val_accuracy: 0.9481\n",
      "Epoch 46/50\n",
      "10/10 [==============================] - 0s 4ms/step - loss: 0.0941 - accuracy: 0.9803 - val_loss: 0.1607 - val_accuracy: 0.9481\n",
      "Epoch 47/50\n",
      "10/10 [==============================] - 0s 4ms/step - loss: 0.0925 - accuracy: 0.9803 - val_loss: 0.1599 - val_accuracy: 0.9481\n",
      "Epoch 48/50\n",
      "10/10 [==============================] - 0s 6ms/step - loss: 0.0909 - accuracy: 0.9803 - val_loss: 0.1593 - val_accuracy: 0.9481\n",
      "Epoch 49/50\n",
      "10/10 [==============================] - 0s 5ms/step - loss: 0.0894 - accuracy: 0.9803 - val_loss: 0.1584 - val_accuracy: 0.9481\n",
      "Epoch 50/50\n",
      "10/10 [==============================] - 0s 6ms/step - loss: 0.0880 - accuracy: 0.9803 - val_loss: 0.1576 - val_accuracy: 0.9481\n"
     ]
    }
   ],
   "source": [
    "history = model.fit(X_train, y_train, epochs=50, batch_size=32, verbose=1, validation_split=0.2)"
   ]
  },
  {
   "cell_type": "markdown",
   "metadata": {},
   "source": [
    "Iz ispisa možemo primetiti da se nakon svake epohe računaju vrednosti funkcije gubitka (loss) i tačnosti (accuracy) na skupu za treniranja, kao i njihove vrednosti na skupu za validaciju (val_loss i val_accuracy)."
   ]
  },
  {
   "cell_type": "markdown",
   "metadata": {},
   "source": [
    "Prvo ćemo prikazati na zajedničkom grafiku funkcije gubitka za skupu za treniranje i validaciju, a potom i funkciju tačnosti."
   ]
  },
  {
   "cell_type": "code",
   "execution_count": 18,
   "metadata": {},
   "outputs": [],
   "source": [
    "epochs = history.epoch"
   ]
  },
  {
   "cell_type": "code",
   "execution_count": 19,
   "metadata": {},
   "outputs": [],
   "source": [
    "loss = history.history['loss']\n",
    "validation_loss = history.history['val_loss']"
   ]
  },
  {
   "cell_type": "code",
   "execution_count": 20,
   "metadata": {},
   "outputs": [
    {
     "data": {
      "image/png": "[encoded data removed]",
      "text/plain": [
       "<Figure size 432x288 with 1 Axes>"
      ]
     },
     "metadata": {
      "needs_background": "light"
     },
     "output_type": "display_data"
    }
   ],
   "source": [
    "plt.title('Loss')\n",
    "plt.xlabel('Epochs')\n",
    "plt.ylabel('loss')\n",
    "plt.plot(epochs, loss, c='red', label='training')\n",
    "plt.plot(epochs, validation_loss, c='orange', label='validation')\n",
    "plt.legend(loc='best')\n",
    "plt.show()"
   ]
  },
  {
   "cell_type": "markdown",
   "metadata": {},
   "source": [
    "Prva verzija koda je koristila korak učenja 0.001. Na osnovu dobijenog grafika i analize opisane u prethodnoj svesci bili smo motivisani da probamo sa nešto manjim korakom. Probajte i uporedite grafike!  "
   ]
  },
  {
   "cell_type": "code",
   "execution_count": 21,
   "metadata": {},
   "outputs": [],
   "source": [
    "acc = history.history['accuracy']\n",
    "validation_acc = history.history['val_accuracy']"
   ]
  },
  {
   "cell_type": "code",
   "execution_count": 22,
   "metadata": {},
   "outputs": [
    {
     "data": {
      "image/png": "[encoded data removed]",
      "text/plain": [
       "<Figure size 432x288 with 1 Axes>"
      ]
     },
     "metadata": {
      "needs_background": "light"
     },
     "output_type": "display_data"
    }
   ],
   "source": [
    "plt.title('Accuracy')\n",
    "plt.xlabel('epochs')\n",
    "plt.ylabel('acccuracy')\n",
    "plt.plot(epochs, acc, c='red', label='training')\n",
    "plt.plot(epochs, validation_acc, c='orange', label='validation')\n",
    "plt.legend(loc='best')\n",
    "plt.show()"
   ]
  },
  {
   "cell_type": "markdown",
   "metadata": {},
   "source": [
    "Ovaj grafik ukazuje da se nakon 30te epohe tačnost modela ne unapređuje (tačnost na validacionom skupu stagnira).  "
   ]
  },
  {
   "cell_type": "markdown",
   "metadata": {},
   "source": [
    "U opštem slučaju, prilikom analize tačnosti klasifikacije možemo se voditi zaključcima prikazanim na slici. <img src='assets/train_val_accuracy.png'>"
   ]
  },
  {
   "cell_type": "markdown",
   "metadata": {},
   "source": [
    "Kombinujući oba grafika opredelićemo se za treniranje finalnog modela sa 30 epoha. "
   ]
  },
  {
   "cell_type": "code",
   "execution_count": null,
   "metadata": {},
   "outputs": [],
   "source": []
  },
  {
   "cell_type": "markdown",
   "metadata": {},
   "source": [
    "Prokomentarišimo još da se funkciji `fit` može proslediti konkretan skup za validaciju preko parametra `validation_data`.  Njena je moguće kreirati na način na koji smo to radili i do sada, pomoću funkcije `train_test_split` biblioteke `scikit-learn`. "
   ]
  },
  {
   "cell_type": "code",
   "execution_count": null,
   "metadata": {},
   "outputs": [],
   "source": []
  },
  {
   "cell_type": "markdown",
   "metadata": {},
   "source": [
    "### Korak 4: Evaluacija mreže"
   ]
  },
  {
   "cell_type": "markdown",
   "metadata": {},
   "source": [
    "Za odabranu vrednost koraka učenja i broj epoha mreža se sada može istrenirati na celom skupu za učenje, a zatim i oceniti na skupu za testiranje."
   ]
  },
  {
   "cell_type": "code",
   "execution_count": 23,
   "metadata": {},
   "outputs": [
    {
     "data": {
      "text/plain": [
       "<tensorflow.python.keras.callbacks.History at 0x143104d30>"
      ]
     },
     "execution_count": 23,
     "metadata": {},
     "output_type": "execute_result"
    }
   ],
   "source": [
    "final_model = Sequential([\n",
    "    Input(shape=(number_of_features,)),\n",
    "    Dense(units=100, activation='relu'),\n",
    "    Dense(units=40, activation='relu'),\n",
    "    Dense(units=output_size, activation='sigmoid')\n",
    "])\n",
    "final_model.compile(optimizers.Adam(learning_rate = 0.0001), loss=losses.BinaryCrossentropy(), metrics=['accuracy'])\n",
    "final_model.fit(X_train, y_train, epochs=50, batch_size=32, verbose = 0)"
   ]
  },
  {
   "cell_type": "code",
   "execution_count": null,
   "metadata": {},
   "outputs": [],
   "source": []
  },
  {
   "cell_type": "code",
   "execution_count": 24,
   "metadata": {},
   "outputs": [
    {
     "name": "stdout",
     "output_type": "stream",
     "text": [
      "6/6 [==============================] - 0s 1ms/step - loss: 0.0797 - accuracy: 0.9734\n",
      "Test loss: 0.07968127727508545, test accuracy: 0.9734042286872864\n"
     ]
    }
   ],
   "source": [
    "test_loss, test_accuracy = final_model.evaluate(X_test, y_test)\n",
    "print (\"Test loss: {}, test accuracy: {}\".format(test_loss, test_accuracy))"
   ]
  },
  {
   "cell_type": "code",
   "execution_count": 25,
   "metadata": {},
   "outputs": [
    {
     "name": "stdout",
     "output_type": "stream",
     "text": [
      "12/12 [==============================] - 0s 955us/step - loss: 0.0836 - accuracy: 0.9843\n",
      "Train loss: 0.08361492305994034, train accuracy: 0.9842519760131836\n"
     ]
    }
   ],
   "source": [
    "train_loss, train_accuracy = final_model.evaluate(X_train, y_train)\n",
    "print (\"Train loss: {}, train accuracy: {}\".format(train_loss, train_accuracy))"
   ]
  },
  {
   "cell_type": "code",
   "execution_count": null,
   "metadata": {},
   "outputs": [],
   "source": []
  }
 ],
 "metadata": {
  "kernelspec": {
   "display_name": "Python 3",
   "language": "python",
   "name": "python3"
  },
  "language_info": {
   "codemirror_mode": {
    "name": "ipython",
    "version": 3
   },
   "file_extension": ".py",
   "mimetype": "text/x-python",
   "name": "python",
   "nbconvert_exporter": "python",
   "pygments_lexer": "ipython3",
   "version": "3.8.3"
  }
 },
 "nbformat": 4,
 "nbformat_minor": 2
}
