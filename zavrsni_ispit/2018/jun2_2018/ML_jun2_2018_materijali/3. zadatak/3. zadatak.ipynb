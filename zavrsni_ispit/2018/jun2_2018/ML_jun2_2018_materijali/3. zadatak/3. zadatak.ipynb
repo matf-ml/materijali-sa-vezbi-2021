{
 "cells": [
  {
   "cell_type": "markdown",
   "metadata": {},
   "source": [
    "** 3. zadatak (6 poena) **\n",
    "<br>\n",
    "\n",
    "Okruženje *MountainCar-v0* OpenIA Gym biblioteke simulira kretanje automobila koji se nalazi u dolini, a koji treba ispeti na desni vrh uvale. Automobil u svakom trenutku karakterišu pozicija i brzina, a radnje koje se mogu preuzeti su pomeranje u levo, pomeranje u desno ili zadržavanje pozicije. Epizoda se završava ukoliko se automobil popne na vrh ili, alternativno, ukoliko se dođe do 200 iteracija. Korišćenjem *Q-learning* algoritma sa epsilon istraživanjem naučiti kretanje automobila. Za vrednost koraka učenja uzeti 0.5, za metaparametar umenjenja uzeti vrednost 0.9, a za početnu vrednost *epsilon* parametra 0.1. \n"
   ]
  },
  {
   "cell_type": "code",
   "execution_count": 1,
   "metadata": {},
   "outputs": [],
   "source": [
    "import numpy as np"
   ]
  },
  {
   "cell_type": "code",
   "execution_count": 2,
   "metadata": {},
   "outputs": [],
   "source": [
    "import gym"
   ]
  },
  {
   "cell_type": "markdown",
   "metadata": {},
   "source": [
    "Više o samom problemu se može pronaći na adresi: https://github.com/openai/gym/wiki/MountainCar-v0"
   ]
  },
  {
   "cell_type": "code",
   "execution_count": null,
   "metadata": {},
   "outputs": [],
   "source": []
  }
 ],
 "metadata": {
  "kernelspec": {
   "display_name": "Python 3",
   "language": "python",
   "name": "python3"
  },
  "language_info": {
   "codemirror_mode": {
    "name": "ipython",
    "version": 3
   },
   "file_extension": ".py",
   "mimetype": "text/x-python",
   "name": "python",
   "nbconvert_exporter": "python",
   "pygments_lexer": "ipython3",
   "version": "3.6.4"
  }
 },
 "nbformat": 4,
 "nbformat_minor": 2
}
