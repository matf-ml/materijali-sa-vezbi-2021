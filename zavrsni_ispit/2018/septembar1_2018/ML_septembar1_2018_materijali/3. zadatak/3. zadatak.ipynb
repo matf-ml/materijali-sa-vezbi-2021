{
 "cells": [
  {
   "cell_type": "markdown",
   "metadata": {},
   "source": [
    "** 3. zadatak (6 poena) **\n",
    "<br>\n",
    "\n",
    "Okruženje *FrozenLake-v0* OpenIA Gym biblioteke omogućava kretanje agenta gore, dole, levo ili desno duž mreže dimenzija 4x4 u kojoj je početno polje bezbedno (S), neka polja su zamrznuta (F) i preko njih se može preći, neka predstavljaju rupe (H), a jedno od polja je cilj (G). Epizoda se završava kada agent upadne u rupu ili kada stigne do cilja. Ukoliko agent stigne do cilja, dobija nagradu čija je vrednost 1. Inače, ne dobija nagradu.  \n",
    "<br>\n",
    "Korišćenjem *Q-learning* algoritma sa epsilon istraživanjem naučiti kretanje agenta u ovom okruženju. Za vrednost koraka učenja uzeti 0.8, za metaparametar umenjenja uzeti vrednost 0.9, a za početnu vrednost epsilon parametra 0.1. Broj epizoda za učenje ograničiti sa 2000.\n"
   ]
  },
  {
   "cell_type": "code",
   "execution_count": 1,
   "metadata": {},
   "outputs": [],
   "source": [
    "import numpy as np"
   ]
  },
  {
   "cell_type": "code",
   "execution_count": 2,
   "metadata": {},
   "outputs": [],
   "source": [
    "import gym"
   ]
  },
  {
   "cell_type": "markdown",
   "metadata": {},
   "source": [
    "Više o samom problemu se može pronaći na adresi: https://gym.openai.com/envs/FrozenLake-v0/"
   ]
  },
  {
   "cell_type": "code",
   "execution_count": null,
   "metadata": {},
   "outputs": [],
   "source": []
  }
 ],
 "metadata": {
  "kernelspec": {
   "display_name": "Python 3",
   "language": "python",
   "name": "python3"
  },
  "language_info": {
   "codemirror_mode": {
    "name": "ipython",
    "version": 3
   },
   "file_extension": ".py",
   "mimetype": "text/x-python",
   "name": "python",
   "nbconvert_exporter": "python",
   "pygments_lexer": "ipython3",
   "version": "3.6.4"
  }
 },
 "nbformat": 4,
 "nbformat_minor": 2
}
