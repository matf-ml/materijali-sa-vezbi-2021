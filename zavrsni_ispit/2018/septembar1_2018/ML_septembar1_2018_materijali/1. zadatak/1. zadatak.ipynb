{
 "cells": [
  {
   "cell_type": "markdown",
   "metadata": {},
   "source": [
    "**1. zadatak (6 poena)**\n",
    "<br>\n",
    "\n",
    "U datotekama *positive_tweets.txt* i *negative_tweets.txt* nalaze se Tviter poruke koje su korisnici doživeli kao pozitivne tj. kao negativne.   \n",
    "<br>\n",
    "a) Pročitati podatke koji se nalaze u ovim datotekama i na osnovu njih formirati skupove za treniranje i testiranje. Podelu podataka izvršiti u razmeri 4:1 i pritom voditi računa o balansiranosti skupova. Za $random\\_state$ parametar uzeti vrednost 7.\n",
    "<br>\n",
    "\n",
    "b) Pripremiti tekstualne podatke za obradu koristeći *CountVectorizer* koji se oslanja na frekvencije pojavljivanja reči. Uzeti u obzir samo prvih 100 najfrekventnijih reči.  Prilikom izdvajanja reči ne praviti razliku između reči koje su zapisane malim ili velikim slovima ili njihovim kombinacijama.  \n",
    "<br>\n",
    "c) Koristeći algoritam logističke regresije napraviti klasifikacioni model i dati ocenu tačnosti.\n",
    "<br>\n",
    "\n",
    "d) Izdvojiti sve poruke skupa za testiranje koje pripadaju skupu lažno pozitivnih poruk"
   ]
  },
  {
   "cell_type": "code",
   "execution_count": null,
   "metadata": {},
   "outputs": [],
   "source": []
  },
  {
   "cell_type": "code",
   "execution_count": 2,
   "metadata": {},
   "outputs": [],
   "source": [
    "import numpy as np\n",
    "import pandas as pd"
   ]
  },
  {
   "cell_type": "code",
   "execution_count": 3,
   "metadata": {},
   "outputs": [],
   "source": [
    "from sklearn import model_selection\n",
    "from sklearn import preprocessing\n",
    "from sklearn import metrics\n",
    "from sklearn.feature_extraction.text import CountVectorizer\n",
    "\n",
    "from sklearn.linear_model import LogisticRegression"
   ]
  },
  {
   "cell_type": "code",
   "execution_count": null,
   "metadata": {},
   "outputs": [],
   "source": []
  },
  {
   "cell_type": "code",
   "execution_count": null,
   "metadata": {},
   "outputs": [],
   "source": []
  },
  {
   "cell_type": "code",
   "execution_count": null,
   "metadata": {},
   "outputs": [],
   "source": []
  }
 ],
 "metadata": {
  "kernelspec": {
   "display_name": "Python 3",
   "language": "python",
   "name": "python3"
  },
  "language_info": {
   "codemirror_mode": {
    "name": "ipython",
    "version": 3
   },
   "file_extension": ".py",
   "mimetype": "text/x-python",
   "name": "python",
   "nbconvert_exporter": "python",
   "pygments_lexer": "ipython3",
   "version": "3.6.4"
  }
 },
 "nbformat": 4,
 "nbformat_minor": 2
}
