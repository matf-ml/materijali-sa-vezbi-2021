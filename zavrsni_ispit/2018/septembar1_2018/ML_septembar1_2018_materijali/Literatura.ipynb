{
 "cells": [
  {
   "cell_type": "markdown",
   "metadata": {},
   "source": [
    "U toku ispita mogu se koristiti zvanicne dokumentacije biblioteka koje su dostupne na adresama: \n",
    "\n",
    "* Python: https://www.python.org/\n",
    "\n",
    "* Numpy: http://www.numpy.org/\n",
    "\n",
    "* SciPy: https://www.scipy.org/\n",
    "\n",
    "* Matplotlib: https://matplotlib.org/\n",
    "\n",
    "* Scikit-learn: http://scikit-learn.org/stable/\n",
    "\n",
    "* Pandas: http://pandas.pydata.org/pandas-docs/stable/\n",
    "\n",
    "* Keras: https://keras.io/\n",
    "\n",
    "* OpenAI gym: https://gym.openai.com/\n",
    "\n",
    "* OpenAI gym: https://github.com/openai/gym\n"
   ]
  },
  {
   "cell_type": "markdown",
   "metadata": {},
   "source": [
    "Koriscenje drugih izvora nije dozvoljeno. "
   ]
  },
  {
   "cell_type": "code",
   "execution_count": null,
   "metadata": {},
   "outputs": [],
   "source": []
  }
 ],
 "metadata": {
  "kernelspec": {
   "display_name": "Python 3",
   "language": "python",
   "name": "python3"
  },
  "language_info": {
   "codemirror_mode": {
    "name": "ipython",
    "version": 3
   },
   "file_extension": ".py",
   "mimetype": "text/x-python",
   "name": "python",
   "nbconvert_exporter": "python",
   "pygments_lexer": "ipython3",
   "version": "3.6.4"
  }
 },
 "nbformat": 4,
 "nbformat_minor": 2
}
