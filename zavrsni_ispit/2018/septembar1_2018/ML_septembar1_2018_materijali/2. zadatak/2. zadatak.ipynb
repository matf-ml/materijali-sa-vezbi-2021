{
 "cells": [
  {
   "cell_type": "markdown",
   "metadata": {},
   "source": [
    "**2. zadatak (8 poena)**\n",
    "<br>\n",
    "\n",
    "U datoteci *USD_INR.csv* se nalaze informacije o kursu indijskih rupija u periodu od 2. januara 1980. godine do 10. avgusta 2017. godine u odnosu na američki dolar. Potrebno je napraviti model koji će vršiti predikciju vrednosti kursa sa što većom preciznošću.\n",
    "\n",
    "<br>\n",
    "a) Kreirati skupove za treniranje i testiranje koji će sadržati odgovarajuće vrednosti kurseva za ulazne i izlazne vrednosti. Vrednosti su sadržane u koloni *Price*. Za datum podele podataka uzeti 1. januar 2010. godine. \n",
    "\n",
    "<br>\n",
    "b) Korišćenjem Keras biblioteke kreirati neuronsku mrežu sa jednim gustim slojem veličine 15 neurona i jednim gustim slojem sa jednim neuronom. Koristiti srednjekvadratnu grešku za funkciju greške i Adam optimizator. Takođe, prilikom treniranja mreže koristiti i optimizaciju *ranim zaustavljanjem* sa *patience* parametrom postavljenim na 2. Za broj epoha uzeti 20.\n",
    "\n",
    "<br>\n",
    "c) Korišćenjem Keras biblioteke kreirati neuronsku mrežu sa jednim rekurentnim slojem sa  7 LSTM neurona i jednim gustim slojem sa jednim neuronom. Koristiti srednjekvadratnu grešku za funkciju greške i Adam optimizator.  Takođe, prilikom treniranja mreže koristiti i optimizaciju *ranim zaustavljanjem* sa *patience* parametrom postavljenim na 5. Za broj epoha uzeti 20.\n",
    "\n",
    "<br>\n",
    "d) Nacrtati grafik predikcija za podatke sadržane u test skupu za svaki od modela i dati ocenu greške. "
   ]
  },
  {
   "cell_type": "code",
   "execution_count": 1,
   "metadata": {},
   "outputs": [],
   "source": [
    "import numpy as np\n",
    "import pandas as pd\n",
    "from matplotlib import pyplot as plt"
   ]
  },
  {
   "cell_type": "code",
   "execution_count": 2,
   "metadata": {},
   "outputs": [],
   "source": [
    "from sklearn import metrics"
   ]
  },
  {
   "cell_type": "code",
   "execution_count": 3,
   "metadata": {},
   "outputs": [
    {
     "name": "stderr",
     "output_type": "stream",
     "text": [
      "Using TensorFlow backend.\n"
     ]
    }
   ],
   "source": [
    "from keras.models import Sequential\n",
    "from keras.layers import Dense, LSTM\n",
    "from keras.callbacks import EarlyStopping\n",
    "import keras.backend as K"
   ]
  },
  {
   "cell_type": "code",
   "execution_count": null,
   "metadata": {},
   "outputs": [],
   "source": []
  },
  {
   "cell_type": "markdown",
   "metadata": {},
   "source": [
    "Napomena: Ukoliko treniranje mreže bude nešto sporije, smanjiti broj epoha na 10. "
   ]
  },
  {
   "cell_type": "code",
   "execution_count": null,
   "metadata": {},
   "outputs": [],
   "source": []
  },
  {
   "cell_type": "code",
   "execution_count": null,
   "metadata": {},
   "outputs": [],
   "source": []
  }
 ],
 "metadata": {
  "kernelspec": {
   "display_name": "Python 3",
   "language": "python",
   "name": "python3"
  },
  "language_info": {
   "codemirror_mode": {
    "name": "ipython",
    "version": 3
   },
   "file_extension": ".py",
   "mimetype": "text/x-python",
   "name": "python",
   "nbconvert_exporter": "python",
   "pygments_lexer": "ipython3",
   "version": "3.6.4"
  }
 },
 "nbformat": 4,
 "nbformat_minor": 2
}
