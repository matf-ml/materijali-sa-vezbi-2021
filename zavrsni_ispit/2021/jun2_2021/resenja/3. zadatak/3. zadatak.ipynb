{
 "cells": [
  {
   "cell_type": "markdown",
   "id": "d6338c01",
   "metadata": {},
   "source": [
    "### 3. zadatak (8 poena)"
   ]
  },
  {
   "cell_type": "markdown",
   "id": "64cc1aa9",
   "metadata": {},
   "source": [
    "U datoteci `corona_tweets.csv` se nalaze tvitovi na temu korona virusa prikupljeni sa različitih lokacija. Svakom tvitu je pridruženo obeležje sentimenta, od jako negativnog do jako pozitivnog. Potrebno je generisati 2D prikaz skupa zbog uvida u strukturu skupa i dalje tekstualne obrade.  "
   ]
  },
  {
   "cell_type": "code",
   "execution_count": 1,
   "id": "0602aabe",
   "metadata": {},
   "outputs": [],
   "source": [
    "import numpy as np\n",
    "import pandas as pd\n",
    "from matplotlib import pyplot as plt"
   ]
  },
  {
   "cell_type": "code",
   "execution_count": 2,
   "id": "3feb41cb",
   "metadata": {},
   "outputs": [],
   "source": [
    "from sklearn import preprocessing\n",
    "from sklearn import feature_extraction\n",
    "from sklearn import decomposition"
   ]
  },
  {
   "cell_type": "code",
   "execution_count": null,
   "id": "e801b376",
   "metadata": {},
   "outputs": [],
   "source": []
  },
  {
   "cell_type": "markdown",
   "id": "bbf0f413",
   "metadata": {},
   "source": [
    "a) Učitati tvitove koji se nalaze u datoteci `corona_tweets`, a potom izdvojiti kolone koje se odnose na lokaciju (`Location`), sadržaj tvita (`OriginalTweet`) i sentiment (`Sentiment`). "
   ]
  },
  {
   "cell_type": "code",
   "execution_count": 3,
   "id": "b0901861",
   "metadata": {},
   "outputs": [],
   "source": [
    "tweets = pd.read_csv('corona_tweets.csv')"
   ]
  },
  {
   "cell_type": "code",
   "execution_count": 4,
   "id": "385edf10",
   "metadata": {},
   "outputs": [
    {
     "data": {
      "text/html": [
       "<div>\n",
       "<style scoped>\n",
       "    .dataframe tbody tr th:only-of-type {\n",
       "        vertical-align: middle;\n",
       "    }\n",
       "\n",
       "    .dataframe tbody tr th {\n",
       "        vertical-align: top;\n",
       "    }\n",
       "\n",
       "    .dataframe thead th {\n",
       "        text-align: right;\n",
       "    }\n",
       "</style>\n",
       "<table border=\"1\" class=\"dataframe\">\n",
       "  <thead>\n",
       "    <tr style=\"text-align: right;\">\n",
       "      <th></th>\n",
       "      <th>UserName</th>\n",
       "      <th>ScreenName</th>\n",
       "      <th>Location</th>\n",
       "      <th>TweetAt</th>\n",
       "      <th>OriginalTweet</th>\n",
       "      <th>Sentiment</th>\n",
       "    </tr>\n",
       "  </thead>\n",
       "  <tbody>\n",
       "    <tr>\n",
       "      <th>0</th>\n",
       "      <td>1</td>\n",
       "      <td>44953</td>\n",
       "      <td>NYC</td>\n",
       "      <td>02-03-2020</td>\n",
       "      <td>TRENDING: New Yorkers encounter empty supermar...</td>\n",
       "      <td>Extremely Negative</td>\n",
       "    </tr>\n",
       "    <tr>\n",
       "      <th>1</th>\n",
       "      <td>2</td>\n",
       "      <td>44954</td>\n",
       "      <td>Seattle, WA</td>\n",
       "      <td>02-03-2020</td>\n",
       "      <td>When I couldn't find hand sanitizer at Fred Me...</td>\n",
       "      <td>Positive</td>\n",
       "    </tr>\n",
       "    <tr>\n",
       "      <th>2</th>\n",
       "      <td>3</td>\n",
       "      <td>44955</td>\n",
       "      <td>NaN</td>\n",
       "      <td>02-03-2020</td>\n",
       "      <td>Find out how you can protect yourself and love...</td>\n",
       "      <td>Extremely Positive</td>\n",
       "    </tr>\n",
       "    <tr>\n",
       "      <th>3</th>\n",
       "      <td>4</td>\n",
       "      <td>44956</td>\n",
       "      <td>Chicagoland</td>\n",
       "      <td>02-03-2020</td>\n",
       "      <td>#Panic buying hits #NewYork City as anxious sh...</td>\n",
       "      <td>Negative</td>\n",
       "    </tr>\n",
       "    <tr>\n",
       "      <th>4</th>\n",
       "      <td>5</td>\n",
       "      <td>44957</td>\n",
       "      <td>Melbourne, Victoria</td>\n",
       "      <td>03-03-2020</td>\n",
       "      <td>#toiletpaper #dunnypaper #coronavirus #coronav...</td>\n",
       "      <td>Neutral</td>\n",
       "    </tr>\n",
       "  </tbody>\n",
       "</table>\n",
       "</div>"
      ],
      "text/plain": [
       "   UserName  ScreenName             Location     TweetAt  \\\n",
       "0         1       44953                  NYC  02-03-2020   \n",
       "1         2       44954          Seattle, WA  02-03-2020   \n",
       "2         3       44955                  NaN  02-03-2020   \n",
       "3         4       44956          Chicagoland  02-03-2020   \n",
       "4         5       44957  Melbourne, Victoria  03-03-2020   \n",
       "\n",
       "                                       OriginalTweet           Sentiment  \n",
       "0  TRENDING: New Yorkers encounter empty supermar...  Extremely Negative  \n",
       "1  When I couldn't find hand sanitizer at Fred Me...            Positive  \n",
       "2  Find out how you can protect yourself and love...  Extremely Positive  \n",
       "3  #Panic buying hits #NewYork City as anxious sh...            Negative  \n",
       "4  #toiletpaper #dunnypaper #coronavirus #coronav...             Neutral  "
      ]
     },
     "execution_count": 4,
     "metadata": {},
     "output_type": "execute_result"
    }
   ],
   "source": [
    "tweets.head()"
   ]
  },
  {
   "cell_type": "code",
   "execution_count": 5,
   "id": "92d596e8",
   "metadata": {},
   "outputs": [
    {
     "data": {
      "text/plain": [
       "(3798, 6)"
      ]
     },
     "execution_count": 5,
     "metadata": {},
     "output_type": "execute_result"
    }
   ],
   "source": [
    "tweets.shape"
   ]
  },
  {
   "cell_type": "code",
   "execution_count": 6,
   "id": "4ce026ec",
   "metadata": {},
   "outputs": [],
   "source": [
    "tweets = tweets[['Location', 'OriginalTweet', 'Sentiment']]"
   ]
  },
  {
   "cell_type": "code",
   "execution_count": null,
   "id": "c2fd3e60",
   "metadata": {},
   "outputs": [],
   "source": []
  },
  {
   "cell_type": "markdown",
   "id": "74872438",
   "metadata": {},
   "source": [
    "b) Izdvojiti tvitove koji se odnose na Ameriku i London - njima odgovaraju lokacije `United States` i `London, England`."
   ]
  },
  {
   "cell_type": "code",
   "execution_count": 7,
   "id": "1f91e848",
   "metadata": {},
   "outputs": [
    {
     "data": {
      "text/plain": [
       "United States                                                75\n",
       "London, England                                              48\n",
       "Washington, DC                                               38\n",
       "New York, NY                                                 34\n",
       "Los Angeles, CA                                              33\n",
       "                                                             ..\n",
       "Killing animals for greed/sport is a mental health issue!     1\n",
       "San Francisco, California                                     1\n",
       "Soon, Republic of Australia                                   1\n",
       "Seattle, Washington USA                                       1\n",
       "Lives in a kakistocracy/Éire                                  1\n",
       "Name: Location, Length: 1717, dtype: int64"
      ]
     },
     "execution_count": 7,
     "metadata": {},
     "output_type": "execute_result"
    }
   ],
   "source": [
    "tweets['Location'].value_counts()"
   ]
  },
  {
   "cell_type": "code",
   "execution_count": 8,
   "id": "40b410aa",
   "metadata": {},
   "outputs": [],
   "source": [
    "data = tweets[(tweets['Location']=='United States') | (tweets['Location']=='London, England')]"
   ]
  },
  {
   "cell_type": "code",
   "execution_count": 9,
   "id": "6d33262b",
   "metadata": {},
   "outputs": [
    {
     "data": {
      "text/plain": [
       "(123, 3)"
      ]
     },
     "execution_count": 9,
     "metadata": {},
     "output_type": "execute_result"
    }
   ],
   "source": [
    "data.shape"
   ]
  },
  {
   "cell_type": "code",
   "execution_count": null,
   "id": "bd830c35",
   "metadata": {},
   "outputs": [],
   "source": []
  },
  {
   "cell_type": "markdown",
   "id": "2574deb3",
   "metadata": {},
   "source": [
    "c) Prikazati grafikonom sa stubićima učestalost tvitova po sentimentu. "
   ]
  },
  {
   "cell_type": "code",
   "execution_count": 10,
   "id": "6beee6f9",
   "metadata": {},
   "outputs": [],
   "source": [
    "sentiment_frequency = data['Sentiment'].value_counts()"
   ]
  },
  {
   "cell_type": "code",
   "execution_count": null,
   "id": "2b21547e",
   "metadata": {},
   "outputs": [],
   "source": []
  },
  {
   "cell_type": "code",
   "execution_count": 11,
   "id": "45d29228",
   "metadata": {},
   "outputs": [
    {
     "data": {
      "image/png": "[encoded data removed]",
      "text/plain": [
       "<Figure size 720x360 with 1 Axes>"
      ]
     },
     "metadata": {
      "needs_background": "light"
     },
     "output_type": "display_data"
    }
   ],
   "source": [
    "plt.figure(figsize=(10, 5))\n",
    "plt.bar(sentiment_frequency.index, sentiment_frequency.values)\n",
    "plt.show()"
   ]
  },
  {
   "cell_type": "markdown",
   "id": "026ab34f",
   "metadata": {},
   "source": [
    "d) Kreirati TfIdVectorizer tako da eliminiše stop reči tipične za engleski jezik i uzima u obzir reči sa barem 4 pojavljivanja. Koliko reči će biti zadržano?"
   ]
  },
  {
   "cell_type": "code",
   "execution_count": 12,
   "id": "dfc101dc",
   "metadata": {},
   "outputs": [],
   "source": [
    "vectorizer = feature_extraction.text.TfidfVectorizer(min_df=4, stop_words='english')"
   ]
  },
  {
   "cell_type": "code",
   "execution_count": 13,
   "id": "f0eeabad",
   "metadata": {},
   "outputs": [
    {
     "data": {
      "text/plain": [
       "TfidfVectorizer(min_df=4, stop_words='english')"
      ]
     },
     "execution_count": 13,
     "metadata": {},
     "output_type": "execute_result"
    }
   ],
   "source": [
    "vectorizer.fit(data['OriginalTweet'])"
   ]
  },
  {
   "cell_type": "code",
   "execution_count": 14,
   "id": "4dd870ef",
   "metadata": {},
   "outputs": [
    {
     "data": {
      "text/plain": [
       "87"
      ]
     },
     "execution_count": 14,
     "metadata": {},
     "output_type": "execute_result"
    }
   ],
   "source": [
    "len(vectorizer.get_feature_names())"
   ]
  },
  {
   "cell_type": "code",
   "execution_count": 15,
   "id": "2701928f",
   "metadata": {},
   "outputs": [
    {
     "data": {
      "text/plain": [
       "['19',\n",
       " 'able',\n",
       " 'amazon',\n",
       " 'amp',\n",
       " 'asking',\n",
       " 'buy',\n",
       " 'buying',\n",
       " 'check',\n",
       " 'china',\n",
       " 'consumer',\n",
       " 'coronaoutbreak',\n",
       " 'coronapocalypse',\n",
       " 'coronavirus',\n",
       " 'coronaviruspandemic',\n",
       " 'coronavirususa',\n",
       " 'covid',\n",
       " 'covid19',\n",
       " 'covid2019',\n",
       " 'covid_19',\n",
       " 'crazy',\n",
       " 'delivery',\n",
       " 'demand',\n",
       " 'does',\n",
       " 'doing',\n",
       " 'don',\n",
       " 'elderly',\n",
       " 'family',\n",
       " 'flu',\n",
       " 'food',\n",
       " 'free',\n",
       " 'gel',\n",
       " 'gets',\n",
       " 'going',\n",
       " 'grocery',\n",
       " 'hand',\n",
       " 'help',\n",
       " 'high',\n",
       " 'home',\n",
       " 'https',\n",
       " 'items',\n",
       " 'just',\n",
       " 'like',\n",
       " 'll',\n",
       " 'local',\n",
       " 'look',\n",
       " 'money',\n",
       " 'need',\n",
       " 'non',\n",
       " 'online',\n",
       " 'pandemic',\n",
       " 'panic',\n",
       " 'panicbuying',\n",
       " 'paper',\n",
       " 'pasta',\n",
       " 'people',\n",
       " 'piling',\n",
       " 'prices',\n",
       " 'protection',\n",
       " 'realdonaldtrump',\n",
       " 'retail',\n",
       " 'run',\n",
       " 'sainsburys',\n",
       " 'sanitizer',\n",
       " 'seen',\n",
       " 'self',\n",
       " 'selling',\n",
       " 'shelves',\n",
       " 'shop',\n",
       " 'shopping',\n",
       " 'sick',\n",
       " 'stock',\n",
       " 'stockpiling',\n",
       " 'store',\n",
       " 'stores',\n",
       " 'supermarket',\n",
       " 'supplies',\n",
       " 'sure',\n",
       " 'think',\n",
       " 'time',\n",
       " 'today',\n",
       " 'toilet',\n",
       " 'use',\n",
       " 've',\n",
       " 'wash',\n",
       " 'way',\n",
       " 'went',\n",
       " 'work']"
      ]
     },
     "execution_count": 15,
     "metadata": {},
     "output_type": "execute_result"
    }
   ],
   "source": [
    "vectorizer.get_feature_names()"
   ]
  },
  {
   "cell_type": "markdown",
   "id": "df7c9786",
   "metadata": {},
   "source": [
    "e) Koristeći kreirani vektorizator, pripremiti tviter porukice. "
   ]
  },
  {
   "cell_type": "code",
   "execution_count": 16,
   "id": "54366f3c",
   "metadata": {},
   "outputs": [],
   "source": [
    "dataset_vectorized = vectorizer.transform(data['OriginalTweet'])"
   ]
  },
  {
   "cell_type": "code",
   "execution_count": 17,
   "id": "12ea34e7",
   "metadata": {},
   "outputs": [
    {
     "data": {
      "text/plain": [
       "(123, 87)"
      ]
     },
     "execution_count": 17,
     "metadata": {},
     "output_type": "execute_result"
    }
   ],
   "source": [
    "dataset_vectorized.shape"
   ]
  },
  {
   "cell_type": "markdown",
   "id": "a7fd08c3",
   "metadata": {},
   "source": [
    "f) Koristeći PCA analizu izvršiti redukciju pripremljenih tvitova na dve dimenzije. Koji udeo varijanse je zadržan ovom transformacijom?"
   ]
  },
  {
   "cell_type": "code",
   "execution_count": 18,
   "id": "4d1747f3",
   "metadata": {},
   "outputs": [],
   "source": [
    "pca = decomposition.PCA(2)"
   ]
  },
  {
   "cell_type": "code",
   "execution_count": 19,
   "id": "d5de0f3f",
   "metadata": {},
   "outputs": [],
   "source": [
    "dataset_pca = pca.fit_transform(dataset_vectorized.toarray())"
   ]
  },
  {
   "cell_type": "code",
   "execution_count": 20,
   "id": "2e0feded",
   "metadata": {},
   "outputs": [
    {
     "data": {
      "text/plain": [
       "(123, 2)"
      ]
     },
     "execution_count": 20,
     "metadata": {},
     "output_type": "execute_result"
    }
   ],
   "source": [
    "dataset_pca.shape"
   ]
  },
  {
   "cell_type": "code",
   "execution_count": 21,
   "id": "cb19bfb5",
   "metadata": {},
   "outputs": [
    {
     "data": {
      "text/plain": [
       "0.11578544916873165"
      ]
     },
     "execution_count": 21,
     "metadata": {},
     "output_type": "execute_result"
    }
   ],
   "source": [
    "np.sum(pca.explained_variance_ratio_)"
   ]
  },
  {
   "cell_type": "code",
   "execution_count": null,
   "id": "46ceaea2",
   "metadata": {},
   "outputs": [],
   "source": []
  },
  {
   "cell_type": "markdown",
   "id": "ad2ef68d",
   "metadata": {},
   "source": [
    "g) Pridružiti boje labelama sentimenata prema zadatoj mapi, a zatim prikazati 2D grafik tvitova po sentimentima."
   ]
  },
  {
   "cell_type": "code",
   "execution_count": 22,
   "id": "bf2cbd6a",
   "metadata": {},
   "outputs": [],
   "source": [
    "sentiment_to_color = {\n",
    "    'Positive': 'yellow', \n",
    "    'Extremely Negative': 'red', \n",
    "    'Neutral': 'blue', \n",
    "    'Negative': 'green', \n",
    "    'Extremely Positive': 'orange'\n",
    "}"
   ]
  },
  {
   "cell_type": "code",
   "execution_count": 23,
   "id": "06050ed8",
   "metadata": {},
   "outputs": [],
   "source": [
    "colors = data['Sentiment'].map(sentiment_to_color)"
   ]
  },
  {
   "cell_type": "code",
   "execution_count": 24,
   "id": "4cc1a505",
   "metadata": {},
   "outputs": [
    {
     "data": {
      "image/png": "[encoded data removed]",
      "text/plain": [
       "<Figure size 432x288 with 1 Axes>"
      ]
     },
     "metadata": {
      "needs_background": "light"
     },
     "output_type": "display_data"
    }
   ],
   "source": [
    "plt.title('Tweeter distribution sentiment coded')\n",
    "plt.scatter(dataset_pca[:, 0], dataset_pca[:, 1], c=colors)\n",
    "plt.show()"
   ]
  },
  {
   "cell_type": "markdown",
   "id": "f58feb81",
   "metadata": {},
   "source": [
    "h) Koliki treba da bude broj komponenti PCA analize da bi se zadržalo 90% varijanse polaznog skupa tvitova?"
   ]
  },
  {
   "cell_type": "code",
   "execution_count": 25,
   "id": "f5571080",
   "metadata": {},
   "outputs": [],
   "source": [
    "pca = decomposition.PCA(n_components=0.9)"
   ]
  },
  {
   "cell_type": "code",
   "execution_count": 26,
   "id": "44d229ab",
   "metadata": {},
   "outputs": [
    {
     "data": {
      "text/plain": [
       "PCA(n_components=0.9)"
      ]
     },
     "execution_count": 26,
     "metadata": {},
     "output_type": "execute_result"
    }
   ],
   "source": [
    "pca.fit(dataset_vectorized.toarray())"
   ]
  },
  {
   "cell_type": "code",
   "execution_count": 27,
   "id": "30db586c",
   "metadata": {},
   "outputs": [],
   "source": [
    "number_of_components = pca.components_.shape[0]"
   ]
  },
  {
   "cell_type": "code",
   "execution_count": 28,
   "id": "109d9050",
   "metadata": {},
   "outputs": [
    {
     "data": {
      "text/plain": [
       "45"
      ]
     },
     "execution_count": 28,
     "metadata": {},
     "output_type": "execute_result"
    }
   ],
   "source": [
    "number_of_components"
   ]
  }
 ],
 "metadata": {
  "kernelspec": {
   "display_name": "Python 3",
   "language": "python",
   "name": "python3"
  },
  "language_info": {
   "codemirror_mode": {
    "name": "ipython",
    "version": 3
   },
   "file_extension": ".py",
   "mimetype": "text/x-python",
   "name": "python",
   "nbconvert_exporter": "python",
   "pygments_lexer": "ipython3",
   "version": "3.7.6"
  }
 },
 "nbformat": 4,
 "nbformat_minor": 5
}
