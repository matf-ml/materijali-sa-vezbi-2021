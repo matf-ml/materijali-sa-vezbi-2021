{
 "cells": [
  {
   "cell_type": "markdown",
   "id": "3d00fee4",
   "metadata": {},
   "source": [
    "### 1. zadatak (10 poena)"
   ]
  },
  {
   "cell_type": "markdown",
   "id": "da222920",
   "metadata": {},
   "source": [
    "U datoteci `framingham.csv` se nalaze medicinski podaci stanovnika Framinghama koji su učestvovali u ispitivanjima prevencije kardiovaskularnih bolesti. Skup sadrži 15 atributa koji objedinjuju sociološke i medicinske karakteristike ispitanika kao što su starosna dob, pol, indeks telesne mase, koncentracija šećera u krvi i drugi. Potrebno je napraviti klasifikator koji na osnovu ovih podataka može da predvidi pojavu srčanih problema. Informacije o pojavi srčanih problema ispitanika evidentirane su na nivou atributa `TenYearCHD`. "
   ]
  },
  {
   "cell_type": "code",
   "execution_count": 1,
   "id": "c5bc0249",
   "metadata": {},
   "outputs": [],
   "source": [
    "import numpy as np\n",
    "import pandas as pd\n",
    "from matplotlib import pyplot as plt"
   ]
  },
  {
   "cell_type": "code",
   "execution_count": 2,
   "id": "c7486ded",
   "metadata": {},
   "outputs": [],
   "source": [
    "from sklearn import linear_model\n",
    "from sklearn import preprocessing\n",
    "from sklearn import model_selection\n",
    "from sklearn import metrics"
   ]
  },
  {
   "cell_type": "code",
   "execution_count": null,
   "id": "221a163e",
   "metadata": {},
   "outputs": [],
   "source": []
  },
  {
   "cell_type": "markdown",
   "id": "4f3dc25c",
   "metadata": {},
   "source": [
    "a) Učitati podatke koji se nalaze u datoteci `framingham.csv`. Obrisati kolonu `education`, a potom obrisati i sve vrste koje sadrže barem jednu nedostajuću vrednost. "
   ]
  },
  {
   "cell_type": "code",
   "execution_count": 3,
   "id": "c8702497",
   "metadata": {},
   "outputs": [],
   "source": [
    "data = pd.read_csv('framingham.csv')"
   ]
  },
  {
   "cell_type": "code",
   "execution_count": 4,
   "id": "56462444",
   "metadata": {},
   "outputs": [
    {
     "data": {
      "text/html": [
       "<div>\n",
       "<style scoped>\n",
       "    .dataframe tbody tr th:only-of-type {\n",
       "        vertical-align: middle;\n",
       "    }\n",
       "\n",
       "    .dataframe tbody tr th {\n",
       "        vertical-align: top;\n",
       "    }\n",
       "\n",
       "    .dataframe thead th {\n",
       "        text-align: right;\n",
       "    }\n",
       "</style>\n",
       "<table border=\"1\" class=\"dataframe\">\n",
       "  <thead>\n",
       "    <tr style=\"text-align: right;\">\n",
       "      <th></th>\n",
       "      <th>male</th>\n",
       "      <th>age</th>\n",
       "      <th>education</th>\n",
       "      <th>currentSmoker</th>\n",
       "      <th>cigsPerDay</th>\n",
       "      <th>BPMeds</th>\n",
       "      <th>prevalentStroke</th>\n",
       "      <th>prevalentHyp</th>\n",
       "      <th>diabetes</th>\n",
       "      <th>totChol</th>\n",
       "      <th>sysBP</th>\n",
       "      <th>diaBP</th>\n",
       "      <th>BMI</th>\n",
       "      <th>heartRate</th>\n",
       "      <th>glucose</th>\n",
       "      <th>TenYearCHD</th>\n",
       "    </tr>\n",
       "  </thead>\n",
       "  <tbody>\n",
       "    <tr>\n",
       "      <th>0</th>\n",
       "      <td>1</td>\n",
       "      <td>39</td>\n",
       "      <td>4.0</td>\n",
       "      <td>0</td>\n",
       "      <td>0.0</td>\n",
       "      <td>0.0</td>\n",
       "      <td>0</td>\n",
       "      <td>0</td>\n",
       "      <td>0</td>\n",
       "      <td>195.0</td>\n",
       "      <td>106.0</td>\n",
       "      <td>70.0</td>\n",
       "      <td>26.97</td>\n",
       "      <td>80.0</td>\n",
       "      <td>77.0</td>\n",
       "      <td>0</td>\n",
       "    </tr>\n",
       "    <tr>\n",
       "      <th>1</th>\n",
       "      <td>0</td>\n",
       "      <td>46</td>\n",
       "      <td>2.0</td>\n",
       "      <td>0</td>\n",
       "      <td>0.0</td>\n",
       "      <td>0.0</td>\n",
       "      <td>0</td>\n",
       "      <td>0</td>\n",
       "      <td>0</td>\n",
       "      <td>250.0</td>\n",
       "      <td>121.0</td>\n",
       "      <td>81.0</td>\n",
       "      <td>28.73</td>\n",
       "      <td>95.0</td>\n",
       "      <td>76.0</td>\n",
       "      <td>0</td>\n",
       "    </tr>\n",
       "    <tr>\n",
       "      <th>2</th>\n",
       "      <td>1</td>\n",
       "      <td>48</td>\n",
       "      <td>1.0</td>\n",
       "      <td>1</td>\n",
       "      <td>20.0</td>\n",
       "      <td>0.0</td>\n",
       "      <td>0</td>\n",
       "      <td>0</td>\n",
       "      <td>0</td>\n",
       "      <td>245.0</td>\n",
       "      <td>127.5</td>\n",
       "      <td>80.0</td>\n",
       "      <td>25.34</td>\n",
       "      <td>75.0</td>\n",
       "      <td>70.0</td>\n",
       "      <td>0</td>\n",
       "    </tr>\n",
       "    <tr>\n",
       "      <th>3</th>\n",
       "      <td>0</td>\n",
       "      <td>61</td>\n",
       "      <td>3.0</td>\n",
       "      <td>1</td>\n",
       "      <td>30.0</td>\n",
       "      <td>0.0</td>\n",
       "      <td>0</td>\n",
       "      <td>1</td>\n",
       "      <td>0</td>\n",
       "      <td>225.0</td>\n",
       "      <td>150.0</td>\n",
       "      <td>95.0</td>\n",
       "      <td>28.58</td>\n",
       "      <td>65.0</td>\n",
       "      <td>103.0</td>\n",
       "      <td>1</td>\n",
       "    </tr>\n",
       "    <tr>\n",
       "      <th>4</th>\n",
       "      <td>0</td>\n",
       "      <td>46</td>\n",
       "      <td>3.0</td>\n",
       "      <td>1</td>\n",
       "      <td>23.0</td>\n",
       "      <td>0.0</td>\n",
       "      <td>0</td>\n",
       "      <td>0</td>\n",
       "      <td>0</td>\n",
       "      <td>285.0</td>\n",
       "      <td>130.0</td>\n",
       "      <td>84.0</td>\n",
       "      <td>23.10</td>\n",
       "      <td>85.0</td>\n",
       "      <td>85.0</td>\n",
       "      <td>0</td>\n",
       "    </tr>\n",
       "  </tbody>\n",
       "</table>\n",
       "</div>"
      ],
      "text/plain": [
       "   male  age  education  currentSmoker  cigsPerDay  BPMeds  prevalentStroke  \\\n",
       "0     1   39        4.0              0         0.0     0.0                0   \n",
       "1     0   46        2.0              0         0.0     0.0                0   \n",
       "2     1   48        1.0              1        20.0     0.0                0   \n",
       "3     0   61        3.0              1        30.0     0.0                0   \n",
       "4     0   46        3.0              1        23.0     0.0                0   \n",
       "\n",
       "   prevalentHyp  diabetes  totChol  sysBP  diaBP    BMI  heartRate  glucose  \\\n",
       "0             0         0    195.0  106.0   70.0  26.97       80.0     77.0   \n",
       "1             0         0    250.0  121.0   81.0  28.73       95.0     76.0   \n",
       "2             0         0    245.0  127.5   80.0  25.34       75.0     70.0   \n",
       "3             1         0    225.0  150.0   95.0  28.58       65.0    103.0   \n",
       "4             0         0    285.0  130.0   84.0  23.10       85.0     85.0   \n",
       "\n",
       "   TenYearCHD  \n",
       "0           0  \n",
       "1           0  \n",
       "2           0  \n",
       "3           1  \n",
       "4           0  "
      ]
     },
     "execution_count": 4,
     "metadata": {},
     "output_type": "execute_result"
    }
   ],
   "source": [
    "data.head()"
   ]
  },
  {
   "cell_type": "code",
   "execution_count": 5,
   "id": "8175a5e0",
   "metadata": {},
   "outputs": [
    {
     "data": {
      "text/plain": [
       "(4238, 16)"
      ]
     },
     "execution_count": 5,
     "metadata": {},
     "output_type": "execute_result"
    }
   ],
   "source": [
    "data.shape"
   ]
  },
  {
   "cell_type": "code",
   "execution_count": 6,
   "id": "4ec9cb97",
   "metadata": {},
   "outputs": [
    {
     "name": "stdout",
     "output_type": "stream",
     "text": [
      "<class 'pandas.core.frame.DataFrame'>\n",
      "RangeIndex: 4238 entries, 0 to 4237\n",
      "Data columns (total 16 columns):\n",
      " #   Column           Non-Null Count  Dtype  \n",
      "---  ------           --------------  -----  \n",
      " 0   male             4238 non-null   int64  \n",
      " 1   age              4238 non-null   int64  \n",
      " 2   education        4133 non-null   float64\n",
      " 3   currentSmoker    4238 non-null   int64  \n",
      " 4   cigsPerDay       4209 non-null   float64\n",
      " 5   BPMeds           4185 non-null   float64\n",
      " 6   prevalentStroke  4238 non-null   int64  \n",
      " 7   prevalentHyp     4238 non-null   int64  \n",
      " 8   diabetes         4238 non-null   int64  \n",
      " 9   totChol          4188 non-null   float64\n",
      " 10  sysBP            4238 non-null   float64\n",
      " 11  diaBP            4238 non-null   float64\n",
      " 12  BMI              4219 non-null   float64\n",
      " 13  heartRate        4237 non-null   float64\n",
      " 14  glucose          3850 non-null   float64\n",
      " 15  TenYearCHD       4238 non-null   int64  \n",
      "dtypes: float64(9), int64(7)\n",
      "memory usage: 529.9 KB\n"
     ]
    }
   ],
   "source": [
    "data.info()"
   ]
  },
  {
   "cell_type": "code",
   "execution_count": 7,
   "id": "f13ac739",
   "metadata": {},
   "outputs": [],
   "source": [
    "data.drop(columns=['education'], inplace=True)"
   ]
  },
  {
   "cell_type": "code",
   "execution_count": 8,
   "id": "9fe4c2d6",
   "metadata": {},
   "outputs": [],
   "source": [
    "data.dropna(axis=0, how='any', inplace=True)"
   ]
  },
  {
   "cell_type": "code",
   "execution_count": 9,
   "id": "acddcdbc",
   "metadata": {},
   "outputs": [
    {
     "data": {
      "text/plain": [
       "(3749, 15)"
      ]
     },
     "execution_count": 9,
     "metadata": {},
     "output_type": "execute_result"
    }
   ],
   "source": [
    "data.shape"
   ]
  },
  {
   "cell_type": "code",
   "execution_count": null,
   "id": "7ecd1975",
   "metadata": {},
   "outputs": [],
   "source": []
  },
  {
   "cell_type": "markdown",
   "id": "dac123ee",
   "metadata": {},
   "source": [
    "b) Grafikonom sa stubićima prikazati odnos pacijenata po polu.  "
   ]
  },
  {
   "cell_type": "code",
   "execution_count": 10,
   "id": "8538c0fa",
   "metadata": {},
   "outputs": [],
   "source": [
    "male_patients = data[data['male'] == 1].shape[0]"
   ]
  },
  {
   "cell_type": "code",
   "execution_count": 11,
   "id": "82856744",
   "metadata": {},
   "outputs": [],
   "source": [
    "female_patients = data[data['male'] == 0].shape[0]"
   ]
  },
  {
   "cell_type": "code",
   "execution_count": 12,
   "id": "3bb91d3e",
   "metadata": {},
   "outputs": [
    {
     "data": {
      "image/png": "[encoded data removed]",
      "text/plain": [
       "<Figure size 432x288 with 1 Axes>"
      ]
     },
     "metadata": {
      "needs_background": "light"
     },
     "output_type": "display_data"
    }
   ],
   "source": [
    "plt.title('Patient statistics by gender')\n",
    "plt.bar(['male', 'female'], [male_patients, female_patients])\n",
    "plt.show()"
   ]
  },
  {
   "cell_type": "code",
   "execution_count": null,
   "id": "8f0216f4",
   "metadata": {},
   "outputs": [],
   "source": []
  },
  {
   "cell_type": "markdown",
   "id": "63601fe5",
   "metadata": {},
   "source": [
    "c) Grafikonom sa stubićima prikazati odnos pušača i nepušaća sa srčanim problemima. "
   ]
  },
  {
   "cell_type": "code",
   "execution_count": 13,
   "id": "5d2fde83",
   "metadata": {},
   "outputs": [],
   "source": [
    "smoker_info = data[data['TenYearCHD']==1]['currentSmoker']"
   ]
  },
  {
   "cell_type": "code",
   "execution_count": 14,
   "id": "5092e6a8",
   "metadata": {},
   "outputs": [
    {
     "data": {
      "text/plain": [
       "1    294\n",
       "0    278\n",
       "Name: currentSmoker, dtype: int64"
      ]
     },
     "execution_count": 14,
     "metadata": {},
     "output_type": "execute_result"
    }
   ],
   "source": [
    "smoker_info.value_counts()"
   ]
  },
  {
   "cell_type": "code",
   "execution_count": 15,
   "id": "1a7b6e58",
   "metadata": {},
   "outputs": [
    {
     "data": {
      "image/png": "[encoded data removed]",
      "text/plain": [
       "<Figure size 432x288 with 1 Axes>"
      ]
     },
     "metadata": {
      "needs_background": "light"
     },
     "output_type": "display_data"
    }
   ],
   "source": [
    "plt.title('Smoker vs. non-smoker patient with CHD statistics')\n",
    "plt.bar(['smoker', 'non-smoker'], [smoker_info.value_counts().values[0], smoker_info.value_counts().values[1]])\n",
    "plt.show()"
   ]
  },
  {
   "cell_type": "code",
   "execution_count": null,
   "id": "17dade9e",
   "metadata": {},
   "outputs": [],
   "source": []
  },
  {
   "cell_type": "markdown",
   "id": "e317fadf",
   "metadata": {},
   "source": [
    "d) Izdvojiti vrednost ciljne promenljive `TenYearCHD` koja predviđa mogućnost oboljenja u narednih 10 godina, a potom podeliti podatke na skup za treniranje i skup za testiranje u razmeri 2:1. Prilikom podele podataka voditi računa o stratifikaciji. Parametar `random_state` postaviti na vrednost 5. "
   ]
  },
  {
   "cell_type": "code",
   "execution_count": 16,
   "id": "7829d131",
   "metadata": {},
   "outputs": [],
   "source": [
    "y = data['TenYearCHD']\n",
    "X = data.drop(columns=['TenYearCHD'])"
   ]
  },
  {
   "cell_type": "code",
   "execution_count": 17,
   "id": "462f33fb",
   "metadata": {},
   "outputs": [],
   "source": [
    "X_train, X_test, y_train, y_test = model_selection.train_test_split(X, y, test_size=0.33, random_state=5, stratify=y)"
   ]
  },
  {
   "cell_type": "code",
   "execution_count": null,
   "id": "3e27c6ae",
   "metadata": {},
   "outputs": [],
   "source": []
  },
  {
   "cell_type": "markdown",
   "id": "f00e34c1",
   "metadata": {},
   "source": [
    "e) Izvršiti standardizaciju podataka. "
   ]
  },
  {
   "cell_type": "code",
   "execution_count": 18,
   "id": "44ac2287",
   "metadata": {},
   "outputs": [],
   "source": [
    "scaler = preprocessing.StandardScaler()"
   ]
  },
  {
   "cell_type": "code",
   "execution_count": 19,
   "id": "9bebeefe",
   "metadata": {},
   "outputs": [
    {
     "data": {
      "text/plain": [
       "StandardScaler()"
      ]
     },
     "execution_count": 19,
     "metadata": {},
     "output_type": "execute_result"
    }
   ],
   "source": [
    "scaler.fit(X_train)"
   ]
  },
  {
   "cell_type": "code",
   "execution_count": 20,
   "id": "2868a589",
   "metadata": {},
   "outputs": [],
   "source": [
    "X_train_scaled = scaler.transform(X_train)\n",
    "X_test_scaled = scaler.transform(X_test)"
   ]
  },
  {
   "cell_type": "code",
   "execution_count": null,
   "id": "c8a3191b",
   "metadata": {},
   "outputs": [],
   "source": []
  },
  {
   "cell_type": "markdown",
   "id": "ccdd5639",
   "metadata": {},
   "source": [
    "f) Kreirati i obučiti model logističke regresije sa težinama 1 i 4 koje, redom, odgovaraju klasama 0 i 1. "
   ]
  },
  {
   "cell_type": "code",
   "execution_count": 21,
   "id": "b1a701cc",
   "metadata": {},
   "outputs": [],
   "source": [
    "model = linear_model.LogisticRegression(class_weight={0: 1, 1: 4})"
   ]
  },
  {
   "cell_type": "code",
   "execution_count": 22,
   "id": "2b933686",
   "metadata": {},
   "outputs": [
    {
     "data": {
      "text/plain": [
       "LogisticRegression(class_weight={0: 1, 1: 4})"
      ]
     },
     "execution_count": 22,
     "metadata": {},
     "output_type": "execute_result"
    }
   ],
   "source": [
    "model.fit(X_train_scaled, y_train)"
   ]
  },
  {
   "cell_type": "code",
   "execution_count": null,
   "id": "154eb6b8",
   "metadata": {},
   "outputs": [],
   "source": []
  },
  {
   "cell_type": "markdown",
   "id": "487116df",
   "metadata": {},
   "source": [
    "g) Dati F1 ocenu modela, a potom posebno izračunati i F1 ocene po polovima. Da li model daje bolje predikcije za muškarce ili žene? "
   ]
  },
  {
   "cell_type": "code",
   "execution_count": 23,
   "id": "d4fd1dad",
   "metadata": {},
   "outputs": [],
   "source": [
    "y_predicted = model.predict(X_test_scaled)"
   ]
  },
  {
   "cell_type": "code",
   "execution_count": 24,
   "id": "5f489bc7",
   "metadata": {},
   "outputs": [],
   "source": [
    "f1_score = metrics.f1_score(y_test, y_predicted)"
   ]
  },
  {
   "cell_type": "code",
   "execution_count": 25,
   "id": "b1b8aabc",
   "metadata": {},
   "outputs": [
    {
     "data": {
      "text/plain": [
       "0.39272727272727265"
      ]
     },
     "execution_count": 25,
     "metadata": {},
     "output_type": "execute_result"
    }
   ],
   "source": [
    "f1_score"
   ]
  },
  {
   "cell_type": "code",
   "execution_count": 26,
   "id": "9cd47dca",
   "metadata": {},
   "outputs": [
    {
     "name": "stdout",
     "output_type": "stream",
     "text": [
      "              precision    recall  f1-score   support\n",
      "\n",
      "           0       0.91      0.76      0.83      1049\n",
      "           1       0.30      0.57      0.39       189\n",
      "\n",
      "    accuracy                           0.73      1238\n",
      "   macro avg       0.60      0.67      0.61      1238\n",
      "weighted avg       0.81      0.73      0.76      1238\n",
      "\n"
     ]
    }
   ],
   "source": [
    "print(metrics.classification_report(y_test, y_predicted))"
   ]
  },
  {
   "cell_type": "code",
   "execution_count": 27,
   "id": "3b7007a9",
   "metadata": {},
   "outputs": [],
   "source": [
    "female_test_indexes = X_test[X_test['male']==0].index"
   ]
  },
  {
   "cell_type": "code",
   "execution_count": 28,
   "id": "e6af4789",
   "metadata": {},
   "outputs": [],
   "source": [
    "female_predictions = model.predict(X_test[X_test['male']==0])"
   ]
  },
  {
   "cell_type": "code",
   "execution_count": 29,
   "id": "0eb49b43",
   "metadata": {},
   "outputs": [],
   "source": [
    "f1_female = metrics.f1_score(y_test[female_test_indexes], female_predictions)"
   ]
  },
  {
   "cell_type": "code",
   "execution_count": 30,
   "id": "f78763ae",
   "metadata": {},
   "outputs": [
    {
     "name": "stdout",
     "output_type": "stream",
     "text": [
      "F1 ocena za zene:  0.22757697456492637\n"
     ]
    }
   ],
   "source": [
    "print('F1 ocena za zene: ', f1_female)"
   ]
  },
  {
   "cell_type": "code",
   "execution_count": null,
   "id": "8ae69b6b",
   "metadata": {},
   "outputs": [],
   "source": []
  },
  {
   "cell_type": "code",
   "execution_count": 31,
   "id": "0c77eb93",
   "metadata": {},
   "outputs": [],
   "source": [
    "male_test_indexes = X_test[X_test['male']==1].index"
   ]
  },
  {
   "cell_type": "code",
   "execution_count": 32,
   "id": "49fbe6b9",
   "metadata": {},
   "outputs": [],
   "source": [
    "male_predictions = model.predict(X_test[X_test['male']==1])"
   ]
  },
  {
   "cell_type": "code",
   "execution_count": 33,
   "id": "38ec96ca",
   "metadata": {},
   "outputs": [],
   "source": [
    "f1_male = metrics.f1_score(y_test[male_test_indexes], male_predictions)"
   ]
  },
  {
   "cell_type": "code",
   "execution_count": 34,
   "id": "3dc49bb6",
   "metadata": {},
   "outputs": [
    {
     "name": "stdout",
     "output_type": "stream",
     "text": [
      "F1 ocena za muskarce:  0.30588235294117644\n"
     ]
    }
   ],
   "source": [
    "print('F1 ocena za muskarce: ', f1_male)"
   ]
  },
  {
   "cell_type": "code",
   "execution_count": null,
   "id": "107b071a",
   "metadata": {},
   "outputs": [],
   "source": []
  },
  {
   "cell_type": "markdown",
   "id": "e065b03e",
   "metadata": {},
   "source": [
    "h) Za obučeni model izdvojiti atribute koji imaju najveći pozitivan i najveći negativan uticaj na predikciju. "
   ]
  },
  {
   "cell_type": "code",
   "execution_count": 35,
   "id": "e309e53d",
   "metadata": {},
   "outputs": [],
   "source": [
    "model_coefs = model.coef_[0]"
   ]
  },
  {
   "cell_type": "code",
   "execution_count": 36,
   "id": "7465bdca",
   "metadata": {},
   "outputs": [
    {
     "data": {
      "text/plain": [
       "array([ 0.28383588,  0.60035917,  0.106153  ,  0.21084256,  0.00154426,\n",
       "        0.05884207,  0.1125221 ,  0.02432486,  0.12815294,  0.28059007,\n",
       "        0.02480344, -0.01742216, -0.10618391,  0.11031645])"
      ]
     },
     "execution_count": 36,
     "metadata": {},
     "output_type": "execute_result"
    }
   ],
   "source": [
    "model_coefs"
   ]
  },
  {
   "cell_type": "code",
   "execution_count": null,
   "id": "cd3d608f",
   "metadata": {},
   "outputs": [],
   "source": []
  },
  {
   "cell_type": "code",
   "execution_count": 37,
   "id": "5d03dd2b",
   "metadata": {},
   "outputs": [],
   "source": [
    "model_attributes = X.columns"
   ]
  },
  {
   "cell_type": "code",
   "execution_count": 38,
   "id": "ac395803",
   "metadata": {},
   "outputs": [
    {
     "data": {
      "text/plain": [
       "Index(['male', 'age', 'currentSmoker', 'cigsPerDay', 'BPMeds',\n",
       "       'prevalentStroke', 'prevalentHyp', 'diabetes', 'totChol', 'sysBP',\n",
       "       'diaBP', 'BMI', 'heartRate', 'glucose'],\n",
       "      dtype='object')"
      ]
     },
     "execution_count": 38,
     "metadata": {},
     "output_type": "execute_result"
    }
   ],
   "source": [
    "model_attributes"
   ]
  },
  {
   "cell_type": "code",
   "execution_count": null,
   "id": "6aeed29b",
   "metadata": {},
   "outputs": [],
   "source": []
  },
  {
   "cell_type": "code",
   "execution_count": 39,
   "id": "c149fc56",
   "metadata": {},
   "outputs": [],
   "source": [
    "positive_influence_index = np.argmax(model_coefs)"
   ]
  },
  {
   "cell_type": "code",
   "execution_count": 40,
   "id": "bb44bdce",
   "metadata": {},
   "outputs": [
    {
     "data": {
      "text/plain": [
       "'age'"
      ]
     },
     "execution_count": 40,
     "metadata": {},
     "output_type": "execute_result"
    }
   ],
   "source": [
    "model_attributes[positive_influence_index]"
   ]
  },
  {
   "cell_type": "code",
   "execution_count": 41,
   "id": "0da3a1e3",
   "metadata": {},
   "outputs": [],
   "source": [
    "negative_influence_index = np.argmin(model_coefs)"
   ]
  },
  {
   "cell_type": "code",
   "execution_count": 42,
   "id": "d17a9104",
   "metadata": {},
   "outputs": [
    {
     "data": {
      "text/plain": [
       "'heartRate'"
      ]
     },
     "execution_count": 42,
     "metadata": {},
     "output_type": "execute_result"
    }
   ],
   "source": [
    "model_attributes[negative_influence_index]"
   ]
  },
  {
   "cell_type": "code",
   "execution_count": null,
   "id": "61f45d7c",
   "metadata": {},
   "outputs": [],
   "source": []
  }
 ],
 "metadata": {
  "kernelspec": {
   "display_name": "Python 3",
   "language": "python",
   "name": "python3"
  },
  "language_info": {
   "codemirror_mode": {
    "name": "ipython",
    "version": 3
   },
   "file_extension": ".py",
   "mimetype": "text/x-python",
   "name": "python",
   "nbconvert_exporter": "python",
   "pygments_lexer": "ipython3",
   "version": "3.7.6"
  }
 },
 "nbformat": 4,
 "nbformat_minor": 5
}
