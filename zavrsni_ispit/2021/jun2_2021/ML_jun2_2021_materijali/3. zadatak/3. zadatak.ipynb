{
 "cells": [
  {
   "cell_type": "markdown",
   "id": "d6338c01",
   "metadata": {},
   "source": [
    "### 3. zadatak (8 poena)"
   ]
  },
  {
   "cell_type": "markdown",
   "id": "64cc1aa9",
   "metadata": {},
   "source": [
    "U datoteci `corona_tweets.csv` se nalaze tvitovi na temu korona virusa prikupljeni sa različitih lokacija. Svakom tvitu je pridruženo obeležje sentimenta, od jako negativnog do jako pozitivnog. Potrebno je generisati 2D prikaz skupa zbog uvida u strukturu skupa i dalje tekstualne obrade.  "
   ]
  },
  {
   "cell_type": "code",
   "execution_count": 1,
   "id": "0602aabe",
   "metadata": {},
   "outputs": [],
   "source": [
    "import numpy as np\n",
    "import pandas as pd\n",
    "from matplotlib import pyplot as plt"
   ]
  },
  {
   "cell_type": "code",
   "execution_count": 2,
   "id": "3feb41cb",
   "metadata": {},
   "outputs": [],
   "source": [
    "from sklearn import preprocessing\n",
    "from sklearn import feature_extraction\n",
    "from sklearn import decomposition"
   ]
  },
  {
   "cell_type": "code",
   "execution_count": null,
   "id": "e801b376",
   "metadata": {},
   "outputs": [],
   "source": []
  },
  {
   "cell_type": "markdown",
   "id": "bbf0f413",
   "metadata": {},
   "source": [
    "a) Učitati tvitove koji se nalaze u datoteci `corona_tweets.csv`, a potom izdvojiti kolone koje se odnose na lokaciju (`Location`), sadržaj tvita (`OriginalTweet`) i sentiment (`Sentiment`). "
   ]
  },
  {
   "cell_type": "code",
   "execution_count": null,
   "id": "a73ddd66",
   "metadata": {},
   "outputs": [],
   "source": []
  },
  {
   "cell_type": "code",
   "execution_count": null,
   "id": "fe6c57cf",
   "metadata": {},
   "outputs": [],
   "source": []
  },
  {
   "cell_type": "code",
   "execution_count": null,
   "id": "d3d36b0a",
   "metadata": {},
   "outputs": [],
   "source": []
  },
  {
   "cell_type": "code",
   "execution_count": null,
   "id": "c2fd3e60",
   "metadata": {},
   "outputs": [],
   "source": []
  },
  {
   "cell_type": "markdown",
   "id": "74872438",
   "metadata": {},
   "source": [
    "b) Izdvojiti tvitove koji se odnose na Ameriku i London - njima odgovaraju lokacije `United States` i `London, England`."
   ]
  },
  {
   "cell_type": "code",
   "execution_count": null,
   "id": "61c16f57",
   "metadata": {},
   "outputs": [],
   "source": []
  },
  {
   "cell_type": "code",
   "execution_count": null,
   "id": "4033e71d",
   "metadata": {},
   "outputs": [],
   "source": []
  },
  {
   "cell_type": "code",
   "execution_count": null,
   "id": "d76b27b7",
   "metadata": {},
   "outputs": [],
   "source": []
  },
  {
   "cell_type": "code",
   "execution_count": null,
   "id": "bd830c35",
   "metadata": {},
   "outputs": [],
   "source": []
  },
  {
   "cell_type": "markdown",
   "id": "2574deb3",
   "metadata": {},
   "source": [
    "c) Prikazati grafikonom sa stubićima učestalost tvitova po sentimentu. "
   ]
  },
  {
   "cell_type": "code",
   "execution_count": null,
   "id": "38788f91",
   "metadata": {},
   "outputs": [],
   "source": []
  },
  {
   "cell_type": "code",
   "execution_count": null,
   "id": "19bbb537",
   "metadata": {},
   "outputs": [],
   "source": []
  },
  {
   "cell_type": "code",
   "execution_count": null,
   "id": "311e7c4e",
   "metadata": {},
   "outputs": [],
   "source": []
  },
  {
   "cell_type": "code",
   "execution_count": null,
   "id": "333160a5",
   "metadata": {},
   "outputs": [],
   "source": []
  },
  {
   "cell_type": "markdown",
   "id": "026ab34f",
   "metadata": {},
   "source": [
    "d) Kreirati TfIdVectorizer tako da eliminiše stop reči tipične za engleski jezik i uzima u obzir reči sa barem 4 pojavljivanja. Koliko reči će biti zadržano?"
   ]
  },
  {
   "cell_type": "code",
   "execution_count": null,
   "id": "c2717002",
   "metadata": {},
   "outputs": [],
   "source": []
  },
  {
   "cell_type": "code",
   "execution_count": null,
   "id": "bf8ea491",
   "metadata": {},
   "outputs": [],
   "source": []
  },
  {
   "cell_type": "code",
   "execution_count": null,
   "id": "92860014",
   "metadata": {},
   "outputs": [],
   "source": []
  },
  {
   "cell_type": "code",
   "execution_count": null,
   "id": "0c511991",
   "metadata": {},
   "outputs": [],
   "source": []
  },
  {
   "cell_type": "markdown",
   "id": "df7c9786",
   "metadata": {},
   "source": [
    "e) Koristeći kreirani vektorizator, pripremiti tviter porukice. "
   ]
  },
  {
   "cell_type": "code",
   "execution_count": null,
   "id": "d671a8ea",
   "metadata": {},
   "outputs": [],
   "source": []
  },
  {
   "cell_type": "code",
   "execution_count": null,
   "id": "f8fda2d0",
   "metadata": {},
   "outputs": [],
   "source": []
  },
  {
   "cell_type": "code",
   "execution_count": null,
   "id": "43c2c713",
   "metadata": {},
   "outputs": [],
   "source": []
  },
  {
   "cell_type": "code",
   "execution_count": null,
   "id": "fc88f158",
   "metadata": {},
   "outputs": [],
   "source": []
  },
  {
   "cell_type": "markdown",
   "id": "a7fd08c3",
   "metadata": {},
   "source": [
    "f) Koristeći PCA analizu izvršiti redukciju pripremljenih tvitova na dve dimenzije. Koji udeo varijanse je zadržan ovom transformacijom?"
   ]
  },
  {
   "cell_type": "code",
   "execution_count": null,
   "id": "6cd945d0",
   "metadata": {},
   "outputs": [],
   "source": []
  },
  {
   "cell_type": "code",
   "execution_count": null,
   "id": "966b82d0",
   "metadata": {},
   "outputs": [],
   "source": []
  },
  {
   "cell_type": "code",
   "execution_count": null,
   "id": "c1257a3d",
   "metadata": {},
   "outputs": [],
   "source": []
  },
  {
   "cell_type": "code",
   "execution_count": null,
   "id": "46ceaea2",
   "metadata": {},
   "outputs": [],
   "source": []
  },
  {
   "cell_type": "markdown",
   "id": "ad2ef68d",
   "metadata": {},
   "source": [
    "g) Pridružiti boje labelama sentimenata prema zadatoj mapi, a zatim prikazati 2D grafik tvitova po sentimentima."
   ]
  },
  {
   "cell_type": "code",
   "execution_count": 3,
   "id": "bf2cbd6a",
   "metadata": {},
   "outputs": [],
   "source": [
    "sentiment_to_color = {\n",
    "    'Positive': 'yellow', \n",
    "    'Extremely Negative': 'red', \n",
    "    'Neutral': 'blue', \n",
    "    'Negative': 'green', \n",
    "    'Extremely Positive': 'orange'\n",
    "}"
   ]
  },
  {
   "cell_type": "code",
   "execution_count": null,
   "id": "28e487f2",
   "metadata": {},
   "outputs": [],
   "source": []
  },
  {
   "cell_type": "code",
   "execution_count": null,
   "id": "09b67724",
   "metadata": {},
   "outputs": [],
   "source": []
  },
  {
   "cell_type": "code",
   "execution_count": null,
   "id": "fdf5c51b",
   "metadata": {},
   "outputs": [],
   "source": []
  },
  {
   "cell_type": "code",
   "execution_count": null,
   "id": "26a9bbf8",
   "metadata": {},
   "outputs": [],
   "source": []
  },
  {
   "cell_type": "markdown",
   "id": "f58feb81",
   "metadata": {},
   "source": [
    "h) Koliki treba da bude broj komponenti PCA analize da bi se zadržalo 90% varijanse polaznog skupa tvitova?"
   ]
  },
  {
   "cell_type": "code",
   "execution_count": null,
   "id": "397019c9",
   "metadata": {},
   "outputs": [],
   "source": []
  },
  {
   "cell_type": "code",
   "execution_count": null,
   "id": "9e7fe935",
   "metadata": {},
   "outputs": [],
   "source": []
  },
  {
   "cell_type": "code",
   "execution_count": null,
   "id": "dde9582d",
   "metadata": {},
   "outputs": [],
   "source": []
  },
  {
   "cell_type": "code",
   "execution_count": null,
   "id": "7441dcd4",
   "metadata": {},
   "outputs": [],
   "source": []
  }
 ],
 "metadata": {
  "kernelspec": {
   "display_name": "Python 3",
   "language": "python",
   "name": "python3"
  },
  "language_info": {
   "codemirror_mode": {
    "name": "ipython",
    "version": 3
   },
   "file_extension": ".py",
   "mimetype": "text/x-python",
   "name": "python",
   "nbconvert_exporter": "python",
   "pygments_lexer": "ipython3",
   "version": "3.7.6"
  }
 },
 "nbformat": 4,
 "nbformat_minor": 5
}
