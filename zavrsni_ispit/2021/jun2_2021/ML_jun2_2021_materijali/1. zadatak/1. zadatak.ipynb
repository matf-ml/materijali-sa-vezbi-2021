{
 "cells": [
  {
   "cell_type": "markdown",
   "id": "3d00fee4",
   "metadata": {},
   "source": [
    "### 1. zadatak (10 poena)"
   ]
  },
  {
   "cell_type": "markdown",
   "id": "da222920",
   "metadata": {},
   "source": [
    "U datoteci `framingham.csv` se nalaze medicinski podaci stanovnika Framinghama koji su učestvovali u ispitivanjima prevencije kardiovaskularnih bolesti. Skup sadrži 15 atributa koji objedinjuju sociološke i medicinske karakteristike ispitanika kao što su starosna dob, pol, indeks telesne mase, koncentracija šećera u krvi i drugi. Potrebno je napraviti klasifikator koji na osnovu ovih podataka može da predvidi pojavu srčanih problema. Informacije o pojavi srčanih problema ispitanika evidentirane su na nivou atributa `TenYearCHD`. "
   ]
  },
  {
   "cell_type": "code",
   "execution_count": 1,
   "id": "c5bc0249",
   "metadata": {},
   "outputs": [],
   "source": [
    "import numpy as np\n",
    "import pandas as pd\n",
    "from matplotlib import pyplot as plt"
   ]
  },
  {
   "cell_type": "code",
   "execution_count": 2,
   "id": "c7486ded",
   "metadata": {},
   "outputs": [],
   "source": [
    "from sklearn import linear_model\n",
    "from sklearn import preprocessing\n",
    "from sklearn import model_selection\n",
    "from sklearn import metrics"
   ]
  },
  {
   "cell_type": "code",
   "execution_count": null,
   "id": "221a163e",
   "metadata": {},
   "outputs": [],
   "source": []
  },
  {
   "cell_type": "markdown",
   "id": "4f3dc25c",
   "metadata": {},
   "source": [
    "a) Učitati podatke koji se nalaze u datoteci `framingham.csv`. Obrisati kolonu `education`, a potom obrisati i sve vrste koje sadrže barem jednu nedostajuću vrednost. "
   ]
  },
  {
   "cell_type": "code",
   "execution_count": null,
   "id": "b536579f",
   "metadata": {},
   "outputs": [],
   "source": []
  },
  {
   "cell_type": "code",
   "execution_count": null,
   "id": "2079a4ad",
   "metadata": {},
   "outputs": [],
   "source": []
  },
  {
   "cell_type": "code",
   "execution_count": null,
   "id": "85d90c59",
   "metadata": {},
   "outputs": [],
   "source": []
  },
  {
   "cell_type": "code",
   "execution_count": null,
   "id": "7ecd1975",
   "metadata": {},
   "outputs": [],
   "source": []
  },
  {
   "cell_type": "markdown",
   "id": "dac123ee",
   "metadata": {},
   "source": [
    "b) Grafikonom sa stubićima prikazati odnos pacijenata po polu.  "
   ]
  },
  {
   "cell_type": "code",
   "execution_count": null,
   "id": "4c3a23fc",
   "metadata": {},
   "outputs": [],
   "source": []
  },
  {
   "cell_type": "code",
   "execution_count": null,
   "id": "542e75b1",
   "metadata": {},
   "outputs": [],
   "source": []
  },
  {
   "cell_type": "code",
   "execution_count": null,
   "id": "2204327c",
   "metadata": {},
   "outputs": [],
   "source": []
  },
  {
   "cell_type": "code",
   "execution_count": null,
   "id": "8f0216f4",
   "metadata": {},
   "outputs": [],
   "source": []
  },
  {
   "cell_type": "markdown",
   "id": "63601fe5",
   "metadata": {},
   "source": [
    "c) Grafikonom sa stubićima prikazati odnos pušača i nepušaća sa srčanim problemima. "
   ]
  },
  {
   "cell_type": "code",
   "execution_count": null,
   "id": "371f2c03",
   "metadata": {},
   "outputs": [],
   "source": []
  },
  {
   "cell_type": "code",
   "execution_count": null,
   "id": "9239bb85",
   "metadata": {},
   "outputs": [],
   "source": []
  },
  {
   "cell_type": "code",
   "execution_count": null,
   "id": "7d1b6176",
   "metadata": {},
   "outputs": [],
   "source": []
  },
  {
   "cell_type": "code",
   "execution_count": null,
   "id": "17dade9e",
   "metadata": {},
   "outputs": [],
   "source": []
  },
  {
   "cell_type": "markdown",
   "id": "e317fadf",
   "metadata": {},
   "source": [
    "d) Izdvojiti vrednost ciljne promenljive `TenYearCHD` koja predviđa mogućnost oboljenja u narednih 10 godina, a potom podeliti podatke na skup za treniranje i skup za testiranje u razmeri 2:1. Prilikom podele podataka voditi računa o stratifikaciji. Parametar `random_state` postaviti na vrednost 5. "
   ]
  },
  {
   "cell_type": "code",
   "execution_count": null,
   "id": "e8498ae5",
   "metadata": {},
   "outputs": [],
   "source": []
  },
  {
   "cell_type": "code",
   "execution_count": null,
   "id": "847f3b01",
   "metadata": {},
   "outputs": [],
   "source": []
  },
  {
   "cell_type": "code",
   "execution_count": null,
   "id": "16e18864",
   "metadata": {},
   "outputs": [],
   "source": []
  },
  {
   "cell_type": "code",
   "execution_count": null,
   "id": "3e27c6ae",
   "metadata": {},
   "outputs": [],
   "source": []
  },
  {
   "cell_type": "markdown",
   "id": "f00e34c1",
   "metadata": {},
   "source": [
    "e) Izvršiti standardizaciju podataka. "
   ]
  },
  {
   "cell_type": "code",
   "execution_count": null,
   "id": "5988d8e7",
   "metadata": {},
   "outputs": [],
   "source": []
  },
  {
   "cell_type": "code",
   "execution_count": null,
   "id": "6976c8f1",
   "metadata": {},
   "outputs": [],
   "source": []
  },
  {
   "cell_type": "code",
   "execution_count": null,
   "id": "d0a62b46",
   "metadata": {},
   "outputs": [],
   "source": []
  },
  {
   "cell_type": "code",
   "execution_count": null,
   "id": "c8a3191b",
   "metadata": {},
   "outputs": [],
   "source": []
  },
  {
   "cell_type": "markdown",
   "id": "ccdd5639",
   "metadata": {},
   "source": [
    "f) Kreirati i obučiti model logističke regresije sa težinama 1 i 4 koje, redom, odgovaraju klasama 0 i 1. "
   ]
  },
  {
   "cell_type": "code",
   "execution_count": null,
   "id": "38ec0030",
   "metadata": {},
   "outputs": [],
   "source": []
  },
  {
   "cell_type": "code",
   "execution_count": null,
   "id": "17d7e5fa",
   "metadata": {},
   "outputs": [],
   "source": []
  },
  {
   "cell_type": "code",
   "execution_count": null,
   "id": "80079156",
   "metadata": {},
   "outputs": [],
   "source": []
  },
  {
   "cell_type": "code",
   "execution_count": null,
   "id": "154eb6b8",
   "metadata": {},
   "outputs": [],
   "source": []
  },
  {
   "cell_type": "markdown",
   "id": "487116df",
   "metadata": {},
   "source": [
    "g) Dati F1 ocenu modela, a potom posebno izračunati i F1 ocene po polovima. Da li model daje bolje predikcije za muškarce ili žene? "
   ]
  },
  {
   "cell_type": "code",
   "execution_count": null,
   "id": "f4468085",
   "metadata": {},
   "outputs": [],
   "source": []
  },
  {
   "cell_type": "code",
   "execution_count": null,
   "id": "254a505c",
   "metadata": {},
   "outputs": [],
   "source": []
  },
  {
   "cell_type": "code",
   "execution_count": null,
   "id": "dc2389a2",
   "metadata": {},
   "outputs": [],
   "source": []
  },
  {
   "cell_type": "code",
   "execution_count": null,
   "id": "107b071a",
   "metadata": {},
   "outputs": [],
   "source": []
  },
  {
   "cell_type": "markdown",
   "id": "e065b03e",
   "metadata": {},
   "source": [
    "h) Za obučeni model izdvojiti atribute koji imaju najveći pozitivan i najveći negativan uticaj na predikciju. "
   ]
  },
  {
   "cell_type": "code",
   "execution_count": null,
   "id": "2ec3e919",
   "metadata": {},
   "outputs": [],
   "source": []
  },
  {
   "cell_type": "code",
   "execution_count": null,
   "id": "fdcc0255",
   "metadata": {},
   "outputs": [],
   "source": []
  },
  {
   "cell_type": "code",
   "execution_count": null,
   "id": "cb836da2",
   "metadata": {},
   "outputs": [],
   "source": []
  },
  {
   "cell_type": "code",
   "execution_count": null,
   "id": "61f45d7c",
   "metadata": {},
   "outputs": [],
   "source": []
  }
 ],
 "metadata": {
  "kernelspec": {
   "display_name": "Python 3",
   "language": "python",
   "name": "python3"
  },
  "language_info": {
   "codemirror_mode": {
    "name": "ipython",
    "version": 3
   },
   "file_extension": ".py",
   "mimetype": "text/x-python",
   "name": "python",
   "nbconvert_exporter": "python",
   "pygments_lexer": "ipython3",
   "version": "3.7.6"
  }
 },
 "nbformat": 4,
 "nbformat_minor": 5
}
