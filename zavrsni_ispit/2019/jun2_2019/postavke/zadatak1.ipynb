{
 "cells": [
  {
   "cell_type": "code",
   "execution_count": 1,
   "metadata": {},
   "outputs": [],
   "source": [
    "import pandas as pd\n",
    "import numpy as np\n",
    "import matplotlib.pyplot as plt\n",
    "from sklearn.cluster import KMeans\n",
    "from sklearn.decomposition import PCA\n",
    "from sklearn.preprocessing import StandardScaler\n",
    "from sklearn.model_selection import train_test_split\n",
    "from sklearn.datasets import make_classification\n",
    "from sklearn.svm import SVC\n",
    "from sklearn.tree import DecisionTreeClassifier\n",
    "from sklearn.linear_model import LogisticRegression\n",
    "from sklearn.metrics import classification_report, confusion_matrix\n",
    "from sklearn.ensemble import RandomForestClassifier, VotingClassifier\n",
    "from sklearn.model_selection import GridSearchCV"
   ]
  },
  {
   "cell_type": "markdown",
   "metadata": {},
   "source": [
    "Data contains; \n",
    "\n",
    "- age - age in years \n",
    "- sex - (1 = male; 0 = female) \n",
    "- cp - chest pain type \n",
    "- trestbps - resting blood pressure (in mm Hg on admission to the hospital) \n",
    "- chol - serum cholestoral in mg/dl \n",
    "- fbs - (fasting blood sugar > 120 mg/dl) (1 = true; 0 = false) \n",
    "- restecg - resting electrocardiographic results \n",
    "- thalach - maximum heart rate achieved \n",
    "- exang - exercise induced angina (1 = yes; 0 = no) \n",
    "- oldpeak - ST depression induced by exercise relative to rest \n",
    "- slope - the slope of the peak exercise ST segment \n",
    "- ca - number of major vessels (0-3) colored by flourosopy \n",
    "- thal - 3 = normal; 6 = fixed defect; 7 = reversable defect \n",
    "- target - have disease or not (1=yes, 0=no)"
   ]
  },
  {
   "cell_type": "markdown",
   "metadata": {},
   "source": [
    "a) Učitati podatke iz datoteke `heart.csv` i prikazati prvih 5 instanci. Koliko ukupno podataka postoji? Koliko atributa postoji?\n",
    "Za ciljnu promenljivu smatrati atribut `target` (0 - pacijent nema srčanu bolest, 1 - pacijent ima srčanu bolest)."
   ]
  },
  {
   "cell_type": "code",
   "execution_count": null,
   "metadata": {},
   "outputs": [],
   "source": []
  },
  {
   "cell_type": "markdown",
   "metadata": {},
   "source": [
    "b) Nacrtati grafikon koji vizualizuje ciljnu promenljivu i pol. Na x osi umesto brojeva označiti vrednosti atributa (`zdrav` i `srcana bolest` za ciljnu promenljivu,\n",
    "i `musko`, `zensko` za pol)."
   ]
  },
  {
   "cell_type": "code",
   "execution_count": null,
   "metadata": {},
   "outputs": [],
   "source": []
  },
  {
   "cell_type": "markdown",
   "metadata": {},
   "source": [
    "c) Enkodirati kategoričke promenljive (`cp`, `thal`, `slope`). Razdvojiti podatke na podatke bez ciljne promenljive (`x`) i ciljnu promenljivu (`y`)."
   ]
  },
  {
   "cell_type": "code",
   "execution_count": null,
   "metadata": {},
   "outputs": [],
   "source": []
  },
  {
   "cell_type": "markdown",
   "metadata": {},
   "source": [
    "d) Izvršiti podelu podataka na trening i test podatke tako da je test skup 20% ukupnih podataka. Za `random_state` koristiti vrednost 0.\n",
    "Izvršiti stratifikaciju po ciljnoj promenljivoj. Izvršiti standardizaciju podataka."
   ]
  },
  {
   "cell_type": "code",
   "execution_count": null,
   "metadata": {},
   "outputs": [],
   "source": []
  },
  {
   "cell_type": "markdown",
   "metadata": {},
   "source": [
    "e) Napraviti niz klasifikatora koji sadrži modele logističke regresije, kernelizovanog SVM-a i nasumičnih šuma odlučivanja.\n",
    "Napraviti niz rečnika koje predstavljaju skup parametara za pretragu i to:\n",
    "\n",
    "- Logistička regresije:\n",
    "    - C: [0.01, 0.1, 1, 10, 100],\n",
    "- SVC:\n",
    "    - C: [0.01, 0.1, 1, 10, 100],\n",
    "    - kernel: [linear, poly, rbf, sigmoid]\n",
    "- Sume\n",
    "    - n_estimators: [2, 5, 10, 20, 100],\n",
    "    - criterion: [gini, entropy]\n",
    "    \n",
    "Koristeći `GridSearcCV` odabrati najbolju konfiguraciju za svaki od klasifikatora i na standardnom izlazu napisati odabrane parametre."
   ]
  },
  {
   "cell_type": "code",
   "execution_count": null,
   "metadata": {},
   "outputs": [],
   "source": []
  },
  {
   "cell_type": "markdown",
   "metadata": {},
   "source": [
    "f) Napraviti novi glasački klasifikator koji se sastoji od najboljih konfiguracija prethodno odabranih klasifikatora,\n",
    "obučiti ga na podacima za obučavanje i dati njegovu ocenu (klasifikacioni izveštaj i matricu konfuzije) za trening i test podatke."
   ]
  },
  {
   "cell_type": "code",
   "execution_count": null,
   "metadata": {},
   "outputs": [],
   "source": []
  },
  {
   "cell_type": "markdown",
   "metadata": {},
   "source": [
    "g) Da li ćete na kraju odabrati glasački klasifikator ili jedan od najbolja tri? Obrazložite odgovor."
   ]
  },
  {
   "cell_type": "code",
   "execution_count": null,
   "metadata": {},
   "outputs": [],
   "source": []
  }
 ],
 "metadata": {
  "kernelspec": {
   "display_name": "Python 3",
   "language": "python",
   "name": "python3"
  },
  "language_info": {
   "codemirror_mode": {
    "name": "ipython",
    "version": 3
   },
   "file_extension": ".py",
   "mimetype": "text/x-python",
   "name": "python",
   "nbconvert_exporter": "python",
   "pygments_lexer": "ipython3",
   "version": "3.7.3"
  }
 },
 "nbformat": 4,
 "nbformat_minor": 2
}
