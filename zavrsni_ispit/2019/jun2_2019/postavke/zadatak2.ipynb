{
 "cells": [
  {
   "cell_type": "code",
   "execution_count": 1,
   "metadata": {},
   "outputs": [
    {
     "name": "stderr",
     "output_type": "stream",
     "text": [
      "Using TensorFlow backend.\n"
     ]
    }
   ],
   "source": [
    "from keras.layers import Dense, Conv2D, MaxPooling2D, Activation, Dropout, Flatten\n",
    "from keras.models import Sequential\n",
    "import numpy as np\n",
    "from keras.datasets import cifar10\n",
    "import keras\n",
    "from matplotlib import pyplot as plt\n",
    "import os"
   ]
  },
  {
   "cell_type": "markdown",
   "metadata": {},
   "source": [
    "a) Učitati `cifar10` podatke iz svih `npy` datoteka. Kao podatke za obučavanje uzeti prvih 1000 podataka iz učitanih podataka za obučavanje, a kao podatke\n",
    "za testiranje uzeti prvih 100 podataka iz podataka za testiranje. Koristiti `np.load`."
   ]
  },
  {
   "cell_type": "code",
   "execution_count": null,
   "metadata": {},
   "outputs": [],
   "source": []
  },
  {
   "cell_type": "markdown",
   "metadata": {},
   "source": [
    "b) Odabrati nasumično 9 različitih instanci iz skupa za obučavanje i napraviti\n",
    "crtež dimenzija $3 \\times 3$ na kojima ih je potrebno prikazati."
   ]
  },
  {
   "cell_type": "code",
   "execution_count": null,
   "metadata": {},
   "outputs": [],
   "source": []
  },
  {
   "cell_type": "markdown",
   "metadata": {},
   "source": [
    "c) Izvršiti normalizaciju piksela i enkodiranje ciljne promenljive."
   ]
  },
  {
   "cell_type": "code",
   "execution_count": null,
   "metadata": {},
   "outputs": [],
   "source": []
  },
  {
   "cell_type": "markdown",
   "metadata": {},
   "source": [
    "d) Napraviti konvolutivno neuronsku mrežu sa sledećom arhitekturom:\n",
    "\n",
    "- Konvolutivni sloj sa 32 filtera, ReLu aktivacijom  i veličinom kernela $3 \\times 3$\n",
    "- Konvolutivni sloj sa 32 filtera, ReLu aktivacijom  i veličinom kernela $3 \\times 3$\n",
    "- Agregirajući sloj sa veličinom prozora $2 \\times 2$\n",
    "- Regularizacija izostavljanja (Dropout) sa parametrom $0.25$\n",
    "- Konvolutivni sloj sa 64 filtera, ReLu aktivacijom  i veličinom kernela $3 \\times 3$\n",
    "- Konvolutivni sloj sa 64 filtera, ReLu aktivacijom  i veličinom kernela $3 \\times 3$\n",
    "- Agregirajući sloj sa veličinom prozora $2 \\times 2$\n",
    "- Regularizacija izostavljanja (Dropout) sa parametrom $0.25$\n",
    "- Sloj koji izravnava dimenzije (Flatten)\n",
    "- Potpuno povezani sloj sa 512 neurona i ReLu aktivacijom\n",
    "- Potpuno povezani sloj sa brojim neurona koliko postoji klasa i aktivacijom mekog maksimuma"
   ]
  },
  {
   "cell_type": "code",
   "execution_count": null,
   "metadata": {},
   "outputs": [],
   "source": []
  },
  {
   "cell_type": "markdown",
   "metadata": {},
   "source": [
    "e) Izvršiti obučavanje neuronske mreže. Kao broj paketa pri obučavanje postaviti 32, za broj epoha uzeti 10. Podatke za testiranje postaviti kao validacione\n",
    "podatke."
   ]
  },
  {
   "cell_type": "code",
   "execution_count": null,
   "metadata": {},
   "outputs": [],
   "source": []
  },
  {
   "cell_type": "markdown",
   "metadata": {},
   "source": [
    "f) Nacrati grafik koji prikazuje kako se menja tačnost (accuracy) na podacima za obučavanje i testiranje tokom obučanja mreže.\n",
    "Nacrtati grafik koji prikazuje kako se menja greška na oba skupa prilikom obučavanja mreže. Na $x$ osi označti `epoha`, a na $y$\n",
    "označiti odgovarajuću meru. Na oba grafika dodati legendu koja prikazuje šta koja funkcija označava (odnosno `trening` i `test`)."
   ]
  },
  {
   "cell_type": "code",
   "execution_count": null,
   "metadata": {},
   "outputs": [],
   "source": []
  }
 ],
 "metadata": {
  "kernelspec": {
   "display_name": "Python 3",
   "language": "python",
   "name": "python3"
  },
  "language_info": {
   "codemirror_mode": {
    "name": "ipython",
    "version": 3
   },
   "file_extension": ".py",
   "mimetype": "text/x-python",
   "name": "python",
   "nbconvert_exporter": "python",
   "pygments_lexer": "ipython3",
   "version": "3.7.3"
  }
 },
 "nbformat": 4,
 "nbformat_minor": 2
}
