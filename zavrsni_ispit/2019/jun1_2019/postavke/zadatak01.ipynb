{
 "cells": [
  {
   "cell_type": "code",
   "execution_count": 1,
   "metadata": {},
   "outputs": [],
   "source": [
    "import numpy as np\n",
    "import matplotlib.pyplot as plt\n",
    "import pandas as pd\n",
    "from sklearn import linear_model\n",
    "from sklearn import model_selection\n",
    "from sklearn import preprocessing\n",
    "from sklearn import metrics\n",
    "%matplotlib inline"
   ]
  },
  {
   "cell_type": "code",
   "execution_count": 2,
   "metadata": {},
   "outputs": [],
   "source": [
    "categorical_attributes = ['OperatingSystems', 'Browser', 'Region', 'TrafficType', 'VisitorType', 'Weekend']\n",
    "numerical_attributes = ['Administrative', 'Administrative_Duration', 'Informational', 'Informational_Duration', 'ProductRelated', 'ProductRelated_Duration',\n",
    "                       'BounceRates', 'ExitRates', 'PageValues', 'SpecialDay']\n",
    "target_variable = ['Revenue']"
   ]
  },
  {
   "cell_type": "markdown",
   "metadata": {},
   "source": [
    "a) Učitati podatke iz datoteke `online_shoppers_intention.csv`. Prikazati referentne statistike za numeričke atribute\n",
    "koristeći `pandas` metod `describe`."
   ]
  },
  {
   "cell_type": "code",
   "execution_count": null,
   "metadata": {},
   "outputs": [],
   "source": []
  },
  {
   "cell_type": "markdown",
   "metadata": {},
   "source": [
    "b) Vrednosti za kolone `VisitorType` i `Month` zameniti rednim brojevima počevši od 0. Dozvoljeno je koristiti `pandas`\n",
    "metod `replace`."
   ]
  },
  {
   "cell_type": "code",
   "execution_count": null,
   "metadata": {},
   "outputs": [],
   "source": []
  },
  {
   "cell_type": "markdown",
   "metadata": {},
   "source": [
    "c) Učitane podatke razdvojiti u dva podskupa, $X$ gde se nalaze svi atributi bez ciljne promenljive `Revenue`, i $y$ gde se\n",
    "nalazi ciljna promenljiva `Revenue`. Izvršiti `one-hot` enkodiranje kategoričkih promenljivih (koristiti odgovarajuću funkciju\n",
    "biblioteke `pandas`)."
   ]
  },
  {
   "cell_type": "code",
   "execution_count": null,
   "metadata": {},
   "outputs": [],
   "source": []
  },
  {
   "cell_type": "markdown",
   "metadata": {},
   "source": [
    "d) Podeliti podatke na skup za obučavanje i testiranje u razmeri 3:1. Za random_state parametar koristiti `7` i primeniti\n",
    "stratifikaciju po ciljnoj promenljivoj.\n",
    "\n"
   ]
  },
  {
   "cell_type": "code",
   "execution_count": null,
   "metadata": {},
   "outputs": [],
   "source": []
  },
  {
   "cell_type": "markdown",
   "metadata": {},
   "source": [
    "e) Napraviti model logističke regresije sa regularizacionim parametrom `C` koji ima\n",
    "vrednost `1e-30` i obučiti ga na podacima za obučavanje."
   ]
  },
  {
   "cell_type": "code",
   "execution_count": null,
   "metadata": {},
   "outputs": [],
   "source": []
  },
  {
   "cell_type": "markdown",
   "metadata": {},
   "source": [
    "f) Izračunati meru tačnost (eng. accuracy), prikazati klasifikacioni izveštaj nad trening i test podacima, i prikazati\n",
    "koeficijente modela. Da li je ovo dobar klasifikator? Obrazložiti odgovor."
   ]
  },
  {
   "cell_type": "code",
   "execution_count": null,
   "metadata": {},
   "outputs": [],
   "source": []
  },
  {
   "cell_type": "markdown",
   "metadata": {},
   "source": [
    "g) Koristeći `GridSearchCV` isprobati parametre:\n",
    "- `C`: [0.01, 0.1, 0.5, 1, 10, 200, 500, 1000],\n",
    "- `class_weight`: `balanced`,\n",
    "- `penalty`: [$\\ell_1$ , $\\ell_2$].\n",
    "\n",
    "Potom odabrati najbolji klasifikator i prikazati njegove parametre.\n",
    "Za najbolji klasifikator  prikazati izveštaj klasifikacije nad skupovima za\n",
    "obučavanje i testiranje kao i tačnost (eng. accuracy) na istim skupovima."
   ]
  },
  {
   "cell_type": "code",
   "execution_count": null,
   "metadata": {},
   "outputs": [],
   "source": []
  }
 ],
 "metadata": {
  "kernelspec": {
   "display_name": "Python 3",
   "language": "python",
   "name": "python3"
  },
  "language_info": {
   "codemirror_mode": {
    "name": "ipython",
    "version": 3
   },
   "file_extension": ".py",
   "mimetype": "text/x-python",
   "name": "python",
   "nbconvert_exporter": "python",
   "pygments_lexer": "ipython3",
   "version": "3.7.3"
  }
 },
 "nbformat": 4,
 "nbformat_minor": 2
}
