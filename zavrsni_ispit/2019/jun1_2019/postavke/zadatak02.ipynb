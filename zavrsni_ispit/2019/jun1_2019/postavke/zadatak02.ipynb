{
 "cells": [
  {
   "cell_type": "code",
   "execution_count": 1,
   "metadata": {},
   "outputs": [],
   "source": [
    "import numpy as np\n",
    "import matplotlib.pyplot as plt\n",
    "import pandas as pd\n",
    "from sklearn import linear_model\n",
    "from sklearn import model_selection\n",
    "from sklearn import datasets\n",
    "from sklearn import preprocessing\n",
    "from sklearn import metrics\n",
    "from sklearn.decomposition import PCA\n",
    "import matplotlib.pyplot as plt\n",
    "%matplotlib inline"
   ]
  },
  {
   "cell_type": "code",
   "execution_count": 2,
   "metadata": {},
   "outputs": [
    {
     "name": "stderr",
     "output_type": "stream",
     "text": [
      "Using TensorFlow backend.\n"
     ]
    }
   ],
   "source": [
    "import keras\n",
    "from keras.layers import Dense\n",
    "from keras.models import Sequential"
   ]
  },
  {
   "cell_type": "markdown",
   "metadata": {},
   "source": [
    "a) Učitati podatke za dijabetes koristeći `scikit-learn` modul `datasets` i funkciju `load_diabetes`.\n",
    "Na standardni izlaz ispisati informacije o tome koliko atributa i instanci skup podataka poseduje."
   ]
  },
  {
   "cell_type": "code",
   "execution_count": null,
   "metadata": {},
   "outputs": [],
   "source": []
  },
  {
   "cell_type": "markdown",
   "metadata": {},
   "source": [
    "b) Primeniti algoritam analize glavnih komponenti (eng. PCA) nad podacima i izvršiti smanjenje dimenzionalnosti\n",
    "na 6 komponenti (odnosno dimenzija). Na standardni izlaz ispisati koliko varijanse je objašnjeno nakon primene algoritma."
   ]
  },
  {
   "cell_type": "code",
   "execution_count": null,
   "metadata": {},
   "outputs": [],
   "source": []
  },
  {
   "cell_type": "markdown",
   "metadata": {},
   "source": [
    "c) Podeliti skup podataka na podatke za obučavanje i testiranje u razmeri 3:1. Za `random_state` postaviti `7`.\n",
    "Izvršiti standardizaciju podatka."
   ]
  },
  {
   "cell_type": "code",
   "execution_count": null,
   "metadata": {},
   "outputs": [],
   "source": []
  },
  {
   "cell_type": "markdown",
   "metadata": {},
   "source": [
    "d) Napraviti neuronsku mrežu sa propagacijom unapred koja se sastoji iz `100` u skrivenom sloju. Kao optimizator postaviti `Adam` a kao\n",
    "funkciju greške koristiti srednje-kvadratnu grešku."
   ]
  },
  {
   "cell_type": "code",
   "execution_count": null,
   "metadata": {},
   "outputs": [],
   "source": []
  },
  {
   "cell_type": "markdown",
   "metadata": {},
   "source": [
    "e) Izvršiti obučavanje mreže nad podacima za obučavanje. Kao podatke za validaciju postaviti podatke za testiranje. Za broj epoha\n",
    "postaviti `400`, `batch_size` postaviti na `64`. Kako Vam se ne bi prepunila konzola, preporučuje se da se postavi `verbose=0`.\n"
   ]
  },
  {
   "cell_type": "code",
   "execution_count": null,
   "metadata": {},
   "outputs": [],
   "source": []
  },
  {
   "cell_type": "markdown",
   "metadata": {},
   "source": [
    "f) Nacratati grafikon za funkcije greške tokom obučavanja za skup podataka za obučavanje i testiranje. Dodati legendu u kojoj je označeno\n",
    "koja funkcija pripada kojim podacima."
   ]
  },
  {
   "cell_type": "code",
   "execution_count": null,
   "metadata": {},
   "outputs": [],
   "source": []
  }
 ],
 "metadata": {
  "kernelspec": {
   "display_name": "Python 3",
   "language": "python",
   "name": "python3"
  },
  "language_info": {
   "codemirror_mode": {
    "name": "ipython",
    "version": 3
   },
   "file_extension": ".py",
   "mimetype": "text/x-python",
   "name": "python",
   "nbconvert_exporter": "python",
   "pygments_lexer": "ipython3",
   "version": "3.7.3"
  }
 },
 "nbformat": 4,
 "nbformat_minor": 2
}
