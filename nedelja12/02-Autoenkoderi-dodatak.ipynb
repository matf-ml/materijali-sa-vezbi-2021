{
 "cells": [
  {
   "cell_type": "markdown",
   "metadata": {},
   "source": [
    "# Autoenkoderi"
   ]
  },
  {
   "cell_type": "markdown",
   "metadata": {},
   "source": [
    "U ovoj svesci biće prikazano kako se autoenkoderi mogu kreirati korišćenjem objektne podrške Keras biblioteke."
   ]
  },
  {
   "cell_type": "code",
   "execution_count": 1,
   "metadata": {},
   "outputs": [],
   "source": [
    "import tensorflow as tf\n",
    "from tensorflow import keras"
   ]
  },
  {
   "cell_type": "code",
   "execution_count": 2,
   "metadata": {},
   "outputs": [],
   "source": [
    "from tensorflow.keras.models import Model\n",
    "from tensorflow.keras.layers import Activation, Dense, Input\n",
    "from tensorflow.keras.layers import Conv2D, Flatten\n",
    "from tensorflow.keras.layers import Reshape, Conv2DTranspose\n",
    "from tensorflow.keras import backend as K"
   ]
  },
  {
   "cell_type": "code",
   "execution_count": null,
   "metadata": {},
   "outputs": [],
   "source": []
  },
  {
   "cell_type": "markdown",
   "metadata": {},
   "source": [
    "Specifični model dobija se nasleđivanjem `Model` objekta biblioteke Keras. Slojevi koje model objedinjuje se kreiraju u konstruktorskoj metodi `__init__`, a propagacija unapred kroz mrežu se definiše metodom `call`. "
   ]
  },
  {
   "cell_type": "markdown",
   "metadata": {},
   "source": [
    "Model koji ćemo kreirati odgovara autoenkoderu konstruisanom u prethodnom primeru. "
   ]
  },
  {
   "cell_type": "code",
   "execution_count": 3,
   "metadata": {},
   "outputs": [],
   "source": [
    "class Autoencoder(Model):\n",
    "    def __init__(self, latent_dim, kernel_size, layer_filters):\n",
    "        super(Autoencoder, self).__init__()\n",
    "        \n",
    "        self.image_size = 28\n",
    "        \n",
    "        self.latent_dim = latent_dim\n",
    "        self.kernel_size = kernel_size\n",
    "        self.layer_filters = layer_filters\n",
    "        \n",
    "        self.encoder = self.__create_encoder(self.image_size)\n",
    "        \n",
    "        self.decoder = self.__create_decoder(self.image_size)\n",
    "        \n",
    "    def __create_encoder(self, image_size):\n",
    "        input_shape = (image_size, image_size, 1)\n",
    "        inputs = Input(shape=input_shape, name='encoder_input')\n",
    "        x = inputs\n",
    "        for filters in self.layer_filters:\n",
    "            x = Conv2D(filters=filters,\n",
    "                   kernel_size=self.kernel_size,\n",
    "                   strides=2,\n",
    "                   activation='relu',\n",
    "                   padding='same')(x)\n",
    "        self.shape = K.int_shape(x)\n",
    "        x = Flatten()(x)\n",
    "        latent_outputs = Dense(latent_dim, name='latent_vector')(x)\n",
    "        \n",
    "        return Model(inputs=inputs, outputs=latent_outputs, name='encoder')\n",
    "        \n",
    "    def __create_decoder(self, image_size):\n",
    "        latent_inputs = Input(shape=(self.latent_dim,), name='decoder_input')\n",
    "        \n",
    "        shape = self.shape\n",
    "        x = Dense(shape[1] * shape[2] * shape[3])(latent_inputs)\n",
    "        x = Reshape((shape[1], shape[2], shape[3]))(x)\n",
    "        \n",
    "        for filters in self.layer_filters[::-1]:\n",
    "            x = Conv2DTranspose(filters=filters,\n",
    "                            kernel_size=self.kernel_size,\n",
    "                            strides=2,\n",
    "                            activation='relu',\n",
    "                            padding='same')(x)\n",
    "\n",
    "        x = Conv2DTranspose(filters=1,\n",
    "                    kernel_size=self.kernel_size,\n",
    "                    padding='same')(x)\n",
    "        \n",
    "        outputs = Activation('sigmoid', name='decoder_output')(x)\n",
    "\n",
    "        return Model(inputs=latent_inputs, outputs=outputs, name='decoder')\n",
    "        \n",
    "    def call(self, x):\n",
    "        encoded = self.encoder(x)\n",
    "        decoded = self.decoder(encoded)\n",
    "        return decoded"
   ]
  },
  {
   "cell_type": "code",
   "execution_count": 4,
   "metadata": {},
   "outputs": [],
   "source": [
    "latent_dim = 16\n",
    "kernel_size = 3\n",
    "layer_filters = [32, 64]"
   ]
  },
  {
   "cell_type": "code",
   "execution_count": 5,
   "metadata": {},
   "outputs": [],
   "source": [
    "autoencoder = Autoencoder(latent_dim, kernel_size, layer_filters)"
   ]
  },
  {
   "cell_type": "markdown",
   "metadata": {},
   "source": [
    "Samo kompajliranje modela, treniranje i testiranje mreže se sprovesti na uobičajen način tj. korišćenjem `compile`, `fit` i `predict` funkcija."
   ]
  },
  {
   "cell_type": "code",
   "execution_count": null,
   "metadata": {},
   "outputs": [],
   "source": []
  }
 ],
 "metadata": {
  "kernelspec": {
   "display_name": "Python 3",
   "language": "python",
   "name": "python3"
  },
  "language_info": {
   "codemirror_mode": {
    "name": "ipython",
    "version": 3
   },
   "file_extension": ".py",
   "mimetype": "text/x-python",
   "name": "python",
   "nbconvert_exporter": "python",
   "pygments_lexer": "ipython3",
   "version": "3.8.3"
  }
 },
 "nbformat": 4,
 "nbformat_minor": 4
}
