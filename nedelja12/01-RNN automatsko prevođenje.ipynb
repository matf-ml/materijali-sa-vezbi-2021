{
 "cells": [
  {
   "cell_type": "markdown",
   "metadata": {},
   "source": [
    "# Automatsko prevođenje"
   ]
  },
  {
   "cell_type": "markdown",
   "metadata": {},
   "source": [
    "Ovaj primer demonstrira korišćenje rekurentnih neuronskih mreža u zadatku automatskog prevođenja. Jezik sa kojeg se prevodi se često naziva izvorni jezik (engl. source language), a jezik na koji se prevodi ciljni jezik (engl. target language). Biće korišćen `sequence-to-sequence` pristup kojim se jedna rečenica izvornog jezika prevodi u rečenicu ciljnog jezika. Rečenice će se posmatrati kao sekvence karaktera, a kako ulazne i izlazne sekvence mogu biti proizvoljnih dužina reč je o `many-to-many` varijanti ove mreže. <img src='assets/many_to_many_v1.png' style='width: 500px'>"
   ]
  },
  {
   "cell_type": "markdown",
   "metadata": {},
   "source": [
    "Prvo ćemo učitati potrebne biblioteke."
   ]
  },
  {
   "cell_type": "code",
   "execution_count": 1,
   "metadata": {},
   "outputs": [],
   "source": [
    "import numpy as np\n",
    "from matplotlib import pyplot as plt"
   ]
  },
  {
   "cell_type": "code",
   "execution_count": 2,
   "metadata": {},
   "outputs": [],
   "source": [
    "import tensorflow as tf\n",
    "from tensorflow import keras"
   ]
  },
  {
   "cell_type": "code",
   "execution_count": 3,
   "metadata": {},
   "outputs": [],
   "source": [
    "from tensorflow.keras.models import Model\n",
    "from tensorflow.keras.layers import Input, LSTM, Dense"
   ]
  },
  {
   "cell_type": "code",
   "execution_count": null,
   "metadata": {},
   "outputs": [],
   "source": []
  },
  {
   "cell_type": "markdown",
   "metadata": {},
   "source": [
    "## Ideja algoritma"
   ]
  },
  {
   "cell_type": "markdown",
   "metadata": {},
   "source": [
    "Za učenje će se koristiti kompozicija mreža koja ima deo za kodiranje i deo za dekodiranje nalik slici. \n",
    "<img src='assets/encoder_decoder_words.png' style='width: 600px'>\n",
    "\n",
    "<span style='color: gray'> Napomena: Na slikama će mahom biti prikazani sistemi prevođenja koji funkcionišu na nivou reči. Da bismo smanjili dimenzionalnost problema, mi ćemo raditi sa sistemom prevođenja na nivou karaktera. Opisani i prikazani principi su fundamentalno isti za obe varijante. </span>"
   ]
  },
  {
   "cell_type": "markdown",
   "metadata": {},
   "source": [
    "Zadatak mreže za kodiranje ce biti da svakoj rečenici, niski karaktera izvornog jezika, pridruži odgovarajuću međureprezentaciju fiksne dužine. Zadatak mreže za dekodiranje će biti da na osnovu dobijene međureprezentacije generiše odgovarajuću rečenicu, nisku karaktera ciljnog jezika.\n",
    "\n",
    "Mreža za kodiranje i mreža za dekodiranje će se trenirati zajednički (engl. end-to-end) tako da maksimizuju verovatnoću predviđanja tačne rečenice.  \n",
    "\n",
    "Obe mreže će biti LSTM mreže zbog praćenja zavisnosti u ulazima. "
   ]
  },
  {
   "cell_type": "markdown",
   "metadata": {},
   "source": [
    "#### Koraci algoritma:\n",
    "\n",
    "1) Počećemo sa sekvencom izvornog jezika i njoj odgovarajućom sekvencom izlaznog jezika. \n",
    "\n",
    "2) Deo za kodiranje će transformisati sekvencu izvornog jezika u vektor stanja i aktivacija koji će predstavljati međureprezentaciju rečenice. Izlazi mreže neće biti interesantni. \n",
    "\n",
    "3) Deo za dekodiranje će biti treniran tako da uči jezički model ciljnog jezika. Jezički model za dati ulazni karakter generiše vektor verovatnoća narednog karaktera. Ovaj model se uči tako što se mreži prosleđuje ulaz oblika $<start\\ sequence>c_1c_2...c_k$ i zahteva izlaz oblika $c_1c_2...c_k<end\\ sequence>$ (tzv. teacher forcing). Pocetno stanje ove mreže odgovara međureprezentaciji koju je generisao deo za kodiranje, a ulaz je token koji predstavlja početak sekvence. Treniranjem, dekoder uči da generiše $targets[t+1...]$ za dato $targets[...t]$ i početno stanje.\n",
    "<img src='assets/seq2seq_training.png'>"
   ]
  },
  {
   "cell_type": "code",
   "execution_count": null,
   "metadata": {},
   "outputs": [],
   "source": []
  },
  {
   "cell_type": "markdown",
   "metadata": {},
   "source": [
    "## Priprema podataka"
   ]
  },
  {
   "cell_type": "markdown",
   "metadata": {},
   "source": [
    "U primeru ćemo koristi englesko-francuski skup podataka koji sadrži rečenice na engleskom jeziku i njihove prevode na francuski jezik. Skup se može preuzeti sa [ove](http://www.manythings.org/anki/) adrese pod imenom `French - English fra-eng.zip (175623)`. "
   ]
  },
  {
   "cell_type": "code",
   "execution_count": 4,
   "metadata": {},
   "outputs": [],
   "source": [
    "# recenice izvornog jezika\n",
    "input_texts = []\n",
    "\n",
    "# skup karaktera izvornog jezika\n",
    "input_characters = set()\n",
    "\n",
    "# recenice ciljnog jezika\n",
    "target_texts = []\n",
    "\n",
    "# skup karaktera ciljnog jezika\n",
    "target_characters = set()"
   ]
  },
  {
   "cell_type": "code",
   "execution_count": null,
   "metadata": {},
   "outputs": [],
   "source": []
  },
  {
   "cell_type": "markdown",
   "metadata": {},
   "source": [
    "Potom ćemo učitati rečenice preuzetog skupa podataka."
   ]
  },
  {
   "cell_type": "code",
   "execution_count": 5,
   "metadata": {},
   "outputs": [],
   "source": [
    "data_path = 'data/fra-eng/fra.txt'"
   ]
  },
  {
   "cell_type": "code",
   "execution_count": 6,
   "metadata": {},
   "outputs": [],
   "source": [
    "with open(data_path, 'r', encoding='utf-8') as f:\n",
    "    lines = f.read().split('\\n')"
   ]
  },
  {
   "cell_type": "code",
   "execution_count": 7,
   "metadata": {},
   "outputs": [
    {
     "name": "stdout",
     "output_type": "stream",
     "text": [
      "Broj raspolozivih recenica:  154884\n"
     ]
    }
   ],
   "source": [
    "number_of_sentence_pairs = len(lines)\n",
    "print ('Broj raspolozivih recenica: ', number_of_sentence_pairs)"
   ]
  },
  {
   "cell_type": "markdown",
   "metadata": {},
   "source": [
    "Jedna linija ovako pročitanog fajla je oblika `rečenica_na_engleskom\\t rečenica_na_francuskom`."
   ]
  },
  {
   "cell_type": "code",
   "execution_count": 8,
   "metadata": {},
   "outputs": [
    {
     "data": {
      "text/plain": [
       "'Hang on!\\tAttends un peu !'"
      ]
     },
     "execution_count": 8,
     "metadata": {},
     "output_type": "execute_result"
    }
   ],
   "source": [
    "lines[120]"
   ]
  },
  {
   "cell_type": "markdown",
   "metadata": {},
   "source": [
    "Zbog računske zahtevnosti, za treniranje ćemo odabrati samo jedan deo rečenica npr. prvih 10000."
   ]
  },
  {
   "cell_type": "code",
   "execution_count": 9,
   "metadata": {},
   "outputs": [],
   "source": [
    "number_of_samples = 10000  "
   ]
  },
  {
   "cell_type": "code",
   "execution_count": null,
   "metadata": {},
   "outputs": [],
   "source": []
  },
  {
   "cell_type": "markdown",
   "metadata": {},
   "source": [
    "Sledećim fragmentom koda se vrši izdvajanje rečenica izvornog i ciljnog jezika, kao i kreiranje odgovarajućih skupova karaktera."
   ]
  },
  {
   "cell_type": "code",
   "execution_count": 10,
   "metadata": {},
   "outputs": [],
   "source": [
    "# za svaku recenicu izdvojenog podskupa\n",
    "for line in lines[: min(number_of_samples, number_of_sentence_pairs - 1)]:\n",
    "    \n",
    "    # izdvajamo recenice izvornog i ciljnog jezika\n",
    "    input_text, target_text = line.split('\\t')\n",
    "    \n",
    "    # svakoj recenici ciljnog jezika pridruzicemo \"tab\" kao \"start sequence\" karakter \n",
    "    # i \"new line\" kao \"end sequence\" karakter\n",
    "    target_text = '\\t' + target_text + '\\n'\n",
    "   \n",
    "    # dodajemo recenice u odgovarajuce skupove\n",
    "    input_texts.append(input_text)\n",
    "    target_texts.append(target_text)\n",
    "    \n",
    "    # svaki karakter izvornog jezika cemo dodati odgovarajucem skupu karaktera\n",
    "    for char in input_text:\n",
    "        if char not in input_characters:\n",
    "            input_characters.add(char)\n",
    "            \n",
    "    # svaki karakter ciljnog jezika cemo dodati odgovarajucem skupu karaktera\n",
    "    for char in target_text:\n",
    "        if char not in target_characters:\n",
    "            target_characters.add(char)"
   ]
  },
  {
   "cell_type": "code",
   "execution_count": null,
   "metadata": {},
   "outputs": [],
   "source": []
  },
  {
   "cell_type": "markdown",
   "metadata": {},
   "source": [
    "Odredićemo i dužinu najduže rečenice izvornog tj. ciljnog jezika."
   ]
  },
  {
   "cell_type": "code",
   "execution_count": 11,
   "metadata": {},
   "outputs": [],
   "source": [
    "max_encoder_seq_length = max([len(txt) for txt in input_texts])\n",
    "max_decoder_seq_length = max([len(txt) for txt in target_texts])"
   ]
  },
  {
   "cell_type": "code",
   "execution_count": 12,
   "metadata": {},
   "outputs": [
    {
     "name": "stdout",
     "output_type": "stream",
     "text": [
      "Maksimalna duzina ulazne recenice:  16\n",
      "Maksimalna duzina ciljne recenice:  59\n"
     ]
    }
   ],
   "source": [
    "print ('Maksimalna duzina ulazne recenice: ', max_encoder_seq_length)\n",
    "print ('Maksimalna duzina ciljne recenice: ', max_decoder_seq_length)"
   ]
  },
  {
   "cell_type": "code",
   "execution_count": null,
   "metadata": {},
   "outputs": [],
   "source": []
  },
  {
   "cell_type": "markdown",
   "metadata": {},
   "source": [
    "Dalje, sortiraćemo alfabetski skupove karaktera."
   ]
  },
  {
   "cell_type": "code",
   "execution_count": 13,
   "metadata": {},
   "outputs": [],
   "source": [
    "input_characters = sorted(list(input_characters))\n",
    "target_characters = sorted(list(target_characters))"
   ]
  },
  {
   "cell_type": "code",
   "execution_count": 14,
   "metadata": {},
   "outputs": [
    {
     "name": "stdout",
     "output_type": "stream",
     "text": [
      "Karakeri izvornog jezika:  [' ', '!', '$', '%', '&', \"'\", ',', '-', '.', '0', '1', '2', '3', '4', '5', '6', '7', '8', '9', ':', '?', 'A', 'B', 'C', 'D', 'E', 'F', 'G', 'H', 'I', 'J', 'K', 'L', 'M', 'N', 'O', 'P', 'Q', 'R', 'S', 'T', 'U', 'V', 'W', 'Y', 'a', 'b', 'c', 'd', 'e', 'f', 'g', 'h', 'i', 'j', 'k', 'l', 'm', 'n', 'o', 'p', 'q', 'r', 's', 't', 'u', 'v', 'w', 'x', 'y', 'z']\n",
      "Karakteri ciljnog jezika:  ['\\t', '\\n', ' ', '!', '$', '%', '&', \"'\", '(', ')', ',', '-', '.', '0', '1', '3', '5', '6', '8', '9', ':', '?', 'A', 'B', 'C', 'D', 'E', 'F', 'G', 'H', 'I', 'J', 'K', 'L', 'M', 'N', 'O', 'P', 'Q', 'R', 'S', 'T', 'U', 'V', 'Y', 'a', 'b', 'c', 'd', 'e', 'f', 'g', 'h', 'i', 'j', 'k', 'l', 'm', 'n', 'o', 'p', 'q', 'r', 's', 't', 'u', 'v', 'w', 'x', 'y', 'z', '\\xa0', '«', '»', 'À', 'Ç', 'É', 'Ê', 'à', 'â', 'ç', 'è', 'é', 'ê', 'ë', 'î', 'ï', 'ô', 'ù', 'û', 'œ', '\\u2009', '’', '\\u202f']\n"
     ]
    }
   ],
   "source": [
    "print ('Karakeri izvornog jezika: ', input_characters)\n",
    "print ('Karakteri ciljnog jezika: ', target_characters)"
   ]
  },
  {
   "cell_type": "code",
   "execution_count": null,
   "metadata": {},
   "outputs": [],
   "source": []
  },
  {
   "cell_type": "markdown",
   "metadata": {},
   "source": [
    "Dalje ćemo odrediti broj različitih karaktera sa kojima radimo i u izvornom i ciljnom jeziku."
   ]
  },
  {
   "cell_type": "code",
   "execution_count": 15,
   "metadata": {},
   "outputs": [],
   "source": [
    "num_encoder_tokens = len(input_characters)\n",
    "num_decoder_tokens = len(target_characters)"
   ]
  },
  {
   "cell_type": "code",
   "execution_count": 16,
   "metadata": {},
   "outputs": [
    {
     "name": "stdout",
     "output_type": "stream",
     "text": [
      "Broj karaktera izvornog jezika:  71\n",
      "Broj karaktera ciljnog jezika:  94\n"
     ]
    }
   ],
   "source": [
    "print ('Broj karaktera izvornog jezika: ', num_encoder_tokens)\n",
    "print ('Broj karaktera ciljnog jezika: ', num_decoder_tokens)"
   ]
  },
  {
   "cell_type": "code",
   "execution_count": null,
   "metadata": {},
   "outputs": [],
   "source": []
  },
  {
   "cell_type": "markdown",
   "metadata": {},
   "source": [
    "Formiraćemo rečnike koji preslikavaju karaktere u odgovarajuće numeričke vrednosti."
   ]
  },
  {
   "cell_type": "code",
   "execution_count": 17,
   "metadata": {},
   "outputs": [],
   "source": [
    "input_token_index = dict([(char, i) for i, char in enumerate(input_characters)])\n",
    "target_token_index = dict([(char, i) for i, char in enumerate(target_characters)])"
   ]
  },
  {
   "cell_type": "markdown",
   "metadata": {},
   "source": [
    "Na primer, slovo 'a' engleskog jezika se prislikava u kod 45, dok se slovo 'Ç' francuskog jezika preslikava u kod 75. "
   ]
  },
  {
   "cell_type": "code",
   "execution_count": 18,
   "metadata": {},
   "outputs": [
    {
     "name": "stdout",
     "output_type": "stream",
     "text": [
      "45\n",
      "75\n"
     ]
    }
   ],
   "source": [
    "print (input_token_index['a'])\n",
    "print (target_token_index['Ç'])"
   ]
  },
  {
   "cell_type": "code",
   "execution_count": null,
   "metadata": {},
   "outputs": [],
   "source": []
  },
  {
   "cell_type": "markdown",
   "metadata": {},
   "source": [
    "## Kreiranje skupova za učenje"
   ]
  },
  {
   "cell_type": "markdown",
   "metadata": {},
   "source": [
    "Za učenje su nam potrebna tri skupa: skup koji kodira rečenice izvornog jezika (encoder_input_data) koji je nephodan za obučavanje mreže za kodiranje, i dva skupa koja će biti korišćena od strane mreže za dekodiranje (decoder_input_data i decoder_target_data) kojim će se učiti jezički model ciljnog jezika. \n",
    "\n",
    "Ovi skupovi ce biti prikazani kao 3D tenzori: svakoj rečenici će biti pridružen niz brojeva koji odgovaraju pozicijama karaktera u skupu karaktera, a zatim će se pojedinačni karakteri kodirati odgovarajućim `one-hot` reprezentacijama. Prva dimenzija će predstavljati broj rečenica sa kojima se radi, druga maksimalni broj karaktera koji se može naći u rečenici, a treća broj karaktera kojim se raspolaže u jeziku. "
   ]
  },
  {
   "cell_type": "code",
   "execution_count": 19,
   "metadata": {},
   "outputs": [],
   "source": [
    "encoder_input_data = np.zeros((len(input_texts), max_encoder_seq_length, num_encoder_tokens), dtype='float32')\n",
    "decoder_input_data = np.zeros((len(input_texts), max_decoder_seq_length, num_decoder_tokens), dtype='float32')\n",
    "decoder_target_data = np.zeros((len(input_texts), max_decoder_seq_length, num_decoder_tokens),dtype='float32')"
   ]
  },
  {
   "cell_type": "code",
   "execution_count": 20,
   "metadata": {},
   "outputs": [],
   "source": [
    "for i, (input_text, target_text) in enumerate(zip(input_texts, target_texts)):\n",
    "    \n",
    "    # odredjujemo one-hot reprezentaciju recenice izvornog jezika \n",
    "    for t, char in enumerate(input_text):\n",
    "        encoder_input_data[i, t, input_token_index[char]] = 1.\n",
    "        \n",
    "    # odredjujemo one-hot reprezentacije recenice ciljnog jezika\n",
    "    # recenice koja se prosledju kao ulaz i izlaz dekoderu su pomerene za jedan karakter \n",
    "    for t, char in enumerate(target_text):\n",
    "        decoder_input_data[i, t, target_token_index[char]] = 1.\n",
    "        if t > 0:\n",
    "            decoder_target_data[i, t - 1, target_token_index[char]] = 1."
   ]
  },
  {
   "cell_type": "code",
   "execution_count": 21,
   "metadata": {},
   "outputs": [
    {
     "data": {
      "text/plain": [
       "(10000, 16, 71)"
      ]
     },
     "execution_count": 21,
     "metadata": {},
     "output_type": "execute_result"
    }
   ],
   "source": [
    "encoder_input_data.shape"
   ]
  },
  {
   "cell_type": "code",
   "execution_count": 22,
   "metadata": {},
   "outputs": [
    {
     "data": {
      "text/plain": [
       "(10000, 59, 94)"
      ]
     },
     "execution_count": 22,
     "metadata": {},
     "output_type": "execute_result"
    }
   ],
   "source": [
    "decoder_input_data.shape"
   ]
  },
  {
   "cell_type": "code",
   "execution_count": 23,
   "metadata": {},
   "outputs": [
    {
     "data": {
      "text/plain": [
       "(10000, 59, 94)"
      ]
     },
     "execution_count": 23,
     "metadata": {},
     "output_type": "execute_result"
    }
   ],
   "source": [
    "decoder_target_data.shape"
   ]
  },
  {
   "cell_type": "code",
   "execution_count": null,
   "metadata": {},
   "outputs": [],
   "source": []
  },
  {
   "cell_type": "markdown",
   "metadata": {},
   "source": [
    "## Mreža"
   ]
  },
  {
   "cell_type": "markdown",
   "metadata": {},
   "source": [
    "Model mreže sa kojim ćemo raditi nije sekvencijalni. Sekvencijalni modeli pretpostavljaju da mreža ima tačno jedan ulaz i tačno jedan izlaz i da se između nalaze uvezani slojevi. Mreža koja će se koristi u automatskom prevođenju zajednički uči i koder i dekoder sa svojim ulazima. \n",
    "\n",
    "Praksa je da se u ovakvim slučajevima, kada mreža nije sekvencijalna, koristi funkcionalni API Keras biblioteke. "
   ]
  },
  {
   "cell_type": "markdown",
   "metadata": {},
   "source": [
    "### Mreža za kodiranje"
   ]
  },
  {
   "cell_type": "code",
   "execution_count": 24,
   "metadata": {},
   "outputs": [],
   "source": [
    "# duzina medjureprezentacije recenice izvornog jezika \n",
    "# u literaturi se ovo zove i latentna dimenzija dela za kodiranje\n",
    "latent_dim = 256  \n",
    "\n",
    "# ulazni tenzor: \n",
    "encoder_inputs = Input(shape=(None, num_encoder_tokens), name='encoder_inputs')\n",
    "\n",
    "# LSTM sloj: broj LSTM celija u sloju odgovara duzini medjureprezentacije recenice izvornog jezika \n",
    "encoder_lstm = LSTM(latent_dim, return_state=True, name='encoder_outputs')\n",
    "\n",
    "# na izlazu LSTM sloja ce se naci samo poslednji rezultat, poslednja vrednost aktivacije (skrivenog stanja) i poslednja vrednost stanja  \n",
    "encoder_outputs, state_h, state_c = encoder_lstm(encoder_inputs)\n",
    "\n",
    "# za dalji rad bice potrebne samo vrednosti aktivacija i stanje mreze - one ce sluziti kao kontekst za prevodjenje\n",
    "encoder_states = [state_h, state_c]"
   ]
  },
  {
   "cell_type": "code",
   "execution_count": null,
   "metadata": {},
   "outputs": [],
   "source": []
  },
  {
   "cell_type": "markdown",
   "metadata": {},
   "source": [
    "### Mreža za dekodiranje"
   ]
  },
  {
   "cell_type": "code",
   "execution_count": 25,
   "metadata": {},
   "outputs": [],
   "source": [
    "# ulazni tenzor\n",
    "decoder_inputs = Input(shape=(None, num_decoder_tokens), name='decoder_inputs')\n",
    "\n",
    "# LSTM sloj: broj LSTM celija u sloju odgovara duzini medjureprezentacije recenice dela za kodiranje \n",
    "# ovaj sloj ce vratiti izlaz svih pojedinacnih ulaza, vrednosti njihovih aktivacija i stanja \n",
    "# vrednosti stanja necemo koristiti u procesu treniranja modela, ali cemo ih koristiti u delu vezanom za zakljucivanje\n",
    "decoder_lstm = LSTM(latent_dim, return_sequences=True, return_state=True, name='decoder_outputs')\n",
    "\n",
    "# prilikom kreiranje sloja, za inicijalno stanje LSTM sloja se koristi medjureprezentacija dobijena od strane dela za kodiranje \n",
    "decoder_outputs, _, _ = decoder_lstm(decoder_inputs, initial_state=encoder_states)\n",
    "\n",
    "# kako dekoder koristimo za predikciju verovatnoca pojedinacnih karaktera, dodajemo gusti sloj \n",
    "# koji ima onoliko celija koliko ima karaktera u ciljnom jeziku; kao aktivaciju koristimo softmax\n",
    "decoder_dense = Dense(num_decoder_tokens, activation='softmax', name='softmax')\n",
    "\n",
    "# izlazni tenzor\n",
    "decoder_outputs = decoder_dense(decoder_outputs)"
   ]
  },
  {
   "cell_type": "code",
   "execution_count": null,
   "metadata": {},
   "outputs": [],
   "source": []
  },
  {
   "cell_type": "markdown",
   "metadata": {},
   "source": [
    "### Konačni model"
   ]
  },
  {
   "cell_type": "code",
   "execution_count": 26,
   "metadata": {},
   "outputs": [],
   "source": [
    "# model ocekuje zadavanje ulaznih tenzora i izlazne transformacije\n",
    "model = Model([encoder_inputs, decoder_inputs], decoder_outputs)"
   ]
  },
  {
   "cell_type": "code",
   "execution_count": 27,
   "metadata": {},
   "outputs": [],
   "source": [
    "# model.summary(line_length=220)"
   ]
  },
  {
   "cell_type": "markdown",
   "metadata": {},
   "source": [
    "Možemo prikazati i u formi grafa kako će model funkcionisati. "
   ]
  },
  {
   "cell_type": "code",
   "execution_count": 28,
   "metadata": {},
   "outputs": [
    {
     "data": {
      "image/png": "[encoded data removed]",
      "text/plain": [
       "<IPython.core.display.Image object>"
      ]
     },
     "execution_count": 28,
     "metadata": {},
     "output_type": "execute_result"
    }
   ],
   "source": [
    "keras.utils.plot_model(model)"
   ]
  },
  {
   "cell_type": "code",
   "execution_count": null,
   "metadata": {},
   "outputs": [],
   "source": []
  },
  {
   "cell_type": "markdown",
   "metadata": {},
   "source": [
    "## Treniranje i evaluacija"
   ]
  },
  {
   "cell_type": "markdown",
   "metadata": {},
   "source": [
    "Mreža će koristiti `RMSprop` optimizator i kategoričku unakrsnu entropiju kao funkciju gubitka. "
   ]
  },
  {
   "cell_type": "code",
   "execution_count": 29,
   "metadata": {},
   "outputs": [],
   "source": [
    "model.compile(optimizer='rmsprop', loss='categorical_crossentropy', metrics=['acc'])"
   ]
  },
  {
   "cell_type": "markdown",
   "metadata": {},
   "source": [
    "Mrežu ćemo trenirati paketićima veličine 64 u 20 epoha. Broj epoha je poželjno da bude duži, ali se ovde ograničavamo zbog vremenske zahevnosti. 20% skupa podataka ćemo iskoristiti za validaciju."
   ]
  },
  {
   "cell_type": "code",
   "execution_count": 30,
   "metadata": {},
   "outputs": [],
   "source": [
    "batch_size = 64\n",
    "epochs = 20"
   ]
  },
  {
   "cell_type": "markdown",
   "metadata": {},
   "source": [
    "Treniranje ove mreže traje nešto duže (oko pola sata)."
   ]
  },
  {
   "cell_type": "code",
   "execution_count": 31,
   "metadata": {},
   "outputs": [
    {
     "name": "stdout",
     "output_type": "stream",
     "text": [
      "Epoch 1/20\n",
      "125/125 [==============================] - 46s 366ms/step - loss: 0.9259 - acc: 0.0662 - val_loss: 1.0033 - val_acc: 0.0825\n",
      "Epoch 2/20\n",
      "125/125 [==============================] - 42s 338ms/step - loss: 0.7485 - acc: 0.1136 - val_loss: 0.8159 - val_acc: 0.1312\n",
      "Epoch 3/20\n",
      "125/125 [==============================] - 47s 375ms/step - loss: 0.6340 - acc: 0.1382 - val_loss: 0.7180 - val_acc: 0.1527\n",
      "Epoch 4/20\n",
      "125/125 [==============================] - 42s 337ms/step - loss: 0.5734 - acc: 0.1530 - val_loss: 0.6610 - val_acc: 0.1693\n",
      "Epoch 5/20\n",
      "125/125 [==============================] - 46s 364ms/step - loss: 0.5296 - acc: 0.1658 - val_loss: 0.6164 - val_acc: 0.1842\n",
      "Epoch 6/20\n",
      "125/125 [==============================] - 44s 355ms/step - loss: 0.4973 - acc: 0.1742 - val_loss: 0.5935 - val_acc: 0.1918\n",
      "Epoch 7/20\n",
      "125/125 [==============================] - 49s 389ms/step - loss: 0.4710 - acc: 0.1813 - val_loss: 0.5738 - val_acc: 0.1958\n",
      "Epoch 8/20\n",
      "125/125 [==============================] - 47s 374ms/step - loss: 0.4482 - acc: 0.1871 - val_loss: 0.5696 - val_acc: 0.1967\n",
      "Epoch 9/20\n",
      "125/125 [==============================] - 49s 389ms/step - loss: 0.4285 - acc: 0.1926 - val_loss: 0.5412 - val_acc: 0.2038\n",
      "Epoch 10/20\n",
      "125/125 [==============================] - 42s 336ms/step - loss: 0.4108 - acc: 0.1974 - val_loss: 0.5321 - val_acc: 0.2072\n",
      "Epoch 11/20\n",
      "125/125 [==============================] - 43s 341ms/step - loss: 0.3942 - acc: 0.2021 - val_loss: 0.5163 - val_acc: 0.2125\n",
      "Epoch 12/20\n",
      "125/125 [==============================] - 45s 363ms/step - loss: 0.3795 - acc: 0.2065 - val_loss: 0.5084 - val_acc: 0.2156\n",
      "Epoch 13/20\n",
      "125/125 [==============================] - 44s 352ms/step - loss: 0.3660 - acc: 0.2104 - val_loss: 0.5050 - val_acc: 0.2155\n",
      "Epoch 14/20\n",
      "125/125 [==============================] - 50s 403ms/step - loss: 0.3534 - acc: 0.2143 - val_loss: 0.4925 - val_acc: 0.2200\n",
      "Epoch 15/20\n",
      "125/125 [==============================] - 55s 439ms/step - loss: 0.3414 - acc: 0.2177 - val_loss: 0.4898 - val_acc: 0.2196\n",
      "Epoch 16/20\n",
      "125/125 [==============================] - 45s 357ms/step - loss: 0.3300 - acc: 0.2211 - val_loss: 0.4906 - val_acc: 0.2208\n",
      "Epoch 17/20\n",
      "125/125 [==============================] - 49s 396ms/step - loss: 0.3189 - acc: 0.2244 - val_loss: 0.4838 - val_acc: 0.2228\n",
      "Epoch 18/20\n",
      "125/125 [==============================] - 50s 397ms/step - loss: 0.3090 - acc: 0.2274 - val_loss: 0.4848 - val_acc: 0.2229\n",
      "Epoch 19/20\n",
      "125/125 [==============================] - 51s 405ms/step - loss: 0.2992 - acc: 0.2302 - val_loss: 0.4792 - val_acc: 0.2256\n",
      "Epoch 20/20\n",
      "125/125 [==============================] - 49s 391ms/step - loss: 0.2897 - acc: 0.2329 - val_loss: 0.4814 - val_acc: 0.2260\n"
     ]
    }
   ],
   "source": [
    "history = model.fit([encoder_input_data, decoder_input_data], decoder_target_data, batch_size=batch_size, epochs=epochs, validation_split=0.2, verbose = 1)"
   ]
  },
  {
   "cell_type": "code",
   "execution_count": null,
   "metadata": {},
   "outputs": [],
   "source": []
  },
  {
   "cell_type": "markdown",
   "metadata": {},
   "source": [
    "Uspešnost treniranja ćemo pratiti kroz grafike funkcija gubitka i tačnosti."
   ]
  },
  {
   "cell_type": "code",
   "execution_count": 32,
   "metadata": {},
   "outputs": [
    {
     "data": {
      "text/plain": [
       "<matplotlib.legend.Legend at 0x15801abb0>"
      ]
     },
     "execution_count": 32,
     "metadata": {},
     "output_type": "execute_result"
    },
    {
     "data": {
      "image/png": "[encoded data removed]",
      "text/plain": [
       "<Figure size 432x288 with 1 Axes>"
      ]
     },
     "metadata": {
      "needs_background": "light"
     },
     "output_type": "display_data"
    }
   ],
   "source": [
    "epochs_vals = range(0, epochs)\n",
    "losses=history.history['loss']\n",
    "val_losses=history.history['val_loss']\n",
    "plt.title('Losses')\n",
    "plt.plot(epochs_vals, losses, label='train loss')\n",
    "plt.plot(epochs_vals, val_losses, label='validation loss')\n",
    "plt.legend(loc='best')"
   ]
  },
  {
   "cell_type": "code",
   "execution_count": 33,
   "metadata": {},
   "outputs": [
    {
     "data": {
      "text/plain": [
       "<matplotlib.legend.Legend at 0x15801a850>"
      ]
     },
     "execution_count": 33,
     "metadata": {},
     "output_type": "execute_result"
    },
    {
     "data": {
      "image/png": "[encoded data removed]",
      "text/plain": [
       "<Figure size 432x288 with 1 Axes>"
      ]
     },
     "metadata": {
      "needs_background": "light"
     },
     "output_type": "display_data"
    }
   ],
   "source": [
    "epochs_vals = range(0, epochs)\n",
    "acc=history.history['acc']\n",
    "val_acc=history.history['val_acc']\n",
    "plt.title('Accuracy')\n",
    "plt.plot(epochs_vals, acc, label='train accuracy')\n",
    "plt.plot(epochs_vals, val_acc, label='validation accuracy')\n",
    "plt.legend(loc='best')"
   ]
  },
  {
   "cell_type": "code",
   "execution_count": null,
   "metadata": {},
   "outputs": [],
   "source": []
  },
  {
   "cell_type": "markdown",
   "metadata": {},
   "source": [
    "Na ovaj način istrenirani model je sačuvan u folderu `models` pod imenom `s2s_2021.h5`. Može se učitati za dalje praćenje sadržaja. "
   ]
  },
  {
   "cell_type": "code",
   "execution_count": 34,
   "metadata": {},
   "outputs": [],
   "source": [
    "# model.save('models/s2s_2021.h5')\n",
    "model = keras.models.load_model('models/s2s_2021.h5')"
   ]
  },
  {
   "cell_type": "code",
   "execution_count": null,
   "metadata": {},
   "outputs": [],
   "source": []
  },
  {
   "cell_type": "markdown",
   "metadata": {},
   "source": [
    "## Evaluacija modela"
   ]
  },
  {
   "cell_type": "markdown",
   "metadata": {},
   "source": [
    "Da bi se evaluirao ovako dobijeni model, potrebno je za rečenice skupa za testiranje generisati odgovarajuće prevode. \n",
    "Koraci koje ćemo pratiti će biti sledeći:\n",
    "\n",
    "1) ulazna rečenica se prvo prevede u odgovarajuću međureprezentaciju tako što se propusti kroz deo za kodiranje\n",
    "\n",
    "2) na osnovu ovako dobijene reprezentacije i \"start sequence\" ulaza, puštaćemo da dekoder generiše rečenicu ciljnog jezika. Generisanje rečenice se zaustavlja ili kada se generiše \"end sequence\" karakter ili kada se dostigne maksimalna dozvoljena dužina. Proces generisanja se sastoji u praćenju pojedinačnih izlaza i njihovom prosleđivanju na ulazu sledećim iteracijama. \n",
    "<img src='assets/seq2seq_evaluation.png'>"
   ]
  },
  {
   "cell_type": "code",
   "execution_count": null,
   "metadata": {},
   "outputs": [],
   "source": []
  },
  {
   "cell_type": "markdown",
   "metadata": {},
   "source": [
    "Prvo ćemo kreirati deo za kodiranje."
   ]
  },
  {
   "cell_type": "code",
   "execution_count": 36,
   "metadata": {},
   "outputs": [
    {
     "name": "stdout",
     "output_type": "stream",
     "text": [
      "Model: \"functional_3\"\n",
      "______________________________________________________________________________________________________________\n",
      "Layer (type)                                     Output Shape                                Param #          \n",
      "==============================================================================================================\n",
      "encoder_inputs (InputLayer)                      [(None, None, 71)]                          0                \n",
      "______________________________________________________________________________________________________________\n",
      "encoder_outputs (LSTM)                           [(None, 256), (None, 256), (None, 256)]     335872           \n",
      "==============================================================================================================\n",
      "Total params: 335,872\n",
      "Trainable params: 335,872\n",
      "Non-trainable params: 0\n",
      "______________________________________________________________________________________________________________\n"
     ]
    }
   ],
   "source": [
    "# Model koji odgovara delu za kodiranje\n",
    "# nacin zadavanja je u skladu sa funkcionalnim API-jem Keras biblioteke pa se ocekuju ulazni i izlazni tenzor \n",
    "encoder_model = Model(encoder_inputs, encoder_states)\n",
    "\n",
    "encoder_model.summary(line_length=110)"
   ]
  },
  {
   "cell_type": "markdown",
   "metadata": {},
   "source": [
    "Potom ćemo kreirati deo za dekodiranje."
   ]
  },
  {
   "cell_type": "code",
   "execution_count": 37,
   "metadata": {},
   "outputs": [
    {
     "name": "stdout",
     "output_type": "stream",
     "text": [
      "Model: \"functional_5\"\n",
      "______________________________________________________________________________________________________________\n",
      "Layer (type)                        Output Shape            Param #      Connected to                         \n",
      "==============================================================================================================\n",
      "decoder_inputs (InputLayer)         [(None, None, 94)]      0                                                 \n",
      "______________________________________________________________________________________________________________\n",
      "input_1 (InputLayer)                [(None, 256)]           0                                                 \n",
      "______________________________________________________________________________________________________________\n",
      "input_2 (InputLayer)                [(None, 256)]           0                                                 \n",
      "______________________________________________________________________________________________________________\n",
      "decoder_outputs (LSTM)              [(None, None, 256), (No 359424       decoder_inputs[0][0]                 \n",
      "                                                                         input_1[0][0]                        \n",
      "                                                                         input_2[0][0]                        \n",
      "______________________________________________________________________________________________________________\n",
      "softmax (Dense)                     (None, None, 94)        24158        decoder_outputs[1][0]                \n",
      "==============================================================================================================\n",
      "Total params: 383,582\n",
      "Trainable params: 383,582\n",
      "Non-trainable params: 0\n",
      "______________________________________________________________________________________________________________\n"
     ]
    }
   ],
   "source": [
    "# tenzori koji predstavljaju pocetno stanje dekodera\n",
    "decoder_state_input_h = Input(shape=(latent_dim,))\n",
    "decoder_state_input_c = Input(shape=(latent_dim,))\n",
    "decoder_states_inputs = [decoder_state_input_h, decoder_state_input_c]\n",
    "\n",
    "# ulazni lstm sloj\n",
    "decoder_outputs, state_h, state_c = decoder_lstm(decoder_inputs, initial_state=decoder_states_inputs)\n",
    "decoder_states = [state_h, state_c]\n",
    "\n",
    "# izlazni sloj\n",
    "decoder_outputs = decoder_dense(decoder_outputs)\n",
    "\n",
    "# spajanje svih delova u model \n",
    "decoder_model = Model([decoder_inputs] + decoder_states_inputs, [decoder_outputs] + decoder_states)\n",
    "\n",
    "decoder_model.summary(line_length=110)"
   ]
  },
  {
   "cell_type": "code",
   "execution_count": null,
   "metadata": {},
   "outputs": [],
   "source": []
  },
  {
   "cell_type": "markdown",
   "metadata": {},
   "source": [
    "Zbog praćenja rezultata rada dekodera, biće nam potrebne i funkcije koje vraćaju vrednosti karaktera za zadate numeričke vrednosti koje odgovaraju pozicijama karaktera. "
   ]
  },
  {
   "cell_type": "code",
   "execution_count": 38,
   "metadata": {},
   "outputs": [],
   "source": [
    "reverse_input_char_index = dict( (i, char) for char, i in input_token_index.items())\n",
    "reverse_target_char_index = dict( (i, char) for char, i in target_token_index.items())"
   ]
  },
  {
   "cell_type": "code",
   "execution_count": 39,
   "metadata": {},
   "outputs": [
    {
     "name": "stdout",
     "output_type": "stream",
     "text": [
      "a\n",
      "Ç\n"
     ]
    }
   ],
   "source": [
    "print(reverse_input_char_index[45])\n",
    "print(reverse_target_char_index[75])"
   ]
  },
  {
   "cell_type": "markdown",
   "metadata": {},
   "source": [
    "Funkcija `decode_sequence` objedinjuje sve korake dekodiranja generisane sekvence. Zbog jednostavnosti implementacije, pretpostavka je da je veličina paketića za testiranje 1 (batch_size=1) tj. da se obrađuje jedna ulazna sekvenca i generiše jedna izlazna sekvenca. "
   ]
  },
  {
   "cell_type": "code",
   "execution_count": 40,
   "metadata": {},
   "outputs": [],
   "source": [
    "def decode_sequence(input_seq):\n",
    "\n",
    "    # ulazna sekvenca se propusta kroz deo za kodiranje\n",
    "    states_value = encoder_model.predict(input_seq)\n",
    "\n",
    "    # generise se vektor koji odgovara \"start sequence\" karakteru koji je u nasem slucaju tabulator\n",
    "    target_seq = np.zeros((1, 1, num_decoder_tokens))\n",
    "    target_seq[0, 0, target_token_index['\\t']] = 1.\n",
    "\n",
    "    # postavlja se indikator kojim se proverava da li je generisana izlazna recenica ili ne\n",
    "    stop_condition = False\n",
    "    \n",
    "    # izlazna recenica\n",
    "    decoded_sentence = ''\n",
    "    \n",
    "    \n",
    "    # sve dok se ne stigne do kraja recenice\n",
    "    while not stop_condition:\n",
    "        \n",
    "        # prati se izlaz mreze za dekodiranje: prosledjuje joj se ulazni karakter i trenutno stanje mreze\n",
    "        # u prvoj iteraciji trenutno stanje mreze odgovara izlazu dela za kodiranje\n",
    "        output_tokens, h, c = decoder_model.predict([target_seq] + states_value)\n",
    "\n",
    "        # na osnovu izlazne raspodele verovatnoca, odredjuje se karakter sa najvecom verovatnocom\n",
    "        # ovo je takozvana pohlepna tehnika (engl. greedy search) generisanja sekvence \n",
    "        # postoje i druge tehnike kojima se maksimizuje verovatnoca generisane sekvence poput bim pretrage (engl. beam search) \n",
    "        sampled_token_index = np.argmax(output_tokens[0, -1, :])\n",
    "        sampled_char = reverse_target_char_index[sampled_token_index]\n",
    "        \n",
    "        # izdvojeni karakter se nadovezuje na izlaznu recenicu\n",
    "        decoded_sentence += sampled_char\n",
    "\n",
    "        \n",
    "        # proverava se da li se stiglo do kraja recenice \n",
    "        # tj. da li se doslo do \"end sequence\" karaktera (znaka za novi red) ili maksimalne duzine izlaza\n",
    "        if (sampled_char == '\\n' or len(decoded_sentence) > max_decoder_seq_length):\n",
    "            stop_condition = True\n",
    "\n",
    "            \n",
    "        # pripreme za nerednu iteraciju:\n",
    "        \n",
    "        # odredjuje se naredni ulazni karakter - izlaz prethodne iteracije \n",
    "        target_seq = np.zeros((1, 1, num_decoder_tokens))\n",
    "        target_seq[0, 0, sampled_token_index] = 1.\n",
    "\n",
    "        # azuriraju se stanja mreze \n",
    "        states_value = [h, c]\n",
    "\n",
    "    return decoded_sentence"
   ]
  },
  {
   "cell_type": "code",
   "execution_count": null,
   "metadata": {},
   "outputs": [],
   "source": []
  },
  {
   "cell_type": "markdown",
   "metadata": {},
   "source": [
    "Sada ćemo na jednom skupu od 30tak rečenica testirati kako radi naučeni model. Koristićemo rečenice iz skupa za treniranje da bismo izbegli korake pripreme rečenica. U opštem slučaju bi bilo korektno koristiti rečenice nad kojima model nije obučavan."
   ]
  },
  {
   "cell_type": "code",
   "execution_count": 41,
   "metadata": {},
   "outputs": [
    {
     "name": "stdout",
     "output_type": "stream",
     "text": [
      "-\n",
      "Input sentence: Wait!\n",
      "Decoded sentence: Attendez !\n",
      "\n",
      "Humman translated sentence: \tAttendez !\n",
      "\n",
      "-\n",
      "Input sentence: Go on.\n",
      "Decoded sentence: Va chez moi.\n",
      "\n",
      "Humman translated sentence: \tPoursuis.\n",
      "\n",
      "-\n",
      "Input sentence: Go on.\n",
      "Decoded sentence: Va chez moi.\n",
      "\n",
      "Humman translated sentence: \tContinuez.\n",
      "\n",
      "-\n",
      "Input sentence: Go on.\n",
      "Decoded sentence: Va chez moi.\n",
      "\n",
      "Humman translated sentence: \tPoursuivez.\n",
      "\n",
      "-\n",
      "Input sentence: I see.\n",
      "Decoded sentence: Je me suis senti mort.\n",
      "\n",
      "Humman translated sentence: \tJe comprends.\n",
      "\n",
      "-\n",
      "Input sentence: I try.\n",
      "Decoded sentence: Je l'ai pas laissé.\n",
      "\n",
      "Humman translated sentence: \tJ'essaye.\n",
      "\n",
      "-\n",
      "Input sentence: I won!\n",
      "Decoded sentence: Je vous ai sauvée.\n",
      "\n",
      "Humman translated sentence: \tJ'ai gagné !\n",
      "\n",
      "-\n",
      "Input sentence: I won!\n",
      "Decoded sentence: Je vous ai sauvée.\n",
      "\n",
      "Humman translated sentence: \tJe l'ai emporté !\n",
      "\n",
      "-\n",
      "Input sentence: Oh no!\n",
      "Decoded sentence: Fais comme chatte !\n",
      "\n",
      "Humman translated sentence: \tOh non !\n",
      "\n",
      "-\n",
      "Input sentence: Attack!\n",
      "Decoded sentence: Attende !\n",
      "\n",
      "Humman translated sentence: \tAttaque !\n",
      "\n",
      "-\n",
      "Input sentence: Attack!\n",
      "Decoded sentence: Attende !\n",
      "\n",
      "Humman translated sentence: \tAttaquez !\n",
      "\n",
      "-\n",
      "Input sentence: Cheers!\n",
      "Decoded sentence: Attendez !\n",
      "\n",
      "Humman translated sentence: \tSanté !\n",
      "\n",
      "-\n",
      "Input sentence: Cheers!\n",
      "Decoded sentence: Attendez !\n",
      "\n",
      "Humman translated sentence: \tÀ votre santé !\n",
      "\n",
      "-\n",
      "Input sentence: Cheers!\n",
      "Decoded sentence: Attendez !\n",
      "\n",
      "Humman translated sentence: \tMerci !\n",
      "\n",
      "-\n",
      "Input sentence: Cheers!\n",
      "Decoded sentence: Attendez !\n",
      "\n",
      "Humman translated sentence: \tTchin-tchin !\n",
      "\n",
      "-\n",
      "Input sentence: Get up.\n",
      "Decoded sentence: Allez chercher ton blanten !\n",
      "\n",
      "Humman translated sentence: \tLève-toi.\n",
      "\n",
      "-\n",
      "Input sentence: Go now.\n",
      "Decoded sentence: Va de chercher tantenantes !\n",
      "\n",
      "Humman translated sentence: \tVa, maintenant.\n",
      "\n",
      "-\n",
      "Input sentence: Go now.\n",
      "Decoded sentence: Va de chercher tantenantes !\n",
      "\n",
      "Humman translated sentence: \tAllez-y maintenant.\n",
      "\n",
      "-\n",
      "Input sentence: Go now.\n",
      "Decoded sentence: Va de chercher tantenantes !\n",
      "\n",
      "Humman translated sentence: \tVas-y maintenant.\n",
      "\n",
      "-\n",
      "Input sentence: Got it!\n",
      "Decoded sentence: Attendez !\n",
      "\n",
      "Humman translated sentence: \tJ'ai pigé !\n",
      "\n",
      "-\n",
      "Input sentence: Got it!\n",
      "Decoded sentence: Attendez !\n",
      "\n",
      "Humman translated sentence: \tCompris !\n",
      "\n",
      "-\n",
      "Input sentence: Got it?\n",
      "Decoded sentence: Va charcher ?\n",
      "\n",
      "Humman translated sentence: \tPigé ?\n",
      "\n",
      "-\n",
      "Input sentence: Got it?\n",
      "Decoded sentence: Va charcher ?\n",
      "\n",
      "Humman translated sentence: \tCompris ?\n",
      "\n",
      "-\n",
      "Input sentence: Got it?\n",
      "Decoded sentence: Va charcher ?\n",
      "\n",
      "Humman translated sentence: \tT'as capté ?\n",
      "\n",
      "-\n",
      "Input sentence: Hop in.\n",
      "Decoded sentence: Restez allonnées !\n",
      "\n",
      "Humman translated sentence: \tMonte.\n",
      "\n",
      "-\n",
      "Input sentence: Hop in.\n",
      "Decoded sentence: Restez allonnées !\n",
      "\n",
      "Humman translated sentence: \tMontez.\n",
      "\n",
      "-\n",
      "Input sentence: Hug me.\n",
      "Decoded sentence: Prenez une boisse.\n",
      "\n",
      "Humman translated sentence: \tSerre-moi dans tes bras !\n",
      "\n",
      "-\n",
      "Input sentence: Hug me.\n",
      "Decoded sentence: Prenez une boisse.\n",
      "\n",
      "Humman translated sentence: \tSerrez-moi dans vos bras !\n",
      "\n",
      "-\n",
      "Input sentence: I fell.\n",
      "Decoded sentence: Je me sentis prêt.\n",
      "\n",
      "Humman translated sentence: \tJe suis tombée.\n",
      "\n",
      "-\n",
      "Input sentence: I fell.\n",
      "Decoded sentence: Je me sentis prêt.\n",
      "\n",
      "Humman translated sentence: \tJe suis tombé.\n",
      "\n"
     ]
    }
   ],
   "source": [
    "for seq_index in range(10, 40):\n",
    "    \n",
    "    # izdvajamo ulaznu recenicu iz skupa koji je koriscen za treniranje \n",
    "    input_seq = encoder_input_data[seq_index: seq_index + 1]\n",
    "    \n",
    "    # zatim pratimo njen prevod\n",
    "    decoded_sentence = decode_sequence(input_seq)\n",
    "    \n",
    "    # i ispisujemo dobijene rezultate\n",
    "    print('-')\n",
    "    print('Input sentence:', input_texts[seq_index])\n",
    "    print('Decoded sentence:', decoded_sentence)\n",
    "    print('Humman translated sentence:', target_texts[seq_index])"
   ]
  },
  {
   "cell_type": "markdown",
   "metadata": {},
   "source": [
    "Formalno, za evaluaciju sistema za prevođenje se koristi `BLUE` (aktronim od *bilingual evaluation understudy*) mera. Svakoj od prevedenih rečenica se pridružuje skor sa vrednošću iz intervala [0, 1], a zatim se dobijene vrednosti uproseče da bi se dobila konačna ocena sistema. Na nivou pojedinačnih rečenica skorovi se izračunavaju tako što se prati broj preklapanja n-grama u rečenici prevedenoj od strane sistema i rečenici prevedenoj od strane profesionalnih prevodilaca. Ovako dobijeni skorovi se mogu otežati faktorima koji prate dužinu rečenica. "
   ]
  },
  {
   "cell_type": "markdown",
   "metadata": {},
   "source": [
    "<img src='assets/blue.png'>"
   ]
  },
  {
   "cell_type": "markdown",
   "metadata": {},
   "source": [
    "## Zadaci za vežbu:\n",
    "\n",
    "* Napraviti zaseban test skup na osnovu rečenica koje nisu iskorišćene i testirati model.\n",
    "* Eksperimentisati sa modelima koji koriste GRU ćelije. "
   ]
  },
  {
   "cell_type": "markdown",
   "metadata": {},
   "source": [
    "## Za istarživanje:"
   ]
  },
  {
   "cell_type": "markdown",
   "metadata": {},
   "source": [
    "* Referentni rad [Sequence to Sequence Learning with Neural Networks](https://arxiv.org/abs/1409.3215)  \n",
    "* Rad koji je prethodio ovoj ideji [Learning Phrase Representations using RNN Encoder-Decoder for Statistical Machine Translation](https://arxiv.org/abs/1406.1078) \n",
    "* [Razne primene generativnog karakterskog modela](http://karpathy.github.io/2015/05/21/rnn-effectiveness/)"
   ]
  },
  {
   "cell_type": "code",
   "execution_count": null,
   "metadata": {},
   "outputs": [],
   "source": []
  }
 ],
 "metadata": {
  "kernelspec": {
   "display_name": "Python 3",
   "language": "python",
   "name": "python3"
  },
  "language_info": {
   "codemirror_mode": {
    "name": "ipython",
    "version": 3
   },
   "file_extension": ".py",
   "mimetype": "text/x-python",
   "name": "python",
   "nbconvert_exporter": "python",
   "pygments_lexer": "ipython3",
   "version": "3.8.3"
  }
 },
 "nbformat": 4,
 "nbformat_minor": 2
}
